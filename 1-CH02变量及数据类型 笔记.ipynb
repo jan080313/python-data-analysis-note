{
 "cells": [
  {
   "cell_type": "code",
   "execution_count": 3,
   "metadata": {},
   "outputs": [
    {
     "name": "stdout",
     "output_type": "stream",
     "text": [
      "10 10.0\n",
      "<class 'int'> <class 'float'>\n"
     ]
    }
   ],
   "source": [
    "#Number数字分为：int整数,float浮点型\n",
    "\n",
    "x1=10\n",
    "x2=10.0\n",
    "print(x1,x2)\n",
    "print(type(x1),type(x2))"
   ]
  },
  {
   "cell_type": "code",
   "execution_count": 7,
   "metadata": {},
   "outputs": [
    {
     "name": "stdout",
     "output_type": "stream",
     "text": [
      "hello world\n",
      "hehe\n",
      "a\n",
      "b\n",
      "c\n",
      "\n",
      "<class 'str'>\n"
     ]
    }
   ],
   "source": [
    "x3='hello world'\n",
    "x4=\"hehe\"\n",
    "x5='''a\n",
    "b\n",
    "c\n",
    "'''\n",
    "print(x3)\n",
    "print(x4)\n",
    "print(x5)\n",
    "# 字符串  ''  \"\"    '''''' 三种 单引号 双引号 三引号\n",
    "print(type(x3))"
   ]
  },
  {
   "cell_type": "code",
   "execution_count": 12,
   "metadata": {},
   "outputs": [
    {
     "name": "stdout",
     "output_type": "stream",
     "text": [
      "True\n",
      "True\n",
      "False\n",
      "True\n"
     ]
    }
   ],
   "source": [
    "# bool 布尔型 \n",
    "\n",
    "a = True\n",
    "b = False\n",
    "print(a==1)   #True的值为1\n",
    "print(b==0)   #False的值为0\n",
    "print(2>3)\n",
    "print(3<5)"
   ]
  },
  {
   "cell_type": "code",
   "execution_count": 18,
   "metadata": {},
   "outputs": [
    {
     "name": "stdout",
     "output_type": "stream",
     "text": [
      "[1, 2, 3, 4, 5] <class 'list'>\n",
      "hello <class 'str'>\n"
     ]
    }
   ],
   "source": [
    "# List列表，支持字符，数字，字符串以包含列表（即嵌套），用[]标识，有序对象\n",
    "lst=[1,2,3,4,5]\n",
    "print(lst,type(lst))\n",
    "lst2=[1,2.5,'hello',[1,2,3]]\n",
    "print(lst2[2],type(lst2[2]))"
   ]
  },
  {
   "cell_type": "code",
   "execution_count": 25,
   "metadata": {},
   "outputs": [
    {
     "name": "stdout",
     "output_type": "stream",
     "text": [
      "[100, 2, 3, 4, 5]\n"
     ]
    }
   ],
   "source": [
    "# Tuple元祖，用（）标识，不能二次赋值，可以理解成不可变的列表（只读列表），有序对象\n",
    "tup=(1,2,3,4,5)\n",
    "lst=[1,2,3,4,5]\n",
    "lst[0]=100\n",
    "print(lst)\n",
    "#tup[0]=100"
   ]
  },
  {
   "cell_type": "code",
   "execution_count": 30,
   "metadata": {},
   "outputs": [
    {
     "name": "stdout",
     "output_type": "stream",
     "text": [
      "{'a': 100, 'b': 'hello'} <class 'dict'>\n"
     ]
    }
   ],
   "source": [
    "# Dict字典，用{}标识，由索引(key)和它对应的值value组成，无序对象\n",
    "dic={'a':100,'b':'hello'}\n",
    "print(dic,type(dic))"
   ]
  },
  {
   "cell_type": "code",
   "execution_count": 37,
   "metadata": {},
   "outputs": [
    {
     "name": "stdout",
     "output_type": "stream",
     "text": [
      "<class 'int'>\n",
      "10.0 <class 'float'>\n",
      "10 <class 'str'>\n",
      "20.0\n",
      "10\n"
     ]
    }
   ],
   "source": [
    "# 数据类型转换方法  **这里暂时只针对int，float，str三者，list/tuple/dict后面课程讲\n",
    "var1 = 10\n",
    "print(type(var1))\n",
    "\n",
    "var2 = float(var1)\n",
    "print(var2,type(var2))\n",
    "\n",
    "var3=str(var1)\n",
    "print(var3,type(var3))\n",
    "\n",
    "print(var1+var2)\n",
    "\n",
    "var4=10.456\n",
    "print(int(var4))"
   ]
  },
  {
   "cell_type": "code",
   "execution_count": 38,
   "metadata": {},
   "outputs": [
    {
     "data": {
      "text/plain": [
       "'\\n【课程2.2】  认识变量\\n\\n什么是变量？ —— 方程式“=”左边的，就是变量\\n1、给变量赋值即创建该变量，并且同时赋予该变量\\n① 变量名\\n② 变量类型\\n等号（=）用来给变量赋值\\n\\n2、变量命名规则：\\n① 变量名第一个字符必须是字母（大小写均可）或者下划线（“_”），不能数字开头；\\n② 变量名不能和常用功能性名字重合，例如print，if，for\\n③ 不要有空格\\n\\n'"
      ]
     },
     "execution_count": 38,
     "metadata": {},
     "output_type": "execute_result"
    }
   ],
   "source": [
    "'''\n",
    "【课程2.2】  认识变量\n",
    "\n",
    "什么是变量？ —— 方程式“=”左边的，就是变量\n",
    "1、给变量赋值即创建该变量，并且同时赋予该变量\n",
    "① 变量名\n",
    "② 变量类型\n",
    "等号（=）用来给变量赋值\n",
    "\n",
    "2、变量命名规则：\n",
    "① 变量名第一个字符必须是字母（大小写均可）或者下划线（“_”），不能数字开头；\n",
    "② 变量名不能和常用功能性名字重合，例如print，if，for\n",
    "③ 不要有空格\n",
    "\n",
    "'''"
   ]
  },
  {
   "cell_type": "code",
   "execution_count": 45,
   "metadata": {},
   "outputs": [
    {
     "data": {
      "text/plain": [
       "10"
      ]
     },
     "execution_count": 45,
     "metadata": {},
     "output_type": "execute_result"
    }
   ],
   "source": [
    "b=10\n",
    "type(b)\n",
    "_a=10\n",
    "_a"
   ]
  },
  {
   "cell_type": "code",
   "execution_count": 1,
   "metadata": {},
   "outputs": [
    {
     "name": "stdout",
     "output_type": "stream",
     "text": [
      "1 10.0 jack\n",
      "10\n",
      "20\n"
     ]
    }
   ],
   "source": [
    "#变量赋值\n",
    "a = 1  #整型\n",
    "b = 10.0 #浮点型\n",
    "name = 'jack' #字符串\n",
    "print(a,b,name)\n",
    "#多变量赋值\n",
    "a = b= c=1\n",
    "d,e,f=1,2,'hello'\n",
    "#动态变量\n",
    "var1 = 10\n",
    "print(var1)\n",
    "var1 = 20\n",
    "print(var1)"
   ]
  },
  {
   "cell_type": "code",
   "execution_count": null,
   "metadata": {},
   "outputs": [],
   "source": [
    "'''\n",
    "【课程2.3】  运算符\n",
    "\n",
    "什么是运算符？\n",
    "1 +2 = 3 的例子中，1 和 2 被称为操作数，\"+\" 称为运算符\n",
    "'''"
   ]
  },
  {
   "cell_type": "code",
   "execution_count": 60,
   "metadata": {},
   "outputs": [
    {
     "name": "stdout",
     "output_type": "stream",
     "text": [
      "2\n",
      "1.4142135623730951\n",
      "1\n"
     ]
    }
   ],
   "source": [
    "#算数运算符\n",
    "\n",
    "a, b =30,7\n",
    "print(a%b)\n",
    "\n",
    "print(2**0.5)\n",
    "print(20//12)"
   ]
  },
  {
   "cell_type": "code",
   "execution_count": 62,
   "metadata": {},
   "outputs": [
    {
     "name": "stdout",
     "output_type": "stream",
     "text": [
      "True\n"
     ]
    }
   ],
   "source": [
    "#比较运算符 结果是True or False\n",
    "print(2<=9)"
   ]
  },
  {
   "cell_type": "code",
   "execution_count": 70,
   "metadata": {},
   "outputs": [
    {
     "name": "stdout",
     "output_type": "stream",
     "text": [
      "False\n",
      "True\n",
      "False\n",
      "-----\n",
      "True\n",
      "True\n",
      "False\n",
      "True\n"
     ]
    }
   ],
   "source": [
    "#逻辑运算符 结果也是True or False\n",
    "\n",
    "print(True and False)  # and：且\n",
    "print(True or False)  # or：或\n",
    "print(not True)  # not：非\n",
    "print('-----')\n",
    "\n",
    "print(True==1)\n",
    "a,b,c=10.0,0,'hello'\n",
    "print(bool(a))\n",
    "print(bool(b))\n",
    "print(bool(c))\n",
    "# bool()函数：将值转换为布尔型，其中只有以下情况bool()返回False：0, 0.0, None，'', [] , {}"
   ]
  },
  {
   "cell_type": "code",
   "execution_count": 76,
   "metadata": {},
   "outputs": [
    {
     "name": "stdout",
     "output_type": "stream",
     "text": [
      "True\n",
      "True\n",
      "True\n"
     ]
    }
   ],
   "source": [
    "#成员运算符: in  /   not in      结果也是True or False\n",
    "st='abcdef'\n",
    "lst=[1,2,3,4,5]\n",
    "dic={'a':1,'b':2,'c':3}\n",
    "st='abcdef'\n",
    "print(1 in lst)\n",
    "print('a' in st)\n",
    "print('d' not in dic)"
   ]
  },
  {
   "cell_type": "code",
   "execution_count": 77,
   "metadata": {},
   "outputs": [
    {
     "data": {
      "text/plain": [
       "'\\n【课程2.4】  注释#\\n\\n注释是用来说明代码\\n程序运行的时候，Python解释器会直接忽略掉注释 → 有没有注释不影响程序的执行结果，但是影响到别人能不能看懂你的代码。\\n但“#”不只代表注释,还代表某些文件的特殊格式，写在脚本开头\\n注意：注释只在脚本中起作用\\n\\n'"
      ]
     },
     "execution_count": 77,
     "metadata": {},
     "output_type": "execute_result"
    }
   ],
   "source": [
    "'''\n",
    "【课程2.4】  注释#\n",
    "\n",
    "注释是用来说明代码\n",
    "程序运行的时候，Python解释器会直接忽略掉注释 → 有没有注释不影响程序的执行结果，但是影响到别人能不能看懂你的代码。\n",
    "但“#”不只代表注释,还代表某些文件的特殊格式，写在脚本开头\n",
    "注意：注释只在脚本中起作用\n",
    "\n",
    "'''"
   ]
  },
  {
   "cell_type": "code",
   "execution_count": 2,
   "metadata": {},
   "outputs": [
    {
     "name": "stdout",
     "output_type": "stream",
     "text": [
      "8180\n"
     ]
    }
   ],
   "source": [
    "print(400+400+100+100+100+100+1600+1600+400+400+40+40+800+100+400+1600)"
   ]
  }
 ],
 "metadata": {
  "kernelspec": {
   "display_name": "Python 3",
   "language": "python",
   "name": "python3"
  },
  "language_info": {
   "codemirror_mode": {
    "name": "ipython",
    "version": 3
   },
   "file_extension": ".py",
   "mimetype": "text/x-python",
   "name": "python",
   "nbconvert_exporter": "python",
   "pygments_lexer": "ipython3",
   "version": "3.7.2"
  }
 },
 "nbformat": 4,
 "nbformat_minor": 2
}
