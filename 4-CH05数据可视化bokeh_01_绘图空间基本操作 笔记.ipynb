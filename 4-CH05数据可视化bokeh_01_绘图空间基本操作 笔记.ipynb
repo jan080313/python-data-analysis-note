{
 "cells": [
  {
   "cell_type": "code",
   "execution_count": 1,
   "metadata": {},
   "outputs": [
    {
     "data": {
      "text/plain": [
       "'\\n【课程5.2】  绘图空间基本设置\\n\\n① 创建绘图空间\\n② 输出方式\\n③ 绘图figure基本设置\\n\\n输出：jupyter notebook / spyder等非notebook空间\\n\\n参考官方文档：http://bokeh.pydata.org/en/latest/docs/user_guide/styling.html#text-properties\\n\\n'"
      ]
     },
     "execution_count": 1,
     "metadata": {},
     "output_type": "execute_result"
    }
   ],
   "source": [
    "'''\n",
    "【课程5.2】  绘图空间基本设置\n",
    "\n",
    "① 创建绘图空间\n",
    "② 输出方式\n",
    "③ 绘图figure基本设置\n",
    "\n",
    "输出：jupyter notebook / spyder等非notebook空间\n",
    "\n",
    "参考官方文档：http://bokeh.pydata.org/en/latest/docs/user_guide/styling.html#text-properties\n",
    "\n",
    "'''"
   ]
  },
  {
   "cell_type": "code",
   "execution_count": 1,
   "metadata": {},
   "outputs": [],
   "source": [
    "import numpy as np\n",
    "import pandas as pd\n",
    "import matplotlib.pyplot as plt\n",
    "%matplotlib inline\n",
    "\n",
    "import warnings\n",
    "warnings.filterwarnings('ignore') \n",
    "# 不发出警告"
   ]
  },
  {
   "cell_type": "code",
   "execution_count": 2,
   "metadata": {},
   "outputs": [
    {
     "data": {
      "text/html": [
       "\n",
       "    <div class=\"bk-root\">\n",
       "        <a href=\"https://bokeh.pydata.org\" target=\"_blank\" class=\"bk-logo bk-logo-small bk-logo-notebook\"></a>\n",
       "        <span id=\"1001\">Loading BokehJS ...</span>\n",
       "    </div>"
      ]
     },
     "metadata": {},
     "output_type": "display_data"
    },
    {
     "data": {
      "application/javascript": [
       "\n",
       "(function(root) {\n",
       "  function now() {\n",
       "    return new Date();\n",
       "  }\n",
       "\n",
       "  var force = true;\n",
       "\n",
       "  if (typeof (root._bokeh_onload_callbacks) === \"undefined\" || force === true) {\n",
       "    root._bokeh_onload_callbacks = [];\n",
       "    root._bokeh_is_loading = undefined;\n",
       "  }\n",
       "\n",
       "  var JS_MIME_TYPE = 'application/javascript';\n",
       "  var HTML_MIME_TYPE = 'text/html';\n",
       "  var EXEC_MIME_TYPE = 'application/vnd.bokehjs_exec.v0+json';\n",
       "  var CLASS_NAME = 'output_bokeh rendered_html';\n",
       "\n",
       "  /**\n",
       "   * Render data to the DOM node\n",
       "   */\n",
       "  function render(props, node) {\n",
       "    var script = document.createElement(\"script\");\n",
       "    node.appendChild(script);\n",
       "  }\n",
       "\n",
       "  /**\n",
       "   * Handle when an output is cleared or removed\n",
       "   */\n",
       "  function handleClearOutput(event, handle) {\n",
       "    var cell = handle.cell;\n",
       "\n",
       "    var id = cell.output_area._bokeh_element_id;\n",
       "    var server_id = cell.output_area._bokeh_server_id;\n",
       "    // Clean up Bokeh references\n",
       "    if (id != null && id in Bokeh.index) {\n",
       "      Bokeh.index[id].model.document.clear();\n",
       "      delete Bokeh.index[id];\n",
       "    }\n",
       "\n",
       "    if (server_id !== undefined) {\n",
       "      // Clean up Bokeh references\n",
       "      var cmd = \"from bokeh.io.state import curstate; print(curstate().uuid_to_server['\" + server_id + \"'].get_sessions()[0].document.roots[0]._id)\";\n",
       "      cell.notebook.kernel.execute(cmd, {\n",
       "        iopub: {\n",
       "          output: function(msg) {\n",
       "            var id = msg.content.text.trim();\n",
       "            if (id in Bokeh.index) {\n",
       "              Bokeh.index[id].model.document.clear();\n",
       "              delete Bokeh.index[id];\n",
       "            }\n",
       "          }\n",
       "        }\n",
       "      });\n",
       "      // Destroy server and session\n",
       "      var cmd = \"import bokeh.io.notebook as ion; ion.destroy_server('\" + server_id + \"')\";\n",
       "      cell.notebook.kernel.execute(cmd);\n",
       "    }\n",
       "  }\n",
       "\n",
       "  /**\n",
       "   * Handle when a new output is added\n",
       "   */\n",
       "  function handleAddOutput(event, handle) {\n",
       "    var output_area = handle.output_area;\n",
       "    var output = handle.output;\n",
       "\n",
       "    // limit handleAddOutput to display_data with EXEC_MIME_TYPE content only\n",
       "    if ((output.output_type != \"display_data\") || (!output.data.hasOwnProperty(EXEC_MIME_TYPE))) {\n",
       "      return\n",
       "    }\n",
       "\n",
       "    var toinsert = output_area.element.find(\".\" + CLASS_NAME.split(' ')[0]);\n",
       "\n",
       "    if (output.metadata[EXEC_MIME_TYPE][\"id\"] !== undefined) {\n",
       "      toinsert[toinsert.length - 1].firstChild.textContent = output.data[JS_MIME_TYPE];\n",
       "      // store reference to embed id on output_area\n",
       "      output_area._bokeh_element_id = output.metadata[EXEC_MIME_TYPE][\"id\"];\n",
       "    }\n",
       "    if (output.metadata[EXEC_MIME_TYPE][\"server_id\"] !== undefined) {\n",
       "      var bk_div = document.createElement(\"div\");\n",
       "      bk_div.innerHTML = output.data[HTML_MIME_TYPE];\n",
       "      var script_attrs = bk_div.children[0].attributes;\n",
       "      for (var i = 0; i < script_attrs.length; i++) {\n",
       "        toinsert[toinsert.length - 1].firstChild.setAttribute(script_attrs[i].name, script_attrs[i].value);\n",
       "      }\n",
       "      // store reference to server id on output_area\n",
       "      output_area._bokeh_server_id = output.metadata[EXEC_MIME_TYPE][\"server_id\"];\n",
       "    }\n",
       "  }\n",
       "\n",
       "  function register_renderer(events, OutputArea) {\n",
       "\n",
       "    function append_mime(data, metadata, element) {\n",
       "      // create a DOM node to render to\n",
       "      var toinsert = this.create_output_subarea(\n",
       "        metadata,\n",
       "        CLASS_NAME,\n",
       "        EXEC_MIME_TYPE\n",
       "      );\n",
       "      this.keyboard_manager.register_events(toinsert);\n",
       "      // Render to node\n",
       "      var props = {data: data, metadata: metadata[EXEC_MIME_TYPE]};\n",
       "      render(props, toinsert[toinsert.length - 1]);\n",
       "      element.append(toinsert);\n",
       "      return toinsert\n",
       "    }\n",
       "\n",
       "    /* Handle when an output is cleared or removed */\n",
       "    events.on('clear_output.CodeCell', handleClearOutput);\n",
       "    events.on('delete.Cell', handleClearOutput);\n",
       "\n",
       "    /* Handle when a new output is added */\n",
       "    events.on('output_added.OutputArea', handleAddOutput);\n",
       "\n",
       "    /**\n",
       "     * Register the mime type and append_mime function with output_area\n",
       "     */\n",
       "    OutputArea.prototype.register_mime_type(EXEC_MIME_TYPE, append_mime, {\n",
       "      /* Is output safe? */\n",
       "      safe: true,\n",
       "      /* Index of renderer in `output_area.display_order` */\n",
       "      index: 0\n",
       "    });\n",
       "  }\n",
       "\n",
       "  // register the mime type if in Jupyter Notebook environment and previously unregistered\n",
       "  if (root.Jupyter !== undefined) {\n",
       "    var events = require('base/js/events');\n",
       "    var OutputArea = require('notebook/js/outputarea').OutputArea;\n",
       "\n",
       "    if (OutputArea.prototype.mime_types().indexOf(EXEC_MIME_TYPE) == -1) {\n",
       "      register_renderer(events, OutputArea);\n",
       "    }\n",
       "  }\n",
       "\n",
       "  \n",
       "  if (typeof (root._bokeh_timeout) === \"undefined\" || force === true) {\n",
       "    root._bokeh_timeout = Date.now() + 5000;\n",
       "    root._bokeh_failed_load = false;\n",
       "  }\n",
       "\n",
       "  var NB_LOAD_WARNING = {'data': {'text/html':\n",
       "     \"<div style='background-color: #fdd'>\\n\"+\n",
       "     \"<p>\\n\"+\n",
       "     \"BokehJS does not appear to have successfully loaded. If loading BokehJS from CDN, this \\n\"+\n",
       "     \"may be due to a slow or bad network connection. Possible fixes:\\n\"+\n",
       "     \"</p>\\n\"+\n",
       "     \"<ul>\\n\"+\n",
       "     \"<li>re-rerun `output_notebook()` to attempt to load from CDN again, or</li>\\n\"+\n",
       "     \"<li>use INLINE resources instead, as so:</li>\\n\"+\n",
       "     \"</ul>\\n\"+\n",
       "     \"<code>\\n\"+\n",
       "     \"from bokeh.resources import INLINE\\n\"+\n",
       "     \"output_notebook(resources=INLINE)\\n\"+\n",
       "     \"</code>\\n\"+\n",
       "     \"</div>\"}};\n",
       "\n",
       "  function display_loaded() {\n",
       "    var el = document.getElementById(\"1001\");\n",
       "    if (el != null) {\n",
       "      el.textContent = \"BokehJS is loading...\";\n",
       "    }\n",
       "    if (root.Bokeh !== undefined) {\n",
       "      if (el != null) {\n",
       "        el.textContent = \"BokehJS \" + root.Bokeh.version + \" successfully loaded.\";\n",
       "      }\n",
       "    } else if (Date.now() < root._bokeh_timeout) {\n",
       "      setTimeout(display_loaded, 100)\n",
       "    }\n",
       "  }\n",
       "\n",
       "\n",
       "  function run_callbacks() {\n",
       "    try {\n",
       "      root._bokeh_onload_callbacks.forEach(function(callback) { callback() });\n",
       "    }\n",
       "    finally {\n",
       "      delete root._bokeh_onload_callbacks\n",
       "    }\n",
       "    console.info(\"Bokeh: all callbacks have finished\");\n",
       "  }\n",
       "\n",
       "  function load_libs(js_urls, callback) {\n",
       "    root._bokeh_onload_callbacks.push(callback);\n",
       "    if (root._bokeh_is_loading > 0) {\n",
       "      console.log(\"Bokeh: BokehJS is being loaded, scheduling callback at\", now());\n",
       "      return null;\n",
       "    }\n",
       "    if (js_urls == null || js_urls.length === 0) {\n",
       "      run_callbacks();\n",
       "      return null;\n",
       "    }\n",
       "    console.log(\"Bokeh: BokehJS not loaded, scheduling load and callback at\", now());\n",
       "    root._bokeh_is_loading = js_urls.length;\n",
       "    for (var i = 0; i < js_urls.length; i++) {\n",
       "      var url = js_urls[i];\n",
       "      var s = document.createElement('script');\n",
       "      s.src = url;\n",
       "      s.async = false;\n",
       "      s.onreadystatechange = s.onload = function() {\n",
       "        root._bokeh_is_loading--;\n",
       "        if (root._bokeh_is_loading === 0) {\n",
       "          console.log(\"Bokeh: all BokehJS libraries loaded\");\n",
       "          run_callbacks()\n",
       "        }\n",
       "      };\n",
       "      s.onerror = function() {\n",
       "        console.warn(\"failed to load library \" + url);\n",
       "      };\n",
       "      console.log(\"Bokeh: injecting script tag for BokehJS library: \", url);\n",
       "      document.getElementsByTagName(\"head\")[0].appendChild(s);\n",
       "    }\n",
       "  };var element = document.getElementById(\"1001\");\n",
       "  if (element == null) {\n",
       "    console.log(\"Bokeh: ERROR: autoload.js configured with elementid '1001' but no matching script tag was found. \")\n",
       "    return false;\n",
       "  }\n",
       "\n",
       "  var js_urls = [\"https://cdn.pydata.org/bokeh/release/bokeh-1.0.4.min.js\", \"https://cdn.pydata.org/bokeh/release/bokeh-widgets-1.0.4.min.js\", \"https://cdn.pydata.org/bokeh/release/bokeh-tables-1.0.4.min.js\", \"https://cdn.pydata.org/bokeh/release/bokeh-gl-1.0.4.min.js\"];\n",
       "\n",
       "  var inline_js = [\n",
       "    function(Bokeh) {\n",
       "      Bokeh.set_log_level(\"info\");\n",
       "    },\n",
       "    \n",
       "    function(Bokeh) {\n",
       "      \n",
       "    },\n",
       "    function(Bokeh) {\n",
       "      console.log(\"Bokeh: injecting CSS: https://cdn.pydata.org/bokeh/release/bokeh-1.0.4.min.css\");\n",
       "      Bokeh.embed.inject_css(\"https://cdn.pydata.org/bokeh/release/bokeh-1.0.4.min.css\");\n",
       "      console.log(\"Bokeh: injecting CSS: https://cdn.pydata.org/bokeh/release/bokeh-widgets-1.0.4.min.css\");\n",
       "      Bokeh.embed.inject_css(\"https://cdn.pydata.org/bokeh/release/bokeh-widgets-1.0.4.min.css\");\n",
       "      console.log(\"Bokeh: injecting CSS: https://cdn.pydata.org/bokeh/release/bokeh-tables-1.0.4.min.css\");\n",
       "      Bokeh.embed.inject_css(\"https://cdn.pydata.org/bokeh/release/bokeh-tables-1.0.4.min.css\");\n",
       "    }\n",
       "  ];\n",
       "\n",
       "  function run_inline_js() {\n",
       "    \n",
       "    if ((root.Bokeh !== undefined) || (force === true)) {\n",
       "      for (var i = 0; i < inline_js.length; i++) {\n",
       "        inline_js[i].call(root, root.Bokeh);\n",
       "      }if (force === true) {\n",
       "        display_loaded();\n",
       "      }} else if (Date.now() < root._bokeh_timeout) {\n",
       "      setTimeout(run_inline_js, 100);\n",
       "    } else if (!root._bokeh_failed_load) {\n",
       "      console.log(\"Bokeh: BokehJS failed to load within specified timeout.\");\n",
       "      root._bokeh_failed_load = true;\n",
       "    } else if (force !== true) {\n",
       "      var cell = $(document.getElementById(\"1001\")).parents('.cell').data().cell;\n",
       "      cell.output_area.append_execute_result(NB_LOAD_WARNING)\n",
       "    }\n",
       "\n",
       "  }\n",
       "\n",
       "  if (root._bokeh_is_loading === 0) {\n",
       "    console.log(\"Bokeh: BokehJS loaded, going straight to plotting\");\n",
       "    run_inline_js();\n",
       "  } else {\n",
       "    load_libs(js_urls, function() {\n",
       "      console.log(\"Bokeh: BokehJS plotting callback run at\", now());\n",
       "      run_inline_js();\n",
       "    });\n",
       "  }\n",
       "}(window));"
      ],
      "application/vnd.bokehjs_load.v0+json": "\n(function(root) {\n  function now() {\n    return new Date();\n  }\n\n  var force = true;\n\n  if (typeof (root._bokeh_onload_callbacks) === \"undefined\" || force === true) {\n    root._bokeh_onload_callbacks = [];\n    root._bokeh_is_loading = undefined;\n  }\n\n  \n\n  \n  if (typeof (root._bokeh_timeout) === \"undefined\" || force === true) {\n    root._bokeh_timeout = Date.now() + 5000;\n    root._bokeh_failed_load = false;\n  }\n\n  var NB_LOAD_WARNING = {'data': {'text/html':\n     \"<div style='background-color: #fdd'>\\n\"+\n     \"<p>\\n\"+\n     \"BokehJS does not appear to have successfully loaded. If loading BokehJS from CDN, this \\n\"+\n     \"may be due to a slow or bad network connection. Possible fixes:\\n\"+\n     \"</p>\\n\"+\n     \"<ul>\\n\"+\n     \"<li>re-rerun `output_notebook()` to attempt to load from CDN again, or</li>\\n\"+\n     \"<li>use INLINE resources instead, as so:</li>\\n\"+\n     \"</ul>\\n\"+\n     \"<code>\\n\"+\n     \"from bokeh.resources import INLINE\\n\"+\n     \"output_notebook(resources=INLINE)\\n\"+\n     \"</code>\\n\"+\n     \"</div>\"}};\n\n  function display_loaded() {\n    var el = document.getElementById(\"1001\");\n    if (el != null) {\n      el.textContent = \"BokehJS is loading...\";\n    }\n    if (root.Bokeh !== undefined) {\n      if (el != null) {\n        el.textContent = \"BokehJS \" + root.Bokeh.version + \" successfully loaded.\";\n      }\n    } else if (Date.now() < root._bokeh_timeout) {\n      setTimeout(display_loaded, 100)\n    }\n  }\n\n\n  function run_callbacks() {\n    try {\n      root._bokeh_onload_callbacks.forEach(function(callback) { callback() });\n    }\n    finally {\n      delete root._bokeh_onload_callbacks\n    }\n    console.info(\"Bokeh: all callbacks have finished\");\n  }\n\n  function load_libs(js_urls, callback) {\n    root._bokeh_onload_callbacks.push(callback);\n    if (root._bokeh_is_loading > 0) {\n      console.log(\"Bokeh: BokehJS is being loaded, scheduling callback at\", now());\n      return null;\n    }\n    if (js_urls == null || js_urls.length === 0) {\n      run_callbacks();\n      return null;\n    }\n    console.log(\"Bokeh: BokehJS not loaded, scheduling load and callback at\", now());\n    root._bokeh_is_loading = js_urls.length;\n    for (var i = 0; i < js_urls.length; i++) {\n      var url = js_urls[i];\n      var s = document.createElement('script');\n      s.src = url;\n      s.async = false;\n      s.onreadystatechange = s.onload = function() {\n        root._bokeh_is_loading--;\n        if (root._bokeh_is_loading === 0) {\n          console.log(\"Bokeh: all BokehJS libraries loaded\");\n          run_callbacks()\n        }\n      };\n      s.onerror = function() {\n        console.warn(\"failed to load library \" + url);\n      };\n      console.log(\"Bokeh: injecting script tag for BokehJS library: \", url);\n      document.getElementsByTagName(\"head\")[0].appendChild(s);\n    }\n  };var element = document.getElementById(\"1001\");\n  if (element == null) {\n    console.log(\"Bokeh: ERROR: autoload.js configured with elementid '1001' but no matching script tag was found. \")\n    return false;\n  }\n\n  var js_urls = [\"https://cdn.pydata.org/bokeh/release/bokeh-1.0.4.min.js\", \"https://cdn.pydata.org/bokeh/release/bokeh-widgets-1.0.4.min.js\", \"https://cdn.pydata.org/bokeh/release/bokeh-tables-1.0.4.min.js\", \"https://cdn.pydata.org/bokeh/release/bokeh-gl-1.0.4.min.js\"];\n\n  var inline_js = [\n    function(Bokeh) {\n      Bokeh.set_log_level(\"info\");\n    },\n    \n    function(Bokeh) {\n      \n    },\n    function(Bokeh) {\n      console.log(\"Bokeh: injecting CSS: https://cdn.pydata.org/bokeh/release/bokeh-1.0.4.min.css\");\n      Bokeh.embed.inject_css(\"https://cdn.pydata.org/bokeh/release/bokeh-1.0.4.min.css\");\n      console.log(\"Bokeh: injecting CSS: https://cdn.pydata.org/bokeh/release/bokeh-widgets-1.0.4.min.css\");\n      Bokeh.embed.inject_css(\"https://cdn.pydata.org/bokeh/release/bokeh-widgets-1.0.4.min.css\");\n      console.log(\"Bokeh: injecting CSS: https://cdn.pydata.org/bokeh/release/bokeh-tables-1.0.4.min.css\");\n      Bokeh.embed.inject_css(\"https://cdn.pydata.org/bokeh/release/bokeh-tables-1.0.4.min.css\");\n    }\n  ];\n\n  function run_inline_js() {\n    \n    if ((root.Bokeh !== undefined) || (force === true)) {\n      for (var i = 0; i < inline_js.length; i++) {\n        inline_js[i].call(root, root.Bokeh);\n      }if (force === true) {\n        display_loaded();\n      }} else if (Date.now() < root._bokeh_timeout) {\n      setTimeout(run_inline_js, 100);\n    } else if (!root._bokeh_failed_load) {\n      console.log(\"Bokeh: BokehJS failed to load within specified timeout.\");\n      root._bokeh_failed_load = true;\n    } else if (force !== true) {\n      var cell = $(document.getElementById(\"1001\")).parents('.cell').data().cell;\n      cell.output_area.append_execute_result(NB_LOAD_WARNING)\n    }\n\n  }\n\n  if (root._bokeh_is_loading === 0) {\n    console.log(\"Bokeh: BokehJS loaded, going straight to plotting\");\n    run_inline_js();\n  } else {\n    load_libs(js_urls, function() {\n      console.log(\"Bokeh: BokehJS plotting callback run at\", now());\n      run_inline_js();\n    });\n  }\n}(window));"
     },
     "metadata": {},
     "output_type": "display_data"
    },
    {
     "data": {
      "text/html": [
       "\n",
       "\n",
       "\n",
       "\n",
       "\n",
       "\n",
       "  <div class=\"bk-root\" id=\"52cc19c4-fdc3-46fb-a602-4bdd3caf93c8\" data-root-id=\"1002\"></div>\n"
      ]
     },
     "metadata": {},
     "output_type": "display_data"
    },
    {
     "data": {
      "application/javascript": [
       "(function(root) {\n",
       "  function embed_document(root) {\n",
       "    \n",
       "  var docs_json = {\"bcd29a94-7f08-42a2-b849-37b9426c914f\":{\"roots\":{\"references\":[{\"attributes\":{\"below\":[{\"id\":\"1011\",\"type\":\"LinearAxis\"}],\"left\":[{\"id\":\"1016\",\"type\":\"LinearAxis\"}],\"plot_height\":400,\"plot_width\":400,\"renderers\":[{\"id\":\"1011\",\"type\":\"LinearAxis\"},{\"id\":\"1015\",\"type\":\"Grid\"},{\"id\":\"1016\",\"type\":\"LinearAxis\"},{\"id\":\"1020\",\"type\":\"Grid\"},{\"id\":\"1029\",\"type\":\"BoxAnnotation\"},{\"id\":\"1039\",\"type\":\"GlyphRenderer\"}],\"title\":{\"id\":\"1042\",\"type\":\"Title\"},\"toolbar\":{\"id\":\"1027\",\"type\":\"Toolbar\"},\"x_range\":{\"id\":\"1003\",\"type\":\"DataRange1d\"},\"x_scale\":{\"id\":\"1007\",\"type\":\"LinearScale\"},\"y_range\":{\"id\":\"1005\",\"type\":\"DataRange1d\"},\"y_scale\":{\"id\":\"1009\",\"type\":\"LinearScale\"}},\"id\":\"1002\",\"subtype\":\"Figure\",\"type\":\"Plot\"},{\"attributes\":{\"callback\":null},\"id\":\"1005\",\"type\":\"DataRange1d\"},{\"attributes\":{\"plot\":{\"id\":\"1002\",\"subtype\":\"Figure\",\"type\":\"Plot\"},\"ticker\":{\"id\":\"1012\",\"type\":\"BasicTicker\"}},\"id\":\"1015\",\"type\":\"Grid\"},{\"attributes\":{\"formatter\":{\"id\":\"1045\",\"type\":\"BasicTickFormatter\"},\"plot\":{\"id\":\"1002\",\"subtype\":\"Figure\",\"type\":\"Plot\"},\"ticker\":{\"id\":\"1017\",\"type\":\"BasicTicker\"}},\"id\":\"1016\",\"type\":\"LinearAxis\"},{\"attributes\":{},\"id\":\"1007\",\"type\":\"LinearScale\"},{\"attributes\":{},\"id\":\"1049\",\"type\":\"Selection\"},{\"attributes\":{},\"id\":\"1017\",\"type\":\"BasicTicker\"},{\"attributes\":{},\"id\":\"1009\",\"type\":\"LinearScale\"},{\"attributes\":{\"dimension\":1,\"plot\":{\"id\":\"1002\",\"subtype\":\"Figure\",\"type\":\"Plot\"},\"ticker\":{\"id\":\"1017\",\"type\":\"BasicTicker\"}},\"id\":\"1020\",\"type\":\"Grid\"},{\"attributes\":{},\"id\":\"1048\",\"type\":\"UnionRenderers\"},{\"attributes\":{\"source\":{\"id\":\"1036\",\"type\":\"ColumnDataSource\"}},\"id\":\"1040\",\"type\":\"CDSView\"},{\"attributes\":{\"formatter\":{\"id\":\"1043\",\"type\":\"BasicTickFormatter\"},\"plot\":{\"id\":\"1002\",\"subtype\":\"Figure\",\"type\":\"Plot\"},\"ticker\":{\"id\":\"1012\",\"type\":\"BasicTicker\"}},\"id\":\"1011\",\"type\":\"LinearAxis\"},{\"attributes\":{\"fill_alpha\":{\"value\":0.1},\"fill_color\":{\"value\":\"#1f77b4\"},\"line_alpha\":{\"value\":0.1},\"line_color\":{\"value\":\"#1f77b4\"},\"size\":{\"units\":\"screen\",\"value\":20},\"x\":{\"field\":\"x\"},\"y\":{\"field\":\"y\"}},\"id\":\"1038\",\"type\":\"Circle\"},{\"attributes\":{\"data_source\":{\"id\":\"1036\",\"type\":\"ColumnDataSource\"},\"glyph\":{\"id\":\"1037\",\"type\":\"Circle\"},\"hover_glyph\":null,\"muted_glyph\":null,\"nonselection_glyph\":{\"id\":\"1038\",\"type\":\"Circle\"},\"selection_glyph\":null,\"view\":{\"id\":\"1040\",\"type\":\"CDSView\"}},\"id\":\"1039\",\"type\":\"GlyphRenderer\"},{\"attributes\":{},\"id\":\"1021\",\"type\":\"PanTool\"},{\"attributes\":{},\"id\":\"1022\",\"type\":\"WheelZoomTool\"},{\"attributes\":{\"overlay\":{\"id\":\"1029\",\"type\":\"BoxAnnotation\"}},\"id\":\"1023\",\"type\":\"BoxZoomTool\"},{\"attributes\":{\"callback\":null},\"id\":\"1003\",\"type\":\"DataRange1d\"},{\"attributes\":{},\"id\":\"1025\",\"type\":\"ResetTool\"},{\"attributes\":{},\"id\":\"1026\",\"type\":\"HelpTool\"},{\"attributes\":{\"active_drag\":\"auto\",\"active_inspect\":\"auto\",\"active_multi\":null,\"active_scroll\":\"auto\",\"active_tap\":\"auto\",\"tools\":[{\"id\":\"1021\",\"type\":\"PanTool\"},{\"id\":\"1022\",\"type\":\"WheelZoomTool\"},{\"id\":\"1023\",\"type\":\"BoxZoomTool\"},{\"id\":\"1024\",\"type\":\"SaveTool\"},{\"id\":\"1025\",\"type\":\"ResetTool\"},{\"id\":\"1026\",\"type\":\"HelpTool\"}]},\"id\":\"1027\",\"type\":\"Toolbar\"},{\"attributes\":{\"bottom_units\":\"screen\",\"fill_alpha\":{\"value\":0.5},\"fill_color\":{\"value\":\"lightgrey\"},\"left_units\":\"screen\",\"level\":\"overlay\",\"line_alpha\":{\"value\":1.0},\"line_color\":{\"value\":\"black\"},\"line_dash\":[4,4],\"line_width\":{\"value\":2},\"plot\":null,\"render_mode\":\"css\",\"right_units\":\"screen\",\"top_units\":\"screen\"},\"id\":\"1029\",\"type\":\"BoxAnnotation\"},{\"attributes\":{\"callback\":null,\"data\":{\"x\":[1,2,3,4,5],\"y\":[3,5,4,2,6]},\"selected\":{\"id\":\"1049\",\"type\":\"Selection\"},\"selection_policy\":{\"id\":\"1048\",\"type\":\"UnionRenderers\"}},\"id\":\"1036\",\"type\":\"ColumnDataSource\"},{\"attributes\":{\"fill_color\":{\"value\":\"grey\"},\"line_color\":{\"value\":\"grey\"},\"size\":{\"units\":\"screen\",\"value\":20},\"x\":{\"field\":\"x\"},\"y\":{\"field\":\"y\"}},\"id\":\"1037\",\"type\":\"Circle\"},{\"attributes\":{\"plot\":null,\"text\":\"\"},\"id\":\"1042\",\"type\":\"Title\"},{\"attributes\":{},\"id\":\"1024\",\"type\":\"SaveTool\"},{\"attributes\":{},\"id\":\"1043\",\"type\":\"BasicTickFormatter\"},{\"attributes\":{},\"id\":\"1012\",\"type\":\"BasicTicker\"},{\"attributes\":{},\"id\":\"1045\",\"type\":\"BasicTickFormatter\"}],\"root_ids\":[\"1002\"]},\"title\":\"Bokeh Application\",\"version\":\"1.0.4\"}};\n",
       "  var render_items = [{\"docid\":\"bcd29a94-7f08-42a2-b849-37b9426c914f\",\"roots\":{\"1002\":\"52cc19c4-fdc3-46fb-a602-4bdd3caf93c8\"}}];\n",
       "  root.Bokeh.embed.embed_items_notebook(docs_json, render_items);\n",
       "\n",
       "  }\n",
       "  if (root.Bokeh !== undefined) {\n",
       "    embed_document(root);\n",
       "  } else {\n",
       "    var attempts = 0;\n",
       "    var timer = setInterval(function(root) {\n",
       "      if (root.Bokeh !== undefined) {\n",
       "        embed_document(root);\n",
       "        clearInterval(timer);\n",
       "      }\n",
       "      attempts++;\n",
       "      if (attempts > 100) {\n",
       "        console.log(\"Bokeh: ERROR: Unable to run BokehJS code because BokehJS library is missing\");\n",
       "        clearInterval(timer);\n",
       "      }\n",
       "    }, 10, root)\n",
       "  }\n",
       "})(window);"
      ],
      "application/vnd.bokehjs_exec.v0+json": ""
     },
     "metadata": {
      "application/vnd.bokehjs_exec.v0+json": {
       "id": "1002"
      }
     },
     "output_type": "display_data"
    }
   ],
   "source": [
    "from bokeh.plotting import figure,show\n",
    "\n",
    "from bokeh.io import output_notebook\n",
    "\n",
    "output_notebook()\n",
    "\n",
    "p = figure(plot_width = 400,plot_height = 400)\n",
    "\n",
    "p.circle([1,2,3,4,5],[3,5,4,2,6],size = 20,color = 'grey')\n",
    "show(p)"
   ]
  },
  {
   "cell_type": "code",
   "execution_count": 2,
   "metadata": {},
   "outputs": [],
   "source": [
    "# 在spyder等非notebook中创建绘图空间\n",
    "\n",
    "from bokeh.plotting import figure,show,output_file\n",
    "# 导入图表绘制、图标展示模块\n",
    "# output_file → 非notebook中创建绘图空间\n",
    "\n",
    "import os\n",
    "os.chdir('C:/Users/Administrator/Desktop/')\n",
    "# 创建工作目录\n",
    "\n",
    "output_file(\"line.html\")\n",
    "# notebook绘图命令，创建html文件\n",
    "# 运行后会弹出html窗口\n",
    "\n",
    "p = figure(plot_width=400, plot_height=400)   # 创建图表，设置宽度、高度\n",
    "p.circle([1, 2, 3, 4, 5], [6, 7, 2, 4, 5], size=20, color=\"blue\", alpha=0.5)\n",
    "# 创建一个圆形散点图\n",
    "\n",
    "show(p)\n",
    "# 绘图"
   ]
  },
  {
   "cell_type": "code",
   "execution_count": 5,
   "metadata": {},
   "outputs": [
    {
     "data": {
      "text/html": [
       "\n",
       "\n",
       "\n",
       "\n",
       "\n",
       "\n",
       "  <div class=\"bk-root\" id=\"3bda0144-1af0-43bc-ada7-37c717e8b805\" data-root-id=\"1325\"></div>\n"
      ]
     },
     "metadata": {},
     "output_type": "display_data"
    },
    {
     "data": {
      "application/javascript": [
       "(function(root) {\n",
       "  function embed_document(root) {\n",
       "    \n",
       "  var docs_json = {\"c97959e0-e9e7-4216-8d41-34dad499db1c\":{\"roots\":{\"references\":[{\"attributes\":{\"below\":[{\"id\":\"1335\",\"type\":\"LinearAxis\"}],\"left\":[{\"id\":\"1340\",\"type\":\"LinearAxis\"}],\"plot_height\":400,\"renderers\":[{\"id\":\"1335\",\"type\":\"LinearAxis\"},{\"id\":\"1339\",\"type\":\"Grid\"},{\"id\":\"1340\",\"type\":\"LinearAxis\"},{\"id\":\"1344\",\"type\":\"Grid\"},{\"id\":\"1353\",\"type\":\"BoxAnnotation\"},{\"id\":\"1363\",\"type\":\"GlyphRenderer\"}],\"title\":{\"id\":\"1324\",\"type\":\"Title\"},\"toolbar\":{\"id\":\"1351\",\"type\":\"Toolbar\"},\"toolbar_location\":\"above\",\"x_range\":{\"id\":\"1327\",\"type\":\"Range1d\"},\"x_scale\":{\"id\":\"1331\",\"type\":\"LinearScale\"},\"y_range\":{\"id\":\"1329\",\"type\":\"Range1d\"},\"y_scale\":{\"id\":\"1333\",\"type\":\"LinearScale\"}},\"id\":\"1325\",\"subtype\":\"Figure\",\"type\":\"Plot\"},{\"attributes\":{\"active_drag\":\"auto\",\"active_inspect\":\"auto\",\"active_multi\":null,\"active_scroll\":\"auto\",\"active_tap\":\"auto\",\"tools\":[{\"id\":\"1345\",\"type\":\"PanTool\"},{\"id\":\"1346\",\"type\":\"WheelZoomTool\"},{\"id\":\"1347\",\"type\":\"BoxZoomTool\"},{\"id\":\"1348\",\"type\":\"SaveTool\"},{\"id\":\"1349\",\"type\":\"ResetTool\"},{\"id\":\"1350\",\"type\":\"HelpTool\"}]},\"id\":\"1351\",\"type\":\"Toolbar\"},{\"attributes\":{},\"id\":\"1336\",\"type\":\"BasicTicker\"},{\"attributes\":{\"axis_label\":\"A\",\"formatter\":{\"id\":\"1391\",\"type\":\"BasicTickFormatter\"},\"plot\":{\"id\":\"1325\",\"subtype\":\"Figure\",\"type\":\"Plot\"},\"ticker\":{\"id\":\"1336\",\"type\":\"BasicTicker\"}},\"id\":\"1335\",\"type\":\"LinearAxis\"},{\"attributes\":{\"bottom_units\":\"screen\",\"fill_alpha\":{\"value\":0.5},\"fill_color\":{\"value\":\"lightgrey\"},\"left_units\":\"screen\",\"level\":\"overlay\",\"line_alpha\":{\"value\":1.0},\"line_color\":{\"value\":\"black\"},\"line_dash\":[4,4],\"line_width\":{\"value\":2},\"plot\":null,\"render_mode\":\"css\",\"right_units\":\"screen\",\"top_units\":\"screen\"},\"id\":\"1353\",\"type\":\"BoxAnnotation\"},{\"attributes\":{},\"id\":\"1393\",\"type\":\"BasicTickFormatter\"},{\"attributes\":{\"dimension\":1,\"plot\":{\"id\":\"1325\",\"subtype\":\"Figure\",\"type\":\"Plot\"},\"ticker\":{\"id\":\"1341\",\"type\":\"BasicTicker\"}},\"id\":\"1344\",\"type\":\"Grid\"},{\"attributes\":{\"callback\":null,\"end\":3,\"start\":-3},\"id\":\"1329\",\"type\":\"Range1d\"},{\"attributes\":{\"callback\":null,\"data\":{\"x\":{\"__ndarray__\":\"STzYoDSSx7+BgyW9V5vKP+o3bnjUCwPAoswwZ/dj8b/aT0G6okb4P2h7/X3NUs0/EbXJbEQ98r/NIoF2D0bOv0nXvXaDU/Y/gBdAiLjSyj+fxnJkVgHPv+Vgg25/1vM/jtSBMviapT/RUH6P1T3gP2Q7Rxdrmc0/Zf6toTep/T8j2R0/3ATRP9ByBaoA2/Y/NfeMKLTJ1T82od8RV2qNv7wo4QujMeO/JvNNdt3pwD+bxZ5Ery39P9kMeVtHt9s/JKjI6zM68T8/EVaYcaH3Pwv76Yr7wNA/fL7Ae0Pk+D9X3j48gWPJP9wIu2Y9R/i/W811aOBu/b+7Eja2wpydv0DXm9pTQuU/TXNn3xgL8T8AZexu6rTLv5GgPZTvRNK/ZAQlThqa5T/KlgaTXDflv/knhjGyhPW/EF6sievD7T/iOCma3sv+v1ITkaXV8/U/7cFuF0+hA8BRab0VwOjOP4adReLdjuw/UEqAeVYqAMBI0C4uo2kCQLqEE+cF0so/rJGtVPQhyj/7Bu3P7bXnv7Jeugqzz+C/aecjELFI+r/Eru5RzTrnP2vhG2eSaPS/n0S0rLMH5j/Gl+Us/TTHv0/oughnOMC/vk4ydE2Asj8ULqIvav7oP2eiFPxzg+Y/7uV0VI3z5r9lMIe0/Ur0vxLJoqTo1NY/rdDMZsmdw79FjB5zVvelv0wJW8ewFPi/NYMEHJ0z7D++pKMiolL2v60XNmMw3P+/fjk/QPrh4T8uZlq4zlryvza45b0Ym6Y/PBCDdl1F0z/J6wNJQnOiv4jCUe/BX8c/eUig4ZCGw7+LTrLC4BYDQCo/VmrAYbS/+BwJFkVG8D8cFhQuGnLpv8MNJmxrgPc/jlB0HRET8T/PNOtsXlXXPz/IzYqYX/u/n6ZAAsuM4b8odm2YW67kP5KShCPLsO6/zWBaF1rswT9miipOGmUAQFV2353fT9U/L8R8SqkI2b9UMYOSgcq8vytwxJXyk+m/Z+B85+Ih4j9fbgre6N/wP/+fSC5qTPQ/qRe0iCOC8D+geRVTYULPvxWQZpi94Nw/mr66xMvZ9D8=\",\"dtype\":\"float64\",\"shape\":[100]},\"y\":{\"__ndarray__\":\"o3fVyTYn8z9crBj3RartP7h8DY3HbNI/ENNB4OQn37/sGXxpOh0uv5hil2zGn/M/v7W3MYa23z8UUumAJu39v6QPssd6V/K/ZKBZ66yFvD+PRthjyVKRP2IayBimx/s/KmwCmYlltj8751sqxZOkv3JR0NaInd+/Llrw64fr8b9XqpLJsVH7vytmJZZqvvg//bHX7efuuj+4eXWg8RDyv7dISVQiquu/y6716baJ57/I9mUXa7oBQHnG7AZnmeC/u4nRHyj667+HoQg/gfffP7he+Tm+JMU/svBxUaNT9T8Pm8uMjMX4PzRM5ZLqWfK/laT9hoZB879kOyjgSLXUP+xKTYkyCLG/6R8wI+JS6r8AMc5GvJX+P5BbsF3wlMc/Pymfrw7Hlj+rfMLDG3Dvv3gYS0tAb+K/xrYpXce35T+rV9sTlubkP2A3u4ENYbo/3yHL/xti8T/ZkTajrSP7v3Kt71l7UfU/pCl2bwl65T/7xuytHrXRP48Mg+crrtu/MwYO2WyQ8z8Yv8dSd5PAP3UCThPqd9+/61kt1CRG+r/XR1kuw0j8vxfC8zMzreS/I1fUWtLi5D+octyjoR7uP6FyFpGXy84/8NkVRKxv8r/AiCmElM3oP4G58bcTXva/9n8XwqM+xr+JJNHDE03qv3/ZddtLXMe/uayDiM3D+L/dncI2IRv1v1Pv0aaF0N8/f11JwoEV8b9/dyhble3Zv0sOIekvGuM/QkSqEvhR8r8XJ9k1d//hP/JGuVeReOi/8dERn4Gm8z9X2rp+LNbWvyHrVO5IzPo/v7QiAsaTz79zQ/21DpXTv1HaMvsf8vM/IUn82Tq8xT+wK/ONfOnnP+i1t+CTj+w/kkBkmip/2b84WGd9H8j9v7X0vv5eEuk/MUJFSdmy4L/SOvWs+47aP2ihtWLn37I/ScOhfQxs0T+41qZtX2jgvy+DyGDMV9W/xijw3RVQyL8LPqJc3WbJvy48+BEJGMY/0PfJp8wF/L/HXJV1SxDkPzCkxZpqF+I/5kFd/vMI878HPPSrVgrSv/pewIrElOY/BuT7ollu978=\",\"dtype\":\"float64\",\"shape\":[100]}},\"selected\":{\"id\":\"1397\",\"type\":\"Selection\"},\"selection_policy\":{\"id\":\"1396\",\"type\":\"UnionRenderers\"}},\"id\":\"1360\",\"type\":\"ColumnDataSource\"},{\"attributes\":{},\"id\":\"1397\",\"type\":\"Selection\"},{\"attributes\":{},\"id\":\"1341\",\"type\":\"BasicTicker\"},{\"attributes\":{\"axis_label\":\"B\",\"formatter\":{\"id\":\"1393\",\"type\":\"BasicTickFormatter\"},\"plot\":{\"id\":\"1325\",\"subtype\":\"Figure\",\"type\":\"Plot\"},\"ticker\":{\"id\":\"1341\",\"type\":\"BasicTicker\"}},\"id\":\"1340\",\"type\":\"LinearAxis\"},{\"attributes\":{},\"id\":\"1345\",\"type\":\"PanTool\"},{\"attributes\":{},\"id\":\"1396\",\"type\":\"UnionRenderers\"},{\"attributes\":{},\"id\":\"1331\",\"type\":\"LinearScale\"},{\"attributes\":{},\"id\":\"1346\",\"type\":\"WheelZoomTool\"},{\"attributes\":{\"background_fill_color\":{\"value\":\"black\"},\"plot\":null,\"text\":\"\\u6d4b\\u8bd5\\u56fe\\u8868\",\"text_color\":{\"value\":\"white\"},\"text_font\":\"times\",\"text_font_style\":\"italic\"},\"id\":\"1324\",\"type\":\"Title\"},{\"attributes\":{\"callback\":null,\"end\":3,\"start\":-3},\"id\":\"1327\",\"type\":\"Range1d\"},{\"attributes\":{\"overlay\":{\"id\":\"1353\",\"type\":\"BoxAnnotation\"}},\"id\":\"1347\",\"type\":\"BoxZoomTool\"},{\"attributes\":{\"fill_alpha\":{\"value\":0.1},\"fill_color\":{\"value\":\"#1f77b4\"},\"line_alpha\":{\"value\":0.1},\"line_color\":{\"value\":\"#1f77b4\"},\"size\":{\"units\":\"screen\",\"value\":20},\"x\":{\"field\":\"x\"},\"y\":{\"field\":\"y\"}},\"id\":\"1362\",\"type\":\"Circle\"},{\"attributes\":{},\"id\":\"1348\",\"type\":\"SaveTool\"},{\"attributes\":{},\"id\":\"1391\",\"type\":\"BasicTickFormatter\"},{\"attributes\":{},\"id\":\"1349\",\"type\":\"ResetTool\"},{\"attributes\":{\"source\":{\"id\":\"1360\",\"type\":\"ColumnDataSource\"}},\"id\":\"1364\",\"type\":\"CDSView\"},{\"attributes\":{},\"id\":\"1350\",\"type\":\"HelpTool\"},{\"attributes\":{\"data_source\":{\"id\":\"1360\",\"type\":\"ColumnDataSource\"},\"glyph\":{\"id\":\"1361\",\"type\":\"Circle\"},\"hover_glyph\":null,\"muted_glyph\":null,\"nonselection_glyph\":{\"id\":\"1362\",\"type\":\"Circle\"},\"selection_glyph\":null,\"view\":{\"id\":\"1364\",\"type\":\"CDSView\"}},\"id\":\"1363\",\"type\":\"GlyphRenderer\"},{\"attributes\":{\"fill_alpha\":{\"value\":0.5},\"fill_color\":{\"value\":\"#1f77b4\"},\"line_alpha\":{\"value\":0.5},\"line_color\":{\"value\":\"#1f77b4\"},\"size\":{\"units\":\"screen\",\"value\":20},\"x\":{\"field\":\"x\"},\"y\":{\"field\":\"y\"}},\"id\":\"1361\",\"type\":\"Circle\"},{\"attributes\":{},\"id\":\"1333\",\"type\":\"LinearScale\"},{\"attributes\":{\"plot\":{\"id\":\"1325\",\"subtype\":\"Figure\",\"type\":\"Plot\"},\"ticker\":{\"id\":\"1336\",\"type\":\"BasicTicker\"}},\"id\":\"1339\",\"type\":\"Grid\"}],\"root_ids\":[\"1325\"]},\"title\":\"Bokeh Application\",\"version\":\"1.0.4\"}};\n",
       "  var render_items = [{\"docid\":\"c97959e0-e9e7-4216-8d41-34dad499db1c\",\"roots\":{\"1325\":\"3bda0144-1af0-43bc-ada7-37c717e8b805\"}}];\n",
       "  root.Bokeh.embed.embed_items_notebook(docs_json, render_items);\n",
       "\n",
       "  }\n",
       "  if (root.Bokeh !== undefined) {\n",
       "    embed_document(root);\n",
       "  } else {\n",
       "    var attempts = 0;\n",
       "    var timer = setInterval(function(root) {\n",
       "      if (root.Bokeh !== undefined) {\n",
       "        embed_document(root);\n",
       "        clearInterval(timer);\n",
       "      }\n",
       "      attempts++;\n",
       "      if (attempts > 100) {\n",
       "        console.log(\"Bokeh: ERROR: Unable to run BokehJS code because BokehJS library is missing\");\n",
       "        clearInterval(timer);\n",
       "      }\n",
       "    }, 10, root)\n",
       "  }\n",
       "})(window);"
      ],
      "application/vnd.bokehjs_exec.v0+json": ""
     },
     "metadata": {
      "application/vnd.bokehjs_exec.v0+json": {
       "id": "1325"
      }
     },
     "output_type": "display_data"
    }
   ],
   "source": [
    "df = pd.DataFrame(np.random.randn(100,2),columns = ['A','B'])\n",
    "\n",
    "p = figure(plot_width=600, plot_height=400,    # 图表宽度、高度\n",
    "           tools = 'pan,wheel_zoom,box_zoom,save,reset,help',  # 设置工具栏，默认全部显示\n",
    "           toolbar_location='above',     # 工具栏位置：\"above\"，\"below\"，\"left\"，\"right\"\n",
    "           x_axis_label = 'A', y_axis_label = 'B',    # X,Y轴label\n",
    "           x_range = [-3,3], y_range = [-3,3],        # X,Y轴范围\n",
    "           title=\"测试图表\"                       # 设置图表title\n",
    "          )\n",
    "\n",
    "p.title.text_color = \"white\"\n",
    "p.title.text_font = \"times\"\n",
    "p.title.text_font_style = \"italic\"\n",
    "p.title.background_fill_color = \"black\"\n",
    "# 设置标题：颜色、字体、风格、背景颜色\n",
    "\n",
    "p.circle(df['A'], df['B'], size=20,  alpha=0.5)\n",
    "show(p)\n",
    "# 创建散点图\n",
    "# 这里.circle()是figure的一个绘图方法"
   ]
  },
  {
   "cell_type": "code",
   "execution_count": 6,
   "metadata": {},
   "outputs": [
    {
     "data": {
      "text/html": [
       "\n",
       "\n",
       "\n",
       "\n",
       "\n",
       "\n",
       "  <div class=\"bk-root\" id=\"89a5b0e0-fb07-4e99-8b5e-c1f3fb53164c\" data-root-id=\"1446\"></div>\n"
      ]
     },
     "metadata": {},
     "output_type": "display_data"
    },
    {
     "data": {
      "application/javascript": [
       "(function(root) {\n",
       "  function embed_document(root) {\n",
       "    \n",
       "  var docs_json = {\"f12f0658-d918-42ef-9622-08f8e0ef950d\":{\"roots\":{\"references\":[{\"attributes\":{\"below\":[{\"id\":\"1455\",\"type\":\"LinearAxis\"}],\"left\":[{\"id\":\"1460\",\"type\":\"LinearAxis\"}],\"plot_height\":400,\"renderers\":[{\"id\":\"1455\",\"type\":\"LinearAxis\"},{\"id\":\"1459\",\"type\":\"Grid\"},{\"id\":\"1460\",\"type\":\"LinearAxis\"},{\"id\":\"1464\",\"type\":\"Grid\"},{\"id\":\"1473\",\"type\":\"BoxAnnotation\"},{\"id\":\"1483\",\"type\":\"GlyphRenderer\"},{\"id\":\"1488\",\"type\":\"GlyphRenderer\"}],\"title\":{\"id\":\"1524\",\"type\":\"Title\"},\"toolbar\":{\"id\":\"1471\",\"type\":\"Toolbar\"},\"x_range\":{\"id\":\"1447\",\"type\":\"DataRange1d\"},\"x_scale\":{\"id\":\"1451\",\"type\":\"LinearScale\"},\"y_range\":{\"id\":\"1449\",\"type\":\"DataRange1d\"},\"y_scale\":{\"id\":\"1453\",\"type\":\"LinearScale\"}},\"id\":\"1446\",\"subtype\":\"Figure\",\"type\":\"Plot\"},{\"attributes\":{\"active_drag\":\"auto\",\"active_inspect\":\"auto\",\"active_multi\":null,\"active_scroll\":\"auto\",\"active_tap\":\"auto\",\"tools\":[{\"id\":\"1465\",\"type\":\"PanTool\"},{\"id\":\"1466\",\"type\":\"WheelZoomTool\"},{\"id\":\"1467\",\"type\":\"BoxZoomTool\"},{\"id\":\"1468\",\"type\":\"SaveTool\"},{\"id\":\"1469\",\"type\":\"ResetTool\"},{\"id\":\"1470\",\"type\":\"HelpTool\"}]},\"id\":\"1471\",\"type\":\"Toolbar\"},{\"attributes\":{},\"id\":\"1533\",\"type\":\"Selection\"},{\"attributes\":{},\"id\":\"1466\",\"type\":\"WheelZoomTool\"},{\"attributes\":{},\"id\":\"1527\",\"type\":\"BasicTickFormatter\"},{\"attributes\":{},\"id\":\"1465\",\"type\":\"PanTool\"},{\"attributes\":{},\"id\":\"1530\",\"type\":\"UnionRenderers\"},{\"attributes\":{},\"id\":\"1531\",\"type\":\"Selection\"},{\"attributes\":{},\"id\":\"1456\",\"type\":\"BasicTicker\"},{\"attributes\":{\"plot\":{\"id\":\"1446\",\"subtype\":\"Figure\",\"type\":\"Plot\"},\"ticker\":{\"id\":\"1456\",\"type\":\"BasicTicker\"}},\"id\":\"1459\",\"type\":\"Grid\"},{\"attributes\":{},\"id\":\"1532\",\"type\":\"UnionRenderers\"},{\"attributes\":{\"fill_alpha\":{\"value\":0.1},\"fill_color\":{\"value\":\"#1f77b4\"},\"line_alpha\":{\"value\":0.1},\"line_color\":{\"value\":\"#1f77b4\"},\"size\":{\"units\":\"screen\",\"value\":10},\"x\":{\"field\":\"x\"},\"y\":{\"field\":\"y\"}},\"id\":\"1482\",\"type\":\"Circle\"},{\"attributes\":{},\"id\":\"1469\",\"type\":\"ResetTool\"},{\"attributes\":{\"formatter\":{\"id\":\"1525\",\"type\":\"BasicTickFormatter\"},\"plot\":{\"id\":\"1446\",\"subtype\":\"Figure\",\"type\":\"Plot\"},\"ticker\":{\"id\":\"1456\",\"type\":\"BasicTicker\"}},\"id\":\"1455\",\"type\":\"LinearAxis\"},{\"attributes\":{\"callback\":null},\"id\":\"1449\",\"type\":\"DataRange1d\"},{\"attributes\":{},\"id\":\"1525\",\"type\":\"BasicTickFormatter\"},{\"attributes\":{\"source\":{\"id\":\"1485\",\"type\":\"ColumnDataSource\"}},\"id\":\"1489\",\"type\":\"CDSView\"},{\"attributes\":{},\"id\":\"1451\",\"type\":\"LinearScale\"},{\"attributes\":{},\"id\":\"1468\",\"type\":\"SaveTool\"},{\"attributes\":{},\"id\":\"1470\",\"type\":\"HelpTool\"},{\"attributes\":{\"overlay\":{\"id\":\"1473\",\"type\":\"BoxAnnotation\"}},\"id\":\"1467\",\"type\":\"BoxZoomTool\"},{\"attributes\":{\"formatter\":{\"id\":\"1527\",\"type\":\"BasicTickFormatter\"},\"plot\":{\"id\":\"1446\",\"subtype\":\"Figure\",\"type\":\"Plot\"},\"ticker\":{\"id\":\"1461\",\"type\":\"BasicTicker\"}},\"id\":\"1460\",\"type\":\"LinearAxis\"},{\"attributes\":{\"callback\":null,\"data\":{\"x\":[0,1,2,3,4,5,6,7,8,9,10,11,12,13,14,15,16,17,18,19,20,21,22,23,24,25,26,27,28,29,30,31,32,33,34,35,36,37,38,39,40,41,42,43,44,45,46,47,48,49,50,51,52,53,54,55,56,57,58,59,60,61,62,63,64,65,66,67,68,69,70,71,72,73,74,75,76,77,78,79,80,81,82,83,84,85,86,87,88,89,90,91,92,93,94,95,96,97,98,99],\"y\":{\"__ndarray__\":\"STzYoDSSx7+BgyW9V5vKP+o3bnjUCwPAoswwZ/dj8b/aT0G6okb4P2h7/X3NUs0/EbXJbEQ98r/NIoF2D0bOv0nXvXaDU/Y/gBdAiLjSyj+fxnJkVgHPv+Vgg25/1vM/jtSBMviapT/RUH6P1T3gP2Q7Rxdrmc0/Zf6toTep/T8j2R0/3ATRP9ByBaoA2/Y/NfeMKLTJ1T82od8RV2qNv7wo4QujMeO/JvNNdt3pwD+bxZ5Ery39P9kMeVtHt9s/JKjI6zM68T8/EVaYcaH3Pwv76Yr7wNA/fL7Ae0Pk+D9X3j48gWPJP9wIu2Y9R/i/W811aOBu/b+7Eja2wpydv0DXm9pTQuU/TXNn3xgL8T8AZexu6rTLv5GgPZTvRNK/ZAQlThqa5T/KlgaTXDflv/knhjGyhPW/EF6sievD7T/iOCma3sv+v1ITkaXV8/U/7cFuF0+hA8BRab0VwOjOP4adReLdjuw/UEqAeVYqAMBI0C4uo2kCQLqEE+cF0so/rJGtVPQhyj/7Bu3P7bXnv7Jeugqzz+C/aecjELFI+r/Eru5RzTrnP2vhG2eSaPS/n0S0rLMH5j/Gl+Us/TTHv0/oughnOMC/vk4ydE2Asj8ULqIvav7oP2eiFPxzg+Y/7uV0VI3z5r9lMIe0/Ur0vxLJoqTo1NY/rdDMZsmdw79FjB5zVvelv0wJW8ewFPi/NYMEHJ0z7D++pKMiolL2v60XNmMw3P+/fjk/QPrh4T8uZlq4zlryvza45b0Ym6Y/PBCDdl1F0z/J6wNJQnOiv4jCUe/BX8c/eUig4ZCGw7+LTrLC4BYDQCo/VmrAYbS/+BwJFkVG8D8cFhQuGnLpv8MNJmxrgPc/jlB0HRET8T/PNOtsXlXXPz/IzYqYX/u/n6ZAAsuM4b8odm2YW67kP5KShCPLsO6/zWBaF1rswT9miipOGmUAQFV2353fT9U/L8R8SqkI2b9UMYOSgcq8vytwxJXyk+m/Z+B85+Ih4j9fbgre6N/wP/+fSC5qTPQ/qRe0iCOC8D+geRVTYULPvxWQZpi94Nw/mr66xMvZ9D8=\",\"dtype\":\"float64\",\"shape\":[100]}},\"selected\":{\"id\":\"1531\",\"type\":\"Selection\"},\"selection_policy\":{\"id\":\"1530\",\"type\":\"UnionRenderers\"}},\"id\":\"1480\",\"type\":\"ColumnDataSource\"},{\"attributes\":{\"data_source\":{\"id\":\"1485\",\"type\":\"ColumnDataSource\"},\"glyph\":{\"id\":\"1486\",\"type\":\"Circle\"},\"hover_glyph\":null,\"muted_glyph\":null,\"nonselection_glyph\":{\"id\":\"1487\",\"type\":\"Circle\"},\"selection_glyph\":null,\"view\":{\"id\":\"1489\",\"type\":\"CDSView\"}},\"id\":\"1488\",\"type\":\"GlyphRenderer\"},{\"attributes\":{},\"id\":\"1461\",\"type\":\"BasicTicker\"},{\"attributes\":{\"source\":{\"id\":\"1480\",\"type\":\"ColumnDataSource\"}},\"id\":\"1484\",\"type\":\"CDSView\"},{\"attributes\":{\"callback\":null,\"data\":{\"x\":[0,1,2,3,4,5,6,7,8,9,10,11,12,13,14,15,16,17,18,19,20,21,22,23,24,25,26,27,28,29,30,31,32,33,34,35,36,37,38,39,40,41,42,43,44,45,46,47,48,49,50,51,52,53,54,55,56,57,58,59,60,61,62,63,64,65,66,67,68,69,70,71,72,73,74,75,76,77,78,79,80,81,82,83,84,85,86,87,88,89,90,91,92,93,94,95,96,97,98,99],\"y\":{\"__ndarray__\":\"o3fVyTYn8z9crBj3RartP7h8DY3HbNI/ENNB4OQn37/sGXxpOh0uv5hil2zGn/M/v7W3MYa23z8UUumAJu39v6QPssd6V/K/ZKBZ66yFvD+PRthjyVKRP2IayBimx/s/KmwCmYlltj8751sqxZOkv3JR0NaInd+/Llrw64fr8b9XqpLJsVH7vytmJZZqvvg//bHX7efuuj+4eXWg8RDyv7dISVQiquu/y6716baJ57/I9mUXa7oBQHnG7AZnmeC/u4nRHyj667+HoQg/gfffP7he+Tm+JMU/svBxUaNT9T8Pm8uMjMX4PzRM5ZLqWfK/laT9hoZB879kOyjgSLXUP+xKTYkyCLG/6R8wI+JS6r8AMc5GvJX+P5BbsF3wlMc/Pymfrw7Hlj+rfMLDG3Dvv3gYS0tAb+K/xrYpXce35T+rV9sTlubkP2A3u4ENYbo/3yHL/xti8T/ZkTajrSP7v3Kt71l7UfU/pCl2bwl65T/7xuytHrXRP48Mg+crrtu/MwYO2WyQ8z8Yv8dSd5PAP3UCThPqd9+/61kt1CRG+r/XR1kuw0j8vxfC8zMzreS/I1fUWtLi5D+octyjoR7uP6FyFpGXy84/8NkVRKxv8r/AiCmElM3oP4G58bcTXva/9n8XwqM+xr+JJNHDE03qv3/ZddtLXMe/uayDiM3D+L/dncI2IRv1v1Pv0aaF0N8/f11JwoEV8b9/dyhble3Zv0sOIekvGuM/QkSqEvhR8r8XJ9k1d//hP/JGuVeReOi/8dERn4Gm8z9X2rp+LNbWvyHrVO5IzPo/v7QiAsaTz79zQ/21DpXTv1HaMvsf8vM/IUn82Tq8xT+wK/ONfOnnP+i1t+CTj+w/kkBkmip/2b84WGd9H8j9v7X0vv5eEuk/MUJFSdmy4L/SOvWs+47aP2ihtWLn37I/ScOhfQxs0T+41qZtX2jgvy+DyGDMV9W/xijw3RVQyL8LPqJc3WbJvy48+BEJGMY/0PfJp8wF/L/HXJV1SxDkPzCkxZpqF+I/5kFd/vMI878HPPSrVgrSv/pewIrElOY/BuT7ollu978=\",\"dtype\":\"float64\",\"shape\":[100]}},\"selected\":{\"id\":\"1533\",\"type\":\"Selection\"},\"selection_policy\":{\"id\":\"1532\",\"type\":\"UnionRenderers\"}},\"id\":\"1485\",\"type\":\"ColumnDataSource\"},{\"attributes\":{\"fill_alpha\":{\"value\":0.5},\"fill_color\":{\"value\":\"#FF0000\"},\"line_alpha\":{\"value\":0.5},\"line_color\":{\"value\":\"#FF0000\"},\"size\":{\"units\":\"screen\",\"value\":10},\"x\":{\"field\":\"x\"},\"y\":{\"field\":\"y\"}},\"id\":\"1486\",\"type\":\"Circle\"},{\"attributes\":{\"plot\":null,\"text\":\"\"},\"id\":\"1524\",\"type\":\"Title\"},{\"attributes\":{\"dimension\":1,\"plot\":{\"id\":\"1446\",\"subtype\":\"Figure\",\"type\":\"Plot\"},\"ticker\":{\"id\":\"1461\",\"type\":\"BasicTicker\"}},\"id\":\"1464\",\"type\":\"Grid\"},{\"attributes\":{\"data_source\":{\"id\":\"1480\",\"type\":\"ColumnDataSource\"},\"glyph\":{\"id\":\"1481\",\"type\":\"Circle\"},\"hover_glyph\":null,\"muted_glyph\":null,\"nonselection_glyph\":{\"id\":\"1482\",\"type\":\"Circle\"},\"selection_glyph\":null,\"view\":{\"id\":\"1484\",\"type\":\"CDSView\"}},\"id\":\"1483\",\"type\":\"GlyphRenderer\"},{\"attributes\":{\"fill_alpha\":{\"value\":0.1},\"fill_color\":{\"value\":\"#1f77b4\"},\"line_alpha\":{\"value\":0.1},\"line_color\":{\"value\":\"#1f77b4\"},\"size\":{\"units\":\"screen\",\"value\":10},\"x\":{\"field\":\"x\"},\"y\":{\"field\":\"y\"}},\"id\":\"1487\",\"type\":\"Circle\"},{\"attributes\":{\"callback\":null},\"id\":\"1447\",\"type\":\"DataRange1d\"},{\"attributes\":{},\"id\":\"1453\",\"type\":\"LinearScale\"},{\"attributes\":{\"fill_alpha\":{\"value\":0.5},\"fill_color\":{\"value\":\"green\"},\"line_alpha\":{\"value\":0.5},\"line_color\":{\"value\":\"green\"},\"size\":{\"units\":\"screen\",\"value\":10},\"x\":{\"field\":\"x\"},\"y\":{\"field\":\"y\"}},\"id\":\"1481\",\"type\":\"Circle\"},{\"attributes\":{\"bottom_units\":\"screen\",\"fill_alpha\":{\"value\":0.5},\"fill_color\":{\"value\":\"lightgrey\"},\"left_units\":\"screen\",\"level\":\"overlay\",\"line_alpha\":{\"value\":1.0},\"line_color\":{\"value\":\"black\"},\"line_dash\":[4,4],\"line_width\":{\"value\":2},\"plot\":null,\"render_mode\":\"css\",\"right_units\":\"screen\",\"top_units\":\"screen\"},\"id\":\"1473\",\"type\":\"BoxAnnotation\"}],\"root_ids\":[\"1446\"]},\"title\":\"Bokeh Application\",\"version\":\"1.0.4\"}};\n",
       "  var render_items = [{\"docid\":\"f12f0658-d918-42ef-9622-08f8e0ef950d\",\"roots\":{\"1446\":\"89a5b0e0-fb07-4e99-8b5e-c1f3fb53164c\"}}];\n",
       "  root.Bokeh.embed.embed_items_notebook(docs_json, render_items);\n",
       "\n",
       "  }\n",
       "  if (root.Bokeh !== undefined) {\n",
       "    embed_document(root);\n",
       "  } else {\n",
       "    var attempts = 0;\n",
       "    var timer = setInterval(function(root) {\n",
       "      if (root.Bokeh !== undefined) {\n",
       "        embed_document(root);\n",
       "        clearInterval(timer);\n",
       "      }\n",
       "      attempts++;\n",
       "      if (attempts > 100) {\n",
       "        console.log(\"Bokeh: ERROR: Unable to run BokehJS code because BokehJS library is missing\");\n",
       "        clearInterval(timer);\n",
       "      }\n",
       "    }, 10, root)\n",
       "  }\n",
       "})(window);"
      ],
      "application/vnd.bokehjs_exec.v0+json": ""
     },
     "metadata": {
      "application/vnd.bokehjs_exec.v0+json": {
       "id": "1446"
      }
     },
     "output_type": "display_data"
    }
   ],
   "source": [
    "# 颜色设置\n",
    "\n",
    "p = figure(plot_width=600, plot_height=400)\n",
    "# 创建绘图空间\n",
    "\n",
    "p.circle(df.index, df['A'], color = 'green', size=10,  alpha=0.5)\n",
    "p.circle(df.index, df['B'], color = '#FF0000', size=10,  alpha=0.5)\n",
    "show(p)\n",
    "# 颜色设置\n",
    "# ① 147个CSS颜色，参考网址：http://www.colors.commutercreative.com/grid/\n",
    "# ② RGB颜色值，参考网址：https://coolors.co/87f1ff-c0f5fa-bd8b9c-af125a-582b11"
   ]
  },
  {
   "cell_type": "code",
   "execution_count": 8,
   "metadata": {},
   "outputs": [
    {
     "data": {
      "text/html": [
       "\n",
       "\n",
       "\n",
       "\n",
       "\n",
       "\n",
       "  <div class=\"bk-root\" id=\"adb8c968-db5f-497e-a24e-6b5f33d6be1d\" data-root-id=\"1765\"></div>\n"
      ]
     },
     "metadata": {},
     "output_type": "display_data"
    },
    {
     "data": {
      "application/javascript": [
       "(function(root) {\n",
       "  function embed_document(root) {\n",
       "    \n",
       "  var docs_json = {\"f73b3e0f-c47c-434b-ba8a-e6fc7f6439cf\":{\"roots\":{\"references\":[{\"attributes\":{\"below\":[{\"id\":\"1774\",\"type\":\"LinearAxis\"}],\"left\":[{\"id\":\"1779\",\"type\":\"LinearAxis\"}],\"outline_line_alpha\":{\"value\":0.3},\"outline_line_color\":{\"value\":\"navy\"},\"outline_line_width\":{\"value\":7},\"plot_height\":400,\"renderers\":[{\"id\":\"1774\",\"type\":\"LinearAxis\"},{\"id\":\"1778\",\"type\":\"Grid\"},{\"id\":\"1779\",\"type\":\"LinearAxis\"},{\"id\":\"1783\",\"type\":\"Grid\"},{\"id\":\"1792\",\"type\":\"BoxAnnotation\"},{\"id\":\"1802\",\"type\":\"GlyphRenderer\"},{\"id\":\"1807\",\"type\":\"GlyphRenderer\"}],\"title\":{\"id\":\"1865\",\"type\":\"Title\"},\"toolbar\":{\"id\":\"1790\",\"type\":\"Toolbar\"},\"x_range\":{\"id\":\"1766\",\"type\":\"DataRange1d\"},\"x_scale\":{\"id\":\"1770\",\"type\":\"LinearScale\"},\"y_range\":{\"id\":\"1768\",\"type\":\"DataRange1d\"},\"y_scale\":{\"id\":\"1772\",\"type\":\"LinearScale\"}},\"id\":\"1765\",\"subtype\":\"Figure\",\"type\":\"Plot\"},{\"attributes\":{\"active_drag\":\"auto\",\"active_inspect\":\"auto\",\"active_multi\":null,\"active_scroll\":\"auto\",\"active_tap\":\"auto\",\"tools\":[{\"id\":\"1784\",\"type\":\"PanTool\"},{\"id\":\"1785\",\"type\":\"WheelZoomTool\"},{\"id\":\"1786\",\"type\":\"BoxZoomTool\"},{\"id\":\"1787\",\"type\":\"SaveTool\"},{\"id\":\"1788\",\"type\":\"ResetTool\"},{\"id\":\"1789\",\"type\":\"HelpTool\"}]},\"id\":\"1790\",\"type\":\"Toolbar\"},{\"attributes\":{\"data_source\":{\"id\":\"1799\",\"type\":\"ColumnDataSource\"},\"glyph\":{\"id\":\"1800\",\"type\":\"Circle\"},\"hover_glyph\":null,\"muted_glyph\":null,\"nonselection_glyph\":{\"id\":\"1801\",\"type\":\"Circle\"},\"selection_glyph\":null,\"view\":{\"id\":\"1803\",\"type\":\"CDSView\"}},\"id\":\"1802\",\"type\":\"GlyphRenderer\"},{\"attributes\":{},\"id\":\"1785\",\"type\":\"WheelZoomTool\"},{\"attributes\":{\"bottom_units\":\"screen\",\"fill_alpha\":{\"value\":0.5},\"fill_color\":{\"value\":\"lightgrey\"},\"left_units\":\"screen\",\"level\":\"overlay\",\"line_alpha\":{\"value\":1.0},\"line_color\":{\"value\":\"black\"},\"line_dash\":[4,4],\"line_width\":{\"value\":2},\"plot\":null,\"render_mode\":\"css\",\"right_units\":\"screen\",\"top_units\":\"screen\"},\"id\":\"1792\",\"type\":\"BoxAnnotation\"},{\"attributes\":{\"dimension\":1,\"plot\":{\"id\":\"1765\",\"subtype\":\"Figure\",\"type\":\"Plot\"},\"ticker\":{\"id\":\"1780\",\"type\":\"BasicTicker\"}},\"id\":\"1783\",\"type\":\"Grid\"},{\"attributes\":{\"callback\":null,\"data\":{\"x\":[0,1,2,3,4,5,6,7,8,9,10,11,12,13,14,15,16,17,18,19,20,21,22,23,24,25,26,27,28,29,30,31,32,33,34,35,36,37,38,39,40,41,42,43,44,45,46,47,48,49,50,51,52,53,54,55,56,57,58,59,60,61,62,63,64,65,66,67,68,69,70,71,72,73,74,75,76,77,78,79,80,81,82,83,84,85,86,87,88,89,90,91,92,93,94,95,96,97,98,99],\"y\":{\"__ndarray__\":\"o3fVyTYn8z9crBj3RartP7h8DY3HbNI/ENNB4OQn37/sGXxpOh0uv5hil2zGn/M/v7W3MYa23z8UUumAJu39v6QPssd6V/K/ZKBZ66yFvD+PRthjyVKRP2IayBimx/s/KmwCmYlltj8751sqxZOkv3JR0NaInd+/Llrw64fr8b9XqpLJsVH7vytmJZZqvvg//bHX7efuuj+4eXWg8RDyv7dISVQiquu/y6716baJ57/I9mUXa7oBQHnG7AZnmeC/u4nRHyj667+HoQg/gfffP7he+Tm+JMU/svBxUaNT9T8Pm8uMjMX4PzRM5ZLqWfK/laT9hoZB879kOyjgSLXUP+xKTYkyCLG/6R8wI+JS6r8AMc5GvJX+P5BbsF3wlMc/Pymfrw7Hlj+rfMLDG3Dvv3gYS0tAb+K/xrYpXce35T+rV9sTlubkP2A3u4ENYbo/3yHL/xti8T/ZkTajrSP7v3Kt71l7UfU/pCl2bwl65T/7xuytHrXRP48Mg+crrtu/MwYO2WyQ8z8Yv8dSd5PAP3UCThPqd9+/61kt1CRG+r/XR1kuw0j8vxfC8zMzreS/I1fUWtLi5D+octyjoR7uP6FyFpGXy84/8NkVRKxv8r/AiCmElM3oP4G58bcTXva/9n8XwqM+xr+JJNHDE03qv3/ZddtLXMe/uayDiM3D+L/dncI2IRv1v1Pv0aaF0N8/f11JwoEV8b9/dyhble3Zv0sOIekvGuM/QkSqEvhR8r8XJ9k1d//hP/JGuVeReOi/8dERn4Gm8z9X2rp+LNbWvyHrVO5IzPo/v7QiAsaTz79zQ/21DpXTv1HaMvsf8vM/IUn82Tq8xT+wK/ONfOnnP+i1t+CTj+w/kkBkmip/2b84WGd9H8j9v7X0vv5eEuk/MUJFSdmy4L/SOvWs+47aP2ihtWLn37I/ScOhfQxs0T+41qZtX2jgvy+DyGDMV9W/xijw3RVQyL8LPqJc3WbJvy48+BEJGMY/0PfJp8wF/L/HXJV1SxDkPzCkxZpqF+I/5kFd/vMI878HPPSrVgrSv/pewIrElOY/BuT7ollu978=\",\"dtype\":\"float64\",\"shape\":[100]}},\"selected\":{\"id\":\"1874\",\"type\":\"Selection\"},\"selection_policy\":{\"id\":\"1873\",\"type\":\"UnionRenderers\"}},\"id\":\"1804\",\"type\":\"ColumnDataSource\"},{\"attributes\":{\"fill_alpha\":{\"value\":0.1},\"fill_color\":{\"value\":\"#1f77b4\"},\"line_alpha\":{\"value\":0.1},\"line_color\":{\"value\":\"#1f77b4\"},\"size\":{\"units\":\"screen\",\"value\":10},\"x\":{\"field\":\"x\"},\"y\":{\"field\":\"y\"}},\"id\":\"1801\",\"type\":\"Circle\"},{\"attributes\":{\"callback\":null,\"data\":{\"x\":[0,1,2,3,4,5,6,7,8,9,10,11,12,13,14,15,16,17,18,19,20,21,22,23,24,25,26,27,28,29,30,31,32,33,34,35,36,37,38,39,40,41,42,43,44,45,46,47,48,49,50,51,52,53,54,55,56,57,58,59,60,61,62,63,64,65,66,67,68,69,70,71,72,73,74,75,76,77,78,79,80,81,82,83,84,85,86,87,88,89,90,91,92,93,94,95,96,97,98,99],\"y\":{\"__ndarray__\":\"STzYoDSSx7+BgyW9V5vKP+o3bnjUCwPAoswwZ/dj8b/aT0G6okb4P2h7/X3NUs0/EbXJbEQ98r/NIoF2D0bOv0nXvXaDU/Y/gBdAiLjSyj+fxnJkVgHPv+Vgg25/1vM/jtSBMviapT/RUH6P1T3gP2Q7Rxdrmc0/Zf6toTep/T8j2R0/3ATRP9ByBaoA2/Y/NfeMKLTJ1T82od8RV2qNv7wo4QujMeO/JvNNdt3pwD+bxZ5Ery39P9kMeVtHt9s/JKjI6zM68T8/EVaYcaH3Pwv76Yr7wNA/fL7Ae0Pk+D9X3j48gWPJP9wIu2Y9R/i/W811aOBu/b+7Eja2wpydv0DXm9pTQuU/TXNn3xgL8T8AZexu6rTLv5GgPZTvRNK/ZAQlThqa5T/KlgaTXDflv/knhjGyhPW/EF6sievD7T/iOCma3sv+v1ITkaXV8/U/7cFuF0+hA8BRab0VwOjOP4adReLdjuw/UEqAeVYqAMBI0C4uo2kCQLqEE+cF0so/rJGtVPQhyj/7Bu3P7bXnv7Jeugqzz+C/aecjELFI+r/Eru5RzTrnP2vhG2eSaPS/n0S0rLMH5j/Gl+Us/TTHv0/oughnOMC/vk4ydE2Asj8ULqIvav7oP2eiFPxzg+Y/7uV0VI3z5r9lMIe0/Ur0vxLJoqTo1NY/rdDMZsmdw79FjB5zVvelv0wJW8ewFPi/NYMEHJ0z7D++pKMiolL2v60XNmMw3P+/fjk/QPrh4T8uZlq4zlryvza45b0Ym6Y/PBCDdl1F0z/J6wNJQnOiv4jCUe/BX8c/eUig4ZCGw7+LTrLC4BYDQCo/VmrAYbS/+BwJFkVG8D8cFhQuGnLpv8MNJmxrgPc/jlB0HRET8T/PNOtsXlXXPz/IzYqYX/u/n6ZAAsuM4b8odm2YW67kP5KShCPLsO6/zWBaF1rswT9miipOGmUAQFV2353fT9U/L8R8SqkI2b9UMYOSgcq8vytwxJXyk+m/Z+B85+Ih4j9fbgre6N/wP/+fSC5qTPQ/qRe0iCOC8D+geRVTYULPvxWQZpi94Nw/mr66xMvZ9D8=\",\"dtype\":\"float64\",\"shape\":[100]}},\"selected\":{\"id\":\"1872\",\"type\":\"Selection\"},\"selection_policy\":{\"id\":\"1871\",\"type\":\"UnionRenderers\"}},\"id\":\"1799\",\"type\":\"ColumnDataSource\"},{\"attributes\":{},\"id\":\"1866\",\"type\":\"BasicTickFormatter\"},{\"attributes\":{\"source\":{\"id\":\"1799\",\"type\":\"ColumnDataSource\"}},\"id\":\"1803\",\"type\":\"CDSView\"},{\"attributes\":{},\"id\":\"1787\",\"type\":\"SaveTool\"},{\"attributes\":{\"fill_alpha\":{\"value\":0.5},\"fill_color\":{\"value\":\"#FF0000\"},\"line_alpha\":{\"value\":0.5},\"line_color\":{\"value\":\"#FF0000\"},\"size\":{\"units\":\"screen\",\"value\":10},\"x\":{\"field\":\"x\"},\"y\":{\"field\":\"y\"}},\"id\":\"1805\",\"type\":\"Circle\"},{\"attributes\":{\"fill_alpha\":{\"value\":0.1},\"fill_color\":{\"value\":\"#1f77b4\"},\"line_alpha\":{\"value\":0.1},\"line_color\":{\"value\":\"#1f77b4\"},\"size\":{\"units\":\"screen\",\"value\":10},\"x\":{\"field\":\"x\"},\"y\":{\"field\":\"y\"}},\"id\":\"1806\",\"type\":\"Circle\"},{\"attributes\":{},\"id\":\"1788\",\"type\":\"ResetTool\"},{\"attributes\":{\"data_source\":{\"id\":\"1804\",\"type\":\"ColumnDataSource\"},\"glyph\":{\"id\":\"1805\",\"type\":\"Circle\"},\"hover_glyph\":null,\"muted_glyph\":null,\"nonselection_glyph\":{\"id\":\"1806\",\"type\":\"Circle\"},\"selection_glyph\":null,\"view\":{\"id\":\"1808\",\"type\":\"CDSView\"}},\"id\":\"1807\",\"type\":\"GlyphRenderer\"},{\"attributes\":{},\"id\":\"1780\",\"type\":\"BasicTicker\"},{\"attributes\":{\"source\":{\"id\":\"1804\",\"type\":\"ColumnDataSource\"}},\"id\":\"1808\",\"type\":\"CDSView\"},{\"attributes\":{\"overlay\":{\"id\":\"1792\",\"type\":\"BoxAnnotation\"}},\"id\":\"1786\",\"type\":\"BoxZoomTool\"},{\"attributes\":{},\"id\":\"1789\",\"type\":\"HelpTool\"},{\"attributes\":{},\"id\":\"1868\",\"type\":\"BasicTickFormatter\"},{\"attributes\":{},\"id\":\"1784\",\"type\":\"PanTool\"},{\"attributes\":{},\"id\":\"1871\",\"type\":\"UnionRenderers\"},{\"attributes\":{},\"id\":\"1872\",\"type\":\"Selection\"},{\"attributes\":{},\"id\":\"1775\",\"type\":\"BasicTicker\"},{\"attributes\":{\"plot\":{\"id\":\"1765\",\"subtype\":\"Figure\",\"type\":\"Plot\"},\"ticker\":{\"id\":\"1775\",\"type\":\"BasicTicker\"}},\"id\":\"1778\",\"type\":\"Grid\"},{\"attributes\":{\"formatter\":{\"id\":\"1868\",\"type\":\"BasicTickFormatter\"},\"plot\":{\"id\":\"1765\",\"subtype\":\"Figure\",\"type\":\"Plot\"},\"ticker\":{\"id\":\"1780\",\"type\":\"BasicTicker\"}},\"id\":\"1779\",\"type\":\"LinearAxis\"},{\"attributes\":{\"formatter\":{\"id\":\"1866\",\"type\":\"BasicTickFormatter\"},\"plot\":{\"id\":\"1765\",\"subtype\":\"Figure\",\"type\":\"Plot\"},\"ticker\":{\"id\":\"1775\",\"type\":\"BasicTicker\"}},\"id\":\"1774\",\"type\":\"LinearAxis\"},{\"attributes\":{},\"id\":\"1873\",\"type\":\"UnionRenderers\"},{\"attributes\":{\"plot\":null,\"text\":\"\"},\"id\":\"1865\",\"type\":\"Title\"},{\"attributes\":{},\"id\":\"1772\",\"type\":\"LinearScale\"},{\"attributes\":{\"callback\":null},\"id\":\"1766\",\"type\":\"DataRange1d\"},{\"attributes\":{\"callback\":null},\"id\":\"1768\",\"type\":\"DataRange1d\"},{\"attributes\":{},\"id\":\"1770\",\"type\":\"LinearScale\"},{\"attributes\":{\"fill_alpha\":{\"value\":0.5},\"fill_color\":{\"value\":\"green\"},\"line_alpha\":{\"value\":0.5},\"line_color\":{\"value\":\"green\"},\"size\":{\"units\":\"screen\",\"value\":10},\"x\":{\"field\":\"x\"},\"y\":{\"field\":\"y\"}},\"id\":\"1800\",\"type\":\"Circle\"},{\"attributes\":{},\"id\":\"1874\",\"type\":\"Selection\"}],\"root_ids\":[\"1765\"]},\"title\":\"Bokeh Application\",\"version\":\"1.0.4\"}};\n",
       "  var render_items = [{\"docid\":\"f73b3e0f-c47c-434b-ba8a-e6fc7f6439cf\",\"roots\":{\"1765\":\"adb8c968-db5f-497e-a24e-6b5f33d6be1d\"}}];\n",
       "  root.Bokeh.embed.embed_items_notebook(docs_json, render_items);\n",
       "\n",
       "  }\n",
       "  if (root.Bokeh !== undefined) {\n",
       "    embed_document(root);\n",
       "  } else {\n",
       "    var attempts = 0;\n",
       "    var timer = setInterval(function(root) {\n",
       "      if (root.Bokeh !== undefined) {\n",
       "        embed_document(root);\n",
       "        clearInterval(timer);\n",
       "      }\n",
       "      attempts++;\n",
       "      if (attempts > 100) {\n",
       "        console.log(\"Bokeh: ERROR: Unable to run BokehJS code because BokehJS library is missing\");\n",
       "        clearInterval(timer);\n",
       "      }\n",
       "    }, 10, root)\n",
       "  }\n",
       "})(window);"
      ],
      "application/vnd.bokehjs_exec.v0+json": ""
     },
     "metadata": {
      "application/vnd.bokehjs_exec.v0+json": {
       "id": "1765"
      }
     },
     "output_type": "display_data"
    }
   ],
   "source": [
    "# 图表边框线参数设置\n",
    "\n",
    "p = figure(plot_width=600, plot_height=400)\n",
    "p.circle(df.index, df['A'], color = 'green', size=10,  alpha=0.5)\n",
    "p.circle(df.index, df['B'], color = '#FF0000', size=10,  alpha=0.5)\n",
    "# 绘制散点图\n",
    " \n",
    "p.outline_line_width = 7         # 边框线宽\n",
    "p.outline_line_alpha = 0.3       # 边框线透明度\n",
    "p.outline_line_color = \"navy\"    # 边框线颜色\n",
    "# 设置图表边框\n",
    "\n",
    "show(p)"
   ]
  },
  {
   "cell_type": "code",
   "execution_count": 9,
   "metadata": {},
   "outputs": [
    {
     "data": {
      "text/html": [
       "\n",
       "\n",
       "\n",
       "\n",
       "\n",
       "\n",
       "  <div class=\"bk-root\" id=\"3cd9f14c-7c48-4162-a875-04f4f4c0cd1e\" data-root-id=\"1941\"></div>\n"
      ]
     },
     "metadata": {},
     "output_type": "display_data"
    },
    {
     "data": {
      "application/javascript": [
       "(function(root) {\n",
       "  function embed_document(root) {\n",
       "    \n",
       "  var docs_json = {\"05b94ccd-1e1c-4ca5-a409-239e2f7152a8\":{\"roots\":{\"references\":[{\"attributes\":{\"background_fill_alpha\":{\"value\":0.5},\"background_fill_color\":{\"value\":\"beige\"},\"below\":[{\"id\":\"1950\",\"type\":\"LinearAxis\"}],\"left\":[{\"id\":\"1955\",\"type\":\"LinearAxis\"}],\"plot_height\":400,\"renderers\":[{\"id\":\"1950\",\"type\":\"LinearAxis\"},{\"id\":\"1954\",\"type\":\"Grid\"},{\"id\":\"1955\",\"type\":\"LinearAxis\"},{\"id\":\"1959\",\"type\":\"Grid\"},{\"id\":\"1968\",\"type\":\"BoxAnnotation\"},{\"id\":\"1978\",\"type\":\"GlyphRenderer\"},{\"id\":\"1983\",\"type\":\"GlyphRenderer\"}],\"title\":{\"id\":\"2052\",\"type\":\"Title\"},\"toolbar\":{\"id\":\"1966\",\"type\":\"Toolbar\"},\"x_range\":{\"id\":\"1942\",\"type\":\"DataRange1d\"},\"x_scale\":{\"id\":\"1946\",\"type\":\"LinearScale\"},\"y_range\":{\"id\":\"1944\",\"type\":\"DataRange1d\"},\"y_scale\":{\"id\":\"1948\",\"type\":\"LinearScale\"}},\"id\":\"1941\",\"subtype\":\"Figure\",\"type\":\"Plot\"},{\"attributes\":{\"source\":{\"id\":\"1975\",\"type\":\"ColumnDataSource\"}},\"id\":\"1979\",\"type\":\"CDSView\"},{\"attributes\":{\"bottom_units\":\"screen\",\"fill_alpha\":{\"value\":0.5},\"fill_color\":{\"value\":\"lightgrey\"},\"left_units\":\"screen\",\"level\":\"overlay\",\"line_alpha\":{\"value\":1.0},\"line_color\":{\"value\":\"black\"},\"line_dash\":[4,4],\"line_width\":{\"value\":2},\"plot\":null,\"render_mode\":\"css\",\"right_units\":\"screen\",\"top_units\":\"screen\"},\"id\":\"1968\",\"type\":\"BoxAnnotation\"},{\"attributes\":{},\"id\":\"1951\",\"type\":\"BasicTicker\"},{\"attributes\":{\"plot\":{\"id\":\"1941\",\"subtype\":\"Figure\",\"type\":\"Plot\"},\"ticker\":{\"id\":\"1951\",\"type\":\"BasicTicker\"}},\"id\":\"1954\",\"type\":\"Grid\"},{\"attributes\":{\"fill_alpha\":{\"value\":0.5},\"fill_color\":{\"value\":\"#FF0000\"},\"line_alpha\":{\"value\":0.5},\"line_color\":{\"value\":\"#FF0000\"},\"size\":{\"units\":\"screen\",\"value\":10},\"x\":{\"field\":\"x\"},\"y\":{\"field\":\"y\"}},\"id\":\"1981\",\"type\":\"Circle\"},{\"attributes\":{\"formatter\":{\"id\":\"2055\",\"type\":\"BasicTickFormatter\"},\"plot\":{\"id\":\"1941\",\"subtype\":\"Figure\",\"type\":\"Plot\"},\"ticker\":{\"id\":\"1956\",\"type\":\"BasicTicker\"}},\"id\":\"1955\",\"type\":\"LinearAxis\"},{\"attributes\":{},\"id\":\"1956\",\"type\":\"BasicTicker\"},{\"attributes\":{\"data_source\":{\"id\":\"1980\",\"type\":\"ColumnDataSource\"},\"glyph\":{\"id\":\"1981\",\"type\":\"Circle\"},\"hover_glyph\":null,\"muted_glyph\":null,\"nonselection_glyph\":{\"id\":\"1982\",\"type\":\"Circle\"},\"selection_glyph\":null,\"view\":{\"id\":\"1984\",\"type\":\"CDSView\"}},\"id\":\"1983\",\"type\":\"GlyphRenderer\"},{\"attributes\":{\"source\":{\"id\":\"1980\",\"type\":\"ColumnDataSource\"}},\"id\":\"1984\",\"type\":\"CDSView\"},{\"attributes\":{\"formatter\":{\"id\":\"2053\",\"type\":\"BasicTickFormatter\"},\"plot\":{\"id\":\"1941\",\"subtype\":\"Figure\",\"type\":\"Plot\"},\"ticker\":{\"id\":\"1951\",\"type\":\"BasicTicker\"}},\"id\":\"1950\",\"type\":\"LinearAxis\"},{\"attributes\":{\"active_drag\":\"auto\",\"active_inspect\":\"auto\",\"active_multi\":null,\"active_scroll\":\"auto\",\"active_tap\":\"auto\",\"tools\":[{\"id\":\"1960\",\"type\":\"PanTool\"},{\"id\":\"1961\",\"type\":\"WheelZoomTool\"},{\"id\":\"1962\",\"type\":\"BoxZoomTool\"},{\"id\":\"1963\",\"type\":\"SaveTool\"},{\"id\":\"1964\",\"type\":\"ResetTool\"},{\"id\":\"1965\",\"type\":\"HelpTool\"}]},\"id\":\"1966\",\"type\":\"Toolbar\"},{\"attributes\":{\"fill_alpha\":{\"value\":0.5},\"fill_color\":{\"value\":\"green\"},\"line_alpha\":{\"value\":0.5},\"line_color\":{\"value\":\"green\"},\"size\":{\"units\":\"screen\",\"value\":10},\"x\":{\"field\":\"x\"},\"y\":{\"field\":\"y\"}},\"id\":\"1976\",\"type\":\"Circle\"},{\"attributes\":{\"fill_alpha\":{\"value\":0.1},\"fill_color\":{\"value\":\"#1f77b4\"},\"line_alpha\":{\"value\":0.1},\"line_color\":{\"value\":\"#1f77b4\"},\"size\":{\"units\":\"screen\",\"value\":10},\"x\":{\"field\":\"x\"},\"y\":{\"field\":\"y\"}},\"id\":\"1982\",\"type\":\"Circle\"},{\"attributes\":{\"data_source\":{\"id\":\"1975\",\"type\":\"ColumnDataSource\"},\"glyph\":{\"id\":\"1976\",\"type\":\"Circle\"},\"hover_glyph\":null,\"muted_glyph\":null,\"nonselection_glyph\":{\"id\":\"1977\",\"type\":\"Circle\"},\"selection_glyph\":null,\"view\":{\"id\":\"1979\",\"type\":\"CDSView\"}},\"id\":\"1978\",\"type\":\"GlyphRenderer\"},{\"attributes\":{},\"id\":\"2053\",\"type\":\"BasicTickFormatter\"},{\"attributes\":{},\"id\":\"1948\",\"type\":\"LinearScale\"},{\"attributes\":{},\"id\":\"2055\",\"type\":\"BasicTickFormatter\"},{\"attributes\":{},\"id\":\"1946\",\"type\":\"LinearScale\"},{\"attributes\":{},\"id\":\"2058\",\"type\":\"UnionRenderers\"},{\"attributes\":{\"callback\":null},\"id\":\"1944\",\"type\":\"DataRange1d\"},{\"attributes\":{},\"id\":\"2059\",\"type\":\"Selection\"},{\"attributes\":{\"callback\":null},\"id\":\"1942\",\"type\":\"DataRange1d\"},{\"attributes\":{},\"id\":\"2060\",\"type\":\"UnionRenderers\"},{\"attributes\":{\"callback\":null,\"data\":{\"x\":[0,1,2,3,4,5,6,7,8,9,10,11,12,13,14,15,16,17,18,19,20,21,22,23,24,25,26,27,28,29,30,31,32,33,34,35,36,37,38,39,40,41,42,43,44,45,46,47,48,49,50,51,52,53,54,55,56,57,58,59,60,61,62,63,64,65,66,67,68,69,70,71,72,73,74,75,76,77,78,79,80,81,82,83,84,85,86,87,88,89,90,91,92,93,94,95,96,97,98,99],\"y\":{\"__ndarray__\":\"STzYoDSSx7+BgyW9V5vKP+o3bnjUCwPAoswwZ/dj8b/aT0G6okb4P2h7/X3NUs0/EbXJbEQ98r/NIoF2D0bOv0nXvXaDU/Y/gBdAiLjSyj+fxnJkVgHPv+Vgg25/1vM/jtSBMviapT/RUH6P1T3gP2Q7Rxdrmc0/Zf6toTep/T8j2R0/3ATRP9ByBaoA2/Y/NfeMKLTJ1T82od8RV2qNv7wo4QujMeO/JvNNdt3pwD+bxZ5Ery39P9kMeVtHt9s/JKjI6zM68T8/EVaYcaH3Pwv76Yr7wNA/fL7Ae0Pk+D9X3j48gWPJP9wIu2Y9R/i/W811aOBu/b+7Eja2wpydv0DXm9pTQuU/TXNn3xgL8T8AZexu6rTLv5GgPZTvRNK/ZAQlThqa5T/KlgaTXDflv/knhjGyhPW/EF6sievD7T/iOCma3sv+v1ITkaXV8/U/7cFuF0+hA8BRab0VwOjOP4adReLdjuw/UEqAeVYqAMBI0C4uo2kCQLqEE+cF0so/rJGtVPQhyj/7Bu3P7bXnv7Jeugqzz+C/aecjELFI+r/Eru5RzTrnP2vhG2eSaPS/n0S0rLMH5j/Gl+Us/TTHv0/oughnOMC/vk4ydE2Asj8ULqIvav7oP2eiFPxzg+Y/7uV0VI3z5r9lMIe0/Ur0vxLJoqTo1NY/rdDMZsmdw79FjB5zVvelv0wJW8ewFPi/NYMEHJ0z7D++pKMiolL2v60XNmMw3P+/fjk/QPrh4T8uZlq4zlryvza45b0Ym6Y/PBCDdl1F0z/J6wNJQnOiv4jCUe/BX8c/eUig4ZCGw7+LTrLC4BYDQCo/VmrAYbS/+BwJFkVG8D8cFhQuGnLpv8MNJmxrgPc/jlB0HRET8T/PNOtsXlXXPz/IzYqYX/u/n6ZAAsuM4b8odm2YW67kP5KShCPLsO6/zWBaF1rswT9miipOGmUAQFV2353fT9U/L8R8SqkI2b9UMYOSgcq8vytwxJXyk+m/Z+B85+Ih4j9fbgre6N/wP/+fSC5qTPQ/qRe0iCOC8D+geRVTYULPvxWQZpi94Nw/mr66xMvZ9D8=\",\"dtype\":\"float64\",\"shape\":[100]}},\"selected\":{\"id\":\"2059\",\"type\":\"Selection\"},\"selection_policy\":{\"id\":\"2058\",\"type\":\"UnionRenderers\"}},\"id\":\"1975\",\"type\":\"ColumnDataSource\"},{\"attributes\":{},\"id\":\"2061\",\"type\":\"Selection\"},{\"attributes\":{\"callback\":null,\"data\":{\"x\":[0,1,2,3,4,5,6,7,8,9,10,11,12,13,14,15,16,17,18,19,20,21,22,23,24,25,26,27,28,29,30,31,32,33,34,35,36,37,38,39,40,41,42,43,44,45,46,47,48,49,50,51,52,53,54,55,56,57,58,59,60,61,62,63,64,65,66,67,68,69,70,71,72,73,74,75,76,77,78,79,80,81,82,83,84,85,86,87,88,89,90,91,92,93,94,95,96,97,98,99],\"y\":{\"__ndarray__\":\"o3fVyTYn8z9crBj3RartP7h8DY3HbNI/ENNB4OQn37/sGXxpOh0uv5hil2zGn/M/v7W3MYa23z8UUumAJu39v6QPssd6V/K/ZKBZ66yFvD+PRthjyVKRP2IayBimx/s/KmwCmYlltj8751sqxZOkv3JR0NaInd+/Llrw64fr8b9XqpLJsVH7vytmJZZqvvg//bHX7efuuj+4eXWg8RDyv7dISVQiquu/y6716baJ57/I9mUXa7oBQHnG7AZnmeC/u4nRHyj667+HoQg/gfffP7he+Tm+JMU/svBxUaNT9T8Pm8uMjMX4PzRM5ZLqWfK/laT9hoZB879kOyjgSLXUP+xKTYkyCLG/6R8wI+JS6r8AMc5GvJX+P5BbsF3wlMc/Pymfrw7Hlj+rfMLDG3Dvv3gYS0tAb+K/xrYpXce35T+rV9sTlubkP2A3u4ENYbo/3yHL/xti8T/ZkTajrSP7v3Kt71l7UfU/pCl2bwl65T/7xuytHrXRP48Mg+crrtu/MwYO2WyQ8z8Yv8dSd5PAP3UCThPqd9+/61kt1CRG+r/XR1kuw0j8vxfC8zMzreS/I1fUWtLi5D+octyjoR7uP6FyFpGXy84/8NkVRKxv8r/AiCmElM3oP4G58bcTXva/9n8XwqM+xr+JJNHDE03qv3/ZddtLXMe/uayDiM3D+L/dncI2IRv1v1Pv0aaF0N8/f11JwoEV8b9/dyhble3Zv0sOIekvGuM/QkSqEvhR8r8XJ9k1d//hP/JGuVeReOi/8dERn4Gm8z9X2rp+LNbWvyHrVO5IzPo/v7QiAsaTz79zQ/21DpXTv1HaMvsf8vM/IUn82Tq8xT+wK/ONfOnnP+i1t+CTj+w/kkBkmip/2b84WGd9H8j9v7X0vv5eEuk/MUJFSdmy4L/SOvWs+47aP2ihtWLn37I/ScOhfQxs0T+41qZtX2jgvy+DyGDMV9W/xijw3RVQyL8LPqJc3WbJvy48+BEJGMY/0PfJp8wF/L/HXJV1SxDkPzCkxZpqF+I/5kFd/vMI878HPPSrVgrSv/pewIrElOY/BuT7ollu978=\",\"dtype\":\"float64\",\"shape\":[100]}},\"selected\":{\"id\":\"2061\",\"type\":\"Selection\"},\"selection_policy\":{\"id\":\"2060\",\"type\":\"UnionRenderers\"}},\"id\":\"1980\",\"type\":\"ColumnDataSource\"},{\"attributes\":{},\"id\":\"1965\",\"type\":\"HelpTool\"},{\"attributes\":{\"overlay\":{\"id\":\"1968\",\"type\":\"BoxAnnotation\"}},\"id\":\"1962\",\"type\":\"BoxZoomTool\"},{\"attributes\":{},\"id\":\"1964\",\"type\":\"ResetTool\"},{\"attributes\":{},\"id\":\"1961\",\"type\":\"WheelZoomTool\"},{\"attributes\":{},\"id\":\"1963\",\"type\":\"SaveTool\"},{\"attributes\":{\"plot\":null,\"text\":\"\"},\"id\":\"2052\",\"type\":\"Title\"},{\"attributes\":{},\"id\":\"1960\",\"type\":\"PanTool\"},{\"attributes\":{\"fill_alpha\":{\"value\":0.1},\"fill_color\":{\"value\":\"#1f77b4\"},\"line_alpha\":{\"value\":0.1},\"line_color\":{\"value\":\"#1f77b4\"},\"size\":{\"units\":\"screen\",\"value\":10},\"x\":{\"field\":\"x\"},\"y\":{\"field\":\"y\"}},\"id\":\"1977\",\"type\":\"Circle\"},{\"attributes\":{\"dimension\":1,\"plot\":{\"id\":\"1941\",\"subtype\":\"Figure\",\"type\":\"Plot\"},\"ticker\":{\"id\":\"1956\",\"type\":\"BasicTicker\"}},\"id\":\"1959\",\"type\":\"Grid\"}],\"root_ids\":[\"1941\"]},\"title\":\"Bokeh Application\",\"version\":\"1.0.4\"}};\n",
       "  var render_items = [{\"docid\":\"05b94ccd-1e1c-4ca5-a409-239e2f7152a8\",\"roots\":{\"1941\":\"3cd9f14c-7c48-4162-a875-04f4f4c0cd1e\"}}];\n",
       "  root.Bokeh.embed.embed_items_notebook(docs_json, render_items);\n",
       "\n",
       "  }\n",
       "  if (root.Bokeh !== undefined) {\n",
       "    embed_document(root);\n",
       "  } else {\n",
       "    var attempts = 0;\n",
       "    var timer = setInterval(function(root) {\n",
       "      if (root.Bokeh !== undefined) {\n",
       "        embed_document(root);\n",
       "        clearInterval(timer);\n",
       "      }\n",
       "      attempts++;\n",
       "      if (attempts > 100) {\n",
       "        console.log(\"Bokeh: ERROR: Unable to run BokehJS code because BokehJS library is missing\");\n",
       "        clearInterval(timer);\n",
       "      }\n",
       "    }, 10, root)\n",
       "  }\n",
       "})(window);"
      ],
      "application/vnd.bokehjs_exec.v0+json": ""
     },
     "metadata": {
      "application/vnd.bokehjs_exec.v0+json": {
       "id": "1941"
      }
     },
     "output_type": "display_data"
    }
   ],
   "source": [
    "# 设置绘图空间背景\n",
    "\n",
    "p = figure(plot_width=600, plot_height=400)\n",
    "p.circle(df.index, df['A'], color = 'green', size=10,  alpha=0.5)\n",
    "p.circle(df.index, df['B'], color = '#FF0000', size=10,  alpha=0.5)\n",
    "# 绘制散点图\n",
    "\n",
    "p.background_fill_color = \"beige\"    # 绘图空间背景颜色\n",
    "p.background_fill_alpha = 0.5        # 绘图空间背景透明度\n",
    "# 背景设置参数\n",
    "\n",
    "show(p)"
   ]
  },
  {
   "cell_type": "code",
   "execution_count": 10,
   "metadata": {},
   "outputs": [
    {
     "data": {
      "text/html": [
       "\n",
       "\n",
       "\n",
       "\n",
       "\n",
       "\n",
       "  <div class=\"bk-root\" id=\"106e54fc-e8c5-4aa0-b857-9637d9491a2a\" data-root-id=\"2128\"></div>\n"
      ]
     },
     "metadata": {},
     "output_type": "display_data"
    },
    {
     "data": {
      "application/javascript": [
       "(function(root) {\n",
       "  function embed_document(root) {\n",
       "    \n",
       "  var docs_json = {\"9fa5c3aa-e852-4df0-90af-009c0ebee291\":{\"roots\":{\"references\":[{\"attributes\":{\"below\":[{\"id\":\"2137\",\"type\":\"LinearAxis\"}],\"border_fill_color\":{\"value\":\"whitesmoke\"},\"left\":[{\"id\":\"2142\",\"type\":\"LinearAxis\"}],\"min_border_bottom\":10,\"min_border_left\":80,\"min_border_right\":80,\"min_border_top\":10,\"plot_height\":400,\"renderers\":[{\"id\":\"2137\",\"type\":\"LinearAxis\"},{\"id\":\"2141\",\"type\":\"Grid\"},{\"id\":\"2142\",\"type\":\"LinearAxis\"},{\"id\":\"2146\",\"type\":\"Grid\"},{\"id\":\"2155\",\"type\":\"BoxAnnotation\"},{\"id\":\"2165\",\"type\":\"GlyphRenderer\"},{\"id\":\"2170\",\"type\":\"GlyphRenderer\"}],\"title\":{\"id\":\"2250\",\"type\":\"Title\"},\"toolbar\":{\"id\":\"2153\",\"type\":\"Toolbar\"},\"x_range\":{\"id\":\"2129\",\"type\":\"DataRange1d\"},\"x_scale\":{\"id\":\"2133\",\"type\":\"LinearScale\"},\"y_range\":{\"id\":\"2131\",\"type\":\"DataRange1d\"},\"y_scale\":{\"id\":\"2135\",\"type\":\"LinearScale\"}},\"id\":\"2128\",\"subtype\":\"Figure\",\"type\":\"Plot\"},{\"attributes\":{},\"id\":\"2148\",\"type\":\"WheelZoomTool\"},{\"attributes\":{\"formatter\":{\"id\":\"2253\",\"type\":\"BasicTickFormatter\"},\"plot\":{\"id\":\"2128\",\"subtype\":\"Figure\",\"type\":\"Plot\"},\"ticker\":{\"id\":\"2143\",\"type\":\"BasicTicker\"}},\"id\":\"2142\",\"type\":\"LinearAxis\"},{\"attributes\":{\"overlay\":{\"id\":\"2155\",\"type\":\"BoxAnnotation\"}},\"id\":\"2149\",\"type\":\"BoxZoomTool\"},{\"attributes\":{\"fill_alpha\":{\"value\":0.1},\"fill_color\":{\"value\":\"#1f77b4\"},\"line_alpha\":{\"value\":0.1},\"line_color\":{\"value\":\"#1f77b4\"},\"size\":{\"units\":\"screen\",\"value\":10},\"x\":{\"field\":\"x\"},\"y\":{\"field\":\"y\"}},\"id\":\"2169\",\"type\":\"Circle\"},{\"attributes\":{},\"id\":\"2150\",\"type\":\"SaveTool\"},{\"attributes\":{\"formatter\":{\"id\":\"2251\",\"type\":\"BasicTickFormatter\"},\"plot\":{\"id\":\"2128\",\"subtype\":\"Figure\",\"type\":\"Plot\"},\"ticker\":{\"id\":\"2138\",\"type\":\"BasicTicker\"}},\"id\":\"2137\",\"type\":\"LinearAxis\"},{\"attributes\":{},\"id\":\"2151\",\"type\":\"ResetTool\"},{\"attributes\":{\"dimension\":1,\"plot\":{\"id\":\"2128\",\"subtype\":\"Figure\",\"type\":\"Plot\"},\"ticker\":{\"id\":\"2143\",\"type\":\"BasicTicker\"}},\"id\":\"2146\",\"type\":\"Grid\"},{\"attributes\":{\"fill_alpha\":{\"value\":0.5},\"fill_color\":{\"value\":\"green\"},\"line_alpha\":{\"value\":0.5},\"line_color\":{\"value\":\"green\"},\"size\":{\"units\":\"screen\",\"value\":10},\"x\":{\"field\":\"x\"},\"y\":{\"field\":\"y\"}},\"id\":\"2163\",\"type\":\"Circle\"},{\"attributes\":{},\"id\":\"2152\",\"type\":\"HelpTool\"},{\"attributes\":{\"plot\":{\"id\":\"2128\",\"subtype\":\"Figure\",\"type\":\"Plot\"},\"ticker\":{\"id\":\"2138\",\"type\":\"BasicTicker\"}},\"id\":\"2141\",\"type\":\"Grid\"},{\"attributes\":{\"active_drag\":\"auto\",\"active_inspect\":\"auto\",\"active_multi\":null,\"active_scroll\":\"auto\",\"active_tap\":\"auto\",\"tools\":[{\"id\":\"2147\",\"type\":\"PanTool\"},{\"id\":\"2148\",\"type\":\"WheelZoomTool\"},{\"id\":\"2149\",\"type\":\"BoxZoomTool\"},{\"id\":\"2150\",\"type\":\"SaveTool\"},{\"id\":\"2151\",\"type\":\"ResetTool\"},{\"id\":\"2152\",\"type\":\"HelpTool\"}]},\"id\":\"2153\",\"type\":\"Toolbar\"},{\"attributes\":{},\"id\":\"2138\",\"type\":\"BasicTicker\"},{\"attributes\":{\"plot\":null,\"text\":\"\"},\"id\":\"2250\",\"type\":\"Title\"},{\"attributes\":{\"bottom_units\":\"screen\",\"fill_alpha\":{\"value\":0.5},\"fill_color\":{\"value\":\"lightgrey\"},\"left_units\":\"screen\",\"level\":\"overlay\",\"line_alpha\":{\"value\":1.0},\"line_color\":{\"value\":\"black\"},\"line_dash\":[4,4],\"line_width\":{\"value\":2},\"plot\":null,\"render_mode\":\"css\",\"right_units\":\"screen\",\"top_units\":\"screen\"},\"id\":\"2155\",\"type\":\"BoxAnnotation\"},{\"attributes\":{\"source\":{\"id\":\"2162\",\"type\":\"ColumnDataSource\"}},\"id\":\"2166\",\"type\":\"CDSView\"},{\"attributes\":{\"fill_alpha\":{\"value\":0.1},\"fill_color\":{\"value\":\"#1f77b4\"},\"line_alpha\":{\"value\":0.1},\"line_color\":{\"value\":\"#1f77b4\"},\"size\":{\"units\":\"screen\",\"value\":10},\"x\":{\"field\":\"x\"},\"y\":{\"field\":\"y\"}},\"id\":\"2164\",\"type\":\"Circle\"},{\"attributes\":{\"fill_alpha\":{\"value\":0.5},\"fill_color\":{\"value\":\"#FF0000\"},\"line_alpha\":{\"value\":0.5},\"line_color\":{\"value\":\"#FF0000\"},\"size\":{\"units\":\"screen\",\"value\":10},\"x\":{\"field\":\"x\"},\"y\":{\"field\":\"y\"}},\"id\":\"2168\",\"type\":\"Circle\"},{\"attributes\":{\"data_source\":{\"id\":\"2167\",\"type\":\"ColumnDataSource\"},\"glyph\":{\"id\":\"2168\",\"type\":\"Circle\"},\"hover_glyph\":null,\"muted_glyph\":null,\"nonselection_glyph\":{\"id\":\"2169\",\"type\":\"Circle\"},\"selection_glyph\":null,\"view\":{\"id\":\"2171\",\"type\":\"CDSView\"}},\"id\":\"2170\",\"type\":\"GlyphRenderer\"},{\"attributes\":{},\"id\":\"2259\",\"type\":\"Selection\"},{\"attributes\":{},\"id\":\"2143\",\"type\":\"BasicTicker\"},{\"attributes\":{\"source\":{\"id\":\"2167\",\"type\":\"ColumnDataSource\"}},\"id\":\"2171\",\"type\":\"CDSView\"},{\"attributes\":{\"callback\":null,\"data\":{\"x\":[0,1,2,3,4,5,6,7,8,9,10,11,12,13,14,15,16,17,18,19,20,21,22,23,24,25,26,27,28,29,30,31,32,33,34,35,36,37,38,39,40,41,42,43,44,45,46,47,48,49,50,51,52,53,54,55,56,57,58,59,60,61,62,63,64,65,66,67,68,69,70,71,72,73,74,75,76,77,78,79,80,81,82,83,84,85,86,87,88,89,90,91,92,93,94,95,96,97,98,99],\"y\":{\"__ndarray__\":\"STzYoDSSx7+BgyW9V5vKP+o3bnjUCwPAoswwZ/dj8b/aT0G6okb4P2h7/X3NUs0/EbXJbEQ98r/NIoF2D0bOv0nXvXaDU/Y/gBdAiLjSyj+fxnJkVgHPv+Vgg25/1vM/jtSBMviapT/RUH6P1T3gP2Q7Rxdrmc0/Zf6toTep/T8j2R0/3ATRP9ByBaoA2/Y/NfeMKLTJ1T82od8RV2qNv7wo4QujMeO/JvNNdt3pwD+bxZ5Ery39P9kMeVtHt9s/JKjI6zM68T8/EVaYcaH3Pwv76Yr7wNA/fL7Ae0Pk+D9X3j48gWPJP9wIu2Y9R/i/W811aOBu/b+7Eja2wpydv0DXm9pTQuU/TXNn3xgL8T8AZexu6rTLv5GgPZTvRNK/ZAQlThqa5T/KlgaTXDflv/knhjGyhPW/EF6sievD7T/iOCma3sv+v1ITkaXV8/U/7cFuF0+hA8BRab0VwOjOP4adReLdjuw/UEqAeVYqAMBI0C4uo2kCQLqEE+cF0so/rJGtVPQhyj/7Bu3P7bXnv7Jeugqzz+C/aecjELFI+r/Eru5RzTrnP2vhG2eSaPS/n0S0rLMH5j/Gl+Us/TTHv0/oughnOMC/vk4ydE2Asj8ULqIvav7oP2eiFPxzg+Y/7uV0VI3z5r9lMIe0/Ur0vxLJoqTo1NY/rdDMZsmdw79FjB5zVvelv0wJW8ewFPi/NYMEHJ0z7D++pKMiolL2v60XNmMw3P+/fjk/QPrh4T8uZlq4zlryvza45b0Ym6Y/PBCDdl1F0z/J6wNJQnOiv4jCUe/BX8c/eUig4ZCGw7+LTrLC4BYDQCo/VmrAYbS/+BwJFkVG8D8cFhQuGnLpv8MNJmxrgPc/jlB0HRET8T/PNOtsXlXXPz/IzYqYX/u/n6ZAAsuM4b8odm2YW67kP5KShCPLsO6/zWBaF1rswT9miipOGmUAQFV2353fT9U/L8R8SqkI2b9UMYOSgcq8vytwxJXyk+m/Z+B85+Ih4j9fbgre6N/wP/+fSC5qTPQ/qRe0iCOC8D+geRVTYULPvxWQZpi94Nw/mr66xMvZ9D8=\",\"dtype\":\"float64\",\"shape\":[100]}},\"selected\":{\"id\":\"2257\",\"type\":\"Selection\"},\"selection_policy\":{\"id\":\"2256\",\"type\":\"UnionRenderers\"}},\"id\":\"2162\",\"type\":\"ColumnDataSource\"},{\"attributes\":{\"callback\":null,\"data\":{\"x\":[0,1,2,3,4,5,6,7,8,9,10,11,12,13,14,15,16,17,18,19,20,21,22,23,24,25,26,27,28,29,30,31,32,33,34,35,36,37,38,39,40,41,42,43,44,45,46,47,48,49,50,51,52,53,54,55,56,57,58,59,60,61,62,63,64,65,66,67,68,69,70,71,72,73,74,75,76,77,78,79,80,81,82,83,84,85,86,87,88,89,90,91,92,93,94,95,96,97,98,99],\"y\":{\"__ndarray__\":\"o3fVyTYn8z9crBj3RartP7h8DY3HbNI/ENNB4OQn37/sGXxpOh0uv5hil2zGn/M/v7W3MYa23z8UUumAJu39v6QPssd6V/K/ZKBZ66yFvD+PRthjyVKRP2IayBimx/s/KmwCmYlltj8751sqxZOkv3JR0NaInd+/Llrw64fr8b9XqpLJsVH7vytmJZZqvvg//bHX7efuuj+4eXWg8RDyv7dISVQiquu/y6716baJ57/I9mUXa7oBQHnG7AZnmeC/u4nRHyj667+HoQg/gfffP7he+Tm+JMU/svBxUaNT9T8Pm8uMjMX4PzRM5ZLqWfK/laT9hoZB879kOyjgSLXUP+xKTYkyCLG/6R8wI+JS6r8AMc5GvJX+P5BbsF3wlMc/Pymfrw7Hlj+rfMLDG3Dvv3gYS0tAb+K/xrYpXce35T+rV9sTlubkP2A3u4ENYbo/3yHL/xti8T/ZkTajrSP7v3Kt71l7UfU/pCl2bwl65T/7xuytHrXRP48Mg+crrtu/MwYO2WyQ8z8Yv8dSd5PAP3UCThPqd9+/61kt1CRG+r/XR1kuw0j8vxfC8zMzreS/I1fUWtLi5D+octyjoR7uP6FyFpGXy84/8NkVRKxv8r/AiCmElM3oP4G58bcTXva/9n8XwqM+xr+JJNHDE03qv3/ZddtLXMe/uayDiM3D+L/dncI2IRv1v1Pv0aaF0N8/f11JwoEV8b9/dyhble3Zv0sOIekvGuM/QkSqEvhR8r8XJ9k1d//hP/JGuVeReOi/8dERn4Gm8z9X2rp+LNbWvyHrVO5IzPo/v7QiAsaTz79zQ/21DpXTv1HaMvsf8vM/IUn82Tq8xT+wK/ONfOnnP+i1t+CTj+w/kkBkmip/2b84WGd9H8j9v7X0vv5eEuk/MUJFSdmy4L/SOvWs+47aP2ihtWLn37I/ScOhfQxs0T+41qZtX2jgvy+DyGDMV9W/xijw3RVQyL8LPqJc3WbJvy48+BEJGMY/0PfJp8wF/L/HXJV1SxDkPzCkxZpqF+I/5kFd/vMI878HPPSrVgrSv/pewIrElOY/BuT7ollu978=\",\"dtype\":\"float64\",\"shape\":[100]}},\"selected\":{\"id\":\"2259\",\"type\":\"Selection\"},\"selection_policy\":{\"id\":\"2258\",\"type\":\"UnionRenderers\"}},\"id\":\"2167\",\"type\":\"ColumnDataSource\"},{\"attributes\":{\"callback\":null},\"id\":\"2129\",\"type\":\"DataRange1d\"},{\"attributes\":{\"data_source\":{\"id\":\"2162\",\"type\":\"ColumnDataSource\"},\"glyph\":{\"id\":\"2163\",\"type\":\"Circle\"},\"hover_glyph\":null,\"muted_glyph\":null,\"nonselection_glyph\":{\"id\":\"2164\",\"type\":\"Circle\"},\"selection_glyph\":null,\"view\":{\"id\":\"2166\",\"type\":\"CDSView\"}},\"id\":\"2165\",\"type\":\"GlyphRenderer\"},{\"attributes\":{},\"id\":\"2253\",\"type\":\"BasicTickFormatter\"},{\"attributes\":{},\"id\":\"2251\",\"type\":\"BasicTickFormatter\"},{\"attributes\":{},\"id\":\"2135\",\"type\":\"LinearScale\"},{\"attributes\":{},\"id\":\"2256\",\"type\":\"UnionRenderers\"},{\"attributes\":{},\"id\":\"2133\",\"type\":\"LinearScale\"},{\"attributes\":{},\"id\":\"2257\",\"type\":\"Selection\"},{\"attributes\":{},\"id\":\"2258\",\"type\":\"UnionRenderers\"},{\"attributes\":{\"callback\":null},\"id\":\"2131\",\"type\":\"DataRange1d\"},{\"attributes\":{},\"id\":\"2147\",\"type\":\"PanTool\"}],\"root_ids\":[\"2128\"]},\"title\":\"Bokeh Application\",\"version\":\"1.0.4\"}};\n",
       "  var render_items = [{\"docid\":\"9fa5c3aa-e852-4df0-90af-009c0ebee291\",\"roots\":{\"2128\":\"106e54fc-e8c5-4aa0-b857-9637d9491a2a\"}}];\n",
       "  root.Bokeh.embed.embed_items_notebook(docs_json, render_items);\n",
       "\n",
       "  }\n",
       "  if (root.Bokeh !== undefined) {\n",
       "    embed_document(root);\n",
       "  } else {\n",
       "    var attempts = 0;\n",
       "    var timer = setInterval(function(root) {\n",
       "      if (root.Bokeh !== undefined) {\n",
       "        embed_document(root);\n",
       "        clearInterval(timer);\n",
       "      }\n",
       "      attempts++;\n",
       "      if (attempts > 100) {\n",
       "        console.log(\"Bokeh: ERROR: Unable to run BokehJS code because BokehJS library is missing\");\n",
       "        clearInterval(timer);\n",
       "      }\n",
       "    }, 10, root)\n",
       "  }\n",
       "})(window);"
      ],
      "application/vnd.bokehjs_exec.v0+json": ""
     },
     "metadata": {
      "application/vnd.bokehjs_exec.v0+json": {
       "id": "2128"
      }
     },
     "output_type": "display_data"
    }
   ],
   "source": [
    "# 设置外边界背景\n",
    "\n",
    "p = figure(plot_width=600, plot_height=400)\n",
    "p.circle(df.index, df['A'], color = 'green', size=10,  alpha=0.5)\n",
    "p.circle(df.index, df['B'], color = '#FF0000', size=10,  alpha=0.5)\n",
    "# 绘制散点图\n",
    "\n",
    "p.border_fill_color = \"whitesmoke\"    # 外边界背景颜色\n",
    "p.min_border_left = 80                # 外边界背景 - 左边宽度\n",
    "p.min_border_right = 80               # 外边界背景 - 右边宽度\n",
    "p.min_border_top = 10                 # 外边界背景 - 上宽度\n",
    "p.min_border_bottom = 10              # 外边界背景 - 下宽度\n",
    "\n",
    "show(p)"
   ]
  },
  {
   "cell_type": "code",
   "execution_count": 11,
   "metadata": {},
   "outputs": [
    {
     "data": {
      "text/html": [
       "\n",
       "\n",
       "\n",
       "\n",
       "\n",
       "\n",
       "  <div class=\"bk-root\" id=\"f1710a61-6677-4e0e-acfc-c200404ccb9b\" data-root-id=\"2326\"></div>\n"
      ]
     },
     "metadata": {},
     "output_type": "display_data"
    },
    {
     "data": {
      "application/javascript": [
       "(function(root) {\n",
       "  function embed_document(root) {\n",
       "    \n",
       "  var docs_json = {\"77f67175-4017-4c44-8c96-e4fad78defee\":{\"roots\":{\"references\":[{\"attributes\":{\"below\":[{\"id\":\"2335\",\"type\":\"LinearAxis\"}],\"left\":[{\"id\":\"2340\",\"type\":\"LinearAxis\"}],\"plot_height\":400,\"plot_width\":400,\"renderers\":[{\"id\":\"2335\",\"type\":\"LinearAxis\"},{\"id\":\"2339\",\"type\":\"Grid\"},{\"id\":\"2340\",\"type\":\"LinearAxis\"},{\"id\":\"2344\",\"type\":\"Grid\"},{\"id\":\"2353\",\"type\":\"BoxAnnotation\"},{\"id\":\"2363\",\"type\":\"GlyphRenderer\"}],\"title\":{\"id\":\"2454\",\"type\":\"Title\"},\"toolbar\":{\"id\":\"2351\",\"type\":\"Toolbar\"},\"x_range\":{\"id\":\"2327\",\"type\":\"DataRange1d\"},\"x_scale\":{\"id\":\"2331\",\"type\":\"LinearScale\"},\"y_range\":{\"id\":\"2329\",\"type\":\"DataRange1d\"},\"y_scale\":{\"id\":\"2333\",\"type\":\"LinearScale\"}},\"id\":\"2326\",\"subtype\":\"Figure\",\"type\":\"Plot\"},{\"attributes\":{},\"id\":\"2333\",\"type\":\"LinearScale\"},{\"attributes\":{},\"id\":\"2461\",\"type\":\"Selection\"},{\"attributes\":{},\"id\":\"2455\",\"type\":\"BasicTickFormatter\"},{\"attributes\":{\"plot\":{\"id\":\"2326\",\"subtype\":\"Figure\",\"type\":\"Plot\"},\"ticker\":{\"id\":\"2336\",\"type\":\"BasicTicker\"}},\"id\":\"2339\",\"type\":\"Grid\"},{\"attributes\":{\"axis_label\":\"Temp\",\"axis_line_color\":{\"value\":\"red\"},\"axis_line_width\":{\"value\":3},\"bounds\":[2,4],\"formatter\":{\"id\":\"2455\",\"type\":\"BasicTickFormatter\"},\"minor_tick_in\":5,\"minor_tick_out\":3,\"plot\":{\"id\":\"2326\",\"subtype\":\"Figure\",\"type\":\"Plot\"},\"ticker\":{\"id\":\"2336\",\"type\":\"BasicTicker\"}},\"id\":\"2335\",\"type\":\"LinearAxis\"},{\"attributes\":{},\"id\":\"2457\",\"type\":\"BasicTickFormatter\"},{\"attributes\":{\"axis_label\":\"Pressure\",\"formatter\":{\"id\":\"2457\",\"type\":\"BasicTickFormatter\"},\"major_label_orientation\":\"vertical\",\"major_label_text_color\":{\"value\":\"orange\"},\"minor_tick_in\":5,\"minor_tick_out\":3,\"plot\":{\"id\":\"2326\",\"subtype\":\"Figure\",\"type\":\"Plot\"},\"ticker\":{\"id\":\"2341\",\"type\":\"BasicTicker\"}},\"id\":\"2340\",\"type\":\"LinearAxis\"},{\"attributes\":{},\"id\":\"2341\",\"type\":\"BasicTicker\"},{\"attributes\":{},\"id\":\"2331\",\"type\":\"LinearScale\"},{\"attributes\":{\"dimension\":1,\"plot\":{\"id\":\"2326\",\"subtype\":\"Figure\",\"type\":\"Plot\"},\"ticker\":{\"id\":\"2341\",\"type\":\"BasicTicker\"}},\"id\":\"2344\",\"type\":\"Grid\"},{\"attributes\":{\"callback\":null},\"id\":\"2329\",\"type\":\"DataRange1d\"},{\"attributes\":{\"fill_alpha\":{\"value\":0.1},\"fill_color\":{\"value\":\"#1f77b4\"},\"line_alpha\":{\"value\":0.1},\"line_color\":{\"value\":\"#1f77b4\"},\"size\":{\"units\":\"screen\",\"value\":10},\"x\":{\"field\":\"x\"},\"y\":{\"field\":\"y\"}},\"id\":\"2362\",\"type\":\"Circle\"},{\"attributes\":{\"callback\":null,\"data\":{\"x\":[1,2,3,4,5],\"y\":[2,5,8,2,7]},\"selected\":{\"id\":\"2461\",\"type\":\"Selection\"},\"selection_policy\":{\"id\":\"2460\",\"type\":\"UnionRenderers\"}},\"id\":\"2360\",\"type\":\"ColumnDataSource\"},{\"attributes\":{\"fill_color\":{\"value\":\"#1f77b4\"},\"line_color\":{\"value\":\"#1f77b4\"},\"size\":{\"units\":\"screen\",\"value\":10},\"x\":{\"field\":\"x\"},\"y\":{\"field\":\"y\"}},\"id\":\"2361\",\"type\":\"Circle\"},{\"attributes\":{},\"id\":\"2460\",\"type\":\"UnionRenderers\"},{\"attributes\":{},\"id\":\"2345\",\"type\":\"PanTool\"},{\"attributes\":{},\"id\":\"2336\",\"type\":\"BasicTicker\"},{\"attributes\":{\"callback\":null},\"id\":\"2327\",\"type\":\"DataRange1d\"},{\"attributes\":{},\"id\":\"2346\",\"type\":\"WheelZoomTool\"},{\"attributes\":{\"overlay\":{\"id\":\"2353\",\"type\":\"BoxAnnotation\"}},\"id\":\"2347\",\"type\":\"BoxZoomTool\"},{\"attributes\":{},\"id\":\"2348\",\"type\":\"SaveTool\"},{\"attributes\":{},\"id\":\"2349\",\"type\":\"ResetTool\"},{\"attributes\":{},\"id\":\"2350\",\"type\":\"HelpTool\"},{\"attributes\":{\"active_drag\":\"auto\",\"active_inspect\":\"auto\",\"active_multi\":null,\"active_scroll\":\"auto\",\"active_tap\":\"auto\",\"tools\":[{\"id\":\"2345\",\"type\":\"PanTool\"},{\"id\":\"2346\",\"type\":\"WheelZoomTool\"},{\"id\":\"2347\",\"type\":\"BoxZoomTool\"},{\"id\":\"2348\",\"type\":\"SaveTool\"},{\"id\":\"2349\",\"type\":\"ResetTool\"},{\"id\":\"2350\",\"type\":\"HelpTool\"}]},\"id\":\"2351\",\"type\":\"Toolbar\"},{\"attributes\":{\"data_source\":{\"id\":\"2360\",\"type\":\"ColumnDataSource\"},\"glyph\":{\"id\":\"2361\",\"type\":\"Circle\"},\"hover_glyph\":null,\"muted_glyph\":null,\"nonselection_glyph\":{\"id\":\"2362\",\"type\":\"Circle\"},\"selection_glyph\":null,\"view\":{\"id\":\"2364\",\"type\":\"CDSView\"}},\"id\":\"2363\",\"type\":\"GlyphRenderer\"},{\"attributes\":{\"bottom_units\":\"screen\",\"fill_alpha\":{\"value\":0.5},\"fill_color\":{\"value\":\"lightgrey\"},\"left_units\":\"screen\",\"level\":\"overlay\",\"line_alpha\":{\"value\":1.0},\"line_color\":{\"value\":\"black\"},\"line_dash\":[4,4],\"line_width\":{\"value\":2},\"plot\":null,\"render_mode\":\"css\",\"right_units\":\"screen\",\"top_units\":\"screen\"},\"id\":\"2353\",\"type\":\"BoxAnnotation\"},{\"attributes\":{\"source\":{\"id\":\"2360\",\"type\":\"ColumnDataSource\"}},\"id\":\"2364\",\"type\":\"CDSView\"},{\"attributes\":{\"plot\":null,\"text\":\"\"},\"id\":\"2454\",\"type\":\"Title\"}],\"root_ids\":[\"2326\"]},\"title\":\"Bokeh Application\",\"version\":\"1.0.4\"}};\n",
       "  var render_items = [{\"docid\":\"77f67175-4017-4c44-8c96-e4fad78defee\",\"roots\":{\"2326\":\"f1710a61-6677-4e0e-acfc-c200404ccb9b\"}}];\n",
       "  root.Bokeh.embed.embed_items_notebook(docs_json, render_items);\n",
       "\n",
       "  }\n",
       "  if (root.Bokeh !== undefined) {\n",
       "    embed_document(root);\n",
       "  } else {\n",
       "    var attempts = 0;\n",
       "    var timer = setInterval(function(root) {\n",
       "      if (root.Bokeh !== undefined) {\n",
       "        embed_document(root);\n",
       "        clearInterval(timer);\n",
       "      }\n",
       "      attempts++;\n",
       "      if (attempts > 100) {\n",
       "        console.log(\"Bokeh: ERROR: Unable to run BokehJS code because BokehJS library is missing\");\n",
       "        clearInterval(timer);\n",
       "      }\n",
       "    }, 10, root)\n",
       "  }\n",
       "})(window);"
      ],
      "application/vnd.bokehjs_exec.v0+json": ""
     },
     "metadata": {
      "application/vnd.bokehjs_exec.v0+json": {
       "id": "2326"
      }
     },
     "output_type": "display_data"
    }
   ],
   "source": [
    "# Axes - 轴线设置\n",
    "# 轴线标签、轴线线宽、轴线颜色\n",
    "# 字体颜色、字体角度\n",
    "\n",
    "p = figure(plot_width=400, plot_height=400)\n",
    "p.circle([1,2,3,4,5], [2,5,8,2,7], size=10)\n",
    "# 绘制图表\n",
    "\n",
    "p.xaxis.axis_label = \"Temp\"\n",
    "p.xaxis.axis_line_width = 3\n",
    "p.xaxis.axis_line_color = \"red\"\n",
    "# 设置x轴线：标签、线宽、轴线颜色\n",
    "\n",
    "p.yaxis.axis_label = \"Pressure\"\n",
    "p.yaxis.major_label_text_color = \"orange\"\n",
    "p.yaxis.major_label_orientation = \"vertical\"\n",
    "# 设置y轴线：标签、字体颜色、字体角度\n",
    "\n",
    "p.axis.minor_tick_in = 5      # 刻度往绘图区域内延伸长度\n",
    "p.axis.minor_tick_out = 3   # 刻度往绘图区域外延伸长度\n",
    "# 设置刻度\n",
    "\n",
    "p.xaxis.bounds = (2, 4)\n",
    "# 设置轴线范围\n",
    "\n",
    "show(p)"
   ]
  },
  {
   "cell_type": "code",
   "execution_count": 12,
   "metadata": {},
   "outputs": [
    {
     "data": {
      "text/html": [
       "\n",
       "\n",
       "\n",
       "\n",
       "\n",
       "\n",
       "  <div class=\"bk-root\" id=\"2e4c9f3b-d24b-477c-9a99-1e51bcdf305a\" data-root-id=\"2516\"></div>\n"
      ]
     },
     "metadata": {},
     "output_type": "display_data"
    },
    {
     "data": {
      "application/javascript": [
       "(function(root) {\n",
       "  function embed_document(root) {\n",
       "    \n",
       "  var docs_json = {\"8ff6033b-2042-456b-b05a-11cdbbcdb8a7\":{\"roots\":{\"references\":[{\"attributes\":{\"below\":[{\"id\":\"2525\",\"type\":\"LinearAxis\"}],\"left\":[{\"id\":\"2530\",\"type\":\"LinearAxis\"}],\"plot_height\":400,\"plot_width\":400,\"renderers\":[{\"id\":\"2525\",\"type\":\"LinearAxis\"},{\"id\":\"2529\",\"type\":\"Grid\"},{\"id\":\"2530\",\"type\":\"LinearAxis\"},{\"id\":\"2534\",\"type\":\"Grid\"},{\"id\":\"2543\",\"type\":\"BoxAnnotation\"},{\"id\":\"2553\",\"type\":\"GlyphRenderer\"}],\"title\":{\"id\":\"2653\",\"type\":\"Title\"},\"toolbar\":{\"id\":\"2541\",\"type\":\"Toolbar\"},\"x_range\":{\"id\":\"2517\",\"type\":\"DataRange1d\"},\"x_scale\":{\"id\":\"2521\",\"type\":\"LinearScale\"},\"y_range\":{\"id\":\"2519\",\"type\":\"DataRange1d\"},\"y_scale\":{\"id\":\"2523\",\"type\":\"LinearScale\"}},\"id\":\"2516\",\"subtype\":\"Figure\",\"type\":\"Plot\"},{\"attributes\":{},\"id\":\"2654\",\"type\":\"BasicTickFormatter\"},{\"attributes\":{},\"id\":\"2656\",\"type\":\"BasicTickFormatter\"},{\"attributes\":{},\"id\":\"2659\",\"type\":\"UnionRenderers\"},{\"attributes\":{\"callback\":null,\"data\":{\"x\":[1,2,3,4,5],\"y\":[2,5,8,2,7]},\"selected\":{\"id\":\"2660\",\"type\":\"Selection\"},\"selection_policy\":{\"id\":\"2659\",\"type\":\"UnionRenderers\"}},\"id\":\"2550\",\"type\":\"ColumnDataSource\"},{\"attributes\":{},\"id\":\"2536\",\"type\":\"WheelZoomTool\"},{\"attributes\":{},\"id\":\"2660\",\"type\":\"Selection\"},{\"attributes\":{},\"id\":\"2539\",\"type\":\"ResetTool\"},{\"attributes\":{},\"id\":\"2535\",\"type\":\"PanTool\"},{\"attributes\":{\"data_source\":{\"id\":\"2550\",\"type\":\"ColumnDataSource\"},\"glyph\":{\"id\":\"2551\",\"type\":\"Circle\"},\"hover_glyph\":null,\"muted_glyph\":null,\"nonselection_glyph\":{\"id\":\"2552\",\"type\":\"Circle\"},\"selection_glyph\":null,\"view\":{\"id\":\"2554\",\"type\":\"CDSView\"}},\"id\":\"2553\",\"type\":\"GlyphRenderer\"},{\"attributes\":{\"overlay\":{\"id\":\"2543\",\"type\":\"BoxAnnotation\"}},\"id\":\"2537\",\"type\":\"BoxZoomTool\"},{\"attributes\":{},\"id\":\"2531\",\"type\":\"BasicTicker\"},{\"attributes\":{\"callback\":null},\"id\":\"2517\",\"type\":\"DataRange1d\"},{\"attributes\":{\"active_drag\":\"auto\",\"active_inspect\":\"auto\",\"active_multi\":null,\"active_scroll\":\"auto\",\"active_tap\":\"auto\",\"tools\":[{\"id\":\"2535\",\"type\":\"PanTool\"},{\"id\":\"2536\",\"type\":\"WheelZoomTool\"},{\"id\":\"2537\",\"type\":\"BoxZoomTool\"},{\"id\":\"2538\",\"type\":\"SaveTool\"},{\"id\":\"2539\",\"type\":\"ResetTool\"},{\"id\":\"2540\",\"type\":\"HelpTool\"}]},\"id\":\"2541\",\"type\":\"Toolbar\"},{\"attributes\":{\"dimension\":1,\"plot\":{\"id\":\"2516\",\"subtype\":\"Figure\",\"type\":\"Plot\"},\"ticker\":{\"id\":\"2531\",\"type\":\"BasicTicker\"}},\"id\":\"2534\",\"type\":\"Grid\"},{\"attributes\":{\"plot\":null,\"text\":\"\"},\"id\":\"2653\",\"type\":\"Title\"},{\"attributes\":{},\"id\":\"2540\",\"type\":\"HelpTool\"},{\"attributes\":{\"fill_alpha\":{\"value\":0.1},\"fill_color\":{\"value\":\"#1f77b4\"},\"line_alpha\":{\"value\":0.1},\"line_color\":{\"value\":\"#1f77b4\"},\"size\":{\"units\":\"screen\",\"value\":10},\"x\":{\"field\":\"x\"},\"y\":{\"field\":\"y\"}},\"id\":\"2552\",\"type\":\"Circle\"},{\"attributes\":{},\"id\":\"2538\",\"type\":\"SaveTool\"},{\"attributes\":{\"fill_color\":{\"value\":\"#1f77b4\"},\"line_color\":{\"value\":\"#1f77b4\"},\"size\":{\"units\":\"screen\",\"value\":10},\"x\":{\"field\":\"x\"},\"y\":{\"field\":\"y\"}},\"id\":\"2551\",\"type\":\"Circle\"},{\"attributes\":{\"axis_label\":\"Bin Count\",\"formatter\":{\"id\":\"2656\",\"type\":\"BasicTickFormatter\"},\"plot\":{\"id\":\"2516\",\"subtype\":\"Figure\",\"type\":\"Plot\"},\"ticker\":{\"id\":\"2531\",\"type\":\"BasicTicker\"}},\"id\":\"2530\",\"type\":\"LinearAxis\"},{\"attributes\":{\"plot\":{\"id\":\"2516\",\"subtype\":\"Figure\",\"type\":\"Plot\"},\"ticker\":{\"id\":\"2526\",\"type\":\"BasicTicker\"}},\"id\":\"2529\",\"type\":\"Grid\"},{\"attributes\":{},\"id\":\"2526\",\"type\":\"BasicTicker\"},{\"attributes\":{\"source\":{\"id\":\"2550\",\"type\":\"ColumnDataSource\"}},\"id\":\"2554\",\"type\":\"CDSView\"},{\"attributes\":{\"axis_label\":\"Lot Number\",\"axis_label_standoff\":30,\"axis_label_text_color\":{\"value\":\"#aa6666\"},\"formatter\":{\"id\":\"2654\",\"type\":\"BasicTickFormatter\"},\"plot\":{\"id\":\"2516\",\"subtype\":\"Figure\",\"type\":\"Plot\"},\"ticker\":{\"id\":\"2526\",\"type\":\"BasicTicker\"}},\"id\":\"2525\",\"type\":\"LinearAxis\"},{\"attributes\":{},\"id\":\"2523\",\"type\":\"LinearScale\"},{\"attributes\":{},\"id\":\"2521\",\"type\":\"LinearScale\"},{\"attributes\":{\"bottom_units\":\"screen\",\"fill_alpha\":{\"value\":0.5},\"fill_color\":{\"value\":\"lightgrey\"},\"left_units\":\"screen\",\"level\":\"overlay\",\"line_alpha\":{\"value\":1.0},\"line_color\":{\"value\":\"black\"},\"line_dash\":[4,4],\"line_width\":{\"value\":2},\"plot\":null,\"render_mode\":\"css\",\"right_units\":\"screen\",\"top_units\":\"screen\"},\"id\":\"2543\",\"type\":\"BoxAnnotation\"},{\"attributes\":{\"callback\":null},\"id\":\"2519\",\"type\":\"DataRange1d\"}],\"root_ids\":[\"2516\"]},\"title\":\"Bokeh Application\",\"version\":\"1.0.4\"}};\n",
       "  var render_items = [{\"docid\":\"8ff6033b-2042-456b-b05a-11cdbbcdb8a7\",\"roots\":{\"2516\":\"2e4c9f3b-d24b-477c-9a99-1e51bcdf305a\"}}];\n",
       "  root.Bokeh.embed.embed_items_notebook(docs_json, render_items);\n",
       "\n",
       "  }\n",
       "  if (root.Bokeh !== undefined) {\n",
       "    embed_document(root);\n",
       "  } else {\n",
       "    var attempts = 0;\n",
       "    var timer = setInterval(function(root) {\n",
       "      if (root.Bokeh !== undefined) {\n",
       "        embed_document(root);\n",
       "        clearInterval(timer);\n",
       "      }\n",
       "      attempts++;\n",
       "      if (attempts > 100) {\n",
       "        console.log(\"Bokeh: ERROR: Unable to run BokehJS code because BokehJS library is missing\");\n",
       "        clearInterval(timer);\n",
       "      }\n",
       "    }, 10, root)\n",
       "  }\n",
       "})(window);"
      ],
      "application/vnd.bokehjs_exec.v0+json": ""
     },
     "metadata": {
      "application/vnd.bokehjs_exec.v0+json": {
       "id": "2516"
      }
     },
     "output_type": "display_data"
    }
   ],
   "source": [
    "# Axes - 轴线设置\n",
    "# 标签设置\n",
    "\n",
    "p = figure(plot_width=400, plot_height=400)\n",
    "p.circle([1,2,3,4,5], [2,5,8,2,7], size=10)\n",
    "\n",
    "p.xaxis.axis_label = \"Lot Number\"\n",
    "p.xaxis.axis_label_text_color = \"#aa6666\"\n",
    "p.xaxis.axis_label_standoff = 30\n",
    "# 设置标签名称、字体颜色、偏移距离\n",
    "\n",
    "p.yaxis.axis_label = \"Bin Count\"\n",
    "p.yaxis.axis_label_text_font_style = \"italic\"\n",
    "# 设置标签名称、字体\n",
    "\n",
    "show(p)"
   ]
  },
  {
   "cell_type": "code",
   "execution_count": 13,
   "metadata": {},
   "outputs": [
    {
     "data": {
      "text/html": [
       "\n",
       "\n",
       "\n",
       "\n",
       "\n",
       "\n",
       "  <div class=\"bk-root\" id=\"e6c05590-127c-4684-833e-b4c46e9277d1\" data-root-id=\"2715\"></div>\n"
      ]
     },
     "metadata": {},
     "output_type": "display_data"
    },
    {
     "data": {
      "application/javascript": [
       "(function(root) {\n",
       "  function embed_document(root) {\n",
       "    \n",
       "  var docs_json = {\"cf15a843-e007-4046-8d44-c23c6629d7ca\":{\"roots\":{\"references\":[{\"attributes\":{\"below\":[{\"id\":\"2724\",\"type\":\"LinearAxis\"}],\"left\":[{\"id\":\"2729\",\"type\":\"LinearAxis\"}],\"plot_height\":400,\"renderers\":[{\"id\":\"2724\",\"type\":\"LinearAxis\"},{\"id\":\"2728\",\"type\":\"Grid\"},{\"id\":\"2729\",\"type\":\"LinearAxis\"},{\"id\":\"2733\",\"type\":\"Grid\"},{\"id\":\"2742\",\"type\":\"BoxAnnotation\"},{\"id\":\"2752\",\"type\":\"GlyphRenderer\"},{\"id\":\"2757\",\"type\":\"GlyphRenderer\"}],\"title\":{\"id\":\"2866\",\"type\":\"Title\"},\"toolbar\":{\"id\":\"2740\",\"type\":\"Toolbar\"},\"x_range\":{\"id\":\"2716\",\"type\":\"DataRange1d\"},\"x_scale\":{\"id\":\"2720\",\"type\":\"LinearScale\"},\"y_range\":{\"id\":\"2718\",\"type\":\"DataRange1d\"},\"y_scale\":{\"id\":\"2722\",\"type\":\"LinearScale\"}},\"id\":\"2715\",\"subtype\":\"Figure\",\"type\":\"Plot\"},{\"attributes\":{\"bottom_units\":\"screen\",\"fill_alpha\":{\"value\":0.5},\"fill_color\":{\"value\":\"lightgrey\"},\"left_units\":\"screen\",\"level\":\"overlay\",\"line_alpha\":{\"value\":1.0},\"line_color\":{\"value\":\"black\"},\"line_dash\":[4,4],\"line_width\":{\"value\":2},\"plot\":null,\"render_mode\":\"css\",\"right_units\":\"screen\",\"top_units\":\"screen\"},\"id\":\"2742\",\"type\":\"BoxAnnotation\"},{\"attributes\":{\"source\":{\"id\":\"2749\",\"type\":\"ColumnDataSource\"}},\"id\":\"2753\",\"type\":\"CDSView\"},{\"attributes\":{\"active_drag\":\"auto\",\"active_inspect\":\"auto\",\"active_multi\":null,\"active_scroll\":\"auto\",\"active_tap\":\"auto\",\"tools\":[{\"id\":\"2734\",\"type\":\"PanTool\"},{\"id\":\"2735\",\"type\":\"WheelZoomTool\"},{\"id\":\"2736\",\"type\":\"BoxZoomTool\"},{\"id\":\"2737\",\"type\":\"SaveTool\"},{\"id\":\"2738\",\"type\":\"ResetTool\"},{\"id\":\"2739\",\"type\":\"HelpTool\"}]},\"id\":\"2740\",\"type\":\"Toolbar\"},{\"attributes\":{\"formatter\":{\"id\":\"2869\",\"type\":\"BasicTickFormatter\"},\"plot\":{\"id\":\"2715\",\"subtype\":\"Figure\",\"type\":\"Plot\"},\"ticker\":{\"id\":\"2730\",\"type\":\"BasicTicker\"}},\"id\":\"2729\",\"type\":\"LinearAxis\"},{\"attributes\":{\"callback\":null,\"data\":{\"x\":[0,1,2,3,4,5,6,7,8,9,10,11,12,13,14,15,16,17,18,19,20,21,22,23,24,25,26,27,28,29,30,31,32,33,34,35,36,37,38,39,40,41,42,43,44,45,46,47,48,49,50,51,52,53,54,55,56,57,58,59,60,61,62,63,64,65,66,67,68,69,70,71,72,73,74,75,76,77,78,79,80,81,82,83,84,85,86,87,88,89,90,91,92,93,94,95,96,97,98,99],\"y\":{\"__ndarray__\":\"STzYoDSSx7+BgyW9V5vKP+o3bnjUCwPAoswwZ/dj8b/aT0G6okb4P2h7/X3NUs0/EbXJbEQ98r/NIoF2D0bOv0nXvXaDU/Y/gBdAiLjSyj+fxnJkVgHPv+Vgg25/1vM/jtSBMviapT/RUH6P1T3gP2Q7Rxdrmc0/Zf6toTep/T8j2R0/3ATRP9ByBaoA2/Y/NfeMKLTJ1T82od8RV2qNv7wo4QujMeO/JvNNdt3pwD+bxZ5Ery39P9kMeVtHt9s/JKjI6zM68T8/EVaYcaH3Pwv76Yr7wNA/fL7Ae0Pk+D9X3j48gWPJP9wIu2Y9R/i/W811aOBu/b+7Eja2wpydv0DXm9pTQuU/TXNn3xgL8T8AZexu6rTLv5GgPZTvRNK/ZAQlThqa5T/KlgaTXDflv/knhjGyhPW/EF6sievD7T/iOCma3sv+v1ITkaXV8/U/7cFuF0+hA8BRab0VwOjOP4adReLdjuw/UEqAeVYqAMBI0C4uo2kCQLqEE+cF0so/rJGtVPQhyj/7Bu3P7bXnv7Jeugqzz+C/aecjELFI+r/Eru5RzTrnP2vhG2eSaPS/n0S0rLMH5j/Gl+Us/TTHv0/oughnOMC/vk4ydE2Asj8ULqIvav7oP2eiFPxzg+Y/7uV0VI3z5r9lMIe0/Ur0vxLJoqTo1NY/rdDMZsmdw79FjB5zVvelv0wJW8ewFPi/NYMEHJ0z7D++pKMiolL2v60XNmMw3P+/fjk/QPrh4T8uZlq4zlryvza45b0Ym6Y/PBCDdl1F0z/J6wNJQnOiv4jCUe/BX8c/eUig4ZCGw7+LTrLC4BYDQCo/VmrAYbS/+BwJFkVG8D8cFhQuGnLpv8MNJmxrgPc/jlB0HRET8T/PNOtsXlXXPz/IzYqYX/u/n6ZAAsuM4b8odm2YW67kP5KShCPLsO6/zWBaF1rswT9miipOGmUAQFV2353fT9U/L8R8SqkI2b9UMYOSgcq8vytwxJXyk+m/Z+B85+Ih4j9fbgre6N/wP/+fSC5qTPQ/qRe0iCOC8D+geRVTYULPvxWQZpi94Nw/mr66xMvZ9D8=\",\"dtype\":\"float64\",\"shape\":[100]}},\"selected\":{\"id\":\"2873\",\"type\":\"Selection\"},\"selection_policy\":{\"id\":\"2872\",\"type\":\"UnionRenderers\"}},\"id\":\"2749\",\"type\":\"ColumnDataSource\"},{\"attributes\":{\"fill_alpha\":{\"value\":0.5},\"fill_color\":{\"value\":\"#FF0000\"},\"line_alpha\":{\"value\":0.5},\"line_color\":{\"value\":\"#FF0000\"},\"size\":{\"units\":\"screen\",\"value\":10},\"x\":{\"field\":\"x\"},\"y\":{\"field\":\"y\"}},\"id\":\"2755\",\"type\":\"Circle\"},{\"attributes\":{\"callback\":null},\"id\":\"2716\",\"type\":\"DataRange1d\"},{\"attributes\":{\"fill_alpha\":{\"value\":0.1},\"fill_color\":{\"value\":\"#1f77b4\"},\"line_alpha\":{\"value\":0.1},\"line_color\":{\"value\":\"#1f77b4\"},\"size\":{\"units\":\"screen\",\"value\":10},\"x\":{\"field\":\"x\"},\"y\":{\"field\":\"y\"}},\"id\":\"2756\",\"type\":\"Circle\"},{\"attributes\":{},\"id\":\"2720\",\"type\":\"LinearScale\"},{\"attributes\":{},\"id\":\"2874\",\"type\":\"UnionRenderers\"},{\"attributes\":{},\"id\":\"2872\",\"type\":\"UnionRenderers\"},{\"attributes\":{\"data_source\":{\"id\":\"2754\",\"type\":\"ColumnDataSource\"},\"glyph\":{\"id\":\"2755\",\"type\":\"Circle\"},\"hover_glyph\":null,\"muted_glyph\":null,\"nonselection_glyph\":{\"id\":\"2756\",\"type\":\"Circle\"},\"selection_glyph\":null,\"view\":{\"id\":\"2758\",\"type\":\"CDSView\"}},\"id\":\"2757\",\"type\":\"GlyphRenderer\"},{\"attributes\":{\"callback\":null},\"id\":\"2718\",\"type\":\"DataRange1d\"},{\"attributes\":{\"source\":{\"id\":\"2754\",\"type\":\"ColumnDataSource\"}},\"id\":\"2758\",\"type\":\"CDSView\"},{\"attributes\":{},\"id\":\"2722\",\"type\":\"LinearScale\"},{\"attributes\":{},\"id\":\"2867\",\"type\":\"BasicTickFormatter\"},{\"attributes\":{},\"id\":\"2875\",\"type\":\"Selection\"},{\"attributes\":{\"plot\":null,\"text\":\"\"},\"id\":\"2866\",\"type\":\"Title\"},{\"attributes\":{\"formatter\":{\"id\":\"2867\",\"type\":\"BasicTickFormatter\"},\"plot\":{\"id\":\"2715\",\"subtype\":\"Figure\",\"type\":\"Plot\"},\"ticker\":{\"id\":\"2725\",\"type\":\"BasicTicker\"}},\"id\":\"2724\",\"type\":\"LinearAxis\"},{\"attributes\":{},\"id\":\"2739\",\"type\":\"HelpTool\"},{\"attributes\":{\"dimension\":1,\"grid_line_alpha\":{\"value\":0.8},\"grid_line_dash\":[6,4],\"plot\":{\"id\":\"2715\",\"subtype\":\"Figure\",\"type\":\"Plot\"},\"ticker\":{\"id\":\"2730\",\"type\":\"BasicTicker\"}},\"id\":\"2733\",\"type\":\"Grid\"},{\"attributes\":{},\"id\":\"2869\",\"type\":\"BasicTickFormatter\"},{\"attributes\":{},\"id\":\"2730\",\"type\":\"BasicTicker\"},{\"attributes\":{},\"id\":\"2873\",\"type\":\"Selection\"},{\"attributes\":{\"grid_line_color\":{\"value\":null},\"minor_grid_line_alpha\":{\"value\":0.1},\"minor_grid_line_color\":{\"value\":\"navy\"},\"plot\":{\"id\":\"2715\",\"subtype\":\"Figure\",\"type\":\"Plot\"},\"ticker\":{\"id\":\"2725\",\"type\":\"BasicTicker\"}},\"id\":\"2728\",\"type\":\"Grid\"},{\"attributes\":{},\"id\":\"2725\",\"type\":\"BasicTicker\"},{\"attributes\":{},\"id\":\"2737\",\"type\":\"SaveTool\"},{\"attributes\":{\"fill_alpha\":{\"value\":0.5},\"fill_color\":{\"value\":\"green\"},\"line_alpha\":{\"value\":0.5},\"line_color\":{\"value\":\"green\"},\"size\":{\"units\":\"screen\",\"value\":10},\"x\":{\"field\":\"x\"},\"y\":{\"field\":\"y\"}},\"id\":\"2750\",\"type\":\"Circle\"},{\"attributes\":{\"fill_alpha\":{\"value\":0.1},\"fill_color\":{\"value\":\"#1f77b4\"},\"line_alpha\":{\"value\":0.1},\"line_color\":{\"value\":\"#1f77b4\"},\"size\":{\"units\":\"screen\",\"value\":10},\"x\":{\"field\":\"x\"},\"y\":{\"field\":\"y\"}},\"id\":\"2751\",\"type\":\"Circle\"},{\"attributes\":{\"callback\":null,\"data\":{\"x\":[0,1,2,3,4,5,6,7,8,9,10,11,12,13,14,15,16,17,18,19,20,21,22,23,24,25,26,27,28,29,30,31,32,33,34,35,36,37,38,39,40,41,42,43,44,45,46,47,48,49,50,51,52,53,54,55,56,57,58,59,60,61,62,63,64,65,66,67,68,69,70,71,72,73,74,75,76,77,78,79,80,81,82,83,84,85,86,87,88,89,90,91,92,93,94,95,96,97,98,99],\"y\":{\"__ndarray__\":\"o3fVyTYn8z9crBj3RartP7h8DY3HbNI/ENNB4OQn37/sGXxpOh0uv5hil2zGn/M/v7W3MYa23z8UUumAJu39v6QPssd6V/K/ZKBZ66yFvD+PRthjyVKRP2IayBimx/s/KmwCmYlltj8751sqxZOkv3JR0NaInd+/Llrw64fr8b9XqpLJsVH7vytmJZZqvvg//bHX7efuuj+4eXWg8RDyv7dISVQiquu/y6716baJ57/I9mUXa7oBQHnG7AZnmeC/u4nRHyj667+HoQg/gfffP7he+Tm+JMU/svBxUaNT9T8Pm8uMjMX4PzRM5ZLqWfK/laT9hoZB879kOyjgSLXUP+xKTYkyCLG/6R8wI+JS6r8AMc5GvJX+P5BbsF3wlMc/Pymfrw7Hlj+rfMLDG3Dvv3gYS0tAb+K/xrYpXce35T+rV9sTlubkP2A3u4ENYbo/3yHL/xti8T/ZkTajrSP7v3Kt71l7UfU/pCl2bwl65T/7xuytHrXRP48Mg+crrtu/MwYO2WyQ8z8Yv8dSd5PAP3UCThPqd9+/61kt1CRG+r/XR1kuw0j8vxfC8zMzreS/I1fUWtLi5D+octyjoR7uP6FyFpGXy84/8NkVRKxv8r/AiCmElM3oP4G58bcTXva/9n8XwqM+xr+JJNHDE03qv3/ZddtLXMe/uayDiM3D+L/dncI2IRv1v1Pv0aaF0N8/f11JwoEV8b9/dyhble3Zv0sOIekvGuM/QkSqEvhR8r8XJ9k1d//hP/JGuVeReOi/8dERn4Gm8z9X2rp+LNbWvyHrVO5IzPo/v7QiAsaTz79zQ/21DpXTv1HaMvsf8vM/IUn82Tq8xT+wK/ONfOnnP+i1t+CTj+w/kkBkmip/2b84WGd9H8j9v7X0vv5eEuk/MUJFSdmy4L/SOvWs+47aP2ihtWLn37I/ScOhfQxs0T+41qZtX2jgvy+DyGDMV9W/xijw3RVQyL8LPqJc3WbJvy48+BEJGMY/0PfJp8wF/L/HXJV1SxDkPzCkxZpqF+I/5kFd/vMI878HPPSrVgrSv/pewIrElOY/BuT7ollu978=\",\"dtype\":\"float64\",\"shape\":[100]}},\"selected\":{\"id\":\"2875\",\"type\":\"Selection\"},\"selection_policy\":{\"id\":\"2874\",\"type\":\"UnionRenderers\"}},\"id\":\"2754\",\"type\":\"ColumnDataSource\"},{\"attributes\":{\"data_source\":{\"id\":\"2749\",\"type\":\"ColumnDataSource\"},\"glyph\":{\"id\":\"2750\",\"type\":\"Circle\"},\"hover_glyph\":null,\"muted_glyph\":null,\"nonselection_glyph\":{\"id\":\"2751\",\"type\":\"Circle\"},\"selection_glyph\":null,\"view\":{\"id\":\"2753\",\"type\":\"CDSView\"}},\"id\":\"2752\",\"type\":\"GlyphRenderer\"},{\"attributes\":{},\"id\":\"2738\",\"type\":\"ResetTool\"},{\"attributes\":{\"overlay\":{\"id\":\"2742\",\"type\":\"BoxAnnotation\"}},\"id\":\"2736\",\"type\":\"BoxZoomTool\"},{\"attributes\":{},\"id\":\"2735\",\"type\":\"WheelZoomTool\"},{\"attributes\":{},\"id\":\"2734\",\"type\":\"PanTool\"}],\"root_ids\":[\"2715\"]},\"title\":\"Bokeh Application\",\"version\":\"1.0.4\"}};\n",
       "  var render_items = [{\"docid\":\"cf15a843-e007-4046-8d44-c23c6629d7ca\",\"roots\":{\"2715\":\"e6c05590-127c-4684-833e-b4c46e9277d1\"}}];\n",
       "  root.Bokeh.embed.embed_items_notebook(docs_json, render_items);\n",
       "\n",
       "  }\n",
       "  if (root.Bokeh !== undefined) {\n",
       "    embed_document(root);\n",
       "  } else {\n",
       "    var attempts = 0;\n",
       "    var timer = setInterval(function(root) {\n",
       "      if (root.Bokeh !== undefined) {\n",
       "        embed_document(root);\n",
       "        clearInterval(timer);\n",
       "      }\n",
       "      attempts++;\n",
       "      if (attempts > 100) {\n",
       "        console.log(\"Bokeh: ERROR: Unable to run BokehJS code because BokehJS library is missing\");\n",
       "        clearInterval(timer);\n",
       "      }\n",
       "    }, 10, root)\n",
       "  }\n",
       "})(window);"
      ],
      "application/vnd.bokehjs_exec.v0+json": ""
     },
     "metadata": {
      "application/vnd.bokehjs_exec.v0+json": {
       "id": "2715"
      }
     },
     "output_type": "display_data"
    }
   ],
   "source": [
    "# Grid - 格网设置\n",
    "# 线型设置\n",
    "\n",
    "p = figure(plot_width=600, plot_height=400)\n",
    "p.circle(df.index, df['A'], color = 'green', size=10,  alpha=0.5)\n",
    "p.circle(df.index, df['B'], color = '#FF0000', size=10,  alpha=0.5)\n",
    "# 绘制散点图\n",
    "\n",
    "p.xgrid.grid_line_color = None\n",
    "# 颜色设置，None时则不显示\n",
    "\n",
    "p.ygrid.grid_line_alpha = 0.8\n",
    "p.ygrid.grid_line_dash = [6, 4]\n",
    "# 设置透明度，虚线设置\n",
    "# dash → 通过设置间隔来做虚线\n",
    "\n",
    "p.xgrid.minor_grid_line_color = 'navy'\n",
    "p.xgrid.minor_grid_line_alpha = 0.1\n",
    "# minor_line → 设置次轴线\n",
    "\n",
    "show(p)"
   ]
  },
  {
   "cell_type": "code",
   "execution_count": 14,
   "metadata": {},
   "outputs": [
    {
     "data": {
      "text/html": [
       "\n",
       "\n",
       "\n",
       "\n",
       "\n",
       "\n",
       "  <div class=\"bk-root\" id=\"8fc0f117-5a5b-4080-a536-1eb9d5cfc0ee\" data-root-id=\"2942\"></div>\n"
      ]
     },
     "metadata": {},
     "output_type": "display_data"
    },
    {
     "data": {
      "application/javascript": [
       "(function(root) {\n",
       "  function embed_document(root) {\n",
       "    \n",
       "  var docs_json = {\"7c2b41b9-1584-4ecd-898f-6ae822fa7bc8\":{\"roots\":{\"references\":[{\"attributes\":{\"below\":[{\"id\":\"2951\",\"type\":\"LinearAxis\"}],\"left\":[{\"id\":\"2956\",\"type\":\"LinearAxis\"}],\"plot_height\":400,\"renderers\":[{\"id\":\"2951\",\"type\":\"LinearAxis\"},{\"id\":\"2955\",\"type\":\"Grid\"},{\"id\":\"2956\",\"type\":\"LinearAxis\"},{\"id\":\"2960\",\"type\":\"Grid\"},{\"id\":\"2969\",\"type\":\"BoxAnnotation\"},{\"id\":\"2979\",\"type\":\"GlyphRenderer\"},{\"id\":\"2984\",\"type\":\"GlyphRenderer\"}],\"title\":{\"id\":\"3104\",\"type\":\"Title\"},\"toolbar\":{\"id\":\"2967\",\"type\":\"Toolbar\"},\"x_range\":{\"id\":\"2943\",\"type\":\"DataRange1d\"},\"x_scale\":{\"id\":\"2947\",\"type\":\"LinearScale\"},\"y_range\":{\"id\":\"2945\",\"type\":\"DataRange1d\"},\"y_scale\":{\"id\":\"2949\",\"type\":\"LinearScale\"}},\"id\":\"2942\",\"subtype\":\"Figure\",\"type\":\"Plot\"},{\"attributes\":{},\"id\":\"2965\",\"type\":\"ResetTool\"},{\"attributes\":{\"source\":{\"id\":\"2981\",\"type\":\"ColumnDataSource\"}},\"id\":\"2985\",\"type\":\"CDSView\"},{\"attributes\":{},\"id\":\"2947\",\"type\":\"LinearScale\"},{\"attributes\":{},\"id\":\"3105\",\"type\":\"BasicTickFormatter\"},{\"attributes\":{},\"id\":\"3107\",\"type\":\"BasicTickFormatter\"},{\"attributes\":{},\"id\":\"3110\",\"type\":\"UnionRenderers\"},{\"attributes\":{\"overlay\":{\"id\":\"2969\",\"type\":\"BoxAnnotation\"}},\"id\":\"2963\",\"type\":\"BoxZoomTool\"},{\"attributes\":{},\"id\":\"3111\",\"type\":\"Selection\"},{\"attributes\":{},\"id\":\"3112\",\"type\":\"UnionRenderers\"},{\"attributes\":{},\"id\":\"2966\",\"type\":\"HelpTool\"},{\"attributes\":{},\"id\":\"3113\",\"type\":\"Selection\"},{\"attributes\":{\"formatter\":{\"id\":\"3105\",\"type\":\"BasicTickFormatter\"},\"plot\":{\"id\":\"2942\",\"subtype\":\"Figure\",\"type\":\"Plot\"},\"ticker\":{\"id\":\"2952\",\"type\":\"BasicTicker\"}},\"id\":\"2951\",\"type\":\"LinearAxis\"},{\"attributes\":{\"data_source\":{\"id\":\"2981\",\"type\":\"ColumnDataSource\"},\"glyph\":{\"id\":\"2982\",\"type\":\"Circle\"},\"hover_glyph\":null,\"muted_glyph\":null,\"nonselection_glyph\":{\"id\":\"2983\",\"type\":\"Circle\"},\"selection_glyph\":null,\"view\":{\"id\":\"2985\",\"type\":\"CDSView\"}},\"id\":\"2984\",\"type\":\"GlyphRenderer\"},{\"attributes\":{\"fill_alpha\":{\"value\":0.5},\"fill_color\":{\"value\":\"#FF0000\"},\"line_alpha\":{\"value\":0.5},\"line_color\":{\"value\":\"#FF0000\"},\"size\":{\"units\":\"screen\",\"value\":10},\"x\":{\"field\":\"x\"},\"y\":{\"field\":\"y\"}},\"id\":\"2982\",\"type\":\"Circle\"},{\"attributes\":{\"plot\":null,\"text\":\"\"},\"id\":\"3104\",\"type\":\"Title\"},{\"attributes\":{},\"id\":\"2957\",\"type\":\"BasicTicker\"},{\"attributes\":{\"fill_alpha\":{\"value\":0.1},\"fill_color\":{\"value\":\"#1f77b4\"},\"line_alpha\":{\"value\":0.1},\"line_color\":{\"value\":\"#1f77b4\"},\"size\":{\"units\":\"screen\",\"value\":10},\"x\":{\"field\":\"x\"},\"y\":{\"field\":\"y\"}},\"id\":\"2983\",\"type\":\"Circle\"},{\"attributes\":{\"data_source\":{\"id\":\"2976\",\"type\":\"ColumnDataSource\"},\"glyph\":{\"id\":\"2977\",\"type\":\"Circle\"},\"hover_glyph\":null,\"muted_glyph\":null,\"nonselection_glyph\":{\"id\":\"2978\",\"type\":\"Circle\"},\"selection_glyph\":null,\"view\":{\"id\":\"2980\",\"type\":\"CDSView\"}},\"id\":\"2979\",\"type\":\"GlyphRenderer\"},{\"attributes\":{\"fill_alpha\":{\"value\":0.5},\"fill_color\":{\"value\":\"green\"},\"line_alpha\":{\"value\":0.5},\"line_color\":{\"value\":\"green\"},\"size\":{\"units\":\"screen\",\"value\":10},\"x\":{\"field\":\"x\"},\"y\":{\"field\":\"y\"}},\"id\":\"2977\",\"type\":\"Circle\"},{\"attributes\":{\"formatter\":{\"id\":\"3107\",\"type\":\"BasicTickFormatter\"},\"plot\":{\"id\":\"2942\",\"subtype\":\"Figure\",\"type\":\"Plot\"},\"ticker\":{\"id\":\"2957\",\"type\":\"BasicTicker\"}},\"id\":\"2956\",\"type\":\"LinearAxis\"},{\"attributes\":{\"callback\":null,\"data\":{\"x\":[0,1,2,3,4,5,6,7,8,9,10,11,12,13,14,15,16,17,18,19,20,21,22,23,24,25,26,27,28,29,30,31,32,33,34,35,36,37,38,39,40,41,42,43,44,45,46,47,48,49,50,51,52,53,54,55,56,57,58,59,60,61,62,63,64,65,66,67,68,69,70,71,72,73,74,75,76,77,78,79,80,81,82,83,84,85,86,87,88,89,90,91,92,93,94,95,96,97,98,99],\"y\":{\"__ndarray__\":\"o3fVyTYn8z9crBj3RartP7h8DY3HbNI/ENNB4OQn37/sGXxpOh0uv5hil2zGn/M/v7W3MYa23z8UUumAJu39v6QPssd6V/K/ZKBZ66yFvD+PRthjyVKRP2IayBimx/s/KmwCmYlltj8751sqxZOkv3JR0NaInd+/Llrw64fr8b9XqpLJsVH7vytmJZZqvvg//bHX7efuuj+4eXWg8RDyv7dISVQiquu/y6716baJ57/I9mUXa7oBQHnG7AZnmeC/u4nRHyj667+HoQg/gfffP7he+Tm+JMU/svBxUaNT9T8Pm8uMjMX4PzRM5ZLqWfK/laT9hoZB879kOyjgSLXUP+xKTYkyCLG/6R8wI+JS6r8AMc5GvJX+P5BbsF3wlMc/Pymfrw7Hlj+rfMLDG3Dvv3gYS0tAb+K/xrYpXce35T+rV9sTlubkP2A3u4ENYbo/3yHL/xti8T/ZkTajrSP7v3Kt71l7UfU/pCl2bwl65T/7xuytHrXRP48Mg+crrtu/MwYO2WyQ8z8Yv8dSd5PAP3UCThPqd9+/61kt1CRG+r/XR1kuw0j8vxfC8zMzreS/I1fUWtLi5D+octyjoR7uP6FyFpGXy84/8NkVRKxv8r/AiCmElM3oP4G58bcTXva/9n8XwqM+xr+JJNHDE03qv3/ZddtLXMe/uayDiM3D+L/dncI2IRv1v1Pv0aaF0N8/f11JwoEV8b9/dyhble3Zv0sOIekvGuM/QkSqEvhR8r8XJ9k1d//hP/JGuVeReOi/8dERn4Gm8z9X2rp+LNbWvyHrVO5IzPo/v7QiAsaTz79zQ/21DpXTv1HaMvsf8vM/IUn82Tq8xT+wK/ONfOnnP+i1t+CTj+w/kkBkmip/2b84WGd9H8j9v7X0vv5eEuk/MUJFSdmy4L/SOvWs+47aP2ihtWLn37I/ScOhfQxs0T+41qZtX2jgvy+DyGDMV9W/xijw3RVQyL8LPqJc3WbJvy48+BEJGMY/0PfJp8wF/L/HXJV1SxDkPzCkxZpqF+I/5kFd/vMI878HPPSrVgrSv/pewIrElOY/BuT7ollu978=\",\"dtype\":\"float64\",\"shape\":[100]}},\"selected\":{\"id\":\"3113\",\"type\":\"Selection\"},\"selection_policy\":{\"id\":\"3112\",\"type\":\"UnionRenderers\"}},\"id\":\"2981\",\"type\":\"ColumnDataSource\"},{\"attributes\":{},\"id\":\"2961\",\"type\":\"PanTool\"},{\"attributes\":{},\"id\":\"2964\",\"type\":\"SaveTool\"},{\"attributes\":{\"grid_line_color\":{\"value\":null},\"plot\":{\"id\":\"2942\",\"subtype\":\"Figure\",\"type\":\"Plot\"},\"ticker\":{\"id\":\"2952\",\"type\":\"BasicTicker\"}},\"id\":\"2955\",\"type\":\"Grid\"},{\"attributes\":{},\"id\":\"2952\",\"type\":\"BasicTicker\"},{\"attributes\":{\"callback\":null,\"data\":{\"x\":[0,1,2,3,4,5,6,7,8,9,10,11,12,13,14,15,16,17,18,19,20,21,22,23,24,25,26,27,28,29,30,31,32,33,34,35,36,37,38,39,40,41,42,43,44,45,46,47,48,49,50,51,52,53,54,55,56,57,58,59,60,61,62,63,64,65,66,67,68,69,70,71,72,73,74,75,76,77,78,79,80,81,82,83,84,85,86,87,88,89,90,91,92,93,94,95,96,97,98,99],\"y\":{\"__ndarray__\":\"STzYoDSSx7+BgyW9V5vKP+o3bnjUCwPAoswwZ/dj8b/aT0G6okb4P2h7/X3NUs0/EbXJbEQ98r/NIoF2D0bOv0nXvXaDU/Y/gBdAiLjSyj+fxnJkVgHPv+Vgg25/1vM/jtSBMviapT/RUH6P1T3gP2Q7Rxdrmc0/Zf6toTep/T8j2R0/3ATRP9ByBaoA2/Y/NfeMKLTJ1T82od8RV2qNv7wo4QujMeO/JvNNdt3pwD+bxZ5Ery39P9kMeVtHt9s/JKjI6zM68T8/EVaYcaH3Pwv76Yr7wNA/fL7Ae0Pk+D9X3j48gWPJP9wIu2Y9R/i/W811aOBu/b+7Eja2wpydv0DXm9pTQuU/TXNn3xgL8T8AZexu6rTLv5GgPZTvRNK/ZAQlThqa5T/KlgaTXDflv/knhjGyhPW/EF6sievD7T/iOCma3sv+v1ITkaXV8/U/7cFuF0+hA8BRab0VwOjOP4adReLdjuw/UEqAeVYqAMBI0C4uo2kCQLqEE+cF0so/rJGtVPQhyj/7Bu3P7bXnv7Jeugqzz+C/aecjELFI+r/Eru5RzTrnP2vhG2eSaPS/n0S0rLMH5j/Gl+Us/TTHv0/oughnOMC/vk4ydE2Asj8ULqIvav7oP2eiFPxzg+Y/7uV0VI3z5r9lMIe0/Ur0vxLJoqTo1NY/rdDMZsmdw79FjB5zVvelv0wJW8ewFPi/NYMEHJ0z7D++pKMiolL2v60XNmMw3P+/fjk/QPrh4T8uZlq4zlryvza45b0Ym6Y/PBCDdl1F0z/J6wNJQnOiv4jCUe/BX8c/eUig4ZCGw7+LTrLC4BYDQCo/VmrAYbS/+BwJFkVG8D8cFhQuGnLpv8MNJmxrgPc/jlB0HRET8T/PNOtsXlXXPz/IzYqYX/u/n6ZAAsuM4b8odm2YW67kP5KShCPLsO6/zWBaF1rswT9miipOGmUAQFV2353fT9U/L8R8SqkI2b9UMYOSgcq8vytwxJXyk+m/Z+B85+Ih4j9fbgre6N/wP/+fSC5qTPQ/qRe0iCOC8D+geRVTYULPvxWQZpi94Nw/mr66xMvZ9D8=\",\"dtype\":\"float64\",\"shape\":[100]}},\"selected\":{\"id\":\"3111\",\"type\":\"Selection\"},\"selection_policy\":{\"id\":\"3110\",\"type\":\"UnionRenderers\"}},\"id\":\"2976\",\"type\":\"ColumnDataSource\"},{\"attributes\":{},\"id\":\"2949\",\"type\":\"LinearScale\"},{\"attributes\":{\"active_drag\":\"auto\",\"active_inspect\":\"auto\",\"active_multi\":null,\"active_scroll\":\"auto\",\"active_tap\":\"auto\",\"tools\":[{\"id\":\"2961\",\"type\":\"PanTool\"},{\"id\":\"2962\",\"type\":\"WheelZoomTool\"},{\"id\":\"2963\",\"type\":\"BoxZoomTool\"},{\"id\":\"2964\",\"type\":\"SaveTool\"},{\"id\":\"2965\",\"type\":\"ResetTool\"},{\"id\":\"2966\",\"type\":\"HelpTool\"}]},\"id\":\"2967\",\"type\":\"Toolbar\"},{\"attributes\":{\"callback\":null},\"id\":\"2943\",\"type\":\"DataRange1d\"},{\"attributes\":{\"fill_alpha\":{\"value\":0.1},\"fill_color\":{\"value\":\"#1f77b4\"},\"line_alpha\":{\"value\":0.1},\"line_color\":{\"value\":\"#1f77b4\"},\"size\":{\"units\":\"screen\",\"value\":10},\"x\":{\"field\":\"x\"},\"y\":{\"field\":\"y\"}},\"id\":\"2978\",\"type\":\"Circle\"},{\"attributes\":{\"bottom_units\":\"screen\",\"fill_alpha\":{\"value\":0.5},\"fill_color\":{\"value\":\"lightgrey\"},\"left_units\":\"screen\",\"level\":\"overlay\",\"line_alpha\":{\"value\":1.0},\"line_color\":{\"value\":\"black\"},\"line_dash\":[4,4],\"line_width\":{\"value\":2},\"plot\":null,\"render_mode\":\"css\",\"right_units\":\"screen\",\"top_units\":\"screen\"},\"id\":\"2969\",\"type\":\"BoxAnnotation\"},{\"attributes\":{\"band_fill_alpha\":{\"value\":0.1},\"band_fill_color\":{\"value\":\"navy\"},\"dimension\":1,\"plot\":{\"id\":\"2942\",\"subtype\":\"Figure\",\"type\":\"Plot\"},\"ticker\":{\"id\":\"2957\",\"type\":\"BasicTicker\"}},\"id\":\"2960\",\"type\":\"Grid\"},{\"attributes\":{\"source\":{\"id\":\"2976\",\"type\":\"ColumnDataSource\"}},\"id\":\"2980\",\"type\":\"CDSView\"},{\"attributes\":{},\"id\":\"2962\",\"type\":\"WheelZoomTool\"},{\"attributes\":{\"callback\":null},\"id\":\"2945\",\"type\":\"DataRange1d\"}],\"root_ids\":[\"2942\"]},\"title\":\"Bokeh Application\",\"version\":\"1.0.4\"}};\n",
       "  var render_items = [{\"docid\":\"7c2b41b9-1584-4ecd-898f-6ae822fa7bc8\",\"roots\":{\"2942\":\"8fc0f117-5a5b-4080-a536-1eb9d5cfc0ee\"}}];\n",
       "  root.Bokeh.embed.embed_items_notebook(docs_json, render_items);\n",
       "\n",
       "  }\n",
       "  if (root.Bokeh !== undefined) {\n",
       "    embed_document(root);\n",
       "  } else {\n",
       "    var attempts = 0;\n",
       "    var timer = setInterval(function(root) {\n",
       "      if (root.Bokeh !== undefined) {\n",
       "        embed_document(root);\n",
       "        clearInterval(timer);\n",
       "      }\n",
       "      attempts++;\n",
       "      if (attempts > 100) {\n",
       "        console.log(\"Bokeh: ERROR: Unable to run BokehJS code because BokehJS library is missing\");\n",
       "        clearInterval(timer);\n",
       "      }\n",
       "    }, 10, root)\n",
       "  }\n",
       "})(window);"
      ],
      "application/vnd.bokehjs_exec.v0+json": ""
     },
     "metadata": {
      "application/vnd.bokehjs_exec.v0+json": {
       "id": "2942"
      }
     },
     "output_type": "display_data"
    }
   ],
   "source": [
    "# Grid - 格网设置\n",
    "# 颜色填充\n",
    "\n",
    "p = figure(plot_width=600, plot_height=400)\n",
    "p.circle(df.index, df['A'], color = 'green', size=10,  alpha=0.5)\n",
    "p.circle(df.index, df['B'], color = '#FF0000', size=10,  alpha=0.5)\n",
    "# 绘制散点图\n",
    "\n",
    "p.xgrid.grid_line_color = None\n",
    "# 设置颜色为空\n",
    "\n",
    "p.ygrid.band_fill_alpha = 0.1\n",
    "p.ygrid.band_fill_color = \"navy\"\n",
    "# 设置颜色填充，及透明度\n",
    "\n",
    "#p.grid.bounds = (-1, 1)\n",
    "# 设置填充边界\n",
    "\n",
    "show(p)"
   ]
  },
  {
   "cell_type": "code",
   "execution_count": 17,
   "metadata": {},
   "outputs": [
    {
     "data": {
      "text/html": [
       "\n",
       "\n",
       "\n",
       "\n",
       "\n",
       "\n",
       "  <div class=\"bk-root\" id=\"c7bbda73-2108-42ed-a782-75db36b4074e\" data-root-id=\"3927\"></div>\n"
      ]
     },
     "metadata": {},
     "output_type": "display_data"
    },
    {
     "data": {
      "application/javascript": [
       "(function(root) {\n",
       "  function embed_document(root) {\n",
       "    \n",
       "  var docs_json = {\"98a81197-db7f-4ae0-9133-c9c798b00db9\":{\"roots\":{\"references\":[{\"attributes\":{\"below\":[{\"id\":\"3936\",\"type\":\"LinearAxis\"}],\"left\":[{\"id\":\"3941\",\"type\":\"LinearAxis\"}],\"plot_height\":400,\"renderers\":[{\"id\":\"3936\",\"type\":\"LinearAxis\"},{\"id\":\"3940\",\"type\":\"Grid\"},{\"id\":\"3941\",\"type\":\"LinearAxis\"},{\"id\":\"3945\",\"type\":\"Grid\"},{\"id\":\"3954\",\"type\":\"BoxAnnotation\"},{\"id\":\"3973\",\"type\":\"Legend\"},{\"id\":\"3964\",\"type\":\"GlyphRenderer\"},{\"id\":\"3978\",\"type\":\"GlyphRenderer\"},{\"id\":\"3992\",\"type\":\"GlyphRenderer\"},{\"id\":\"4009\",\"type\":\"GlyphRenderer\"},{\"id\":\"4028\",\"type\":\"GlyphRenderer\"}],\"title\":{\"id\":\"3967\",\"type\":\"Title\"},\"toolbar\":{\"id\":\"3952\",\"type\":\"Toolbar\"},\"x_range\":{\"id\":\"3928\",\"type\":\"DataRange1d\"},\"x_scale\":{\"id\":\"3932\",\"type\":\"LinearScale\"},\"y_range\":{\"id\":\"3930\",\"type\":\"DataRange1d\"},\"y_scale\":{\"id\":\"3934\",\"type\":\"LinearScale\"}},\"id\":\"3927\",\"subtype\":\"Figure\",\"type\":\"Plot\"},{\"attributes\":{},\"id\":\"3949\",\"type\":\"SaveTool\"},{\"attributes\":{},\"id\":\"3968\",\"type\":\"BasicTickFormatter\"},{\"attributes\":{},\"id\":\"4004\",\"type\":\"Selection\"},{\"attributes\":{},\"id\":\"4223\",\"type\":\"Selection\"},{\"attributes\":{},\"id\":\"3950\",\"type\":\"ResetTool\"},{\"attributes\":{\"callback\":null,\"data\":{\"x\":{\"__ndarray__\":\"AAAAAAAAAACRGkt8Vz/AP5EaS3xXP9A/2qdwOgNf2D+RGkt8Vz/gPzXhXVstT+Q/2qdwOgNf6D9+boMZ2W7sP5EaS3xXP/A/433Ua0JH8j814V1bLU/0P4dE50oYV/Y/2qdwOgNf+D8sC/op7mb6P35ugxnZbvw/0NEMCcR2/j+RGkt8Vz8AQDrMD/RMQwFA433Ua0JHAkCML5njN0sDQDXhXVstTwRA3pIi0yJTBUCHROdKGFcGQDD2q8INWwdA2qdwOgNfCECDWTWy+GIJQCwL+inuZgpA1by+oeNqC0B+boMZ2W4MQCcgSJHOcg1A0NEMCcR2DkB5g9GAuXoPQJEaS3xXPxBAZnMtOFLBEEA6zA/0TEMRQA8l8q9HxRFA433Ua0JHEkC41rYnPckSQIwvmeM3SxNAYYh7nzLNE0A14V1bLU8UQAo6QBco0RRA3pIi0yJTFUCz6wSPHdUVQIdE50oYVxZAXJ3JBhPZFkAw9qvCDVsXQAVPjn4I3RdA2qdwOgNfGECuAFP2/eAYQINZNbL4YhlAV7IXbvPkGUAsC/op7mYaQABk3OXo6BpA1by+oeNqG0CpFaFd3uwbQH5ugxnZbhxAUsdl1dPwHEAnIEiRznIdQPt4Kk3J9B1A0NEMCcR2HkCkKu/EvvgeQHmD0YC5eh9ATdyzPLT8H0CRGkt8Vz8gQPtGPNpUgCBAZnMtOFLBIEDQnx6WTwIhQDrMD/RMQyFApPgAUkqEIUAPJfKvR8UhQHlR4w1FBiJA433Ua0JHIkBNqsXJP4giQLjWtic9ySJAIgOohToKI0CML5njN0sjQPZbikE1jCNAYYh7nzLNI0DLtGz9Lw4kQDXhXVstTyRAoA1PuSqQJEAKOkAXKNEkQHRmMXUlEiVA3pIi0yJTJUBJvxMxIJQlQLPrBI8d1SVAHRj27BoWJkCHROdKGFcmQPJw2KgVmCZAXJ3JBhPZJkDGybpkEBonQDD2q8INWydAmyKdIAucJ0AFT45+CN0nQG97f9wFHihA2qdwOgNfKEBE1GGYAKAoQK4AU/b94ChAGC1EVPshKUA=\",\"dtype\":\"float64\",\"shape\":[100]},\"y\":{\"__ndarray__\":\"AAAAAAAAAADwgwJ4LjTAP5qI2QHPEtA/+5MNU1HJ1z8YTT7q2B3fP0aFmgwa+eI/ABg/lCAV5j+IQCEcMdboP3fOhmLzMOs/EyzujrQb7T/9Izwlj47uPxccgYyLg+8/g6xao7j27z9mZrL8O+bvP7+X94FZUu8/xVNiW3I97j9RB8Ai+6vsP5FWKYlppOo/oSg6uxkv6D/Sh2bxK1blPyZGRbpaJeI/8qg+VZVT3T/4C4p0qOPVP+UppLIiM8w/3FNHxZdVuD/J23zJpD6gv+3ENsZjOcS/wo12/ecH0r/dgWKM2KjZv2MTsJELcOC/83ixWvXH47+358MBZM7mv5eCD4nhdum/rExY6Hq267+TIxAn7YPtvwSssILL1+6/70I4BJ6s77/vOc8G+P7vvzTGy1KGze+/3176khQZ77/C8a4NiuTtvzGcHq/dNOy/l0FFlgER6r+EGZN4xoHnvx8WPFK3keS/Cli7+O1M4b+HQNqEwoHbv9kfIiFb+NO/gKyggGI5yL8EhrXMjDywvyGGtcyMPLA/jqyggGI5yD/gHyIhW/jTP4BA2oTCgds/DVi7+O1M4T8cFjxSt5HkP4cZk3jGgec/lUFFlgER6j8ynB6v3TTsP8Hxrg2K5O0/4F76khQZ7z80xstShs3vP+85zwb4/u8/8EI4BJ6s7z8DrLCCy9fuP5UjECftg+0/p0xY6Hq26z+Vgg+J4XbpP7fnwwFkzuY/9nixWvXH4z9dE7CRC3DgP9eBYozYqNk/w412/ecH0j/+xDbGYznEP0/bfMmkPqA/+FNHxZdVuL/UKaSyIjPMv+gLinSo49W/+Kg+VZVT3b8lRkW6WiXiv8+HZvErVuW/pig6uxkv6L+TVimJaaTqv1EHwCL7q+y/xFNiW3I97r/Al/eBWVLvv2Zmsvw75u+/g6xao7j2778YHIGMi4Pvv/sjPCWPju6/EyzujrQb7b94zoZi8zDrv4xAIRwx1ui//Bc/lCAV5r9GhZoMGvnivx5NPurYHd+/6pMNU1HJ17+SiNkBzxLQv/GDAnguNMC/B1wUMyamwbw=\",\"dtype\":\"float64\",\"shape\":[100]}},\"selected\":{\"id\":\"4004\",\"type\":\"Selection\"},\"selection_policy\":{\"id\":\"4003\",\"type\":\"UnionRenderers\"}},\"id\":\"3975\",\"type\":\"ColumnDataSource\"},{\"attributes\":{\"label\":{\"value\":\"2*sin(x)\"},\"renderers\":[{\"id\":\"3992\",\"type\":\"GlyphRenderer\"}]},\"id\":\"4005\",\"type\":\"LegendItem\"},{\"attributes\":{\"fill_color\":{\"value\":\"#1f77b4\"},\"line_color\":{\"value\":\"#1f77b4\"},\"x\":{\"field\":\"x\"},\"y\":{\"field\":\"y\"}},\"id\":\"3962\",\"type\":\"Circle\"},{\"attributes\":{},\"id\":\"3951\",\"type\":\"HelpTool\"},{\"attributes\":{\"callback\":null,\"data\":{\"x\":{\"__ndarray__\":\"AAAAAAAAAACRGkt8Vz/AP5EaS3xXP9A/2qdwOgNf2D+RGkt8Vz/gPzXhXVstT+Q/2qdwOgNf6D9+boMZ2W7sP5EaS3xXP/A/433Ua0JH8j814V1bLU/0P4dE50oYV/Y/2qdwOgNf+D8sC/op7mb6P35ugxnZbvw/0NEMCcR2/j+RGkt8Vz8AQDrMD/RMQwFA433Ua0JHAkCML5njN0sDQDXhXVstTwRA3pIi0yJTBUCHROdKGFcGQDD2q8INWwdA2qdwOgNfCECDWTWy+GIJQCwL+inuZgpA1by+oeNqC0B+boMZ2W4MQCcgSJHOcg1A0NEMCcR2DkB5g9GAuXoPQJEaS3xXPxBAZnMtOFLBEEA6zA/0TEMRQA8l8q9HxRFA433Ua0JHEkC41rYnPckSQIwvmeM3SxNAYYh7nzLNE0A14V1bLU8UQAo6QBco0RRA3pIi0yJTFUCz6wSPHdUVQIdE50oYVxZAXJ3JBhPZFkAw9qvCDVsXQAVPjn4I3RdA2qdwOgNfGECuAFP2/eAYQINZNbL4YhlAV7IXbvPkGUAsC/op7mYaQABk3OXo6BpA1by+oeNqG0CpFaFd3uwbQH5ugxnZbhxAUsdl1dPwHEAnIEiRznIdQPt4Kk3J9B1A0NEMCcR2HkCkKu/EvvgeQHmD0YC5eh9ATdyzPLT8H0CRGkt8Vz8gQPtGPNpUgCBAZnMtOFLBIEDQnx6WTwIhQDrMD/RMQyFApPgAUkqEIUAPJfKvR8UhQHlR4w1FBiJA433Ua0JHIkBNqsXJP4giQLjWtic9ySJAIgOohToKI0CML5njN0sjQPZbikE1jCNAYYh7nzLNI0DLtGz9Lw4kQDXhXVstTyRAoA1PuSqQJEAKOkAXKNEkQHRmMXUlEiVA3pIi0yJTJUBJvxMxIJQlQLPrBI8d1SVAHRj27BoWJkCHROdKGFcmQPJw2KgVmCZAXJ3JBhPZJkDGybpkEBonQDD2q8INWydAmyKdIAucJ0AFT45+CN0nQG97f9wFHihA2qdwOgNfKEBE1GGYAKAoQK4AU/b94ChAGC1EVPshKUA=\",\"dtype\":\"float64\",\"shape\":[100]},\"y\":{\"__ndarray__\":\"AAAAAAAAAADoxQO0RU7YP+dMxoI2HOg//C5K/vzW8T/Sua6vYlb3P+nH5xKndfw/AFIvb9iPAEBm8BjVpKACQNka5Ym2ZARADqEya8fUBUD+Gu1b6+oGQBHVYKmoogdAYgGEegr5B0DMzIX9rOwHQM+xeSHDfQdA1L6JxBWuBkB9BRBa/IAFQO0A3yZP+wNAeZ5rTFMjAkDe5Qz1oAAAQDnpZxcIOPs/tv7u/6/+9T/6iGdXvmrwP2wf+wVaJuU/5X710zFA0j+uSTsu9124v2QnUqkVVt6/o9Qx/NsL679m4Ulpoj7zvxQdiFoRqPi/bDUKCPCr/b/J7VIByxoBwPGhyyYpGQPAgTlCLtzIBMCuGkzd8SIGwAOBBKLYIQfAMzIqg3bBB8BzaxsFOv8HwKfUGL4k2gfAJ8c7bs9SB8BSNUOKZ2sGwCX1VkOmJwXAMfGzMMGMA8AjU27aVKEBwC4hWvuS2v6/DwQZ9WTz+b9lsKPjUaH0v8Yvs7GI9O2/YIF44Akr4r8GSRAz01rIvzJJEDPTWsg/aoF44Akr4j/QL7OxiPTtP2Cwo+NRofQ/FAQZ9WTz+T8qIVr7ktr+PyVTbtpUoQFAMPGzMMGMA0Am9VZDpicFQFE1Q4pnawZAKMc7bs9SB0Cn1Bi+JNoHQHNrGwU6/wdANDIqg3bBB0ACgQSi2CEHQLAaTN3xIgZAfTlCLtzIBEDwocsmKRkDQMntUgHLGgFAcTUKCPCr/T8MHYhaEaj4P2HhSWmiPvM/pNQx/NsL6z99J1KpFVbeP/ZIOy73Xbg/+n710zFA0r9fH/sFWiblv+6IZ1e+avC/uv7u/6/+9b846WcXCDj7v9vlDPWgAADAfJ5rTFMjAsDuAN8mT/sDwH0FEFr8gAXA076JxBWuBsDQsXkhw30HwMzMhf2s7AfAYgGEegr5B8AS1WCpqKIHwPwa7Vvr6gbADqEya8fUBcDaGuWJtmQEwGnwGNWkoALA/VEvb9iPAMDpx+cSp3X8v9a5rq9iVve/8C5K/vzW8b/bTMaCNhzov+rFA7RFTti/CoqeTDl52rw=\",\"dtype\":\"float64\",\"shape\":[100]}},\"selected\":{\"id\":\"4223\",\"type\":\"Selection\"},\"selection_policy\":{\"id\":\"4222\",\"type\":\"UnionRenderers\"}},\"id\":\"4025\",\"type\":\"ColumnDataSource\"},{\"attributes\":{\"callback\":null},\"id\":\"3928\",\"type\":\"DataRange1d\"},{\"attributes\":{\"active_drag\":\"auto\",\"active_inspect\":\"auto\",\"active_multi\":null,\"active_scroll\":\"auto\",\"active_tap\":\"auto\",\"tools\":[{\"id\":\"3946\",\"type\":\"PanTool\"},{\"id\":\"3947\",\"type\":\"WheelZoomTool\"},{\"id\":\"3948\",\"type\":\"BoxZoomTool\"},{\"id\":\"3949\",\"type\":\"SaveTool\"},{\"id\":\"3950\",\"type\":\"ResetTool\"},{\"id\":\"3951\",\"type\":\"HelpTool\"}]},\"id\":\"3952\",\"type\":\"Toolbar\"},{\"attributes\":{\"fill_color\":{\"value\":null},\"line_color\":{\"value\":\"green\"},\"x\":{\"field\":\"x\"},\"y\":{\"field\":\"y\"}},\"id\":\"4007\",\"type\":\"Square\"},{\"attributes\":{\"label\":{\"value\":\"sin(x)\"},\"renderers\":[{\"id\":\"3964\",\"type\":\"GlyphRenderer\"},{\"id\":\"3978\",\"type\":\"GlyphRenderer\"}]},\"id\":\"3974\",\"type\":\"LegendItem\"},{\"attributes\":{\"callback\":null},\"id\":\"3930\",\"type\":\"DataRange1d\"},{\"attributes\":{\"fill_alpha\":{\"value\":0.1},\"fill_color\":{\"value\":\"#1f77b4\"},\"line_alpha\":{\"value\":0.1},\"line_color\":{\"value\":\"#1f77b4\"},\"x\":{\"field\":\"x\"},\"y\":{\"field\":\"y\"}},\"id\":\"4008\",\"type\":\"Square\"},{\"attributes\":{\"bottom_units\":\"screen\",\"fill_alpha\":{\"value\":0.5},\"fill_color\":{\"value\":\"lightgrey\"},\"left_units\":\"screen\",\"level\":\"overlay\",\"line_alpha\":{\"value\":1.0},\"line_color\":{\"value\":\"black\"},\"line_dash\":[4,4],\"line_width\":{\"value\":2},\"plot\":null,\"render_mode\":\"css\",\"right_units\":\"screen\",\"top_units\":\"screen\"},\"id\":\"3954\",\"type\":\"BoxAnnotation\"},{\"attributes\":{},\"id\":\"3932\",\"type\":\"LinearScale\"},{\"attributes\":{\"data_source\":{\"id\":\"4006\",\"type\":\"ColumnDataSource\"},\"glyph\":{\"id\":\"4007\",\"type\":\"Square\"},\"hover_glyph\":null,\"muted_glyph\":null,\"nonselection_glyph\":{\"id\":\"4008\",\"type\":\"Square\"},\"selection_glyph\":null,\"view\":{\"id\":\"4010\",\"type\":\"CDSView\"}},\"id\":\"4009\",\"type\":\"GlyphRenderer\"},{\"attributes\":{},\"id\":\"3987\",\"type\":\"UnionRenderers\"},{\"attributes\":{},\"id\":\"3934\",\"type\":\"LinearScale\"},{\"attributes\":{\"callback\":null,\"data\":{\"x\":{\"__ndarray__\":\"AAAAAAAAAACRGkt8Vz/AP5EaS3xXP9A/2qdwOgNf2D+RGkt8Vz/gPzXhXVstT+Q/2qdwOgNf6D9+boMZ2W7sP5EaS3xXP/A/433Ua0JH8j814V1bLU/0P4dE50oYV/Y/2qdwOgNf+D8sC/op7mb6P35ugxnZbvw/0NEMCcR2/j+RGkt8Vz8AQDrMD/RMQwFA433Ua0JHAkCML5njN0sDQDXhXVstTwRA3pIi0yJTBUCHROdKGFcGQDD2q8INWwdA2qdwOgNfCECDWTWy+GIJQCwL+inuZgpA1by+oeNqC0B+boMZ2W4MQCcgSJHOcg1A0NEMCcR2DkB5g9GAuXoPQJEaS3xXPxBAZnMtOFLBEEA6zA/0TEMRQA8l8q9HxRFA433Ua0JHEkC41rYnPckSQIwvmeM3SxNAYYh7nzLNE0A14V1bLU8UQAo6QBco0RRA3pIi0yJTFUCz6wSPHdUVQIdE50oYVxZAXJ3JBhPZFkAw9qvCDVsXQAVPjn4I3RdA2qdwOgNfGECuAFP2/eAYQINZNbL4YhlAV7IXbvPkGUAsC/op7mYaQABk3OXo6BpA1by+oeNqG0CpFaFd3uwbQH5ugxnZbhxAUsdl1dPwHEAnIEiRznIdQPt4Kk3J9B1A0NEMCcR2HkCkKu/EvvgeQHmD0YC5eh9ATdyzPLT8H0CRGkt8Vz8gQPtGPNpUgCBAZnMtOFLBIEDQnx6WTwIhQDrMD/RMQyFApPgAUkqEIUAPJfKvR8UhQHlR4w1FBiJA433Ua0JHIkBNqsXJP4giQLjWtic9ySJAIgOohToKI0CML5njN0sjQPZbikE1jCNAYYh7nzLNI0DLtGz9Lw4kQDXhXVstTyRAoA1PuSqQJEAKOkAXKNEkQHRmMXUlEiVA3pIi0yJTJUBJvxMxIJQlQLPrBI8d1SVAHRj27BoWJkCHROdKGFcmQPJw2KgVmCZAXJ3JBhPZJkDGybpkEBonQDD2q8INWydAmyKdIAucJ0AFT45+CN0nQG97f9wFHihA2qdwOgNfKEBE1GGYAKAoQK4AU/b94ChAGC1EVPshKUA=\",\"dtype\":\"float64\",\"shape\":[100]},\"y\":{\"__ndarray__\":\"AAAAAAAAAADwgwJ4LjTQP5qI2QHPEuA/+5MNU1HJ5z8YTT7q2B3vP0aFmgwa+fI/ABg/lCAV9j+IQCEcMdb4P3fOhmLzMPs/EyzujrQb/T/9Izwlj47+PxccgYyLg/8/g6xao7j2/z9mZrL8O+b/P7+X94FZUv8/xVNiW3I9/j9RB8Ai+6v8P5FWKYlppPo/oSg6uxkv+D/Sh2bxK1b1PyZGRbpaJfI/8qg+VZVT7T/4C4p0qOPlP+UppLIiM9w/3FNHxZdVyD/J23zJpD6wv+3ENsZjOdS/wo12/ecH4r/dgWKM2Kjpv2MTsJELcPC/83ixWvXH87+358MBZM72v5eCD4nhdvm/rExY6Hq2+7+TIxAn7YP9vwSssILL1/6/70I4BJ6s/7/vOc8G+P7/vzTGy1KGzf+/3176khQZ/7/C8a4NiuT9vzGcHq/dNPy/l0FFlgER+r+EGZN4xoH3vx8WPFK3kfS/Cli7+O1M8b+HQNqEwoHrv9kfIiFb+OO/gKyggGI52L8EhrXMjDzAvyGGtcyMPMA/jqyggGI52D/gHyIhW/jjP4BA2oTCges/DVi7+O1M8T8cFjxSt5H0P4cZk3jGgfc/lUFFlgER+j8ynB6v3TT8P8Hxrg2K5P0/4F76khQZ/z80xstShs3/P+85zwb4/v8/8EI4BJ6s/z8DrLCCy9f+P5UjECftg/0/p0xY6Hq2+z+Vgg+J4Xb5P7fnwwFkzvY/9nixWvXH8z9dE7CRC3DwP9eBYozYqOk/w412/ecH4j/+xDbGYznUP0/bfMmkPrA/+FNHxZdVyL/UKaSyIjPcv+gLinSo4+W/+Kg+VZVT7b8lRkW6WiXyv8+HZvErVvW/pig6uxkv+L+TVimJaaT6v1EHwCL7q/y/xFNiW3I9/r/Al/eBWVL/v2Zmsvw75v+/g6xao7j2/78YHIGMi4P/v/sjPCWPjv6/EyzujrQb/b94zoZi8zD7v4xAIRwx1vi//Bc/lCAV9r9GhZoMGvnyvx5NPurYHe+/6pMNU1HJ57+SiNkBzxLgv/GDAnguNNC/B1wUMyam0bw=\",\"dtype\":\"float64\",\"shape\":[100]}},\"selected\":{\"id\":\"4023\",\"type\":\"Selection\"},\"selection_policy\":{\"id\":\"4022\",\"type\":\"UnionRenderers\"}},\"id\":\"3989\",\"type\":\"ColumnDataSource\"},{\"attributes\":{\"source\":{\"id\":\"4006\",\"type\":\"ColumnDataSource\"}},\"id\":\"4010\",\"type\":\"CDSView\"},{\"attributes\":{\"line_color\":\"#1f77b4\",\"x\":{\"field\":\"x\"},\"y\":{\"field\":\"y\"}},\"id\":\"3976\",\"type\":\"Line\"},{\"attributes\":{\"formatter\":{\"id\":\"3968\",\"type\":\"BasicTickFormatter\"},\"plot\":{\"id\":\"3927\",\"subtype\":\"Figure\",\"type\":\"Plot\"},\"ticker\":{\"id\":\"3937\",\"type\":\"BasicTicker\"}},\"id\":\"3936\",\"type\":\"LinearAxis\"},{\"attributes\":{},\"id\":\"4022\",\"type\":\"UnionRenderers\"},{\"attributes\":{\"line_alpha\":0.1,\"line_color\":\"#1f77b4\",\"x\":{\"field\":\"x\"},\"y\":{\"field\":\"y\"}},\"id\":\"3977\",\"type\":\"Line\"},{\"attributes\":{},\"id\":\"3937\",\"type\":\"BasicTicker\"},{\"attributes\":{},\"id\":\"4023\",\"type\":\"Selection\"},{\"attributes\":{\"data_source\":{\"id\":\"3975\",\"type\":\"ColumnDataSource\"},\"glyph\":{\"id\":\"3976\",\"type\":\"Line\"},\"hover_glyph\":null,\"muted_glyph\":null,\"nonselection_glyph\":{\"id\":\"3977\",\"type\":\"Line\"},\"selection_glyph\":null,\"view\":{\"id\":\"3979\",\"type\":\"CDSView\"}},\"id\":\"3978\",\"type\":\"GlyphRenderer\"},{\"attributes\":{\"plot\":{\"id\":\"3927\",\"subtype\":\"Figure\",\"type\":\"Plot\"},\"ticker\":{\"id\":\"3937\",\"type\":\"BasicTicker\"}},\"id\":\"3940\",\"type\":\"Grid\"},{\"attributes\":{\"plot\":null,\"text\":\"\"},\"id\":\"3967\",\"type\":\"Title\"},{\"attributes\":{\"label\":{\"value\":\"3*sin(x)\"},\"renderers\":[{\"id\":\"4009\",\"type\":\"GlyphRenderer\"},{\"id\":\"4028\",\"type\":\"GlyphRenderer\"}]},\"id\":\"4024\",\"type\":\"LegendItem\"},{\"attributes\":{\"callback\":null,\"data\":{\"x\":{\"__ndarray__\":\"AAAAAAAAAACRGkt8Vz/AP5EaS3xXP9A/2qdwOgNf2D+RGkt8Vz/gPzXhXVstT+Q/2qdwOgNf6D9+boMZ2W7sP5EaS3xXP/A/433Ua0JH8j814V1bLU/0P4dE50oYV/Y/2qdwOgNf+D8sC/op7mb6P35ugxnZbvw/0NEMCcR2/j+RGkt8Vz8AQDrMD/RMQwFA433Ua0JHAkCML5njN0sDQDXhXVstTwRA3pIi0yJTBUCHROdKGFcGQDD2q8INWwdA2qdwOgNfCECDWTWy+GIJQCwL+inuZgpA1by+oeNqC0B+boMZ2W4MQCcgSJHOcg1A0NEMCcR2DkB5g9GAuXoPQJEaS3xXPxBAZnMtOFLBEEA6zA/0TEMRQA8l8q9HxRFA433Ua0JHEkC41rYnPckSQIwvmeM3SxNAYYh7nzLNE0A14V1bLU8UQAo6QBco0RRA3pIi0yJTFUCz6wSPHdUVQIdE50oYVxZAXJ3JBhPZFkAw9qvCDVsXQAVPjn4I3RdA2qdwOgNfGECuAFP2/eAYQINZNbL4YhlAV7IXbvPkGUAsC/op7mYaQABk3OXo6BpA1by+oeNqG0CpFaFd3uwbQH5ugxnZbhxAUsdl1dPwHEAnIEiRznIdQPt4Kk3J9B1A0NEMCcR2HkCkKu/EvvgeQHmD0YC5eh9ATdyzPLT8H0CRGkt8Vz8gQPtGPNpUgCBAZnMtOFLBIEDQnx6WTwIhQDrMD/RMQyFApPgAUkqEIUAPJfKvR8UhQHlR4w1FBiJA433Ua0JHIkBNqsXJP4giQLjWtic9ySJAIgOohToKI0CML5njN0sjQPZbikE1jCNAYYh7nzLNI0DLtGz9Lw4kQDXhXVstTyRAoA1PuSqQJEAKOkAXKNEkQHRmMXUlEiVA3pIi0yJTJUBJvxMxIJQlQLPrBI8d1SVAHRj27BoWJkCHROdKGFcmQPJw2KgVmCZAXJ3JBhPZJkDGybpkEBonQDD2q8INWydAmyKdIAucJ0AFT45+CN0nQG97f9wFHihA2qdwOgNfKEBE1GGYAKAoQK4AU/b94ChAGC1EVPshKUA=\",\"dtype\":\"float64\",\"shape\":[100]},\"y\":{\"__ndarray__\":\"AAAAAAAAAADwgwJ4LjTAP5qI2QHPEtA/+5MNU1HJ1z8YTT7q2B3fP0aFmgwa+eI/ABg/lCAV5j+IQCEcMdboP3fOhmLzMOs/EyzujrQb7T/9Izwlj47uPxccgYyLg+8/g6xao7j27z9mZrL8O+bvP7+X94FZUu8/xVNiW3I97j9RB8Ai+6vsP5FWKYlppOo/oSg6uxkv6D/Sh2bxK1blPyZGRbpaJeI/8qg+VZVT3T/4C4p0qOPVP+UppLIiM8w/3FNHxZdVuD/J23zJpD6gv+3ENsZjOcS/wo12/ecH0r/dgWKM2KjZv2MTsJELcOC/83ixWvXH47+358MBZM7mv5eCD4nhdum/rExY6Hq267+TIxAn7YPtvwSssILL1+6/70I4BJ6s77/vOc8G+P7vvzTGy1KGze+/3176khQZ77/C8a4NiuTtvzGcHq/dNOy/l0FFlgER6r+EGZN4xoHnvx8WPFK3keS/Cli7+O1M4b+HQNqEwoHbv9kfIiFb+NO/gKyggGI5yL8EhrXMjDywvyGGtcyMPLA/jqyggGI5yD/gHyIhW/jTP4BA2oTCgds/DVi7+O1M4T8cFjxSt5HkP4cZk3jGgec/lUFFlgER6j8ynB6v3TTsP8Hxrg2K5O0/4F76khQZ7z80xstShs3vP+85zwb4/u8/8EI4BJ6s7z8DrLCCy9fuP5UjECftg+0/p0xY6Hq26z+Vgg+J4XbpP7fnwwFkzuY/9nixWvXH4z9dE7CRC3DgP9eBYozYqNk/w412/ecH0j/+xDbGYznEP0/bfMmkPqA/+FNHxZdVuL/UKaSyIjPMv+gLinSo49W/+Kg+VZVT3b8lRkW6WiXiv8+HZvErVuW/pig6uxkv6L+TVimJaaTqv1EHwCL7q+y/xFNiW3I97r/Al/eBWVLvv2Zmsvw75u+/g6xao7j2778YHIGMi4Pvv/sjPCWPju6/EyzujrQb7b94zoZi8zDrv4xAIRwx1ui//Bc/lCAV5r9GhZoMGvnivx5NPurYHd+/6pMNU1HJ17+SiNkBzxLQv/GDAnguNMC/B1wUMyamwbw=\",\"dtype\":\"float64\",\"shape\":[100]}},\"selected\":{\"id\":\"3988\",\"type\":\"Selection\"},\"selection_policy\":{\"id\":\"3987\",\"type\":\"UnionRenderers\"}},\"id\":\"3961\",\"type\":\"ColumnDataSource\"},{\"attributes\":{\"source\":{\"id\":\"3975\",\"type\":\"ColumnDataSource\"}},\"id\":\"3979\",\"type\":\"CDSView\"},{\"attributes\":{\"formatter\":{\"id\":\"3970\",\"type\":\"BasicTickFormatter\"},\"plot\":{\"id\":\"3927\",\"subtype\":\"Figure\",\"type\":\"Plot\"},\"ticker\":{\"id\":\"3942\",\"type\":\"BasicTicker\"}},\"id\":\"3941\",\"type\":\"LinearAxis\"},{\"attributes\":{},\"id\":\"3942\",\"type\":\"BasicTicker\"},{\"attributes\":{\"line_color\":\"green\",\"x\":{\"field\":\"x\"},\"y\":{\"field\":\"y\"}},\"id\":\"4026\",\"type\":\"Line\"},{\"attributes\":{},\"id\":\"3988\",\"type\":\"Selection\"},{\"attributes\":{\"dimension\":1,\"plot\":{\"id\":\"3927\",\"subtype\":\"Figure\",\"type\":\"Plot\"},\"ticker\":{\"id\":\"3942\",\"type\":\"BasicTicker\"}},\"id\":\"3945\",\"type\":\"Grid\"},{\"attributes\":{\"source\":{\"id\":\"3961\",\"type\":\"ColumnDataSource\"}},\"id\":\"3965\",\"type\":\"CDSView\"},{\"attributes\":{\"line_alpha\":0.1,\"line_color\":\"#1f77b4\",\"x\":{\"field\":\"x\"},\"y\":{\"field\":\"y\"}},\"id\":\"4027\",\"type\":\"Line\"},{\"attributes\":{\"callback\":null,\"data\":{\"x\":{\"__ndarray__\":\"AAAAAAAAAACRGkt8Vz/AP5EaS3xXP9A/2qdwOgNf2D+RGkt8Vz/gPzXhXVstT+Q/2qdwOgNf6D9+boMZ2W7sP5EaS3xXP/A/433Ua0JH8j814V1bLU/0P4dE50oYV/Y/2qdwOgNf+D8sC/op7mb6P35ugxnZbvw/0NEMCcR2/j+RGkt8Vz8AQDrMD/RMQwFA433Ua0JHAkCML5njN0sDQDXhXVstTwRA3pIi0yJTBUCHROdKGFcGQDD2q8INWwdA2qdwOgNfCECDWTWy+GIJQCwL+inuZgpA1by+oeNqC0B+boMZ2W4MQCcgSJHOcg1A0NEMCcR2DkB5g9GAuXoPQJEaS3xXPxBAZnMtOFLBEEA6zA/0TEMRQA8l8q9HxRFA433Ua0JHEkC41rYnPckSQIwvmeM3SxNAYYh7nzLNE0A14V1bLU8UQAo6QBco0RRA3pIi0yJTFUCz6wSPHdUVQIdE50oYVxZAXJ3JBhPZFkAw9qvCDVsXQAVPjn4I3RdA2qdwOgNfGECuAFP2/eAYQINZNbL4YhlAV7IXbvPkGUAsC/op7mYaQABk3OXo6BpA1by+oeNqG0CpFaFd3uwbQH5ugxnZbhxAUsdl1dPwHEAnIEiRznIdQPt4Kk3J9B1A0NEMCcR2HkCkKu/EvvgeQHmD0YC5eh9ATdyzPLT8H0CRGkt8Vz8gQPtGPNpUgCBAZnMtOFLBIEDQnx6WTwIhQDrMD/RMQyFApPgAUkqEIUAPJfKvR8UhQHlR4w1FBiJA433Ua0JHIkBNqsXJP4giQLjWtic9ySJAIgOohToKI0CML5njN0sjQPZbikE1jCNAYYh7nzLNI0DLtGz9Lw4kQDXhXVstTyRAoA1PuSqQJEAKOkAXKNEkQHRmMXUlEiVA3pIi0yJTJUBJvxMxIJQlQLPrBI8d1SVAHRj27BoWJkCHROdKGFcmQPJw2KgVmCZAXJ3JBhPZJkDGybpkEBonQDD2q8INWydAmyKdIAucJ0AFT45+CN0nQG97f9wFHihA2qdwOgNfKEBE1GGYAKAoQK4AU/b94ChAGC1EVPshKUA=\",\"dtype\":\"float64\",\"shape\":[100]},\"y\":{\"__ndarray__\":\"AAAAAAAAAADoxQO0RU7YP+dMxoI2HOg//C5K/vzW8T/Sua6vYlb3P+nH5xKndfw/AFIvb9iPAEBm8BjVpKACQNka5Ym2ZARADqEya8fUBUD+Gu1b6+oGQBHVYKmoogdAYgGEegr5B0DMzIX9rOwHQM+xeSHDfQdA1L6JxBWuBkB9BRBa/IAFQO0A3yZP+wNAeZ5rTFMjAkDe5Qz1oAAAQDnpZxcIOPs/tv7u/6/+9T/6iGdXvmrwP2wf+wVaJuU/5X710zFA0j+uSTsu9124v2QnUqkVVt6/o9Qx/NsL679m4Ulpoj7zvxQdiFoRqPi/bDUKCPCr/b/J7VIByxoBwPGhyyYpGQPAgTlCLtzIBMCuGkzd8SIGwAOBBKLYIQfAMzIqg3bBB8BzaxsFOv8HwKfUGL4k2gfAJ8c7bs9SB8BSNUOKZ2sGwCX1VkOmJwXAMfGzMMGMA8AjU27aVKEBwC4hWvuS2v6/DwQZ9WTz+b9lsKPjUaH0v8Yvs7GI9O2/YIF44Akr4r8GSRAz01rIvzJJEDPTWsg/aoF44Akr4j/QL7OxiPTtP2Cwo+NRofQ/FAQZ9WTz+T8qIVr7ktr+PyVTbtpUoQFAMPGzMMGMA0Am9VZDpicFQFE1Q4pnawZAKMc7bs9SB0Cn1Bi+JNoHQHNrGwU6/wdANDIqg3bBB0ACgQSi2CEHQLAaTN3xIgZAfTlCLtzIBEDwocsmKRkDQMntUgHLGgFAcTUKCPCr/T8MHYhaEaj4P2HhSWmiPvM/pNQx/NsL6z99J1KpFVbeP/ZIOy73Xbg/+n710zFA0r9fH/sFWiblv+6IZ1e+avC/uv7u/6/+9b846WcXCDj7v9vlDPWgAADAfJ5rTFMjAsDuAN8mT/sDwH0FEFr8gAXA076JxBWuBsDQsXkhw30HwMzMhf2s7AfAYgGEegr5B8AS1WCpqKIHwPwa7Vvr6gbADqEya8fUBcDaGuWJtmQEwGnwGNWkoALA/VEvb9iPAMDpx+cSp3X8v9a5rq9iVve/8C5K/vzW8b/bTMaCNhzov+rFA7RFTti/CoqeTDl52rw=\",\"dtype\":\"float64\",\"shape\":[100]}},\"selected\":{\"id\":\"4044\",\"type\":\"Selection\"},\"selection_policy\":{\"id\":\"4043\",\"type\":\"UnionRenderers\"}},\"id\":\"4006\",\"type\":\"ColumnDataSource\"},{\"attributes\":{\"background_fill_alpha\":{\"value\":0.2},\"background_fill_color\":{\"value\":\"gray\"},\"border_line_color\":{\"value\":\"navy\"},\"border_line_width\":{\"value\":3},\"items\":[{\"id\":\"3974\",\"type\":\"LegendItem\"},{\"id\":\"4005\",\"type\":\"LegendItem\"},{\"id\":\"4024\",\"type\":\"LegendItem\"}],\"label_text_color\":{\"value\":\"navy\"},\"label_text_font\":\"times\",\"label_text_font_size\":{\"value\":\"12pt\"},\"label_text_font_style\":\"italic\",\"location\":\"bottom_left\",\"plot\":{\"id\":\"3927\",\"subtype\":\"Figure\",\"type\":\"Plot\"}},\"id\":\"3973\",\"type\":\"Legend\"},{\"attributes\":{\"line_color\":\"orange\",\"line_dash\":[4,4],\"line_width\":2,\"x\":{\"field\":\"x\"},\"y\":{\"field\":\"y\"}},\"id\":\"3990\",\"type\":\"Line\"},{\"attributes\":{\"data_source\":{\"id\":\"4025\",\"type\":\"ColumnDataSource\"},\"glyph\":{\"id\":\"4026\",\"type\":\"Line\"},\"hover_glyph\":null,\"muted_glyph\":null,\"nonselection_glyph\":{\"id\":\"4027\",\"type\":\"Line\"},\"selection_glyph\":null,\"view\":{\"id\":\"4029\",\"type\":\"CDSView\"}},\"id\":\"4028\",\"type\":\"GlyphRenderer\"},{\"attributes\":{},\"id\":\"3970\",\"type\":\"BasicTickFormatter\"},{\"attributes\":{\"line_alpha\":0.1,\"line_color\":\"#1f77b4\",\"line_dash\":[4,4],\"line_width\":2,\"x\":{\"field\":\"x\"},\"y\":{\"field\":\"y\"}},\"id\":\"3991\",\"type\":\"Line\"},{\"attributes\":{\"source\":{\"id\":\"4025\",\"type\":\"ColumnDataSource\"}},\"id\":\"4029\",\"type\":\"CDSView\"},{\"attributes\":{\"data_source\":{\"id\":\"3989\",\"type\":\"ColumnDataSource\"},\"glyph\":{\"id\":\"3990\",\"type\":\"Line\"},\"hover_glyph\":null,\"muted_glyph\":null,\"nonselection_glyph\":{\"id\":\"3991\",\"type\":\"Line\"},\"selection_glyph\":null,\"view\":{\"id\":\"3993\",\"type\":\"CDSView\"}},\"id\":\"3992\",\"type\":\"GlyphRenderer\"},{\"attributes\":{\"overlay\":{\"id\":\"3954\",\"type\":\"BoxAnnotation\"}},\"id\":\"3948\",\"type\":\"BoxZoomTool\"},{\"attributes\":{},\"id\":\"3946\",\"type\":\"PanTool\"},{\"attributes\":{},\"id\":\"4043\",\"type\":\"UnionRenderers\"},{\"attributes\":{\"fill_alpha\":{\"value\":0.1},\"fill_color\":{\"value\":\"#1f77b4\"},\"line_alpha\":{\"value\":0.1},\"line_color\":{\"value\":\"#1f77b4\"},\"x\":{\"field\":\"x\"},\"y\":{\"field\":\"y\"}},\"id\":\"3963\",\"type\":\"Circle\"},{\"attributes\":{\"source\":{\"id\":\"3989\",\"type\":\"ColumnDataSource\"}},\"id\":\"3993\",\"type\":\"CDSView\"},{\"attributes\":{},\"id\":\"3947\",\"type\":\"WheelZoomTool\"},{\"attributes\":{},\"id\":\"4044\",\"type\":\"Selection\"},{\"attributes\":{},\"id\":\"4003\",\"type\":\"UnionRenderers\"},{\"attributes\":{\"data_source\":{\"id\":\"3961\",\"type\":\"ColumnDataSource\"},\"glyph\":{\"id\":\"3962\",\"type\":\"Circle\"},\"hover_glyph\":null,\"muted_glyph\":null,\"nonselection_glyph\":{\"id\":\"3963\",\"type\":\"Circle\"},\"selection_glyph\":null,\"view\":{\"id\":\"3965\",\"type\":\"CDSView\"}},\"id\":\"3964\",\"type\":\"GlyphRenderer\"},{\"attributes\":{},\"id\":\"4222\",\"type\":\"UnionRenderers\"}],\"root_ids\":[\"3927\"]},\"title\":\"Bokeh Application\",\"version\":\"1.0.4\"}};\n",
       "  var render_items = [{\"docid\":\"98a81197-db7f-4ae0-9133-c9c798b00db9\",\"roots\":{\"3927\":\"c7bbda73-2108-42ed-a782-75db36b4074e\"}}];\n",
       "  root.Bokeh.embed.embed_items_notebook(docs_json, render_items);\n",
       "\n",
       "  }\n",
       "  if (root.Bokeh !== undefined) {\n",
       "    embed_document(root);\n",
       "  } else {\n",
       "    var attempts = 0;\n",
       "    var timer = setInterval(function(root) {\n",
       "      if (root.Bokeh !== undefined) {\n",
       "        embed_document(root);\n",
       "        clearInterval(timer);\n",
       "      }\n",
       "      attempts++;\n",
       "      if (attempts > 100) {\n",
       "        console.log(\"Bokeh: ERROR: Unable to run BokehJS code because BokehJS library is missing\");\n",
       "        clearInterval(timer);\n",
       "      }\n",
       "    }, 10, root)\n",
       "  }\n",
       "})(window);"
      ],
      "application/vnd.bokehjs_exec.v0+json": ""
     },
     "metadata": {
      "application/vnd.bokehjs_exec.v0+json": {
       "id": "3927"
      }
     },
     "output_type": "display_data"
    }
   ],
   "source": [
    "# Legend - 图例设置\n",
    "# 设置方法 → 在绘图时设置图例名称 + 设置图例位置\n",
    "\n",
    "p = figure(plot_width=600, plot_height=400)\n",
    "# 创建图表\n",
    "\n",
    "x = np.linspace(0, 4*np.pi, 100)\n",
    "y = np.sin(x)\n",
    "# 设置x，y\n",
    "\n",
    "p.circle(x, y, legend=\"sin(x)\")\n",
    "p.line(x, y, legend=\"sin(x)\")\n",
    "# 绘制line1，设置图例名称\n",
    "\n",
    "p.line(x, 2*y, legend=\"2*sin(x)\",line_dash=[4, 4], line_color=\"orange\", line_width=2)\n",
    "# 绘制line2，设置图例名称\n",
    "\n",
    "p.square(x, 3*y, legend=\"3*sin(x)\", fill_color=None, line_color=\"green\")\n",
    "p.line(x, 3*y, legend=\"3*sin(x)\", line_color=\"green\")\n",
    "# 绘制line3，设置图例名称\n",
    "\n",
    "p.legend.location = \"bottom_left\"\n",
    "# 设置图例位置：\"top_left\"、\"top_center\"、\"top_right\" (the default)、\"center_right\"、\"bottom_right\"、\"bottom_center\"\n",
    "# \"bottom_left\"、\"center_left\"、\"center\"\n",
    "\n",
    "p.legend.orientation = \"vertical\"\n",
    "# 设置图例排列方向：\"vertical\" （默认）or \"horizontal\"\n",
    "\n",
    "p.legend.label_text_font = \"times\"\n",
    "p.legend.label_text_font_style = \"italic\"  # 斜体\n",
    "p.legend.label_text_color = \"navy\"\n",
    "p.legend.label_text_font_size = '12pt'\n",
    "# 设置图例：字体、风格、颜色、字体大小\n",
    "\n",
    "p.legend.border_line_width = 3\n",
    "p.legend.border_line_color = \"navy\"\n",
    "p.legend.border_line_alpha = 0.5\n",
    "# 设置图例外边线：宽度、颜色、透明度\n",
    "\n",
    "p.legend.background_fill_color = \"gray\"\n",
    "p.legend.background_fill_alpha = 0.2\n",
    "# 设置图例背景：颜色、透明度\n",
    "\n",
    "show(p)"
   ]
  },
  {
   "cell_type": "code",
   "execution_count": null,
   "metadata": {},
   "outputs": [],
   "source": [
    "总结一下：\n",
    "Line Properties → 线设置\n",
    "Fill Properties → 填充设置\n",
    "Text Properties → 字体设置\n",
    "\n",
    "1、Line Properties → 线设置\n",
    "（1）line_color，设置颜色\n",
    "（2）line_width，设置宽度\n",
    "（3）line_alpha，设置透明度\n",
    "（4）line_join，设置连接点样式：'miter' miter_join，'round' round_join，'bevel' bevel_join\n",
    "（5）line_cap，设置线端口样式，'butt' butt_cap，'round' round_cap，'square' square_cap\n",
    "（6）line_dash，设置线条样式，'solid'，'dashed'，'dotted'，'dotdash'，'dashdot'，或者整型数组方式（例如[6,4]）\n",
    "\n",
    "2、Fill Properties → 填充设置\n",
    "（1）fill_color，设置填充颜色\n",
    "（2）fill_alpha，设置填充透明度\n",
    "\n",
    "3、Text Properties → 字体设置\n",
    "（1）text_font，字体\n",
    "（2）text_font_size，字体大小，单位为pt或者em（ '12pt', '1.5em'）\n",
    "（3）text_font_style，字体风格，'normal' normal text，'italic' italic text，'bold' bold text\n",
    "（4）text_color，字体颜色\n",
    "（5）text_alpha，字体透明度\n",
    "（6）text_align，字体水平方向位置，'left', 'right', 'center'\n",
    "（7）text_baseline，字体垂直方向位置，'top'，'middle'，'bottom'，'alphabetic'，'hanging'\n",
    "\n",
    "4、可见性\n",
    "p.xaxis.visible = False\n",
    "p.xgrid.visible = False\n",
    "基本参数中都含有.visible参数，设置是否可见\n",
    "\n"
   ]
  },
  {
   "cell_type": "code",
   "execution_count": null,
   "metadata": {},
   "outputs": [],
   "source": [
    "#标题  p.title\n",
    "#图表边框线  p.outline\n",
    "#绘图空间背景  p.background\n",
    "#外边界背景    p.border   p.min_border（填充大小）\n",
    "#轴线   p.xaxis p.yaxis  分为major minor 主轴线 和 次轴线\n",
    "#表格线设置  p.ygrid  p.xgrid.minor 设置次轴线   ygrid.band_fil  设置表格填充\n",
    "#图例设置  p.legend"
   ]
  }
 ],
 "metadata": {
  "kernelspec": {
   "display_name": "Python 3",
   "language": "python",
   "name": "python3"
  },
  "language_info": {
   "codemirror_mode": {
    "name": "ipython",
    "version": 3
   },
   "file_extension": ".py",
   "mimetype": "text/x-python",
   "name": "python",
   "nbconvert_exporter": "python",
   "pygments_lexer": "ipython3",
   "version": "3.7.2"
  }
 },
 "nbformat": 4,
 "nbformat_minor": 2
}
