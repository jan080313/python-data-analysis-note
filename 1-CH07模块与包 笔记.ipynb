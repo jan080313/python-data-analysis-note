{
 "cells": [
  {
   "cell_type": "code",
   "execution_count": 1,
   "metadata": {},
   "outputs": [
    {
     "data": {
      "text/plain": [
       "'\\n【课程7.2】  模块创建及import指令运用\\n\\nPython 模块(Module)，是一个 Python 文件，以 .py 结尾，包含了 Python 对象定义和Python语句\\n\\n'"
      ]
     },
     "execution_count": 1,
     "metadata": {},
     "output_type": "execute_result"
    }
   ],
   "source": [
    "#Python 的概念层级\n",
    "#表达式-----创建、处理对象\n",
    "#语句-------包含表达式，赋值语句，循环语句，条件判断语句，模块语句，运算语句，函数语句等\n",
    "#逻辑单元-----函数或者类，由语句组成\n",
    "#模块---.py代码文件组成模块\n",
    "#包----一系列模块组合在一起或一组有关系的文件\n",
    "#程序---若干个包+若干个模块"
   ]
  },
  {
   "cell_type": "code",
   "execution_count": 2,
   "metadata": {},
   "outputs": [],
   "source": [
    "'''\n",
    "【课程7.2】  模块创建及import指令运用\n",
    "\n",
    "Python 模块(Module)，是一个 Python 文件，以 .py 结尾，包含了 Python 对象定义和Python语句\n",
    "\n",
    "'''"
   ]
  },
  {
   "cell_type": "code",
   "execution_count": 3,
   "metadata": {},
   "outputs": [
    {
     "name": "stdout",
     "output_type": "stream",
     "text": [
      "C:\\ProgramData\\Anaconda3\\lib\\site-packages\\pandas\\__init__.py\n"
     ]
    }
   ],
   "source": [
    "# 模块路径问题\n",
    "\n",
    "import pandas\n",
    "print(pandas.__file__)\n",
    "# 查看现有包所在路径，将自己创建的包存入改路径\n",
    "\n",
    "import sys\n",
    "sys.path.append('C:/Users/Hjx/Desktop/')\n",
    "# 加载sys包，把新建的testmodel所在路径添加上"
   ]
  },
  {
   "cell_type": "code",
   "execution_count": 11,
   "metadata": {},
   "outputs": [
    {
     "name": "stdout",
     "output_type": "stream",
     "text": [
      "3628800\n",
      "[1, 2, 3, 4, 6]\n",
      "90\n"
     ]
    }
   ],
   "source": [
    "#import 语句\n",
    "import sys\n",
    "sys.path.append('C:/Users/Hjx/Desktop/')\n",
    "import tmodel\n",
    "\n",
    "print(tmodel.f1(10))\n",
    "print(tmodel.f2([1,2,3,4,5,6,5,5,5],5))\n",
    "print(tmodel.f3(10,5,5))"
   ]
  },
  {
   "cell_type": "code",
   "execution_count": 14,
   "metadata": {},
   "outputs": [
    {
     "name": "stdout",
     "output_type": "stream",
     "text": [
      "3628800\n"
     ]
    }
   ],
   "source": [
    "#import....as....  简化模块名\n",
    "import tmodel as tm\n",
    "\n",
    "print(tm.f1(10))"
   ]
  },
  {
   "cell_type": "code",
   "execution_count": 18,
   "metadata": {},
   "outputs": [
    {
     "data": {
      "text/plain": [
       "3628800"
      ]
     },
     "execution_count": 18,
     "metadata": {},
     "output_type": "execute_result"
    }
   ],
   "source": [
    "# 调用部分模块语句：From…import 语句\n",
    "from tmodel import f1\n",
    "\n",
    "f1(10)\n",
    "# f3 其他模块内的函数不可以调用"
   ]
  },
  {
   "cell_type": "code",
   "execution_count": 110,
   "metadata": {},
   "outputs": [
    {
     "name": "stdout",
     "output_type": "stream",
     "text": [
      "0.38036110424506386 95.17341572243673\n",
      "9\n",
      "10\n",
      "[13, 18, 11, 5, 10]\n",
      "[16, 19, 15, 8, 17, 4, 5, 13, 18, 9, 10, 3, 1, 11, 12, 6, 0, 2, 7, 14]\n"
     ]
    }
   ],
   "source": [
    "# python标准模块 —— random随机数\n",
    "\n",
    "import random\n",
    "\n",
    "x = random.random()   # 0~1 的数\n",
    "y = random.random()\n",
    "print(x,y*100)\n",
    "\n",
    "m = random.randint(0,10)     #randint随机的整数\n",
    "print(m)\n",
    "\n",
    "lst = list(range(20))\n",
    "s = random.choice(lst)       #在序列总随机抽取一个函数\n",
    "print(s)\n",
    "\n",
    "sli = random.sample(lst,5)   #random.sample(x,y)   在x这个序列中随机抽取y个值\n",
    "print(sli)\n",
    "\n",
    "random.shuffle(lst)          # 将这个序列随机打乱 对（）内序列进行打乱\n",
    "print(lst)"
   ]
  },
  {
   "cell_type": "code",
   "execution_count": 125,
   "metadata": {},
   "outputs": [
    {
     "name": "stdout",
     "output_type": "stream",
     "text": [
      "hello\n",
      "hello\n",
      "hello\n",
      "hello\n",
      "hello\n",
      "Tue Jan  8 21:03:31 2019\n",
      "<class 'str'>\n",
      "time.struct_time(tm_year=2019, tm_mon=1, tm_mday=8, tm_hour=21, tm_min=3, tm_sec=31, tm_wday=1, tm_yday=8, tm_isdst=0)\n",
      "<class 'time.struct_time'>\n",
      "2019-01-08 21:03:31\n",
      "<class 'str'>\n"
     ]
    }
   ],
   "source": [
    "# python标准模块 —— time时间模块\n",
    "\n",
    "import time\n",
    "\n",
    "for i in range(5):\n",
    "    print('hello')\n",
    "    time.sleep(0.1)   #将输出的结果按秒来计算  time.sleep(x) 每个输出结果个x秒输出\n",
    "    \n",
    "print(time.ctime())   # time.ctime()直接生成当地时间\n",
    "print(type(time.ctime()))\n",
    "\n",
    "print(time.localtime())\n",
    "print(type(time.localtime()))   #类型是视图\n",
    "# 将当前时间转为当前时区的struct_time\n",
    "# wday 0-6表示周日到周六\n",
    "# ydat 1-366 一年中的第几天\n",
    "# isdst 是否为夏令时，默认为-1\n",
    "\n",
    "print(time.strftime('%Y-%m-%d %H:%M:%S',time.localtime()))\n",
    "print(type(time.strftime('%Y-%m-%d %H:%M:%S',time.localtime())))\n",
    "# time.strftime(a,b)\n",
    "# a为格式化字符串格式\n",
    "# b为时间戳，一般用localtime()"
   ]
  },
  {
   "cell_type": "code",
   "execution_count": 126,
   "metadata": {},
   "outputs": [],
   "source": [
    "# 7.3  包的概念以及pip工具的使用\n",
    "# pip: python工具包管理工具，用于安装和卸载python工具包\n",
    "# 在cmd中运行，安装包：pip install XXX     pip install requests \n",
    "# 在cmd中运行，输入pip，查看各类参数   \n",
    "#pip list 可以查看已安装的包\n"
   ]
  },
  {
   "cell_type": "code",
   "execution_count": null,
   "metadata": {},
   "outputs": [],
   "source": [
    "#7.4 windows环境下的代码运行\n",
    "#运行了一个数据爬虫的.py文件"
   ]
  }
 ],
 "metadata": {
  "kernelspec": {
   "display_name": "Python 3",
   "language": "python",
   "name": "python3"
  },
  "language_info": {
   "codemirror_mode": {
    "name": "ipython",
    "version": 3
   },
   "file_extension": ".py",
   "mimetype": "text/x-python",
   "name": "python",
   "nbconvert_exporter": "python",
   "pygments_lexer": "ipython3",
   "version": "3.7.1"
  }
 },
 "nbformat": 4,
 "nbformat_minor": 2
}
