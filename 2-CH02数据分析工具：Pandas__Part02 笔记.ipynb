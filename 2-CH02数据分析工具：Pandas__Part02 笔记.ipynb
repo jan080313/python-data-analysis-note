{
 "cells": [
  {
   "cell_type": "code",
   "execution_count": 1,
   "metadata": {},
   "outputs": [
    {
     "data": {
      "text/plain": [
       "'\\n【课程2.8】  时间模块：datetime\\n\\ndatetime模块，主要掌握：datetime.date(), datetime.datetime(), datetime.timedelta()\\n\\n日期解析方法：parser.parse\\n\\n'"
      ]
     },
     "execution_count": 1,
     "metadata": {},
     "output_type": "execute_result"
    }
   ],
   "source": [
    "'''\n",
    "【课程2.8】  时间模块：datetime\n",
    "\n",
    "datetime模块，主要掌握：datetime.date(), datetime.datetime(), datetime.timedelta()\n",
    "\n",
    "日期解析方法：parser.parse\n",
    "\n",
    "'''"
   ]
  },
  {
   "cell_type": "code",
   "execution_count": 1,
   "metadata": {},
   "outputs": [],
   "source": [
    "import numpy as np\n",
    "import pandas as pd"
   ]
  },
  {
   "cell_type": "code",
   "execution_count": 4,
   "metadata": {},
   "outputs": [
    {
     "name": "stdout",
     "output_type": "stream",
     "text": [
      "2019-03-01 <class 'datetime.date'>\n",
      "2019-03-01\n",
      "2015-10-01\n"
     ]
    }
   ],
   "source": [
    "# datetime.date:date对象\n",
    "\n",
    "import datetime \n",
    "\n",
    "today = datetime.date.today()\n",
    "print(today,type(today))\n",
    "print(str(today))\n",
    "\n",
    "date = datetime.date(2015,10,1)  # (年，月，日) → 直接得到当时日期\n",
    "print(date)\n",
    "# datetime.date.today 返回今日\n",
    "# 输出格式为 date类"
   ]
  },
  {
   "cell_type": "code",
   "execution_count": 18,
   "metadata": {},
   "outputs": [
    {
     "name": "stdout",
     "output_type": "stream",
     "text": [
      "2019-01-18 15:28:41.175813 <class 'datetime.datetime'>\n",
      "15:30:25 <class 'datetime.timedelta'>\n"
     ]
    }
   ],
   "source": [
    "# datetime.datetime：datetime对象\n",
    "\n",
    "now = datetime.datetime.now()\n",
    "print(now,type(now))\n",
    "\n",
    "t1 = datetime.datetime(2016,6,1)\n",
    "t2 = datetime.datetime(2016,6,1,15,30,25)\n",
    "print(t2 - t1,type(t2-t1))\n",
    "# 相减得到时间差 —— timedelta"
   ]
  },
  {
   "cell_type": "code",
   "execution_count": 7,
   "metadata": {},
   "outputs": [
    {
     "name": "stdout",
     "output_type": "stream",
     "text": [
      "2001-01-09 00:00:00\n"
     ]
    }
   ],
   "source": [
    "# datetime.timedelta：时间差\n",
    "\n",
    "t1 = datetime.datetime(2000,10,1)\n",
    "tx = datetime.timedelta(100)\n",
    "print(t1+tx)"
   ]
  },
  {
   "cell_type": "code",
   "execution_count": 26,
   "metadata": {},
   "outputs": [
    {
     "name": "stdout",
     "output_type": "stream",
     "text": [
      "2017-12-21 00:00:00 <class 'datetime.datetime'>\n",
      "2017-12-21 00:00:00\n",
      "2000-01-01 00:00:00 \n",
      " 2014-05-01 00:00:00 \n",
      " 2014-01-05 00:00:00 \n",
      " 2014-01-22 00:00:00 \n",
      " 1997-01-31 22:45:00\n"
     ]
    }
   ],
   "source": [
    "#字符串转换方法  parser.parse\n",
    "\n",
    "from dateutil.parser import parse\n",
    "# from numpy import random\n",
    "date = '12/21-2017'\n",
    "date2 = '21/12/2017'\n",
    "print(parse(date),type(parse(date)))\n",
    "print(parse(date2))\n",
    "\n",
    "print(parse('2000-1-1'),'\\n',\n",
    "     parse('5/1/2014'),'\\n',\n",
    "     parse('5/1/2014', dayfirst = True),'\\n',  # 国际通用格式中，月在日之前，可以通过dayfirst来设置\n",
    "     parse('22/1/2014'),'\\n',\n",
    "     parse('Jan 31, 1997 10:45 PM'))\n",
    "# 各种格式可以解析，但无法支持中文"
   ]
  },
  {
   "cell_type": "code",
   "execution_count": 33,
   "metadata": {},
   "outputs": [
    {
     "name": "stdout",
     "output_type": "stream",
     "text": [
      "请输出当前时间 2019-01-18 15:36:37.122036\n",
      "2017-05-01 12:30:00\n",
      "2000-12-01 00:00:00\n"
     ]
    }
   ],
   "source": [
    "#请调用datetime模块，输出以下时间信息\n",
    "d1 = datetime.datetime.now()\n",
    "print('请输出当前时间',d1)\n",
    "\n",
    "d2 = datetime.datetime(2017,5,1,12,30,0)\n",
    "print(d2)\n",
    "\n",
    "d3 = datetime.datetime(2000,12,1)\n",
    "print(d3)"
   ]
  },
  {
   "cell_type": "code",
   "execution_count": 38,
   "metadata": {},
   "outputs": [
    {
     "name": "stdout",
     "output_type": "stream",
     "text": [
      "2003-01-26\n"
     ]
    }
   ],
   "source": [
    "#请创建时间变量‘2000年5月1日’，求出1000天之后是哪年哪月哪日？\n",
    "d1 = datetime.date(2000,5,1)\n",
    "d2 = datetime.timedelta(1000)\n",
    "print(d1+d2)"
   ]
  },
  {
   "cell_type": "code",
   "execution_count": 39,
   "metadata": {},
   "outputs": [
    {
     "data": {
      "text/plain": [
       "'\\n【课程2.9】  Pandas时刻数据：Timestamp\\n\\n时刻数据代表时间点，是pandas的数据类型，是将值与时间点相关联的最基本类型的时间序列数据\\n\\npandas.Timestamp()\\n\\n'"
      ]
     },
     "execution_count": 39,
     "metadata": {},
     "output_type": "execute_result"
    }
   ],
   "source": [
    "'''\n",
    "【课程2.9】  Pandas时刻数据：Timestamp\n",
    "\n",
    "时刻数据代表时间点，是pandas的数据类型，是将值与时间点相关联的最基本类型的时间序列数据\n",
    "\n",
    "pandas.Timestamp()\n",
    "\n",
    "'''"
   ]
  },
  {
   "cell_type": "code",
   "execution_count": 43,
   "metadata": {},
   "outputs": [
    {
     "name": "stdout",
     "output_type": "stream",
     "text": [
      "2017-01-01 00:00:00 <class 'pandas._libs.tslibs.timestamps.Timestamp'>\n",
      "2016-10-01 15:00:00 <class 'pandas._libs.tslibs.timestamps.Timestamp'>\n"
     ]
    }
   ],
   "source": [
    "# pd.Timestamp\n",
    "\n",
    "date1 = '20170101'\n",
    "date2 = datetime.datetime(2016,10,1,15,0)\n",
    "t1 = pd.Timestamp(date1)\n",
    "t2 = pd.Timestamp(date2)\n",
    "print(t1,type(t1))\n",
    "print(t2,type(t2))\n",
    "# 直接生成pandas的时刻数据 → 时间戳\n",
    "# 数据类型为 pandas的Timestamp"
   ]
  },
  {
   "cell_type": "code",
   "execution_count": 46,
   "metadata": {},
   "outputs": [
    {
     "name": "stdout",
     "output_type": "stream",
     "text": [
      "2017-01-01 00:00:00 <class 'pandas._libs.tslibs.timestamps.Timestamp'>\n",
      "2016-10-01 15:00:00 <class 'pandas._libs.tslibs.timestamps.Timestamp'>\n",
      "DatetimeIndex(['2017-12-21', '2017-12-22', '2017-12-23'], dtype='datetime64[ns]', freq=None) <class 'pandas.core.indexes.datetimes.DatetimeIndex'>\n"
     ]
    }
   ],
   "source": [
    "#pd.to_datatime\n",
    "\n",
    "date1 = '20170101'\n",
    "date2 = datetime.datetime(2016,10,1,15,0)\n",
    "t1 = pd.to_datetime(date1)\n",
    "t2 = pd.to_datetime(date2)\n",
    "print(t1,type(t1))\n",
    "print(t2,type(t2))\n",
    "# pd.to_datetime()：如果是单个时间数据，转换成pandas的时刻数据，数据类型为Timestamp\n",
    "\n",
    "lst_date = [ '2017-12-21', '2017-12-22', '2017-12-23']\n",
    "t3 = pd.to_datetime(lst_date)\n",
    "print(t3,type(t3))\n",
    "# 多个时间数据，将会转换为pandas的DatetimeIndex"
   ]
  },
  {
   "cell_type": "code",
   "execution_count": 8,
   "metadata": {},
   "outputs": [
    {
     "name": "stdout",
     "output_type": "stream",
     "text": [
      "[datetime.datetime(2015, 6, 1, 0, 0), datetime.datetime(2015, 7, 1, 0, 0), datetime.datetime(2015, 8, 1, 0, 0), datetime.datetime(2015, 9, 1, 0, 0), datetime.datetime(2015, 10, 1, 0, 0)]\n",
      "['2017-2-1', '2017-2-2', '2017-2-3', '2017-2-4', '2017-2-5', '2017-2-6']\n",
      "DatetimeIndex(['2017-02-01', '2017-02-02', '2017-02-03', '2017-02-04',\n",
      "               '2017-02-05', '2017-02-06'],\n",
      "              dtype='datetime64[ns]', freq=None)\n",
      "DatetimeIndex(['2017-02-01', '2017-02-02', '2017-02-03', '2017-02-04',\n",
      "               '2017-02-05', '2017-02-06'],\n",
      "              dtype='datetime64[ns]', freq=None)\n",
      "['2017-2-1' '2017-2-2' '2017-2-3' 'hello world!' '2017-2-5' '2017-2-6'] <class 'numpy.ndarray'>\n",
      "DatetimeIndex(['2017-02-01', '2017-02-02', '2017-02-03', 'NaT', '2017-02-05',\n",
      "               '2017-02-06'],\n",
      "              dtype='datetime64[ns]', freq=None) <class 'pandas.core.indexes.datetimes.DatetimeIndex'>\n"
     ]
    }
   ],
   "source": [
    "# pd.to_datetime → 多个时间数据转换时间戳索引\n",
    "from datetime import datetime\n",
    "\n",
    "date1 = [datetime(2015,6,1),datetime(2015,7,1),datetime(2015,8,1),datetime(2015,9,1),datetime(2015,10,1)]\n",
    "date2 = ['2017-2-1','2017-2-2','2017-2-3','2017-2-4','2017-2-5','2017-2-6']\n",
    "print(date1)\n",
    "print(date2)\n",
    "t1 = pd.to_datetime(date2)\n",
    "t2 = pd.to_datetime(date2)\n",
    "print(t1)\n",
    "print(t2)\n",
    "# 多个时间数据转换为 DatetimeIndex\n",
    "\n",
    "date3 = ['2017-2-1','2017-2-2','2017-2-3','hello world!','2017-2-5','2017-2-6']\n",
    "t3 = pd.to_datetime(date3, errors = 'ignore')\n",
    "print(t3,type(t3))\n",
    "# 当一组时间序列中夹杂其他格式数据，可用errors参数返回\n",
    "# errors = 'ignore':不可解析时返回原始输入，这里就是直接生成一般数组\n",
    "\n",
    "t4 = pd.to_datetime(date3, errors = 'coerce')\n",
    "print(t4,type(t4))\n",
    "# errors = 'coerce':不可扩展，缺失值返回NaT（Not a Time），结果认为DatetimeIndex"
   ]
  },
  {
   "cell_type": "code",
   "execution_count": 84,
   "metadata": {},
   "outputs": [
    {
     "name": "stdout",
     "output_type": "stream",
     "text": [
      "['2017-12-1', '2017-12-2', '2017-12-3', '2017-12-4', '2017-12-5', '2017-12-6', '2017-12-7', '2017-12-8', '2017-12-9', '2017-12-10', '2017-12-11', '2017-12-12', '2017-12-13', '2017-12-14', '2017-12-15', '2017-12-16', '2017-12-17', '2017-12-18', '2017-12-19', '2017-12-20', '2017-12-21', '2017-12-22', '2017-12-23', '2017-12-24', '2017-12-25', '2017-12-26', '2017-12-27', '2017-12-28', '2017-12-29', '2017-12-30', '2017-12-31']\n",
      "--------------------------\n",
      "DatetimeIndex(['2017-12-01', '2017-12-02', '2017-12-03', '2017-12-04',\n",
      "               '2017-12-05', '2017-12-06', '2017-12-07', '2017-12-08',\n",
      "               '2017-12-09', '2017-12-10', '2017-12-11', '2017-12-12',\n",
      "               '2017-12-13', '2017-12-14', '2017-12-15', '2017-12-16',\n",
      "               '2017-12-17', '2017-12-18', '2017-12-19', '2017-12-20',\n",
      "               '2017-12-21', '2017-12-22', '2017-12-23', '2017-12-24',\n",
      "               '2017-12-25', '2017-12-26', '2017-12-27', '2017-12-28',\n",
      "               '2017-12-29', '2017-12-30', '2017-12-31'],\n",
      "              dtype='datetime64[ns]', freq=None)\n",
      "--------------------------\n",
      "2017-12-16 00:00:00\n"
     ]
    }
   ],
   "source": [
    "#作业1：请通过迭代创建一个时间列表（如图，时间区间为任意一个月，这里可以用for语句），然后转化成DatetimeIndex，并print月中是多少号\n",
    "import datetime\n",
    "from dateutil.parser import parse\n",
    "m = []\n",
    "for i in range(1,32):\n",
    "    d1 = ('2017-12-%i'%i)\n",
    "    m.append(d1)\n",
    "print(m)\n",
    "print('--------------------------')\n",
    "t2 = pd.to_datetime(m)\n",
    "print(t2)\n",
    "print('--------------------------')\n",
    "print(t2[15])"
   ]
  },
  {
   "cell_type": "code",
   "execution_count": 104,
   "metadata": {},
   "outputs": [
    {
     "name": "stdout",
     "output_type": "stream",
     "text": [
      "读取txt文件为:\n",
      " ['20150101', '20150102', '20150103', '20150104', '20150105', '20150106', '20150107', '20150108']\n",
      "转换为DatetimeIndex为\n",
      " DatetimeIndex(['2015-01-01', '2015-01-02', '2015-01-03', '2015-01-04',\n",
      "               '2015-01-05', '2015-01-06', '2015-01-07', '2015-01-08'],\n",
      "              dtype='datetime64[ns]', freq=None)\n"
     ]
    }
   ],
   "source": [
    "#作业2：请如图创建一个包含时间日期的txt文件，通过open语句读取后转化成DatetimeIndex\n",
    "f = open('C:/Users/Administrator/Desktop/time.txt','r')\n",
    "s = f.readline()\n",
    "datelst = s.split(',')\n",
    "print('读取txt文件为:\\n',datelst)\n",
    "t = pd.to_datetime(datelst)\n",
    "print('转换为DatetimeIndex为\\n',t)"
   ]
  },
  {
   "cell_type": "code",
   "execution_count": 105,
   "metadata": {},
   "outputs": [
    {
     "data": {
      "text/plain": [
       "'\\n【课程2.10】  Pandas时间戳索引：DatetimeIndex\\n\\n核心：pd.date_range()\\n\\n'"
      ]
     },
     "execution_count": 105,
     "metadata": {},
     "output_type": "execute_result"
    }
   ],
   "source": [
    "'''\n",
    "【课程2.10】  Pandas时间戳索引：DatetimeIndex\n",
    "\n",
    "核心：pd.date_range()\n",
    "\n",
    "'''"
   ]
  },
  {
   "cell_type": "code",
   "execution_count": 10,
   "metadata": {},
   "outputs": [
    {
     "name": "stdout",
     "output_type": "stream",
     "text": [
      "DatetimeIndex(['2017-12-01'], dtype='datetime64[ns]', freq=None) <class 'pandas.core.indexes.datetimes.DatetimeIndex'>\n",
      "2017-12-01 00:00:00 <class 'pandas._libs.tslibs.timestamps.Timestamp'>\n",
      "\n",
      "\n",
      "2017-12-01    0.843058\n",
      "2017-12-02    0.071245\n",
      "2017-12-03    0.097637\n",
      "2017-12-04    0.013901\n",
      "2017-12-05    0.783941\n",
      "dtype: float64 <class 'pandas.core.series.Series'>\n",
      "DatetimeIndex(['2017-12-01', '2017-12-02', '2017-12-03', '2017-12-04',\n",
      "               '2017-12-05'],\n",
      "              dtype='datetime64[ns]', freq=None)\n"
     ]
    }
   ],
   "source": [
    "#时间序列\n",
    "#DatetimeIndex    TimeSerise\n",
    "\n",
    "rng = pd.DatetimeIndex(['12/1/2017','12/2/2017','12/3/2017','12/4/2017','12/5/2017'])\n",
    "print(rng,type(rng))\n",
    "print(rng[0],type(rng[0]))\n",
    "print('\\n')\n",
    "# 直接生成时间戳索引，支持str、datetime.datetime\n",
    "# 单个时间戳为Timestamp，多个时间戳为DatetimeIndex\n",
    "\n",
    "st  = pd.Series(np.random.rand(5),\n",
    "               index = rng)\n",
    "print(st,type(st))\n",
    "print(st.index)\n",
    "# 以DatetimeIndex为index的Series，为TimeSries，时间序列"
   ]
  },
  {
   "cell_type": "code",
   "execution_count": 116,
   "metadata": {},
   "outputs": [
    {
     "name": "stdout",
     "output_type": "stream",
     "text": [
      "DatetimeIndex(['2017-01-01', '2017-01-02', '2017-01-03', '2017-01-04',\n",
      "               '2017-01-05', '2017-01-06', '2017-01-07', '2017-01-08',\n",
      "               '2017-01-09', '2017-01-10'],\n",
      "              dtype='datetime64[ns]', freq='D') <class 'pandas.core.indexes.datetimes.DatetimeIndex'>\n",
      "DatetimeIndex(['2017-01-01', '2017-01-02', '2017-01-03', '2017-01-04',\n",
      "               '2017-01-05', '2017-01-06', '2017-01-07', '2017-01-08',\n",
      "               '2017-01-09', '2017-01-10'],\n",
      "              dtype='datetime64[ns]', freq='D')\n",
      "DatetimeIndex(['2017-01-21 15:00:00', '2017-01-22 15:00:00',\n",
      "               '2017-01-23 15:00:00', '2017-01-24 15:00:00',\n",
      "               '2017-01-25 15:00:00', '2017-01-26 15:00:00',\n",
      "               '2017-01-27 15:00:00', '2017-01-28 15:00:00',\n",
      "               '2017-01-29 15:00:00', '2017-01-30 15:00:00'],\n",
      "              dtype='datetime64[ns]', freq='D')\n",
      "-------\n",
      "DatetimeIndex(['2017-01-01', '2017-01-02', '2017-01-03', '2017-01-04',\n",
      "               '2017-01-05', '2017-01-06', '2017-01-07', '2017-01-08',\n",
      "               '2017-01-09', '2017-01-10'],\n",
      "              dtype='datetime64[ns]', name='hello world!', freq='D')\n",
      "-------\n",
      "DatetimeIndex(['2017-01-01', '2017-01-02', '2017-01-03', '2017-01-04'], dtype='datetime64[ns]', freq='D')\n",
      "DatetimeIndex(['2017-01-02', '2017-01-03', '2017-01-04'], dtype='datetime64[ns]', freq='D')\n",
      "DatetimeIndex(['2017-01-01', '2017-01-02', '2017-01-03'], dtype='datetime64[ns]', freq='D')\n",
      "-------\n",
      "DatetimeIndex(['2017-01-02', '2017-01-03', '2017-01-04', '2017-01-05',\n",
      "               '2017-01-06'],\n",
      "              dtype='datetime64[ns]', freq='B')\n",
      "[Timestamp('2017-01-01 00:00:00', freq='D'), Timestamp('2017-01-02 00:00:00', freq='D'), Timestamp('2017-01-03 00:00:00', freq='D'), Timestamp('2017-01-04 00:00:00', freq='D'), Timestamp('2017-01-05 00:00:00', freq='D'), Timestamp('2017-01-06 00:00:00', freq='D'), Timestamp('2017-01-07 00:00:00', freq='D'), Timestamp('2017-01-08 00:00:00', freq='D'), Timestamp('2017-01-09 00:00:00', freq='D'), Timestamp('2017-01-10 00:00:00', freq='D')]\n"
     ]
    }
   ],
   "source": [
    "# pd.date_range()-日期范围：生成日期范围\n",
    "# 2种生成方式：①start + end； ②start/end + periods\n",
    "# 默认频率：day\n",
    "\n",
    "rng1 = pd.date_range('1/1/2017','1/10/2017', normalize=True)\n",
    "rng2 = pd.date_range(start = '1/1/2017', periods = 10)\n",
    "rng3 = pd.date_range(end = '1/30/2017 15:00:00', periods = 10)  # 增加了时、分、秒\n",
    "print(rng1,type(rng1))\n",
    "print(rng2)\n",
    "print(rng3)\n",
    "print('-------')\n",
    "# 直接生成DatetimeIndex\n",
    "# pd.date_range(start=None, end=None, periods=None, freq='D', tz=None, normalize=False, name=None, closed=None, **kwargs)\n",
    "# start：开始时间\n",
    "# end：结束时间\n",
    "# periods：偏移量\n",
    "# freq：频率，默认天，pd.date_range()默认频率为日历日，pd.bdate_range()默认频率为工作日\n",
    "# tz：时区\n",
    "\n",
    "rng4 = pd.date_range(start = '1/1/2017 15:30', periods = 10, name = 'hello world!', normalize = True)\n",
    "print(rng4)\n",
    "print('-------')\n",
    "# normalize：时间参数值正则化到午夜时间戳（这里最后就直接变成0:00:00，并不是15:30:00）\n",
    "# name：索引对象名称\n",
    "\n",
    "print(pd.date_range('20170101','20170104'))  # 20170101也可读取\n",
    "print(pd.date_range('20170101','20170104',closed = 'right'))\n",
    "print(pd.date_range('20170101','20170104',closed = 'left'))\n",
    "print('-------')\n",
    "# closed：默认为None的情况下，左闭右闭，left则左闭右开，right则左开右闭\n",
    "\n",
    "print(pd.bdate_range('20170101','20170107'))\n",
    "# pd.bdate_range()默认频率为工作日\n",
    "\n",
    "print(list(pd.date_range(start = '1/1/2017', periods = 10)))\n",
    "# 直接转化为list，元素为Timestamp"
   ]
  },
  {
   "cell_type": "code",
   "execution_count": 117,
   "metadata": {},
   "outputs": [
    {
     "name": "stdout",
     "output_type": "stream",
     "text": [
      "DatetimeIndex(['2017-01-01', '2017-01-02', '2017-01-03', '2017-01-04'], dtype='datetime64[ns]', freq='D')\n",
      "DatetimeIndex(['2017-01-02', '2017-01-03', '2017-01-04'], dtype='datetime64[ns]', freq='B')\n",
      "DatetimeIndex(['2017-01-01 00:00:00', '2017-01-01 01:00:00',\n",
      "               '2017-01-01 02:00:00', '2017-01-01 03:00:00',\n",
      "               '2017-01-01 04:00:00', '2017-01-01 05:00:00',\n",
      "               '2017-01-01 06:00:00', '2017-01-01 07:00:00',\n",
      "               '2017-01-01 08:00:00', '2017-01-01 09:00:00',\n",
      "               '2017-01-01 10:00:00', '2017-01-01 11:00:00',\n",
      "               '2017-01-01 12:00:00', '2017-01-01 13:00:00',\n",
      "               '2017-01-01 14:00:00', '2017-01-01 15:00:00',\n",
      "               '2017-01-01 16:00:00', '2017-01-01 17:00:00',\n",
      "               '2017-01-01 18:00:00', '2017-01-01 19:00:00',\n",
      "               '2017-01-01 20:00:00', '2017-01-01 21:00:00',\n",
      "               '2017-01-01 22:00:00', '2017-01-01 23:00:00',\n",
      "               '2017-01-02 00:00:00'],\n",
      "              dtype='datetime64[ns]', freq='H')\n",
      "DatetimeIndex(['2017-01-01 12:00:00', '2017-01-01 12:01:00',\n",
      "               '2017-01-01 12:02:00', '2017-01-01 12:03:00',\n",
      "               '2017-01-01 12:04:00', '2017-01-01 12:05:00',\n",
      "               '2017-01-01 12:06:00', '2017-01-01 12:07:00',\n",
      "               '2017-01-01 12:08:00', '2017-01-01 12:09:00',\n",
      "               '2017-01-01 12:10:00'],\n",
      "              dtype='datetime64[ns]', freq='T')\n",
      "DatetimeIndex(['2017-01-01 12:00:00', '2017-01-01 12:00:01',\n",
      "               '2017-01-01 12:00:02', '2017-01-01 12:00:03',\n",
      "               '2017-01-01 12:00:04', '2017-01-01 12:00:05',\n",
      "               '2017-01-01 12:00:06', '2017-01-01 12:00:07',\n",
      "               '2017-01-01 12:00:08', '2017-01-01 12:00:09',\n",
      "               '2017-01-01 12:00:10'],\n",
      "              dtype='datetime64[ns]', freq='S')\n",
      "DatetimeIndex([       '2017-01-01 12:00:00', '2017-01-01 12:00:00.001000',\n",
      "               '2017-01-01 12:00:00.002000', '2017-01-01 12:00:00.003000',\n",
      "               '2017-01-01 12:00:00.004000', '2017-01-01 12:00:00.005000',\n",
      "               '2017-01-01 12:00:00.006000', '2017-01-01 12:00:00.007000',\n",
      "               '2017-01-01 12:00:00.008000', '2017-01-01 12:00:00.009000',\n",
      "               ...\n",
      "               '2017-01-01 12:00:09.991000', '2017-01-01 12:00:09.992000',\n",
      "               '2017-01-01 12:00:09.993000', '2017-01-01 12:00:09.994000',\n",
      "               '2017-01-01 12:00:09.995000', '2017-01-01 12:00:09.996000',\n",
      "               '2017-01-01 12:00:09.997000', '2017-01-01 12:00:09.998000',\n",
      "               '2017-01-01 12:00:09.999000',        '2017-01-01 12:00:10'],\n",
      "              dtype='datetime64[ns]', length=10001, freq='L')\n",
      "DatetimeIndex([       '2017-01-01 12:00:00', '2017-01-01 12:00:00.000001',\n",
      "               '2017-01-01 12:00:00.000002', '2017-01-01 12:00:00.000003',\n",
      "               '2017-01-01 12:00:00.000004', '2017-01-01 12:00:00.000005',\n",
      "               '2017-01-01 12:00:00.000006', '2017-01-01 12:00:00.000007',\n",
      "               '2017-01-01 12:00:00.000008', '2017-01-01 12:00:00.000009',\n",
      "               ...\n",
      "               '2017-01-01 12:00:09.999991', '2017-01-01 12:00:09.999992',\n",
      "               '2017-01-01 12:00:09.999993', '2017-01-01 12:00:09.999994',\n",
      "               '2017-01-01 12:00:09.999995', '2017-01-01 12:00:09.999996',\n",
      "               '2017-01-01 12:00:09.999997', '2017-01-01 12:00:09.999998',\n",
      "               '2017-01-01 12:00:09.999999',        '2017-01-01 12:00:10'],\n",
      "              dtype='datetime64[ns]', length=10000001, freq='U')\n",
      "DatetimeIndex(['2017-01-02', '2017-01-09', '2017-01-16', '2017-01-23',\n",
      "               '2017-01-30'],\n",
      "              dtype='datetime64[ns]', freq='W-MON')\n",
      "DatetimeIndex(['2017-01-09', '2017-02-13', '2017-03-13', '2017-04-10'], dtype='datetime64[ns]', freq='WOM-2MON')\n"
     ]
    }
   ],
   "source": [
    "# pd.date_range()-日期范围：频率(1)\n",
    "\n",
    "print(pd.date_range('2017/1/1','2017/1/4'))  # 默认freq = 'D'：每日历日\n",
    "print(pd.date_range('2017/1/1','2017/1/4', freq = 'B'))  # B：每工作日\n",
    "print(pd.date_range('2017/1/1','2017/1/2', freq = 'H'))  # H：每小时\n",
    "print(pd.date_range('2017/1/1 12:00','2017/1/1 12:10', freq = 'T'))  # T/MIN：每分\n",
    "print(pd.date_range('2017/1/1 12:00:00','2017/1/1 12:00:10', freq = 'S'))  # S：每秒\n",
    "print(pd.date_range('2017/1/1 12:00:00','2017/1/1 12:00:10', freq = 'L'))  # L：每毫秒（千分之一秒）\n",
    "print(pd.date_range('2017/1/1 12:00:00','2017/1/1 12:00:10', freq = 'U'))  # U：每微秒（百万分之一秒）\n",
    "\n",
    "print(pd.date_range('2017/1/1','2017/2/1', freq = 'W-MON'))  \n",
    "# W-MON：从指定星期几开始算起，每周\n",
    "# 星期几缩写：MON/TUE/WED/THU/FRI/SAT/SUN\n",
    "\n",
    "print(pd.date_range('2017/1/1','2017/5/1', freq = 'WOM-2MON'))  \n",
    "# WOM-2MON：每月的第几个星期几开始算，这里是每月第二个星期一"
   ]
  },
  {
   "cell_type": "code",
   "execution_count": 120,
   "metadata": {},
   "outputs": [
    {
     "name": "stdout",
     "output_type": "stream",
     "text": [
      "DatetimeIndex(['2017-01-31', '2017-02-28', '2017-03-31', '2017-04-30',\n",
      "               '2017-05-31', '2017-06-30', '2017-07-31', '2017-08-31',\n",
      "               '2017-09-30', '2017-10-31', '2017-11-30', '2017-12-31'],\n",
      "              dtype='datetime64[ns]', freq='M')\n",
      "DatetimeIndex(['2017-03-31', '2017-06-30', '2017-09-30', '2017-12-31',\n",
      "               '2018-03-31', '2018-06-30', '2018-09-30', '2018-12-31',\n",
      "               '2019-03-31', '2019-06-30', '2019-09-30', '2019-12-31'],\n",
      "              dtype='datetime64[ns]', freq='Q-DEC')\n",
      "DatetimeIndex(['2017-12-31', '2018-12-31', '2019-12-31'], dtype='datetime64[ns]', freq='A-DEC')\n",
      "------\n",
      "DatetimeIndex(['2017-01-31', '2017-02-28', '2017-03-31', '2017-04-28',\n",
      "               '2017-05-31', '2017-06-30', '2017-07-31', '2017-08-31',\n",
      "               '2017-09-29', '2017-10-31', '2017-11-30', '2017-12-29'],\n",
      "              dtype='datetime64[ns]', freq='BM')\n",
      "DatetimeIndex(['2017-03-31', '2017-06-30', '2017-09-29', '2017-12-29',\n",
      "               '2018-03-30', '2018-06-29', '2018-09-28', '2018-12-31',\n",
      "               '2019-03-29', '2019-06-28', '2019-09-30', '2019-12-31'],\n",
      "              dtype='datetime64[ns]', freq='BQ-DEC')\n",
      "DatetimeIndex(['2017-12-29', '2018-12-31', '2019-12-31'], dtype='datetime64[ns]', freq='BA-DEC')\n",
      "------\n",
      "DatetimeIndex(['2017-01-01', '2017-02-01', '2017-03-01', '2017-04-01',\n",
      "               '2017-05-01', '2017-06-01', '2017-07-01', '2017-08-01',\n",
      "               '2017-09-01', '2017-10-01', '2017-11-01', '2017-12-01',\n",
      "               '2018-01-01'],\n",
      "              dtype='datetime64[ns]', freq='MS')\n",
      "DatetimeIndex(['2017-03-01', '2017-06-01', '2017-09-01', '2017-12-01',\n",
      "               '2018-03-01', '2018-06-01', '2018-09-01', '2018-12-01',\n",
      "               '2019-03-01', '2019-06-01', '2019-09-01', '2019-12-01'],\n",
      "              dtype='datetime64[ns]', freq='QS-DEC')\n",
      "DatetimeIndex(['2017-12-01', '2018-12-01', '2019-12-01'], dtype='datetime64[ns]', freq='AS-DEC')\n",
      "------\n",
      "DatetimeIndex(['2017-01-02', '2017-02-01', '2017-03-01', '2017-04-03',\n",
      "               '2017-05-01', '2017-06-01', '2017-07-03', '2017-08-01',\n",
      "               '2017-09-01', '2017-10-02', '2017-11-01', '2017-12-01',\n",
      "               '2018-01-01'],\n",
      "              dtype='datetime64[ns]', freq='BMS')\n",
      "DatetimeIndex(['2017-03-01', '2017-06-01', '2017-09-01', '2017-12-01',\n",
      "               '2018-03-01', '2018-06-01', '2018-09-03', '2018-12-03',\n",
      "               '2019-03-01', '2019-06-03', '2019-09-02', '2019-12-02'],\n",
      "              dtype='datetime64[ns]', freq='BQS-DEC')\n",
      "DatetimeIndex(['2017-12-01', '2018-12-03', '2019-12-02'], dtype='datetime64[ns]', freq='BAS-DEC')\n",
      "------\n"
     ]
    }
   ],
   "source": [
    "# pd.date_range()-日期范围：频率(2)\n",
    "\n",
    "print(pd.date_range('2017','2018', freq = 'M'))  \n",
    "print(pd.date_range('2017','2020', freq = 'Q-DEC'))  \n",
    "print(pd.date_range('2017','2020', freq = 'A-DEC')) \n",
    "print('------')\n",
    "# M：每月最后一个日历日\n",
    "# Q-月：指定月为季度末，每个季度末最后一月的最后一个日历日\n",
    "# A-月：每年指定月份的最后一个日历日\n",
    "# 月缩写：JAN/FEB/MAR/APR/MAY/JUN/JUL/AUG/SEP/OCT/NOV/DEC\n",
    "# 所以Q-月只有三种情况：1-4-7-10,2-5-8-11,3-6-9-12\n",
    "\n",
    "print(pd.date_range('2017','2018', freq = 'BM'))  \n",
    "print(pd.date_range('2017','2020', freq = 'BQ-DEC'))  \n",
    "print(pd.date_range('2017','2020', freq = 'BA-DEC')) \n",
    "print('------')\n",
    "# BM：每月最后一个工作日\n",
    "# BQ-月：指定月为季度末，每个季度末最后一月的最后一个工作日\n",
    "# BA-月：每年指定月份的最后一个工作日\n",
    "\n",
    "print(pd.date_range('2017','2018', freq = 'MS'))  \n",
    "print(pd.date_range('2017','2020', freq = 'QS-DEC'))  \n",
    "print(pd.date_range('2017','2020', freq = 'AS-DEC')) \n",
    "print('------')\n",
    "# M：每月第一个日历日\n",
    "# Q-月：指定月为季度末，每个季度末最后一月的第一个日历日\n",
    "# A-月：每年指定月份的第一个日历日\n",
    "\n",
    "print(pd.date_range('2017','2018', freq = 'BMS'))  \n",
    "print(pd.date_range('2017','2020', freq = 'BQS-DEC'))  \n",
    "print(pd.date_range('2017','2020', freq = 'BAS-DEC')) \n",
    "print('------')\n",
    "# BM：每月第一个工作日\n",
    "# BQ-月：指定月为季度末，每个季度末最后一月的第一个工作日\n",
    "# BA-月：每年指定月份的第一个工作日"
   ]
  },
  {
   "cell_type": "code",
   "execution_count": 122,
   "metadata": {},
   "outputs": [
    {
     "name": "stdout",
     "output_type": "stream",
     "text": [
      "DatetimeIndex(['2017-01-01', '2017-01-08', '2017-01-15', '2017-01-22',\n",
      "               '2017-01-29'],\n",
      "              dtype='datetime64[ns]', freq='7D')\n",
      "DatetimeIndex(['2017-01-01 00:00:00', '2017-01-01 02:30:00',\n",
      "               '2017-01-01 05:00:00', '2017-01-01 07:30:00',\n",
      "               '2017-01-01 10:00:00', '2017-01-01 12:30:00',\n",
      "               '2017-01-01 15:00:00', '2017-01-01 17:30:00',\n",
      "               '2017-01-01 20:00:00', '2017-01-01 22:30:00'],\n",
      "              dtype='datetime64[ns]', freq='150T')\n",
      "DatetimeIndex(['2017-01-31', '2017-03-31', '2017-05-31', '2017-07-31',\n",
      "               '2017-09-30', '2017-11-30'],\n",
      "              dtype='datetime64[ns]', freq='2M')\n"
     ]
    }
   ],
   "source": [
    "# pd.date_range()-日期范围：复合频率\n",
    "\n",
    "print(pd.date_range('2017/1/1','2017/2/1', freq = '7D'))  # 7天\n",
    "print(pd.date_range('2017/1/1','2017/1/2', freq = '2h30min'))  # 2小时30分钟\n",
    "print(pd.date_range('2017','2018', freq = '2M'))  # 2月，每月最后一个日历日"
   ]
  },
  {
   "cell_type": "code",
   "execution_count": 124,
   "metadata": {},
   "outputs": [
    {
     "name": "stdout",
     "output_type": "stream",
     "text": [
      "2017-01-01    0.645992\n",
      "2017-01-02    0.907195\n",
      "2017-01-03    0.815926\n",
      "2017-01-04    0.200308\n",
      "Freq: D, dtype: float64\n",
      "2017-01-01 00:00:00    0.645992\n",
      "2017-01-01 04:00:00    0.645992\n",
      "2017-01-01 08:00:00    0.645992\n",
      "2017-01-01 12:00:00    0.645992\n",
      "2017-01-01 16:00:00    0.645992\n",
      "2017-01-01 20:00:00    0.645992\n",
      "2017-01-02 00:00:00    0.907195\n",
      "2017-01-02 04:00:00    0.907195\n",
      "2017-01-02 08:00:00    0.907195\n",
      "2017-01-02 12:00:00    0.907195\n",
      "2017-01-02 16:00:00    0.907195\n",
      "2017-01-02 20:00:00    0.907195\n",
      "2017-01-03 00:00:00    0.815926\n",
      "2017-01-03 04:00:00    0.815926\n",
      "2017-01-03 08:00:00    0.815926\n",
      "2017-01-03 12:00:00    0.815926\n",
      "2017-01-03 16:00:00    0.815926\n",
      "2017-01-03 20:00:00    0.815926\n",
      "2017-01-04 00:00:00    0.200308\n",
      "Freq: 4H, dtype: float64\n"
     ]
    }
   ],
   "source": [
    "# asfreq：时期频率转换\n",
    "\n",
    "ts = pd.Series(np.random.rand(4),\n",
    "              index = pd.date_range('20170101','20170104'))\n",
    "print(ts)\n",
    "print(ts.asfreq('4H',method = 'ffill'))\n",
    "# 改变频率，这里是D改为4H\n",
    "# method：插值模式，None不插值，ffill用之前值填充，bfill用之后值填充"
   ]
  },
  {
   "cell_type": "code",
   "execution_count": 126,
   "metadata": {},
   "outputs": [
    {
     "name": "stdout",
     "output_type": "stream",
     "text": [
      "2017-01-01    0.326068\n",
      "2017-01-02    0.013410\n",
      "2017-01-03    0.270969\n",
      "2017-01-04    0.576599\n",
      "Freq: D, dtype: float64\n",
      "2017-01-01         NaN\n",
      "2017-01-02         NaN\n",
      "2017-01-03    0.326068\n",
      "2017-01-04    0.013410\n",
      "Freq: D, dtype: float64\n",
      "2017-01-01    0.270969\n",
      "2017-01-02    0.576599\n",
      "2017-01-03         NaN\n",
      "2017-01-04         NaN\n",
      "Freq: D, dtype: float64\n",
      "------\n",
      "2017-01-01          NaN\n",
      "2017-01-02    -0.958875\n",
      "2017-01-03    19.206999\n",
      "2017-01-04     1.127917\n",
      "Freq: D, dtype: float64\n",
      "------\n",
      "2017-01-03    0.326068\n",
      "2017-01-04    0.013410\n",
      "2017-01-05    0.270969\n",
      "2017-01-06    0.576599\n",
      "Freq: D, dtype: float64\n",
      "2017-01-01 00:02:00    0.326068\n",
      "2017-01-02 00:02:00    0.013410\n",
      "2017-01-03 00:02:00    0.270969\n",
      "2017-01-04 00:02:00    0.576599\n",
      "Freq: D, dtype: float64\n"
     ]
    }
   ],
   "source": [
    "# pd.date_range()-日期范围：超前/滞后数据\n",
    "\n",
    "ts = pd.Series(np.random.rand(4),\n",
    "              index = pd.date_range('20170101','20170104'))\n",
    "print(ts)\n",
    "\n",
    "print(ts.shift(2))\n",
    "print(ts.shift(-2))\n",
    "print('------')\n",
    "# 正数：数值后移（滞后）；负数：数值前移（超前）\n",
    "\n",
    "per = ts/ts.shift(1) - 1\n",
    "print(per)\n",
    "print('------')\n",
    "# 计算变化百分比，这里计算：该时间戳与上一个时间戳相比，变化百分比\n",
    "\n",
    "print(ts.shift(2, freq = 'D'))\n",
    "print(ts.shift(2, freq = 'T'))\n",
    "# 加上freq参数：对时间戳进行位移，而不是对数值进行位移"
   ]
  },
  {
   "cell_type": "code",
   "execution_count": 165,
   "metadata": {},
   "outputs": [
    {
     "name": "stdout",
     "output_type": "stream",
     "text": [
      "时间序列1:\n",
      " 2017-01-01    0.440579\n",
      "2017-01-02    0.981643\n",
      "2017-01-03    0.736081\n",
      "2017-01-04    0.064499\n",
      "2017-01-05    0.686668\n",
      "Freq: D, dtype: float64\n",
      "时间序列2:\n",
      " 2017-01-31    0.212588\n",
      "2017-04-30    0.604491\n",
      "2017-07-31    0.516661\n",
      "2017-10-31    0.199562\n",
      "Freq: 3M, dtype: float64\n",
      "时间序列3:\n",
      "                        value1    value2    value3    value4\n",
      "2017-12-01 00:00:00  0.266794  0.131711  0.833279  0.414123\n",
      "2017-12-01 00:10:00  0.530619  0.479638  0.973686  0.848465\n",
      "2017-12-01 00:20:00  0.100185  0.448869  0.527349  0.717760\n",
      "2017-12-01 00:30:00  0.444030  0.732302  0.859340  0.774850\n"
     ]
    }
   ],
   "source": [
    "#作业1：请输出以下时间序列\n",
    "t1 = pd.Series(np.random.rand(5),\n",
    "              index = pd.date_range('20170101','20170105'))\n",
    "print('时间序列1:\\n',t1)\n",
    "\n",
    "t2 = pd.Series(np.random.rand(4),\n",
    "               pd.date_range('2017','2018', freq = '3M'))\n",
    "print('时间序列2:\\n',t2)\n",
    "t3 = pd.DataFrame(np.random.rand(16).reshape(4,4),\n",
    "                  index = pd.date_range('2017-12-01 00:00','2017-12-01 00:30',freq = '10min') ,\n",
    "                  columns = ['value1','value2','value3','value4'])\n",
    "print('时间序列3:\\n',t3)"
   ]
  },
  {
   "cell_type": "code",
   "execution_count": 186,
   "metadata": {},
   "outputs": [
    {
     "name": "stdout",
     "output_type": "stream",
     "text": [
      "创建时间序列ts1：\n",
      " 2017-05-01 12:00:00    0.190759\n",
      "2017-05-01 12:10:00    0.389516\n",
      "2017-05-01 12:20:00    0.385732\n",
      "2017-05-01 12:30:00    0.314180\n",
      "2017-05-01 12:40:00    0.118068\n",
      "Freq: 10T, dtype: float64\n",
      "2017-05-01 12:00:00    0.190759\n",
      "2017-05-01 12:05:00    0.190759\n",
      "2017-05-01 12:10:00    0.389516\n",
      "2017-05-01 12:15:00    0.389516\n",
      "2017-05-01 12:20:00    0.385732\n",
      "2017-05-01 12:25:00    0.385732\n",
      "2017-05-01 12:30:00    0.314180\n",
      "2017-05-01 12:35:00    0.314180\n",
      "2017-05-01 12:40:00    0.118068\n",
      "Freq: 5T, dtype: float64\n"
     ]
    }
   ],
   "source": [
    "#按要求创建时间序列ts1，并转换成ts2\n",
    "ts1 = pd.Series(np.random.rand(5),\n",
    "               pd.date_range('2017-05-01 12:00:00','2017-05-01 12:40:00', freq = '10T'))\n",
    "print('创建时间序列ts1：\\n',ts1)\n",
    "ts2 = ts1.asfreq('5T',method = 'ffill')\n",
    "print(ts2)"
   ]
  }
 ],
 "metadata": {
  "kernelspec": {
   "display_name": "Python 3",
   "language": "python",
   "name": "python3"
  },
  "language_info": {
   "codemirror_mode": {
    "name": "ipython",
    "version": 3
   },
   "file_extension": ".py",
   "mimetype": "text/x-python",
   "name": "python",
   "nbconvert_exporter": "python",
   "pygments_lexer": "ipython3",
   "version": "3.7.2"
  }
 },
 "nbformat": 4,
 "nbformat_minor": 2
}
