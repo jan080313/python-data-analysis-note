{
 "cells": [
  {
   "cell_type": "code",
   "execution_count": 1,
   "metadata": {},
   "outputs": [
    {
     "data": {
      "text/plain": [
       "'\\n【课程5.8】 ToolBar工具栏设置\\n\\n① 位置设置\\n② 移动、放大缩小、存储、刷新\\n③ 选择\\n④ 提示框、十字线\\n\\n'"
      ]
     },
     "execution_count": 1,
     "metadata": {},
     "output_type": "execute_result"
    }
   ],
   "source": [
    "'''\n",
    "【课程5.8】 ToolBar工具栏设置\n",
    "\n",
    "① 位置设置\n",
    "② 移动、放大缩小、存储、刷新\n",
    "③ 选择\n",
    "④ 提示框、十字线\n",
    "\n",
    "'''"
   ]
  },
  {
   "cell_type": "code",
   "execution_count": 3,
   "metadata": {},
   "outputs": [
    {
     "data": {
      "text/html": [
       "\n",
       "    <div class=\"bk-root\">\n",
       "        <a href=\"https://bokeh.pydata.org\" target=\"_blank\" class=\"bk-logo bk-logo-small bk-logo-notebook\"></a>\n",
       "        <span id=\"1002\">Loading BokehJS ...</span>\n",
       "    </div>"
      ]
     },
     "metadata": {},
     "output_type": "display_data"
    },
    {
     "data": {
      "application/javascript": [
       "\n",
       "(function(root) {\n",
       "  function now() {\n",
       "    return new Date();\n",
       "  }\n",
       "\n",
       "  var force = true;\n",
       "\n",
       "  if (typeof (root._bokeh_onload_callbacks) === \"undefined\" || force === true) {\n",
       "    root._bokeh_onload_callbacks = [];\n",
       "    root._bokeh_is_loading = undefined;\n",
       "  }\n",
       "\n",
       "  var JS_MIME_TYPE = 'application/javascript';\n",
       "  var HTML_MIME_TYPE = 'text/html';\n",
       "  var EXEC_MIME_TYPE = 'application/vnd.bokehjs_exec.v0+json';\n",
       "  var CLASS_NAME = 'output_bokeh rendered_html';\n",
       "\n",
       "  /**\n",
       "   * Render data to the DOM node\n",
       "   */\n",
       "  function render(props, node) {\n",
       "    var script = document.createElement(\"script\");\n",
       "    node.appendChild(script);\n",
       "  }\n",
       "\n",
       "  /**\n",
       "   * Handle when an output is cleared or removed\n",
       "   */\n",
       "  function handleClearOutput(event, handle) {\n",
       "    var cell = handle.cell;\n",
       "\n",
       "    var id = cell.output_area._bokeh_element_id;\n",
       "    var server_id = cell.output_area._bokeh_server_id;\n",
       "    // Clean up Bokeh references\n",
       "    if (id != null && id in Bokeh.index) {\n",
       "      Bokeh.index[id].model.document.clear();\n",
       "      delete Bokeh.index[id];\n",
       "    }\n",
       "\n",
       "    if (server_id !== undefined) {\n",
       "      // Clean up Bokeh references\n",
       "      var cmd = \"from bokeh.io.state import curstate; print(curstate().uuid_to_server['\" + server_id + \"'].get_sessions()[0].document.roots[0]._id)\";\n",
       "      cell.notebook.kernel.execute(cmd, {\n",
       "        iopub: {\n",
       "          output: function(msg) {\n",
       "            var id = msg.content.text.trim();\n",
       "            if (id in Bokeh.index) {\n",
       "              Bokeh.index[id].model.document.clear();\n",
       "              delete Bokeh.index[id];\n",
       "            }\n",
       "          }\n",
       "        }\n",
       "      });\n",
       "      // Destroy server and session\n",
       "      var cmd = \"import bokeh.io.notebook as ion; ion.destroy_server('\" + server_id + \"')\";\n",
       "      cell.notebook.kernel.execute(cmd);\n",
       "    }\n",
       "  }\n",
       "\n",
       "  /**\n",
       "   * Handle when a new output is added\n",
       "   */\n",
       "  function handleAddOutput(event, handle) {\n",
       "    var output_area = handle.output_area;\n",
       "    var output = handle.output;\n",
       "\n",
       "    // limit handleAddOutput to display_data with EXEC_MIME_TYPE content only\n",
       "    if ((output.output_type != \"display_data\") || (!output.data.hasOwnProperty(EXEC_MIME_TYPE))) {\n",
       "      return\n",
       "    }\n",
       "\n",
       "    var toinsert = output_area.element.find(\".\" + CLASS_NAME.split(' ')[0]);\n",
       "\n",
       "    if (output.metadata[EXEC_MIME_TYPE][\"id\"] !== undefined) {\n",
       "      toinsert[toinsert.length - 1].firstChild.textContent = output.data[JS_MIME_TYPE];\n",
       "      // store reference to embed id on output_area\n",
       "      output_area._bokeh_element_id = output.metadata[EXEC_MIME_TYPE][\"id\"];\n",
       "    }\n",
       "    if (output.metadata[EXEC_MIME_TYPE][\"server_id\"] !== undefined) {\n",
       "      var bk_div = document.createElement(\"div\");\n",
       "      bk_div.innerHTML = output.data[HTML_MIME_TYPE];\n",
       "      var script_attrs = bk_div.children[0].attributes;\n",
       "      for (var i = 0; i < script_attrs.length; i++) {\n",
       "        toinsert[toinsert.length - 1].firstChild.setAttribute(script_attrs[i].name, script_attrs[i].value);\n",
       "      }\n",
       "      // store reference to server id on output_area\n",
       "      output_area._bokeh_server_id = output.metadata[EXEC_MIME_TYPE][\"server_id\"];\n",
       "    }\n",
       "  }\n",
       "\n",
       "  function register_renderer(events, OutputArea) {\n",
       "\n",
       "    function append_mime(data, metadata, element) {\n",
       "      // create a DOM node to render to\n",
       "      var toinsert = this.create_output_subarea(\n",
       "        metadata,\n",
       "        CLASS_NAME,\n",
       "        EXEC_MIME_TYPE\n",
       "      );\n",
       "      this.keyboard_manager.register_events(toinsert);\n",
       "      // Render to node\n",
       "      var props = {data: data, metadata: metadata[EXEC_MIME_TYPE]};\n",
       "      render(props, toinsert[toinsert.length - 1]);\n",
       "      element.append(toinsert);\n",
       "      return toinsert\n",
       "    }\n",
       "\n",
       "    /* Handle when an output is cleared or removed */\n",
       "    events.on('clear_output.CodeCell', handleClearOutput);\n",
       "    events.on('delete.Cell', handleClearOutput);\n",
       "\n",
       "    /* Handle when a new output is added */\n",
       "    events.on('output_added.OutputArea', handleAddOutput);\n",
       "\n",
       "    /**\n",
       "     * Register the mime type and append_mime function with output_area\n",
       "     */\n",
       "    OutputArea.prototype.register_mime_type(EXEC_MIME_TYPE, append_mime, {\n",
       "      /* Is output safe? */\n",
       "      safe: true,\n",
       "      /* Index of renderer in `output_area.display_order` */\n",
       "      index: 0\n",
       "    });\n",
       "  }\n",
       "\n",
       "  // register the mime type if in Jupyter Notebook environment and previously unregistered\n",
       "  if (root.Jupyter !== undefined) {\n",
       "    var events = require('base/js/events');\n",
       "    var OutputArea = require('notebook/js/outputarea').OutputArea;\n",
       "\n",
       "    if (OutputArea.prototype.mime_types().indexOf(EXEC_MIME_TYPE) == -1) {\n",
       "      register_renderer(events, OutputArea);\n",
       "    }\n",
       "  }\n",
       "\n",
       "  \n",
       "  if (typeof (root._bokeh_timeout) === \"undefined\" || force === true) {\n",
       "    root._bokeh_timeout = Date.now() + 5000;\n",
       "    root._bokeh_failed_load = false;\n",
       "  }\n",
       "\n",
       "  var NB_LOAD_WARNING = {'data': {'text/html':\n",
       "     \"<div style='background-color: #fdd'>\\n\"+\n",
       "     \"<p>\\n\"+\n",
       "     \"BokehJS does not appear to have successfully loaded. If loading BokehJS from CDN, this \\n\"+\n",
       "     \"may be due to a slow or bad network connection. Possible fixes:\\n\"+\n",
       "     \"</p>\\n\"+\n",
       "     \"<ul>\\n\"+\n",
       "     \"<li>re-rerun `output_notebook()` to attempt to load from CDN again, or</li>\\n\"+\n",
       "     \"<li>use INLINE resources instead, as so:</li>\\n\"+\n",
       "     \"</ul>\\n\"+\n",
       "     \"<code>\\n\"+\n",
       "     \"from bokeh.resources import INLINE\\n\"+\n",
       "     \"output_notebook(resources=INLINE)\\n\"+\n",
       "     \"</code>\\n\"+\n",
       "     \"</div>\"}};\n",
       "\n",
       "  function display_loaded() {\n",
       "    var el = document.getElementById(\"1002\");\n",
       "    if (el != null) {\n",
       "      el.textContent = \"BokehJS is loading...\";\n",
       "    }\n",
       "    if (root.Bokeh !== undefined) {\n",
       "      if (el != null) {\n",
       "        el.textContent = \"BokehJS \" + root.Bokeh.version + \" successfully loaded.\";\n",
       "      }\n",
       "    } else if (Date.now() < root._bokeh_timeout) {\n",
       "      setTimeout(display_loaded, 100)\n",
       "    }\n",
       "  }\n",
       "\n",
       "\n",
       "  function run_callbacks() {\n",
       "    try {\n",
       "      root._bokeh_onload_callbacks.forEach(function(callback) { callback() });\n",
       "    }\n",
       "    finally {\n",
       "      delete root._bokeh_onload_callbacks\n",
       "    }\n",
       "    console.info(\"Bokeh: all callbacks have finished\");\n",
       "  }\n",
       "\n",
       "  function load_libs(js_urls, callback) {\n",
       "    root._bokeh_onload_callbacks.push(callback);\n",
       "    if (root._bokeh_is_loading > 0) {\n",
       "      console.log(\"Bokeh: BokehJS is being loaded, scheduling callback at\", now());\n",
       "      return null;\n",
       "    }\n",
       "    if (js_urls == null || js_urls.length === 0) {\n",
       "      run_callbacks();\n",
       "      return null;\n",
       "    }\n",
       "    console.log(\"Bokeh: BokehJS not loaded, scheduling load and callback at\", now());\n",
       "    root._bokeh_is_loading = js_urls.length;\n",
       "    for (var i = 0; i < js_urls.length; i++) {\n",
       "      var url = js_urls[i];\n",
       "      var s = document.createElement('script');\n",
       "      s.src = url;\n",
       "      s.async = false;\n",
       "      s.onreadystatechange = s.onload = function() {\n",
       "        root._bokeh_is_loading--;\n",
       "        if (root._bokeh_is_loading === 0) {\n",
       "          console.log(\"Bokeh: all BokehJS libraries loaded\");\n",
       "          run_callbacks()\n",
       "        }\n",
       "      };\n",
       "      s.onerror = function() {\n",
       "        console.warn(\"failed to load library \" + url);\n",
       "      };\n",
       "      console.log(\"Bokeh: injecting script tag for BokehJS library: \", url);\n",
       "      document.getElementsByTagName(\"head\")[0].appendChild(s);\n",
       "    }\n",
       "  };var element = document.getElementById(\"1002\");\n",
       "  if (element == null) {\n",
       "    console.log(\"Bokeh: ERROR: autoload.js configured with elementid '1002' but no matching script tag was found. \")\n",
       "    return false;\n",
       "  }\n",
       "\n",
       "  var js_urls = [\"https://cdn.pydata.org/bokeh/release/bokeh-1.0.4.min.js\", \"https://cdn.pydata.org/bokeh/release/bokeh-widgets-1.0.4.min.js\", \"https://cdn.pydata.org/bokeh/release/bokeh-tables-1.0.4.min.js\", \"https://cdn.pydata.org/bokeh/release/bokeh-gl-1.0.4.min.js\"];\n",
       "\n",
       "  var inline_js = [\n",
       "    function(Bokeh) {\n",
       "      Bokeh.set_log_level(\"info\");\n",
       "    },\n",
       "    \n",
       "    function(Bokeh) {\n",
       "      \n",
       "    },\n",
       "    function(Bokeh) {\n",
       "      console.log(\"Bokeh: injecting CSS: https://cdn.pydata.org/bokeh/release/bokeh-1.0.4.min.css\");\n",
       "      Bokeh.embed.inject_css(\"https://cdn.pydata.org/bokeh/release/bokeh-1.0.4.min.css\");\n",
       "      console.log(\"Bokeh: injecting CSS: https://cdn.pydata.org/bokeh/release/bokeh-widgets-1.0.4.min.css\");\n",
       "      Bokeh.embed.inject_css(\"https://cdn.pydata.org/bokeh/release/bokeh-widgets-1.0.4.min.css\");\n",
       "      console.log(\"Bokeh: injecting CSS: https://cdn.pydata.org/bokeh/release/bokeh-tables-1.0.4.min.css\");\n",
       "      Bokeh.embed.inject_css(\"https://cdn.pydata.org/bokeh/release/bokeh-tables-1.0.4.min.css\");\n",
       "    }\n",
       "  ];\n",
       "\n",
       "  function run_inline_js() {\n",
       "    \n",
       "    if ((root.Bokeh !== undefined) || (force === true)) {\n",
       "      for (var i = 0; i < inline_js.length; i++) {\n",
       "        inline_js[i].call(root, root.Bokeh);\n",
       "      }if (force === true) {\n",
       "        display_loaded();\n",
       "      }} else if (Date.now() < root._bokeh_timeout) {\n",
       "      setTimeout(run_inline_js, 100);\n",
       "    } else if (!root._bokeh_failed_load) {\n",
       "      console.log(\"Bokeh: BokehJS failed to load within specified timeout.\");\n",
       "      root._bokeh_failed_load = true;\n",
       "    } else if (force !== true) {\n",
       "      var cell = $(document.getElementById(\"1002\")).parents('.cell').data().cell;\n",
       "      cell.output_area.append_execute_result(NB_LOAD_WARNING)\n",
       "    }\n",
       "\n",
       "  }\n",
       "\n",
       "  if (root._bokeh_is_loading === 0) {\n",
       "    console.log(\"Bokeh: BokehJS loaded, going straight to plotting\");\n",
       "    run_inline_js();\n",
       "  } else {\n",
       "    load_libs(js_urls, function() {\n",
       "      console.log(\"Bokeh: BokehJS plotting callback run at\", now());\n",
       "      run_inline_js();\n",
       "    });\n",
       "  }\n",
       "}(window));"
      ],
      "application/vnd.bokehjs_load.v0+json": "\n(function(root) {\n  function now() {\n    return new Date();\n  }\n\n  var force = true;\n\n  if (typeof (root._bokeh_onload_callbacks) === \"undefined\" || force === true) {\n    root._bokeh_onload_callbacks = [];\n    root._bokeh_is_loading = undefined;\n  }\n\n  \n\n  \n  if (typeof (root._bokeh_timeout) === \"undefined\" || force === true) {\n    root._bokeh_timeout = Date.now() + 5000;\n    root._bokeh_failed_load = false;\n  }\n\n  var NB_LOAD_WARNING = {'data': {'text/html':\n     \"<div style='background-color: #fdd'>\\n\"+\n     \"<p>\\n\"+\n     \"BokehJS does not appear to have successfully loaded. If loading BokehJS from CDN, this \\n\"+\n     \"may be due to a slow or bad network connection. Possible fixes:\\n\"+\n     \"</p>\\n\"+\n     \"<ul>\\n\"+\n     \"<li>re-rerun `output_notebook()` to attempt to load from CDN again, or</li>\\n\"+\n     \"<li>use INLINE resources instead, as so:</li>\\n\"+\n     \"</ul>\\n\"+\n     \"<code>\\n\"+\n     \"from bokeh.resources import INLINE\\n\"+\n     \"output_notebook(resources=INLINE)\\n\"+\n     \"</code>\\n\"+\n     \"</div>\"}};\n\n  function display_loaded() {\n    var el = document.getElementById(\"1002\");\n    if (el != null) {\n      el.textContent = \"BokehJS is loading...\";\n    }\n    if (root.Bokeh !== undefined) {\n      if (el != null) {\n        el.textContent = \"BokehJS \" + root.Bokeh.version + \" successfully loaded.\";\n      }\n    } else if (Date.now() < root._bokeh_timeout) {\n      setTimeout(display_loaded, 100)\n    }\n  }\n\n\n  function run_callbacks() {\n    try {\n      root._bokeh_onload_callbacks.forEach(function(callback) { callback() });\n    }\n    finally {\n      delete root._bokeh_onload_callbacks\n    }\n    console.info(\"Bokeh: all callbacks have finished\");\n  }\n\n  function load_libs(js_urls, callback) {\n    root._bokeh_onload_callbacks.push(callback);\n    if (root._bokeh_is_loading > 0) {\n      console.log(\"Bokeh: BokehJS is being loaded, scheduling callback at\", now());\n      return null;\n    }\n    if (js_urls == null || js_urls.length === 0) {\n      run_callbacks();\n      return null;\n    }\n    console.log(\"Bokeh: BokehJS not loaded, scheduling load and callback at\", now());\n    root._bokeh_is_loading = js_urls.length;\n    for (var i = 0; i < js_urls.length; i++) {\n      var url = js_urls[i];\n      var s = document.createElement('script');\n      s.src = url;\n      s.async = false;\n      s.onreadystatechange = s.onload = function() {\n        root._bokeh_is_loading--;\n        if (root._bokeh_is_loading === 0) {\n          console.log(\"Bokeh: all BokehJS libraries loaded\");\n          run_callbacks()\n        }\n      };\n      s.onerror = function() {\n        console.warn(\"failed to load library \" + url);\n      };\n      console.log(\"Bokeh: injecting script tag for BokehJS library: \", url);\n      document.getElementsByTagName(\"head\")[0].appendChild(s);\n    }\n  };var element = document.getElementById(\"1002\");\n  if (element == null) {\n    console.log(\"Bokeh: ERROR: autoload.js configured with elementid '1002' but no matching script tag was found. \")\n    return false;\n  }\n\n  var js_urls = [\"https://cdn.pydata.org/bokeh/release/bokeh-1.0.4.min.js\", \"https://cdn.pydata.org/bokeh/release/bokeh-widgets-1.0.4.min.js\", \"https://cdn.pydata.org/bokeh/release/bokeh-tables-1.0.4.min.js\", \"https://cdn.pydata.org/bokeh/release/bokeh-gl-1.0.4.min.js\"];\n\n  var inline_js = [\n    function(Bokeh) {\n      Bokeh.set_log_level(\"info\");\n    },\n    \n    function(Bokeh) {\n      \n    },\n    function(Bokeh) {\n      console.log(\"Bokeh: injecting CSS: https://cdn.pydata.org/bokeh/release/bokeh-1.0.4.min.css\");\n      Bokeh.embed.inject_css(\"https://cdn.pydata.org/bokeh/release/bokeh-1.0.4.min.css\");\n      console.log(\"Bokeh: injecting CSS: https://cdn.pydata.org/bokeh/release/bokeh-widgets-1.0.4.min.css\");\n      Bokeh.embed.inject_css(\"https://cdn.pydata.org/bokeh/release/bokeh-widgets-1.0.4.min.css\");\n      console.log(\"Bokeh: injecting CSS: https://cdn.pydata.org/bokeh/release/bokeh-tables-1.0.4.min.css\");\n      Bokeh.embed.inject_css(\"https://cdn.pydata.org/bokeh/release/bokeh-tables-1.0.4.min.css\");\n    }\n  ];\n\n  function run_inline_js() {\n    \n    if ((root.Bokeh !== undefined) || (force === true)) {\n      for (var i = 0; i < inline_js.length; i++) {\n        inline_js[i].call(root, root.Bokeh);\n      }if (force === true) {\n        display_loaded();\n      }} else if (Date.now() < root._bokeh_timeout) {\n      setTimeout(run_inline_js, 100);\n    } else if (!root._bokeh_failed_load) {\n      console.log(\"Bokeh: BokehJS failed to load within specified timeout.\");\n      root._bokeh_failed_load = true;\n    } else if (force !== true) {\n      var cell = $(document.getElementById(\"1002\")).parents('.cell').data().cell;\n      cell.output_area.append_execute_result(NB_LOAD_WARNING)\n    }\n\n  }\n\n  if (root._bokeh_is_loading === 0) {\n    console.log(\"Bokeh: BokehJS loaded, going straight to plotting\");\n    run_inline_js();\n  } else {\n    load_libs(js_urls, function() {\n      console.log(\"Bokeh: BokehJS plotting callback run at\", now());\n      run_inline_js();\n    });\n  }\n}(window));"
     },
     "metadata": {},
     "output_type": "display_data"
    }
   ],
   "source": [
    "import numpy as np\n",
    "import pandas as pd\n",
    "import matplotlib.pyplot as plt\n",
    "%matplotlib inline\n",
    "\n",
    "import warnings\n",
    "warnings.filterwarnings('ignore') \n",
    "# 不发出警告\n",
    "\n",
    "from bokeh.io import output_notebook\n",
    "output_notebook()\n",
    "# 导入notebook绘图模块\n",
    "\n",
    "from bokeh.plotting import figure,show\n",
    "from bokeh.models import ColumnDataSource\n",
    "# 导入图表绘制、图标展示模块\n",
    "# 导入ColumnDataSource模块"
   ]
  },
  {
   "cell_type": "code",
   "execution_count": 5,
   "metadata": {},
   "outputs": [
    {
     "data": {
      "text/html": [
       "\n",
       "\n",
       "\n",
       "\n",
       "\n",
       "\n",
       "  <div class=\"bk-root\" id=\"6af23062-770e-4aab-9a19-6c3d561b9e5e\" data-root-id=\"1105\"></div>\n"
      ]
     },
     "metadata": {},
     "output_type": "display_data"
    },
    {
     "data": {
      "application/javascript": [
       "(function(root) {\n",
       "  function embed_document(root) {\n",
       "    \n",
       "  var docs_json = {\"324d43b4-c96b-4a53-86e3-8267a179e0e0\":{\"roots\":{\"references\":[{\"attributes\":{\"below\":[{\"id\":\"1114\",\"type\":\"LinearAxis\"}],\"left\":[{\"id\":\"1119\",\"type\":\"LinearAxis\"}],\"plot_height\":300,\"plot_width\":300,\"renderers\":[{\"id\":\"1114\",\"type\":\"LinearAxis\"},{\"id\":\"1118\",\"type\":\"Grid\"},{\"id\":\"1119\",\"type\":\"LinearAxis\"},{\"id\":\"1123\",\"type\":\"Grid\"},{\"id\":\"1132\",\"type\":\"BoxAnnotation\"},{\"id\":\"1142\",\"type\":\"GlyphRenderer\"}],\"title\":{\"id\":\"1153\",\"type\":\"Title\"},\"toolbar\":{\"id\":\"1130\",\"type\":\"Toolbar\"},\"toolbar_location\":\"above\",\"x_range\":{\"id\":\"1106\",\"type\":\"DataRange1d\"},\"x_scale\":{\"id\":\"1110\",\"type\":\"LinearScale\"},\"y_range\":{\"id\":\"1108\",\"type\":\"DataRange1d\"},\"y_scale\":{\"id\":\"1112\",\"type\":\"LinearScale\"}},\"id\":\"1105\",\"subtype\":\"Figure\",\"type\":\"Plot\"},{\"attributes\":{},\"id\":\"1158\",\"type\":\"BasicTickFormatter\"},{\"attributes\":{},\"id\":\"1127\",\"type\":\"SaveTool\"},{\"attributes\":{},\"id\":\"1156\",\"type\":\"BasicTickFormatter\"},{\"attributes\":{\"plot\":null,\"text\":\"\"},\"id\":\"1153\",\"type\":\"Title\"},{\"attributes\":{\"source\":{\"id\":\"1139\",\"type\":\"ColumnDataSource\"}},\"id\":\"1143\",\"type\":\"CDSView\"},{\"attributes\":{\"active_drag\":\"auto\",\"active_inspect\":\"auto\",\"active_multi\":null,\"active_scroll\":\"auto\",\"active_tap\":\"auto\",\"tools\":[{\"id\":\"1124\",\"type\":\"PanTool\"},{\"id\":\"1125\",\"type\":\"WheelZoomTool\"},{\"id\":\"1126\",\"type\":\"BoxZoomTool\"},{\"id\":\"1127\",\"type\":\"SaveTool\"},{\"id\":\"1128\",\"type\":\"ResetTool\"},{\"id\":\"1129\",\"type\":\"HelpTool\"}]},\"id\":\"1130\",\"type\":\"Toolbar\"},{\"attributes\":{\"formatter\":{\"id\":\"1156\",\"type\":\"BasicTickFormatter\"},\"plot\":{\"id\":\"1105\",\"subtype\":\"Figure\",\"type\":\"Plot\"},\"ticker\":{\"id\":\"1115\",\"type\":\"BasicTicker\"}},\"id\":\"1114\",\"type\":\"LinearAxis\"},{\"attributes\":{\"overlay\":{\"id\":\"1132\",\"type\":\"BoxAnnotation\"}},\"id\":\"1126\",\"type\":\"BoxZoomTool\"},{\"attributes\":{\"formatter\":{\"id\":\"1158\",\"type\":\"BasicTickFormatter\"},\"plot\":{\"id\":\"1105\",\"subtype\":\"Figure\",\"type\":\"Plot\"},\"ticker\":{\"id\":\"1120\",\"type\":\"BasicTicker\"}},\"id\":\"1119\",\"type\":\"LinearAxis\"},{\"attributes\":{\"data_source\":{\"id\":\"1139\",\"type\":\"ColumnDataSource\"},\"glyph\":{\"id\":\"1140\",\"type\":\"Circle\"},\"hover_glyph\":null,\"muted_glyph\":null,\"nonselection_glyph\":{\"id\":\"1141\",\"type\":\"Circle\"},\"selection_glyph\":null,\"view\":{\"id\":\"1143\",\"type\":\"CDSView\"}},\"id\":\"1142\",\"type\":\"GlyphRenderer\"},{\"attributes\":{\"plot\":{\"id\":\"1105\",\"subtype\":\"Figure\",\"type\":\"Plot\"},\"ticker\":{\"id\":\"1115\",\"type\":\"BasicTicker\"}},\"id\":\"1118\",\"type\":\"Grid\"},{\"attributes\":{\"callback\":null},\"id\":\"1108\",\"type\":\"DataRange1d\"},{\"attributes\":{},\"id\":\"1125\",\"type\":\"WheelZoomTool\"},{\"attributes\":{},\"id\":\"1115\",\"type\":\"BasicTicker\"},{\"attributes\":{\"callback\":null},\"id\":\"1106\",\"type\":\"DataRange1d\"},{\"attributes\":{},\"id\":\"1112\",\"type\":\"LinearScale\"},{\"attributes\":{},\"id\":\"1110\",\"type\":\"LinearScale\"},{\"attributes\":{},\"id\":\"1128\",\"type\":\"ResetTool\"},{\"attributes\":{\"dimension\":1,\"plot\":{\"id\":\"1105\",\"subtype\":\"Figure\",\"type\":\"Plot\"},\"ticker\":{\"id\":\"1120\",\"type\":\"BasicTicker\"}},\"id\":\"1123\",\"type\":\"Grid\"},{\"attributes\":{},\"id\":\"1120\",\"type\":\"BasicTicker\"},{\"attributes\":{\"callback\":null,\"data\":{\"x\":{\"__ndarray__\":\"C/uFJ8xx6r+CxpYpPC7GP2YR3DhSl+C/Vnr2BPS+479YWLLJwUa9PzjLoA1JO/a/9+FDOz9uwz90MEmWQc/AP500rTsqCus/qT7lAnKY2r/Bhh0Qkx32v5A+PpS7Ze+/45xfYO/c5z8XmLP5soe6P10dydPXf+i/kwIR//wH7j8L8bm0A9PfP/htj+raId2/pxNBvsTojL+uStqK3BHaP9XqSLTYcty/SFxRM29Z/b8YAyA+k9v5vyTfpFkyZee/kHlkM6eGxr+H/kTyUYPrvzi9cgg1fto/R/z8iMu66j9j2YvDNSrqPx2yIYfu/J+/AYFKfz6e37+Bq6XlYVPAv8li+2AHpae/tiHOeKSk2D/62VcwptPMv2yr0B9moOs/0wfLePx54z8b2LBlI5/5vzp/TGerx/e/+nmFxQl65b/GGE9vQDG7P/cxwb6khPI//4+PkGeo8T9WOOEsRPr1P2GVDF6CAeY/YcB0EYNN4b+aJMDGOUj0P7gZBx5y9uq/q/mC8nb/978CXwqVLj/CPw4ZIlS1ouW/FMvoOaQFwr8uvdrKWNniv5/LSjnAx+k/zcMfmrPEpj9pCelhzh7qv7hLlx1KLPE/+/AbCmLo9b9W/Ec/Xxflv8a1dhYZIvI/C4CvFQYP67/l5K3530+0P72HYtdLleu/+QcAztCL5r+Yv1/ZATTyv8X6MkM3yQJA/aT3SAsxtz/4OFq6XRzYP6d9eAtfNeG/54ky9TQK3z8W5k3GaOj9vwrRL/FyPJc/PWhNNIGi4L/aSWak00rfP99IwwFwOuE/UsbNRqcZzz/F0RGqd0/1v192+mEOi9q/Iw93PYxxAcCGRn4mZWTwP3FI2FF/+Oc/0iSDDzzK8T/S+jjjZSH2v5NTbxd5/MO/RALKSKhq178VX+pUbc7XP6yTPSlTEMQ/+pMY6W5Q6T9wrDNW5bfHPy2QMCA9wdG/dU+lA6eOxj+xIcoG2PcBQP6DqL4Dwso/5oOMh4L63j92uQyQI0Pkv6DkR9Z/1tE/aqio49T0eL+wPUcO1wHmP7QiJ3juKty/uuvd8q4c/b8=\",\"dtype\":\"float64\",\"shape\":[100]},\"y\":{\"__ndarray__\":\"XwTMaiNl2D+utsNtn0jpv+hps56uTvw/hPG6m/LHv78YzyjbVsXpvxQX188Qf+O/wUDCdm8J47+ypBoiOuLqvz8owXbMDtG/gk9/e5Sp7D9X5CIgxEW0P8LoVWhJPta/HRjlnSlKuL+Vd3J9DqnNP+XVAxRLKdo/y4hjy3vN+D9bVF9vXFnnP+h69HvD0uE/e2O12Vbm5D8FRmbp5zTrvyQLv7wgv/Q/1kA3qdWX7D8n6Mj4WdHWv9OBKbq8XdM/p2z6bhaB5j+SG8fO4OPwv2JyyTUArfg/0MFwNoukxz/ia7Tr3S/WvwumILvOwci/weJFRgq9tD/EDtpOkar2vzbJhyrtPNO/LWDNfFUtub/6zSydDWLnPxPc8Atek/I/PrX1ygKhxL+YAMJE73rxv0CH2RtE1Om/IETYfd9T3j8ZHF8wMIP8P/oUnD96zui/7pnvOzh99z9OCU8WnwaYPxSh06xNi9E/MdFnMMz+7D+NUDMyxUjMvwHvxLZLQ9K/rncaj9Nd5T8ZoEuML4L6v5SJGVZw3ABAgxzO5PlYuT99FzLO0PrQP7LMr791z6S/4T/WrxHY9D/OwNVLH87pvzreRdHYM/O/vcnpEaKJ2j/asHt50Bb1P+tctOsUDte/EC/Vpxt/9D/Zg0ZmqiDjv6OhFeNDo/m/7g4jmrLCub+tAsjxevikv2CkhzWXpPM/30hDBgp1wb++0Ss2UVvxv6XBjBbri28/7eAFBPmq379bFEvm6iAAQLyLQA053P4/vvrIu/Ex5T9Q9yXuomewv4axyAna+uM/V5sX9iIH378VbIJU7MbzvyznT/D8jwHAJH7nlNxSvr+cTBWucf7APzG9DZv1uuO/K3tznVk51z/yRQeg+8uzP9CHHfqy9f8/EmXrYbLqob+NtWyntVkBQEUhH6CLEa6/FcSTg++F5L+5agrOUgTpvx8H9MJatOg/Qu+CZnqj5z+Hv4bSb3XfvyNYKRjoxLe/oxmAwqxD87+o1Qu6AvkEQLTbY8XIBvA/4++nWW+fwL9SOMXfujLzP0W6jbjWQtG/NXSxgKj02b8=\",\"dtype\":\"float64\",\"shape\":[100]}},\"selected\":{\"id\":\"1160\",\"type\":\"Selection\"},\"selection_policy\":{\"id\":\"1161\",\"type\":\"UnionRenderers\"}},\"id\":\"1139\",\"type\":\"ColumnDataSource\"},{\"attributes\":{\"fill_color\":{\"value\":\"#1f77b4\"},\"line_color\":{\"value\":\"#1f77b4\"},\"x\":{\"field\":\"x\"},\"y\":{\"field\":\"y\"}},\"id\":\"1140\",\"type\":\"Circle\"},{\"attributes\":{},\"id\":\"1160\",\"type\":\"Selection\"},{\"attributes\":{\"fill_alpha\":{\"value\":0.1},\"fill_color\":{\"value\":\"#1f77b4\"},\"line_alpha\":{\"value\":0.1},\"line_color\":{\"value\":\"#1f77b4\"},\"x\":{\"field\":\"x\"},\"y\":{\"field\":\"y\"}},\"id\":\"1141\",\"type\":\"Circle\"},{\"attributes\":{\"bottom_units\":\"screen\",\"fill_alpha\":{\"value\":0.5},\"fill_color\":{\"value\":\"lightgrey\"},\"left_units\":\"screen\",\"level\":\"overlay\",\"line_alpha\":{\"value\":1.0},\"line_color\":{\"value\":\"black\"},\"line_dash\":[4,4],\"line_width\":{\"value\":2},\"plot\":null,\"render_mode\":\"css\",\"right_units\":\"screen\",\"top_units\":\"screen\"},\"id\":\"1132\",\"type\":\"BoxAnnotation\"},{\"attributes\":{},\"id\":\"1161\",\"type\":\"UnionRenderers\"},{\"attributes\":{},\"id\":\"1129\",\"type\":\"HelpTool\"},{\"attributes\":{},\"id\":\"1124\",\"type\":\"PanTool\"}],\"root_ids\":[\"1105\"]},\"title\":\"Bokeh Application\",\"version\":\"1.0.4\"}};\n",
       "  var render_items = [{\"docid\":\"324d43b4-c96b-4a53-86e3-8267a179e0e0\",\"roots\":{\"1105\":\"6af23062-770e-4aab-9a19-6c3d561b9e5e\"}}];\n",
       "  root.Bokeh.embed.embed_items_notebook(docs_json, render_items);\n",
       "\n",
       "  }\n",
       "  if (root.Bokeh !== undefined) {\n",
       "    embed_document(root);\n",
       "  } else {\n",
       "    var attempts = 0;\n",
       "    var timer = setInterval(function(root) {\n",
       "      if (root.Bokeh !== undefined) {\n",
       "        embed_document(root);\n",
       "        clearInterval(timer);\n",
       "      }\n",
       "      attempts++;\n",
       "      if (attempts > 100) {\n",
       "        console.log(\"Bokeh: ERROR: Unable to run BokehJS code because BokehJS library is missing\");\n",
       "        clearInterval(timer);\n",
       "      }\n",
       "    }, 10, root)\n",
       "  }\n",
       "})(window);"
      ],
      "application/vnd.bokehjs_exec.v0+json": ""
     },
     "metadata": {
      "application/vnd.bokehjs_exec.v0+json": {
       "id": "1105"
      }
     },
     "output_type": "display_data"
    }
   ],
   "source": [
    "# 工具栏 tools\n",
    "# （1）设置位置\n",
    "\n",
    "p = figure(plot_width=300, plot_height=300,\n",
    "          toolbar_location=\"above\")\n",
    "# 工具栏位置：\"above\"，\"below\"，\"left\"，\"right\"\n",
    "\n",
    "p.circle(np.random.randn(100),np.random.randn(100))\n",
    "show(p)"
   ]
  },
  {
   "cell_type": "code",
   "execution_count": 7,
   "metadata": {},
   "outputs": [
    {
     "data": {
      "text/html": [
       "\n",
       "\n",
       "\n",
       "\n",
       "\n",
       "\n",
       "  <div class=\"bk-root\" id=\"78af3cd4-fd1d-4589-ae27-7eb7b9427048\" data-root-id=\"1336\"></div>\n"
      ]
     },
     "metadata": {},
     "output_type": "display_data"
    },
    {
     "data": {
      "application/javascript": [
       "(function(root) {\n",
       "  function embed_document(root) {\n",
       "    \n",
       "  var docs_json = {\"49c85c52-351c-4517-8e4b-557f34e098cd\":{\"roots\":{\"references\":[{\"attributes\":{\"below\":[{\"id\":\"1345\",\"type\":\"LinearAxis\"}],\"left\":[{\"id\":\"1350\",\"type\":\"LinearAxis\"}],\"plot_height\":300,\"plot_width\":300,\"renderers\":[{\"id\":\"1345\",\"type\":\"LinearAxis\"},{\"id\":\"1349\",\"type\":\"Grid\"},{\"id\":\"1350\",\"type\":\"LinearAxis\"},{\"id\":\"1354\",\"type\":\"Grid\"},{\"id\":\"1363\",\"type\":\"BoxAnnotation\"},{\"id\":\"1373\",\"type\":\"GlyphRenderer\"}],\"title\":{\"id\":\"1402\",\"type\":\"Title\"},\"toolbar\":{\"id\":\"1361\",\"type\":\"Toolbar\"},\"toolbar_location\":\"below\",\"toolbar_sticky\":false,\"x_range\":{\"id\":\"1337\",\"type\":\"DataRange1d\"},\"x_scale\":{\"id\":\"1341\",\"type\":\"LinearScale\"},\"y_range\":{\"id\":\"1339\",\"type\":\"DataRange1d\"},\"y_scale\":{\"id\":\"1343\",\"type\":\"LinearScale\"}},\"id\":\"1336\",\"subtype\":\"Figure\",\"type\":\"Plot\"},{\"attributes\":{\"active_drag\":\"auto\",\"active_inspect\":\"auto\",\"active_multi\":null,\"active_scroll\":\"auto\",\"active_tap\":\"auto\",\"tools\":[{\"id\":\"1355\",\"type\":\"PanTool\"},{\"id\":\"1356\",\"type\":\"WheelZoomTool\"},{\"id\":\"1357\",\"type\":\"BoxZoomTool\"},{\"id\":\"1358\",\"type\":\"SaveTool\"},{\"id\":\"1359\",\"type\":\"ResetTool\"},{\"id\":\"1360\",\"type\":\"HelpTool\"}]},\"id\":\"1361\",\"type\":\"Toolbar\"},{\"attributes\":{},\"id\":\"1341\",\"type\":\"LinearScale\"},{\"attributes\":{},\"id\":\"1343\",\"type\":\"LinearScale\"},{\"attributes\":{},\"id\":\"1410\",\"type\":\"UnionRenderers\"},{\"attributes\":{\"formatter\":{\"id\":\"1407\",\"type\":\"BasicTickFormatter\"},\"plot\":{\"id\":\"1336\",\"subtype\":\"Figure\",\"type\":\"Plot\"},\"ticker\":{\"id\":\"1351\",\"type\":\"BasicTicker\"}},\"id\":\"1350\",\"type\":\"LinearAxis\"},{\"attributes\":{\"plot\":{\"id\":\"1336\",\"subtype\":\"Figure\",\"type\":\"Plot\"},\"ticker\":{\"id\":\"1346\",\"type\":\"BasicTicker\"}},\"id\":\"1349\",\"type\":\"Grid\"},{\"attributes\":{\"plot\":null,\"text\":\"\"},\"id\":\"1402\",\"type\":\"Title\"},{\"attributes\":{\"callback\":null},\"id\":\"1339\",\"type\":\"DataRange1d\"},{\"attributes\":{\"fill_color\":{\"value\":\"#1f77b4\"},\"line_color\":{\"value\":\"#1f77b4\"},\"x\":{\"field\":\"x\"},\"y\":{\"field\":\"y\"}},\"id\":\"1371\",\"type\":\"Circle\"},{\"attributes\":{\"formatter\":{\"id\":\"1405\",\"type\":\"BasicTickFormatter\"},\"plot\":{\"id\":\"1336\",\"subtype\":\"Figure\",\"type\":\"Plot\"},\"ticker\":{\"id\":\"1346\",\"type\":\"BasicTicker\"}},\"id\":\"1345\",\"type\":\"LinearAxis\"},{\"attributes\":{\"callback\":null,\"data\":{\"x\":{\"__ndarray__\":\"doo59eTe5D/P+fSgP4TiP+YZBgqJ+sk/uh76+Y/B2j8SdWy/xaLlv8H8Kp5K7tW/Kp4WuZNG4b9m1pRI4Jz7v7MV1/e5leI/pSHIiqgCdr/mZWIHoHb7P/SECsWDLtc/+p+26QBV8D9XImopH1i9v4ZSSacNY9u/QEw3eVIn4r8CNeFo2nPmvxR9XlasDri/2fD1bvkvo7+QZ/X0UBbBv7c325Yo1vQ/Io7/SKBX5r9KEIHwm7rSP0cbWsxC2Oq/nhxikjUl97+JHiCVObXxP2+qSGY67PS/M1RgKvu+9D/CgrgaYEL2vy5RmCxRF+S/P8ti0dFF57/0BzBxkCTiv+qeQxRH6PE/LGuHUhyM4j9qx9IB75PfP/Jog8/wtPa/S0SA9aLW+T/McmiZKVr0v/gmltJkCeO/BIMMGlqC5r+ktlbKajT/PzpbYxql47u/56puZE/WAUAl8t7+Jbxmv2jXquTexbc/4y8AwIjN7D+ce63xjMjnP7LE1pgE1vK/cewrd2pt878HJhNw4OHTv1i+G9KzAN4/+56sloAr1L/M0t2OIVTxv0KQidChPMU/84+y047W4D+gJJ8jUkDrP8RMzTCY79q/yvuPNyRk9b/xfexILeD2P1LCOuX1+PI/ETNa1BQk1r9ZQGO9kvnyPxhxkPjFAgNAy5oPLwEX9D/CT2Xl20G8v0uD1U7cWs4/RFdOyjuR7T+QfSz0wQfzP/ltflapT9K/9yRgWlDT7L9tyW4670TyP3cQXmQLw+q/5jiz0k3L+D9hvrTGE8LJv2GjuswXEsk/fUeai6421L/+MxYJfDXiP06UPt1KFd6/hkBZkHUQ57/rDBEn9Oz4vwcB4pDdouW/Yko83gQ/o7/jGKAFfyHTP/aMwGAPdPk/LqPC77p37j/jRphWAmrZv+ojsuztieM/D+UIOQBR3j+uSE2AuTv1v27iQxtaPPm/tdhq5W0+8D8Bh2oHojjmv0yhQz/dBAHACbGh3Xhd6b83CJr2VmDrP9zJLjssGfo/UvcaGDz15j+F1eS10JzRP2T80AK/orm/0BUcjeVK6L8=\",\"dtype\":\"float64\",\"shape\":[100]},\"y\":{\"__ndarray__\":\"O9QTSxF//r/12Kn4yZLzP5O0LTK2X+e/EYFvL5gj6L8nrRDJjNTtP+VUzRAj/u4/AQaxt2Hf57/hocHhHXT9P6QrO+SXZ/E/5zCEc9Fs879sWz2AMPS1Pzxuj/XC4fW/i47Wk3y8A8BiJhqZScvovyC3stnIC/0/F0YocHBH9D+vQwBOWgvxv0kuz0A5OOi/jYtsjML19L90w89wAOTsP9uZeeQE0dW/YxpMojGZ1z8o4J/CEq3sP6ztKGz6SvK/eB10ENl2578yyOlvSePbvzRAgYB5a/E/nLdXYwwe1D+FrfOWMs/gP0LmKOONZPM/jxrs/0xDzr9ZkLOz0jnlv+CztjGG4No/xWyFdF5u9D+3dN0lP03nP6ujb2yT1aQ/a/SOhM/ltL/nPzqIQv/4v6Wi9FR+Lck/xhVsoGNS9r8MKdZnxHHcP1G2xwMYNO4/LC7IDD3g5b/9bUQpcXjIvy3t/HcJlZo/Gkl4UySu2j8o7gfWstP1P7pMP/poDPu/F/5BvUJ58b8W/iSTMEnsP64uFocXXto/cOAyMH/o97+4dMb2K7eYv1WQilZTW/a/vVBYYnj9zT83PlwBsHbcP+1eSCjF3PK/w+o7q99hsb9RX8Kv/NnovyUDdfW+Ct+/9ywtkEEm9j9uwfqImPXNv6YnzKypneK/dnwgbSry4b+B8cmBLH/iv2N7SUtXaf4/8bNDJAEB8L8Qzj7cZwPpvwltJRfxbOE/3DXwzyPE8j87D1Orr6DGPwPU39pCh+O/tw1QejsH8L8WdNCXwZrnP0SjXOLZR9o/YEXxNncjAsBoTtF5gGj8vy0UamNZLeA/P1N7DQYbwj8qdhirRr2yv0PqtjPcYLq/msHWwl3X7b8O2zOf2Jzev2k232gsLp0/t47Sn7/i0T9A3qDycqnhv0+qf1b1ZsI/RrBL6i5u3793NXXS4qvuv80oRQeBF+6/dRFrJAiH4j8DEvDZ9Y75vzWHFEZKOPk/isUhlsMz7z9kCA/sA4fiv3qWb89s/ug/uQ0zWa3N17/za8lB0+fzP7//q0bHw/Y/3XzCifC67L8=\",\"dtype\":\"float64\",\"shape\":[100]}},\"selected\":{\"id\":\"1409\",\"type\":\"Selection\"},\"selection_policy\":{\"id\":\"1410\",\"type\":\"UnionRenderers\"}},\"id\":\"1370\",\"type\":\"ColumnDataSource\"},{\"attributes\":{\"callback\":null},\"id\":\"1337\",\"type\":\"DataRange1d\"},{\"attributes\":{},\"id\":\"1351\",\"type\":\"BasicTicker\"},{\"attributes\":{},\"id\":\"1346\",\"type\":\"BasicTicker\"},{\"attributes\":{},\"id\":\"1355\",\"type\":\"PanTool\"},{\"attributes\":{\"data_source\":{\"id\":\"1370\",\"type\":\"ColumnDataSource\"},\"glyph\":{\"id\":\"1371\",\"type\":\"Circle\"},\"hover_glyph\":null,\"muted_glyph\":null,\"nonselection_glyph\":{\"id\":\"1372\",\"type\":\"Circle\"},\"selection_glyph\":null,\"view\":{\"id\":\"1374\",\"type\":\"CDSView\"}},\"id\":\"1373\",\"type\":\"GlyphRenderer\"},{\"attributes\":{\"fill_alpha\":{\"value\":0.1},\"fill_color\":{\"value\":\"#1f77b4\"},\"line_alpha\":{\"value\":0.1},\"line_color\":{\"value\":\"#1f77b4\"},\"x\":{\"field\":\"x\"},\"y\":{\"field\":\"y\"}},\"id\":\"1372\",\"type\":\"Circle\"},{\"attributes\":{},\"id\":\"1407\",\"type\":\"BasicTickFormatter\"},{\"attributes\":{\"dimension\":1,\"plot\":{\"id\":\"1336\",\"subtype\":\"Figure\",\"type\":\"Plot\"},\"ticker\":{\"id\":\"1351\",\"type\":\"BasicTicker\"}},\"id\":\"1354\",\"type\":\"Grid\"},{\"attributes\":{},\"id\":\"1358\",\"type\":\"SaveTool\"},{\"attributes\":{\"overlay\":{\"id\":\"1363\",\"type\":\"BoxAnnotation\"}},\"id\":\"1357\",\"type\":\"BoxZoomTool\"},{\"attributes\":{},\"id\":\"1356\",\"type\":\"WheelZoomTool\"},{\"attributes\":{},\"id\":\"1359\",\"type\":\"ResetTool\"},{\"attributes\":{\"source\":{\"id\":\"1370\",\"type\":\"ColumnDataSource\"}},\"id\":\"1374\",\"type\":\"CDSView\"},{\"attributes\":{},\"id\":\"1405\",\"type\":\"BasicTickFormatter\"},{\"attributes\":{\"bottom_units\":\"screen\",\"fill_alpha\":{\"value\":0.5},\"fill_color\":{\"value\":\"lightgrey\"},\"left_units\":\"screen\",\"level\":\"overlay\",\"line_alpha\":{\"value\":1.0},\"line_color\":{\"value\":\"black\"},\"line_dash\":[4,4],\"line_width\":{\"value\":2},\"plot\":null,\"render_mode\":\"css\",\"right_units\":\"screen\",\"top_units\":\"screen\"},\"id\":\"1363\",\"type\":\"BoxAnnotation\"},{\"attributes\":{},\"id\":\"1360\",\"type\":\"HelpTool\"},{\"attributes\":{},\"id\":\"1409\",\"type\":\"Selection\"}],\"root_ids\":[\"1336\"]},\"title\":\"Bokeh Application\",\"version\":\"1.0.4\"}};\n",
       "  var render_items = [{\"docid\":\"49c85c52-351c-4517-8e4b-557f34e098cd\",\"roots\":{\"1336\":\"78af3cd4-fd1d-4589-ae27-7eb7b9427048\"}}];\n",
       "  root.Bokeh.embed.embed_items_notebook(docs_json, render_items);\n",
       "\n",
       "  }\n",
       "  if (root.Bokeh !== undefined) {\n",
       "    embed_document(root);\n",
       "  } else {\n",
       "    var attempts = 0;\n",
       "    var timer = setInterval(function(root) {\n",
       "      if (root.Bokeh !== undefined) {\n",
       "        embed_document(root);\n",
       "        clearInterval(timer);\n",
       "      }\n",
       "      attempts++;\n",
       "      if (attempts > 100) {\n",
       "        console.log(\"Bokeh: ERROR: Unable to run BokehJS code because BokehJS library is missing\");\n",
       "        clearInterval(timer);\n",
       "      }\n",
       "    }, 10, root)\n",
       "  }\n",
       "})(window);"
      ],
      "application/vnd.bokehjs_exec.v0+json": ""
     },
     "metadata": {
      "application/vnd.bokehjs_exec.v0+json": {
       "id": "1336"
      }
     },
     "output_type": "display_data"
    }
   ],
   "source": [
    "# 工具栏 tools\n",
    "# （1）设置位置\n",
    "\n",
    "p = figure(plot_width=300, plot_height=300,\n",
    "           toolbar_location=\"below\",\n",
    "           toolbar_sticky=False)\n",
    "# 工具栏位置设置为\"below\"时，可增加toolbar_sticky参数使得toolsbar不被遮挡\n",
    "p.circle(np.random.randn(100),np.random.randn(100))\n",
    "show(p)"
   ]
  },
  {
   "cell_type": "code",
   "execution_count": 9,
   "metadata": {},
   "outputs": [
    {
     "data": {
      "text/html": [
       "\n",
       "\n",
       "\n",
       "\n",
       "\n",
       "\n",
       "  <div class=\"bk-root\" id=\"89023369-5aa0-449f-9c90-fa908dbcc9d2\" data-root-id=\"1621\"></div>\n"
      ]
     },
     "metadata": {},
     "output_type": "display_data"
    },
    {
     "data": {
      "application/javascript": [
       "(function(root) {\n",
       "  function embed_document(root) {\n",
       "    \n",
       "  var docs_json = {\"1ba2a8c2-17a7-4d40-a8df-fb31de4f7372\":{\"roots\":{\"references\":[{\"attributes\":{\"below\":[{\"id\":\"1630\",\"type\":\"LinearAxis\"}],\"left\":[{\"id\":\"1635\",\"type\":\"LinearAxis\"}],\"plot_height\":400,\"plot_width\":800,\"renderers\":[{\"id\":\"1630\",\"type\":\"LinearAxis\"},{\"id\":\"1634\",\"type\":\"Grid\"},{\"id\":\"1635\",\"type\":\"LinearAxis\"},{\"id\":\"1639\",\"type\":\"Grid\"},{\"id\":\"1658\",\"type\":\"BoxAnnotation\"},{\"id\":\"1676\",\"type\":\"GlyphRenderer\"}],\"title\":{\"id\":\"1723\",\"type\":\"Title\"},\"toolbar\":{\"id\":\"1655\",\"type\":\"Toolbar\"},\"toolbar_location\":\"above\",\"x_range\":{\"id\":\"1622\",\"type\":\"DataRange1d\"},\"x_scale\":{\"id\":\"1626\",\"type\":\"LinearScale\"},\"y_range\":{\"id\":\"1624\",\"type\":\"DataRange1d\"},\"y_scale\":{\"id\":\"1628\",\"type\":\"LinearScale\"}},\"id\":\"1621\",\"subtype\":\"Figure\",\"type\":\"Plot\"},{\"attributes\":{},\"id\":\"1653\",\"type\":\"SaveTool\"},{\"attributes\":{\"dimension\":1,\"plot\":{\"id\":\"1621\",\"subtype\":\"Figure\",\"type\":\"Plot\"},\"ticker\":{\"id\":\"1636\",\"type\":\"BasicTicker\"}},\"id\":\"1639\",\"type\":\"Grid\"},{\"attributes\":{},\"id\":\"1644\",\"type\":\"WheelZoomTool\"},{\"attributes\":{},\"id\":\"1728\",\"type\":\"BasicTickFormatter\"},{\"attributes\":{},\"id\":\"1654\",\"type\":\"ResetTool\"},{\"attributes\":{},\"id\":\"1650\",\"type\":\"ZoomOutTool\"},{\"attributes\":{},\"id\":\"1731\",\"type\":\"UnionRenderers\"},{\"attributes\":{\"fill_alpha\":{\"value\":0.1},\"fill_color\":{\"value\":\"#1f77b4\"},\"line_alpha\":{\"value\":0.1},\"line_color\":{\"value\":\"#1f77b4\"},\"x\":{\"field\":\"x\"},\"y\":{\"field\":\"y\"}},\"id\":\"1675\",\"type\":\"Circle\"},{\"attributes\":{\"dimensions\":\"height\"},\"id\":\"1652\",\"type\":\"ZoomOutTool\"},{\"attributes\":{\"dimensions\":\"width\"},\"id\":\"1651\",\"type\":\"ZoomOutTool\"},{\"attributes\":{},\"id\":\"1628\",\"type\":\"LinearScale\"},{\"attributes\":{\"dimensions\":\"width\"},\"id\":\"1648\",\"type\":\"ZoomInTool\"},{\"attributes\":{},\"id\":\"1647\",\"type\":\"ZoomInTool\"},{\"attributes\":{\"fill_color\":{\"value\":\"#1f77b4\"},\"line_color\":{\"value\":\"#1f77b4\"},\"x\":{\"field\":\"x\"},\"y\":{\"field\":\"y\"}},\"id\":\"1674\",\"type\":\"Circle\"},{\"attributes\":{\"dimensions\":\"height\"},\"id\":\"1649\",\"type\":\"ZoomInTool\"},{\"attributes\":{\"dimensions\":\"height\"},\"id\":\"1646\",\"type\":\"WheelZoomTool\"},{\"attributes\":{\"callback\":null},\"id\":\"1622\",\"type\":\"DataRange1d\"},{\"attributes\":{\"dimensions\":\"height\"},\"id\":\"1642\",\"type\":\"PanTool\"},{\"attributes\":{\"callback\":null},\"id\":\"1624\",\"type\":\"DataRange1d\"},{\"attributes\":{\"dimensions\":\"width\"},\"id\":\"1641\",\"type\":\"PanTool\"},{\"attributes\":{},\"id\":\"1626\",\"type\":\"LinearScale\"},{\"attributes\":{},\"id\":\"1640\",\"type\":\"PanTool\"},{\"attributes\":{},\"id\":\"1636\",\"type\":\"BasicTicker\"},{\"attributes\":{\"active_drag\":\"auto\",\"active_inspect\":\"auto\",\"active_multi\":null,\"active_scroll\":\"auto\",\"active_tap\":\"auto\",\"tools\":[{\"id\":\"1640\",\"type\":\"PanTool\"},{\"id\":\"1641\",\"type\":\"PanTool\"},{\"id\":\"1642\",\"type\":\"PanTool\"},{\"id\":\"1643\",\"type\":\"BoxZoomTool\"},{\"id\":\"1644\",\"type\":\"WheelZoomTool\"},{\"id\":\"1645\",\"type\":\"WheelZoomTool\"},{\"id\":\"1646\",\"type\":\"WheelZoomTool\"},{\"id\":\"1647\",\"type\":\"ZoomInTool\"},{\"id\":\"1648\",\"type\":\"ZoomInTool\"},{\"id\":\"1649\",\"type\":\"ZoomInTool\"},{\"id\":\"1650\",\"type\":\"ZoomOutTool\"},{\"id\":\"1651\",\"type\":\"ZoomOutTool\"},{\"id\":\"1652\",\"type\":\"ZoomOutTool\"},{\"id\":\"1653\",\"type\":\"SaveTool\"},{\"id\":\"1654\",\"type\":\"ResetTool\"}]},\"id\":\"1655\",\"type\":\"Toolbar\"},{\"attributes\":{\"dimensions\":\"width\"},\"id\":\"1645\",\"type\":\"WheelZoomTool\"},{\"attributes\":{\"bottom_units\":\"screen\",\"fill_alpha\":{\"value\":0.5},\"fill_color\":{\"value\":\"lightgrey\"},\"left_units\":\"screen\",\"level\":\"overlay\",\"line_alpha\":{\"value\":1.0},\"line_color\":{\"value\":\"black\"},\"line_dash\":[4,4],\"line_width\":{\"value\":2},\"plot\":null,\"render_mode\":\"css\",\"right_units\":\"screen\",\"top_units\":\"screen\"},\"id\":\"1658\",\"type\":\"BoxAnnotation\"},{\"attributes\":{},\"id\":\"1730\",\"type\":\"Selection\"},{\"attributes\":{\"formatter\":{\"id\":\"1728\",\"type\":\"BasicTickFormatter\"},\"plot\":{\"id\":\"1621\",\"subtype\":\"Figure\",\"type\":\"Plot\"},\"ticker\":{\"id\":\"1636\",\"type\":\"BasicTicker\"}},\"id\":\"1635\",\"type\":\"LinearAxis\"},{\"attributes\":{\"source\":{\"id\":\"1673\",\"type\":\"ColumnDataSource\"}},\"id\":\"1677\",\"type\":\"CDSView\"},{\"attributes\":{},\"id\":\"1631\",\"type\":\"BasicTicker\"},{\"attributes\":{\"overlay\":{\"id\":\"1658\",\"type\":\"BoxAnnotation\"}},\"id\":\"1643\",\"type\":\"BoxZoomTool\"},{\"attributes\":{\"plot\":null,\"text\":\"\"},\"id\":\"1723\",\"type\":\"Title\"},{\"attributes\":{\"data_source\":{\"id\":\"1673\",\"type\":\"ColumnDataSource\"},\"glyph\":{\"id\":\"1674\",\"type\":\"Circle\"},\"hover_glyph\":null,\"muted_glyph\":null,\"nonselection_glyph\":{\"id\":\"1675\",\"type\":\"Circle\"},\"selection_glyph\":null,\"view\":{\"id\":\"1677\",\"type\":\"CDSView\"}},\"id\":\"1676\",\"type\":\"GlyphRenderer\"},{\"attributes\":{\"callback\":null,\"data\":{\"x\":{\"__ndarray__\":\"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\",\"dtype\":\"float64\",\"shape\":[500]},\"y\":{\"__ndarray__\":\"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\",\"dtype\":\"float64\",\"shape\":[500]}},\"selected\":{\"id\":\"1730\",\"type\":\"Selection\"},\"selection_policy\":{\"id\":\"1731\",\"type\":\"UnionRenderers\"}},\"id\":\"1673\",\"type\":\"ColumnDataSource\"},{\"attributes\":{\"formatter\":{\"id\":\"1726\",\"type\":\"BasicTickFormatter\"},\"plot\":{\"id\":\"1621\",\"subtype\":\"Figure\",\"type\":\"Plot\"},\"ticker\":{\"id\":\"1631\",\"type\":\"BasicTicker\"}},\"id\":\"1630\",\"type\":\"LinearAxis\"},{\"attributes\":{},\"id\":\"1726\",\"type\":\"BasicTickFormatter\"},{\"attributes\":{\"plot\":{\"id\":\"1621\",\"subtype\":\"Figure\",\"type\":\"Plot\"},\"ticker\":{\"id\":\"1631\",\"type\":\"BasicTicker\"}},\"id\":\"1634\",\"type\":\"Grid\"}],\"root_ids\":[\"1621\"]},\"title\":\"Bokeh Application\",\"version\":\"1.0.4\"}};\n",
       "  var render_items = [{\"docid\":\"1ba2a8c2-17a7-4d40-a8df-fb31de4f7372\",\"roots\":{\"1621\":\"89023369-5aa0-449f-9c90-fa908dbcc9d2\"}}];\n",
       "  root.Bokeh.embed.embed_items_notebook(docs_json, render_items);\n",
       "\n",
       "  }\n",
       "  if (root.Bokeh !== undefined) {\n",
       "    embed_document(root);\n",
       "  } else {\n",
       "    var attempts = 0;\n",
       "    var timer = setInterval(function(root) {\n",
       "      if (root.Bokeh !== undefined) {\n",
       "        embed_document(root);\n",
       "        clearInterval(timer);\n",
       "      }\n",
       "      attempts++;\n",
       "      if (attempts > 100) {\n",
       "        console.log(\"Bokeh: ERROR: Unable to run BokehJS code because BokehJS library is missing\");\n",
       "        clearInterval(timer);\n",
       "      }\n",
       "    }, 10, root)\n",
       "  }\n",
       "})(window);"
      ],
      "application/vnd.bokehjs_exec.v0+json": ""
     },
     "metadata": {
      "application/vnd.bokehjs_exec.v0+json": {
       "id": "1621"
      }
     },
     "output_type": "display_data"
    }
   ],
   "source": [
    "# 工具栏 tools\n",
    "# （2）移动、放大缩小、存储、刷新\n",
    "\n",
    "TOOLS = '''\n",
    "        pan, xpan, ypan,             \n",
    "        box_zoom,\n",
    "        wheel_zoom, xwheel_zoom, ywheel_zoom,   \n",
    "        zoom_in, xzoom_in, yzoom_in,\n",
    "        zoom_out, xzoom_out, yzoom_out,\n",
    "        save,reset\n",
    "        '''\n",
    "\n",
    "p = figure(plot_width=800, plot_height=400,toolbar_location=\"above\",\n",
    "           tools = TOOLS)\n",
    "# 添加toolbar\n",
    "# 这里tools = '' 则不显示toolbar\n",
    "\n",
    "p.circle(np.random.randn(500),np.random.randn(500))\n",
    "show(p)"
   ]
  },
  {
   "cell_type": "code",
   "execution_count": 15,
   "metadata": {},
   "outputs": [
    {
     "data": {
      "text/html": [
       "\n",
       "\n",
       "\n",
       "\n",
       "\n",
       "\n",
       "  <div class=\"bk-root\" id=\"c6a803f5-fff0-45cf-b19c-9bb6e541d63f\" data-root-id=\"3037\"></div>\n"
      ]
     },
     "metadata": {},
     "output_type": "display_data"
    },
    {
     "data": {
      "application/javascript": [
       "(function(root) {\n",
       "  function embed_document(root) {\n",
       "    \n",
       "  var docs_json = {\"1089f0a0-bf8f-43a0-a34b-a6bc244d0f04\":{\"roots\":{\"references\":[{\"attributes\":{\"children\":[{\"id\":\"3036\",\"type\":\"ToolbarBox\"},{\"id\":\"3034\",\"type\":\"Column\"}]},\"id\":\"3037\",\"type\":\"Column\"},{\"attributes\":{\"source\":{\"id\":\"2940\",\"type\":\"ColumnDataSource\"}},\"id\":\"3005\",\"type\":\"CDSView\"},{\"attributes\":{\"callback\":null},\"id\":\"2972\",\"type\":\"DataRange1d\"},{\"attributes\":{},\"id\":\"3020\",\"type\":\"UnionRenderers\"},{\"attributes\":{\"active_drag\":\"auto\",\"active_inspect\":\"auto\",\"active_multi\":null,\"active_scroll\":\"auto\",\"active_tap\":\"auto\",\"tools\":[{\"id\":\"2960\",\"type\":\"BoxSelectTool\"},{\"id\":\"2961\",\"type\":\"LassoSelectTool\"},{\"id\":\"2962\",\"type\":\"ResetTool\"}]},\"id\":\"2965\",\"type\":\"Toolbar\"},{\"attributes\":{\"plot\":null,\"text\":\"\"},\"id\":\"3022\",\"type\":\"Title\"},{\"attributes\":{},\"id\":\"2976\",\"type\":\"LinearScale\"},{\"attributes\":{\"fill_alpha\":{\"value\":0.5},\"fill_color\":{\"value\":\"lightgrey\"},\"level\":\"overlay\",\"line_alpha\":{\"value\":1.0},\"line_color\":{\"value\":\"black\"},\"line_dash\":[4,4],\"line_width\":{\"value\":2},\"plot\":null,\"xs_units\":\"screen\",\"ys_units\":\"screen\"},\"id\":\"2996\",\"type\":\"PolyAnnotation\"},{\"attributes\":{\"fill_alpha\":{\"value\":0.5},\"fill_color\":{\"value\":\"lightgrey\"},\"level\":\"overlay\",\"line_alpha\":{\"value\":1.0},\"line_color\":{\"value\":\"black\"},\"line_dash\":[4,4],\"line_width\":{\"value\":2},\"plot\":null,\"xs_units\":\"screen\",\"ys_units\":\"screen\"},\"id\":\"2966\",\"type\":\"PolyAnnotation\"},{\"attributes\":{\"toolbar\":{\"id\":\"3035\",\"type\":\"ProxyToolbar\"},\"toolbar_location\":\"above\"},\"id\":\"3036\",\"type\":\"ToolbarBox\"},{\"attributes\":{},\"id\":\"2962\",\"type\":\"ResetTool\"},{\"attributes\":{},\"id\":\"3027\",\"type\":\"BasicTickFormatter\"},{\"attributes\":{},\"id\":\"2946\",\"type\":\"LinearScale\"},{\"attributes\":{\"fill_alpha\":{\"value\":0.1},\"fill_color\":{\"value\":\"#1f77b4\"},\"line_alpha\":{\"value\":0.1},\"line_color\":{\"value\":\"#1f77b4\"},\"x\":{\"field\":\"index\"},\"y\":{\"field\":\"A\"}},\"id\":\"3003\",\"type\":\"Circle\"},{\"attributes\":{},\"id\":\"2956\",\"type\":\"BasicTicker\"},{\"attributes\":{\"line_alpha\":0.1,\"line_color\":\"#1f77b4\",\"x\":{\"field\":\"index\"},\"y\":{\"field\":\"A\"}},\"id\":\"3008\",\"type\":\"Line\"},{\"attributes\":{},\"id\":\"2992\",\"type\":\"ResetTool\"},{\"attributes\":{\"callback\":null,\"overlay\":{\"id\":\"2996\",\"type\":\"PolyAnnotation\"}},\"id\":\"2991\",\"type\":\"LassoSelectTool\"},{\"attributes\":{},\"id\":\"3016\",\"type\":\"BasicTickFormatter\"},{\"attributes\":{\"formatter\":{\"id\":\"3014\",\"type\":\"BasicTickFormatter\"},\"plot\":{\"id\":\"2941\",\"subtype\":\"Figure\",\"type\":\"Plot\"},\"ticker\":{\"id\":\"2951\",\"type\":\"BasicTicker\"}},\"id\":\"2950\",\"type\":\"LinearAxis\"},{\"attributes\":{\"active_drag\":\"auto\",\"active_inspect\":\"auto\",\"active_multi\":null,\"active_scroll\":\"auto\",\"active_tap\":\"auto\",\"tools\":[{\"id\":\"2990\",\"type\":\"BoxSelectTool\"},{\"id\":\"2991\",\"type\":\"LassoSelectTool\"},{\"id\":\"2992\",\"type\":\"ResetTool\"}]},\"id\":\"2995\",\"type\":\"Toolbar\"},{\"attributes\":{\"bottom_units\":\"screen\",\"fill_alpha\":{\"value\":0.5},\"fill_color\":{\"value\":\"lightgrey\"},\"left_units\":\"screen\",\"level\":\"overlay\",\"line_alpha\":{\"value\":1.0},\"line_color\":{\"value\":\"black\"},\"line_dash\":[4,4],\"line_width\":{\"value\":2},\"plot\":null,\"render_mode\":\"css\",\"right_units\":\"screen\",\"top_units\":\"screen\"},\"id\":\"2963\",\"type\":\"BoxAnnotation\"},{\"attributes\":{},\"id\":\"2978\",\"type\":\"LinearScale\"},{\"attributes\":{},\"id\":\"2948\",\"type\":\"LinearScale\"},{\"attributes\":{\"callback\":null,\"overlay\":{\"id\":\"2963\",\"type\":\"BoxAnnotation\"}},\"id\":\"2960\",\"type\":\"BoxSelectTool\"},{\"attributes\":{\"formatter\":{\"id\":\"3025\",\"type\":\"BasicTickFormatter\"},\"plot\":{\"id\":\"2971\",\"subtype\":\"Figure\",\"type\":\"Plot\"},\"ticker\":{\"id\":\"2981\",\"type\":\"BasicTicker\"}},\"id\":\"2980\",\"type\":\"LinearAxis\"},{\"attributes\":{\"callback\":null,\"data\":{\"A\":{\"__ndarray__\":\"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\",\"dtype\":\"float64\",\"shape\":[500]},\"B\":{\"__ndarray__\":\"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\",\"dtype\":\"float64\",\"shape\":[500]},\"index\":[0,1,2,3,4,5,6,7,8,9,10,11,12,13,14,15,16,17,18,19,20,21,22,23,24,25,26,27,28,29,30,31,32,33,34,35,36,37,38,39,40,41,42,43,44,45,46,47,48,49,50,51,52,53,54,55,56,57,58,59,60,61,62,63,64,65,66,67,68,69,70,71,72,73,74,75,76,77,78,79,80,81,82,83,84,85,86,87,88,89,90,91,92,93,94,95,96,97,98,99,100,101,102,103,104,105,106,107,108,109,110,111,112,113,114,115,116,117,118,119,120,121,122,123,124,125,126,127,128,129,130,131,132,133,134,135,136,137,138,139,140,141,142,143,144,145,146,147,148,149,150,151,152,153,154,155,156,157,158,159,160,161,162,163,164,165,166,167,168,169,170,171,172,173,174,175,176,177,178,179,180,181,182,183,184,185,186,187,188,189,190,191,192,193,194,195,196,197,198,199,200,201,202,203,204,205,206,207,208,209,210,211,212,213,214,215,216,217,218,219,220,221,222,223,224,225,226,227,228,229,230,231,232,233,234,235,236,237,238,239,240,241,242,243,244,245,246,247,248,249,250,251,252,253,254,255,256,257,258,259,260,261,262,263,264,265,266,267,268,269,270,271,272,273,274,275,276,277,278,279,280,281,282,283,284,285,286,287,288,289,290,291,292,293,294,295,296,297,298,299,300,301,302,303,304,305,306,307,308,309,310,311,312,313,314,315,316,317,318,319,320,321,322,323,324,325,326,327,328,329,330,331,332,333,334,335,336,337,338,339,340,341,342,343,344,345,346,347,348,349,350,351,352,353,354,355,356,357,358,359,360,361,362,363,364,365,366,367,368,369,370,371,372,373,374,375,376,377,378,379,380,381,382,383,384,385,386,387,388,389,390,391,392,393,394,395,396,397,398,399,400,401,402,403,404,405,406,407,408,409,410,411,412,413,414,415,416,417,418,419,420,421,422,423,424,425,426,427,428,429,430,431,432,433,434,435,436,437,438,439,440,441,442,443,444,445,446,447,448,449,450,451,452,453,454,455,456,457,458,459,460,461,462,463,464,465,466,467,468,469,470,471,472,473,474,475,476,477,478,479,480,481,482,483,484,485,486,487,488,489,490,491,492,493,494,495,496,497,498,499]},\"selected\":{\"id\":\"3019\",\"type\":\"Selection\"},\"selection_policy\":{\"id\":\"3020\",\"type\":\"UnionRenderers\"}},\"id\":\"2940\",\"type\":\"ColumnDataSource\"},{\"attributes\":{},\"id\":\"2981\",\"type\":\"BasicTicker\"},{\"attributes\":{\"callback\":null},\"id\":\"2974\",\"type\":\"DataRange1d\"},{\"attributes\":{\"callback\":null,\"overlay\":{\"id\":\"2966\",\"type\":\"PolyAnnotation\"}},\"id\":\"2961\",\"type\":\"LassoSelectTool\"},{\"attributes\":{\"plot\":{\"id\":\"2971\",\"subtype\":\"Figure\",\"type\":\"Plot\"},\"ticker\":{\"id\":\"2981\",\"type\":\"BasicTicker\"}},\"id\":\"2984\",\"type\":\"Grid\"},{\"attributes\":{\"below\":[{\"id\":\"2980\",\"type\":\"LinearAxis\"}],\"left\":[{\"id\":\"2985\",\"type\":\"LinearAxis\"}],\"plot_height\":400,\"plot_width\":400,\"renderers\":[{\"id\":\"2980\",\"type\":\"LinearAxis\"},{\"id\":\"2984\",\"type\":\"Grid\"},{\"id\":\"2985\",\"type\":\"LinearAxis\"},{\"id\":\"2989\",\"type\":\"Grid\"},{\"id\":\"2993\",\"type\":\"BoxAnnotation\"},{\"id\":\"2996\",\"type\":\"PolyAnnotation\"},{\"id\":\"3009\",\"type\":\"GlyphRenderer\"}],\"title\":{\"id\":\"3022\",\"type\":\"Title\"},\"toolbar\":{\"id\":\"2995\",\"type\":\"Toolbar\"},\"toolbar_location\":null,\"x_range\":{\"id\":\"2972\",\"type\":\"DataRange1d\"},\"x_scale\":{\"id\":\"2976\",\"type\":\"LinearScale\"},\"y_range\":{\"id\":\"2974\",\"type\":\"DataRange1d\"},\"y_scale\":{\"id\":\"2978\",\"type\":\"LinearScale\"}},\"id\":\"2971\",\"subtype\":\"Figure\",\"type\":\"Plot\"},{\"attributes\":{\"dimension\":1,\"plot\":{\"id\":\"2941\",\"subtype\":\"Figure\",\"type\":\"Plot\"},\"ticker\":{\"id\":\"2956\",\"type\":\"BasicTicker\"}},\"id\":\"2959\",\"type\":\"Grid\"},{\"attributes\":{},\"id\":\"3019\",\"type\":\"Selection\"},{\"attributes\":{\"data_source\":{\"id\":\"2940\",\"type\":\"ColumnDataSource\"},\"glyph\":{\"id\":\"3002\",\"type\":\"Circle\"},\"hover_glyph\":null,\"muted_glyph\":null,\"nonselection_glyph\":{\"id\":\"3003\",\"type\":\"Circle\"},\"selection_glyph\":null,\"view\":{\"id\":\"3005\",\"type\":\"CDSView\"}},\"id\":\"3004\",\"type\":\"GlyphRenderer\"},{\"attributes\":{\"formatter\":{\"id\":\"3027\",\"type\":\"BasicTickFormatter\"},\"plot\":{\"id\":\"2971\",\"subtype\":\"Figure\",\"type\":\"Plot\"},\"ticker\":{\"id\":\"2986\",\"type\":\"BasicTicker\"}},\"id\":\"2985\",\"type\":\"LinearAxis\"},{\"attributes\":{},\"id\":\"2951\",\"type\":\"BasicTicker\"},{\"attributes\":{},\"id\":\"3014\",\"type\":\"BasicTickFormatter\"},{\"attributes\":{},\"id\":\"2986\",\"type\":\"BasicTicker\"},{\"attributes\":{\"below\":[{\"id\":\"2950\",\"type\":\"LinearAxis\"}],\"left\":[{\"id\":\"2955\",\"type\":\"LinearAxis\"}],\"plot_height\":400,\"plot_width\":400,\"renderers\":[{\"id\":\"2950\",\"type\":\"LinearAxis\"},{\"id\":\"2954\",\"type\":\"Grid\"},{\"id\":\"2955\",\"type\":\"LinearAxis\"},{\"id\":\"2959\",\"type\":\"Grid\"},{\"id\":\"2963\",\"type\":\"BoxAnnotation\"},{\"id\":\"2966\",\"type\":\"PolyAnnotation\"},{\"id\":\"3004\",\"type\":\"GlyphRenderer\"}],\"title\":{\"id\":\"3011\",\"type\":\"Title\"},\"toolbar\":{\"id\":\"2965\",\"type\":\"Toolbar\"},\"toolbar_location\":null,\"x_range\":{\"id\":\"2942\",\"type\":\"DataRange1d\"},\"x_scale\":{\"id\":\"2946\",\"type\":\"LinearScale\"},\"y_range\":{\"id\":\"2944\",\"type\":\"DataRange1d\"},\"y_scale\":{\"id\":\"2948\",\"type\":\"LinearScale\"}},\"id\":\"2941\",\"subtype\":\"Figure\",\"type\":\"Plot\"},{\"attributes\":{},\"id\":\"3025\",\"type\":\"BasicTickFormatter\"},{\"attributes\":{\"callback\":null},\"id\":\"2942\",\"type\":\"DataRange1d\"},{\"attributes\":{\"dimension\":1,\"plot\":{\"id\":\"2971\",\"subtype\":\"Figure\",\"type\":\"Plot\"},\"ticker\":{\"id\":\"2986\",\"type\":\"BasicTicker\"}},\"id\":\"2989\",\"type\":\"Grid\"},{\"attributes\":{\"plot\":{\"id\":\"2941\",\"subtype\":\"Figure\",\"type\":\"Plot\"},\"ticker\":{\"id\":\"2951\",\"type\":\"BasicTicker\"}},\"id\":\"2954\",\"type\":\"Grid\"},{\"attributes\":{\"plot\":null,\"text\":\"\"},\"id\":\"3011\",\"type\":\"Title\"},{\"attributes\":{\"fill_color\":{\"value\":\"#1f77b4\"},\"line_color\":{\"value\":\"#1f77b4\"},\"x\":{\"field\":\"index\"},\"y\":{\"field\":\"A\"}},\"id\":\"3002\",\"type\":\"Circle\"},{\"attributes\":{\"tools\":[{\"id\":\"2960\",\"type\":\"BoxSelectTool\"},{\"id\":\"2961\",\"type\":\"LassoSelectTool\"},{\"id\":\"2962\",\"type\":\"ResetTool\"},{\"id\":\"2990\",\"type\":\"BoxSelectTool\"},{\"id\":\"2991\",\"type\":\"LassoSelectTool\"},{\"id\":\"2992\",\"type\":\"ResetTool\"}]},\"id\":\"3035\",\"type\":\"ProxyToolbar\"},{\"attributes\":{\"formatter\":{\"id\":\"3016\",\"type\":\"BasicTickFormatter\"},\"plot\":{\"id\":\"2941\",\"subtype\":\"Figure\",\"type\":\"Plot\"},\"ticker\":{\"id\":\"2956\",\"type\":\"BasicTicker\"}},\"id\":\"2955\",\"type\":\"LinearAxis\"},{\"attributes\":{\"data_source\":{\"id\":\"2940\",\"type\":\"ColumnDataSource\"},\"glyph\":{\"id\":\"3007\",\"type\":\"Line\"},\"hover_glyph\":null,\"muted_glyph\":null,\"nonselection_glyph\":{\"id\":\"3008\",\"type\":\"Line\"},\"selection_glyph\":null,\"view\":{\"id\":\"3010\",\"type\":\"CDSView\"}},\"id\":\"3009\",\"type\":\"GlyphRenderer\"},{\"attributes\":{\"callback\":null},\"id\":\"2944\",\"type\":\"DataRange1d\"},{\"attributes\":{\"source\":{\"id\":\"2940\",\"type\":\"ColumnDataSource\"}},\"id\":\"3010\",\"type\":\"CDSView\"},{\"attributes\":{\"children\":[{\"id\":\"3033\",\"type\":\"Row\"}]},\"id\":\"3034\",\"type\":\"Column\"},{\"attributes\":{\"bottom_units\":\"screen\",\"fill_alpha\":{\"value\":0.5},\"fill_color\":{\"value\":\"lightgrey\"},\"left_units\":\"screen\",\"level\":\"overlay\",\"line_alpha\":{\"value\":1.0},\"line_color\":{\"value\":\"black\"},\"line_dash\":[4,4],\"line_width\":{\"value\":2},\"plot\":null,\"render_mode\":\"css\",\"right_units\":\"screen\",\"top_units\":\"screen\"},\"id\":\"2993\",\"type\":\"BoxAnnotation\"},{\"attributes\":{\"line_color\":\"#1f77b4\",\"x\":{\"field\":\"index\"},\"y\":{\"field\":\"A\"}},\"id\":\"3007\",\"type\":\"Line\"},{\"attributes\":{\"callback\":null,\"overlay\":{\"id\":\"2993\",\"type\":\"BoxAnnotation\"}},\"id\":\"2990\",\"type\":\"BoxSelectTool\"},{\"attributes\":{\"children\":[{\"id\":\"2941\",\"subtype\":\"Figure\",\"type\":\"Plot\"},{\"id\":\"2971\",\"subtype\":\"Figure\",\"type\":\"Plot\"}]},\"id\":\"3033\",\"type\":\"Row\"}],\"root_ids\":[\"3037\"]},\"title\":\"Bokeh Application\",\"version\":\"1.0.4\"}};\n",
       "  var render_items = [{\"docid\":\"1089f0a0-bf8f-43a0-a34b-a6bc244d0f04\",\"roots\":{\"3037\":\"c6a803f5-fff0-45cf-b19c-9bb6e541d63f\"}}];\n",
       "  root.Bokeh.embed.embed_items_notebook(docs_json, render_items);\n",
       "\n",
       "  }\n",
       "  if (root.Bokeh !== undefined) {\n",
       "    embed_document(root);\n",
       "  } else {\n",
       "    var attempts = 0;\n",
       "    var timer = setInterval(function(root) {\n",
       "      if (root.Bokeh !== undefined) {\n",
       "        embed_document(root);\n",
       "        clearInterval(timer);\n",
       "      }\n",
       "      attempts++;\n",
       "      if (attempts > 100) {\n",
       "        console.log(\"Bokeh: ERROR: Unable to run BokehJS code because BokehJS library is missing\");\n",
       "        clearInterval(timer);\n",
       "      }\n",
       "    }, 10, root)\n",
       "  }\n",
       "})(window);"
      ],
      "application/vnd.bokehjs_exec.v0+json": ""
     },
     "metadata": {
      "application/vnd.bokehjs_exec.v0+json": {
       "id": "3037"
      }
     },
     "output_type": "display_data"
    }
   ],
   "source": [
    "# 工具栏 tools\n",
    "# （3）选择\n",
    "\n",
    "from bokeh.layouts import gridplot\n",
    "TOOLS = '''\n",
    "        box_select,lasso_select,\n",
    "        reset\n",
    "        '''\n",
    "df = pd.DataFrame(np.random.randn(500,2),columns = ['A','B'])\n",
    "source = ColumnDataSource(data = df)\n",
    "\n",
    "p1 = figure(plot_width=400, plot_height=400,toolbar_location=\"above\",\n",
    "           tools = TOOLS)\n",
    "# 添加toolbar\n",
    "\n",
    "p2 = figure(plot_width=400, plot_height=400,toolbar_location=\"above\",\n",
    "           tools = TOOLS)\n",
    "\n",
    "p1.circle(x='index',y = 'A',source = source)\n",
    "p2.line(x='index',y = 'A',source = source)\n",
    "s = gridplot([[p1,p2]])\n",
    "show(s)"
   ]
  },
  {
   "cell_type": "code",
   "execution_count": 16,
   "metadata": {},
   "outputs": [
    {
     "name": "stdout",
     "output_type": "stream",
     "text": [
      "                A           B    type   color\n",
      "index                                        \n",
      "0      140.095355  -21.184839  rabbit  yellow\n",
      "1       51.247501   42.232525    pooh  yellow\n",
      "2      -52.673973 -181.508154  piglet  yellow\n",
      "3     -232.691027 -182.178486    pooh   green\n",
      "4      -35.946471 -111.949370  rabbit    blue\n"
     ]
    },
    {
     "data": {
      "text/html": [
       "\n",
       "\n",
       "\n",
       "\n",
       "\n",
       "\n",
       "  <div class=\"bk-root\" id=\"3bedbb56-faff-4395-90f8-f623a371847a\" data-root-id=\"3286\"></div>\n"
      ]
     },
     "metadata": {},
     "output_type": "display_data"
    },
    {
     "data": {
      "application/javascript": [
       "(function(root) {\n",
       "  function embed_document(root) {\n",
       "    \n",
       "  var docs_json = {\"d1b577cd-1712-4387-8cdc-af00a3587063\":{\"roots\":{\"references\":[{\"attributes\":{\"below\":[{\"id\":\"3295\",\"type\":\"LinearAxis\"}],\"left\":[{\"id\":\"3300\",\"type\":\"LinearAxis\"}],\"plot_height\":400,\"plot_width\":800,\"renderers\":[{\"id\":\"3295\",\"type\":\"LinearAxis\"},{\"id\":\"3299\",\"type\":\"Grid\"},{\"id\":\"3300\",\"type\":\"LinearAxis\"},{\"id\":\"3304\",\"type\":\"Grid\"},{\"id\":\"3311\",\"type\":\"BoxAnnotation\"},{\"id\":\"3322\",\"type\":\"GlyphRenderer\"}],\"title\":{\"id\":\"3460\",\"type\":\"Title\"},\"toolbar\":{\"id\":\"3310\",\"type\":\"Toolbar\"},\"toolbar_location\":\"above\",\"x_range\":{\"id\":\"3287\",\"type\":\"DataRange1d\"},\"x_scale\":{\"id\":\"3291\",\"type\":\"LinearScale\"},\"y_range\":{\"id\":\"3289\",\"type\":\"DataRange1d\"},\"y_scale\":{\"id\":\"3293\",\"type\":\"LinearScale\"}},\"id\":\"3286\",\"subtype\":\"Figure\",\"type\":\"Plot\"},{\"attributes\":{},\"id\":\"3467\",\"type\":\"Selection\"},{\"attributes\":{},\"id\":\"3301\",\"type\":\"BasicTicker\"},{\"attributes\":{\"callback\":null},\"id\":\"3289\",\"type\":\"DataRange1d\"},{\"attributes\":{},\"id\":\"3468\",\"type\":\"UnionRenderers\"},{\"attributes\":{\"dimension\":1,\"plot\":{\"id\":\"3286\",\"subtype\":\"Figure\",\"type\":\"Plot\"},\"ticker\":{\"id\":\"3301\",\"type\":\"BasicTicker\"}},\"id\":\"3304\",\"type\":\"Grid\"},{\"attributes\":{\"fill_alpha\":{\"value\":0.3},\"fill_color\":{\"field\":\"color\"},\"line_alpha\":{\"value\":0.3},\"line_color\":{\"field\":\"color\"},\"size\":{\"units\":\"screen\",\"value\":10},\"x\":{\"field\":\"A\"},\"y\":{\"field\":\"B\"}},\"id\":\"3320\",\"type\":\"Circle\"},{\"attributes\":{\"callback\":null,\"overlay\":{\"id\":\"3311\",\"type\":\"BoxAnnotation\"}},\"id\":\"3305\",\"type\":\"BoxSelectTool\"},{\"attributes\":{},\"id\":\"3306\",\"type\":\"ResetTool\"},{\"attributes\":{\"fill_alpha\":{\"value\":0.1},\"fill_color\":{\"value\":\"#1f77b4\"},\"line_alpha\":{\"value\":0.1},\"line_color\":{\"value\":\"#1f77b4\"},\"size\":{\"units\":\"screen\",\"value\":10},\"x\":{\"field\":\"A\"},\"y\":{\"field\":\"B\"}},\"id\":\"3321\",\"type\":\"Circle\"},{\"attributes\":{},\"id\":\"3308\",\"type\":\"PanTool\"},{\"attributes\":{\"active_drag\":\"auto\",\"active_inspect\":\"auto\",\"active_multi\":null,\"active_scroll\":\"auto\",\"active_tap\":\"auto\",\"tools\":[{\"id\":\"3285\",\"type\":\"HoverTool\"},{\"id\":\"3305\",\"type\":\"BoxSelectTool\"},{\"id\":\"3306\",\"type\":\"ResetTool\"},{\"id\":\"3307\",\"type\":\"WheelZoomTool\"},{\"id\":\"3308\",\"type\":\"PanTool\"},{\"id\":\"3309\",\"type\":\"CrosshairTool\"}]},\"id\":\"3310\",\"type\":\"Toolbar\"},{\"attributes\":{},\"id\":\"3307\",\"type\":\"WheelZoomTool\"},{\"attributes\":{\"bottom_units\":\"screen\",\"fill_alpha\":{\"value\":0.5},\"fill_color\":{\"value\":\"lightgrey\"},\"left_units\":\"screen\",\"level\":\"overlay\",\"line_alpha\":{\"value\":1.0},\"line_color\":{\"value\":\"black\"},\"line_dash\":[4,4],\"line_width\":{\"value\":2},\"plot\":null,\"render_mode\":\"css\",\"right_units\":\"screen\",\"top_units\":\"screen\"},\"id\":\"3311\",\"type\":\"BoxAnnotation\"},{\"attributes\":{\"callback\":null},\"id\":\"3287\",\"type\":\"DataRange1d\"},{\"attributes\":{},\"id\":\"3293\",\"type\":\"LinearScale\"},{\"attributes\":{},\"id\":\"3309\",\"type\":\"CrosshairTool\"},{\"attributes\":{\"data_source\":{\"id\":\"3284\",\"type\":\"ColumnDataSource\"},\"glyph\":{\"id\":\"3320\",\"type\":\"Circle\"},\"hover_glyph\":null,\"muted_glyph\":null,\"nonselection_glyph\":{\"id\":\"3321\",\"type\":\"Circle\"},\"selection_glyph\":null,\"view\":{\"id\":\"3323\",\"type\":\"CDSView\"}},\"id\":\"3322\",\"type\":\"GlyphRenderer\"},{\"attributes\":{\"formatter\":{\"id\":\"3465\",\"type\":\"BasicTickFormatter\"},\"plot\":{\"id\":\"3286\",\"subtype\":\"Figure\",\"type\":\"Plot\"},\"ticker\":{\"id\":\"3301\",\"type\":\"BasicTicker\"}},\"id\":\"3300\",\"type\":\"LinearAxis\"},{\"attributes\":{\"plot\":{\"id\":\"3286\",\"subtype\":\"Figure\",\"type\":\"Plot\"},\"ticker\":{\"id\":\"3296\",\"type\":\"BasicTicker\"}},\"id\":\"3299\",\"type\":\"Grid\"},{\"attributes\":{\"source\":{\"id\":\"3284\",\"type\":\"ColumnDataSource\"}},\"id\":\"3323\",\"type\":\"CDSView\"},{\"attributes\":{\"callback\":null,\"tooltips\":[[\"index\",\"$index\"],[\"(x,y)\",\"($x, $y)\"],[\"A\",\"@A\"],[\"B\",\"@B\"],[\"type\",\"@type\"],[\"color\",\"@color\"]]},\"id\":\"3285\",\"type\":\"HoverTool\"},{\"attributes\":{},\"id\":\"3296\",\"type\":\"BasicTicker\"},{\"attributes\":{\"plot\":null,\"text\":\"\"},\"id\":\"3460\",\"type\":\"Title\"},{\"attributes\":{\"formatter\":{\"id\":\"3463\",\"type\":\"BasicTickFormatter\"},\"plot\":{\"id\":\"3286\",\"subtype\":\"Figure\",\"type\":\"Plot\"},\"ticker\":{\"id\":\"3296\",\"type\":\"BasicTicker\"}},\"id\":\"3295\",\"type\":\"LinearAxis\"},{\"attributes\":{},\"id\":\"3463\",\"type\":\"BasicTickFormatter\"},{\"attributes\":{},\"id\":\"3291\",\"type\":\"LinearScale\"},{\"attributes\":{},\"id\":\"3465\",\"type\":\"BasicTickFormatter\"},{\"attributes\":{\"callback\":null,\"data\":{\"A\":{\"__ndarray__\":\"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\",\"dtype\":\"float64\",\"shape\":[500]},\"B\":{\"__ndarray__\":\"yvbDnlEvNcAmepNiwx1FQJwTOc1CsGbAoMb2J7bFZsCMVYl6wvxbwIQ5o+RQw1hAvYd16O+sNEDmt/qbrD5swOhSCXxvwT7A8r0+EKWEYUA0RJ5/bv5fwM0A1Yx1AGJAD5SYctvnWMDIEebbnftQwObxbr9yr1JAi5L0rf0zOUDc3rtwWgRewFZChuGPKlDA61Q8kxL0J8DcGX/8g7o+QLmPSGlTtlbAyTftEkUYOEAjfdXfAwRgwFC8XAQrflxAXcAvzEkUZMDxS1NZM+dRQP95ySgOH0PAdhnGqg2aTkDyCjfcM9FbwEcyRakvhj/AqZSV9G45REBnKr8as2BiwMACVlSsuzZAd2EVnjznQsA0HRktov83wBDQ12SnEV3AB6RTSaLcZUCOSQP8BLtBQBcRI0Y/o1hAFFREDOj1OkDuufIxzWNkQFxrRytD0g5AIVoVIQKsU8AhuHzBj9hoQAOV/VTNRFhAppB8OSiBYsAOlimWRAA+QM9GMcKXpVBAB7n4EM5SRkB3OdGK+JljwCppgnnd2DbAsLUWXgXcWcAuuvizbaw7wApepXcxi1lA8cJaafRBWUCuILBy1hVTwGxem68fpFLA4r7QcLGHWUDebqrp1lxLwKb7+rU5Q0fA7DirQ1miUMBK2mg6t9VawD9kxBnrA2RAoPsDOmeNKsA5+r8ue/pSQFqL0gze3WNAqP0Fj8YJSkACzF7u4iM3wJDynSYRoFLAnSPinJ+kaMDbs8bIka5BQND3Yi/oGFzAQemmYXM+UkDUNy07YrJAQAGYtyCDzGVAFpXeCpT0WMCkCLp6xIhOQF5uy+VxZ2JAhrPMWH32UMC9G9KX/XNbwK61NSTr2kVAfThUifrKZMAEbTR/06NwwKTnKNyhvlrALAzRzMhJJsAD6XJpdc9bwOWar43VhmtAcCvQxePqW8AIVU+aJQ8jQHZSQJOcu0BAmD1c5xiwSUDfBhH1YsJRwAO+5oPw1kPAkXPdq8SXAkD5NodGzl9aQP3VM+wJHS/AIEVgZQlWccDxLFYiEDI5wIUH4/pa9lnAHgWRavVKY8CkzR5L4MsuQJ4on7fiZlZAM5hpb++QVkCV7Fr9biIIwPFLrYanNjXA/rlI4fzTHECTjM09+mM3wBsFgVyXjxJAGL+hx8efGsBWn+dEwQ8/wL2+faPFylhARxzJVH8iU8CATdu4VdghwDEwYh1tGmVAR9nFHbmzTcBiYHnxnXNWwJryN53QhQZA9VEj8n+iLsBQy9IPGQ5IwJbSFkpAT1DAlR1K3kFzUEAoSiLEFzpKwEMkouyRs03ALhQWa7PsQcAsLLKmX4xVwBQIAcf84F7A9UYs9FMNUEBJgpvSKYAYwIHmH3F7HFJAEmS84+ytY8DhduggzTpawBgMMS+POkRA07BTQ9OLYcAAZ58mibJVwKI7Pv4X8TBAeOBFH8+9OkA7P3Hh+TnzvxRhGUd6PBrAwe/afA18M8CmPt1kqMRBQChU7yYT0FBAu/ywz/q+XMDN8FfNP+sQwFngB1Zo80FAeeyI5CqbU0AJA41yw9pNwEL+qXcod1XA6r6eC1QeY8BE3vHalypmwLsfD66TxV7Ac3UL8NWYScCawsAXtvhEQDrxLtbWPzFAb6cWN51aT0By4iLEqWBRQEcRsWypJ17AoFM+Fy7UMcAVQJKfjKBYwPjcczOy4UVAcVbtTbweYMCDRoNFIgFHQPkf8eFuuG9AtVTDncr0SsASObHP/N5hwFULqtm01lRAEAMFY1NfWcD/D6X+9WE2wPA3ziTM3Oo/5d/g7nvCO0BruDJZUlFwwLnIhCjRV0HAS/fgHt0GY8CGCPfezb0RQE8JlGBMFkzA/3PCfLOCRsDFmkRa96Q8wPL+cp6CkGBAOlCd5lZy3T8H9TdVaZxQwA32Q3x5WlXA/vZIUIvTXMAHqbWZYBVhQIzKaTNlA1JAd8xe394sTMCkI3LnGUdJwFc2hXdvWjpAj8FZzxFUOUCcCdJRjalIQHEjG3A+OlnAakoHoh6/FMCrdk1aLYsJwJtt5Wv7BjpAKnBkYnT4QMDWGIx4I1ZxwLgdX0M/TjXALT0UKwVkLcDgHE8m+hghQBpxqSmIXlxAw46nQAbHWECm7JHRN6BgQAN1A3RpalZAgZSRcGVZAUCGphh45SMqwMAu+iK0uyBASdNOTs20YkCIFxMoOJdfQF4TC4OpeUBAA2qtInevIkCWFEkgr6xRwOH5p3mch1rAr+YgKfFqVcA8AeUgV+xLQInGnvrW6hjArTU2CHVSVUCmUe0jXb9KQD4u8i3cWF9AXwZ/zqzIakDBXrdI9U9IQGk3p2kz1FrA+WqMiY4mcEAbo4JQUhZTQKlEp09yN0pAjk1iFhw1W8AYkp12NZNEQPRNKvwmTlhAJI/fec0UOEDBVJIKOthFwDZKspvnPQ7Ac1/VDC39XEDFdbzZ4AdjQOMej0WqkUBAugcMhrukRsBy4RLkRBwsQO5uV0beXlPAL9xzJY55UECz/c/S3htCQNZx/64hLEBA3OwTqHnoXsDH7qBphBDjP+ZQC1piKkTAw46yJMs4WUAd313T6gdVwJ9Huf4FFD5A3g8dSTQxUcCNHP12PHRQwJxCLibyTNa/DW7727qpEEAGfEQl04tEQB7IuBdth2BASVfdITmlUMAdBWQqJkBBQLXVQumb5CfA6S7xi1XXRsA9rYZx3IVnwEVQDEFJGRvA5eF/ITa0VMCZ31NBRvs8QOv8iDL6wVhAu0+NWevBN8DqE3KVPzdOwMALGs+zqmRA5Lolnt27bEAeF0gXHCdiwPrtJP767lXAGBs2pXV9XMDb/0CkQwUuQKaIKgv9B2hADYJ8++OC7b8FB5vtG6Q0wNclXG5Di0tA8GBIFDCoaMDkZKvr8GgrwKFl6AsQXz7AbB9t0NQkCMCjgBmpm4lnwO1vfoy8LERAO7Q7EWT7QcAAeWDZk9xKQKUnSSdg0lvASHk1h4VV1T8alE+fD8BmwJPLmgoQGl1A44BXFuGpIsCmRW5A3uhZQN8PnXefDnJAquibsL5TUUAVPbMVPUlgwF+Ry2XCwTDAtmHylUFIVEArxC74Dh9TwGtMUEHsAlnAyqvFxnisZMAnBBRnQAZOQMs8DdWdH1HA/uQVj9+dVUCsQbe7moT1P9SyK7mfr3FAHMu+6MegZ8BIn/LWFnZSQNCYSFPk715ADRWhEBv0QMDlYjFCo7orwNGCL23oc1dA/pHYMjo2XkDKejNgPONeQG5kqCcVDl5ASYs5wXoVRsDng1SJiLFTwN3IceQRM1JAxJbEU2LLXEBs3IjMpx9MwMQcLXFQcE5A3npNB2dNYcAwnZh4tK0wQEHhy18ENz1AEjtYZ+isXMCkXMqDPg9DwJSA2LzZiFdA+6X5z+vFUkCjNph1SYJVQOlZ+J33iiRA62qLIVrqYsAHoTj75qtdQFbY/cq3fF/A1DyepkU2Z0DTB7VC4rk/QEmTPurSZlJAYcIdCsQeB0AXgoFrAukjQOSYWpTSN0nAenuxh3kJZEAxpPXBVC1YQBn0YPUZMEPAhBXDuetuYcBoIt0tuIhCQNhedW35J1XAWqcm6SIcYcA8LNp9OaZIQO7ckZId1z1AloUm9JuoJkAoMDLyyAtZQDlH9IfrkmhAoPyCvvtSY0BrTffayOo5QBQxyg5Cs1/A4NKDGIp6UUANTRZ75sBRwF1i3HSsVkrA0gHIs6jSU8DZrb+FtF44QLtpny2vLjPAmbx88K+GUkAZSq+OhvNyQPHJr0dtakLAX8G/tbk7MEAMxWuU7vczwMxjDaFs7UTAMuEHRN9WUECzyA3owINnwH3RHtCTBFdAOHqqlrU5VkDfmdHT5jc4QM7hHnoaUmbAu9w2y2NxP8B3oKwcWmIkQN4i0w/SylzApYsOOSQNNsCWMk8VxO1awJ065sfY8mTAN05Z/Nh9ScC2jJ0oDF1AwGZP2bAxr15AG36+Dov1X8DLEyJIoZ9hQK9VLqawektAzzrf7dbiOMDNLyX6UPo8QF0OrVEvmCLAVxV5OHxnVUCXDCfN+/YlwPl0QSH/7TjACMPuP+vkNEDefOr66ipjwPhb6gdhO11A9GYXdEeXM0B3atFn1qpqQHMjR9T6jmxAaGIaomAKS0B0krNnWeNjwMT4CNlr+mpAm5mX7t9m0D851H0btHlMQPcU39c/V1fAKT+TEkMLV0Ch4strCF5DQHKW39azRmJA4SuBgXiBYsButHb8V1UwQG5r2hz94DHAim83Z1rmS8CIgeFQttY/wPtu4wpOrSHA+Yka95I9W8BaFWzhYotLQO2q2pN0T05AyNSwiVs3S8CkowWMlLpjQG8PCzchJmBA91fOWcq2VMBAVqOuuqlUwG9Ya5KCt1ZABqDpedjEQkA6cd1Uq7FUQBoDQ/zyhVJAU9Csx7vwZkDPxbyXBPQTwGWRJQ9rt0PAC4ZUg4GtXcC72cBx671gwD+EQjdGNkfA4iC2Puc5ZMCVfgK+FS4xwLPm5lnrZjdAYRn5AEAAFUAX1Clf991iQNbsSWymvmfAYRjjhDi4WMAb5u42+FdjQNyhIj3YqTzAem7fklPDPsAHedThOSBrwGN5ik3Hg0xAgo6I6qQGSMCtH4zIlTUdwJcJ0bKLXFvABbivMKr2QcC8u4LvBbtgwDlm/tTUHkzAMUAnvW4OUsBf2Vlw3LpawKwQlt3DvGXAXr8vLibjaECEFSw8DcZDwIeKA+u3I1DAxRQfpSakRMCUfZYBFTBAwHWqDKY9elRAO6lZw87uXkCgm7XpI5NmQI1RUCcMw2HAtqY7iRf5P8Ctf+NUTk9sQD4g0BJyczBAT2qcs/ixTMCQ3u7nR41OQP2Bq/bqW0rAQk5pexP8X0DAQWfciCJkwB/sDam3WFnAsRMlgY07YMCaCIP/NrRoQJm8W/4OS2DAV22R7R8/VMD2/spcMnBBQNr+qhzpgV7AnE8N3crrYkBaF0yO8TNIQPz/OHn8DVrApcPbSOzHUsA50ugXG20IQHqJNIARpzhAPlxkoOROXsAvZWUipm1GQBw698APml1AkkCrPzNbP0BGNkHKThZIwNroUxzGw1BAiEvLrgpzZsBBZjzx+Sw3QJ+/PcDa6VbACRxXs/nJWkA4FULIOddMwP2tWbUMXDvAVNG8TsO3UEBXEnMo3INgQDlYolr4R1BAIbViX927Q8AAlyX+e4tiQDTo8Kv3J1BAmH0Y040VZUDPVa9p26sHQPE3FKwLk0vA0prqmwU3TkB05rJ9L51SQNKSF3NXYeC/lpDjyNhdYUARspW1LpRBwIyAXCW4LF7AW3A69aLRV8Ao9oHvfhY1wA==\",\"dtype\":\"float64\",\"shape\":[500]},\"color\":[\"yellow\",\"yellow\",\"yellow\",\"green\",\"blue\",\"blue\",\"blue\",\"blue\",\"red\",\"blue\",\"blue\",\"yellow\",\"blue\",\"green\",\"red\",\"yellow\",\"red\",\"green\",\"yellow\",\"red\",\"red\",\"red\",\"yellow\",\"yellow\",\"green\",\"yellow\",\"green\",\"blue\",\"blue\",\"yellow\",\"green\",\"yellow\",\"blue\",\"blue\",\"blue\",\"red\",\"red\",\"yellow\",\"blue\",\"blue\",\"blue\",\"green\",\"yellow\",\"blue\",\"blue\",\"red\",\"blue\",\"yellow\",\"green\",\"green\",\"red\",\"green\",\"red\",\"blue\",\"green\",\"yellow\",\"blue\",\"blue\",\"yellow\",\"yellow\",\"red\",\"green\",\"yellow\",\"yellow\",\"green\",\"yellow\",\"blue\",\"blue\",\"blue\",\"yellow\",\"blue\",\"green\",\"red\",\"green\",\"yellow\",\"green\",\"green\",\"green\",\"yellow\",\"blue\",\"red\",\"red\",\"red\",\"green\",\"blue\",\"green\",\"yellow\",\"yellow\",\"blue\",\"red\",\"yellow\",\"yellow\",\"green\",\"yellow\",\"green\",\"red\",\"green\",\"yellow\",\"red\",\"yellow\",\"blue\",\"green\",\"green\",\"green\",\"red\",\"yellow\",\"yellow\",\"green\",\"red\",\"red\",\"red\",\"green\",\"red\",\"red\",\"red\",\"green\",\"green\",\"green\",\"yellow\",\"yellow\",\"green\",\"blue\",\"blue\",\"green\",\"red\",\"blue\",\"red\",\"blue\",\"green\",\"blue\",\"yellow\",\"red\",\"red\",\"red\",\"green\",\"green\",\"blue\",\"yellow\",\"green\",\"green\",\"red\",\"yellow\",\"green\",\"blue\",\"green\",\"blue\",\"blue\",\"green\",\"green\",\"green\",\"green\",\"green\",\"blue\",\"yellow\",\"yellow\",\"green\",\"green\",\"red\",\"red\",\"yellow\",\"red\",\"red\",\"blue\",\"blue\",\"green\",\"blue\",\"red\",\"yellow\",\"red\",\"yellow\",\"red\",\"green\",\"yellow\",\"yellow\",\"yellow\",\"green\",\"blue\",\"green\",\"green\",\"yellow\",\"yellow\",\"yellow\",\"yellow\",\"yellow\",\"green\",\"yellow\",\"green\",\"blue\",\"yellow\",\"yellow\",\"blue\",\"blue\",\"blue\",\"blue\",\"yellow\",\"yellow\",\"yellow\",\"green\",\"green\",\"yellow\",\"green\",\"blue\",\"green\",\"green\",\"blue\",\"green\",\"yellow\",\"green\",\"blue\",\"yellow\",\"yellow\",\"blue\",\"green\",\"blue\",\"blue\",\"blue\",\"red\",\"green\",\"yellow\",\"blue\",\"green\",\"green\",\"blue\",\"red\",\"green\",\"blue\",\"blue\",\"green\",\"red\",\"green\",\"red\",\"green\",\"yellow\",\"yellow\",\"green\",\"green\",\"yellow\",\"green\",\"red\",\"red\",\"yellow\",\"green\",\"yellow\",\"green\",\"green\",\"green\",\"yellow\",\"red\",\"red\",\"red\",\"blue\",\"red\",\"green\",\"blue\",\"green\",\"green\",\"yellow\",\"green\",\"yellow\",\"blue\",\"red\",\"blue\",\"blue\",\"green\",\"green\",\"red\",\"green\",\"red\",\"yellow\",\"green\",\"yellow\",\"green\",\"red\",\"red\",\"blue\",\"red\",\"red\",\"green\",\"green\",\"yellow\",\"red\",\"blue\",\"red\",\"red\",\"yellow\",\"yellow\",\"yellow\",\"yellow\",\"green\",\"yellow\",\"green\",\"red\",\"red\",\"red\",\"green\",\"yellow\",\"yellow\",\"green\",\"yellow\",\"yellow\",\"green\",\"green\",\"red\",\"green\",\"green\",\"yellow\",\"green\",\"red\",\"yellow\",\"green\",\"green\",\"red\",\"blue\",\"blue\",\"red\",\"red\",\"red\",\"red\",\"red\",\"green\",\"red\",\"green\",\"green\",\"blue\",\"yellow\",\"blue\",\"red\",\"green\",\"blue\",\"blue\",\"red\",\"yellow\",\"red\",\"blue\",\"red\",\"red\",\"red\",\"green\",\"blue\",\"red\",\"red\",\"yellow\",\"blue\",\"yellow\",\"blue\",\"yellow\",\"yellow\",\"red\",\"red\",\"blue\",\"blue\",\"blue\",\"green\",\"yellow\",\"red\",\"yellow\",\"yellow\",\"yellow\",\"blue\",\"green\",\"blue\",\"green\",\"blue\",\"green\",\"blue\",\"green\",\"yellow\",\"blue\",\"green\",\"red\",\"red\",\"blue\",\"green\",\"yellow\",\"blue\",\"green\",\"blue\",\"blue\",\"green\",\"yellow\",\"green\",\"red\",\"green\",\"red\",\"green\",\"yellow\",\"red\",\"green\",\"green\",\"green\",\"yellow\",\"red\",\"yellow\",\"yellow\",\"yellow\",\"green\",\"green\",\"green\",\"blue\",\"blue\",\"green\",\"yellow\",\"blue\",\"blue\",\"red\",\"yellow\",\"yellow\",\"yellow\",\"yellow\",\"blue\",\"green\",\"red\",\"yellow\",\"yellow\",\"red\",\"yellow\",\"green\",\"yellow\",\"green\",\"blue\",\"green\",\"blue\",\"blue\",\"yellow\",\"blue\",\"blue\",\"yellow\",\"blue\",\"green\",\"yellow\",\"yellow\",\"green\",\"red\",\"yellow\",\"yellow\",\"green\",\"yellow\",\"blue\",\"green\",\"blue\",\"blue\",\"red\",\"blue\",\"blue\",\"green\",\"blue\",\"green\",\"green\",\"yellow\",\"yellow\",\"green\",\"yellow\",\"green\",\"blue\",\"blue\",\"blue\",\"yellow\",\"green\",\"red\",\"yellow\",\"red\",\"blue\",\"yellow\",\"blue\",\"yellow\",\"red\",\"green\",\"yellow\",\"green\",\"red\",\"red\",\"yellow\",\"red\",\"yellow\",\"yellow\",\"blue\",\"yellow\",\"yellow\",\"red\",\"yellow\",\"red\",\"blue\",\"blue\",\"yellow\",\"green\",\"yellow\",\"blue\",\"yellow\",\"green\",\"yellow\",\"yellow\",\"yellow\",\"green\",\"blue\",\"red\",\"red\",\"yellow\",\"green\",\"yellow\",\"blue\"],\"index\":[0,1,2,3,4,5,6,7,8,9,10,11,12,13,14,15,16,17,18,19,20,21,22,23,24,25,26,27,28,29,30,31,32,33,34,35,36,37,38,39,40,41,42,43,44,45,46,47,48,49,50,51,52,53,54,55,56,57,58,59,60,61,62,63,64,65,66,67,68,69,70,71,72,73,74,75,76,77,78,79,80,81,82,83,84,85,86,87,88,89,90,91,92,93,94,95,96,97,98,99,100,101,102,103,104,105,106,107,108,109,110,111,112,113,114,115,116,117,118,119,120,121,122,123,124,125,126,127,128,129,130,131,132,133,134,135,136,137,138,139,140,141,142,143,144,145,146,147,148,149,150,151,152,153,154,155,156,157,158,159,160,161,162,163,164,165,166,167,168,169,170,171,172,173,174,175,176,177,178,179,180,181,182,183,184,185,186,187,188,189,190,191,192,193,194,195,196,197,198,199,200,201,202,203,204,205,206,207,208,209,210,211,212,213,214,215,216,217,218,219,220,221,222,223,224,225,226,227,228,229,230,231,232,233,234,235,236,237,238,239,240,241,242,243,244,245,246,247,248,249,250,251,252,253,254,255,256,257,258,259,260,261,262,263,264,265,266,267,268,269,270,271,272,273,274,275,276,277,278,279,280,281,282,283,284,285,286,287,288,289,290,291,292,293,294,295,296,297,298,299,300,301,302,303,304,305,306,307,308,309,310,311,312,313,314,315,316,317,318,319,320,321,322,323,324,325,326,327,328,329,330,331,332,333,334,335,336,337,338,339,340,341,342,343,344,345,346,347,348,349,350,351,352,353,354,355,356,357,358,359,360,361,362,363,364,365,366,367,368,369,370,371,372,373,374,375,376,377,378,379,380,381,382,383,384,385,386,387,388,389,390,391,392,393,394,395,396,397,398,399,400,401,402,403,404,405,406,407,408,409,410,411,412,413,414,415,416,417,418,419,420,421,422,423,424,425,426,427,428,429,430,431,432,433,434,435,436,437,438,439,440,441,442,443,444,445,446,447,448,449,450,451,452,453,454,455,456,457,458,459,460,461,462,463,464,465,466,467,468,469,470,471,472,473,474,475,476,477,478,479,480,481,482,483,484,485,486,487,488,489,490,491,492,493,494,495,496,497,498,499],\"type\":[\"rabbit\",\"pooh\",\"piglet\",\"pooh\",\"rabbit\",\"rabbit\",\"pooh\",\"rabbit\",\"piglet\",\"rabbit\",\"rabbit\",\"Christopher\",\"rabbit\",\"piglet\",\"pooh\",\"piglet\",\"pooh\",\"piglet\",\"pooh\",\"piglet\",\"pooh\",\"piglet\",\"rabbit\",\"piglet\",\"rabbit\",\"piglet\",\"rabbit\",\"pooh\",\"rabbit\",\"rabbit\",\"pooh\",\"piglet\",\"Christopher\",\"pooh\",\"piglet\",\"Christopher\",\"Christopher\",\"pooh\",\"rabbit\",\"Christopher\",\"Christopher\",\"rabbit\",\"pooh\",\"pooh\",\"pooh\",\"piglet\",\"piglet\",\"pooh\",\"piglet\",\"pooh\",\"pooh\",\"pooh\",\"Christopher\",\"Christopher\",\"piglet\",\"piglet\",\"piglet\",\"Christopher\",\"piglet\",\"Christopher\",\"piglet\",\"Christopher\",\"piglet\",\"piglet\",\"rabbit\",\"Christopher\",\"piglet\",\"rabbit\",\"piglet\",\"rabbit\",\"piglet\",\"rabbit\",\"pooh\",\"piglet\",\"pooh\",\"Christopher\",\"rabbit\",\"piglet\",\"rabbit\",\"pooh\",\"rabbit\",\"pooh\",\"pooh\",\"pooh\",\"piglet\",\"Christopher\",\"Christopher\",\"piglet\",\"Christopher\",\"rabbit\",\"piglet\",\"rabbit\",\"piglet\",\"Christopher\",\"Christopher\",\"rabbit\",\"Christopher\",\"Christopher\",\"pooh\",\"piglet\",\"Christopher\",\"Christopher\",\"Christopher\",\"pooh\",\"rabbit\",\"rabbit\",\"rabbit\",\"Christopher\",\"Christopher\",\"Christopher\",\"rabbit\",\"piglet\",\"pooh\",\"piglet\",\"Christopher\",\"Christopher\",\"pooh\",\"pooh\",\"piglet\",\"pooh\",\"Christopher\",\"Christopher\",\"Christopher\",\"rabbit\",\"pooh\",\"Christopher\",\"pooh\",\"piglet\",\"rabbit\",\"pooh\",\"rabbit\",\"Christopher\",\"piglet\",\"rabbit\",\"piglet\",\"rabbit\",\"piglet\",\"pooh\",\"pooh\",\"Christopher\",\"rabbit\",\"Christopher\",\"rabbit\",\"rabbit\",\"piglet\",\"pooh\",\"piglet\",\"rabbit\",\"piglet\",\"pooh\",\"pooh\",\"piglet\",\"pooh\",\"pooh\",\"rabbit\",\"pooh\",\"pooh\",\"pooh\",\"rabbit\",\"rabbit\",\"Christopher\",\"piglet\",\"Christopher\",\"pooh\",\"pooh\",\"Christopher\",\"piglet\",\"pooh\",\"Christopher\",\"rabbit\",\"rabbit\",\"rabbit\",\"rabbit\",\"pooh\",\"Christopher\",\"piglet\",\"pooh\",\"pooh\",\"rabbit\",\"pooh\",\"piglet\",\"pooh\",\"rabbit\",\"rabbit\",\"Christopher\",\"piglet\",\"piglet\",\"rabbit\",\"rabbit\",\"pooh\",\"Christopher\",\"piglet\",\"rabbit\",\"piglet\",\"pooh\",\"pooh\",\"piglet\",\"rabbit\",\"piglet\",\"rabbit\",\"rabbit\",\"pooh\",\"piglet\",\"rabbit\",\"rabbit\",\"rabbit\",\"pooh\",\"piglet\",\"rabbit\",\"Christopher\",\"pooh\",\"pooh\",\"Christopher\",\"piglet\",\"piglet\",\"rabbit\",\"Christopher\",\"rabbit\",\"pooh\",\"Christopher\",\"pooh\",\"pooh\",\"pooh\",\"pooh\",\"Christopher\",\"Christopher\",\"pooh\",\"pooh\",\"Christopher\",\"rabbit\",\"rabbit\",\"pooh\",\"Christopher\",\"pooh\",\"pooh\",\"Christopher\",\"pooh\",\"rabbit\",\"piglet\",\"piglet\",\"rabbit\",\"rabbit\",\"pooh\",\"Christopher\",\"pooh\",\"Christopher\",\"rabbit\",\"piglet\",\"piglet\",\"Christopher\",\"rabbit\",\"rabbit\",\"Christopher\",\"piglet\",\"piglet\",\"Christopher\",\"Christopher\",\"rabbit\",\"rabbit\",\"piglet\",\"rabbit\",\"rabbit\",\"piglet\",\"piglet\",\"Christopher\",\"Christopher\",\"Christopher\",\"pooh\",\"piglet\",\"rabbit\",\"Christopher\",\"rabbit\",\"Christopher\",\"rabbit\",\"piglet\",\"pooh\",\"Christopher\",\"rabbit\",\"Christopher\",\"rabbit\",\"rabbit\",\"pooh\",\"pooh\",\"pooh\",\"piglet\",\"piglet\",\"Christopher\",\"piglet\",\"rabbit\",\"Christopher\",\"Christopher\",\"rabbit\",\"Christopher\",\"Christopher\",\"rabbit\",\"rabbit\",\"Christopher\",\"piglet\",\"rabbit\",\"pooh\",\"Christopher\",\"rabbit\",\"Christopher\",\"pooh\",\"rabbit\",\"Christopher\",\"pooh\",\"Christopher\",\"piglet\",\"piglet\",\"Christopher\",\"pooh\",\"rabbit\",\"pooh\",\"rabbit\",\"piglet\",\"rabbit\",\"pooh\",\"rabbit\",\"Christopher\",\"Christopher\",\"Christopher\",\"Christopher\",\"rabbit\",\"piglet\",\"Christopher\",\"pooh\",\"pooh\",\"rabbit\",\"Christopher\",\"Christopher\",\"piglet\",\"rabbit\",\"piglet\",\"rabbit\",\"Christopher\",\"pooh\",\"piglet\",\"Christopher\",\"pooh\",\"pooh\",\"piglet\",\"Christopher\",\"Christopher\",\"piglet\",\"Christopher\",\"rabbit\",\"piglet\",\"Christopher\",\"piglet\",\"Christopher\",\"piglet\",\"pooh\",\"Christopher\",\"rabbit\",\"pooh\",\"piglet\",\"rabbit\",\"rabbit\",\"rabbit\",\"Christopher\",\"Christopher\",\"pooh\",\"pooh\",\"piglet\",\"rabbit\",\"piglet\",\"piglet\",\"rabbit\",\"rabbit\",\"Christopher\",\"piglet\",\"pooh\",\"pooh\",\"piglet\",\"piglet\",\"pooh\",\"piglet\",\"pooh\",\"Christopher\",\"piglet\",\"rabbit\",\"rabbit\",\"piglet\",\"rabbit\",\"Christopher\",\"rabbit\",\"Christopher\",\"piglet\",\"Christopher\",\"Christopher\",\"rabbit\",\"pooh\",\"pooh\",\"rabbit\",\"piglet\",\"pooh\",\"piglet\",\"rabbit\",\"pooh\",\"pooh\",\"Christopher\",\"Christopher\",\"pooh\",\"Christopher\",\"piglet\",\"pooh\",\"piglet\",\"piglet\",\"Christopher\",\"pooh\",\"piglet\",\"piglet\",\"rabbit\",\"Christopher\",\"piglet\",\"piglet\",\"piglet\",\"piglet\",\"pooh\",\"Christopher\",\"Christopher\",\"Christopher\",\"pooh\",\"piglet\",\"pooh\",\"piglet\",\"rabbit\",\"Christopher\",\"piglet\",\"pooh\",\"piglet\",\"rabbit\",\"pooh\",\"rabbit\",\"Christopher\",\"pooh\",\"rabbit\",\"pooh\",\"pooh\",\"Christopher\",\"piglet\",\"pooh\",\"Christopher\",\"rabbit\",\"Christopher\",\"piglet\",\"pooh\",\"pooh\",\"piglet\",\"pooh\",\"Christopher\",\"rabbit\",\"rabbit\",\"piglet\",\"piglet\",\"pooh\",\"pooh\",\"rabbit\",\"rabbit\",\"rabbit\",\"Christopher\",\"piglet\",\"pooh\",\"piglet\",\"pooh\",\"Christopher\",\"piglet\",\"pooh\",\"piglet\",\"piglet\",\"Christopher\",\"Christopher\",\"pooh\",\"piglet\",\"rabbit\",\"Christopher\",\"Christopher\",\"rabbit\",\"pooh\",\"piglet\",\"rabbit\",\"rabbit\",\"pooh\",\"piglet\",\"pooh\",\"Christopher\",\"pooh\",\"piglet\",\"Christopher\",\"Christopher\",\"Christopher\",\"Christopher\",\"piglet\",\"Christopher\",\"pooh\",\"Christopher\",\"Christopher\",\"rabbit\",\"piglet\"]},\"selected\":{\"id\":\"3467\",\"type\":\"Selection\"},\"selection_policy\":{\"id\":\"3468\",\"type\":\"UnionRenderers\"}},\"id\":\"3284\",\"type\":\"ColumnDataSource\"}],\"root_ids\":[\"3286\"]},\"title\":\"Bokeh Application\",\"version\":\"1.0.4\"}};\n",
       "  var render_items = [{\"docid\":\"d1b577cd-1712-4387-8cdc-af00a3587063\",\"roots\":{\"3286\":\"3bedbb56-faff-4395-90f8-f623a371847a\"}}];\n",
       "  root.Bokeh.embed.embed_items_notebook(docs_json, render_items);\n",
       "\n",
       "  }\n",
       "  if (root.Bokeh !== undefined) {\n",
       "    embed_document(root);\n",
       "  } else {\n",
       "    var attempts = 0;\n",
       "    var timer = setInterval(function(root) {\n",
       "      if (root.Bokeh !== undefined) {\n",
       "        embed_document(root);\n",
       "        clearInterval(timer);\n",
       "      }\n",
       "      attempts++;\n",
       "      if (attempts > 100) {\n",
       "        console.log(\"Bokeh: ERROR: Unable to run BokehJS code because BokehJS library is missing\");\n",
       "        clearInterval(timer);\n",
       "      }\n",
       "    }, 10, root)\n",
       "  }\n",
       "})(window);"
      ],
      "application/vnd.bokehjs_exec.v0+json": ""
     },
     "metadata": {
      "application/vnd.bokehjs_exec.v0+json": {
       "id": "3286"
      }
     },
     "output_type": "display_data"
    },
    {
     "data": {
      "text/html": [
       "\n",
       "\n",
       "\n",
       "\n",
       "\n",
       "\n",
       "  <div class=\"bk-root\" id=\"c7e75a6f-946f-428f-bae5-76f33b5da4a1\" data-root-id=\"3523\"></div>\n"
      ]
     },
     "metadata": {},
     "output_type": "display_data"
    },
    {
     "data": {
      "application/javascript": [
       "(function(root) {\n",
       "  function embed_document(root) {\n",
       "    \n",
       "  var docs_json = {\"4c4cb651-f61d-450a-a81e-ad0574f3c402\":{\"roots\":{\"references\":[{\"attributes\":{\"below\":[{\"id\":\"3532\",\"type\":\"LinearAxis\"}],\"left\":[{\"id\":\"3537\",\"type\":\"LinearAxis\"}],\"plot_height\":400,\"plot_width\":800,\"renderers\":[{\"id\":\"3532\",\"type\":\"LinearAxis\"},{\"id\":\"3536\",\"type\":\"Grid\"},{\"id\":\"3537\",\"type\":\"LinearAxis\"},{\"id\":\"3541\",\"type\":\"Grid\"},{\"id\":\"3547\",\"type\":\"BoxAnnotation\"},{\"id\":\"3557\",\"type\":\"GlyphRenderer\"}],\"title\":{\"id\":\"3704\",\"type\":\"Title\"},\"toolbar\":{\"id\":\"3546\",\"type\":\"Toolbar\"},\"toolbar_location\":\"above\",\"x_range\":{\"id\":\"3524\",\"type\":\"DataRange1d\"},\"x_scale\":{\"id\":\"3528\",\"type\":\"LinearScale\"},\"y_range\":{\"id\":\"3526\",\"type\":\"DataRange1d\"},\"y_scale\":{\"id\":\"3530\",\"type\":\"LinearScale\"}},\"id\":\"3523\",\"subtype\":\"Figure\",\"type\":\"Plot\"},{\"attributes\":{},\"id\":\"3467\",\"type\":\"Selection\"},{\"attributes\":{},\"id\":\"3544\",\"type\":\"WheelZoomTool\"},{\"attributes\":{},\"id\":\"3468\",\"type\":\"UnionRenderers\"},{\"attributes\":{},\"id\":\"3545\",\"type\":\"PanTool\"},{\"attributes\":{\"active_drag\":\"auto\",\"active_inspect\":\"auto\",\"active_multi\":null,\"active_scroll\":\"auto\",\"active_tap\":\"auto\",\"tools\":[{\"id\":\"3285\",\"type\":\"HoverTool\"},{\"id\":\"3542\",\"type\":\"BoxSelectTool\"},{\"id\":\"3543\",\"type\":\"ResetTool\"},{\"id\":\"3544\",\"type\":\"WheelZoomTool\"},{\"id\":\"3545\",\"type\":\"PanTool\"}]},\"id\":\"3546\",\"type\":\"Toolbar\"},{\"attributes\":{\"bottom_units\":\"screen\",\"fill_alpha\":{\"value\":0.5},\"fill_color\":{\"value\":\"lightgrey\"},\"left_units\":\"screen\",\"level\":\"overlay\",\"line_alpha\":{\"value\":1.0},\"line_color\":{\"value\":\"black\"},\"line_dash\":[4,4],\"line_width\":{\"value\":2},\"plot\":null,\"render_mode\":\"css\",\"right_units\":\"screen\",\"top_units\":\"screen\"},\"id\":\"3547\",\"type\":\"BoxAnnotation\"},{\"attributes\":{\"fill_alpha\":{\"value\":0.1},\"fill_color\":{\"value\":\"#1f77b4\"},\"line_alpha\":{\"value\":0.1},\"line_color\":{\"value\":\"#1f77b4\"},\"top\":{\"field\":\"A\"},\"width\":{\"value\":1},\"x\":{\"field\":\"index\"}},\"id\":\"3556\",\"type\":\"VBar\"},{\"attributes\":{\"callback\":null,\"overlay\":{\"id\":\"3547\",\"type\":\"BoxAnnotation\"}},\"id\":\"3542\",\"type\":\"BoxSelectTool\"},{\"attributes\":{\"data_source\":{\"id\":\"3284\",\"type\":\"ColumnDataSource\"},\"glyph\":{\"id\":\"3555\",\"type\":\"VBar\"},\"hover_glyph\":null,\"muted_glyph\":null,\"nonselection_glyph\":{\"id\":\"3556\",\"type\":\"VBar\"},\"selection_glyph\":null,\"view\":{\"id\":\"3558\",\"type\":\"CDSView\"}},\"id\":\"3557\",\"type\":\"GlyphRenderer\"},{\"attributes\":{\"callback\":null},\"id\":\"3526\",\"type\":\"DataRange1d\"},{\"attributes\":{\"callback\":null},\"id\":\"3524\",\"type\":\"DataRange1d\"},{\"attributes\":{\"source\":{\"id\":\"3284\",\"type\":\"ColumnDataSource\"}},\"id\":\"3558\",\"type\":\"CDSView\"},{\"attributes\":{\"fill_color\":{\"value\":\"#1f77b4\"},\"line_color\":{\"value\":\"#1f77b4\"},\"top\":{\"field\":\"A\"},\"width\":{\"value\":1},\"x\":{\"field\":\"index\"}},\"id\":\"3555\",\"type\":\"VBar\"},{\"attributes\":{\"plot\":null,\"text\":\"\"},\"id\":\"3704\",\"type\":\"Title\"},{\"attributes\":{},\"id\":\"3707\",\"type\":\"BasicTickFormatter\"},{\"attributes\":{\"formatter\":{\"id\":\"3709\",\"type\":\"BasicTickFormatter\"},\"plot\":{\"id\":\"3523\",\"subtype\":\"Figure\",\"type\":\"Plot\"},\"ticker\":{\"id\":\"3538\",\"type\":\"BasicTicker\"}},\"id\":\"3537\",\"type\":\"LinearAxis\"},{\"attributes\":{},\"id\":\"3538\",\"type\":\"BasicTicker\"},{\"attributes\":{\"dimension\":1,\"plot\":{\"id\":\"3523\",\"subtype\":\"Figure\",\"type\":\"Plot\"},\"ticker\":{\"id\":\"3538\",\"type\":\"BasicTicker\"}},\"id\":\"3541\",\"type\":\"Grid\"},{\"attributes\":{},\"id\":\"3528\",\"type\":\"LinearScale\"},{\"attributes\":{\"plot\":{\"id\":\"3523\",\"subtype\":\"Figure\",\"type\":\"Plot\"},\"ticker\":{\"id\":\"3533\",\"type\":\"BasicTicker\"}},\"id\":\"3536\",\"type\":\"Grid\"},{\"attributes\":{},\"id\":\"3533\",\"type\":\"BasicTicker\"},{\"attributes\":{\"callback\":null,\"tooltips\":[[\"index\",\"$index\"],[\"(x,y)\",\"($x, $y)\"],[\"A\",\"@A\"],[\"B\",\"@B\"],[\"type\",\"@type\"],[\"color\",\"@color\"]]},\"id\":\"3285\",\"type\":\"HoverTool\"},{\"attributes\":{\"formatter\":{\"id\":\"3707\",\"type\":\"BasicTickFormatter\"},\"plot\":{\"id\":\"3523\",\"subtype\":\"Figure\",\"type\":\"Plot\"},\"ticker\":{\"id\":\"3533\",\"type\":\"BasicTicker\"}},\"id\":\"3532\",\"type\":\"LinearAxis\"},{\"attributes\":{},\"id\":\"3709\",\"type\":\"BasicTickFormatter\"},{\"attributes\":{\"callback\":null,\"data\":{\"A\":{\"__ndarray__\":\"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\",\"dtype\":\"float64\",\"shape\":[500]},\"B\":{\"__ndarray__\":\"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\",\"dtype\":\"float64\",\"shape\":[500]},\"color\":[\"yellow\",\"yellow\",\"yellow\",\"green\",\"blue\",\"blue\",\"blue\",\"blue\",\"red\",\"blue\",\"blue\",\"yellow\",\"blue\",\"green\",\"red\",\"yellow\",\"red\",\"green\",\"yellow\",\"red\",\"red\",\"red\",\"yellow\",\"yellow\",\"green\",\"yellow\",\"green\",\"blue\",\"blue\",\"yellow\",\"green\",\"yellow\",\"blue\",\"blue\",\"blue\",\"red\",\"red\",\"yellow\",\"blue\",\"blue\",\"blue\",\"green\",\"yellow\",\"blue\",\"blue\",\"red\",\"blue\",\"yellow\",\"green\",\"green\",\"red\",\"green\",\"red\",\"blue\",\"green\",\"yellow\",\"blue\",\"blue\",\"yellow\",\"yellow\",\"red\",\"green\",\"yellow\",\"yellow\",\"green\",\"yellow\",\"blue\",\"blue\",\"blue\",\"yellow\",\"blue\",\"green\",\"red\",\"green\",\"yellow\",\"green\",\"green\",\"green\",\"yellow\",\"blue\",\"red\",\"red\",\"red\",\"green\",\"blue\",\"green\",\"yellow\",\"yellow\",\"blue\",\"red\",\"yellow\",\"yellow\",\"green\",\"yellow\",\"green\",\"red\",\"green\",\"yellow\",\"red\",\"yellow\",\"blue\",\"green\",\"green\",\"green\",\"red\",\"yellow\",\"yellow\",\"green\",\"red\",\"red\",\"red\",\"green\",\"red\",\"red\",\"red\",\"green\",\"green\",\"green\",\"yellow\",\"yellow\",\"green\",\"blue\",\"blue\",\"green\",\"red\",\"blue\",\"red\",\"blue\",\"green\",\"blue\",\"yellow\",\"red\",\"red\",\"red\",\"green\",\"green\",\"blue\",\"yellow\",\"green\",\"green\",\"red\",\"yellow\",\"green\",\"blue\",\"green\",\"blue\",\"blue\",\"green\",\"green\",\"green\",\"green\",\"green\",\"blue\",\"yellow\",\"yellow\",\"green\",\"green\",\"red\",\"red\",\"yellow\",\"red\",\"red\",\"blue\",\"blue\",\"green\",\"blue\",\"red\",\"yellow\",\"red\",\"yellow\",\"red\",\"green\",\"yellow\",\"yellow\",\"yellow\",\"green\",\"blue\",\"green\",\"green\",\"yellow\",\"yellow\",\"yellow\",\"yellow\",\"yellow\",\"green\",\"yellow\",\"green\",\"blue\",\"yellow\",\"yellow\",\"blue\",\"blue\",\"blue\",\"blue\",\"yellow\",\"yellow\",\"yellow\",\"green\",\"green\",\"yellow\",\"green\",\"blue\",\"green\",\"green\",\"blue\",\"green\",\"yellow\",\"green\",\"blue\",\"yellow\",\"yellow\",\"blue\",\"green\",\"blue\",\"blue\",\"blue\",\"red\",\"green\",\"yellow\",\"blue\",\"green\",\"green\",\"blue\",\"red\",\"green\",\"blue\",\"blue\",\"green\",\"red\",\"green\",\"red\",\"green\",\"yellow\",\"yellow\",\"green\",\"green\",\"yellow\",\"green\",\"red\",\"red\",\"yellow\",\"green\",\"yellow\",\"green\",\"green\",\"green\",\"yellow\",\"red\",\"red\",\"red\",\"blue\",\"red\",\"green\",\"blue\",\"green\",\"green\",\"yellow\",\"green\",\"yellow\",\"blue\",\"red\",\"blue\",\"blue\",\"green\",\"green\",\"red\",\"green\",\"red\",\"yellow\",\"green\",\"yellow\",\"green\",\"red\",\"red\",\"blue\",\"red\",\"red\",\"green\",\"green\",\"yellow\",\"red\",\"blue\",\"red\",\"red\",\"yellow\",\"yellow\",\"yellow\",\"yellow\",\"green\",\"yellow\",\"green\",\"red\",\"red\",\"red\",\"green\",\"yellow\",\"yellow\",\"green\",\"yellow\",\"yellow\",\"green\",\"green\",\"red\",\"green\",\"green\",\"yellow\",\"green\",\"red\",\"yellow\",\"green\",\"green\",\"red\",\"blue\",\"blue\",\"red\",\"red\",\"red\",\"red\",\"red\",\"green\",\"red\",\"green\",\"green\",\"blue\",\"yellow\",\"blue\",\"red\",\"green\",\"blue\",\"blue\",\"red\",\"yellow\",\"red\",\"blue\",\"red\",\"red\",\"red\",\"green\",\"blue\",\"red\",\"red\",\"yellow\",\"blue\",\"yellow\",\"blue\",\"yellow\",\"yellow\",\"red\",\"red\",\"blue\",\"blue\",\"blue\",\"green\",\"yellow\",\"red\",\"yellow\",\"yellow\",\"yellow\",\"blue\",\"green\",\"blue\",\"green\",\"blue\",\"green\",\"blue\",\"green\",\"yellow\",\"blue\",\"green\",\"red\",\"red\",\"blue\",\"green\",\"yellow\",\"blue\",\"green\",\"blue\",\"blue\",\"green\",\"yellow\",\"green\",\"red\",\"green\",\"red\",\"green\",\"yellow\",\"red\",\"green\",\"green\",\"green\",\"yellow\",\"red\",\"yellow\",\"yellow\",\"yellow\",\"green\",\"green\",\"green\",\"blue\",\"blue\",\"green\",\"yellow\",\"blue\",\"blue\",\"red\",\"yellow\",\"yellow\",\"yellow\",\"yellow\",\"blue\",\"green\",\"red\",\"yellow\",\"yellow\",\"red\",\"yellow\",\"green\",\"yellow\",\"green\",\"blue\",\"green\",\"blue\",\"blue\",\"yellow\",\"blue\",\"blue\",\"yellow\",\"blue\",\"green\",\"yellow\",\"yellow\",\"green\",\"red\",\"yellow\",\"yellow\",\"green\",\"yellow\",\"blue\",\"green\",\"blue\",\"blue\",\"red\",\"blue\",\"blue\",\"green\",\"blue\",\"green\",\"green\",\"yellow\",\"yellow\",\"green\",\"yellow\",\"green\",\"blue\",\"blue\",\"blue\",\"yellow\",\"green\",\"red\",\"yellow\",\"red\",\"blue\",\"yellow\",\"blue\",\"yellow\",\"red\",\"green\",\"yellow\",\"green\",\"red\",\"red\",\"yellow\",\"red\",\"yellow\",\"yellow\",\"blue\",\"yellow\",\"yellow\",\"red\",\"yellow\",\"red\",\"blue\",\"blue\",\"yellow\",\"green\",\"yellow\",\"blue\",\"yellow\",\"green\",\"yellow\",\"yellow\",\"yellow\",\"green\",\"blue\",\"red\",\"red\",\"yellow\",\"green\",\"yellow\",\"blue\"],\"index\":[0,1,2,3,4,5,6,7,8,9,10,11,12,13,14,15,16,17,18,19,20,21,22,23,24,25,26,27,28,29,30,31,32,33,34,35,36,37,38,39,40,41,42,43,44,45,46,47,48,49,50,51,52,53,54,55,56,57,58,59,60,61,62,63,64,65,66,67,68,69,70,71,72,73,74,75,76,77,78,79,80,81,82,83,84,85,86,87,88,89,90,91,92,93,94,95,96,97,98,99,100,101,102,103,104,105,106,107,108,109,110,111,112,113,114,115,116,117,118,119,120,121,122,123,124,125,126,127,128,129,130,131,132,133,134,135,136,137,138,139,140,141,142,143,144,145,146,147,148,149,150,151,152,153,154,155,156,157,158,159,160,161,162,163,164,165,166,167,168,169,170,171,172,173,174,175,176,177,178,179,180,181,182,183,184,185,186,187,188,189,190,191,192,193,194,195,196,197,198,199,200,201,202,203,204,205,206,207,208,209,210,211,212,213,214,215,216,217,218,219,220,221,222,223,224,225,226,227,228,229,230,231,232,233,234,235,236,237,238,239,240,241,242,243,244,245,246,247,248,249,250,251,252,253,254,255,256,257,258,259,260,261,262,263,264,265,266,267,268,269,270,271,272,273,274,275,276,277,278,279,280,281,282,283,284,285,286,287,288,289,290,291,292,293,294,295,296,297,298,299,300,301,302,303,304,305,306,307,308,309,310,311,312,313,314,315,316,317,318,319,320,321,322,323,324,325,326,327,328,329,330,331,332,333,334,335,336,337,338,339,340,341,342,343,344,345,346,347,348,349,350,351,352,353,354,355,356,357,358,359,360,361,362,363,364,365,366,367,368,369,370,371,372,373,374,375,376,377,378,379,380,381,382,383,384,385,386,387,388,389,390,391,392,393,394,395,396,397,398,399,400,401,402,403,404,405,406,407,408,409,410,411,412,413,414,415,416,417,418,419,420,421,422,423,424,425,426,427,428,429,430,431,432,433,434,435,436,437,438,439,440,441,442,443,444,445,446,447,448,449,450,451,452,453,454,455,456,457,458,459,460,461,462,463,464,465,466,467,468,469,470,471,472,473,474,475,476,477,478,479,480,481,482,483,484,485,486,487,488,489,490,491,492,493,494,495,496,497,498,499],\"type\":[\"rabbit\",\"pooh\",\"piglet\",\"pooh\",\"rabbit\",\"rabbit\",\"pooh\",\"rabbit\",\"piglet\",\"rabbit\",\"rabbit\",\"Christopher\",\"rabbit\",\"piglet\",\"pooh\",\"piglet\",\"pooh\",\"piglet\",\"pooh\",\"piglet\",\"pooh\",\"piglet\",\"rabbit\",\"piglet\",\"rabbit\",\"piglet\",\"rabbit\",\"pooh\",\"rabbit\",\"rabbit\",\"pooh\",\"piglet\",\"Christopher\",\"pooh\",\"piglet\",\"Christopher\",\"Christopher\",\"pooh\",\"rabbit\",\"Christopher\",\"Christopher\",\"rabbit\",\"pooh\",\"pooh\",\"pooh\",\"piglet\",\"piglet\",\"pooh\",\"piglet\",\"pooh\",\"pooh\",\"pooh\",\"Christopher\",\"Christopher\",\"piglet\",\"piglet\",\"piglet\",\"Christopher\",\"piglet\",\"Christopher\",\"piglet\",\"Christopher\",\"piglet\",\"piglet\",\"rabbit\",\"Christopher\",\"piglet\",\"rabbit\",\"piglet\",\"rabbit\",\"piglet\",\"rabbit\",\"pooh\",\"piglet\",\"pooh\",\"Christopher\",\"rabbit\",\"piglet\",\"rabbit\",\"pooh\",\"rabbit\",\"pooh\",\"pooh\",\"pooh\",\"piglet\",\"Christopher\",\"Christopher\",\"piglet\",\"Christopher\",\"rabbit\",\"piglet\",\"rabbit\",\"piglet\",\"Christopher\",\"Christopher\",\"rabbit\",\"Christopher\",\"Christopher\",\"pooh\",\"piglet\",\"Christopher\",\"Christopher\",\"Christopher\",\"pooh\",\"rabbit\",\"rabbit\",\"rabbit\",\"Christopher\",\"Christopher\",\"Christopher\",\"rabbit\",\"piglet\",\"pooh\",\"piglet\",\"Christopher\",\"Christopher\",\"pooh\",\"pooh\",\"piglet\",\"pooh\",\"Christopher\",\"Christopher\",\"Christopher\",\"rabbit\",\"pooh\",\"Christopher\",\"pooh\",\"piglet\",\"rabbit\",\"pooh\",\"rabbit\",\"Christopher\",\"piglet\",\"rabbit\",\"piglet\",\"rabbit\",\"piglet\",\"pooh\",\"pooh\",\"Christopher\",\"rabbit\",\"Christopher\",\"rabbit\",\"rabbit\",\"piglet\",\"pooh\",\"piglet\",\"rabbit\",\"piglet\",\"pooh\",\"pooh\",\"piglet\",\"pooh\",\"pooh\",\"rabbit\",\"pooh\",\"pooh\",\"pooh\",\"rabbit\",\"rabbit\",\"Christopher\",\"piglet\",\"Christopher\",\"pooh\",\"pooh\",\"Christopher\",\"piglet\",\"pooh\",\"Christopher\",\"rabbit\",\"rabbit\",\"rabbit\",\"rabbit\",\"pooh\",\"Christopher\",\"piglet\",\"pooh\",\"pooh\",\"rabbit\",\"pooh\",\"piglet\",\"pooh\",\"rabbit\",\"rabbit\",\"Christopher\",\"piglet\",\"piglet\",\"rabbit\",\"rabbit\",\"pooh\",\"Christopher\",\"piglet\",\"rabbit\",\"piglet\",\"pooh\",\"pooh\",\"piglet\",\"rabbit\",\"piglet\",\"rabbit\",\"rabbit\",\"pooh\",\"piglet\",\"rabbit\",\"rabbit\",\"rabbit\",\"pooh\",\"piglet\",\"rabbit\",\"Christopher\",\"pooh\",\"pooh\",\"Christopher\",\"piglet\",\"piglet\",\"rabbit\",\"Christopher\",\"rabbit\",\"pooh\",\"Christopher\",\"pooh\",\"pooh\",\"pooh\",\"pooh\",\"Christopher\",\"Christopher\",\"pooh\",\"pooh\",\"Christopher\",\"rabbit\",\"rabbit\",\"pooh\",\"Christopher\",\"pooh\",\"pooh\",\"Christopher\",\"pooh\",\"rabbit\",\"piglet\",\"piglet\",\"rabbit\",\"rabbit\",\"pooh\",\"Christopher\",\"pooh\",\"Christopher\",\"rabbit\",\"piglet\",\"piglet\",\"Christopher\",\"rabbit\",\"rabbit\",\"Christopher\",\"piglet\",\"piglet\",\"Christopher\",\"Christopher\",\"rabbit\",\"rabbit\",\"piglet\",\"rabbit\",\"rabbit\",\"piglet\",\"piglet\",\"Christopher\",\"Christopher\",\"Christopher\",\"pooh\",\"piglet\",\"rabbit\",\"Christopher\",\"rabbit\",\"Christopher\",\"rabbit\",\"piglet\",\"pooh\",\"Christopher\",\"rabbit\",\"Christopher\",\"rabbit\",\"rabbit\",\"pooh\",\"pooh\",\"pooh\",\"piglet\",\"piglet\",\"Christopher\",\"piglet\",\"rabbit\",\"Christopher\",\"Christopher\",\"rabbit\",\"Christopher\",\"Christopher\",\"rabbit\",\"rabbit\",\"Christopher\",\"piglet\",\"rabbit\",\"pooh\",\"Christopher\",\"rabbit\",\"Christopher\",\"pooh\",\"rabbit\",\"Christopher\",\"pooh\",\"Christopher\",\"piglet\",\"piglet\",\"Christopher\",\"pooh\",\"rabbit\",\"pooh\",\"rabbit\",\"piglet\",\"rabbit\",\"pooh\",\"rabbit\",\"Christopher\",\"Christopher\",\"Christopher\",\"Christopher\",\"rabbit\",\"piglet\",\"Christopher\",\"pooh\",\"pooh\",\"rabbit\",\"Christopher\",\"Christopher\",\"piglet\",\"rabbit\",\"piglet\",\"rabbit\",\"Christopher\",\"pooh\",\"piglet\",\"Christopher\",\"pooh\",\"pooh\",\"piglet\",\"Christopher\",\"Christopher\",\"piglet\",\"Christopher\",\"rabbit\",\"piglet\",\"Christopher\",\"piglet\",\"Christopher\",\"piglet\",\"pooh\",\"Christopher\",\"rabbit\",\"pooh\",\"piglet\",\"rabbit\",\"rabbit\",\"rabbit\",\"Christopher\",\"Christopher\",\"pooh\",\"pooh\",\"piglet\",\"rabbit\",\"piglet\",\"piglet\",\"rabbit\",\"rabbit\",\"Christopher\",\"piglet\",\"pooh\",\"pooh\",\"piglet\",\"piglet\",\"pooh\",\"piglet\",\"pooh\",\"Christopher\",\"piglet\",\"rabbit\",\"rabbit\",\"piglet\",\"rabbit\",\"Christopher\",\"rabbit\",\"Christopher\",\"piglet\",\"Christopher\",\"Christopher\",\"rabbit\",\"pooh\",\"pooh\",\"rabbit\",\"piglet\",\"pooh\",\"piglet\",\"rabbit\",\"pooh\",\"pooh\",\"Christopher\",\"Christopher\",\"pooh\",\"Christopher\",\"piglet\",\"pooh\",\"piglet\",\"piglet\",\"Christopher\",\"pooh\",\"piglet\",\"piglet\",\"rabbit\",\"Christopher\",\"piglet\",\"piglet\",\"piglet\",\"piglet\",\"pooh\",\"Christopher\",\"Christopher\",\"Christopher\",\"pooh\",\"piglet\",\"pooh\",\"piglet\",\"rabbit\",\"Christopher\",\"piglet\",\"pooh\",\"piglet\",\"rabbit\",\"pooh\",\"rabbit\",\"Christopher\",\"pooh\",\"rabbit\",\"pooh\",\"pooh\",\"Christopher\",\"piglet\",\"pooh\",\"Christopher\",\"rabbit\",\"Christopher\",\"piglet\",\"pooh\",\"pooh\",\"piglet\",\"pooh\",\"Christopher\",\"rabbit\",\"rabbit\",\"piglet\",\"piglet\",\"pooh\",\"pooh\",\"rabbit\",\"rabbit\",\"rabbit\",\"Christopher\",\"piglet\",\"pooh\",\"piglet\",\"pooh\",\"Christopher\",\"piglet\",\"pooh\",\"piglet\",\"piglet\",\"Christopher\",\"Christopher\",\"pooh\",\"piglet\",\"rabbit\",\"Christopher\",\"Christopher\",\"rabbit\",\"pooh\",\"piglet\",\"rabbit\",\"rabbit\",\"pooh\",\"piglet\",\"pooh\",\"Christopher\",\"pooh\",\"piglet\",\"Christopher\",\"Christopher\",\"Christopher\",\"Christopher\",\"piglet\",\"Christopher\",\"pooh\",\"Christopher\",\"Christopher\",\"rabbit\",\"piglet\"]},\"selected\":{\"id\":\"3467\",\"type\":\"Selection\"},\"selection_policy\":{\"id\":\"3468\",\"type\":\"UnionRenderers\"}},\"id\":\"3284\",\"type\":\"ColumnDataSource\"},{\"attributes\":{},\"id\":\"3530\",\"type\":\"LinearScale\"},{\"attributes\":{},\"id\":\"3543\",\"type\":\"ResetTool\"}],\"root_ids\":[\"3523\"]},\"title\":\"Bokeh Application\",\"version\":\"1.0.4\"}};\n",
       "  var render_items = [{\"docid\":\"4c4cb651-f61d-450a-a81e-ad0574f3c402\",\"roots\":{\"3523\":\"c7e75a6f-946f-428f-bae5-76f33b5da4a1\"}}];\n",
       "  root.Bokeh.embed.embed_items_notebook(docs_json, render_items);\n",
       "\n",
       "  }\n",
       "  if (root.Bokeh !== undefined) {\n",
       "    embed_document(root);\n",
       "  } else {\n",
       "    var attempts = 0;\n",
       "    var timer = setInterval(function(root) {\n",
       "      if (root.Bokeh !== undefined) {\n",
       "        embed_document(root);\n",
       "        clearInterval(timer);\n",
       "      }\n",
       "      attempts++;\n",
       "      if (attempts > 100) {\n",
       "        console.log(\"Bokeh: ERROR: Unable to run BokehJS code because BokehJS library is missing\");\n",
       "        clearInterval(timer);\n",
       "      }\n",
       "    }, 10, root)\n",
       "  }\n",
       "})(window);"
      ],
      "application/vnd.bokehjs_exec.v0+json": ""
     },
     "metadata": {
      "application/vnd.bokehjs_exec.v0+json": {
       "id": "3523"
      }
     },
     "output_type": "display_data"
    },
    {
     "name": "stdout",
     "output_type": "stream",
     "text": [
      "HoverTool(id='3285', ...)\n"
     ]
    }
   ],
   "source": [
    "# 工具栏 tools\n",
    "# （4）提示框、十字线\n",
    "\n",
    "from bokeh.models import HoverTool\n",
    "# 用于设置显示标签内容\n",
    "\n",
    "df = pd.DataFrame({'A':np.random.randn(500)*100,\n",
    "                  'B':np.random.randn(500)*100,\n",
    "                  'type':np.random.choice(['pooh', 'rabbit', 'piglet', 'Christopher'],500),\n",
    "                  'color':np.random.choice(['red', 'yellow', 'blue', 'green'],500)})\n",
    "df.index.name = 'index'\n",
    "source = ColumnDataSource(df)\n",
    "print(df.head())\n",
    "# 创建数据 → 包含四个标签\n",
    "\n",
    "hover = HoverTool(tooltips=[\n",
    "                            (\"index\", \"$index\"),\n",
    "                            (\"(x,y)\", \"($x, $y)\"),\n",
    "                            (\"A\", \"@A\"),\n",
    "                            (\"B\", \"@B\"),\n",
    "                            (\"type\", \"@type\"),\n",
    "                            (\"color\", \"@color\"),\n",
    "                        ])\n",
    "# 设置标签显示内容\n",
    "# $index：自动计算 → 数据index\n",
    "# $x：自动计算 → 数据x值\n",
    "# $y：自动计算 → 数据y值\n",
    "# @A：显示ColumnDataSource中对应字段值\n",
    "\n",
    "p1 = figure(plot_width=800, plot_height=400,toolbar_location=\"above\",\n",
    "            tools=[hover,'box_select,reset,wheel_zoom,pan,crosshair'])   # 注意这里书写方式\n",
    "# 如果不设置标签，就只写hover，例如 tools='hover,box_select,reset,wheel_zoom,pan,crosshair'\n",
    "p1.circle(x = 'A',y = 'B',source = source,size = 10,alpha = 0.3, color = 'color')\n",
    "show(p1)\n",
    "\n",
    "p2 = figure(plot_width=800, plot_height=400,toolbar_location=\"above\",\n",
    "           tools=[hover,'box_select,reset,wheel_zoom,pan'])\n",
    "p2.vbar(x = 'index', width=1, top='A',source = source)\n",
    "show(p2)\n",
    "print(hover)"
   ]
  }
 ],
 "metadata": {
  "kernelspec": {
   "display_name": "Python 3",
   "language": "python",
   "name": "python3"
  },
  "language_info": {
   "codemirror_mode": {
    "name": "ipython",
    "version": 3
   },
   "file_extension": ".py",
   "mimetype": "text/x-python",
   "name": "python",
   "nbconvert_exporter": "python",
   "pygments_lexer": "ipython3",
   "version": "3.7.2"
  }
 },
 "nbformat": 4,
 "nbformat_minor": 2
}
