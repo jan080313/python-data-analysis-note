{
 "cells": [
  {
   "cell_type": "code",
   "execution_count": null,
   "metadata": {},
   "outputs": [],
   "source": [
    "#函数 完成某个工作的代码块，由语句构成\n",
    "#函数名称 内置函数有特定的函数名称\n",
    "#函数参数  函数（）内的数\n",
    "#函数内的算法，内置函数可用help查看说明\n",
    "#！！！常用内置函数"
   ]
  },
  {
   "cell_type": "code",
   "execution_count": null,
   "metadata": {},
   "outputs": [],
   "source": [
    "'''\n",
    "【课程6.2】  自定义函数\n",
    "\n",
    "如何创建函数？def语句\n",
    "\n",
    "'''"
   ]
  },
  {
   "cell_type": "code",
   "execution_count": null,
   "metadata": {},
   "outputs": [],
   "source": [
    "# 定义函数\n",
    "\n",
    "var = float(input('请输入一个数字'))\n",
    "\n",
    "def f(x):\n",
    "    if x>0:\n",
    "        print('正数')\n",
    "    elif x==0:\n",
    "        print('为零')\n",
    "    else:\n",
    "        print('负数')\n",
    "f(var)\n",
    "var2 = float(input('请输入第二个数字'))\n",
    "f(var2)"
   ]
  },
  {
   "cell_type": "code",
   "execution_count": null,
   "metadata": {},
   "outputs": [],
   "source": [
    "#关于return\n",
    "\n",
    "def f1(x):\n",
    "    y = 2**x\n",
    "    return y \n",
    "print('生成的结果为%i' %f1(5))\n"
   ]
  },
  {
   "cell_type": "code",
   "execution_count": null,
   "metadata": {},
   "outputs": [],
   "source": [
    "def f(lst1,lst2):\n",
    "    m=[]\n",
    "    for i in range(len(lst1)):\n",
    "        m.append([lst1[i],lst2[i]])\n",
    "    return(m)\n",
    "a = [1,2,3]\n",
    "b= ['a','b','c']\n",
    "print(f(a,b))\n",
    "print(dict(f(a,b)))"
   ]
  },
  {
   "cell_type": "code",
   "execution_count": null,
   "metadata": {},
   "outputs": [],
   "source": [
    "# 默认参数\n",
    "\n",
    "def f(x,n = 2):\n",
    "    return(x**n)\n",
    "print(f(10))\n",
    "print(f(10,3))\n",
    "# n = 2,这里n的默认值为2，如果不输入则以默认值为主"
   ]
  },
  {
   "cell_type": "code",
   "execution_count": null,
   "metadata": {},
   "outputs": [],
   "source": [
    "#可变参数\n",
    "def f(*x):\n",
    "    return(x)\n",
    "print(f(1,2,3,4,5,6))\n",
    "\n",
    "# 通过*来定义可变参数\n",
    "# 默认会把可变参数传入一个元祖！"
   ]
  },
  {
   "cell_type": "code",
   "execution_count": null,
   "metadata": {},
   "outputs": [],
   "source": [
    "#作业\n",
    "#1.函数f（x），输入一个字符串，分别print出每个字母\n",
    "def f(st):\n",
    "    for s in st:\n",
    "        print(s)\n",
    "st_input = input('请输入一个字符串')\n",
    "f(st_input)   "
   ]
  },
  {
   "cell_type": "code",
   "execution_count": null,
   "metadata": {},
   "outputs": [],
   "source": [
    "#2. f(x,y,z),函数内部算法：生成 ((x+y)*(x-y))*z\n",
    "def f(x,y,z):\n",
    "    y = ((x+y)*(x-y))*z\n",
    "    return y\n",
    "print(f(2,3,4))"
   ]
  },
  {
   "cell_type": "code",
   "execution_count": null,
   "metadata": {},
   "outputs": [],
   "source": [
    "#编写一个求平均值的函数 f(*m)\n",
    "def f(*m):\n",
    "    s = 0\n",
    "    lst = []\n",
    "    for i in m:\n",
    "        while str(i).isnumeric():\n",
    "            s = s + i\n",
    "            lst.append(i)\n",
    "            break\n",
    "        else:\n",
    "            print('输入内容包含非数字')\n",
    "        print(lst)\n",
    "    return(s/len(lst))\n",
    "print(f(1,2,'a',4,5))"
   ]
  },
  {
   "cell_type": "code",
   "execution_count": null,
   "metadata": {},
   "outputs": [],
   "source": [
    "#定义一个函数，用于求矩形面积、圆形面积\n",
    "def f(x,y):\n",
    "    z = x*y\n",
    "    print('矩形面积为%.2f' %z)\n",
    "f(3,2)\n",
    "import math\n",
    "def f1(a):\n",
    "    c = (a**2)*math.pi\n",
    "    print('圆形面积为%.2f'%c)\n",
    "f1(2)"
   ]
  },
  {
   "cell_type": "code",
   "execution_count": null,
   "metadata": {},
   "outputs": [],
   "source": [
    "#定义一个函数，函数的作用是把输入的列表变成一连串字典的key，并生成字典，需要用input输入\n",
    "lst = eval(input('请输入一个列表:'))   #eval函数 实现字符串转化为列表\n",
    "\n",
    "def f(lt):\n",
    "    return(dict.fromkeys(lt,0))   #dict.fromkeys将列表转化为字典\n",
    "f(lst)"
   ]
  },
  {
   "cell_type": "code",
   "execution_count": null,
   "metadata": {},
   "outputs": [],
   "source": [
    "'''\n",
    "【课程6.3】  局部变量及全局变量\n",
    "\n",
    "定义在函数内部的变量拥有一个局部作用域，定义在函数外的拥有全局作用域。\n",
    "\n",
    "局部变量只能在其被声明的函数内部访问，而全局变量可以在整个程序范围内访问。调用函数时，所有在函数内声明的变量名称都将被加入到作用域中\n",
    "\n",
    "'''"
   ]
  },
  {
   "cell_type": "code",
   "execution_count": null,
   "metadata": {},
   "outputs": [],
   "source": [
    "def f():\n",
    "    global m   # global语句 → 把局部变量变为全局变量\n",
    "    m = '呵呵'\n",
    "    #print(m)\n",
    "    return(m)\n",
    "m = 10\n",
    "print(a)\n",
    "print(f())\n",
    "print(m)"
   ]
  },
  {
   "cell_type": "code",
   "execution_count": null,
   "metadata": {},
   "outputs": [],
   "source": [
    "'''\n",
    "【课程6.4】  匿名函数Lambda\n",
    "\n",
    "lambda 语句创建匿名函数。\n",
    "\n",
    "'''"
   ]
  },
  {
   "cell_type": "code",
   "execution_count": null,
   "metadata": {},
   "outputs": [],
   "source": [
    "def f(a,b,c):\n",
    "    return(a+b+c)\n",
    "print(f(1,2,3))\n",
    "\n",
    "f = lambda a,b,c:a+b+c\n",
    "print(f(1,2,3))\n",
    "# lambda作为匿名函数，是不需要函数名的 → 需要一个函数，又不想动脑筋去想名字，这就是匿名函数\n",
    "# lambda的主体是一个表达式，而不是一个代码块。\n",
    "# lambda只有一行，仅仅能在lambda表达式中封装有限的逻辑进去。"
   ]
  },
  {
   "cell_type": "code",
   "execution_count": null,
   "metadata": {},
   "outputs": [],
   "source": [
    "#作业\n",
    "# 用lambda创建一个求元素个数的匿名函数\n",
    "f = lambda lst:len(lst)\n",
    "print(f([1,2,3,4,5]))"
   ]
  },
  {
   "cell_type": "code",
   "execution_count": null,
   "metadata": {},
   "outputs": [],
   "source": [
    "#定义一个函数，可将输入的所有数字从大到小依次排序\n",
    "def f(*var):                    #讲所有数字排序 需要用到可变函数\n",
    "    lst = list(var)             #因为可变函数是元祖，先将其转化为列表\n",
    "    lst_re = sorted(lst,reverse = True)        #再将列表进行排序\n",
    "    return(lst_re)\n",
    "print(f(2,3,3548,845,54))"
   ]
  },
  {
   "cell_type": "code",
   "execution_count": 4,
   "metadata": {},
   "outputs": [
    {
     "name": "stdout",
     "output_type": "stream",
     "text": [
      "请输入成绩:98\n",
      "成绩为：A\n"
     ]
    }
   ],
   "source": [
    "#定义一个函数，随机输入一个学生的成绩后，学习成绩>=90分的同学用A表示，60-89分之间的用B表示，60分以下的用C表示，最后输出成绩评分\n",
    "def f(*g):\n",
    "    for i in g:\n",
    "        if i>= 90:\n",
    "            print('成绩为：A')\n",
    "        elif 60<i and i<89:\n",
    "            print('成绩为：B')\n",
    "        else:\n",
    "            print('成绩为: C')\n",
    "x = int(input('请输入成绩:'))    #!!!!!!!!!!!!  input的内容为字符串！！！！ 要转化为整数才能和数字进行比较！！！！ \n",
    "f(x)"
   ]
  },
  {
   "cell_type": "code",
   "execution_count": 5,
   "metadata": {},
   "outputs": [
    {
     "name": "stdout",
     "output_type": "stream",
     "text": [
      "['B', 'A', 'B', 'B', 'A']\n",
      "83.4\n"
     ]
    }
   ],
   "source": [
    "#定义一个函数，随机输入一个学生的成绩后，学习成绩>=90分的同学用A表示，60-89分之间的用B表示，60分以下的用C表示，最后输出成绩评分\n",
    "def f(*scores):\n",
    "    s = 0 \n",
    "    m = []\n",
    "    for i in scores:\n",
    "        if i >= 90:\n",
    "            m.append('A')\n",
    "        elif i>60 and i<90:\n",
    "            m.append('B')\n",
    "        else:\n",
    "            m.append('C')\n",
    "        s += i\n",
    "    mean = s/len(scores)\n",
    "    return([m,mean])\n",
    "result = f(89,92,78,65,93)\n",
    "print(result[0])\n",
    "print(result[1])"
   ]
  },
  {
   "cell_type": "code",
   "execution_count": 19,
   "metadata": {
    "scrolled": true
   },
   "outputs": [
    {
     "name": "stdout",
     "output_type": "stream",
     "text": [
      "请输入字符串GUYG325@#$%@  adfhsuib78#\n",
      "字符中英文字符个数12\n",
      "字符中空格个数2\n",
      "字符中数字个数5\n",
      "字符中其他字符个数6\n"
     ]
    }
   ],
   "source": [
    "#定义一个函数，可统计出输入任意的字符中英文字母、空格、数字和其它字符的个数\n",
    "st.isalpha()\n",
    "st.isspace()\n",
    "st.isdigit()\n",
    "\n",
    "def f(st):           #先定义函数变量，确定函数为字符串\n",
    "    a = [] \n",
    "    b = []\n",
    "    c = []\n",
    "    d = []           #因为要区分四种不同类型字符，定义四个列表来装入这些字符，计算个数\n",
    "    lst = list(st)   #将函数中的字符串转化为列表\n",
    "    for i in lst:\n",
    "        if i.isalpha():    \n",
    "            a.append(i)\n",
    "        elif i.isspace():\n",
    "            b.append(i)\n",
    "        elif i.isdigit():\n",
    "            c.append(i)\n",
    "        else:\n",
    "            d.append(i)    #调用方法来判断列表中每个值是因为字母 还是空格 还是数字，还是其他字符\n",
    "    print('字符中英文字符个数%i' %len(a))\n",
    "    print('字符中空格个数%i' %len(b))\n",
    "    print('字符中数字个数%i' %len(c))\n",
    "    print('字符中其他字符个数%i' %len(d))\n",
    "st1 = input('请输入字符串') \n",
    "f(st1)"
   ]
  }
 ],
 "metadata": {
  "kernelspec": {
   "display_name": "Python 3",
   "language": "python",
   "name": "python3"
  },
  "language_info": {
   "codemirror_mode": {
    "name": "ipython",
    "version": 3
   },
   "file_extension": ".py",
   "mimetype": "text/x-python",
   "name": "python",
   "nbconvert_exporter": "python",
   "pygments_lexer": "ipython3",
   "version": "3.7.1"
  }
 },
 "nbformat": 4,
 "nbformat_minor": 2
}
