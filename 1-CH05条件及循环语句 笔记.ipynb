{
 "cells": [
  {
   "cell_type": "code",
   "execution_count": null,
   "metadata": {},
   "outputs": [],
   "source": [
    "'''\n",
    "最基本的语句：赋值语句  运行函数/方法\n",
    "条件语句：if\n",
    "循环语句：for/while 循环，遍历序列/字典等\n",
    "函数语句：def函数等\n",
    "模块语句：import\n",
    "'''"
   ]
  },
  {
   "cell_type": "code",
   "execution_count": null,
   "metadata": {},
   "outputs": [],
   "source": [
    "a = 1\n",
    "lst = list(range(10))\n",
    "#赋值语句\n",
    "\n",
    "print(a,lst)\n",
    "lst.index(5)\n",
    "#运行语句\n",
    "\n",
    "a = 10\n",
    "if a>5:\n",
    "    print('比5大')\n",
    "# if语句\n",
    "\n",
    "for i in range(10):\n",
    "    print('h'*i)\n",
    "    \n",
    "n = 0\n",
    "while n < 10:\n",
    "    print('hehe')\n",
    "    n=n+1\n",
    "#循环语句\n",
    "\n",
    "def f():\n",
    "    print('hello world!')\n",
    "f()\n",
    "#函数语句\n",
    "\n",
    "import this \n",
    "#模块语句"
   ]
  },
  {
   "cell_type": "code",
   "execution_count": null,
   "metadata": {},
   "outputs": [],
   "source": [
    "'''\n",
    "【课程5.2】  条件判断：if语句\n",
    "\n",
    "Python条件语句是通过一条或多条语句的执行结果（True或者False）来决定执行的代码块。\n",
    "\n",
    "if 判断条件：\n",
    "    执行语句……\n",
    "else：\n",
    "    执行语句……\n",
    "    \n",
    "** 开始有缩进的概念\n",
    "\n",
    "'''"
   ]
  },
  {
   "cell_type": "code",
   "execution_count": null,
   "metadata": {},
   "outputs": [],
   "source": [
    "# 基本的条件判断\n",
    "age = 16\n",
    "if age <18:\n",
    "    print('18以下不能')\n",
    "# if语句后面必须有 ： \n",
    "# 自动缩进\n",
    "# if语句写完后，要退回原有缩进继续写\n",
    "# Python代码的缩进规则：具有相同缩进的代码被视为代码块"
   ]
  },
  {
   "cell_type": "code",
   "execution_count": null,
   "metadata": {},
   "outputs": [],
   "source": [
    "# 输入函数input()\n",
    "\n",
    "score = input('请输入成绩:\\n')\n",
    "print(type(score))\n",
    "print('该学生成绩为%s' %score)\n",
    "# 注意：input()返回结果都为字符串，如果需要变为数字则用到int()/float()"
   ]
  },
  {
   "cell_type": "code",
   "execution_count": null,
   "metadata": {},
   "outputs": [],
   "source": [
    "#两种情况的判断 if-else\n",
    "\n",
    "age= float(input('年龄为：'))\n",
    "if age< 18:\n",
    "    print('18岁以下不能浪')\n",
    "else:\n",
    "    print('可以浪了 ')\n",
    "print('finished!')"
   ]
  },
  {
   "cell_type": "code",
   "execution_count": null,
   "metadata": {},
   "outputs": [],
   "source": [
    "# 多种条件判断:if-elif-...-else\n",
    "\n",
    "num = int(input('请输入一个数字：'))    \n",
    "if num == 3:            # 判断num的值\n",
    "    print('boss')       \n",
    "elif num == 2:\n",
    "    print('user')\n",
    "elif num == 1:\n",
    "    print('worker')\n",
    "elif num < 0:           # 值小于零时输出\n",
    "    print('error')\n",
    "else:\n",
    "    print('roadman')    # 条件均不成立时输出"
   ]
  },
  {
   "cell_type": "code",
   "execution_count": null,
   "metadata": {},
   "outputs": [],
   "source": [
    "# 单语句多条件判断：or and  not\n",
    "\n",
    "num = 5\n",
    "if num >= 0 and num <= 10:    \n",
    "    print( 'hello')\n",
    "# 判断值是否在0~10之间\n",
    "# 输出结果: hello\n",
    " \n",
    "num = 10\n",
    "if num < 0 or num > 10:    \n",
    "    print( 'hello')\n",
    "else:\n",
    "    print( 'undefine')\n",
    "# 判断值是否在小于0或大于10\n",
    "# 输出结果: undefine\n",
    " \n",
    "num = 8\n",
    "if (num >= 0 and num <= 5) or (num >= 10 and num <= 15):    \n",
    "    print( 'hello')\n",
    "else:\n",
    "    print( 'undefine')\n",
    "# 判断值是否在0~5或者10~15之间\n",
    "# 输出结果: undefine"
   ]
  },
  {
   "cell_type": "code",
   "execution_count": null,
   "metadata": {},
   "outputs": [],
   "source": [
    "# 作业\n",
    "#编写一个简单的判断语句代码：输入某个成绩，如果成绩分数大于或等于60分，则返回及格，小于60分，则返回不及格\n",
    "\n",
    "grade = float(input())\n",
    "if grade >= 60:\n",
    "    print('及格了')\n",
    "else:\n",
    "    print('不及格')"
   ]
  },
  {
   "cell_type": "code",
   "execution_count": null,
   "metadata": {},
   "outputs": [],
   "source": [
    "#编写猜数字小游戏的代码：输入一个数字，分别针对猜对数字、猜错数字、输入错误给予判断\n",
    "\n",
    "num = input()\n",
    "if num.isdigit():   #.isdigit 此方法是判断输入内容(字符串)是否是数字\n",
    "    if num == '5':\n",
    "        print(\"猜对了\")\n",
    "    else:\n",
    "        print('猜错了')\n",
    "else:\n",
    "    print('输入错误，请重新输入')"
   ]
  },
  {
   "cell_type": "code",
   "execution_count": null,
   "metadata": {},
   "outputs": [],
   "source": [
    "''''''\n",
    "【课程5.3】  循环语句：for循环\n",
    "\n",
    "for循环可以遍历任何序列的项目，如一个列表或者一个字符串。\n",
    "\n",
    "迭代\n",
    "\n",
    "'''"
   ]
  },
  {
   "cell_type": "code",
   "execution_count": null,
   "metadata": {},
   "outputs": [],
   "source": [
    "for i in range(5):\n",
    "    print('hello')"
   ]
  },
  {
   "cell_type": "code",
   "execution_count": null,
   "metadata": {},
   "outputs": [],
   "source": [
    "lst = list(range(10))\n",
    "for i in lst[:5]:\n",
    "    print(i)\n",
    "age = {'Tom':18,'Jack':19,'Alex':17,'Mary':20}\n",
    "for keys in age.keys():\n",
    "    print(keys)\n",
    "    print(age[keys])"
   ]
  },
  {
   "cell_type": "code",
   "execution_count": null,
   "metadata": {},
   "outputs": [],
   "source": [
    "#嵌套循环\n",
    "for i in range(10):\n",
    "    for j in range(5):\n",
    "        print(i,j)"
   ]
  },
  {
   "cell_type": "code",
   "execution_count": null,
   "metadata": {},
   "outputs": [],
   "source": [
    "#作业：\n",
    "#1.生成一个数值列表，用for循环打印出所有元素\n",
    "lst = list(range(10))\n",
    "for i in lst:\n",
    "    print(i)"
   ]
  },
  {
   "cell_type": "code",
   "execution_count": null,
   "metadata": {},
   "outputs": [],
   "source": [
    "#2.用for循环遍历一个字符串，打印出各个字母\n",
    "st = input('请输入字符串')\n",
    "for s in st:\n",
    "    print(s)"
   ]
  },
  {
   "cell_type": "code",
   "execution_count": null,
   "metadata": {},
   "outputs": [],
   "source": [
    "#3.生成一个字典，分别打印出key和value\n",
    "dic = {'eggs':10,'apple':20,'banana':5}\n",
    "for food in dic:\n",
    "    print(food)\n",
    "    print(dic[food])"
   ]
  },
  {
   "cell_type": "code",
   "execution_count": null,
   "metadata": {},
   "outputs": [],
   "source": [
    "#4.用input输入一个循环次数n，打印hello world n遍\n",
    "n = int(input('请输入一个数字：'))\n",
    "for i in range(n):    #如直接用n，会报错 提示'int' object is not iterable\n",
    "    print('hello world')"
   ]
  },
  {
   "cell_type": "code",
   "execution_count": null,
   "metadata": {},
   "outputs": [],
   "source": [
    "#5. 码一个等差数列，四个变量：首项a，项数n，公差d，求和s，这几个参数都可通过input()输入\n",
    "a = float(input('请输入首项'))\n",
    "n = int(input('请输入项数'))\n",
    "d = float(input('请输入公差'))\n",
    "s = 0\n",
    "for i in range(n):\n",
    "    an = a + d*i\n",
    "    s=s + an\n",
    "print(s)"
   ]
  },
  {
   "cell_type": "code",
   "execution_count": null,
   "metadata": {},
   "outputs": [],
   "source": [
    "#6.两组列表[\"a\", \"b\", \"c\"],[1,2,3]，用for循环把它们组成一个字典，一一对应\n",
    "lst1 = [\"a\", \"b\", \"c\"]\n",
    "lst2 = [1,2,3]\n",
    "# 我们的目的是：组成字典：{'a':1,\"b\":2,\"c\":3}  \n",
    "#先要生成一个复合列表 [['a',1],['b',2],['c',3]]\n",
    "m=[]\n",
    "for i in range(3):\n",
    "    lsti = [lst1[i],lst2[i]]\n",
    "    print(lsti)\n",
    "    m.append(lsti)\n",
    "print(m)\n",
    "dic = dict(m)\n",
    "print(dic)\n",
    "print('finished')"
   ]
  },
  {
   "cell_type": "code",
   "execution_count": null,
   "metadata": {},
   "outputs": [],
   "source": [
    "'''\n",
    "【课程5.4】  循环语句：while循环\n",
    "\n",
    "执行语句可以是单个语句或语句块\n",
    "\n",
    "判断条件可以是任何表达式，任何非零、或非空（null）的值均为true。\n",
    "\n",
    "当判断条件假false时，循环结束。\n",
    "\n",
    "'''\n"
   ]
  },
  {
   "cell_type": "code",
   "execution_count": null,
   "metadata": {},
   "outputs": [],
   "source": [
    "# 基本运行逻辑\n",
    "\n",
    "count = 0\n",
    "while count < 9:\n",
    "    print( 'The count is:', count)\n",
    "    count = count + 1\n",
    "print( \"Good bye!\")\n",
    "# 这里count<9是一个判断语句，当判断为True时，则继续运行\n",
    "#!!!避免无限循环"
   ]
  },
  {
   "cell_type": "code",
   "execution_count": null,
   "metadata": {},
   "outputs": [],
   "source": [
    "#while-else 语句\n",
    "count = 0 \n",
    "while count < 5:\n",
    "    print('count小于5')\n",
    "    count += 1 #等价于count = count +1\n",
    "else:\n",
    "    print('count大于等于5')\n",
    "#逻辑和if-else一样"
   ]
  },
  {
   "cell_type": "code",
   "execution_count": null,
   "metadata": {},
   "outputs": [],
   "source": [
    "'''\n",
    "【课程5.5】  循环控制语句\n",
    "\n",
    "break：在语句块执行过程中终止循环，并且跳出整个循环\n",
    "\n",
    "continue：在语句块执行过程中跳出该次循环，执行下一次循环\n",
    "\n",
    "pass：pass是空语句，是为了保持程序结构的完整性\n",
    "\n",
    "'''"
   ]
  },
  {
   "cell_type": "code",
   "execution_count": null,
   "metadata": {},
   "outputs": [],
   "source": [
    "#break 语句\n",
    "s = 0\n",
    "n = 1\n",
    "while n >0:\n",
    "    s = s + n\n",
    "    n += 1\n",
    "    if n == 20:\n",
    "        break\n",
    "print(s)\n",
    "\n",
    "s = 0\n",
    "n = 0\n",
    "for i in range(10):\n",
    "    for j in range(5):\n",
    "        s = s + (i*j)\n",
    "        n += 1\n",
    "        print('第%i次运算'%n)\n",
    "        if s >20:\n",
    "            break\n",
    "print(s)"
   ]
  },
  {
   "cell_type": "code",
   "execution_count": 4,
   "metadata": {},
   "outputs": [
    {
     "name": "stdout",
     "output_type": "stream",
     "text": [
      "n等于0\n",
      "n等于1\n",
      "n等于2\n",
      "n等于3\n",
      "n等于4\n",
      "n等于5\n",
      "n等于6\n",
      "n等于7\n",
      "n等于8\n",
      "n等于9\n",
      "n等于12\n",
      "n等于13\n",
      "n等于14\n",
      "n等于15\n",
      "n等于16\n",
      "n等于17\n",
      "n等于18\n",
      "n等于19\n"
     ]
    }
   ],
   "source": [
    "# continue语句\n",
    "\n",
    "n = 0 \n",
    "while n <20:\n",
    "    if n == 10 :\n",
    "        n = 12\n",
    "        continue\n",
    "    print('n等于%i' %n)\n",
    "    n += 1"
   ]
  },
  {
   "cell_type": "code",
   "execution_count": 7,
   "metadata": {},
   "outputs": [
    {
     "name": "stdout",
     "output_type": "stream",
     "text": [
      "当前字母 : P\n",
      "当前字母 : y\n",
      "当前字母 : t\n",
      "当前字母 : h，但是我pass了\n",
      "当前字母 : h\n",
      "当前字母 : o\n",
      "当前字母 : n\n",
      "Good bye!\n"
     ]
    }
   ],
   "source": [
    "#pass 语句 \n",
    "for letter in 'Python':\n",
    "    if letter == 'h':\n",
    "        pass\n",
    "        print( '当前字母 : h，但是我pass了')\n",
    "    print( '当前字母 :', letter)\n",
    "print( \"Good bye!\")\n",
    "# pass是空语句，是为了保持程序结构的完整性。（不中断也不跳过）"
   ]
  }
 ],
 "metadata": {
  "kernelspec": {
   "display_name": "Python 3",
   "language": "python",
   "name": "python3"
  },
  "language_info": {
   "codemirror_mode": {
    "name": "ipython",
    "version": 3
   },
   "file_extension": ".py",
   "mimetype": "text/x-python",
   "name": "python",
   "nbconvert_exporter": "python",
   "pygments_lexer": "ipython3",
   "version": "3.7.1"
  }
 },
 "nbformat": 4,
 "nbformat_minor": 2
}
