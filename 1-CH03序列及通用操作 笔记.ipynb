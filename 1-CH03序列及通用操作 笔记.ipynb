{
 "cells": [
  {
   "cell_type": "code",
   "execution_count": 2,
   "metadata": {},
   "outputs": [
    {
     "data": {
      "text/plain": [
       "'\\n【课程3.2】  序列通用操作\\n\\n序列分类：可变序列list，不可变序列tuple、str\\n\\n'"
      ]
     },
     "execution_count": 2,
     "metadata": {},
     "output_type": "execute_result"
    }
   ],
   "source": [
    "'''\n",
    "【课程3.2】  序列通用操作\n",
    "\n",
    "序列分类：可变序列list，不可变序列tuple、str\n",
    "\n",
    "'''"
   ]
  },
  {
   "cell_type": "code",
   "execution_count": 7,
   "metadata": {},
   "outputs": [
    {
     "name": "stdout",
     "output_type": "stream",
     "text": [
      "True\n",
      "True\n",
      "True\n"
     ]
    }
   ],
   "source": [
    "#判断至是否属于序列\n",
    "lst  = [1,2,3,4,5,6,7,8]\n",
    "a,b,c=1,2.0,'hello'\n",
    "print(a in lst)\n",
    "print(b in lst)\n",
    "print(c not in lst)"
   ]
  },
  {
   "cell_type": "code",
   "execution_count": 14,
   "metadata": {},
   "outputs": [
    {
     "name": "stdout",
     "output_type": "stream",
     "text": [
      "['a', 'b', 1, 2, 3]\n",
      "[1, 2, 3, 1, 2, 3, 1, 2, 3] ['a', 'b', 'a', 'b']\n"
     ]
    }
   ],
   "source": [
    "#序列连接与重复\n",
    "\n",
    "lst1 = [1,2,3]\n",
    "lst2 = ['a','b']\n",
    "print(lst2+lst1)\n",
    "#lst1.append(lst2)\n",
    "#print(lst1)\n",
    "print(lst1*3,lst2*2)"
   ]
  },
  {
   "cell_type": "code",
   "execution_count": 21,
   "metadata": {},
   "outputs": [
    {
     "name": "stdout",
     "output_type": "stream",
     "text": [
      "[1, 2, 3, 4, 'hello', 6, 7, 8]\n",
      "1 3 8\n",
      "8 6\n",
      "[1, 2, 3, 4, 'hello', 6, 7, 8]\n"
     ]
    }
   ],
   "source": [
    "#下标索引\n",
    "print(lst)\n",
    "print(lst[0],lst[2],lst[7])\n",
    "print(lst[-1],lst[-3])\n",
    "lst[4]='hello'\n",
    "print(lst)"
   ]
  },
  {
   "cell_type": "code",
   "execution_count": 28,
   "metadata": {},
   "outputs": [
    {
     "name": "stdout",
     "output_type": "stream",
     "text": [
      "[1, 2]\n",
      "[3, 4, 'hello']\n",
      "[1, 2, 3, 4, 'hello']\n",
      "['hello', 6, 7, 8]\n",
      "[2, 3, 4, 'hello', 6, 7]\n"
     ]
    }
   ],
   "source": [
    "#切片\n",
    "print(lst[0:2])\n",
    "print(lst[2:5])# 切片可以理解成列表的值区间，且是一个左闭右开区间，这里lst[2:5]代表的区间是：索引2的值 - 索引4的值\n",
    "print(lst[:5])\n",
    "print(lst[4:])\n",
    "print(lst[1:-1])"
   ]
  },
  {
   "cell_type": "code",
   "execution_count": 33,
   "metadata": {},
   "outputs": [
    {
     "name": "stdout",
     "output_type": "stream",
     "text": [
      "abcdefghijk\n",
      "ce\n",
      "bdfhj\n",
      "acegik\n"
     ]
    }
   ],
   "source": [
    "#步长\n",
    "lst = 'abcdefghijk'\n",
    "print(lst)\n",
    "print(lst[2:6:2])# List[i:j:n]代表：索引i - 索引j，以n为步长\n",
    "print(lst[1::2])\n",
    "print(lst[::2]) \n"
   ]
  },
  {
   "cell_type": "code",
   "execution_count": 38,
   "metadata": {},
   "outputs": [
    {
     "name": "stdout",
     "output_type": "stream",
     "text": [
      "10\n",
      "9 0 45\n",
      "8\n",
      "6\n"
     ]
    }
   ],
   "source": [
    "#序列的基本内置全局函数\n",
    "lst = [1,2,3,4,5,6,7,8,9,0]\n",
    "print(len(lst))\n",
    "print(max(lst),min(lst),sum(lst))#函数\n",
    "print(lst.index(9)) #方法   # .index(obj)方法：从列表中找出某个值第一个匹配项的索引位置\n",
    "lst = [1,1,2,3,3,4,5,6,6,6,6,6,6]\n",
    "print(lst.count(6))"
   ]
  },
  {
   "cell_type": "code",
   "execution_count": 49,
   "metadata": {},
   "outputs": [
    {
     "name": "stdout",
     "output_type": "stream",
     "text": [
      "2\n"
     ]
    },
    {
     "data": {
      "text/plain": [
       "3"
      ]
     },
     "execution_count": 49,
     "metadata": {},
     "output_type": "execute_result"
    }
   ],
   "source": [
    "x=[1,2,5,1,'1','1']\n",
    "print(x.count(1))\n",
    "y=[42,67,89,45,34,22,1]\n",
    "y.index(45)"
   ]
  },
  {
   "cell_type": "code",
   "execution_count": 50,
   "metadata": {},
   "outputs": [
    {
     "data": {
      "text/plain": [
       "'\\n【课程3.3】  列表list常用操作\\n\\n序列是Python中最基本的数据结构，它支持字符，数字，字符串甚至可以包含列表（即嵌套）\\n列表用 [ ] 标识，是 python 最通用的复合数据类型。\\n列表中值的切片也可以用到变量 [头下标:尾下标] ，就可以截取相应的列表，从左到右索引默认 0 开始，从右到左索引默认 -1 开始，下标可以为空表示取到头或尾。\\n加号 + 是列表连接运算符，星号 * 是重复操作\\n\\n'"
      ]
     },
     "execution_count": 50,
     "metadata": {},
     "output_type": "execute_result"
    }
   ],
   "source": [
    "'''\n",
    "【课程3.3】  列表list常用操作\n",
    "\n",
    "序列是Python中最基本的数据结构，它支持字符，数字，字符串甚至可以包含列表（即嵌套）\n",
    "列表用 [ ] 标识，是 python 最通用的复合数据类型。\n",
    "列表中值的切片也可以用到变量 [头下标:尾下标] ，就可以截取相应的列表，从左到右索引默认 0 开始，从右到左索引默认 -1 开始，下标可以为空表示取到头或尾。\n",
    "加号 + 是列表连接运算符，星号 * 是重复操作\n",
    "\n",
    "'''"
   ]
  },
  {
   "cell_type": "code",
   "execution_count": 55,
   "metadata": {},
   "outputs": [
    {
     "name": "stdout",
     "output_type": "stream",
     "text": [
      "3\n",
      "['hello', 2, 3, 'a', 'b', 'c', [1, 2, 3]]\n"
     ]
    }
   ],
   "source": [
    "#列表的特征\n",
    "\n",
    "lst = [1,2,3,'a','b','c',[1,2,3]]\n",
    "# 可包含任意类型的对象：数值、字符串、列表等\n",
    "print(lst[2])\n",
    "lst[0]='hello'\n",
    "print(lst)"
   ]
  },
  {
   "cell_type": "code",
   "execution_count": 61,
   "metadata": {},
   "outputs": [
    {
     "name": "stdout",
     "output_type": "stream",
     "text": [
      "['小明', '小红', '团支书']\n",
      "['小明', '小红']\n",
      "['小明', '小红', '团支书']\n"
     ]
    }
   ],
   "source": [
    "grades = [100,89,78]\n",
    "name = ['小明','小红']\n",
    "print(name+['团支书'])\n",
    "print(name)\n",
    "name.append('团支书')\n",
    "print(name)\n"
   ]
  },
  {
   "cell_type": "code",
   "execution_count": 65,
   "metadata": {},
   "outputs": [
    {
     "name": "stdout",
     "output_type": "stream",
     "text": [
      "range(0, 5) <class 'range'>\n",
      "[4, 6, 8]\n"
     ]
    }
   ],
   "source": [
    "#列表与生成器\n",
    "print(range(5),type(range(5)))\n",
    "# range()是生成器，指向了一个范围\n",
    "# range(5)代表指向了0,1,2,3,4这几个值\n",
    "# range(2,5)代表指向了2,3,4这几个值，注意这里不是使用:\n",
    "# range(0,10,2)代表指向了0,2,4,6,8这几个值，最后的2代表步长\n",
    "\n",
    "lst = list(range(4,10,2))\n",
    "print(lst)"
   ]
  },
  {
   "cell_type": "code",
   "execution_count": 68,
   "metadata": {},
   "outputs": [
    {
     "name": "stdout",
     "output_type": "stream",
     "text": [
      "range(0, 10)\n",
      "range(0, 10)\n",
      "2 9 5\n"
     ]
    }
   ],
   "source": [
    "print(range(10))\n",
    "m = range(10)\n",
    "print(m)\n",
    "print(m[2],m[-1],m[5])"
   ]
  },
  {
   "cell_type": "code",
   "execution_count": 76,
   "metadata": {},
   "outputs": [
    {
     "name": "stdout",
     "output_type": "stream",
     "text": [
      "[0, 1, 2, 3, 4, 5, 6, 7, 8, 9, 1, 2, 3]\n",
      "[0, 1, 2, 3, 4, 5, 6, 7, 8, 9]\n",
      "[0, 1, 2, 3, 4, 5, 6, 7, 8, 9, 'a']\n",
      "[1, 2, 3, [3, 4, 5]]\n",
      "[1, 2, 3, 3, 4, 5]\n"
     ]
    }
   ],
   "source": [
    "#可变列表list常用操作 - 添加元素\n",
    "lst = list(range(10))\n",
    "print(lst+[1,2,3])\n",
    "print(lst) #lst不变\n",
    "lst.append('a')\n",
    "print(lst)  #append改变lst的值\n",
    "\n",
    "a = [1,2,3]\n",
    "b = [3,4,5]\n",
    "a.append(b) #append 会把括号里的数当作一个值\n",
    "print(a)\n",
    "a = [1,2,3]\n",
    "a.extend(b) #extend直接把括号里的数加进列表里\n",
    "print(a)\n",
    "# 添加多个元素用.extend()方法：用新列表扩展原来的列表，注意和append()方法的区别"
   ]
  },
  {
   "cell_type": "code",
   "execution_count": 86,
   "metadata": {},
   "outputs": [
    {
     "name": "stdout",
     "output_type": "stream",
     "text": [
      "[0, 1, 2, 3, 4, 5, 6, 7, 8, 9]\n",
      "[0, 1, 2, 3, 4, 6, 7, 8, 9]\n",
      "[0, 1, 4, 6, 7, 8, 9]\n",
      "[]\n"
     ]
    }
   ],
   "source": [
    "# 可变列表list常用操作 - 删除元素\n",
    "\n",
    "lst = list(range(10))\n",
    "print(lst)\n",
    "lst.remove(5)\n",
    "print(lst) # .remove方法：移除列表中某个值的第一个匹配项\n",
    "\n",
    "del lst[2:4]  # del语句：删除list的相应索引值\n",
    "print(lst)\n",
    "\n",
    "lst.clear()\n",
    "print(lst)"
   ]
  },
  {
   "cell_type": "code",
   "execution_count": 89,
   "metadata": {},
   "outputs": [
    {
     "name": "stdout",
     "output_type": "stream",
     "text": [
      "[1, 2, 3, 4, 'a', 5, 6]\n"
     ]
    }
   ],
   "source": [
    "# 可变列表list常用操作 - 插入元素\n",
    "lst = [1,2,3,4,5,6]\n",
    "lst.insert(4,'a')\n",
    "print(lst)"
   ]
  },
  {
   "cell_type": "code",
   "execution_count": 94,
   "metadata": {},
   "outputs": [
    {
     "name": "stdout",
     "output_type": "stream",
     "text": [
      "[0, 1, 2, 3, 4, 5, 6, 7, 8, 9]\n",
      "[0, 1, 2, 3, 4, 5, 6, 7, 8, 9]\n",
      "[0, 1, 101, 3, 4, 5, 6, 7, 8, 9]\n",
      "[0, 1, 2, 3, 4, 5, 6, 7, 8, 9]\n"
     ]
    }
   ],
   "source": [
    "# 可变列表list常用操作 - 复制\n",
    "x = list(range(10))\n",
    "m = x.copy()\n",
    "print(x)\n",
    "print(m)\n",
    "x[2] = 101\n",
    "print(x)\n",
    "print(m)\n",
    "# list.copy()方法：复制一个新的列表，lst，lst2指向两个列表（虽然两个列表值相同）"
   ]
  },
  {
   "cell_type": "code",
   "execution_count": 105,
   "metadata": {},
   "outputs": [
    {
     "name": "stdout",
     "output_type": "stream",
     "text": [
      "[841, 222, 55, 6, 5, 3, 1] ['asd', 'fxc', 'sdfg']\n",
      "[222, 5, 6, 841, 55, 1, 3] [1, 3, 5, 6, 55, 222, 841]\n"
     ]
    }
   ],
   "source": [
    "# 可变列表list常用操作 - 排序\n",
    "lst1 = [222,5,6,841,55,1,3]\n",
    "lst2 = ['asd','sdfg','fxc']\n",
    "lst1.sort(reverse=True)    # 参数reverse：反向排序，针对数字\n",
    "lst2.sort()\n",
    "print(lst1,lst2)\n",
    "#.sort()方法\n",
    "\n",
    "lst1 = [222,5,6,841,55,1,3]\n",
    "lst3 =sorted(lst1)\n",
    "print(lst1,lst3)\n",
    "#sorted()函数，排序并赋值的函数"
   ]
  },
  {
   "cell_type": "code",
   "execution_count": 112,
   "metadata": {},
   "outputs": [
    {
     "name": "stdout",
     "output_type": "stream",
     "text": [
      "[2, 3, 4, 5]\n",
      "(0, 1, 2, 3, 4, 5, 6, 7, 8, 9)\n"
     ]
    }
   ],
   "source": [
    "# 讲一讲元祖tuple ：不可变的“列表”\n",
    "tup1 = ('physics', 'chemistry', 1997, 2000);\n",
    "tup2 = (1, 2, 3, 4, 5 );\n",
    "tup3 = \"a\", \"b\", \"c\", \"d\"  # 可以不加括号\n",
    "tup4 = (50,)  # 元组中只包含一个元素时，需要在元素后面添加逗号\n",
    "\n",
    "#print(tup1[2],tup3[:2])  # 索引、切片和list一样\n",
    "\n",
    "tup = (1,2,3,4,5)\n",
    "lst = [1,2,3,4,5]\n",
    "del lst[0]\n",
    "print(lst)\n",
    "del tup\n",
    "#print(tup)\n",
    "\n",
    "lst = list(range(10))\n",
    "tup5 = tuple(lst)\n",
    "print(tup5)\n",
    "# tuple()函数：将列表转换为元组"
   ]
  },
  {
   "cell_type": "code",
   "execution_count": 116,
   "metadata": {},
   "outputs": [
    {
     "name": "stdout",
     "output_type": "stream",
     "text": [
      "[0, 2, 3, 4, 5, 1]\n",
      "[0, 2, 3, 4, 5, 1]\n"
     ]
    }
   ],
   "source": [
    "#作业\n",
    "#① 分别用append、extend方法，给一个序列增加一个元素1\n",
    "lst = [0,2,3,4,5]\n",
    "lst.append(1)\n",
    "print(lst)\n",
    "lst = [0,2,3,4,5]\n",
    "lst1= [1] \n",
    "lst.extend(lst1)\n",
    "print(lst)\n",
    "#append 可以直接把一个数添加进序列中   extend把一个序列里的数加进序列中"
   ]
  },
  {
   "cell_type": "code",
   "execution_count": 119,
   "metadata": {},
   "outputs": [
    {
     "name": "stdout",
     "output_type": "stream",
     "text": [
      "[1, 2, 3, 4, 5, [1, 2, 3]]\n",
      "[1, 2, 3, 4, 5, 1, 2, 3]\n"
     ]
    }
   ],
   "source": [
    "#② x.append([1,2,3])和x.extend([1,2,3])的区别\n",
    "lst = [1,2,3,4,5]\n",
    "lst.append([1,2,3])\n",
    "print(lst)\n",
    "\n",
    "lst = [1,2,3,4,5]\n",
    "lst.extend([1,2,3])\n",
    "print(lst)"
   ]
  },
  {
   "cell_type": "code",
   "execution_count": 121,
   "metadata": {},
   "outputs": [
    {
     "name": "stdout",
     "output_type": "stream",
     "text": [
      "[1, 2, 3, 'abc']\n",
      "[1, 2, 3, 'a', 'b', 'c']\n"
     ]
    }
   ],
   "source": [
    "#x.append('abc')和x.extend('abc')的区别\n",
    "x = [1,2,3]\n",
    "x.append('abc')\n",
    "print(x)\n",
    "\n",
    "x = [1,2,3]\n",
    "x.extend('abc')\n",
    "print(x)\n",
    "#append将'abc'作为一个序列添加进x中   extend将'abc'作为一个序列，再将序列里的字符串拆为一个字符加进x中"
   ]
  },
  {
   "cell_type": "code",
   "execution_count": 124,
   "metadata": {},
   "outputs": [
    {
     "name": "stdout",
     "output_type": "stream",
     "text": [
      "[1, 2, 3, 9, 4, 5, 6]\n"
     ]
    }
   ],
   "source": [
    " #创建某一列表，在列表中间插入一个值\n",
    "lst = [1,2,3,4,5,6]\n",
    "lst.insert(3,9)\n",
    "print(lst)"
   ]
  },
  {
   "cell_type": "code",
   "execution_count": 129,
   "metadata": {},
   "outputs": [
    {
     "name": "stdout",
     "output_type": "stream",
     "text": [
      "[9, 8, 7, 6, 5, 4, 3, 2, 1, 0]\n"
     ]
    }
   ],
   "source": [
    "#创建一个随机数值列表，按照降序排列\n",
    "lst=list(range(10))\n",
    "lst.sort(reverse=True)\n",
    "print(lst)\n",
    "#reverse为 Treu时是倒序"
   ]
  },
  {
   "cell_type": "code",
   "execution_count": 133,
   "metadata": {},
   "outputs": [
    {
     "name": "stdout",
     "output_type": "stream",
     "text": [
      "[2, 22, 36, 56, 84, 84, 654]\n",
      "[2, 22, 36, 56, 84, 84, 654]\n"
     ]
    }
   ],
   "source": [
    "#sort()和sorted()什么区别\n",
    "lst = [22,654,84,2,36,84,56]\n",
    "lst.sort()\n",
    "lst2=sorted(lst)\n",
    "print(lst)\n",
    "print(lst2)\n",
    "#sorted 默认为升序"
   ]
  },
  {
   "cell_type": "code",
   "execution_count": 135,
   "metadata": {},
   "outputs": [
    {
     "name": "stdout",
     "output_type": "stream",
     "text": [
      "[32, 63, 12, 45, 89, 77]\n",
      "[32, 45, 12, 45, 89, 77]\n",
      "[32, 45, 63, 12, 89, 77]\n"
     ]
    }
   ],
   "source": [
    "#s=[32,45,63,12,45,89,77], s.remove(45), del s[2], s.pop(4)分别什么区别\n",
    "s=[32,45,63,12,45,89,77]\n",
    "s.remove(45)\n",
    "print(s)\n",
    "\n",
    "s=[32,45,63,12,45,89,77]\n",
    "del s[2]\n",
    "print(s)\n",
    "\n",
    "s=[32,45,63,12,45,89,77]\n",
    "s.pop(4)\n",
    "print(s)"
   ]
  },
  {
   "cell_type": "code",
   "execution_count": 148,
   "metadata": {},
   "outputs": [
    {
     "name": "stdout",
     "output_type": "stream",
     "text": [
      "[4, 5, 6, 73, 4, 4, 4, 4]\n",
      "[5, 6, 73]\n"
     ]
    }
   ],
   "source": [
    " #m=[4,5,6,73,4,4,4,4,2]，删除2，删除所有的4\n",
    "m=[4,5,6,73,4,4,4,4,2]\n",
    "m.remove(2)\n",
    "print(m)\n",
    "\n",
    "del m[0]\n",
    "del m[3:]\n",
    "print(m)"
   ]
  },
  {
   "cell_type": "code",
   "execution_count": 149,
   "metadata": {},
   "outputs": [
    {
     "data": {
      "text/plain": [
       "'\\n【课程3.4】  文本序列str常用操作\\n\\n字符串是 Python 中最常用的数据类型。我们可以使用引号(\\'或\")来创建字符串\\n字符串也是序列：文本序列\\n\\n'"
      ]
     },
     "execution_count": 149,
     "metadata": {},
     "output_type": "execute_result"
    }
   ],
   "source": [
    "'''\n",
    "【课程3.4】  文本序列str常用操作\n",
    "\n",
    "字符串是 Python 中最常用的数据类型。我们可以使用引号('或\")来创建字符串\n",
    "字符串也是序列：文本序列\n",
    "\n",
    "'''"
   ]
  },
  {
   "cell_type": "code",
   "execution_count": 151,
   "metadata": {},
   "outputs": [
    {
     "name": "stdout",
     "output_type": "stream",
     "text": [
      "asd\"asd\"\n"
     ]
    }
   ],
   "source": [
    "# 字符串引号\n",
    "\n",
    "a='asd'\n",
    "b=\"asd\"\n",
    "c='asd\"asd\"'\n",
    "print(c)"
   ]
  },
  {
   "cell_type": "code",
   "execution_count": 154,
   "metadata": {},
   "outputs": [
    {
     "name": "stdout",
     "output_type": "stream",
     "text": [
      "\"\n",
      "a\n",
      "b\n",
      "\\\n"
     ]
    }
   ],
   "source": [
    "# 转义字符：\\\n",
    "print(\"\\\"\")\n",
    "\n",
    "print(\"a\\nb\")\n",
    "# \\n换行\n",
    "print('\\\\')  # 输出\\，所以文件路径用“/”或者“\\\\”   \n",
    "#r 在句首可以取消所有转义字符"
   ]
  },
  {
   "cell_type": "code",
   "execution_count": 156,
   "metadata": {},
   "outputs": [
    {
     "name": "stdout",
     "output_type": "stream",
     "text": [
      "True\n",
      "我很帅没错\n",
      "handsome handsome handsome handsome \n",
      "c g\n",
      "ab\n",
      "aceg\n",
      "6\n",
      "st长度为： 7\n",
      "st长度为：7\n"
     ]
    }
   ],
   "source": [
    "# 序列通用功能\n",
    "\n",
    "print('a' in 'abc')  # in/not in ：判断是否存在\n",
    "print('我很帅' + \"没错\")  # 文本连接\n",
    "print('handsome '*4)  # 文本复制\n",
    "\n",
    "st = 'abcdefg'\n",
    "print(st[2],st[-1])\n",
    "print(st[:2])\n",
    "print(st[::2])\n",
    "# 索引、切片、步长\n",
    "\n",
    "print(st.index('g'))  # .index()方法\n",
    "print('st长度为：',len(st))  # 计算字符串长度（思考这里能否把逗号换为\"+\"）\n",
    "print('st长度为：'+str(len(st)))# 改为+要将后面的数值转化为字符串类型"
   ]
  },
  {
   "cell_type": "code",
   "execution_count": 247,
   "metadata": {},
   "outputs": [
    {
     "name": "stdout",
     "output_type": "stream",
     "text": [
      "i am handsome\n",
      "i am ugly\n",
      "hahaha\n",
      "heheha\n"
     ]
    }
   ],
   "source": [
    "# 字符串常用功能\n",
    "\n",
    "#修改字符串     xx.replace   原字符串不更改，生成一个新的字符串\n",
    "st = 'i am handsome'\n",
    "st2 = st.replace('handsome','ugly')\n",
    "print(st)\n",
    "print(st2)\n",
    "st='hahaha'\n",
    "st2=st.replace('ha','he',2)\n",
    "print(st)\n",
    "print(st2)\n",
    "# str.replace(old,new,count):修改字符串，count：更换几个\n"
   ]
  },
  {
   "cell_type": "code",
   "execution_count": 165,
   "metadata": {},
   "outputs": [
    {
     "name": "stdout",
     "output_type": "stream",
     "text": [
      "['poi01', '116.446238', '39.940166']\n"
     ]
    }
   ],
   "source": [
    "#拆分字符串 str.split(obj)   生成列表\n",
    "st = \"poi01,116.446238,39.940166\"\n",
    "lst=st.split(',')\n",
    "print(lst)"
   ]
  },
  {
   "cell_type": "code",
   "execution_count": 168,
   "metadata": {},
   "outputs": [
    {
     "name": "stdout",
     "output_type": "stream",
     "text": [
      "poi01-116.446238-39.940166\n"
     ]
    }
   ],
   "source": [
    "m='-'\n",
    "st2=m.join(lst)\n",
    "print(st2)\n",
    "#连接字符串 使用的连接符号：str.join()  对象为序列"
   ]
  },
  {
   "cell_type": "code",
   "execution_count": 170,
   "metadata": {},
   "outputs": [
    {
     "name": "stdout",
     "output_type": "stream",
     "text": [
      "True False\n"
     ]
    }
   ],
   "source": [
    "st = 'abcdefg'\n",
    "print(st.startswith('a'), st.endswith('f'))\n",
    "# str.startswith(“str”)  判断是否以“str”开头；str.endswith (“str”)  判断是否以“str”结尾"
   ]
  },
  {
   "cell_type": "code",
   "execution_count": 172,
   "metadata": {},
   "outputs": [
    {
     "name": "stdout",
     "output_type": "stream",
     "text": [
      "ABDEAJC KLM\n",
      "abdeajc klm\n",
      "AbdeaJC Klm\n",
      "Abdeajc klm\n"
     ]
    }
   ],
   "source": [
    "st = 'aBDEAjc kLM'\n",
    "print(st.upper())  # 全部大写\n",
    "print(st.lower())  # 全部小写\n",
    "print(st.swapcase())  # 大小写互换\n",
    "print(st.capitalize())  # 首字母大写"
   ]
  },
  {
   "cell_type": "code",
   "execution_count": 173,
   "metadata": {},
   "outputs": [
    {
     "name": "stdout",
     "output_type": "stream",
     "text": [
      "True\n",
      "True\n",
      "avd\n"
     ]
    }
   ],
   "source": [
    "st = '1234567'\n",
    "print(st.isnumeric())  # 如果 string 只包含数字则返回 True,否则返回 False.\n",
    "\n",
    "st = 'DNVAK'\n",
    "print(st.isalpha())  # 如果 string 至少有一个字符并且所有字符都是字母则返回 True,否则返回 False\n",
    "\n",
    "st = 'avd   '\n",
    "print(st.rstrip())  # 删除字符末尾的空格"
   ]
  },
  {
   "cell_type": "code",
   "execution_count": 174,
   "metadata": {},
   "outputs": [
    {
     "name": "stdout",
     "output_type": "stream",
     "text": [
      "FATBIRD is 好人\n",
      "this is 4\n",
      "this is hehe\n",
      "this is 4.200000\n"
     ]
    }
   ],
   "source": [
    "# 格式化字符：在字符串中插入变量\n",
    "\n",
    "name = \"FATBIRD\"\n",
    "truth = \"%s is 好人\" %name\n",
    "print(truth)\n",
    "# %s 表示我们这里要插入一个变量（字符串），%name代表这里我们插入name → 所以，两个%解决问题\n",
    "\n",
    "x = 4   \n",
    "y = \"hehe\"  \n",
    "z = 4.2\n",
    "print(\"this is %i\" %x)\n",
    "print(\"this is %s\" %y)\n",
    "print(\"this is %f\" %z)\n",
    "# %s的s有什么含义：%s %z %f都是格式化字符串，s/i/f分别代表插入字符串的源数据类型：整型/字符型/浮点型"
   ]
  },
  {
   "cell_type": "code",
   "execution_count": 175,
   "metadata": {},
   "outputs": [
    {
     "name": "stdout",
     "output_type": "stream",
     "text": [
      "have fun 1.23e+02\n",
      "have fun 1.2312E+02\n"
     ]
    }
   ],
   "source": [
    "m = 123.123123123 \n",
    "print(\"have fun %.2e\"  %m)\n",
    "print(\"have fun %.4E\"  %m)\n",
    "# 科学计数法 %e  %E"
   ]
  },
  {
   "cell_type": "code",
   "execution_count": 176,
   "metadata": {},
   "outputs": [
    {
     "name": "stdout",
     "output_type": "stream",
     "text": [
      "have fun 123.123\n",
      "have fun 1.2\n"
     ]
    }
   ],
   "source": [
    "m1 = 123.123123123\n",
    "m2 = 1.2\n",
    "print(\"have fun %g\"  %m1)\n",
    "print(\"have fun %g\"  %m2)\n",
    "# 小数位数少的时候自动识别用浮点数，数据复杂的时候自动识别用科学计数法"
   ]
  },
  {
   "cell_type": "code",
   "execution_count": 178,
   "metadata": {},
   "outputs": [
    {
     "name": "stdout",
     "output_type": "stream",
     "text": [
      "今天天气怎么样,非常好\n",
      "您好！谢谢\n"
     ]
    }
   ],
   "source": [
    "#更强大的格式化方法：format\n",
    "print('今天天气怎么样{}'.format(',非常好'))\n",
    "st='您好！{}'\n",
    "print(st.format('谢谢'))"
   ]
  },
  {
   "cell_type": "code",
   "execution_count": 255,
   "metadata": {},
   "outputs": [
    {
     "name": "stdout",
     "output_type": "stream",
     "text": [
      "abc \n",
      " aacab \n",
      "\n"
     ]
    }
   ],
   "source": [
    "print(\"{}{}{}\".format('a','b','c'),'\\n',\n",
    "      \"{0}{0}{2}{0}{1}\".format('a','b','c'),'\\n')\n",
    "#print(\"{}{}{}\".format('a','b','c'))\n",
    "#{}和{0}的区别：都是占位符，后者有了明确指定"
   ]
  },
  {
   "cell_type": "code",
   "execution_count": 183,
   "metadata": {},
   "outputs": [
    {
     "name": "stdout",
     "output_type": "stream",
     "text": [
      "我的工作是设计\n"
     ]
    }
   ],
   "source": [
    "print(\"我的工作是{work}\".format(work='设计'))\n",
    "#也可以用变量指示"
   ]
  },
  {
   "cell_type": "code",
   "execution_count": 185,
   "metadata": {},
   "outputs": [
    {
     "name": "stdout",
     "output_type": "stream",
     "text": [
      "abcdef abc{}\n"
     ]
    }
   ],
   "source": [
    "x=\"abc{}\"\n",
    "a=x.format(\"def\")\n",
    "print(a,x)"
   ]
  },
  {
   "cell_type": "code",
   "execution_count": 187,
   "metadata": {},
   "outputs": [
    {
     "name": "stdout",
     "output_type": "stream",
     "text": [
      "这是一个\n",
      "有三提行的\n",
      "文本\n"
     ]
    }
   ],
   "source": [
    "#作业\n",
    "m='''这是一个\n",
    "有三提行的\n",
    "文本'''\n",
    "print(m)"
   ]
  },
  {
   "cell_type": "code",
   "execution_count": 191,
   "metadata": {},
   "outputs": [
    {
     "name": "stdout",
     "output_type": "stream",
     "text": [
      "C:\\Program Files (x86)\\HearthstoneOfficialAddon\\HearthstoneOfficialAddon.exe\n"
     ]
    }
   ],
   "source": [
    "st1='C:\\Program Files (x86)\\HearthstoneOfficialAddon\\HearthstoneOfficialAddon.exe'\n",
    "print(st1)"
   ]
  },
  {
   "cell_type": "code",
   "execution_count": 200,
   "metadata": {},
   "outputs": [
    {
     "name": "stdout",
     "output_type": "stream",
     "text": [
      "2255\n"
     ]
    }
   ],
   "source": [
    "#print(33+\"22\")   #前面33为整数型，后面为字符串类型 不可以用+进行相加，但可以用‘,’进行连接\n",
    "#print(33+int(\"22\"))\n",
    "print(\"22\" + str(55)) #前后都为字符串类型，+可以将两数进行连接"
   ]
  },
  {
   "cell_type": "code",
   "execution_count": 212,
   "metadata": {},
   "outputs": [
    {
     "name": "stdout",
     "output_type": "stream",
     "text": [
      "['a,b,c']\n"
     ]
    }
   ],
   "source": [
    "m='a,b,c'\n",
    "m.split(\",\")\n",
    "print(m.split())\n",
    "#m=“a,b,c”,m.split()会输出什么结果？（不加\",\"） 不加的话会按照原序列输出"
   ]
  },
  {
   "cell_type": "code",
   "execution_count": 12,
   "metadata": {},
   "outputs": [
    {
     "name": "stdout",
     "output_type": "stream",
     "text": [
      "['poi01', '116.446238', '39.940166']\n",
      "<class 'list'>\n",
      "poi01-116.446238-39.940166\n",
      "<class 'str'>\n"
     ]
    }
   ],
   "source": [
    "st = \"poi01,116.446238,39.940166\"\n",
    "lst = st.split(',')\n",
    "print(lst)\n",
    "print(type(lst))\n",
    "\n",
    "lst = ['poi01', '116.446238', '39.940166']\n",
    "m = '-'\n",
    "st = m.join(lst)\n",
    "print(st)\n",
    "print(type(st))\n",
    "\n",
    "#再回想一下：.split和.join的输出分别是什么类型的数据  \n",
    "#因为split是将数值转化为序列，所以是序列类型\n",
    "#join是将序列用一个符号进行连接，连接后为字符串类型"
   ]
  },
  {
   "cell_type": "code",
   "execution_count": 229,
   "metadata": {},
   "outputs": [
    {
     "name": "stdout",
     "output_type": "stream",
     "text": [
      "今年的经济增长速度为12.66%\n"
     ]
    }
   ],
   "source": [
    " #如果我想打%怎么办\n",
    "print('今年的经济增长速度为%.2f%%'%12.6563)"
   ]
  },
  {
   "cell_type": "code",
   "execution_count": 232,
   "metadata": {},
   "outputs": [
    {
     "name": "stdout",
     "output_type": "stream",
     "text": [
      "abcnn\n"
     ]
    }
   ],
   "source": [
    "#这样书写正确吗，为什么？print(\"abc%s\") % \"nn\"\n",
    "print(\"abc%s\"% \"nn\")   #要将所有数值都放进括号里面"
   ]
  },
  {
   "cell_type": "code",
   "execution_count": 240,
   "metadata": {},
   "outputs": [
    {
     "name": "stdout",
     "output_type": "stream",
     "text": [
      "245123.000000\n"
     ]
    }
   ],
   "source": [
    "#这样书写正确吗，为什么？ print(245%f % 123)\n",
    "print('245%f' %123)  #要将格式化语句放在‘’字符引串号里"
   ]
  },
  {
   "cell_type": "code",
   "execution_count": 2,
   "metadata": {},
   "outputs": [
    {
     "name": "stdout",
     "output_type": "stream",
     "text": [
      "我的工作是程序员，我喜欢玩游戏\n"
     ]
    }
   ],
   "source": [
    " #\"我的工作是…我喜欢…\" 把…替换成正确的内容\n",
    "print('我的工作是{}，我喜欢{}'.format('程序员','玩游戏')) #format句号里的每个字符引号串内代表一个中括号里的值"
   ]
  },
  {
   "cell_type": "code",
   "execution_count": 10,
   "metadata": {},
   "outputs": [
    {
     "name": "stdout",
     "output_type": "stream",
     "text": [
      "p-o-i-0-1-,-1-1-6-.-4-4-6-2-3-8-,-3-9-.-9-4-0-1-6-6\n"
     ]
    }
   ],
   "source": [
    "st1 = 'poi01,116.446238,39.940166'\n",
    "m = '-'\n",
    "st = m.join(st1)\n",
    "print(st)"
   ]
  },
  {
   "cell_type": "code",
   "execution_count": null,
   "metadata": {},
   "outputs": [],
   "source": []
  }
 ],
 "metadata": {
  "kernelspec": {
   "display_name": "Python 3",
   "language": "python",
   "name": "python3"
  },
  "language_info": {
   "codemirror_mode": {
    "name": "ipython",
    "version": 3
   },
   "file_extension": ".py",
   "mimetype": "text/x-python",
   "name": "python",
   "nbconvert_exporter": "python",
   "pygments_lexer": "ipython3",
   "version": "3.7.1"
  }
 },
 "nbformat": 4,
 "nbformat_minor": 2
}
