{
 "cells": [
  {
   "cell_type": "code",
   "execution_count": 2,
   "metadata": {},
   "outputs": [
    {
     "data": {
      "text/plain": [
       "'\\n【课程2.2】  Pandas数据结构Series：基本概念及创建\\n\\n\"一维数组\"Serise\\n\\n'"
      ]
     },
     "execution_count": 2,
     "metadata": {},
     "output_type": "execute_result"
    }
   ],
   "source": [
    "'''\n",
    "【课程2.2】  Pandas数据结构Series：基本概念及创建\n",
    "\n",
    "\"一维数组\"Serise\n",
    "\n",
    "'''"
   ]
  },
  {
   "cell_type": "code",
   "execution_count": 3,
   "metadata": {},
   "outputs": [],
   "source": [
    "import numpy as np\n",
    "import pandas as pd"
   ]
  },
  {
   "cell_type": "code",
   "execution_count": 9,
   "metadata": {},
   "outputs": [
    {
     "name": "stdout",
     "output_type": "stream",
     "text": [
      "[0.08857596 0.64821116 0.07071126 0.03437475 0.08574439]\n",
      "0    0.088576\n",
      "1    0.648211\n",
      "2    0.070711\n",
      "3    0.034375\n",
      "4    0.085744\n",
      "dtype: float64\n",
      "<class 'pandas.core.series.Series'>\n",
      "-------------------------\n",
      "RangeIndex(start=0, stop=5, step=1)\n",
      "[0, 1, 2, 3, 4]\n",
      "[0.08857596 0.64821116 0.07071126 0.03437475 0.08574439]\n"
     ]
    }
   ],
   "source": [
    "# Series 数据结构\n",
    "# Series 是带有标签的一维数组，可以保存任何数据类型（整数，字符串，浮点数，Python对象等）,轴标签统称为索引\n",
    "\n",
    "ar = np.random.rand(5)\n",
    "s = pd.Series(ar)\n",
    "print(ar)\n",
    "print(s)\n",
    "print(type(s))\n",
    "print('-------------------------')\n",
    "\n",
    "print(s.index)\n",
    "print(list(s.index))\n",
    "print(s.values)\n",
    "# .index查看series索引，类型为rangeindex\n",
    "# .values查看series值，类型是ndarray\n",
    "\n",
    "# 核心：series相比于ndarray，是一个自带索引index的数组 → 一维数组 + 对应索引\n",
    "# 所以当只看series的值的时候，就是一个ndarray\n",
    "# series和ndarray较相似，索引切片功能差别不大\n",
    "# series和dict相比，series更像一个有顺序的字典（dict本身不存在顺序），其索引原理与字典相似（一个用key，一个用index）"
   ]
  },
  {
   "cell_type": "code",
   "execution_count": 13,
   "metadata": {},
   "outputs": [
    {
     "name": "stdout",
     "output_type": "stream",
     "text": [
      "a     1\n",
      "b     2\n",
      "c     3\n",
      "4     3\n",
      "5    10\n",
      "dtype: int64\n"
     ]
    }
   ],
   "source": [
    "# Series 创建方法一：由字典创建，字典的key就是index，values就是values\n",
    "dic = {'a':1,'b':2,'c':3,4:3,5:10}\n",
    "s = pd.Series(dic)\n",
    "print(s)"
   ]
  },
  {
   "cell_type": "code",
   "execution_count": 20,
   "metadata": {},
   "outputs": [
    {
     "name": "stdout",
     "output_type": "stream",
     "text": [
      "a    29\n",
      "b    18\n",
      "c    30\n",
      "d    54\n",
      "e    95\n",
      "f    29\n",
      "g    49\n",
      "h    65\n",
      "i    29\n",
      "j    95\n",
      "dtype: int32\n"
     ]
    }
   ],
   "source": [
    "# Series 创建方法二：由数组创建(一维数组)\n",
    "\n",
    "arr = np.random.rand(10)*100\n",
    "s = pd.Series(arr,index= list('abcdefghij'),dtype = np.int)\n",
    "print(s)\n",
    "# index参数：设置index，长度保持一致\n",
    "# dtype参数：设置数值类型"
   ]
  },
  {
   "cell_type": "code",
   "execution_count": 21,
   "metadata": {},
   "outputs": [
    {
     "name": "stdout",
     "output_type": "stream",
     "text": [
      "0    10\n",
      "1    10\n",
      "2    10\n",
      "3    10\n",
      "dtype: int64\n"
     ]
    }
   ],
   "source": [
    "# Series 创建方法三：由标量创建\n",
    "\n",
    "s = pd.Series(10, index = range(4))\n",
    "print(s)\n",
    "# 如果data是标量值，则必须提供索引。该值会重复，来匹配索引的长度"
   ]
  },
  {
   "cell_type": "code",
   "execution_count": 23,
   "metadata": {},
   "outputs": [
    {
     "name": "stdout",
     "output_type": "stream",
     "text": [
      "0   -0.937428\n",
      "1    0.407815\n",
      "2   -0.852317\n",
      "3   -2.756351\n",
      "4    0.456134\n",
      "dtype: float64\n",
      "-----\n",
      "0   -0.570911\n",
      "1    0.538264\n",
      "2    1.203698\n",
      "3    0.126645\n",
      "4   -0.195931\n",
      "Name: test, dtype: float64\n",
      "None test <class 'str'>\n",
      "0   -0.570911\n",
      "1    0.538264\n",
      "2    1.203698\n",
      "3    0.126645\n",
      "4   -0.195931\n",
      "Name: hehehe, dtype: float64\n",
      "hehehe test\n"
     ]
    }
   ],
   "source": [
    "# Series 名称属性：name\n",
    "\n",
    "s1 = pd.Series(np.random.randn(5))\n",
    "print(s1)\n",
    "print('-----')\n",
    "s2 = pd.Series(np.random.randn(5),name = 'test')\n",
    "print(s2)\n",
    "print(s1.name, s2.name,type(s2.name))\n",
    "# name为Series的一个参数，创建一个数组的 名称\n",
    "# .name方法：输出数组的名称，输出格式为str，如果没用定义输出名称，输出为None\n",
    "\n",
    "s3 = s2.rename('hehehe')\n",
    "print(s3)\n",
    "print(s3.name, s2.name)\n",
    "# .rename()重命名一个数组的名称，并且新指向一个数组，原数组不变"
   ]
  },
  {
   "cell_type": "code",
   "execution_count": 48,
   "metadata": {},
   "outputs": [
    {
     "name": "stdout",
     "output_type": "stream",
     "text": [
      "Jack     90.0\n",
      "Marry    92.0\n",
      "Tom      89.0\n",
      "Zack     65.0\n",
      "Name: 作业1, dtype: float64\n",
      "Jack     90.0\n",
      "Marry    92.0\n",
      "Tom      89.0\n",
      "Zack     65.0\n",
      "Name: 作业1, dtype: float64\n"
     ]
    }
   ],
   "source": [
    "#作业1：分别由字典、数组的方式，创建以下要求的Series\n",
    "#字典的方式\n",
    "dic = {'Jack':90.0,'Marry':92.0,'Tom':89.0,'Zack':65.0}\n",
    "s = pd.Series(dic,dtype = float,name = '作业1')\n",
    "print(s)\n",
    "\n",
    "#数组的方式\n",
    "ar = np.array([90,92,89,65])\n",
    "s1 = pd.Series(lis,index = ['Jack','Marry','Tom','Zack'],dtype = float,name = '作业1')\n",
    "print(s1)"
   ]
  },
  {
   "cell_type": "code",
   "execution_count": 49,
   "metadata": {},
   "outputs": [
    {
     "data": {
      "text/plain": [
       "'\\n【课程2.3】  Pandas数据结构Series：索引\\n\\n位置下标 / 标签索引 / 切片索引 / 布尔型索引\\n\\n'"
      ]
     },
     "execution_count": 49,
     "metadata": {},
     "output_type": "execute_result"
    }
   ],
   "source": [
    "'''\n",
    "【课程2.3】  Pandas数据结构Series：索引\n",
    "\n",
    "位置下标 / 标签索引 / 切片索引 / 布尔型索引\n",
    "\n",
    "'''"
   ]
  },
  {
   "cell_type": "code",
   "execution_count": 4,
   "metadata": {},
   "outputs": [
    {
     "name": "stdout",
     "output_type": "stream",
     "text": [
      "0    0.499484\n",
      "1    0.348263\n",
      "2    0.624546\n",
      "3    0.259769\n",
      "4    0.266115\n",
      "5    0.681486\n",
      "6    0.088787\n",
      "7    0.754331\n",
      "8    0.449776\n",
      "9    0.028112\n",
      "dtype: float64\n",
      "0.6814862323233114 <class 'numpy.float64'> float64\n",
      "<class 'float'>\n"
     ]
    }
   ],
   "source": [
    "#下标索引\n",
    "\n",
    "s = pd.Series(np.random.rand(10))\n",
    "print(s)\n",
    "print(s[5],type(s[6]),s[7].dtype)\n",
    "print(type(float(s[6])))\n",
    "#print(s[-1])\n",
    "# 位置下标从0开始\n",
    "# 输出结果为numpy.float格式，\n",
    "# 可以通过float()函数转换为python float格式\n",
    "# numpy.float与float占用字节不同\n",
    "# s[-1]结果如何？  会报错，与序列不太一样"
   ]
  },
  {
   "cell_type": "code",
   "execution_count": 56,
   "metadata": {},
   "outputs": [
    {
     "name": "stdout",
     "output_type": "stream",
     "text": [
      "a    0.959463\n",
      "b    0.023333\n",
      "c    0.651073\n",
      "d    0.427426\n",
      "e    0.962937\n",
      "dtype: float64\n",
      "0.9594631499055825 <class 'numpy.float64'> float64\n",
      "a    0.959463\n",
      "b    0.023333\n",
      "e    0.962937\n",
      "dtype: float64 <class 'pandas.core.series.Series'>\n"
     ]
    }
   ],
   "source": [
    "# 标签索引\n",
    "\n",
    "s = pd.Series(np.random.rand(5), index = ['a','b','c','d','e'])\n",
    "print(s)\n",
    "print(s['a'],type(s['a']),s['a'].dtype)\n",
    "# 方法类似下标索引，用[]表示，内写上index，注意index是字符串\n",
    "\n",
    "sci = s[['a','b','e']]\n",
    "print(sci,type(sci))\n",
    "# 如果需要选择多个标签的值，用[[]]来表示（相当于[]中包含一个列表）\n",
    "# 多标签索引结果是新的数组"
   ]
  },
  {
   "cell_type": "code",
   "execution_count": 59,
   "metadata": {},
   "outputs": [
    {
     "name": "stdout",
     "output_type": "stream",
     "text": [
      "1    0.742888\n",
      "2    0.353762\n",
      "3    0.381117\n",
      "dtype: float64 0.374558215877433\n",
      "a    0.679657\n",
      "b    0.836772\n",
      "c    0.619075\n",
      "dtype: float64 0.6190753256302599\n",
      "a    0.679657\n",
      "b    0.836772\n",
      "c    0.619075\n",
      "dtype: float64 0.018423065692747098\n",
      "-----\n",
      "a    0.679657\n",
      "b    0.836772\n",
      "c    0.619075\n",
      "d    0.018423\n",
      "dtype: float64\n",
      "a    0.679657\n",
      "c    0.619075\n",
      "e    0.563010\n",
      "dtype: float64\n"
     ]
    }
   ],
   "source": [
    "# 切片索引\n",
    "\n",
    "s1 = pd.Series(np.random.rand(5))\n",
    "s2 = pd.Series(np.random.rand(5), index = ['a','b','c','d','e'])\n",
    "print(s1[1:4],s1[4])    #下标\n",
    "print(s2['a':'c'],s2['c']) #标签\n",
    "print(s2[0:3],s2[3])\n",
    "print('-----')\n",
    "# 注意：用index做切片是末端包含\n",
    "\n",
    "print(s2[:-1])\n",
    "print(s2[::2])\n",
    "# 下标索引做切片，和list写法一样"
   ]
  },
  {
   "cell_type": "code",
   "execution_count": 63,
   "metadata": {},
   "outputs": [
    {
     "name": "stdout",
     "output_type": "stream",
     "text": [
      "0    53.9683\n",
      "1    78.7822\n",
      "2    84.1224\n",
      "4       None\n",
      "dtype: object\n",
      "0     True\n",
      "1     True\n",
      "2     True\n",
      "4    False\n",
      "dtype: bool <class 'pandas.core.series.Series'> bool\n",
      "0    False\n",
      "1    False\n",
      "2    False\n",
      "4     True\n",
      "dtype: bool <class 'pandas.core.series.Series'> bool\n",
      "0     True\n",
      "1     True\n",
      "2     True\n",
      "4    False\n",
      "dtype: bool <class 'pandas.core.series.Series'> bool\n",
      "-----\n",
      "0    53.9683\n",
      "1    78.7822\n",
      "2    84.1224\n",
      "dtype: object\n",
      "0    53.9683\n",
      "1    78.7822\n",
      "2    84.1224\n",
      "dtype: object\n"
     ]
    }
   ],
   "source": [
    "# 布尔型索引\n",
    "\n",
    "s = pd.Series(np.random.rand(3)*100)\n",
    "s[4] = None  # 添加一个空值\n",
    "print(s)\n",
    "bs1 = s > 50\n",
    "bs2 = s.isnull()\n",
    "bs3 = s.notnull()\n",
    "print(bs1, type(bs1), bs1.dtype)\n",
    "print(bs2, type(bs2), bs2.dtype)\n",
    "print(bs3, type(bs3), bs3.dtype)\n",
    "print('-----')\n",
    "# 数组做判断之后，返回的是一个由布尔值组成的新的数组\n",
    "# .isnull() / .notnull() 判断是否为空值 (None代表空值，NaN代表有问题的数值，两个都会识别为空值)\n",
    "\n",
    "print(s[s > 50])\n",
    "print(s[bs3])\n",
    "# 布尔型索引方法：用[判断条件]表示，其中判断条件可以是 一个语句，或者是 一个布尔型数组！"
   ]
  },
  {
   "cell_type": "code",
   "execution_count": 75,
   "metadata": {},
   "outputs": [
    {
     "name": "stdout",
     "output_type": "stream",
     "text": [
      "a    63.591437\n",
      "b    59.423962\n",
      "c    84.818559\n",
      "d    68.192401\n",
      "e    26.207708\n",
      "f    83.676518\n",
      "g    96.156901\n",
      "h    31.442246\n",
      "i    20.085575\n",
      "j    14.878852\n",
      "dtype: float64\n",
      "------------------\n",
      "59.42396171725566\n",
      "84.81855909228227\n",
      "------------------\n",
      "d    68.192401\n",
      "e    26.207708\n",
      "f    83.676518\n",
      "dtype: float64\n",
      "------------------\n",
      "a    63.591437\n",
      "b    59.423962\n",
      "c    84.818559\n",
      "d    68.192401\n",
      "f    83.676518\n",
      "g    96.156901\n",
      "dtype: float64\n"
     ]
    }
   ],
   "source": [
    "# 作业1：创建一个Series，包含10个元素，且每个值为0-100的均匀分布随机值，index为a-j，请分别筛选出：\n",
    "# ① 标签为b，c的值为多少\n",
    "# ② Series中第4到6个值是哪些？\n",
    "# ③ Series中大于50的值有哪些？\n",
    "\n",
    "s = pd.Series(np.random.rand(10)*100,index= list('abcdefghij'))\n",
    "print(s)\n",
    "print('------------------')\n",
    "print(s['b'])\n",
    "print(s['c'])\n",
    "print('------------------')\n",
    "print(s[3:6])\n",
    "print('------------------')\n",
    "print(s[s>50])"
   ]
  },
  {
   "cell_type": "code",
   "execution_count": 76,
   "metadata": {},
   "outputs": [
    {
     "data": {
      "text/plain": [
       "'\\n【课程2.4】  Pandas数据结构Series：基本技巧\\n\\n数据查看 / 重新索引 / 对齐 / 添加、修改、删除值\\n\\n'"
      ]
     },
     "execution_count": 76,
     "metadata": {},
     "output_type": "execute_result"
    }
   ],
   "source": [
    "'''\n",
    "【课程2.4】  Pandas数据结构Series：基本技巧\n",
    "\n",
    "数据查看 / 重新索引 / 对齐 / 添加、修改、删除值\n",
    "\n",
    "'''"
   ]
  },
  {
   "cell_type": "code",
   "execution_count": 78,
   "metadata": {},
   "outputs": [
    {
     "name": "stdout",
     "output_type": "stream",
     "text": [
      "0    0.362879\n",
      "1    0.593829\n",
      "2    0.715245\n",
      "3    0.785090\n",
      "4    0.407732\n",
      "dtype: float64\n",
      "10    0.559612\n",
      "11    0.853864\n",
      "12    0.429571\n",
      "13    0.069595\n",
      "14    0.260961\n",
      "dtype: float64\n"
     ]
    }
   ],
   "source": [
    "# 数据查看\n",
    "\n",
    "s = pd.Series(np.random.rand(15))\n",
    "print(s.head())  #默认查看5条\n",
    "print(s.tail())"
   ]
  },
  {
   "cell_type": "code",
   "execution_count": 85,
   "metadata": {},
   "outputs": [
    {
     "name": "stdout",
     "output_type": "stream",
     "text": [
      "a    0.606127\n",
      "b    0.964902\n",
      "c    0.574237\n",
      "d    0.410242\n",
      "e    0.915955\n",
      "dtype: float64\n",
      "c    0.574237\n",
      "d    0.410242\n",
      "a    0.606127\n",
      "f         NaN\n",
      "dtype: float64\n",
      "------------\n",
      "c    0.574237\n",
      "d    0.410242\n",
      "a    0.606127\n",
      "f    0.000000\n",
      "i    0.000000\n",
      "k    0.000000\n",
      "j    0.000000\n",
      "dtype: float64\n"
     ]
    }
   ],
   "source": [
    "#重新索引 reindex   并不是改变名字的方法\n",
    "\n",
    "s = pd.Series(np.random.rand(5),index = list('abcde'))\n",
    "print(s)\n",
    "s1 = s.reindex(list('cdaf'))\n",
    "print(s1)\n",
    "print('------------')\n",
    "\n",
    "s2 = s.reindex(list('cdafikj'),fill_value = 0)  #fill_value将空值统一赋值\n",
    "print(s2)"
   ]
  },
  {
   "cell_type": "code",
   "execution_count": 87,
   "metadata": {},
   "outputs": [
    {
     "name": "stdout",
     "output_type": "stream",
     "text": [
      "Jack     0.136022\n",
      "Marry    0.942212\n",
      "Tom      0.091246\n",
      "dtype: float64\n",
      "Wang     0.776305\n",
      "Jack     0.314783\n",
      "Marry    0.833897\n",
      "dtype: float64\n",
      "Jack     0.450805\n",
      "Marry    1.776108\n",
      "Tom           NaN\n",
      "Wang          NaN\n",
      "dtype: float64\n"
     ]
    }
   ],
   "source": [
    "# Series对齐\n",
    "\n",
    "s1 = pd.Series(np.random.rand(3), index = ['Jack','Marry','Tom'])\n",
    "s2 = pd.Series(np.random.rand(3), index = ['Wang','Jack','Marry'])\n",
    "print(s1)\n",
    "print(s2)\n",
    "print(s1+s2)\n",
    "# Series 和 ndarray 之间的主要区别是，Series 上的操作会根据标签自动对齐\n",
    "# index顺序不会影响数值计算，以标签来计算\n",
    "# 空值和任何值计算结果扔为空值"
   ]
  },
  {
   "cell_type": "code",
   "execution_count": 89,
   "metadata": {},
   "outputs": [
    {
     "name": "stdout",
     "output_type": "stream",
     "text": [
      "n    0.700703\n",
      "g    0.767009\n",
      "j    0.175164\n",
      "u    0.210962\n",
      "r    0.297544\n",
      "dtype: float64\n",
      "g    0.767009\n",
      "j    0.175164\n",
      "u    0.210962\n",
      "r    0.297544\n",
      "dtype: float64\n",
      "n    0.700703\n",
      "u    0.210962\n",
      "r    0.297544\n",
      "dtype: float64\n",
      "n    0.700703\n",
      "g    0.767009\n",
      "j    0.175164\n",
      "u    0.210962\n",
      "r    0.297544\n",
      "dtype: float64\n"
     ]
    }
   ],
   "source": [
    "# 删除：.drop\n",
    "\n",
    "s = pd.Series(np.random.rand(5), index = list('ngjur'))\n",
    "print(s)\n",
    "s1 = s.drop('n')\n",
    "s2 = s.drop(['g','j'])    #inplace为True时会改变原数据\n",
    "print(s1)\n",
    "print(s2)\n",
    "print(s)\n",
    "# drop 删除元素之后返回副本(inplace=False)  默认生成新副本"
   ]
  },
  {
   "cell_type": "code",
   "execution_count": 91,
   "metadata": {},
   "outputs": [
    {
     "name": "stdout",
     "output_type": "stream",
     "text": [
      "0    0.391211\n",
      "1    0.816896\n",
      "2    0.480622\n",
      "3    0.697289\n",
      "4    0.368057\n",
      "dtype: float64\n",
      "n    0.133824\n",
      "g    0.842371\n",
      "j    0.611567\n",
      "u    0.444478\n",
      "r    0.514809\n",
      "dtype: float64\n",
      "0      0.391211\n",
      "1      0.816896\n",
      "2      0.480622\n",
      "3      0.697289\n",
      "4      0.368057\n",
      "5    100.000000\n",
      "dtype: float64\n",
      "n      0.133824\n",
      "g      0.842371\n",
      "j      0.611567\n",
      "u      0.444478\n",
      "r      0.514809\n",
      "a    100.000000\n",
      "dtype: float64\n",
      "-----\n",
      "0      0.391211\n",
      "1      0.816896\n",
      "2      0.480622\n",
      "3      0.697289\n",
      "4      0.368057\n",
      "5    100.000000\n",
      "n      0.133824\n",
      "g      0.842371\n",
      "j      0.611567\n",
      "u      0.444478\n",
      "r      0.514809\n",
      "a    100.000000\n",
      "dtype: float64\n",
      "0      0.391211\n",
      "1      0.816896\n",
      "2      0.480622\n",
      "3      0.697289\n",
      "4      0.368057\n",
      "5    100.000000\n",
      "dtype: float64\n"
     ]
    }
   ],
   "source": [
    "# 添加\n",
    "\n",
    "s1 = pd.Series(np.random.rand(5))\n",
    "s2 = pd.Series(np.random.rand(5), index = list('ngjur'))\n",
    "print(s1)\n",
    "print(s2)\n",
    "s1[5] = 100\n",
    "s2['a'] = 100\n",
    "s1[]\n",
    "print(s1)\n",
    "print(s2)\n",
    "print('-----')\n",
    "# 直接通过下标索引/标签index添加值\n",
    "\n",
    "s3 = s1.append(s2)\n",
    "print(s3)\n",
    "print(s1)\n",
    "# 通过.append方法，直接添加一个数组\n",
    "# .append方法生成一个新的数组，不改变之前的数组"
   ]
  },
  {
   "cell_type": "code",
   "execution_count": 102,
   "metadata": {},
   "outputs": [
    {
     "name": "stdout",
     "output_type": "stream",
     "text": [
      "a    0\n",
      "b    1\n",
      "c    2\n",
      "d    3\n",
      "e    4\n",
      "f    5\n",
      "g    6\n",
      "h    7\n",
      "i    8\n",
      "j    9\n",
      "dtype: int32\n",
      "---------------------\n",
      "a    100\n",
      "c      2\n",
      "d      3\n",
      "e    100\n",
      "f    100\n",
      "g      6\n",
      "h      7\n",
      "i      8\n",
      "j      9\n",
      "dtype: int32\n"
     ]
    }
   ],
   "source": [
    "#作业1：如图创建Series，并按照要求修改得到结果\n",
    "s = pd.Series(np.arange(10),index = list('abcdefghij'),dtype = np.int)\n",
    "print(s)\n",
    "s['a'] = 100\n",
    "s['e'] = 100\n",
    "s['f'] = 100\n",
    "s.drop('b',inplace = True)   #修改原副本\n",
    "print('---------------------')\n",
    "print(s)"
   ]
  },
  {
   "cell_type": "code",
   "execution_count": 108,
   "metadata": {},
   "outputs": [
    {
     "name": "stdout",
     "output_type": "stream",
     "text": [
      "a    0.470495\n",
      "b    1.464754\n",
      "c    8.317433\n",
      "d    5.833545\n",
      "e    7.924211\n",
      "dtype: float64\n",
      "c    5.006549\n",
      "d    4.342247\n",
      "e    8.451500\n",
      "f    2.523633\n",
      "g    1.536518\n",
      "dtype: float64\n",
      "--------------------\n",
      "a          NaN\n",
      "b          NaN\n",
      "c    13.323982\n",
      "d    10.175792\n",
      "e    16.375711\n",
      "f          NaN\n",
      "g          NaN\n",
      "dtype: float64\n"
     ]
    }
   ],
   "source": [
    "#作业2：已有s1，s2（值为0-10的随机数），请求出s1+s2的值\n",
    "s1 = pd.Series(np.random.rand(5)*10,index= list('abcde'))\n",
    "s2 = pd.Series(np.random.rand(5)*10,index= list('cdefg'))\n",
    "print(s1)\n",
    "print(s2)\n",
    "print('--------------------')\n",
    "print(s1+s2)"
   ]
  },
  {
   "cell_type": "code",
   "execution_count": 110,
   "metadata": {},
   "outputs": [
    {
     "data": {
      "text/plain": [
       "'\\n【课程2.5】  Pandas数据结构Dataframe：基本概念及创建\\n\\n\"二维数组\"Dataframe：是一个表格型的数据结构，包含一组有序的列，其列的值类型可以是数值、字符串、布尔值等。\\n\\nDataframe中的数据以一个或多个二维块存放，不是列表、字典或一维数组结构。\\n\\n'"
      ]
     },
     "execution_count": 110,
     "metadata": {},
     "output_type": "execute_result"
    }
   ],
   "source": [
    "'''\n",
    "【课程2.5】  Pandas数据结构Dataframe：基本概念及创建\n",
    "\n",
    "\"二维数组\"Dataframe：是一个表格型的数据结构，包含一组有序的列，其列的值类型可以是数值、字符串、布尔值等。\n",
    "\n",
    "Dataframe中的数据以一个或多个二维块存放，不是列表、字典或一维数组结构。\n",
    "\n",
    "'''"
   ]
  },
  {
   "cell_type": "code",
   "execution_count": 112,
   "metadata": {},
   "outputs": [
    {
     "name": "stdout",
     "output_type": "stream",
     "text": [
      "   name  age gender\n",
      "0  Jack   18      m\n",
      "1   Tom   19      m\n",
      "2  Mary   20      w\n",
      "<class 'pandas.core.frame.DataFrame'>\n",
      "RangeIndex(start=0, stop=3, step=1) \n",
      "该数据类型为： <class 'pandas.core.indexes.range.RangeIndex'>\n",
      "Index(['name', 'age', 'gender'], dtype='object') \n",
      "该数据类型为： <class 'pandas.core.indexes.base.Index'>\n",
      "[['Jack' 18 'm']\n",
      " ['Tom' 19 'm']\n",
      " ['Mary' 20 'w']] \n",
      "该数据类型为： <class 'numpy.ndarray'>\n"
     ]
    }
   ],
   "source": [
    "# Dataframe 数据结构\n",
    "# Dataframe是一个表格型的数据结构，“带有标签的二维数组”。\n",
    "# Dataframe带有index（行标签）和columns（列标签）\n",
    "\n",
    "data = {'name':['Jack','Tom','Mary'],\n",
    "        'age':[18,19,20],\n",
    "       'gender':['m','m','w']}\n",
    "frame = pd.DataFrame(data)\n",
    "print(frame)  \n",
    "print(type(frame))\n",
    "print(frame.index,'\\n该数据类型为：',type(frame.index))\n",
    "print(frame.columns,'\\n该数据类型为：',type(frame.columns))\n",
    "print(frame.values,'\\n该数据类型为：',type(frame.values))\n",
    "# 查看数据，数据类型为dataframe\n",
    "# .index查看行标签\n",
    "# .columns查看列标签\n",
    "# .values查看值，数据类型为ndarray"
   ]
  },
  {
   "cell_type": "code",
   "execution_count": 118,
   "metadata": {},
   "outputs": [
    {
     "name": "stdout",
     "output_type": "stream",
     "text": [
      "{'a': [1, 2, 3], 'b': [3, 4, 5], 'c': [5, 6, 7]}\n",
      "{'one': array([0.89407708, 0.15069408, 0.52293194]), 'two': array([0.6663681 , 0.93773673, 0.60904444])}\n",
      "   a  b  c\n",
      "0  1  3  5\n",
      "1  2  4  6\n",
      "2  3  5  7\n",
      "        one       two\n",
      "0  0.894077  0.666368\n",
      "1  0.150694  0.937737\n",
      "2  0.522932  0.609044\n",
      "   b  c  a    d\n",
      "0  3  5  1  NaN\n",
      "1  4  6  2  NaN\n",
      "2  5  7  3  NaN\n",
      "   b  c\n",
      "0  3  5\n",
      "1  4  6\n",
      "2  5  7\n",
      "         one       two\n",
      "f1  0.894077  0.666368\n",
      "f2  0.150694  0.937737\n",
      "f3  0.522932  0.609044\n"
     ]
    }
   ],
   "source": [
    "# Dataframe 创建方法一：由数组/list组成的字典\n",
    "# 创建方法:pandas.Dataframe()\n",
    "\n",
    "data1 = {'a':[1,2,3],\n",
    "        'b':[3,4,5],\n",
    "        'c':[5,6,7]}\n",
    "data2 = {'one':np.random.rand(3),\n",
    "        'two':np.random.rand(3)}   # 这里如果尝试  'two':np.random.rand(4) 会怎么样？\n",
    "print(data1)\n",
    "print(data2)\n",
    "d1 = pd.DataFrame(data1)\n",
    "d2 = pd.DataFrame(data2)\n",
    "print(d1)\n",
    "print(d2)\n",
    "# 由数组/list组成的字典 创建Dataframe，columns为字典key，index为默认数字标签\n",
    "# 字典的值的长度必须保持一致！\n",
    "\n",
    "df1 = pd.DataFrame(data1, columns = ['b','c','a','d'])\n",
    "print(df1)\n",
    "df1 = pd.DataFrame(data1, columns = ['b','c'])\n",
    "print(df1)\n",
    "# columns参数：可以重新指定列的顺序，格式为list，如果现有数据中没有该列（比如'd'），则产生NaN值\n",
    "# 如果columns重新指定时候，列的数量可以少于原数据\n",
    "\n",
    "df2 = pd.DataFrame(data2, index = ['f1','f2','f3'])  # 这里如果尝试  index = ['f1','f2','f3','f4'] 会怎么样？\n",
    "print(df2)\n",
    "# index参数：重新定义index，格式为list，长度必须保持一致"
   ]
  },
  {
   "cell_type": "code",
   "execution_count": 121,
   "metadata": {},
   "outputs": [
    {
     "name": "stdout",
     "output_type": "stream",
     "text": [
      "{'one': 0    0.59112\n",
      "1    0.53609\n",
      "dtype: float64, 'two': 0    0.123016\n",
      "1    0.145894\n",
      "2    0.910364\n",
      "dtype: float64}\n",
      "{'one': a    0.787846\n",
      "b    0.873986\n",
      "dtype: float64, 'two': a    0.309890\n",
      "b    0.464850\n",
      "c    0.741809\n",
      "dtype: float64}\n",
      "       one       two\n",
      "0  0.59112  0.123016\n",
      "1  0.53609  0.145894\n",
      "2      NaN  0.910364\n",
      "        one       two\n",
      "a  0.787846  0.309890\n",
      "b  0.873986  0.464850\n",
      "c       NaN  0.741809\n"
     ]
    }
   ],
   "source": [
    "# Dataframe 创建方法二：由Series组成的字典\n",
    "\n",
    "data1 = {'one':pd.Series(np.random.rand(2)),\n",
    "        'two':pd.Series(np.random.rand(3))}  # 没有设置index的Series\n",
    "data2 = {'one':pd.Series(np.random.rand(2), index = ['a','b']),\n",
    "        'two':pd.Series(np.random.rand(3),index = ['a','b','c'])}  # 设置了index的Series\n",
    "print(data1)\n",
    "print(data2)\n",
    "df1 = pd.DataFrame(data1)\n",
    "df2 = pd.DataFrame(data2)\n",
    "print(df1)\n",
    "print(df2)\n",
    "# 由Seris组成的字典 创建Dataframe，columns为字典key，index为Series的标签（如果Series没有指定标签，则是默认数字标签）\n",
    "# Series可以长度不一样，生成的Dataframe会出现NaN值"
   ]
  },
  {
   "cell_type": "code",
   "execution_count": 6,
   "metadata": {},
   "outputs": [
    {
     "name": "stdout",
     "output_type": "stream",
     "text": [
      "[[0.25122621 0.30086654 0.21892449]\n",
      " [0.52658422 0.77047701 0.48607585]\n",
      " [0.40714133 0.29458872 0.26578646]]\n",
      "          0         1         2\n",
      "0  0.251226  0.300867  0.218924\n",
      "1  0.526584  0.770477  0.486076\n",
      "2  0.407141  0.294589  0.265786\n",
      "        one       two     three\n",
      "a  0.251226  0.300867  0.218924\n",
      "b  0.526584  0.770477  0.486076\n",
      "c  0.407141  0.294589  0.265786\n"
     ]
    }
   ],
   "source": [
    "# Dataframe 创建方法三：通过二维数组直接创建\n",
    "\n",
    "ar = np.random.rand(9).reshape(3,3)\n",
    "print(ar)\n",
    "df1 = pd.DataFrame(ar)\n",
    "df2 = pd.DataFrame(ar, index = ['a', 'b', 'c'], columns = ['one','two','three']) # 可以尝试一下index或columns长度不等于已有数组的情况\n",
    "print(df1)\n",
    "print(df2)\n",
    "# 通过二维数组直接创建Dataframe，得到一样形状的结果数据，如果不指定index和columns，两者均返回默认数字格式\n",
    "# index和colunms指定长度与原数组保持一致"
   ]
  },
  {
   "cell_type": "code",
   "execution_count": 127,
   "metadata": {},
   "outputs": [
    {
     "name": "stdout",
     "output_type": "stream",
     "text": [
      "[{'one': 1, 'two': 2}, {'one': 5, 'two': 10, 'three': 20}]\n",
      "   one  three  two\n",
      "0    1    NaN    2\n",
      "1    5   20.0   10\n",
      "   one  three  two\n",
      "a    1    NaN    2\n",
      "b    5   20.0   10\n",
      "   one  two\n",
      "0    1    2\n",
      "1    5   10\n"
     ]
    }
   ],
   "source": [
    "# Dataframe 创建方法四：由字典组成的列表\n",
    "\n",
    "data = [{'one': 1, 'two': 2}, {'one': 5, 'two': 10, 'three': 20}]\n",
    "print(data)\n",
    "df1 = pd.DataFrame(data)\n",
    "df2 = pd.DataFrame(data, index = ['a','b'])\n",
    "df3 = pd.DataFrame(data, columns = ['one','two'])\n",
    "print(df1)\n",
    "print(df2)\n",
    "print(df3)\n",
    "# 由字典组成的列表创建Dataframe，columns为字典的key，index不做指定则为默认数组标签\n",
    "# colunms和index参数分别重新指定相应列及行标签"
   ]
  },
  {
   "cell_type": "code",
   "execution_count": 38,
   "metadata": {},
   "outputs": [
    {
     "name": "stdout",
     "output_type": "stream",
     "text": [
      "         Jack  Marry   Tom\n",
      "art        78     92   NaN\n",
      "english    89     95  67.0\n",
      "math       90     82  78.0\n"
     ]
    },
    {
     "ename": "AttributeError",
     "evalue": "'list' object has no attribute 'astype'",
     "output_type": "error",
     "traceback": [
      "\u001b[1;31m---------------------------------------------------------------------------\u001b[0m",
      "\u001b[1;31mAttributeError\u001b[0m                            Traceback (most recent call last)",
      "\u001b[1;32m<ipython-input-38-773882250bb0>\u001b[0m in \u001b[0;36m<module>\u001b[1;34m\u001b[0m\n\u001b[0;32m      9\u001b[0m \u001b[1;33m\u001b[0m\u001b[0m\n\u001b[0;32m     10\u001b[0m \u001b[0mdf2\u001b[0m \u001b[1;33m=\u001b[0m \u001b[0mpd\u001b[0m\u001b[1;33m.\u001b[0m\u001b[0mDataFrame\u001b[0m\u001b[1;33m(\u001b[0m\u001b[0mdata\u001b[0m\u001b[1;33m,\u001b[0m \u001b[0mcolumns\u001b[0m \u001b[1;33m=\u001b[0m \u001b[1;33m[\u001b[0m\u001b[1;34m'Jack'\u001b[0m\u001b[1;33m,\u001b[0m\u001b[1;34m'Tom'\u001b[0m\u001b[1;33m,\u001b[0m\u001b[1;34m'Bob'\u001b[0m\u001b[1;33m]\u001b[0m\u001b[1;33m)\u001b[0m\u001b[1;33m\u001b[0m\u001b[1;33m\u001b[0m\u001b[0m\n\u001b[1;32m---> 11\u001b[1;33m \u001b[0mdf3\u001b[0m \u001b[1;33m=\u001b[0m \u001b[0mpd\u001b[0m\u001b[1;33m.\u001b[0m\u001b[0mDataFrame\u001b[0m\u001b[1;33m(\u001b[0m\u001b[0mdata\u001b[0m\u001b[1;33m,\u001b[0m\u001b[0mindex\u001b[0m \u001b[1;33m=\u001b[0m \u001b[1;33m[\u001b[0m\u001b[1;34m'a'\u001b[0m\u001b[1;33m,\u001b[0m\u001b[1;34m'b'\u001b[0m\u001b[1;33m,\u001b[0m\u001b[1;34m'c'\u001b[0m\u001b[1;33m]\u001b[0m\u001b[1;33m)\u001b[0m\u001b[1;33m\u001b[0m\u001b[1;33m\u001b[0m\u001b[0m\n\u001b[0m\u001b[0;32m     12\u001b[0m \u001b[0mprint\u001b[0m\u001b[1;33m(\u001b[0m\u001b[0mdata\u001b[0m\u001b[1;33m,\u001b[0m\u001b[0mtype\u001b[0m\u001b[1;33m(\u001b[0m\u001b[0mdata\u001b[0m\u001b[1;33m)\u001b[0m\u001b[1;33m)\u001b[0m\u001b[1;33m\u001b[0m\u001b[1;33m\u001b[0m\u001b[0m\n\u001b[0;32m     13\u001b[0m \u001b[0mprint\u001b[0m\u001b[1;33m(\u001b[0m\u001b[0mdf2\u001b[0m\u001b[1;33m)\u001b[0m\u001b[1;33m\u001b[0m\u001b[1;33m\u001b[0m\u001b[0m\n",
      "\u001b[1;32mC:\\ProgramData\\Anaconda3\\lib\\site-packages\\pandas\\core\\frame.py\u001b[0m in \u001b[0;36m__init__\u001b[1;34m(self, data, index, columns, dtype, copy)\u001b[0m\n\u001b[0;32m    346\u001b[0m                                  dtype=dtype, copy=copy)\n\u001b[0;32m    347\u001b[0m         \u001b[1;32melif\u001b[0m \u001b[0misinstance\u001b[0m\u001b[1;33m(\u001b[0m\u001b[0mdata\u001b[0m\u001b[1;33m,\u001b[0m \u001b[0mdict\u001b[0m\u001b[1;33m)\u001b[0m\u001b[1;33m:\u001b[0m\u001b[1;33m\u001b[0m\u001b[1;33m\u001b[0m\u001b[0m\n\u001b[1;32m--> 348\u001b[1;33m             \u001b[0mmgr\u001b[0m \u001b[1;33m=\u001b[0m \u001b[0mself\u001b[0m\u001b[1;33m.\u001b[0m\u001b[0m_init_dict\u001b[0m\u001b[1;33m(\u001b[0m\u001b[0mdata\u001b[0m\u001b[1;33m,\u001b[0m \u001b[0mindex\u001b[0m\u001b[1;33m,\u001b[0m \u001b[0mcolumns\u001b[0m\u001b[1;33m,\u001b[0m \u001b[0mdtype\u001b[0m\u001b[1;33m=\u001b[0m\u001b[0mdtype\u001b[0m\u001b[1;33m)\u001b[0m\u001b[1;33m\u001b[0m\u001b[1;33m\u001b[0m\u001b[0m\n\u001b[0m\u001b[0;32m    349\u001b[0m         \u001b[1;32melif\u001b[0m \u001b[0misinstance\u001b[0m\u001b[1;33m(\u001b[0m\u001b[0mdata\u001b[0m\u001b[1;33m,\u001b[0m \u001b[0mma\u001b[0m\u001b[1;33m.\u001b[0m\u001b[0mMaskedArray\u001b[0m\u001b[1;33m)\u001b[0m\u001b[1;33m:\u001b[0m\u001b[1;33m\u001b[0m\u001b[1;33m\u001b[0m\u001b[0m\n\u001b[0;32m    350\u001b[0m             \u001b[1;32mimport\u001b[0m \u001b[0mnumpy\u001b[0m\u001b[1;33m.\u001b[0m\u001b[0mma\u001b[0m\u001b[1;33m.\u001b[0m\u001b[0mmrecords\u001b[0m \u001b[1;32mas\u001b[0m \u001b[0mmrecords\u001b[0m\u001b[1;33m\u001b[0m\u001b[1;33m\u001b[0m\u001b[0m\n",
      "\u001b[1;32mC:\\ProgramData\\Anaconda3\\lib\\site-packages\\pandas\\core\\frame.py\u001b[0m in \u001b[0;36m_init_dict\u001b[1;34m(self, data, index, columns, dtype)\u001b[0m\n\u001b[0;32m    457\u001b[0m             \u001b[0marrays\u001b[0m \u001b[1;33m=\u001b[0m \u001b[1;33m[\u001b[0m\u001b[0mdata\u001b[0m\u001b[1;33m[\u001b[0m\u001b[0mk\u001b[0m\u001b[1;33m]\u001b[0m \u001b[1;32mfor\u001b[0m \u001b[0mk\u001b[0m \u001b[1;32min\u001b[0m \u001b[0mkeys\u001b[0m\u001b[1;33m]\u001b[0m\u001b[1;33m\u001b[0m\u001b[1;33m\u001b[0m\u001b[0m\n\u001b[0;32m    458\u001b[0m \u001b[1;33m\u001b[0m\u001b[0m\n\u001b[1;32m--> 459\u001b[1;33m         \u001b[1;32mreturn\u001b[0m \u001b[0m_arrays_to_mgr\u001b[0m\u001b[1;33m(\u001b[0m\u001b[0marrays\u001b[0m\u001b[1;33m,\u001b[0m \u001b[0mdata_names\u001b[0m\u001b[1;33m,\u001b[0m \u001b[0mindex\u001b[0m\u001b[1;33m,\u001b[0m \u001b[0mcolumns\u001b[0m\u001b[1;33m,\u001b[0m \u001b[0mdtype\u001b[0m\u001b[1;33m=\u001b[0m\u001b[0mdtype\u001b[0m\u001b[1;33m)\u001b[0m\u001b[1;33m\u001b[0m\u001b[1;33m\u001b[0m\u001b[0m\n\u001b[0m\u001b[0;32m    460\u001b[0m \u001b[1;33m\u001b[0m\u001b[0m\n\u001b[0;32m    461\u001b[0m     \u001b[1;32mdef\u001b[0m \u001b[0m_init_ndarray\u001b[0m\u001b[1;33m(\u001b[0m\u001b[0mself\u001b[0m\u001b[1;33m,\u001b[0m \u001b[0mvalues\u001b[0m\u001b[1;33m,\u001b[0m \u001b[0mindex\u001b[0m\u001b[1;33m,\u001b[0m \u001b[0mcolumns\u001b[0m\u001b[1;33m,\u001b[0m \u001b[0mdtype\u001b[0m\u001b[1;33m=\u001b[0m\u001b[1;32mNone\u001b[0m\u001b[1;33m,\u001b[0m \u001b[0mcopy\u001b[0m\u001b[1;33m=\u001b[0m\u001b[1;32mFalse\u001b[0m\u001b[1;33m)\u001b[0m\u001b[1;33m:\u001b[0m\u001b[1;33m\u001b[0m\u001b[1;33m\u001b[0m\u001b[0m\n",
      "\u001b[1;32mC:\\ProgramData\\Anaconda3\\lib\\site-packages\\pandas\\core\\frame.py\u001b[0m in \u001b[0;36m_arrays_to_mgr\u001b[1;34m(arrays, arr_names, index, columns, dtype)\u001b[0m\n\u001b[0;32m   7357\u001b[0m \u001b[1;33m\u001b[0m\u001b[0m\n\u001b[0;32m   7358\u001b[0m     \u001b[1;31m# don't force copy because getting jammed in an ndarray anyway\u001b[0m\u001b[1;33m\u001b[0m\u001b[1;33m\u001b[0m\u001b[1;33m\u001b[0m\u001b[0m\n\u001b[1;32m-> 7359\u001b[1;33m     \u001b[0marrays\u001b[0m \u001b[1;33m=\u001b[0m \u001b[0m_homogenize\u001b[0m\u001b[1;33m(\u001b[0m\u001b[0marrays\u001b[0m\u001b[1;33m,\u001b[0m \u001b[0mindex\u001b[0m\u001b[1;33m,\u001b[0m \u001b[0mdtype\u001b[0m\u001b[1;33m)\u001b[0m\u001b[1;33m\u001b[0m\u001b[1;33m\u001b[0m\u001b[0m\n\u001b[0m\u001b[0;32m   7360\u001b[0m \u001b[1;33m\u001b[0m\u001b[0m\n\u001b[0;32m   7361\u001b[0m     \u001b[1;31m# from BlockManager perspective\u001b[0m\u001b[1;33m\u001b[0m\u001b[1;33m\u001b[0m\u001b[1;33m\u001b[0m\u001b[0m\n",
      "\u001b[1;32mC:\\ProgramData\\Anaconda3\\lib\\site-packages\\pandas\\core\\frame.py\u001b[0m in \u001b[0;36m_homogenize\u001b[1;34m(data, index, dtype)\u001b[0m\n\u001b[0;32m   7659\u001b[0m             \u001b[1;32mif\u001b[0m \u001b[0misinstance\u001b[0m\u001b[1;33m(\u001b[0m\u001b[0mv\u001b[0m\u001b[1;33m,\u001b[0m \u001b[0mdict\u001b[0m\u001b[1;33m)\u001b[0m\u001b[1;33m:\u001b[0m\u001b[1;33m\u001b[0m\u001b[1;33m\u001b[0m\u001b[0m\n\u001b[0;32m   7660\u001b[0m                 \u001b[1;32mif\u001b[0m \u001b[0moindex\u001b[0m \u001b[1;32mis\u001b[0m \u001b[1;32mNone\u001b[0m\u001b[1;33m:\u001b[0m\u001b[1;33m\u001b[0m\u001b[1;33m\u001b[0m\u001b[0m\n\u001b[1;32m-> 7661\u001b[1;33m                     \u001b[0moindex\u001b[0m \u001b[1;33m=\u001b[0m \u001b[0mindex\u001b[0m\u001b[1;33m.\u001b[0m\u001b[0mastype\u001b[0m\u001b[1;33m(\u001b[0m\u001b[1;34m'O'\u001b[0m\u001b[1;33m)\u001b[0m\u001b[1;33m\u001b[0m\u001b[1;33m\u001b[0m\u001b[0m\n\u001b[0m\u001b[0;32m   7662\u001b[0m \u001b[1;33m\u001b[0m\u001b[0m\n\u001b[0;32m   7663\u001b[0m                 \u001b[1;32mif\u001b[0m \u001b[0misinstance\u001b[0m\u001b[1;33m(\u001b[0m\u001b[0mindex\u001b[0m\u001b[1;33m,\u001b[0m \u001b[1;33m(\u001b[0m\u001b[0mDatetimeIndex\u001b[0m\u001b[1;33m,\u001b[0m \u001b[0mTimedeltaIndex\u001b[0m\u001b[1;33m)\u001b[0m\u001b[1;33m)\u001b[0m\u001b[1;33m:\u001b[0m\u001b[1;33m\u001b[0m\u001b[1;33m\u001b[0m\u001b[0m\n",
      "\u001b[1;31mAttributeError\u001b[0m: 'list' object has no attribute 'astype'"
     ]
    }
   ],
   "source": [
    "# Dataframe 创建方法五：由字典组成的字典\n",
    "\n",
    "data = {'Jack':{'math':90,'english':89,'art':78},\n",
    "       'Marry':{'math':82,'english':95,'art':92},\n",
    "       'Tom':{'math':78,'english':67}}\n",
    "df1 = pd.DataFrame(data)\n",
    "print(df1)\n",
    "# 由字典组成的字典创建Dataframe，columns为字典的key，index为子字典的key\n",
    "\n",
    "df2 = pd.DataFrame(data, columns = ['Jack','Tom','Bob'])\n",
    "df3 = pd.DataFrame(data,index = ['a','b','c'])\n",
    "print(data,type(data))\n",
    "print(df2)\n",
    "#print(df3)\n",
    "# columns参数可以增加和减少现有列，如出现新的列，值为NaN\n",
    "# index在这里和之前不同，并不能改变原有index，如果指向新的标签，值为NaN （非常重要！）"
   ]
  },
  {
   "cell_type": "code",
   "execution_count": 148,
   "metadata": {},
   "outputs": [
    {
     "name": "stdout",
     "output_type": "stream",
     "text": [
      "{'one': [2, 3, 2, 0, 2], 'two': [3, 4, 1, 0, 0], 'three': [1, 3, 1, 4, 4], 'four': [0, 3, 4, 0, 1]}\n",
      "   four  one  three  two\n",
      "a     0    2      1    3\n",
      "b     3    3      3    4\n",
      "c     4    2      1    1\n",
      "d     0    0      4    0\n",
      "e     1    2      4    0\n"
     ]
    }
   ],
   "source": [
    "#作业1：用四种不同的方法，创建以下Dataframe（保证columns和index一致，值不做要求）\n",
    "#按照Dataframe 创建方法一：由数组/list组成的字典\n",
    "\n",
    "d1 = {'one':list(np.random.randint(5,size = 5)),'two':list(np.random.randint(5,size = 5)),'three':list(np.random.randint(5,size = 5)),'four':list(np.random.randint(5,size = 5))}\n",
    "print(d1)\n",
    "d2 = pd.DataFrame(d1,columns = ['four','one','three','two'],index = list('abcde'))\n",
    "print(d2)"
   ]
  },
  {
   "cell_type": "code",
   "execution_count": 174,
   "metadata": {},
   "outputs": [
    {
     "name": "stdout",
     "output_type": "stream",
     "text": [
      "   four  one  three  two\n",
      "a     0    3      1    0\n",
      "b     4    3      3    3\n",
      "c     1    1      1    0\n",
      "d     1    2      0    1\n",
      "e     1    1      3    4\n"
     ]
    }
   ],
   "source": [
    "# Dataframe 创建方法二：由Series组成的字典\n",
    "d1 = {'one':pd.Series(np.random.randint(5,size = 5),index = list('abcde')),\n",
    "      'two':pd.Series(np.random.randint(5,size = 5),index = list('abcde')),\n",
    "      'three':pd.Series(np.random.randint(5,size = 5),index = list('abcde')),\n",
    "      'four':pd.Series(np.random.randint(5,size = 5),index = list('abcde'))}\n",
    "d2 = pd.DataFrame(d1,columns = ['four','one','three','two'])\n",
    "print(d2)"
   ]
  },
  {
   "cell_type": "code",
   "execution_count": 179,
   "metadata": {},
   "outputs": [
    {
     "name": "stdout",
     "output_type": "stream",
     "text": [
      "   four  one  three  two\n",
      "a     8    2      8    2\n",
      "b     6    2      1    5\n",
      "c     0    5      4    2\n",
      "d     2    0      6    0\n",
      "e     9    2      6    7\n"
     ]
    }
   ],
   "source": [
    "# Dataframe 创建方法三：通过二维数组直接创建\n",
    "d1 = np.random.randint(10,size = 20).reshape(5,4)\n",
    "d2 = pd.DataFrame(d1,columns = ['four','one','three','two'],index = list('abcde'))\n",
    "print(d2)"
   ]
  },
  {
   "cell_type": "code",
   "execution_count": 183,
   "metadata": {},
   "outputs": [
    {
     "name": "stdout",
     "output_type": "stream",
     "text": [
      "   four  one  three  two\n",
      "a     5    1      4    3\n",
      "b     5    1      4    3\n",
      "c     5    1      4    3\n",
      "d     5    1      4    3\n",
      "e     5    1      4    3\n"
     ]
    }
   ],
   "source": [
    "# Dataframe 创建方法四：由字典组成的列表\n",
    "d1 = [{'one':1,'two':3,'three':4,'four':5},\n",
    "      {'one':1,'two':3,'three':4,'four':5},\n",
    "      {'one':1,'two':3,'three':4,'four':5},\n",
    "      {'one':1,'two':3,'three':4,'four':5},\n",
    "      {'one':1,'two':3,'three':4,'four':5},]\n",
    "d2 = pd.DataFrame(d1,columns = ['four','one','three','two'],index = list('abcde'))\n",
    "print(d2)"
   ]
  },
  {
   "cell_type": "code",
   "execution_count": 185,
   "metadata": {},
   "outputs": [
    {
     "name": "stdout",
     "output_type": "stream",
     "text": [
      "   four  one  three  two\n",
      "a     4    1      3    2\n",
      "b     5    2      4    3\n",
      "c     6    3      5    4\n",
      "d     7    4      6    5\n",
      "e     8    5      7    6\n"
     ]
    }
   ],
   "source": [
    "# Dataframe 创建方法五：由字典组成的字典\n",
    "d1 = {'four':{'a':4,'b':5,'c':6,'d':7,'e':8},\n",
    "     'one':{'a':1,'b':2,'c':3,'d':4,'e':5},\n",
    "     'three':{'a':3,'b':4,'c':5,'d':6,'e':7},\n",
    "     'two':{'a':2,'b':3,'c':4,'d':5,'e':6},}\n",
    "d2 = pd.DataFrame(d1)\n",
    "print(d2)"
   ]
  },
  {
   "cell_type": "code",
   "execution_count": 186,
   "metadata": {},
   "outputs": [
    {
     "data": {
      "text/plain": [
       "'\\n【课程2.6】  Pandas数据结构Dataframe：索引\\n\\nDataframe既有行索引也有列索引，可以被看做由Series组成的字典（共用一个索引）\\n\\n选择列 / 选择行 / 切片 / 布尔判断\\n\\n'"
      ]
     },
     "execution_count": 186,
     "metadata": {},
     "output_type": "execute_result"
    }
   ],
   "source": [
    "'''\n",
    "【课程2.6】  Pandas数据结构Dataframe：索引\n",
    "\n",
    "Dataframe既有行索引也有列索引，可以被看做由Series组成的字典（共用一个索引）\n",
    "\n",
    "选择列 / 选择行 / 切片 / 布尔判断\n",
    "\n",
    "'''"
   ]
  },
  {
   "cell_type": "code",
   "execution_count": 197,
   "metadata": {
    "scrolled": true
   },
   "outputs": [
    {
     "name": "stdout",
     "output_type": "stream",
     "text": [
      "               a          b          c          d\n",
      "one     6.703488  86.947128   3.099274  58.928647\n",
      "two    27.884292  24.205938  84.632230  11.468931\n",
      "three  14.848811  22.924772   5.726674  15.926460\n",
      "one       6.703488\n",
      "two      27.884292\n",
      "three    14.848811\n",
      "Name: a, dtype: float64 <class 'pandas.core.series.Series'>\n",
      "               b          c\n",
      "one    86.947128   3.099274\n",
      "two    24.205938  84.632230\n",
      "three  22.924772   5.726674 <class 'pandas.core.frame.DataFrame'>\n",
      "a     6.703488\n",
      "b    86.947128\n",
      "c     3.099274\n",
      "d    58.928647\n",
      "Name: one, dtype: float64 <class 'pandas.core.series.Series'>\n",
      "               a          b          c          d\n",
      "three  14.848811  22.924772   5.726674  15.926460\n",
      "two    27.884292  24.205938  84.632230  11.468931 <class 'pandas.core.frame.DataFrame'>\n"
     ]
    }
   ],
   "source": [
    "# 选择行与列\n",
    "\n",
    "df = pd.DataFrame(np.random.rand(12).reshape(3,4)*100,\n",
    "                   index = ['one','two','three'],\n",
    "                   columns = ['a','b','c','d'])\n",
    "print(df)\n",
    "\n",
    "data1 = df['a']\n",
    "data2 = df[['b','c']]\n",
    "print(data1,type(data1))\n",
    "print(data2,type(data2))\n",
    "# 按照列名选择列，只选择一列输出Series，选择多列输出Dataframe\n",
    "\n",
    "data3 = df.loc['one']\n",
    "data4 = df.loc[['three','two']]\n",
    "print(data3,type(data3))\n",
    "print(data4,type(data4))\n",
    "# 按照index选择行，只选择一行输出Series，选择多行输出Dataframe"
   ]
  },
  {
   "cell_type": "code",
   "execution_count": 40,
   "metadata": {},
   "outputs": [
    {
     "name": "stdout",
     "output_type": "stream",
     "text": [
      "               a          b          c          d\n",
      "one    44.423128  88.858482  10.138472   5.811620\n",
      "two    33.781191  79.385494  60.713982  19.659515\n",
      "three  75.848206  89.757178  57.303449  77.081816\n",
      "-----\n",
      "one      44.423128\n",
      "two      33.781191\n",
      "three    75.848206\n",
      "Name: a, dtype: float64\n",
      "               b          c\n",
      "one    88.858482  10.138472\n",
      "two    79.385494  60.713982\n",
      "three  89.757178  57.303449\n",
      "             a          b          c          d\n",
      "one  44.423128  88.858482  10.138472   5.811620\n",
      "two  33.781191  79.385494  60.713982  19.659515\n"
     ]
    }
   ],
   "source": [
    "# df[] - 选择列\n",
    "# 一般用于选择列，也可以选择行\n",
    "\n",
    "df = pd.DataFrame(np.random.rand(12).reshape(3,4)*100,\n",
    "                   index = ['one','two','three'],\n",
    "                   columns = ['a','b','c','d'])\n",
    "print(df)\n",
    "print('-----')\n",
    "\n",
    "data1 = df['a']\n",
    "data2 = df[['b','c']]  # 尝试输入 data2 = df[['b','c','e']]\n",
    "print(data1)\n",
    "print(data2)\n",
    "# df[]默认选择列，[]中写列名（所以一般数据colunms都会单独制定，不会用默认数字列名，以免和index冲突）\n",
    "# 单选列为Series，print结果为Series格式\n",
    "# 多选列为Dataframe，print结果为Dataframe格式\n",
    "\n",
    "data3 = df[:2]\n",
    "print(data3)\n",
    "# df[]中为数字时，默认选择行，且只能进行切片的选择，不能单独选择（df[0]）\n",
    "# 输出结果为Dataframe，即便只选择一行\n",
    "# df[]不能通过索引标签名来选择行(df['one'])\n",
    "\n",
    "# 核心笔记：df[col]一般用于选择列，[]中写列名"
   ]
  },
  {
   "cell_type": "code",
   "execution_count": 206,
   "metadata": {},
   "outputs": [
    {
     "name": "stdout",
     "output_type": "stream",
     "text": [
      "               a          b          c          d\n",
      "one    93.873065  57.486088  59.261524  80.404967\n",
      "two    61.700869  38.550385  36.654812   8.354012\n",
      "three  89.344906  58.477334  18.691551  50.603740\n",
      "four   24.049498  65.714646  13.122174   9.546137\n",
      "           a          b          c          d\n",
      "0  17.579644  51.972270  22.642933  53.890596\n",
      "1  92.937413  40.702127  53.380840   3.044497\n",
      "2  89.633223  45.823604  78.964034  50.211368\n",
      "3  55.743047  84.495607  53.600778  31.384479\n",
      "-----\n",
      "a    89.344906\n",
      "b    58.477334\n",
      "c    18.691551\n",
      "d    50.603740\n",
      "Name: three, dtype: float64\n",
      "a    55.743047\n",
      "b    84.495607\n",
      "c    53.600778\n",
      "d    31.384479\n",
      "Name: 3, dtype: float64\n",
      "单标签索引\n",
      "-----\n",
      "               a          b          c          d\n",
      "two    61.700869  38.550385  36.654812   8.354012\n",
      "three  89.344906  58.477334  18.691551  50.603740\n",
      "five         NaN        NaN        NaN        NaN\n",
      "           a          b          c          d\n",
      "3  55.743047  84.495607  53.600778  31.384479\n",
      "2  89.633223  45.823604  78.964034  50.211368\n",
      "1  92.937413  40.702127  53.380840   3.044497\n",
      "多标签索引\n",
      "-----\n",
      "               a          b          c          d\n",
      "one    93.873065  57.486088  59.261524  80.404967\n",
      "two    61.700869  38.550385  36.654812   8.354012\n",
      "three  89.344906  58.477334  18.691551  50.603740\n",
      "           a          b          c          d\n",
      "1  92.937413  40.702127  53.380840   3.044497\n",
      "2  89.633223  45.823604  78.964034  50.211368\n",
      "3  55.743047  84.495607  53.600778  31.384479\n",
      "切片索引\n"
     ]
    },
    {
     "name": "stderr",
     "output_type": "stream",
     "text": [
      "C:\\ProgramData\\Anaconda3\\lib\\site-packages\\ipykernel_launcher.py:19: FutureWarning: \n",
      "Passing list-likes to .loc or [] with any missing label will raise\n",
      "KeyError in the future, you can use .reindex() as an alternative.\n",
      "\n",
      "See the documentation here:\n",
      "https://pandas.pydata.org/pandas-docs/stable/indexing.html#deprecate-loc-reindex-listlike\n"
     ]
    }
   ],
   "source": [
    "# df.loc[] - 按index选择行\n",
    "\n",
    "df1 = pd.DataFrame(np.random.rand(16).reshape(4,4)*100,\n",
    "                   index = ['one','two','three','four'],\n",
    "                   columns = ['a','b','c','d'])\n",
    "df2 = pd.DataFrame(np.random.rand(16).reshape(4,4)*100,\n",
    "                   columns = ['a','b','c','d'])\n",
    "print(df1)\n",
    "print(df2)\n",
    "print('-----')\n",
    "\n",
    "data1 = df1.loc['three']\n",
    "data2 = df2.loc[3]\n",
    "print(data1)\n",
    "print(data2)\n",
    "print('单标签索引\\n-----')\n",
    "# 单个标签索引，返回Series\n",
    "\n",
    "data3 = df1.loc[['two','three','five']]\n",
    "data4 = df2.loc[[3,2,1]]\n",
    "print(data3)\n",
    "print(data4)\n",
    "print('多标签索引\\n-----')\n",
    "# 多个标签索引，如果标签不存在，则返回NaN\n",
    "# 顺序可变\n",
    "\n",
    "data5 = df1.loc['one':'three']\n",
    "data6 = df2.loc[1:3]\n",
    "print(data5)\n",
    "print(data6)\n",
    "print('切片索引')\n",
    "# 可以做切片对象\n",
    "# 末端包含\n",
    "\n",
    "# 核心笔记：df.loc[label]主要针对index选择行，同时支持指定index，及默认数字index"
   ]
  },
  {
   "cell_type": "code",
   "execution_count": 209,
   "metadata": {},
   "outputs": [
    {
     "name": "stdout",
     "output_type": "stream",
     "text": [
      "               a          b          c          d\n",
      "one    80.136806  32.434388  42.051301   8.361361\n",
      "two    61.469997  41.796380  65.239062  95.098109\n",
      "three  39.933112  41.065692  15.152876  21.174707\n",
      "four   21.308154  34.445918  68.415655  75.514115\n",
      "------\n",
      "a    80.136806\n",
      "b    32.434388\n",
      "c    42.051301\n",
      "d     8.361361\n",
      "Name: one, dtype: float64\n",
      "a    21.308154\n",
      "b    34.445918\n",
      "c    68.415655\n",
      "d    75.514115\n",
      "Name: four, dtype: float64\n",
      "单位置索引\n",
      "-----\n",
      "               a          b          c          d\n",
      "one    80.136806  32.434388  42.051301   8.361361\n",
      "three  39.933112  41.065692  15.152876  21.174707\n",
      "               a          b          c          d\n",
      "four   21.308154  34.445918  68.415655  75.514115\n",
      "three  39.933112  41.065692  15.152876  21.174707\n",
      "two    61.469997  41.796380  65.239062  95.098109\n",
      "多位置索引\n",
      "-----\n",
      "               a          b          c          d\n",
      "two    61.469997  41.796380  65.239062  95.098109\n",
      "three  39.933112  41.065692  15.152876  21.174707\n",
      "               a          b          c          d\n",
      "one    80.136806  32.434388  42.051301   8.361361\n",
      "three  39.933112  41.065692  15.152876  21.174707\n",
      "切片索引\n"
     ]
    }
   ],
   "source": [
    "# df.iloc[] - 按照整数位置（从轴的0到length-1）选择行\n",
    "# 类似list的索引，其顺序就是dataframe的整数位置，从0开始计\n",
    "\n",
    "df = pd.DataFrame(np.random.rand(16).reshape(4,4)*100,\n",
    "                   index = ['one','two','three','four'],\n",
    "                   columns = ['a','b','c','d'])\n",
    "print(df)\n",
    "print('------')\n",
    "\n",
    "print(df.iloc[0])\n",
    "print(df.iloc[-1])\n",
    "#print(df.iloc[4])\n",
    "print('单位置索引\\n-----')\n",
    "# 单位置索引\n",
    "# 和loc索引不同，不能索引超出数据行数的整数位置\n",
    "\n",
    "print(df.iloc[[0,2]])\n",
    "print(df.iloc[[3,2,1]])\n",
    "print('多位置索引\\n-----')\n",
    "# 多位置索引\n",
    "# 顺序可变\n",
    "\n",
    "print(df.iloc[1:3])\n",
    "print(df.iloc[::2])\n",
    "print('切片索引')\n",
    "# 切片索引\n",
    "# 末端不包含!!!"
   ]
  },
  {
   "cell_type": "code",
   "execution_count": 213,
   "metadata": {},
   "outputs": [
    {
     "name": "stdout",
     "output_type": "stream",
     "text": [
      "               a          b          c          d\n",
      "one    94.420487  83.175348   2.683390  82.062566\n",
      "two    12.609451  94.327112   9.042897  16.593952\n",
      "three  89.015933  57.169500  95.630917  30.900547\n",
      "four   65.805599  66.359516  69.921235  73.171472\n",
      "------\n",
      "           a      b      c      d\n",
      "one    False  False   True  False\n",
      "two     True  False   True   True\n",
      "three  False  False  False  False\n",
      "four   False  False  False  False <class 'pandas.core.frame.DataFrame'>\n",
      "               a   b         c          d\n",
      "one          NaN NaN  2.683390        NaN\n",
      "two    12.609451 NaN  9.042897  16.593952\n",
      "three        NaN NaN       NaN        NaN\n",
      "four         NaN NaN       NaN        NaN\n",
      "------\n",
      "one       True\n",
      "two      False\n",
      "three     True\n",
      "four      True\n",
      "Name: a, dtype: bool <class 'pandas.core.series.Series'>\n",
      "               a          b          c          d\n",
      "one    94.420487  83.175348   2.683390  82.062566\n",
      "three  89.015933  57.169500  95.630917  30.900547\n",
      "four   65.805599  66.359516  69.921235  73.171472\n",
      "------\n",
      "           a     b\n",
      "one     True  True\n",
      "two    False  True\n",
      "three   True  True\n",
      "four    True  True <class 'pandas.core.frame.DataFrame'>\n",
      "               a          b   c   d\n",
      "one    94.420487  83.175348 NaN NaN\n",
      "two          NaN  94.327112 NaN NaN\n",
      "three  89.015933  57.169500 NaN NaN\n",
      "four   65.805599  66.359516 NaN NaN\n",
      "------\n",
      "           a      b      c      d\n",
      "one    False  False   True  False\n",
      "three  False  False  False   True <class 'pandas.core.frame.DataFrame'>\n",
      "        a   b        c          d\n",
      "one   NaN NaN  2.68339        NaN\n",
      "two   NaN NaN      NaN        NaN\n",
      "three NaN NaN      NaN  30.900547\n",
      "four  NaN NaN      NaN        NaN\n",
      "------\n"
     ]
    }
   ],
   "source": [
    "# 布尔型索引\n",
    "# 和Series原理相同\n",
    "\n",
    "df = pd.DataFrame(np.random.rand(16).reshape(4,4)*100,\n",
    "                   index = ['one','two','three','four'],\n",
    "                   columns = ['a','b','c','d'])\n",
    "print(df)\n",
    "print('------')\n",
    "\n",
    "b1 = df < 20\n",
    "print(b1,type(b1))\n",
    "print(df[b1])  # 也可以书写为 df[df < 20]\n",
    "print('------')\n",
    "# 不做索引则会对数据每个值进行判断\n",
    "# 索引结果保留 所有数据：True返回原数据，False返回值为NaN\n",
    "\n",
    "b2 = df['a'] > 50\n",
    "print(b2,type(b2))\n",
    "print(df[b2])  # 也可以书写为 df[df['a'] > 50]\n",
    "print('------')\n",
    "# 单列做判断\n",
    "# 索引结果保留 单列判断为True的行数据，包括其他列\n",
    "\n",
    "b3 = df[['a','b']] > 50\n",
    "print(b3,type(b3))\n",
    "print(df[b3])  # 也可以书写为 df[df[['a','b']] > 50]\n",
    "print('------')\n",
    "# 多列做判断\n",
    "# 索引结果保留 所有数据：True返回原数据，False返回值为NaN\n",
    "\n",
    "b4 = df.loc[['one','three']] < 50\n",
    "print(b4,type(b4))\n",
    "print(df[b4])  # 也可以书写为 df[df.loc[['one','three']] < 50]\n",
    "print('------')\n",
    "# 多行做判断\n",
    "# 索引结果保留 所有数据：True返回原数据，False返回值为NaN"
   ]
  },
  {
   "cell_type": "code",
   "execution_count": 215,
   "metadata": {},
   "outputs": [
    {
     "name": "stdout",
     "output_type": "stream",
     "text": [
      "               a          b          c          d\n",
      "one    30.035730  52.690168  38.579094  67.134663\n",
      "two    22.360414  73.162629  21.315064  83.744215\n",
      "three  11.898251  10.749900  22.952255  18.043445\n",
      "four   40.309336  84.896418  36.523559  36.860187\n",
      "------\n",
      "one      30.035730\n",
      "three    11.898251\n",
      "Name: a, dtype: float64\n",
      "               b          c          d\n",
      "one    52.690168  38.579094  67.134663\n",
      "three  10.749900  22.952255  18.043445\n",
      "             a          b          c          d\n",
      "one  30.035730  52.690168  38.579094  67.134663\n",
      "two  22.360414  73.162629  21.315064  83.744215\n"
     ]
    }
   ],
   "source": [
    "# 多重索引：比如同时索引行和列\n",
    "# 先选择列再选择行 —— 相当于对于一个数据，先筛选字段，再选择数据量\n",
    "\n",
    "df = pd.DataFrame(np.random.rand(16).reshape(4,4)*100,\n",
    "                   index = ['one','two','three','four'],\n",
    "                   columns = ['a','b','c','d'])\n",
    "print(df)\n",
    "print('------')\n",
    "print(df['a'].loc[['one','three']])   # 选择a列的one，three行\n",
    "print(df[['b','c','d']].iloc[::2])   # 选择b，c，d列的one，three行\n",
    "print(df[df['a'] < 50].iloc[:2])   # 选择满足判断索引的前两行数据"
   ]
  },
  {
   "cell_type": "code",
   "execution_count": 225,
   "metadata": {},
   "outputs": [
    {
     "name": "stdout",
     "output_type": "stream",
     "text": [
      "               a          b          c          d\n",
      "one    40.782415  64.164344  53.443735   5.235289\n",
      "two    85.794604  84.423452   9.456588  23.387855\n",
      "three  52.318221  55.211439  87.160801  96.769661\n",
      "four    8.919474  26.165826  99.707385  54.087792\n",
      "-----------------\n",
      "               b          c\n",
      "one    64.164344  53.443735\n",
      "two    84.423452   9.456588\n",
      "three  55.211439  87.160801\n",
      "four   26.165826  99.707385\n",
      "-----------------\n",
      "               a          b          c          d\n",
      "three  52.318221  55.211439  87.160801  96.769661\n",
      "four    8.919474  26.165826  99.707385  54.087792\n",
      "-----------------\n",
      "             a          b          c          d\n",
      "two  85.794604  84.423452   9.456588  23.387855\n",
      "one  40.782415  64.164344  53.443735   5.235289\n",
      "-----------------\n",
      "               a          b          c          d\n",
      "one          NaN  64.164344  53.443735        NaN\n",
      "two    85.794604  84.423452        NaN        NaN\n",
      "three  52.318221  55.211439  87.160801  96.769661\n",
      "four         NaN        NaN  99.707385  54.087792\n"
     ]
    }
   ],
   "source": [
    "#作业1：如图创建Dataframe(4*4，值为0-100的随机数)，通过索引得到以下值\n",
    "# ① 索引得到b，c列的所有值\n",
    "# ② 索引得到第三第四行的数据\n",
    "# ③ 按顺序索引得到two，one行的值\n",
    "# ④ 索引得到大于50的值\n",
    "\n",
    "df = pd.DataFrame(np.random.rand(16).reshape(4,4)*100,index = ['one','two','three','four'],columns = ['a','b','c','d'])\n",
    "\n",
    "print(df)\n",
    "print('-----------------')\n",
    "print(df[['b','c']])\n",
    "print('-----------------')\n",
    "print(df[2:4])\n",
    "print('-----------------')\n",
    "print(df.loc[['two','one']])\n",
    "print('-----------------')\n",
    "print(df[df>50])"
   ]
  },
  {
   "cell_type": "code",
   "execution_count": 226,
   "metadata": {},
   "outputs": [
    {
     "data": {
      "text/plain": [
       "'\\n【课程2.7】  Pandas数据结构Dataframe：基本技巧\\n\\n数据查看、转置 / 添加、修改、删除值 / 对齐 / 排序\\n\\n'"
      ]
     },
     "execution_count": 226,
     "metadata": {},
     "output_type": "execute_result"
    }
   ],
   "source": [
    "'''\n",
    "【课程2.7】  Pandas数据结构Dataframe：基本技巧\n",
    "\n",
    "数据查看、转置 / 添加、修改、删除值 / 对齐 / 排序\n",
    "\n",
    "'''"
   ]
  },
  {
   "cell_type": "code",
   "execution_count": 231,
   "metadata": {},
   "outputs": [
    {
     "name": "stdout",
     "output_type": "stream",
     "text": [
      "           a          b\n",
      "0  97.306529   1.376169\n",
      "1  76.980118  47.076661\n",
      "           a          b\n",
      "3  65.883454  52.148090\n",
      "4  56.000765  96.033023\n",
      "5  15.582843  22.033413\n",
      "6  45.577092  23.210142\n",
      "7  36.490630  28.086533\n",
      "           0          1          2          3          4          5  \\\n",
      "a  97.306529  76.980118  80.840110  65.883454  56.000765  15.582843   \n",
      "b   1.376169  47.076661  32.642264  52.148090  96.033023  22.033413   \n",
      "\n",
      "           6          7  \n",
      "a  45.577092  36.490630  \n",
      "b  23.210142  28.086533  \n"
     ]
    }
   ],
   "source": [
    "# 数据查看、转置\n",
    "\n",
    "df = pd.DataFrame(np.random.rand(16).reshape(8,2)*100,\n",
    "                   columns = ['a','b'])\n",
    "print(df.head(2))\n",
    "print(df.tail())\n",
    "# .head()查看头部数据\n",
    "# .tail()查看尾部数据\n",
    "# 默认查看5条\n",
    "\n",
    "print(df.T)\n",
    "# .T 转置"
   ]
  },
  {
   "cell_type": "code",
   "execution_count": 233,
   "metadata": {},
   "outputs": [
    {
     "name": "stdout",
     "output_type": "stream",
     "text": [
      "           a          b          c          d\n",
      "0  57.380993  28.397301  98.938283  91.778685\n",
      "1  63.057538  48.456955  88.865416   4.241734\n",
      "2   5.349864  27.945466  81.269599  70.105043\n",
      "3  18.216275   5.130059  17.592586  52.969894\n",
      "           a          b          c          d   e\n",
      "0  57.380993  28.397301  98.938283  91.778685  10\n",
      "1  63.057538  48.456955  88.865416   4.241734  10\n",
      "2   5.349864  27.945466  81.269599  70.105043  10\n",
      "3  18.216275   5.130059  17.592586  52.969894  10\n",
      "4  20.000000  20.000000  20.000000  20.000000  20\n",
      "     a          b    c          d   e\n",
      "0  100  28.397301  100  91.778685  20\n",
      "1  100  48.456955  100   4.241734  20\n",
      "2  100  27.945466  100  70.105043  20\n",
      "3  100   5.130059  100  52.969894  20\n",
      "4  100  20.000000  100  20.000000  20\n"
     ]
    }
   ],
   "source": [
    "# 添加与修改\n",
    "\n",
    "df = pd.DataFrame(np.random.rand(16).reshape(4,4)*100,\n",
    "                   columns = ['a','b','c','d'])\n",
    "print(df)\n",
    "\n",
    "df['e'] = 10\n",
    "df.loc[4] = 20\n",
    "print(df)\n",
    "# 新增列/行并赋值\n",
    "\n",
    "df['e'] = 20\n",
    "df[['a','c']] = 100\n",
    "print(df)\n",
    "# 索引后直接修改值"
   ]
  },
  {
   "cell_type": "code",
   "execution_count": 239,
   "metadata": {},
   "outputs": [
    {
     "name": "stdout",
     "output_type": "stream",
     "text": [
      "           a          b          c          d\n",
      "0  28.148244  33.115347   9.081742  88.736238\n",
      "1  57.981884  12.975120  14.421225   2.943712\n",
      "2  79.323098  82.332539  94.042860  91.607572\n",
      "3  57.113809  79.848134  95.126188  87.085348\n",
      "           b          c          d\n",
      "0  33.115347   9.081742  88.736238\n",
      "1  12.975120  14.421225   2.943712\n",
      "2  82.332539  94.042860  91.607572\n",
      "3  79.848134  95.126188  87.085348\n",
      "-----\n",
      "           b          c          d\n",
      "1  12.975120  14.421225   2.943712\n",
      "2  82.332539  94.042860  91.607572\n",
      "3  79.848134  95.126188  87.085348\n",
      "           b          c          d\n",
      "0  33.115347   9.081742  88.736238\n",
      "3  79.848134  95.126188  87.085348\n",
      "           b          c          d\n",
      "0  33.115347   9.081742  88.736238\n",
      "1  12.975120  14.421225   2.943712\n",
      "2  82.332539  94.042860  91.607572\n",
      "3  79.848134  95.126188  87.085348\n",
      "-----\n",
      "           b          c\n",
      "0  33.115347   9.081742\n",
      "1  12.975120  14.421225\n",
      "2  82.332539  94.042860\n",
      "3  79.848134  95.126188\n",
      "           b          c          d\n",
      "0  33.115347   9.081742  88.736238\n",
      "1  12.975120  14.421225   2.943712\n",
      "2  82.332539  94.042860  91.607572\n",
      "3  79.848134  95.126188  87.085348\n"
     ]
    }
   ],
   "source": [
    "# 删除  del / drop()\n",
    "\n",
    "df = pd.DataFrame(np.random.rand(16).reshape(4,4)*100,\n",
    "                   columns = ['a','b','c','d'])\n",
    "print(df)\n",
    "\n",
    "del df['a']\n",
    "print(df)\n",
    "print('-----')\n",
    "# del语句 - 删除列\n",
    "\n",
    "print(df.drop(0))\n",
    "print(df.drop([1,2]))\n",
    "print(df)\n",
    "print('-----')\n",
    "# drop()删除行，inplace=False → 删除后生成新的数据，不改变原数据\n",
    "\n",
    "print(df.drop(['d'], axis = 1))\n",
    "print(df)\n",
    "# drop()删除列，需要加上axis = 1，inplace=False → 删除后生成新的数据，不改变原数据"
   ]
  },
  {
   "cell_type": "code",
   "execution_count": 243,
   "metadata": {},
   "outputs": [
    {
     "name": "stdout",
     "output_type": "stream",
     "text": [
      "          A         B         C         D\n",
      "0 -1.406821  1.962876 -0.689074 -0.024369\n",
      "1 -0.427469 -0.890634 -0.680596  0.311470\n",
      "2  0.928696 -0.772190 -1.847820 -0.472749\n",
      "3 -0.008485 -0.405512  1.142377 -0.649884\n",
      "4 -0.147888 -1.735640 -0.105616  0.015700\n",
      "5 -1.396049  0.110753 -0.313125  2.067577\n",
      "6 -0.169725 -1.177387 -0.587792 -0.535041\n",
      "7 -0.535146 -1.136069  0.538708  0.123818\n",
      "8  0.643723 -0.986483 -0.998690 -0.531000\n",
      "9 -0.426931 -1.418043 -0.441857 -0.827773\n",
      "          A         B         C\n",
      "0  0.699794 -1.076771  0.077250\n",
      "1  0.418995 -0.024051  0.432865\n",
      "2 -0.910883 -0.530172 -2.730673\n",
      "3 -0.877409  0.901545  2.620381\n",
      "4  0.038167  0.639507  0.787927\n",
      "5  0.458396  0.013641  0.186242\n",
      "6 -1.373463 -1.173318 -0.539658\n",
      "------------------------\n",
      "          A         B         C   D\n",
      "0 -0.707027  0.886104 -0.611824 NaN\n",
      "1 -0.008474 -0.914686 -0.247731 NaN\n",
      "2  0.017813 -1.302362 -4.578493 NaN\n",
      "3 -0.885893  0.496032  3.762759 NaN\n",
      "4 -0.109721 -1.096133  0.682311 NaN\n",
      "5 -0.937654  0.124393 -0.126883 NaN\n",
      "6 -1.543188 -2.350705 -1.127450 NaN\n",
      "7       NaN       NaN       NaN NaN\n",
      "8       NaN       NaN       NaN NaN\n",
      "9       NaN       NaN       NaN NaN\n"
     ]
    }
   ],
   "source": [
    "# 对齐\n",
    "\n",
    "df1 = pd.DataFrame(np.random.randn(10, 4), columns=['A', 'B', 'C', 'D'])\n",
    "df2 = pd.DataFrame(np.random.randn(7, 3), columns=['A', 'B', 'C'])\n",
    "print(df1)\n",
    "print(df2)\n",
    "print('------------------------')\n",
    "print(df1 + df2)\n",
    "# DataFrame对象之间的数据自动按照列和索引（行标签）对齐"
   ]
  },
  {
   "cell_type": "code",
   "execution_count": 249,
   "metadata": {},
   "outputs": [
    {
     "name": "stdout",
     "output_type": "stream",
     "text": [
      "           a          b          c          d\n",
      "0  52.581001  18.668166   5.690537  30.824090\n",
      "1  50.639235  92.695541  69.612590  28.532565\n",
      "2  87.165696  80.850294  36.173631  72.481518\n",
      "3  49.999464  30.576512  98.952873  40.142649\n",
      "           a          b          c          d\n",
      "3  49.999464  30.576512  98.952873  40.142649\n",
      "1  50.639235  92.695541  69.612590  28.532565\n",
      "0  52.581001  18.668166   5.690537  30.824090\n",
      "2  87.165696  80.850294  36.173631  72.481518\n",
      "           a          b          c          d\n",
      "2  87.165696  80.850294  36.173631  72.481518\n",
      "0  52.581001  18.668166   5.690537  30.824090\n",
      "1  50.639235  92.695541  69.612590  28.532565\n",
      "3  49.999464  30.576512  98.952873  40.142649\n",
      "------\n",
      "   a  b  c\n",
      "0  1  0  8\n",
      "1  1  1  7\n",
      "2  1  2  6\n",
      "3  1  3  5\n",
      "4  2  4  4\n",
      "5  2  5  3\n",
      "6  2  6  2\n",
      "7  2  7  1\n",
      "   a  b  c\n",
      "3  1  3  5\n",
      "2  1  2  6\n",
      "1  1  1  7\n",
      "0  1  0  8\n",
      "7  2  7  1\n",
      "6  2  6  2\n",
      "5  2  5  3\n",
      "4  2  4  4\n"
     ]
    }
   ],
   "source": [
    "# 排序1 - 按值排序 .sort_values\n",
    "# 同样适用于Series\n",
    "\n",
    "df1 = pd.DataFrame(np.random.rand(16).reshape(4,4)*100,\n",
    "                   columns = ['a','b','c','d'])\n",
    "print(df1)\n",
    "print(df1.sort_values(['a'], ascending = True))  # 升序\n",
    "print(df1.sort_values(['a'], ascending = False))  # 降序\n",
    "print('------')\n",
    "# ascending参数：设置升序降序，默认升序\n",
    "# 单列排序\n",
    "df2 = pd.DataFrame({'a':[1,1,1,1,2,2,2,2],\n",
    "                  'b':list(range(8)),\n",
    "                  'c':list(range(8,0,-1))})\n",
    "print(df2)\n",
    "print(df2.sort_values(['a','c']))\n",
    "# 多列排序，按列顺序排序\n",
    "\n",
    "# df2 = pd.DataFrame({'a':list(np.random.randint(10,size = 8)),  #如果a的值为随机的\n",
    "#                   'b':list(range(8)),\n",
    "#                   'c':list(range(8,0,-1))})\n",
    "# print(df2)\n",
    "# print(df2.sort_values(['a','c']))                              #排序时c的顺序按照对应的a的顺序排序\n",
    "# # 多列排序，按列顺序排序"
   ]
  },
  {
   "cell_type": "code",
   "execution_count": 251,
   "metadata": {},
   "outputs": [
    {
     "name": "stdout",
     "output_type": "stream",
     "text": [
      "           a          b          c          d\n",
      "5  18.411006  10.472777  24.243296  74.493453\n",
      "4  17.788840  33.160903  78.793322  16.421259\n",
      "3  46.085165   2.050667  66.672748  79.424619\n",
      "2  79.730647  30.479412  47.101301  34.653529\n",
      "           a          b          c          d\n",
      "2  79.730647  30.479412  47.101301  34.653529\n",
      "3  46.085165   2.050667  66.672748  79.424619\n",
      "4  17.788840  33.160903  78.793322  16.421259\n",
      "5  18.411006  10.472777  24.243296  74.493453\n",
      "           a          b          c          d\n",
      "h  87.984580  95.620708  44.205050  46.451214\n",
      "s   5.598292  52.233290  48.185621   3.888846\n",
      "x  37.327604   4.455766  99.731062  55.648349\n",
      "g  25.340749  87.925572  72.769024  90.711649\n",
      "           a          b          c          d\n",
      "g  25.340749  87.925572  72.769024  90.711649\n",
      "h  87.984580  95.620708  44.205050  46.451214\n",
      "s   5.598292  52.233290  48.185621   3.888846\n",
      "x  37.327604   4.455766  99.731062  55.648349\n"
     ]
    }
   ],
   "source": [
    "# 排序2 - 索引排序 .sort_index\n",
    "\n",
    "df1 = pd.DataFrame(np.random.rand(16).reshape(4,4)*100,\n",
    "                  index = [5,4,3,2],\n",
    "                   columns = ['a','b','c','d'])\n",
    "df2 = pd.DataFrame(np.random.rand(16).reshape(4,4)*100,\n",
    "                  index = ['h','s','x','g'],\n",
    "                   columns = ['a','b','c','d'])\n",
    "print(df1)\n",
    "print(df1.sort_index())\n",
    "print(df2)\n",
    "print(df2.sort_index())\n",
    "# 按照index排序\n",
    "# 默认 ascending=True, inplace=False"
   ]
  },
  {
   "cell_type": "code",
   "execution_count": 267,
   "metadata": {},
   "outputs": [
    {
     "name": "stdout",
     "output_type": "stream",
     "text": [
      "          v1         v2         v3\n",
      "5  58.643276  57.690391   2.230346\n",
      "2  50.119696  11.771571  74.475246\n",
      "3  78.756319  61.429783  70.962985\n",
      "          v1         v2         v3\n",
      "5  58.643276  57.690391   2.230346\n",
      "3  78.756319  61.429783  70.962985\n",
      "2  50.119696  11.771571  74.475246\n",
      "          v1         v2         v3\n",
      "3  78.756319  61.429783  70.962985\n",
      "5  58.643276  57.690391   2.230346\n",
      "2  50.119696  11.771571  74.475246\n"
     ]
    }
   ],
   "source": [
    "#作业1：创建一个3*3，值在0-100区间随机值的Dataframe（如图），分别按照index和第二列值大小，降序排序\n",
    "df1 = pd.DataFrame(np.random.rand(9).reshape(3,3)*100,index = list('523'),columns = ['v1','v2','v3'])\n",
    "print(df1)\n",
    "print(df1.sort_index(ascending=False))\n",
    "print(df1.sort_values(['v2','v1','v3'],ascending=False))"
   ]
  },
  {
   "cell_type": "code",
   "execution_count": 282,
   "metadata": {},
   "outputs": [
    {
     "name": "stdout",
     "output_type": "stream",
     "text": [
      "          v1         v2\n",
      "a  65.111067  31.313192\n",
      "b  35.908859  34.170522\n",
      "c  35.371372  63.172504\n",
      "d   7.574113  49.561097\n",
      "e  21.001657  79.249693\n",
      "            a    b          c          d\n",
      "v1  65.111067  100  35.371372   7.574113\n",
      "v2  31.313192  100  63.172504  49.561097\n"
     ]
    }
   ],
   "source": [
    "#作业2：创建一个5*2，值在0-100区间随机值的Dataframe（如图）df1，通过修改得到df2\n",
    "df1 = pd.DataFrame(np.random.rand(10).reshape(5,2)*100,index = list('abcde'),columns = ['v1','v2'])\n",
    "print(df1)\n",
    "# df1.drop('e',inplace = True)\n",
    "# df1.loc['b']= 100\n",
    "# df2 = df1.T\n",
    "df2 = df1.T.drop('e',axis = 1)\n",
    "df2['b'] = 100\n",
    "print(df2)     #为什么输出的值不是整数？"
   ]
  }
 ],
 "metadata": {
  "kernelspec": {
   "display_name": "Python 3",
   "language": "python",
   "name": "python3"
  },
  "language_info": {
   "codemirror_mode": {
    "name": "ipython",
    "version": 3
   },
   "file_extension": ".py",
   "mimetype": "text/x-python",
   "name": "python",
   "nbconvert_exporter": "python",
   "pygments_lexer": "ipython3",
   "version": "3.7.2"
  }
 },
 "nbformat": 4,
 "nbformat_minor": 2
}
