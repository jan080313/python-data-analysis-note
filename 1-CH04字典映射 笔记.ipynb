{
 "cells": [
  {
   "cell_type": "code",
   "execution_count": 1,
   "metadata": {},
   "outputs": [
    {
     "data": {
      "text/plain": [
       "'\\n【课程4.1】  字典dict基本概念\\n\\n字典是另一种可变容器模型，且可存储任意类型对象。\\n字典的每个键值(key=>value)对用冒号(:)分割，每个对之间用逗号(,)分割，整个字典包括在花括号({})中 \\n\\n键必须是唯一的，但值则不必。\\n\\n'"
      ]
     },
     "execution_count": 1,
     "metadata": {},
     "output_type": "execute_result"
    }
   ],
   "source": [
    "'''\n",
    "【课程4.1】  字典dict基本概念\n",
    "\n",
    "字典是另一种可变容器模型，且可存储任意类型对象。\n",
    "字典的每个键值(key=>value)对用冒号(:)分割，每个对之间用逗号(,)分割，整个字典包括在花括号({})中 \n",
    "\n",
    "键必须是唯一的，但值则不必。\n",
    "\n",
    "'''"
   ]
  },
  {
   "cell_type": "code",
   "execution_count": 6,
   "metadata": {},
   "outputs": [
    {
     "name": "stdout",
     "output_type": "stream",
     "text": [
      "{'大头儿子': 6, '小头爸爸': 35, '隔壁老王': 37} <class 'dict'>\n"
     ]
    }
   ],
   "source": [
    "name = ['大头儿子','小头爸爸','隔壁老王']\n",
    "age = [6,35,37]\n",
    "dic={'大头儿子':6,'小头爸爸':35,'隔壁老王':37}\n",
    "print(dic,type(dic))\n",
    "# 用{}来表示，按照key：value来表示字典中的元素，其中key是键，value是值，key-value也就是键值对\n",
    "# 这里dic就是一个字典类型的变量\n",
    "\n",
    "dic = [{'name':'Tom', 'age':18},{'name':'Jack', 'age':19},{'name':'Alex', \"age\":17}]\n",
    "print(dic)\n",
    "# 一个以字典为元素的列表，有没有觉得键值对很像数据中的字段和字段值？"
   ]
  },
  {
   "cell_type": "code",
   "execution_count": 8,
   "metadata": {},
   "outputs": [
    {
     "name": "stdout",
     "output_type": "stream",
     "text": [
      "{'var': 10} {20: 'hello'} {(1, 2, 3): 'hello'}\n"
     ]
    }
   ],
   "source": [
    "dic1= {'var':10}\n",
    "dic2={20:'hello'}\n",
    "dic3={(1,2,3):'hello'}\n",
    "print(dic1,dic2,dic3)"
   ]
  },
  {
   "cell_type": "code",
   "execution_count": 12,
   "metadata": {},
   "outputs": [
    {
     "name": "stdout",
     "output_type": "stream",
     "text": [
      "{'var': 20}\n"
     ]
    }
   ],
   "source": [
    "dic1['var']=20\n",
    "print(dic1)"
   ]
  },
  {
   "cell_type": "code",
   "execution_count": 13,
   "metadata": {},
   "outputs": [
    {
     "name": "stdout",
     "output_type": "stream",
     "text": [
      "{'m': 10, 'n': 'aa', 'h': [1, 2, 3]}\n"
     ]
    }
   ],
   "source": [
    "# 申明一个字典\n",
    "\n",
    "dic = {'a':1,'b':2}\n",
    "# 最简单直接的方式，手动书写申明一个字典变量，注意是：不是=\n",
    "\n",
    "dic = dict(m = 10 ,n = 'aa', h = [1,2,3])\n",
    "print(dic)\n",
    "# dict()函数"
   ]
  },
  {
   "cell_type": "code",
   "execution_count": 14,
   "metadata": {},
   "outputs": [
    {
     "name": "stdout",
     "output_type": "stream",
     "text": [
      "{'a': 'fff', 'b': 'ggg'} {'c': 1, 'd': 2} {'e': [1, 2], 'f': [3, 4]}\n",
      "{'a': None, 'b': None, 'c': None} {'a': 'hello', 'b': 'hello', 'c': 'hello'}\n"
     ]
    }
   ],
   "source": [
    "lst1=[(\"a\",\"fff\"),(\"b\",\"ggg\")]\n",
    "lst2=[[\"c\",1],[\"d\",2]]\n",
    "lst3=((\"e\",[1,2]),(\"f\",[3,4]))\n",
    "dic1 = dict(lst1)\n",
    "dic2 = dict(lst2)\n",
    "dic3 = dict(lst3)\n",
    "print(dic1,dic2,dic3)\n",
    "# dict()由序列生成一个字典，嵌套序列，可以是list或者tuple\n",
    "\n",
    "keys = [\"a\", \"b\", \"c\"]\n",
    "dic1 = dict.fromkeys(keys)\n",
    "dic2 = dict.fromkeys(keys, 'hello')\n",
    "print(dic1,dic2)\n",
    "# 只有key，直接生成一个字典"
   ]
  },
  {
   "cell_type": "code",
   "execution_count": 15,
   "metadata": {},
   "outputs": [],
   "source": [
    "#作业\n",
    "#① 用dict函数的时候，和直接申明一个字典，操作上什么区别？\n",
    "dic = {'a':1,'b':2} #直接声明的话是用key和value直接进行键值对配对，用dict函数可以用多种方法定义一个序列，再进行字典声明"
   ]
  },
  {
   "cell_type": "code",
   "execution_count": 16,
   "metadata": {},
   "outputs": [],
   "source": [
    "#② 用dict()函数从序列创建字典的时候，对序列有要求吗？必须是列表吗？\n",
    "#可以是序列，也可以是元祖tuple"
   ]
  },
  {
   "cell_type": "code",
   "execution_count": 29,
   "metadata": {},
   "outputs": [
    {
     "name": "stdout",
     "output_type": "stream",
     "text": [
      "{'语文': 98, '数学': 100, '外语': 97, '物理': 96, '化学': 99}\n",
      "{'语文': 98, '数学': 100}\n"
     ]
    }
   ],
   "source": [
    "#④ 以dict()函数生成一个人的成绩单，包括语文，数学，外语，物理，化学几个元素\n",
    "grade=dict(语文=98,数学=100,外语=97,物理=96,化学=99) #直接赋值，不需要对语文等学科名字用字符串引号\n",
    "grade1=[('语文',98),('数学',100)]\n",
    "grade2=dict(grade1)\n",
    "print(grade)\n",
    "print(grade2)"
   ]
  },
  {
   "cell_type": "code",
   "execution_count": 30,
   "metadata": {},
   "outputs": [
    {
     "data": {
      "text/plain": [
       "'\\n【课程4.2】  字典常用操作\\n\\n字典内置函数&方法\\n\\n'"
      ]
     },
     "execution_count": 30,
     "metadata": {},
     "output_type": "execute_result"
    }
   ],
   "source": [
    "'''\n",
    "【课程4.2】  字典常用操作\n",
    "\n",
    "字典内置函数&方法\n",
    "\n",
    "'''"
   ]
  },
  {
   "cell_type": "code",
   "execution_count": 38,
   "metadata": {},
   "outputs": [
    {
     "name": "stdout",
     "output_type": "stream",
     "text": [
      "{'a': 1, 'b': 2, 'c': 3, 'd': 4} {'c': 3, 'd': 4}\n",
      "{'a': 1, 'b': 2, 'f': 100} {'a': 1, 'b': 2, 'f': 100}\n",
      "{'a': 1, 'b': 2, 'f': 100} {'a': 1, 'b': 2}\n",
      "字典长度为： 3\n",
      "True\n",
      "False\n"
     ]
    }
   ],
   "source": [
    "# 字典常用操作\n",
    "\n",
    "dic1 = {\"a\":1, \"b\":2}\n",
    "dic2 = {\"c\":3, \"d\":4}\n",
    "dic1.update(dic2)\n",
    "print(dic1,dic2)\n",
    "# dict.update()方法：更新/合并一个字典，把第二个字典合并到第一个字典，改变了第一个字典\n",
    "\n",
    "dic1={'a':1,'b':2}\n",
    "dic3=dic1\n",
    "dic1.update({'f':100})\n",
    "print(dic1,dic3)  #这种情况下dic1进行了更新合并，因为dic3的赋值来源于dic1，所以两者的输出结果都是更新合并后的值\n",
    "\n",
    "dic1={'a':1,'b':2}\n",
    "dic3=dic1.copy()\n",
    "dic1.update({'f':100})\n",
    "print(dic1,dic3) #使用.copy的方法后，dic3的值不会因为dic1的改变而进行改变\n",
    "\n",
    "print('字典长度为：',len(dic1))\n",
    "\n",
    "dic1={'a':1,'b':2} \n",
    "print('a' in dic1)    #！！！只能用key来判断！！！  # in / not in ：判断是否包含，这里的判断对象是key\n",
    "print(1 in dic1)  "
   ]
  },
  {
   "cell_type": "code",
   "execution_count": 41,
   "metadata": {},
   "outputs": [
    {
     "name": "stdout",
     "output_type": "stream",
     "text": [
      "Jack\n",
      "marry\n",
      "Jone\n"
     ]
    }
   ],
   "source": [
    "data = [{'name':'Jack',\"age\":18},\n",
    "        {'name':'marry',\"age\":20},\n",
    "        {'name':'Jone',\"age\":25}]\n",
    "for i in data:\n",
    "    print(i['name'])"
   ]
  },
  {
   "cell_type": "code",
   "execution_count": 42,
   "metadata": {},
   "outputs": [
    {
     "data": {
      "text/plain": [
       "'\\n【课程4.3】  字典的元素访问及遍历\\n\\n如何读取字典？\\n\\n'"
      ]
     },
     "execution_count": 42,
     "metadata": {},
     "output_type": "execute_result"
    }
   ],
   "source": [
    "'''\n",
    "【课程4.3】  字典的元素访问及遍历\n",
    "\n",
    "如何读取字典？\n",
    "\n",
    "'''"
   ]
  },
  {
   "cell_type": "code",
   "execution_count": 49,
   "metadata": {},
   "outputs": [
    {
     "name": "stdout",
     "output_type": "stream",
     "text": [
      "1\n",
      "66663333\n"
     ]
    }
   ],
   "source": [
    "# 字典的元素访问\n",
    "\n",
    "dic = {'a':1, \"b\":2, \"c\":3}\n",
    "print(dic['a'])\n",
    "#print(dic[1])  # 不能用序列的索引方式\n",
    "# 字典里面也就同样的意思，但字典没有顺序，以key来作为指向，所以指向的key必须存在\n",
    "\n",
    "poi = {'name':'shop', 'city':'shanghai', 'information':{'address':'somewhere', 'num':66663333}}\n",
    "print(poi['information']['num'])\n",
    "# 对于嵌套字典，输出嵌套内容，通过重复指向来输出\n",
    "#当序列里嵌套了字典，用以下方法进行索引\n",
    "#poi = [{'name':'shop1', 'city':'shanghai', 'information':{'address':'somewhere1', 'num':66663333}},\n",
    "#       {'name':'shop2', 'city':'beijing', 'information':{'address':'somewhere2', 'num':66663333}},\n",
    "#       {'name':'shop3', 'city':'guangzhou', 'information':{'address':'somewhere3', 'num':66663333}}]\n",
    "#print(poi[1]['information']['address'])"
   ]
  },
  {
   "cell_type": "code",
   "execution_count": 53,
   "metadata": {},
   "outputs": [
    {
     "name": "stdout",
     "output_type": "stream",
     "text": [
      "shop\n",
      "nothing\n",
      "None\n"
     ]
    }
   ],
   "source": [
    "print(poi.get('name'))\n",
    "print(poi.get('type',print('nothing')))\n",
    "# .get(key)方法：直接查看key的value，如果没有相应key则返回None，添加print参数可以多返回一个值"
   ]
  },
  {
   "cell_type": "code",
   "execution_count": 55,
   "metadata": {},
   "outputs": [
    {
     "name": "stdout",
     "output_type": "stream",
     "text": [
      "dict_values(['shop', 'shanghai', {'address': 'somewhere', 'num': 66663333}]) <class 'dict_values'>\n",
      "['shop', 'shanghai', {'address': 'somewhere', 'num': 66663333}]\n"
     ]
    }
   ],
   "source": [
    "print(poi.values(),type(poi.values()))\n",
    "print(list(poi.values()))\n",
    "# .values()方法：输出字典所有values，原理同.keys()方法"
   ]
  },
  {
   "cell_type": "code",
   "execution_count": 57,
   "metadata": {},
   "outputs": [
    {
     "name": "stdout",
     "output_type": "stream",
     "text": [
      "dict_items([('name', 'shop'), ('city', 'shanghai'), ('information', {'address': 'somewhere', 'num': 66663333})]) <class 'dict_items'>\n",
      "[('name', 'shop'), ('city', 'shanghai'), ('information', {'address': 'somewhere', 'num': 66663333})]\n"
     ]
    }
   ],
   "source": [
    "print(poi.items(),type(poi.items()))\n",
    "print(list(poi.items()))\n",
    "# .items()方法：输出字典所有items（元素），原理同.keys()方法"
   ]
  },
  {
   "cell_type": "code",
   "execution_count": 70,
   "metadata": {},
   "outputs": [
    {
     "name": "stdout",
     "output_type": "stream",
     "text": [
      "name\n",
      "city\n",
      "information\n",
      "-------\n",
      "shop\n",
      "shanghai\n",
      "{'address': 'somewhere', 'num': 66663333}\n",
      "shop\n",
      "shanghai\n",
      "{'address': 'somewhere', 'num': 66663333}\n",
      "-------\n",
      "key为:name,values为:shop\n",
      "key为:city,values为:shanghai\n",
      "key为:information,values为:{'address': 'somewhere', 'num': 66663333}\n"
     ]
    }
   ],
   "source": [
    "# 字典的元素遍历\n",
    "poi = {'name':'shop', 'city':'shanghai', 'information':{'address':'somewhere', 'num':66663333}}\n",
    "for keys in poi:\n",
    "    print(keys)\n",
    "print('-------')\n",
    "\n",
    "for values in poi.values():\n",
    "    print(values)\n",
    "\n",
    "for keys in poi:\n",
    "    print(poi[keys])\n",
    "print('-------') \n",
    "\n",
    "for(k,v) in poi.items():\n",
    "    print('key为:%s,values为:%s' %(k,v))\n",
    "#直接访问键值对"
   ]
  },
  {
   "cell_type": "code",
   "execution_count": 77,
   "metadata": {},
   "outputs": [
    {
     "name": "stdout",
     "output_type": "stream",
     "text": [
      "dict_keys(['name', 'city', 'information'])\n"
     ]
    }
   ],
   "source": [
    "#作业\n",
    "#① dict.keys()生成的是不是列表？  生成的是视图\n",
    "poi = {'name':'shop', 'city':'shanghai', 'information':{'address':'somewhere', 'num':66663333}}\n",
    "#print(dict.keys(poi))\n",
    "print(poi.keys())"
   ]
  },
  {
   "cell_type": "code",
   "execution_count": 80,
   "metadata": {},
   "outputs": [
    {
     "name": "stdout",
     "output_type": "stream",
     "text": [
      "True\n"
     ]
    }
   ],
   "source": [
    "#② 如何判断一个value是否存在于字典中？\n",
    "poi = {'name':'shop', 'city':'shanghai', 'information':{'address':'somewhere', 'num':66663333}}\n",
    "print('shop' in poi.values())   #.values()效果与.key()一样，一个是视图化keys 一个是视图化values"
   ]
  },
  {
   "cell_type": "code",
   "execution_count": 2,
   "metadata": {},
   "outputs": [
    {
     "name": "stdout",
     "output_type": "stream",
     "text": [
      "shop\n",
      "nothing\n",
      "None\n",
      "dict_keys(['name', 'city', 'information']) <class 'dict_keys'>\n"
     ]
    }
   ],
   "source": [
    "poi = {'name':'shop', 'city':'shanghai', 'information':{'address':'somewhere', 'num':66663333}}\n",
    "print(poi.get('name'))\n",
    "print(poi.get('type',print('nothing')))\n",
    "# .get(key)方法：直接查看key的value，如果没有相应key则返回None，添加print参数可以多返回一个值\n",
    "print(poi.keys(),type(poi.keys()))"
   ]
  }
 ],
 "metadata": {
  "kernelspec": {
   "display_name": "Python 3",
   "language": "python",
   "name": "python3"
  },
  "language_info": {
   "codemirror_mode": {
    "name": "ipython",
    "version": 3
   },
   "file_extension": ".py",
   "mimetype": "text/x-python",
   "name": "python",
   "nbconvert_exporter": "python",
   "pygments_lexer": "ipython3",
   "version": "3.7.1"
  }
 },
 "nbformat": 4,
 "nbformat_minor": 2
}
