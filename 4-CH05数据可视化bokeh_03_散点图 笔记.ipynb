{
 "cells": [
  {
   "cell_type": "code",
   "execution_count": 1,
   "metadata": {},
   "outputs": [
    {
     "data": {
      "text/plain": [
       "'\\n【课程5.4】  散点图\\n\\u200b\\n① 基本散点图绘制\\n② 散点图颜色、大小设置方法\\n③ 不同符号的散点图\\n\\u200b\\n'"
      ]
     },
     "execution_count": 1,
     "metadata": {},
     "output_type": "execute_result"
    }
   ],
   "source": [
    "\n",
    "'''\n",
    "【课程5.4】  散点图\n",
    "​\n",
    "① 基本散点图绘制\n",
    "② 散点图颜色、大小设置方法\n",
    "③ 不同符号的散点图\n",
    "​\n",
    "'''"
   ]
  },
  {
   "cell_type": "code",
   "execution_count": 4,
   "metadata": {},
   "outputs": [
    {
     "data": {
      "text/html": [
       "\n",
       "    <div class=\"bk-root\">\n",
       "        <a href=\"https://bokeh.pydata.org\" target=\"_blank\" class=\"bk-logo bk-logo-small bk-logo-notebook\"></a>\n",
       "        <span id=\"1002\">Loading BokehJS ...</span>\n",
       "    </div>"
      ]
     },
     "metadata": {},
     "output_type": "display_data"
    },
    {
     "data": {
      "application/javascript": [
       "\n",
       "(function(root) {\n",
       "  function now() {\n",
       "    return new Date();\n",
       "  }\n",
       "\n",
       "  var force = true;\n",
       "\n",
       "  if (typeof (root._bokeh_onload_callbacks) === \"undefined\" || force === true) {\n",
       "    root._bokeh_onload_callbacks = [];\n",
       "    root._bokeh_is_loading = undefined;\n",
       "  }\n",
       "\n",
       "  var JS_MIME_TYPE = 'application/javascript';\n",
       "  var HTML_MIME_TYPE = 'text/html';\n",
       "  var EXEC_MIME_TYPE = 'application/vnd.bokehjs_exec.v0+json';\n",
       "  var CLASS_NAME = 'output_bokeh rendered_html';\n",
       "\n",
       "  /**\n",
       "   * Render data to the DOM node\n",
       "   */\n",
       "  function render(props, node) {\n",
       "    var script = document.createElement(\"script\");\n",
       "    node.appendChild(script);\n",
       "  }\n",
       "\n",
       "  /**\n",
       "   * Handle when an output is cleared or removed\n",
       "   */\n",
       "  function handleClearOutput(event, handle) {\n",
       "    var cell = handle.cell;\n",
       "\n",
       "    var id = cell.output_area._bokeh_element_id;\n",
       "    var server_id = cell.output_area._bokeh_server_id;\n",
       "    // Clean up Bokeh references\n",
       "    if (id != null && id in Bokeh.index) {\n",
       "      Bokeh.index[id].model.document.clear();\n",
       "      delete Bokeh.index[id];\n",
       "    }\n",
       "\n",
       "    if (server_id !== undefined) {\n",
       "      // Clean up Bokeh references\n",
       "      var cmd = \"from bokeh.io.state import curstate; print(curstate().uuid_to_server['\" + server_id + \"'].get_sessions()[0].document.roots[0]._id)\";\n",
       "      cell.notebook.kernel.execute(cmd, {\n",
       "        iopub: {\n",
       "          output: function(msg) {\n",
       "            var id = msg.content.text.trim();\n",
       "            if (id in Bokeh.index) {\n",
       "              Bokeh.index[id].model.document.clear();\n",
       "              delete Bokeh.index[id];\n",
       "            }\n",
       "          }\n",
       "        }\n",
       "      });\n",
       "      // Destroy server and session\n",
       "      var cmd = \"import bokeh.io.notebook as ion; ion.destroy_server('\" + server_id + \"')\";\n",
       "      cell.notebook.kernel.execute(cmd);\n",
       "    }\n",
       "  }\n",
       "\n",
       "  /**\n",
       "   * Handle when a new output is added\n",
       "   */\n",
       "  function handleAddOutput(event, handle) {\n",
       "    var output_area = handle.output_area;\n",
       "    var output = handle.output;\n",
       "\n",
       "    // limit handleAddOutput to display_data with EXEC_MIME_TYPE content only\n",
       "    if ((output.output_type != \"display_data\") || (!output.data.hasOwnProperty(EXEC_MIME_TYPE))) {\n",
       "      return\n",
       "    }\n",
       "\n",
       "    var toinsert = output_area.element.find(\".\" + CLASS_NAME.split(' ')[0]);\n",
       "\n",
       "    if (output.metadata[EXEC_MIME_TYPE][\"id\"] !== undefined) {\n",
       "      toinsert[toinsert.length - 1].firstChild.textContent = output.data[JS_MIME_TYPE];\n",
       "      // store reference to embed id on output_area\n",
       "      output_area._bokeh_element_id = output.metadata[EXEC_MIME_TYPE][\"id\"];\n",
       "    }\n",
       "    if (output.metadata[EXEC_MIME_TYPE][\"server_id\"] !== undefined) {\n",
       "      var bk_div = document.createElement(\"div\");\n",
       "      bk_div.innerHTML = output.data[HTML_MIME_TYPE];\n",
       "      var script_attrs = bk_div.children[0].attributes;\n",
       "      for (var i = 0; i < script_attrs.length; i++) {\n",
       "        toinsert[toinsert.length - 1].firstChild.setAttribute(script_attrs[i].name, script_attrs[i].value);\n",
       "      }\n",
       "      // store reference to server id on output_area\n",
       "      output_area._bokeh_server_id = output.metadata[EXEC_MIME_TYPE][\"server_id\"];\n",
       "    }\n",
       "  }\n",
       "\n",
       "  function register_renderer(events, OutputArea) {\n",
       "\n",
       "    function append_mime(data, metadata, element) {\n",
       "      // create a DOM node to render to\n",
       "      var toinsert = this.create_output_subarea(\n",
       "        metadata,\n",
       "        CLASS_NAME,\n",
       "        EXEC_MIME_TYPE\n",
       "      );\n",
       "      this.keyboard_manager.register_events(toinsert);\n",
       "      // Render to node\n",
       "      var props = {data: data, metadata: metadata[EXEC_MIME_TYPE]};\n",
       "      render(props, toinsert[toinsert.length - 1]);\n",
       "      element.append(toinsert);\n",
       "      return toinsert\n",
       "    }\n",
       "\n",
       "    /* Handle when an output is cleared or removed */\n",
       "    events.on('clear_output.CodeCell', handleClearOutput);\n",
       "    events.on('delete.Cell', handleClearOutput);\n",
       "\n",
       "    /* Handle when a new output is added */\n",
       "    events.on('output_added.OutputArea', handleAddOutput);\n",
       "\n",
       "    /**\n",
       "     * Register the mime type and append_mime function with output_area\n",
       "     */\n",
       "    OutputArea.prototype.register_mime_type(EXEC_MIME_TYPE, append_mime, {\n",
       "      /* Is output safe? */\n",
       "      safe: true,\n",
       "      /* Index of renderer in `output_area.display_order` */\n",
       "      index: 0\n",
       "    });\n",
       "  }\n",
       "\n",
       "  // register the mime type if in Jupyter Notebook environment and previously unregistered\n",
       "  if (root.Jupyter !== undefined) {\n",
       "    var events = require('base/js/events');\n",
       "    var OutputArea = require('notebook/js/outputarea').OutputArea;\n",
       "\n",
       "    if (OutputArea.prototype.mime_types().indexOf(EXEC_MIME_TYPE) == -1) {\n",
       "      register_renderer(events, OutputArea);\n",
       "    }\n",
       "  }\n",
       "\n",
       "  \n",
       "  if (typeof (root._bokeh_timeout) === \"undefined\" || force === true) {\n",
       "    root._bokeh_timeout = Date.now() + 5000;\n",
       "    root._bokeh_failed_load = false;\n",
       "  }\n",
       "\n",
       "  var NB_LOAD_WARNING = {'data': {'text/html':\n",
       "     \"<div style='background-color: #fdd'>\\n\"+\n",
       "     \"<p>\\n\"+\n",
       "     \"BokehJS does not appear to have successfully loaded. If loading BokehJS from CDN, this \\n\"+\n",
       "     \"may be due to a slow or bad network connection. Possible fixes:\\n\"+\n",
       "     \"</p>\\n\"+\n",
       "     \"<ul>\\n\"+\n",
       "     \"<li>re-rerun `output_notebook()` to attempt to load from CDN again, or</li>\\n\"+\n",
       "     \"<li>use INLINE resources instead, as so:</li>\\n\"+\n",
       "     \"</ul>\\n\"+\n",
       "     \"<code>\\n\"+\n",
       "     \"from bokeh.resources import INLINE\\n\"+\n",
       "     \"output_notebook(resources=INLINE)\\n\"+\n",
       "     \"</code>\\n\"+\n",
       "     \"</div>\"}};\n",
       "\n",
       "  function display_loaded() {\n",
       "    var el = document.getElementById(\"1002\");\n",
       "    if (el != null) {\n",
       "      el.textContent = \"BokehJS is loading...\";\n",
       "    }\n",
       "    if (root.Bokeh !== undefined) {\n",
       "      if (el != null) {\n",
       "        el.textContent = \"BokehJS \" + root.Bokeh.version + \" successfully loaded.\";\n",
       "      }\n",
       "    } else if (Date.now() < root._bokeh_timeout) {\n",
       "      setTimeout(display_loaded, 100)\n",
       "    }\n",
       "  }\n",
       "\n",
       "\n",
       "  function run_callbacks() {\n",
       "    try {\n",
       "      root._bokeh_onload_callbacks.forEach(function(callback) { callback() });\n",
       "    }\n",
       "    finally {\n",
       "      delete root._bokeh_onload_callbacks\n",
       "    }\n",
       "    console.info(\"Bokeh: all callbacks have finished\");\n",
       "  }\n",
       "\n",
       "  function load_libs(js_urls, callback) {\n",
       "    root._bokeh_onload_callbacks.push(callback);\n",
       "    if (root._bokeh_is_loading > 0) {\n",
       "      console.log(\"Bokeh: BokehJS is being loaded, scheduling callback at\", now());\n",
       "      return null;\n",
       "    }\n",
       "    if (js_urls == null || js_urls.length === 0) {\n",
       "      run_callbacks();\n",
       "      return null;\n",
       "    }\n",
       "    console.log(\"Bokeh: BokehJS not loaded, scheduling load and callback at\", now());\n",
       "    root._bokeh_is_loading = js_urls.length;\n",
       "    for (var i = 0; i < js_urls.length; i++) {\n",
       "      var url = js_urls[i];\n",
       "      var s = document.createElement('script');\n",
       "      s.src = url;\n",
       "      s.async = false;\n",
       "      s.onreadystatechange = s.onload = function() {\n",
       "        root._bokeh_is_loading--;\n",
       "        if (root._bokeh_is_loading === 0) {\n",
       "          console.log(\"Bokeh: all BokehJS libraries loaded\");\n",
       "          run_callbacks()\n",
       "        }\n",
       "      };\n",
       "      s.onerror = function() {\n",
       "        console.warn(\"failed to load library \" + url);\n",
       "      };\n",
       "      console.log(\"Bokeh: injecting script tag for BokehJS library: \", url);\n",
       "      document.getElementsByTagName(\"head\")[0].appendChild(s);\n",
       "    }\n",
       "  };var element = document.getElementById(\"1002\");\n",
       "  if (element == null) {\n",
       "    console.log(\"Bokeh: ERROR: autoload.js configured with elementid '1002' but no matching script tag was found. \")\n",
       "    return false;\n",
       "  }\n",
       "\n",
       "  var js_urls = [\"https://cdn.pydata.org/bokeh/release/bokeh-1.0.4.min.js\", \"https://cdn.pydata.org/bokeh/release/bokeh-widgets-1.0.4.min.js\", \"https://cdn.pydata.org/bokeh/release/bokeh-tables-1.0.4.min.js\", \"https://cdn.pydata.org/bokeh/release/bokeh-gl-1.0.4.min.js\"];\n",
       "\n",
       "  var inline_js = [\n",
       "    function(Bokeh) {\n",
       "      Bokeh.set_log_level(\"info\");\n",
       "    },\n",
       "    \n",
       "    function(Bokeh) {\n",
       "      \n",
       "    },\n",
       "    function(Bokeh) {\n",
       "      console.log(\"Bokeh: injecting CSS: https://cdn.pydata.org/bokeh/release/bokeh-1.0.4.min.css\");\n",
       "      Bokeh.embed.inject_css(\"https://cdn.pydata.org/bokeh/release/bokeh-1.0.4.min.css\");\n",
       "      console.log(\"Bokeh: injecting CSS: https://cdn.pydata.org/bokeh/release/bokeh-widgets-1.0.4.min.css\");\n",
       "      Bokeh.embed.inject_css(\"https://cdn.pydata.org/bokeh/release/bokeh-widgets-1.0.4.min.css\");\n",
       "      console.log(\"Bokeh: injecting CSS: https://cdn.pydata.org/bokeh/release/bokeh-tables-1.0.4.min.css\");\n",
       "      Bokeh.embed.inject_css(\"https://cdn.pydata.org/bokeh/release/bokeh-tables-1.0.4.min.css\");\n",
       "    }\n",
       "  ];\n",
       "\n",
       "  function run_inline_js() {\n",
       "    \n",
       "    if ((root.Bokeh !== undefined) || (force === true)) {\n",
       "      for (var i = 0; i < inline_js.length; i++) {\n",
       "        inline_js[i].call(root, root.Bokeh);\n",
       "      }if (force === true) {\n",
       "        display_loaded();\n",
       "      }} else if (Date.now() < root._bokeh_timeout) {\n",
       "      setTimeout(run_inline_js, 100);\n",
       "    } else if (!root._bokeh_failed_load) {\n",
       "      console.log(\"Bokeh: BokehJS failed to load within specified timeout.\");\n",
       "      root._bokeh_failed_load = true;\n",
       "    } else if (force !== true) {\n",
       "      var cell = $(document.getElementById(\"1002\")).parents('.cell').data().cell;\n",
       "      cell.output_area.append_execute_result(NB_LOAD_WARNING)\n",
       "    }\n",
       "\n",
       "  }\n",
       "\n",
       "  if (root._bokeh_is_loading === 0) {\n",
       "    console.log(\"Bokeh: BokehJS loaded, going straight to plotting\");\n",
       "    run_inline_js();\n",
       "  } else {\n",
       "    load_libs(js_urls, function() {\n",
       "      console.log(\"Bokeh: BokehJS plotting callback run at\", now());\n",
       "      run_inline_js();\n",
       "    });\n",
       "  }\n",
       "}(window));"
      ],
      "application/vnd.bokehjs_load.v0+json": "\n(function(root) {\n  function now() {\n    return new Date();\n  }\n\n  var force = true;\n\n  if (typeof (root._bokeh_onload_callbacks) === \"undefined\" || force === true) {\n    root._bokeh_onload_callbacks = [];\n    root._bokeh_is_loading = undefined;\n  }\n\n  \n\n  \n  if (typeof (root._bokeh_timeout) === \"undefined\" || force === true) {\n    root._bokeh_timeout = Date.now() + 5000;\n    root._bokeh_failed_load = false;\n  }\n\n  var NB_LOAD_WARNING = {'data': {'text/html':\n     \"<div style='background-color: #fdd'>\\n\"+\n     \"<p>\\n\"+\n     \"BokehJS does not appear to have successfully loaded. If loading BokehJS from CDN, this \\n\"+\n     \"may be due to a slow or bad network connection. Possible fixes:\\n\"+\n     \"</p>\\n\"+\n     \"<ul>\\n\"+\n     \"<li>re-rerun `output_notebook()` to attempt to load from CDN again, or</li>\\n\"+\n     \"<li>use INLINE resources instead, as so:</li>\\n\"+\n     \"</ul>\\n\"+\n     \"<code>\\n\"+\n     \"from bokeh.resources import INLINE\\n\"+\n     \"output_notebook(resources=INLINE)\\n\"+\n     \"</code>\\n\"+\n     \"</div>\"}};\n\n  function display_loaded() {\n    var el = document.getElementById(\"1002\");\n    if (el != null) {\n      el.textContent = \"BokehJS is loading...\";\n    }\n    if (root.Bokeh !== undefined) {\n      if (el != null) {\n        el.textContent = \"BokehJS \" + root.Bokeh.version + \" successfully loaded.\";\n      }\n    } else if (Date.now() < root._bokeh_timeout) {\n      setTimeout(display_loaded, 100)\n    }\n  }\n\n\n  function run_callbacks() {\n    try {\n      root._bokeh_onload_callbacks.forEach(function(callback) { callback() });\n    }\n    finally {\n      delete root._bokeh_onload_callbacks\n    }\n    console.info(\"Bokeh: all callbacks have finished\");\n  }\n\n  function load_libs(js_urls, callback) {\n    root._bokeh_onload_callbacks.push(callback);\n    if (root._bokeh_is_loading > 0) {\n      console.log(\"Bokeh: BokehJS is being loaded, scheduling callback at\", now());\n      return null;\n    }\n    if (js_urls == null || js_urls.length === 0) {\n      run_callbacks();\n      return null;\n    }\n    console.log(\"Bokeh: BokehJS not loaded, scheduling load and callback at\", now());\n    root._bokeh_is_loading = js_urls.length;\n    for (var i = 0; i < js_urls.length; i++) {\n      var url = js_urls[i];\n      var s = document.createElement('script');\n      s.src = url;\n      s.async = false;\n      s.onreadystatechange = s.onload = function() {\n        root._bokeh_is_loading--;\n        if (root._bokeh_is_loading === 0) {\n          console.log(\"Bokeh: all BokehJS libraries loaded\");\n          run_callbacks()\n        }\n      };\n      s.onerror = function() {\n        console.warn(\"failed to load library \" + url);\n      };\n      console.log(\"Bokeh: injecting script tag for BokehJS library: \", url);\n      document.getElementsByTagName(\"head\")[0].appendChild(s);\n    }\n  };var element = document.getElementById(\"1002\");\n  if (element == null) {\n    console.log(\"Bokeh: ERROR: autoload.js configured with elementid '1002' but no matching script tag was found. \")\n    return false;\n  }\n\n  var js_urls = [\"https://cdn.pydata.org/bokeh/release/bokeh-1.0.4.min.js\", \"https://cdn.pydata.org/bokeh/release/bokeh-widgets-1.0.4.min.js\", \"https://cdn.pydata.org/bokeh/release/bokeh-tables-1.0.4.min.js\", \"https://cdn.pydata.org/bokeh/release/bokeh-gl-1.0.4.min.js\"];\n\n  var inline_js = [\n    function(Bokeh) {\n      Bokeh.set_log_level(\"info\");\n    },\n    \n    function(Bokeh) {\n      \n    },\n    function(Bokeh) {\n      console.log(\"Bokeh: injecting CSS: https://cdn.pydata.org/bokeh/release/bokeh-1.0.4.min.css\");\n      Bokeh.embed.inject_css(\"https://cdn.pydata.org/bokeh/release/bokeh-1.0.4.min.css\");\n      console.log(\"Bokeh: injecting CSS: https://cdn.pydata.org/bokeh/release/bokeh-widgets-1.0.4.min.css\");\n      Bokeh.embed.inject_css(\"https://cdn.pydata.org/bokeh/release/bokeh-widgets-1.0.4.min.css\");\n      console.log(\"Bokeh: injecting CSS: https://cdn.pydata.org/bokeh/release/bokeh-tables-1.0.4.min.css\");\n      Bokeh.embed.inject_css(\"https://cdn.pydata.org/bokeh/release/bokeh-tables-1.0.4.min.css\");\n    }\n  ];\n\n  function run_inline_js() {\n    \n    if ((root.Bokeh !== undefined) || (force === true)) {\n      for (var i = 0; i < inline_js.length; i++) {\n        inline_js[i].call(root, root.Bokeh);\n      }if (force === true) {\n        display_loaded();\n      }} else if (Date.now() < root._bokeh_timeout) {\n      setTimeout(run_inline_js, 100);\n    } else if (!root._bokeh_failed_load) {\n      console.log(\"Bokeh: BokehJS failed to load within specified timeout.\");\n      root._bokeh_failed_load = true;\n    } else if (force !== true) {\n      var cell = $(document.getElementById(\"1002\")).parents('.cell').data().cell;\n      cell.output_area.append_execute_result(NB_LOAD_WARNING)\n    }\n\n  }\n\n  if (root._bokeh_is_loading === 0) {\n    console.log(\"Bokeh: BokehJS loaded, going straight to plotting\");\n    run_inline_js();\n  } else {\n    load_libs(js_urls, function() {\n      console.log(\"Bokeh: BokehJS plotting callback run at\", now());\n      run_inline_js();\n    });\n  }\n}(window));"
     },
     "metadata": {},
     "output_type": "display_data"
    }
   ],
   "source": [
    "import numpy as np\n",
    "import pandas as pd\n",
    "import matplotlib.pyplot as plt\n",
    "%matplotlib inline\n",
    "\n",
    "import warnings\n",
    "warnings.filterwarnings('ignore') \n",
    "# 不发出警告\n",
    "\n",
    "from bokeh.io import output_notebook\n",
    "output_notebook()\n",
    "# 导入notebook绘图模块\n",
    "\n",
    "from bokeh.plotting import figure,show\n",
    "# 导入图表绘制、图标展示模块"
   ]
  },
  {
   "cell_type": "code",
   "execution_count": 5,
   "metadata": {},
   "outputs": [
    {
     "data": {
      "text/html": [
       "\n",
       "\n",
       "\n",
       "\n",
       "\n",
       "\n",
       "  <div class=\"bk-root\" id=\"78b00ebf-760c-4c3f-98d1-3e8b3ff499be\" data-root-id=\"1003\"></div>\n"
      ]
     },
     "metadata": {},
     "output_type": "display_data"
    },
    {
     "data": {
      "application/javascript": [
       "(function(root) {\n",
       "  function embed_document(root) {\n",
       "    \n",
       "  var docs_json = {\"f6941a84-deb5-4fdd-a44e-7cc2dc41eb4f\":{\"roots\":{\"references\":[{\"attributes\":{\"below\":[{\"id\":\"1012\",\"type\":\"LinearAxis\"}],\"left\":[{\"id\":\"1017\",\"type\":\"LinearAxis\"}],\"plot_height\":400,\"renderers\":[{\"id\":\"1012\",\"type\":\"LinearAxis\"},{\"id\":\"1016\",\"type\":\"Grid\"},{\"id\":\"1017\",\"type\":\"LinearAxis\"},{\"id\":\"1021\",\"type\":\"Grid\"},{\"id\":\"1030\",\"type\":\"BoxAnnotation\"},{\"id\":\"1049\",\"type\":\"Legend\"},{\"id\":\"1040\",\"type\":\"GlyphRenderer\"}],\"title\":{\"id\":\"1043\",\"type\":\"Title\"},\"toolbar\":{\"id\":\"1028\",\"type\":\"Toolbar\"},\"x_range\":{\"id\":\"1004\",\"type\":\"DataRange1d\"},\"x_scale\":{\"id\":\"1008\",\"type\":\"LinearScale\"},\"y_range\":{\"id\":\"1006\",\"type\":\"DataRange1d\"},\"y_scale\":{\"id\":\"1010\",\"type\":\"LinearScale\"}},\"id\":\"1003\",\"subtype\":\"Figure\",\"type\":\"Plot\"},{\"attributes\":{},\"id\":\"1057\",\"type\":\"UnionRenderers\"},{\"attributes\":{\"fill_alpha\":{\"value\":0.6},\"fill_color\":{\"value\":\"red\"},\"line_alpha\":{\"value\":0.8},\"line_dash\":[6],\"line_width\":{\"value\":2},\"size\":{\"units\":\"screen\",\"value\":25},\"x\":{\"field\":\"x\"},\"y\":{\"field\":\"y\"}},\"id\":\"1038\",\"type\":\"Circle\"},{\"attributes\":{},\"id\":\"1058\",\"type\":\"Selection\"},{\"attributes\":{\"fill_alpha\":{\"value\":0.1},\"fill_color\":{\"value\":\"#1f77b4\"},\"line_alpha\":{\"value\":0.1},\"line_color\":{\"value\":\"#1f77b4\"},\"line_dash\":[6],\"line_width\":{\"value\":2},\"size\":{\"units\":\"screen\",\"value\":25},\"x\":{\"field\":\"x\"},\"y\":{\"field\":\"y\"}},\"id\":\"1039\",\"type\":\"Circle\"},{\"attributes\":{},\"id\":\"1047\",\"type\":\"BasicTickFormatter\"},{\"attributes\":{\"plot\":{\"id\":\"1003\",\"subtype\":\"Figure\",\"type\":\"Plot\"},\"ticker\":{\"id\":\"1013\",\"type\":\"BasicTicker\"}},\"id\":\"1016\",\"type\":\"Grid\"},{\"attributes\":{\"data_source\":{\"id\":\"1037\",\"type\":\"ColumnDataSource\"},\"glyph\":{\"id\":\"1038\",\"type\":\"Circle\"},\"hover_glyph\":null,\"muted_glyph\":null,\"nonselection_glyph\":{\"id\":\"1039\",\"type\":\"Circle\"},\"selection_glyph\":null,\"view\":{\"id\":\"1041\",\"type\":\"CDSView\"}},\"id\":\"1040\",\"type\":\"GlyphRenderer\"},{\"attributes\":{\"formatter\":{\"id\":\"1047\",\"type\":\"BasicTickFormatter\"},\"plot\":{\"id\":\"1003\",\"subtype\":\"Figure\",\"type\":\"Plot\"},\"ticker\":{\"id\":\"1018\",\"type\":\"BasicTicker\"}},\"id\":\"1017\",\"type\":\"LinearAxis\"},{\"attributes\":{\"items\":[{\"id\":\"1050\",\"type\":\"LegendItem\"}],\"location\":\"bottom_right\",\"plot\":{\"id\":\"1003\",\"subtype\":\"Figure\",\"type\":\"Plot\"}},\"id\":\"1049\",\"type\":\"Legend\"},{\"attributes\":{},\"id\":\"1018\",\"type\":\"BasicTicker\"},{\"attributes\":{\"dimension\":1,\"plot\":{\"id\":\"1003\",\"subtype\":\"Figure\",\"type\":\"Plot\"},\"ticker\":{\"id\":\"1018\",\"type\":\"BasicTicker\"}},\"id\":\"1021\",\"type\":\"Grid\"},{\"attributes\":{\"formatter\":{\"id\":\"1045\",\"type\":\"BasicTickFormatter\"},\"plot\":{\"id\":\"1003\",\"subtype\":\"Figure\",\"type\":\"Plot\"},\"ticker\":{\"id\":\"1013\",\"type\":\"BasicTicker\"}},\"id\":\"1012\",\"type\":\"LinearAxis\"},{\"attributes\":{\"label\":{\"value\":\"scatter-circle\"},\"renderers\":[{\"id\":\"1040\",\"type\":\"GlyphRenderer\"}]},\"id\":\"1050\",\"type\":\"LegendItem\"},{\"attributes\":{},\"id\":\"1045\",\"type\":\"BasicTickFormatter\"},{\"attributes\":{},\"id\":\"1013\",\"type\":\"BasicTicker\"},{\"attributes\":{},\"id\":\"1022\",\"type\":\"PanTool\"},{\"attributes\":{},\"id\":\"1023\",\"type\":\"WheelZoomTool\"},{\"attributes\":{\"source\":{\"id\":\"1037\",\"type\":\"ColumnDataSource\"}},\"id\":\"1041\",\"type\":\"CDSView\"},{\"attributes\":{\"overlay\":{\"id\":\"1030\",\"type\":\"BoxAnnotation\"}},\"id\":\"1024\",\"type\":\"BoxZoomTool\"},{\"attributes\":{},\"id\":\"1025\",\"type\":\"SaveTool\"},{\"attributes\":{\"callback\":null,\"data\":{\"x\":[0,1,2,3,4,5,6,7,8,9,10,11,12,13,14,15,16,17,18,19,20,21,22,23,24,25,26,27,28,29,30,31,32,33,34,35,36,37,38,39,40,41,42,43,44,45,46,47,48,49,50,51,52,53,54,55,56,57,58,59,60,61,62,63,64,65,66,67,68,69,70,71,72,73,74,75,76,77,78,79],\"y\":{\"__ndarray__\":\"WKs+oNM24T+9fwpnfkz2Pzntut5nIPc/Pzkq4nu+9r8AkLVNndfwvy5to+e4D/C/A7aJO7+L8b8iNnL9gYrRv/91Q8OfC/m/qlq6PV3L8b8Tr2L7vzLsP2b5Uxj1/tO/u2aa4U8k1L/XM8V/bOf8P5CVEHP528k/X3dXzZZNAMCVwnKNY0H/v5oVD1O+QcO/yHNxyH5GAsDC0BofswT8Pz2PH1iOsgLACk2BGOZZxr9q4iRMfxzPv+11FF/UCJs/V8g4y/WEAEBqyGOxMBzEPyBrM5m9lty/2aJd2W+3BUBsPPyJAV6wP0dNYW+8c60/bd/AWqHA6L+j+CUbRn/2v4RDJSudUtk/hsExiDHH8b90yvVvMHK9PyTBE3ZJ7ba/H6WxYwtFBECPjR/ehWWDvyBYORz6zwDA7dblGfCiuj+x3KR15szZPxYWZwgHKs+/Ig1Suw0bu79VRB0k69DbvyzuA3FetN2/6N32kbN17b/uNkbwSXXyPzzHCRx2y/A/Vedlma5I9T9mmJWYyzfHv16h8YuJpuG/JxCPT/X7/D/9osmPEajVv++ebWNuh/g/3YD6Nr3+6z9OGOnirjb1P3iNwpy8Zts/asc2pxzv9D9wGjciWLn1v1mrvQsMIeI/r8pVKN/ByD98CkO0B3X+vxyDWSg7Wvy/h9j6tjV76D+Y+C/nJO/Rv1T8itnOj8S/U1NTCAz24b+jnDs6O4DDP2VvJcCqltY/C3yld/YS5j+SFFj691HVvxG9vJ52vds/8JMHh4+D579UfcWfTr3nPwdjx8Y2bqm/GwnKweKQ5j8wX5NELWegP9SrvH4ZbLU/NPpKulbc4L9Dvc2s0jbVPw==\",\"dtype\":\"float64\",\"shape\":[80]}},\"selected\":{\"id\":\"1058\",\"type\":\"Selection\"},\"selection_policy\":{\"id\":\"1057\",\"type\":\"UnionRenderers\"}},\"id\":\"1037\",\"type\":\"ColumnDataSource\"},{\"attributes\":{\"callback\":null},\"id\":\"1004\",\"type\":\"DataRange1d\"},{\"attributes\":{},\"id\":\"1026\",\"type\":\"ResetTool\"},{\"attributes\":{\"callback\":null},\"id\":\"1006\",\"type\":\"DataRange1d\"},{\"attributes\":{},\"id\":\"1027\",\"type\":\"HelpTool\"},{\"attributes\":{},\"id\":\"1008\",\"type\":\"LinearScale\"},{\"attributes\":{\"active_drag\":\"auto\",\"active_inspect\":\"auto\",\"active_multi\":null,\"active_scroll\":\"auto\",\"active_tap\":\"auto\",\"tools\":[{\"id\":\"1022\",\"type\":\"PanTool\"},{\"id\":\"1023\",\"type\":\"WheelZoomTool\"},{\"id\":\"1024\",\"type\":\"BoxZoomTool\"},{\"id\":\"1025\",\"type\":\"SaveTool\"},{\"id\":\"1026\",\"type\":\"ResetTool\"},{\"id\":\"1027\",\"type\":\"HelpTool\"}]},\"id\":\"1028\",\"type\":\"Toolbar\"},{\"attributes\":{},\"id\":\"1010\",\"type\":\"LinearScale\"},{\"attributes\":{\"bottom_units\":\"screen\",\"fill_alpha\":{\"value\":0.5},\"fill_color\":{\"value\":\"lightgrey\"},\"left_units\":\"screen\",\"level\":\"overlay\",\"line_alpha\":{\"value\":1.0},\"line_color\":{\"value\":\"black\"},\"line_dash\":[4,4],\"line_width\":{\"value\":2},\"plot\":null,\"render_mode\":\"css\",\"right_units\":\"screen\",\"top_units\":\"screen\"},\"id\":\"1030\",\"type\":\"BoxAnnotation\"},{\"attributes\":{\"plot\":null,\"text\":\"\"},\"id\":\"1043\",\"type\":\"Title\"}],\"root_ids\":[\"1003\"]},\"title\":\"Bokeh Application\",\"version\":\"1.0.4\"}};\n",
       "  var render_items = [{\"docid\":\"f6941a84-deb5-4fdd-a44e-7cc2dc41eb4f\",\"roots\":{\"1003\":\"78b00ebf-760c-4c3f-98d1-3e8b3ff499be\"}}];\n",
       "  root.Bokeh.embed.embed_items_notebook(docs_json, render_items);\n",
       "\n",
       "  }\n",
       "  if (root.Bokeh !== undefined) {\n",
       "    embed_document(root);\n",
       "  } else {\n",
       "    var attempts = 0;\n",
       "    var timer = setInterval(function(root) {\n",
       "      if (root.Bokeh !== undefined) {\n",
       "        embed_document(root);\n",
       "        clearInterval(timer);\n",
       "      }\n",
       "      attempts++;\n",
       "      if (attempts > 100) {\n",
       "        console.log(\"Bokeh: ERROR: Unable to run BokehJS code because BokehJS library is missing\");\n",
       "        clearInterval(timer);\n",
       "      }\n",
       "    }, 10, root)\n",
       "  }\n",
       "})(window);"
      ],
      "application/vnd.bokehjs_exec.v0+json": ""
     },
     "metadata": {
      "application/vnd.bokehjs_exec.v0+json": {
       "id": "1003"
      }
     },
     "output_type": "display_data"
    }
   ],
   "source": [
    "# 1、基本散点图绘制\n",
    "\n",
    "s = pd.Series(np.random.randn(80))\n",
    "# 创建数据\n",
    "\n",
    "p = figure(plot_width=600, plot_height=400)\n",
    "p.circle(s.index, s.values,                  # x，y值，也可以写成：x=s.index, y = s.values\n",
    "         size=25, color=\"navy\", alpha=0.5,   # 点的大小、颜色、透明度（注意，这里的color是线+填充的颜色，同时线和填充可以分别上色，参数如下）\n",
    "         fill_color = 'red',fill_alpha = 0.6, # 填充的颜色、透明度\n",
    "         line_color = 'black',line_alpha = 0.8,line_dash = 'dashed',line_width = 2,   # 点边线的颜色、透明度、虚线、宽度\n",
    "         # 同时还有line_cap、line_dash_offset、line_join参数    \n",
    "         legend = 'scatter-circle',    # 设置图例\n",
    "         #radius = 2   # 设置点的半径，和size只能同时选一个\n",
    "        )\n",
    "# 创建散点图，基本参数\n",
    "# bokeh对line和fill是同样的设置方法\n",
    "\n",
    "p.legend.location = \"bottom_right\"\n",
    "# 设置图例位置\n",
    "\n",
    "show(p)"
   ]
  },
  {
   "cell_type": "code",
   "execution_count": 7,
   "metadata": {},
   "outputs": [
    {
     "data": {
      "text/html": [
       "\n",
       "\n",
       "\n",
       "\n",
       "\n",
       "\n",
       "  <div class=\"bk-root\" id=\"4e2e41fd-14dd-4574-b89e-d4dbe7ee887c\" data-root-id=\"1225\"></div>\n"
      ]
     },
     "metadata": {},
     "output_type": "display_data"
    },
    {
     "data": {
      "application/javascript": [
       "(function(root) {\n",
       "  function embed_document(root) {\n",
       "    \n",
       "  var docs_json = {\"d4845b1f-73ff-4ba9-bdc9-7f21efb34b06\":{\"roots\":{\"references\":[{\"attributes\":{\"below\":[{\"id\":\"1234\",\"type\":\"LinearAxis\"}],\"left\":[{\"id\":\"1239\",\"type\":\"LinearAxis\"}],\"plot_height\":400,\"renderers\":[{\"id\":\"1234\",\"type\":\"LinearAxis\"},{\"id\":\"1238\",\"type\":\"Grid\"},{\"id\":\"1239\",\"type\":\"LinearAxis\"},{\"id\":\"1243\",\"type\":\"Grid\"},{\"id\":\"1252\",\"type\":\"BoxAnnotation\"},{\"id\":\"1262\",\"type\":\"GlyphRenderer\"}],\"title\":{\"id\":\"1283\",\"type\":\"Title\"},\"toolbar\":{\"id\":\"1250\",\"type\":\"Toolbar\"},\"x_range\":{\"id\":\"1226\",\"type\":\"DataRange1d\"},\"x_scale\":{\"id\":\"1230\",\"type\":\"LinearScale\"},\"y_range\":{\"id\":\"1228\",\"type\":\"DataRange1d\"},\"y_scale\":{\"id\":\"1232\",\"type\":\"LinearScale\"}},\"id\":\"1225\",\"subtype\":\"Figure\",\"type\":\"Plot\"},{\"attributes\":{\"callback\":null,\"data\":{\"fill_color\":[\"#c6dbef\",\"#f7fbff\",\"#4292c6\",\"#084594\",\"#9ecae1\",\"#084594\",\"#2171b5\",\"#6baed6\",\"#084594\",\"#deebf7\",\"#084594\",\"#084594\",\"#2171b5\",\"#4292c6\",\"#f7fbff\",\"#f7fbff\",\"#9ecae1\",\"#deebf7\",\"#9ecae1\",\"#4292c6\",\"#084594\",\"#2171b5\",\"#084594\",\"#084594\",\"#c6dbef\",\"#deebf7\",\"#4292c6\",\"#deebf7\",\"#c6dbef\",\"#9ecae1\",\"#6baed6\",\"#084594\",\"#deebf7\",\"#4292c6\",\"#2171b5\",\"#6baed6\",\"#6baed6\",\"#2171b5\",\"#9ecae1\",\"#9ecae1\",\"#9ecae1\",\"#c6dbef\",\"#084594\",\"#2171b5\",\"#084594\",\"#f7fbff\",\"#f7fbff\",\"#deebf7\",\"#2171b5\",\"#4292c6\",\"#f7fbff\",\"#4292c6\",\"#9ecae1\",\"#c6dbef\",\"#c6dbef\",\"#deebf7\",\"#f7fbff\",\"#4292c6\",\"#9ecae1\",\"#c6dbef\",\"#deebf7\",\"#084594\",\"#c6dbef\",\"#4292c6\",\"#c6dbef\",\"#9ecae1\",\"#f7fbff\",\"#9ecae1\",\"#f7fbff\",\"#2171b5\",\"#2171b5\",\"#f7fbff\",\"#2171b5\",\"#2171b5\",\"#c6dbef\",\"#9ecae1\",\"#deebf7\",\"#c6dbef\",\"#6baed6\",\"#deebf7\",\"#9ecae1\",\"#2171b5\",\"#2171b5\",\"#deebf7\",\"#f7fbff\",\"#c6dbef\",\"#2171b5\",\"#4292c6\",\"#deebf7\",\"#9ecae1\",\"#6baed6\",\"#4292c6\",\"#6baed6\",\"#f7fbff\",\"#6baed6\",\"#4292c6\",\"#6baed6\",\"#084594\",\"#4292c6\",\"#084594\"],\"size\":{\"__ndarray__\":\"GAAAABIAAAARAAAAGgAAAA8AAAAMAAAADAAAABgAAAAVAAAAFAAAABIAAAAaAAAADwAAABMAAAAXAAAAEgAAABQAAAAVAAAAEAAAAAoAAAAYAAAADgAAABUAAAANAAAACgAAABgAAAAbAAAAEAAAAAoAAAALAAAAEAAAAA4AAAAcAAAADwAAABAAAAAcAAAAHAAAABgAAAARAAAAGgAAABEAAAAVAAAAGAAAABIAAAASAAAAEgAAABoAAAAMAAAACgAAABEAAAAWAAAAGwAAAAsAAAAUAAAAEwAAABUAAAAPAAAAGwAAAA8AAAAUAAAAGAAAABsAAAAUAAAAEgAAABoAAAAdAAAAFgAAABcAAAAaAAAADgAAABwAAAAOAAAADQAAABYAAAAMAAAAFgAAAAoAAAAKAAAAGQAAAA4AAAAUAAAAFgAAABwAAAAPAAAAGgAAAAoAAAAVAAAAFgAAABUAAAANAAAAFgAAABkAAAAdAAAAFwAAAAsAAAAOAAAAEQAAAA0AAAAMAAAADAAAAA==\",\"dtype\":\"int32\",\"shape\":[100]},\"x\":{\"__ndarray__\":\"HknPuOdNZEC4IKQymWhKwKp1IdybolVAtFIYzGXPZUBoELOeZuc/QJxgcNK+RmJA6kmxsfAeQMAd37TaH1hcQMKzQYApPjHAGQq6CrDiEECF/7519oNbwAkUkzwuilZALXEkY3qFVkC4IZDD+pMowL8yklHvyTrAqazC+aBKUcA/8XrA5y1RwFLEJ6n5x1DAnMVzRsnuW8DIdIjxXb9kQLtS2Hn9LjPADuACJtCtUsAuforOtlIUQPSsZrhvFzNABQsGbCMIKEB2A3g1XAQ+QKS/zdAdkFzAMcRyP7HjNMCP799sfvlUQGfqQxgJjzxAUMImliXcUsDQ7H9vgKVJQOUNOEMIbUhA6Gihlm1KXEDeBX9f11FrQAVHhwcqDWLAfJw28PIAMEDtvLMwQZA/QGZI/p3Snj7AHi6R22wCN0AUMSW3mTs2wFMYY7v4pzJA/Aq7C3nUM0ClzAAXPcRQwDUTXcM/XShAbCrvDRP5XUDS5nW5pcNCwOxMpUy6LEVAsltfuVMxQcASe/TDAgBPwPspj+E+W0bAqQptabEsREDwhGyRb19bwBKCgbCPg1JAvI3XmTGfOsAeY3C1+SlhwFx/4ZptJ1VAL1UZEP2GQUC5zb8d1/QOwKmv7sUSCVxAn9XKdI2xA8A980m3CdhfQLJ/TL6KOWfA1Q06f3tYZECHcoK+UPtdwEnPrEqPFzLAU7XdP1/AXsBGMuXE9tFTQHsUlIpgB0pAIptXHekLVECcbDyoL6gywOAuYxTfuFVAwguP+Sd5SkBwKfEs4iAfQMQP0VfcPzdAVBx0Sf0CP8D9qEk6evhZQAI3OQJ3EUZAWOkUjPhJK8AZ+JHF5Nr7P+iCpR7P2knAIUUfL0LhOEDFtWZ3tMJIQAOoXJKLqFhAbAPNNz1ia0BTSVJNRCxQwJueRGukmm9A3CtsdLR3EUDzYKiqqaRgQHbP92xyAFFAF4C8Q2DQX8DpbSX/wyhJQHeQwEPjFibAn/23j1cjTEDyGkGmBhE8QCVEjLYqAl1Ak5PzaejOZ0CTJZkv63lQQMr/UtGvHU5AsTGBOBdGVEA=\",\"dtype\":\"float64\",\"shape\":[100]},\"y\":{\"__ndarray__\":\"HkSPanuWTsCT32DK/9JawKu9H4DsxGzAeNnsYrkHU8Dzq1ax4e84wB2i60RzwGnAjFwzT+UzQ8BxvjTaTX9bwMpDXztL8lXADQlu5AgkTUBk7IFTO55cQOhuIHPtH0lARPJ2udsXUcBieh6k7GRXwCjEHMuMhEpAO/Tw9HHWQ8DjykvsUCFVwD/SlXJrQ/S/y1ebtwpxN0CLrxYnFY1SQBMrdUvTMFbAezwlz9onZUDEfK1Vi9lPwHZo/wHRQGpAriRfJjPcTkC+iAdMzJxBwB3ymDuWd0HAfSJ038ZUTUBl6GamDUdXQE0nlkjnIFZAqit/L1tSX0D3zkE0Lc89wLBAIx2LOh7AYI2e72n/YkBE0UvMyXRhwNsrXb0pOUnADiUNKXvnVUCzsWo8C0dpwKHiiacJs1RAoqkpHt8MU0DKPp4UaBM0wACF0TypgERATNtQHz7NJ0AzHdgD0eBCQND/SW+yPFxAX879GAGEMkD91JTMv+9PwKr82nyf7x5ACJiccVFwEUBxg0OvZ3NRQLL9bWzZnF5AFo/dGs6tTUCNY5q2MPAwQNOD5RCv11fA0nixi3UXCkB643iXFIQ/QO+Z3urmfFXA4lkLkk5nYMAAZYW2eDJkwC7GX0jtcURAECb+ywhhU8Ah68PAuZZoQAgpwiVz515Ad6QyuozmQEBeKOD3aJVVQGiX9xwvMk7AlfpNROGGS0A8Sbl+MS1PwMlDye7Im1zANemtyX2gEkD5IRuAY1kkwNHyRW6iwlJAKK63TE2KK0Bax0hxROtOQDkLmjlUEFFA9dKqGHtvbsCZpg+6VVZrQCwtd6zyByTAKO7MDJPPJ8A8rzR86wxcwA3QIcH47FjAkw/IdAOqPcDHMLCgZngxwCNNmsZ3WjVAyV433lq0Z8AFGY8fhIlWQPGcFeEM3TjApX4NBaWhNsA7UGfQFLs8wIvUL8Lr+j/AQJRAV9JaP0DEtZmkUipgQG7IpwI83k7AAYWRm94SOECJrT6pvT4dwGUyp7uBeUJAOfp/S8PGW0CrChd9zVdkwCO/k7mcA0VA1VWP7W0cWkA=\",\"dtype\":\"float64\",\"shape\":[100]}},\"selected\":{\"id\":\"1289\",\"type\":\"Selection\"},\"selection_policy\":{\"id\":\"1288\",\"type\":\"UnionRenderers\"}},\"id\":\"1259\",\"type\":\"ColumnDataSource\"},{\"attributes\":{},\"id\":\"1240\",\"type\":\"BasicTicker\"},{\"attributes\":{\"dimension\":1,\"plot\":{\"id\":\"1225\",\"subtype\":\"Figure\",\"type\":\"Plot\"},\"ticker\":{\"id\":\"1240\",\"type\":\"BasicTicker\"}},\"id\":\"1243\",\"type\":\"Grid\"},{\"attributes\":{},\"id\":\"1244\",\"type\":\"PanTool\"},{\"attributes\":{\"formatter\":{\"id\":\"1287\",\"type\":\"BasicTickFormatter\"},\"plot\":{\"id\":\"1225\",\"subtype\":\"Figure\",\"type\":\"Plot\"},\"ticker\":{\"id\":\"1240\",\"type\":\"BasicTicker\"}},\"id\":\"1239\",\"type\":\"LinearAxis\"},{\"attributes\":{},\"id\":\"1245\",\"type\":\"WheelZoomTool\"},{\"attributes\":{},\"id\":\"1288\",\"type\":\"UnionRenderers\"},{\"attributes\":{\"plot\":{\"id\":\"1225\",\"subtype\":\"Figure\",\"type\":\"Plot\"},\"ticker\":{\"id\":\"1235\",\"type\":\"BasicTicker\"}},\"id\":\"1238\",\"type\":\"Grid\"},{\"attributes\":{\"overlay\":{\"id\":\"1252\",\"type\":\"BoxAnnotation\"}},\"id\":\"1246\",\"type\":\"BoxZoomTool\"},{\"attributes\":{},\"id\":\"1285\",\"type\":\"BasicTickFormatter\"},{\"attributes\":{},\"id\":\"1235\",\"type\":\"BasicTicker\"},{\"attributes\":{},\"id\":\"1247\",\"type\":\"SaveTool\"},{\"attributes\":{\"formatter\":{\"id\":\"1285\",\"type\":\"BasicTickFormatter\"},\"plot\":{\"id\":\"1225\",\"subtype\":\"Figure\",\"type\":\"Plot\"},\"ticker\":{\"id\":\"1235\",\"type\":\"BasicTicker\"}},\"id\":\"1234\",\"type\":\"LinearAxis\"},{\"attributes\":{},\"id\":\"1248\",\"type\":\"ResetTool\"},{\"attributes\":{},\"id\":\"1287\",\"type\":\"BasicTickFormatter\"},{\"attributes\":{},\"id\":\"1249\",\"type\":\"HelpTool\"},{\"attributes\":{\"plot\":null,\"text\":\"\"},\"id\":\"1283\",\"type\":\"Title\"},{\"attributes\":{\"active_drag\":\"auto\",\"active_inspect\":\"auto\",\"active_multi\":null,\"active_scroll\":\"auto\",\"active_tap\":\"auto\",\"tools\":[{\"id\":\"1244\",\"type\":\"PanTool\"},{\"id\":\"1245\",\"type\":\"WheelZoomTool\"},{\"id\":\"1246\",\"type\":\"BoxZoomTool\"},{\"id\":\"1247\",\"type\":\"SaveTool\"},{\"id\":\"1248\",\"type\":\"ResetTool\"},{\"id\":\"1249\",\"type\":\"HelpTool\"}]},\"id\":\"1250\",\"type\":\"Toolbar\"},{\"attributes\":{\"data_source\":{\"id\":\"1259\",\"type\":\"ColumnDataSource\"},\"glyph\":{\"id\":\"1260\",\"type\":\"Circle\"},\"hover_glyph\":null,\"muted_glyph\":null,\"nonselection_glyph\":{\"id\":\"1261\",\"type\":\"Circle\"},\"selection_glyph\":null,\"view\":{\"id\":\"1263\",\"type\":\"CDSView\"}},\"id\":\"1262\",\"type\":\"GlyphRenderer\"},{\"attributes\":{\"fill_alpha\":{\"value\":0.5},\"fill_color\":{\"field\":\"fill_color\"},\"line_color\":{\"value\":\"white\"},\"size\":{\"field\":\"size\",\"units\":\"screen\"},\"x\":{\"field\":\"x\"},\"y\":{\"field\":\"y\"}},\"id\":\"1260\",\"type\":\"Circle\"},{\"attributes\":{\"bottom_units\":\"screen\",\"fill_alpha\":{\"value\":0.5},\"fill_color\":{\"value\":\"lightgrey\"},\"left_units\":\"screen\",\"level\":\"overlay\",\"line_alpha\":{\"value\":1.0},\"line_color\":{\"value\":\"black\"},\"line_dash\":[4,4],\"line_width\":{\"value\":2},\"plot\":null,\"render_mode\":\"css\",\"right_units\":\"screen\",\"top_units\":\"screen\"},\"id\":\"1252\",\"type\":\"BoxAnnotation\"},{\"attributes\":{},\"id\":\"1232\",\"type\":\"LinearScale\"},{\"attributes\":{},\"id\":\"1230\",\"type\":\"LinearScale\"},{\"attributes\":{\"fill_alpha\":{\"value\":0.1},\"fill_color\":{\"value\":\"#1f77b4\"},\"line_alpha\":{\"value\":0.1},\"line_color\":{\"value\":\"#1f77b4\"},\"size\":{\"field\":\"size\",\"units\":\"screen\"},\"x\":{\"field\":\"x\"},\"y\":{\"field\":\"y\"}},\"id\":\"1261\",\"type\":\"Circle\"},{\"attributes\":{\"callback\":null},\"id\":\"1228\",\"type\":\"DataRange1d\"},{\"attributes\":{\"source\":{\"id\":\"1259\",\"type\":\"ColumnDataSource\"}},\"id\":\"1263\",\"type\":\"CDSView\"},{\"attributes\":{},\"id\":\"1289\",\"type\":\"Selection\"},{\"attributes\":{\"callback\":null},\"id\":\"1226\",\"type\":\"DataRange1d\"}],\"root_ids\":[\"1225\"]},\"title\":\"Bokeh Application\",\"version\":\"1.0.4\"}};\n",
       "  var render_items = [{\"docid\":\"d4845b1f-73ff-4ba9-bdc9-7f21efb34b06\",\"roots\":{\"1225\":\"4e2e41fd-14dd-4574-b89e-d4dbe7ee887c\"}}];\n",
       "  root.Bokeh.embed.embed_items_notebook(docs_json, render_items);\n",
       "\n",
       "  }\n",
       "  if (root.Bokeh !== undefined) {\n",
       "    embed_document(root);\n",
       "  } else {\n",
       "    var attempts = 0;\n",
       "    var timer = setInterval(function(root) {\n",
       "      if (root.Bokeh !== undefined) {\n",
       "        embed_document(root);\n",
       "        clearInterval(timer);\n",
       "      }\n",
       "      attempts++;\n",
       "      if (attempts > 100) {\n",
       "        console.log(\"Bokeh: ERROR: Unable to run BokehJS code because BokehJS library is missing\");\n",
       "        clearInterval(timer);\n",
       "      }\n",
       "    }, 10, root)\n",
       "  }\n",
       "})(window);"
      ],
      "application/vnd.bokehjs_exec.v0+json": ""
     },
     "metadata": {
      "application/vnd.bokehjs_exec.v0+json": {
       "id": "1225"
      }
     },
     "output_type": "display_data"
    }
   ],
   "source": [
    "# 2、散点图不同 颜色上色/散点大小 的方法\n",
    "# ① 数据中有一列专门用于设置颜色 / 点大小\n",
    "\n",
    "from bokeh.palettes import brewer\n",
    "\n",
    "rng = np.random.RandomState(1)\n",
    "df = pd.DataFrame(rng.randn(100,2)*100,columns = ['A','B'])\n",
    "# 创建数据，有2列随机值\n",
    "\n",
    "\n",
    "df['size'] = rng.randint(10,30,100)   \n",
    "# 设置点大小字段\n",
    "\n",
    "colormap1 = {1: 'red', 2: 'green', 3: 'blue'}    \n",
    "df['color1'] = [colormap1[x] for x in rng.randint(1,4,100)]           # 调色盘1\n",
    "#df['color1'] = np.random.choice(['red','green','blue'],100)\n",
    "\n",
    "n = 8\n",
    "colormap2 = brewer['Blues'][n]\n",
    "df['color2'] = [colormap2[x] for x in rng.randint(0,n,100)]           # 调色盘2\n",
    "# 设置颜色字段\n",
    "# 通过字典/列表，识别颜色str\n",
    "# 这里设置了两个调色盘，第二个为蓝色渐变\n",
    "\n",
    "p = figure(plot_width=600, plot_height=400)\n",
    "p.circle(df['A'], df['B'],       # 设置散点图x，y值\n",
    "         line_color = 'white',   # 设置点边线为白色\n",
    "         fill_color = df['color2'],fill_alpha = 0.5,   # 设置内部填充颜色，这里用到了颜色字段\n",
    "         size = df['size']       # 设置点大小，这里用到了点大小字段\n",
    "        )\n",
    "\n",
    "show(p)"
   ]
  },
  {
   "cell_type": "code",
   "execution_count": 11,
   "metadata": {},
   "outputs": [
    {
     "name": "stdout",
     "output_type": "stream",
     "text": [
      "            A           B  type\n",
      "0  162.434536  -61.175641     6\n",
      "1  -52.817175 -107.296862     0\n",
      "2   86.540763 -230.153870     1\n",
      "3  174.481176  -76.120690     0\n",
      "4   31.903910  -24.937038     5\n"
     ]
    },
    {
     "data": {
      "text/html": [
       "\n",
       "\n",
       "\n",
       "\n",
       "\n",
       "\n",
       "  <div class=\"bk-root\" id=\"6a1163d1-a404-45ea-bd6b-851a8da4ab6f\" data-root-id=\"1973\"></div>\n"
      ]
     },
     "metadata": {},
     "output_type": "display_data"
    },
    {
     "data": {
      "application/javascript": [
       "(function(root) {\n",
       "  function embed_document(root) {\n",
       "    \n",
       "  var docs_json = {\"678c321c-3a7a-4675-8b28-bb122be9ddbf\":{\"roots\":{\"references\":[{\"attributes\":{\"below\":[{\"id\":\"1982\",\"type\":\"LinearAxis\"}],\"left\":[{\"id\":\"1987\",\"type\":\"LinearAxis\"}],\"plot_height\":400,\"renderers\":[{\"id\":\"1982\",\"type\":\"LinearAxis\"},{\"id\":\"1986\",\"type\":\"Grid\"},{\"id\":\"1987\",\"type\":\"LinearAxis\"},{\"id\":\"1991\",\"type\":\"Grid\"},{\"id\":\"1999\",\"type\":\"BoxAnnotation\"},{\"id\":\"2002\",\"type\":\"PolyAnnotation\"},{\"id\":\"2020\",\"type\":\"Legend\"},{\"id\":\"2010\",\"type\":\"GlyphRenderer\"},{\"id\":\"2025\",\"type\":\"GlyphRenderer\"},{\"id\":\"2041\",\"type\":\"GlyphRenderer\"},{\"id\":\"2059\",\"type\":\"GlyphRenderer\"},{\"id\":\"2079\",\"type\":\"GlyphRenderer\"},{\"id\":\"2101\",\"type\":\"GlyphRenderer\"},{\"id\":\"2125\",\"type\":\"GlyphRenderer\"}],\"title\":{\"id\":\"2013\",\"type\":\"Title\"},\"toolbar\":{\"id\":\"1997\",\"type\":\"Toolbar\"},\"x_range\":{\"id\":\"1974\",\"type\":\"DataRange1d\"},\"x_scale\":{\"id\":\"1978\",\"type\":\"LinearScale\"},\"y_range\":{\"id\":\"1976\",\"type\":\"DataRange1d\"},\"y_scale\":{\"id\":\"1980\",\"type\":\"LinearScale\"}},\"id\":\"1973\",\"subtype\":\"Figure\",\"type\":\"Plot\"},{\"attributes\":{\"label\":{\"value\":\"type4\"},\"renderers\":[{\"id\":\"2101\",\"type\":\"GlyphRenderer\"}]},\"id\":\"2121\",\"type\":\"LegendItem\"},{\"attributes\":{\"fill_alpha\":{\"value\":0.1},\"fill_color\":{\"value\":\"#1f77b4\"},\"line_alpha\":{\"value\":0.1},\"line_color\":{\"value\":\"#1f77b4\"},\"size\":{\"units\":\"screen\",\"value\":20},\"x\":{\"field\":\"x\"},\"y\":{\"field\":\"y\"}},\"id\":\"2040\",\"type\":\"Circle\"},{\"attributes\":{\"formatter\":{\"id\":\"2017\",\"type\":\"BasicTickFormatter\"},\"plot\":{\"id\":\"1973\",\"subtype\":\"Figure\",\"type\":\"Plot\"},\"ticker\":{\"id\":\"1988\",\"type\":\"BasicTicker\"}},\"id\":\"1987\",\"type\":\"LinearAxis\"},{\"attributes\":{\"data_source\":{\"id\":\"2038\",\"type\":\"ColumnDataSource\"},\"glyph\":{\"id\":\"2039\",\"type\":\"Circle\"},\"hover_glyph\":null,\"muted_glyph\":null,\"nonselection_glyph\":{\"id\":\"2040\",\"type\":\"Circle\"},\"selection_glyph\":null,\"view\":{\"id\":\"2042\",\"type\":\"CDSView\"}},\"id\":\"2041\",\"type\":\"GlyphRenderer\"},{\"attributes\":{},\"id\":\"1983\",\"type\":\"BasicTicker\"},{\"attributes\":{\"callback\":null},\"id\":\"1974\",\"type\":\"DataRange1d\"},{\"attributes\":{},\"id\":\"1988\",\"type\":\"BasicTicker\"},{\"attributes\":{\"source\":{\"id\":\"2038\",\"type\":\"ColumnDataSource\"}},\"id\":\"2042\",\"type\":\"CDSView\"},{\"attributes\":{\"dimension\":1,\"plot\":{\"id\":\"1973\",\"subtype\":\"Figure\",\"type\":\"Plot\"},\"ticker\":{\"id\":\"1988\",\"type\":\"BasicTicker\"}},\"id\":\"1991\",\"type\":\"Grid\"},{\"attributes\":{},\"id\":\"1978\",\"type\":\"LinearScale\"},{\"attributes\":{\"formatter\":{\"id\":\"2015\",\"type\":\"BasicTickFormatter\"},\"plot\":{\"id\":\"1973\",\"subtype\":\"Figure\",\"type\":\"Plot\"},\"ticker\":{\"id\":\"1983\",\"type\":\"BasicTicker\"}},\"id\":\"1982\",\"type\":\"LinearAxis\"},{\"attributes\":{\"plot\":{\"id\":\"1973\",\"subtype\":\"Figure\",\"type\":\"Plot\"},\"ticker\":{\"id\":\"1983\",\"type\":\"BasicTicker\"}},\"id\":\"1986\",\"type\":\"Grid\"},{\"attributes\":{\"callback\":null,\"data\":{\"x\":{\"__ndarray__\":\"GQq6CrDiEED0rGa4bxczQGfqQxgJjzxAUMImliXcUsDQ7H9vgKVJQN4Ff1/XUWtANRNdwz9dKEAvVRkQ/YZBQKmv7sUSCVxAWOkUjPhJK8CTk/Np6M5nQA==\",\"dtype\":\"float64\",\"shape\":[11]},\"y\":{\"__ndarray__\":\"DQlu5AgkTUB2aP8B0UBqQE0nlkjnIFZAqit/L1tSX0D3zkE0Lc89wETRS8zJdGHA0P9Jb7I8XEDiWQuSTmdgwC7GX0jtcURAKO7MDJPPJ8A5+n9Lw8ZbQA==\",\"dtype\":\"float64\",\"shape\":[11]}},\"selected\":{\"id\":\"2238\",\"type\":\"Selection\"},\"selection_policy\":{\"id\":\"2237\",\"type\":\"UnionRenderers\"}},\"id\":\"2122\",\"type\":\"ColumnDataSource\"},{\"attributes\":{},\"id\":\"2052\",\"type\":\"Selection\"},{\"attributes\":{\"active_drag\":\"auto\",\"active_inspect\":\"auto\",\"active_multi\":null,\"active_scroll\":\"auto\",\"active_tap\":\"auto\",\"tools\":[{\"id\":\"1992\",\"type\":\"PanTool\"},{\"id\":\"1993\",\"type\":\"WheelZoomTool\"},{\"id\":\"1994\",\"type\":\"BoxSelectTool\"},{\"id\":\"1995\",\"type\":\"LassoSelectTool\"},{\"id\":\"1996\",\"type\":\"ResetTool\"}]},\"id\":\"1997\",\"type\":\"Toolbar\"},{\"attributes\":{\"label\":{\"value\":\"type1\"},\"renderers\":[{\"id\":\"2041\",\"type\":\"GlyphRenderer\"}]},\"id\":\"2055\",\"type\":\"LegendItem\"},{\"attributes\":{\"fill_alpha\":{\"value\":0.5},\"fill_color\":{\"value\":\"goldenrod\"},\"line_alpha\":{\"value\":0.5},\"line_color\":{\"value\":\"goldenrod\"},\"size\":{\"units\":\"screen\",\"value\":20},\"x\":{\"field\":\"x\"},\"y\":{\"field\":\"y\"}},\"id\":\"2123\",\"type\":\"Circle\"},{\"attributes\":{},\"id\":\"1992\",\"type\":\"PanTool\"},{\"attributes\":{\"fill_alpha\":{\"value\":0.1},\"fill_color\":{\"value\":\"#1f77b4\"},\"line_alpha\":{\"value\":0.1},\"line_color\":{\"value\":\"#1f77b4\"},\"size\":{\"units\":\"screen\",\"value\":20},\"x\":{\"field\":\"x\"},\"y\":{\"field\":\"y\"}},\"id\":\"2124\",\"type\":\"Circle\"},{\"attributes\":{},\"id\":\"1993\",\"type\":\"WheelZoomTool\"},{\"attributes\":{\"data_source\":{\"id\":\"2122\",\"type\":\"ColumnDataSource\"},\"glyph\":{\"id\":\"2123\",\"type\":\"Circle\"},\"hover_glyph\":null,\"muted_glyph\":null,\"nonselection_glyph\":{\"id\":\"2124\",\"type\":\"Circle\"},\"selection_glyph\":null,\"view\":{\"id\":\"2126\",\"type\":\"CDSView\"}},\"id\":\"2125\",\"type\":\"GlyphRenderer\"},{\"attributes\":{\"callback\":null,\"overlay\":{\"id\":\"1999\",\"type\":\"BoxAnnotation\"}},\"id\":\"1994\",\"type\":\"BoxSelectTool\"},{\"attributes\":{\"source\":{\"id\":\"2122\",\"type\":\"ColumnDataSource\"}},\"id\":\"2126\",\"type\":\"CDSView\"},{\"attributes\":{\"callback\":null,\"data\":{\"x\":{\"__ndarray__\":\"aBCznmbnP0C/MpJR78k6wJzFc0bJ7lvAu1LYef0uM8DS5nW5pcNCwLyN15kxnzrAXH/hmm0nVUC5zb8d1/QOwBn4kcXk2vs/IUUfL0LhOEAXgLxDYNBfwCVEjLYqAl1AsTGBOBdGVEA=\",\"dtype\":\"float64\",\"shape\":[13]},\"y\":{\"__ndarray__\":\"86tWseHvOMAoxBzLjIRKQMtXm7cKcTdAEyt1S9MwVsD91JTMv+9PwNJ4sYt1FwpA75ne6uZ8VcAAZYW2eDJkwDyvNHzrDFzAkw/IdAOqPcBAlEBX0lo/QGUyp7uBeUJA1VWP7W0cWkA=\",\"dtype\":\"float64\",\"shape\":[13]}},\"selected\":{\"id\":\"2094\",\"type\":\"Selection\"},\"selection_policy\":{\"id\":\"2093\",\"type\":\"UnionRenderers\"}},\"id\":\"2056\",\"type\":\"ColumnDataSource\"},{\"attributes\":{\"callback\":null,\"overlay\":{\"id\":\"2002\",\"type\":\"PolyAnnotation\"}},\"id\":\"1995\",\"type\":\"LassoSelectTool\"},{\"attributes\":{},\"id\":\"2143\",\"type\":\"UnionRenderers\"},{\"attributes\":{},\"id\":\"1996\",\"type\":\"ResetTool\"},{\"attributes\":{},\"id\":\"2071\",\"type\":\"UnionRenderers\"},{\"attributes\":{\"fill_alpha\":{\"value\":0.5},\"fill_color\":{\"value\":\"orange\"},\"line_alpha\":{\"value\":0.5},\"line_color\":{\"value\":\"orange\"},\"size\":{\"units\":\"screen\",\"value\":20},\"x\":{\"field\":\"x\"},\"y\":{\"field\":\"y\"}},\"id\":\"2057\",\"type\":\"Circle\"},{\"attributes\":{},\"id\":\"2051\",\"type\":\"UnionRenderers\"},{\"attributes\":{},\"id\":\"2144\",\"type\":\"Selection\"},{\"attributes\":{\"callback\":null},\"id\":\"1976\",\"type\":\"DataRange1d\"},{\"attributes\":{\"fill_alpha\":{\"value\":0.5},\"fill_color\":{\"value\":\"salmon\"},\"line_alpha\":{\"value\":0.5},\"line_color\":{\"value\":\"salmon\"},\"size\":{\"units\":\"screen\",\"value\":20},\"x\":{\"field\":\"x\"},\"y\":{\"field\":\"y\"}},\"id\":\"2008\",\"type\":\"Circle\"},{\"attributes\":{\"label\":{\"value\":\"type3\"},\"renderers\":[{\"id\":\"2125\",\"type\":\"GlyphRenderer\"}]},\"id\":\"2147\",\"type\":\"LegendItem\"},{\"attributes\":{\"fill_alpha\":{\"value\":0.1},\"fill_color\":{\"value\":\"#1f77b4\"},\"line_alpha\":{\"value\":0.1},\"line_color\":{\"value\":\"#1f77b4\"},\"size\":{\"units\":\"screen\",\"value\":20},\"x\":{\"field\":\"x\"},\"y\":{\"field\":\"y\"}},\"id\":\"2058\",\"type\":\"Circle\"},{\"attributes\":{\"bottom_units\":\"screen\",\"fill_alpha\":{\"value\":0.5},\"fill_color\":{\"value\":\"lightgrey\"},\"left_units\":\"screen\",\"level\":\"overlay\",\"line_alpha\":{\"value\":1.0},\"line_color\":{\"value\":\"black\"},\"line_dash\":[4,4],\"line_width\":{\"value\":2},\"plot\":null,\"render_mode\":\"css\",\"right_units\":\"screen\",\"top_units\":\"screen\"},\"id\":\"1999\",\"type\":\"BoxAnnotation\"},{\"attributes\":{\"data_source\":{\"id\":\"2056\",\"type\":\"ColumnDataSource\"},\"glyph\":{\"id\":\"2057\",\"type\":\"Circle\"},\"hover_glyph\":null,\"muted_glyph\":null,\"nonselection_glyph\":{\"id\":\"2058\",\"type\":\"Circle\"},\"selection_glyph\":null,\"view\":{\"id\":\"2060\",\"type\":\"CDSView\"}},\"id\":\"2059\",\"type\":\"GlyphRenderer\"},{\"attributes\":{},\"id\":\"2237\",\"type\":\"UnionRenderers\"},{\"attributes\":{\"fill_alpha\":{\"value\":0.5},\"fill_color\":{\"value\":\"lightgrey\"},\"level\":\"overlay\",\"line_alpha\":{\"value\":1.0},\"line_color\":{\"value\":\"black\"},\"line_dash\":[4,4],\"line_width\":{\"value\":2},\"plot\":null,\"xs_units\":\"screen\",\"ys_units\":\"screen\"},\"id\":\"2002\",\"type\":\"PolyAnnotation\"},{\"attributes\":{\"source\":{\"id\":\"2056\",\"type\":\"ColumnDataSource\"}},\"id\":\"2060\",\"type\":\"CDSView\"},{\"attributes\":{},\"id\":\"2238\",\"type\":\"Selection\"},{\"attributes\":{\"fill_alpha\":{\"value\":0.1},\"fill_color\":{\"value\":\"#1f77b4\"},\"line_alpha\":{\"value\":0.1},\"line_color\":{\"value\":\"#1f77b4\"},\"size\":{\"units\":\"screen\",\"value\":20},\"x\":{\"field\":\"x\"},\"y\":{\"field\":\"y\"}},\"id\":\"2009\",\"type\":\"Circle\"},{\"attributes\":{},\"id\":\"2072\",\"type\":\"Selection\"},{\"attributes\":{\"data_source\":{\"id\":\"2007\",\"type\":\"ColumnDataSource\"},\"glyph\":{\"id\":\"2008\",\"type\":\"Circle\"},\"hover_glyph\":null,\"muted_glyph\":null,\"nonselection_glyph\":{\"id\":\"2009\",\"type\":\"Circle\"},\"selection_glyph\":null,\"view\":{\"id\":\"2011\",\"type\":\"CDSView\"}},\"id\":\"2010\",\"type\":\"GlyphRenderer\"},{\"attributes\":{\"label\":{\"value\":\"type5\"},\"renderers\":[{\"id\":\"2059\",\"type\":\"GlyphRenderer\"}]},\"id\":\"2075\",\"type\":\"LegendItem\"},{\"attributes\":{\"source\":{\"id\":\"2007\",\"type\":\"ColumnDataSource\"}},\"id\":\"2011\",\"type\":\"CDSView\"},{\"attributes\":{\"plot\":null,\"text\":\"\"},\"id\":\"2013\",\"type\":\"Title\"},{\"attributes\":{},\"id\":\"2015\",\"type\":\"BasicTickFormatter\"},{\"attributes\":{},\"id\":\"2017\",\"type\":\"BasicTickFormatter\"},{\"attributes\":{\"callback\":null,\"data\":{\"x\":{\"__ndarray__\":\"nGBw0r5GYkDqSbGx8B5AwIX/vnX2g1vACRSTPC6KVkAtcSRjeoVWQKmswvmgSlHALn6KzrZSFEDtvLMwQZA/QKXMABc9xFDAEnv0wwIAT8DwhGyRb19bwJ/VynSNsQPAexSUimAHSkBwKfEs4iAfQFQcdEn9Aj/AA6hckouoWEB2z/dscgBRQHeQwEPjFibA\",\"dtype\":\"float64\",\"shape\":[18]},\"y\":{\"__ndarray__\":\"HaLrRHPAacCMXDNP5TNDwGTsgVM7nlxA6G4gc+0fSUBE8na52xdRwDv08PRx1kPAxHytVYvZT8CzsWo8C0dpwDMd2APR4EJAcYNDr2dzUUCNY5q2MPAwQBAm/ssIYVPAyUPJ7sibXMBax0hxROtOQPXSqhh7b27AI02axndaNUCL1C/C6/o/wG7IpwI83k7A\",\"dtype\":\"float64\",\"shape\":[18]}},\"selected\":{\"id\":\"2118\",\"type\":\"Selection\"},\"selection_policy\":{\"id\":\"2117\",\"type\":\"UnionRenderers\"}},\"id\":\"2076\",\"type\":\"ColumnDataSource\"},{\"attributes\":{\"items\":[{\"id\":\"2021\",\"type\":\"LegendItem\"},{\"id\":\"2037\",\"type\":\"LegendItem\"},{\"id\":\"2055\",\"type\":\"LegendItem\"},{\"id\":\"2075\",\"type\":\"LegendItem\"},{\"id\":\"2097\",\"type\":\"LegendItem\"},{\"id\":\"2121\",\"type\":\"LegendItem\"},{\"id\":\"2147\",\"type\":\"LegendItem\"}],\"plot\":{\"id\":\"1973\",\"subtype\":\"Figure\",\"type\":\"Plot\"}},\"id\":\"2020\",\"type\":\"Legend\"},{\"attributes\":{\"fill_alpha\":{\"value\":0.5},\"fill_color\":{\"value\":\"darkred\"},\"line_alpha\":{\"value\":0.5},\"line_color\":{\"value\":\"darkred\"},\"size\":{\"units\":\"screen\",\"value\":20},\"x\":{\"field\":\"x\"},\"y\":{\"field\":\"y\"}},\"id\":\"2077\",\"type\":\"Circle\"},{\"attributes\":{\"label\":{\"value\":\"type6\"},\"renderers\":[{\"id\":\"2010\",\"type\":\"GlyphRenderer\"}]},\"id\":\"2021\",\"type\":\"LegendItem\"},{\"attributes\":{\"fill_alpha\":{\"value\":0.1},\"fill_color\":{\"value\":\"#1f77b4\"},\"line_alpha\":{\"value\":0.1},\"line_color\":{\"value\":\"#1f77b4\"},\"size\":{\"units\":\"screen\",\"value\":20},\"x\":{\"field\":\"x\"},\"y\":{\"field\":\"y\"}},\"id\":\"2078\",\"type\":\"Circle\"},{\"attributes\":{\"data_source\":{\"id\":\"2076\",\"type\":\"ColumnDataSource\"},\"glyph\":{\"id\":\"2077\",\"type\":\"Circle\"},\"hover_glyph\":null,\"muted_glyph\":null,\"nonselection_glyph\":{\"id\":\"2078\",\"type\":\"Circle\"},\"selection_glyph\":null,\"view\":{\"id\":\"2080\",\"type\":\"CDSView\"}},\"id\":\"2079\",\"type\":\"GlyphRenderer\"},{\"attributes\":{\"source\":{\"id\":\"2076\",\"type\":\"ColumnDataSource\"}},\"id\":\"2080\",\"type\":\"CDSView\"},{\"attributes\":{},\"id\":\"2093\",\"type\":\"UnionRenderers\"},{\"attributes\":{\"callback\":null,\"data\":{\"x\":{\"__ndarray__\":\"uCCkMploSsC0UhjMZc9lQLghkMP6kyjAP/F6wOctUcAO4AIm0K1SwKS/zdAdkFzA5Q04QwhtSEBmSP6d0p4+wB5jcLX5KWHAsn9Mvoo5Z8CHcoK+UPtdwEnPrEqPFzLAU7XdP1/AXsCcbDyoL6gywNwrbHS0dxFAn/23j1cjTEDyGkGmBhE8QA==\",\"dtype\":\"float64\",\"shape\":[17]},\"y\":{\"__ndarray__\":\"k99gyv/SWsB42exiuQdTwGJ6HqTsZFfA48pL7FAhVcB7PCXP2idlQB3ymDuWd0HAsEAjHYs6HsCh4omnCbNUQHrjeJcUhD9ACCnCJXPnXkBeKOD3aJVVQGiX9xwvMk7AlfpNROGGS0D5IRuAY1kkwKV+DQWloTbAAYWRm94SOECJrT6pvT4dwA==\",\"dtype\":\"float64\",\"shape\":[17]}},\"selected\":{\"id\":\"2052\",\"type\":\"Selection\"},\"selection_policy\":{\"id\":\"2051\",\"type\":\"UnionRenderers\"}},\"id\":\"2022\",\"type\":\"ColumnDataSource\"},{\"attributes\":{},\"id\":\"1980\",\"type\":\"LinearScale\"},{\"attributes\":{},\"id\":\"2094\",\"type\":\"Selection\"},{\"attributes\":{\"fill_alpha\":{\"value\":0.5},\"fill_color\":{\"value\":\"red\"},\"line_alpha\":{\"value\":0.5},\"line_color\":{\"value\":\"red\"},\"size\":{\"units\":\"screen\",\"value\":20},\"x\":{\"field\":\"x\"},\"y\":{\"field\":\"y\"}},\"id\":\"2023\",\"type\":\"Circle\"},{\"attributes\":{\"label\":{\"value\":\"type2\"},\"renderers\":[{\"id\":\"2079\",\"type\":\"GlyphRenderer\"}]},\"id\":\"2097\",\"type\":\"LegendItem\"},{\"attributes\":{\"fill_alpha\":{\"value\":0.1},\"fill_color\":{\"value\":\"#1f77b4\"},\"line_alpha\":{\"value\":0.1},\"line_color\":{\"value\":\"#1f77b4\"},\"size\":{\"units\":\"screen\",\"value\":20},\"x\":{\"field\":\"x\"},\"y\":{\"field\":\"y\"}},\"id\":\"2024\",\"type\":\"Circle\"},{\"attributes\":{\"data_source\":{\"id\":\"2022\",\"type\":\"ColumnDataSource\"},\"glyph\":{\"id\":\"2023\",\"type\":\"Circle\"},\"hover_glyph\":null,\"muted_glyph\":null,\"nonselection_glyph\":{\"id\":\"2024\",\"type\":\"Circle\"},\"selection_glyph\":null,\"view\":{\"id\":\"2026\",\"type\":\"CDSView\"}},\"id\":\"2025\",\"type\":\"GlyphRenderer\"},{\"attributes\":{\"source\":{\"id\":\"2022\",\"type\":\"ColumnDataSource\"}},\"id\":\"2026\",\"type\":\"CDSView\"},{\"attributes\":{\"callback\":null,\"data\":{\"x\":{\"__ndarray__\":\"Hd+02h9YXEBSxCep+cdQwI/v32x++VRA/Aq7C3nUM0BsKu8NE/ldQOxMpUy6LEVAIptXHekLVEDgLmMU37hVQP2oSTp6+FlAU0lSTUQsUMCTJZkv63lQQA==\",\"dtype\":\"float64\",\"shape\":[11]},\"y\":{\"__ndarray__\":\"cb402k1/W8A/0pVya0P0v2XoZqYNR1dATNtQHz7NJ0Bfzv0YAYQyQKr82nyf7x5ANemtyX2gEkDR8kVuosJSQJmmD7pVVmtABRmPH4SJVkCrChd9zVdkwA==\",\"dtype\":\"float64\",\"shape\":[11]}},\"selected\":{\"id\":\"2144\",\"type\":\"Selection\"},\"selection_policy\":{\"id\":\"2143\",\"type\":\"UnionRenderers\"}},\"id\":\"2098\",\"type\":\"ColumnDataSource\"},{\"attributes\":{},\"id\":\"2033\",\"type\":\"UnionRenderers\"},{\"attributes\":{},\"id\":\"2117\",\"type\":\"UnionRenderers\"},{\"attributes\":{\"fill_alpha\":{\"value\":0.5},\"fill_color\":{\"value\":\"skyblue\"},\"line_alpha\":{\"value\":0.5},\"line_color\":{\"value\":\"skyblue\"},\"size\":{\"units\":\"screen\",\"value\":20},\"x\":{\"field\":\"x\"},\"y\":{\"field\":\"y\"}},\"id\":\"2099\",\"type\":\"Circle\"},{\"attributes\":{},\"id\":\"2034\",\"type\":\"Selection\"},{\"attributes\":{\"label\":{\"value\":\"type0\"},\"renderers\":[{\"id\":\"2025\",\"type\":\"GlyphRenderer\"}]},\"id\":\"2037\",\"type\":\"LegendItem\"},{\"attributes\":{\"fill_alpha\":{\"value\":0.1},\"fill_color\":{\"value\":\"#1f77b4\"},\"line_alpha\":{\"value\":0.1},\"line_color\":{\"value\":\"#1f77b4\"},\"size\":{\"units\":\"screen\",\"value\":20},\"x\":{\"field\":\"x\"},\"y\":{\"field\":\"y\"}},\"id\":\"2100\",\"type\":\"Circle\"},{\"attributes\":{\"data_source\":{\"id\":\"2098\",\"type\":\"ColumnDataSource\"},\"glyph\":{\"id\":\"2099\",\"type\":\"Circle\"},\"hover_glyph\":null,\"muted_glyph\":null,\"nonselection_glyph\":{\"id\":\"2100\",\"type\":\"Circle\"},\"selection_glyph\":null,\"view\":{\"id\":\"2102\",\"type\":\"CDSView\"}},\"id\":\"2101\",\"type\":\"GlyphRenderer\"},{\"attributes\":{\"source\":{\"id\":\"2098\",\"type\":\"ColumnDataSource\"}},\"id\":\"2102\",\"type\":\"CDSView\"},{\"attributes\":{\"callback\":null,\"data\":{\"x\":{\"__ndarray__\":\"qnUh3JuiVUDIdIjxXb9kQAVHhwcqDWLAFDElt5k7NsCpCm1psSxEQMILj/kneUpAxA/RV9w/N0ACNzkCdxFGQOiCpR7P2knAxbVmd7TCSECbnkRrpJpvQOltJf/DKElAyv9S0a8dTkA=\",\"dtype\":\"float64\",\"shape\":[13]},\"y\":{\"__ndarray__\":\"q70fgOzEbMCLrxYnFY1SQNsrXb0pOUnAyj6eFGgTNMAWj90azq1NQCiut0xNiitAOQuaOVQQUUAsLXes8gckwA3QIcH47FjAxzCwoGZ4McDxnBXhDN04wMS1maRSKmBAI7+TuZwDRUA=\",\"dtype\":\"float64\",\"shape\":[13]}},\"selected\":{\"id\":\"2072\",\"type\":\"Selection\"},\"selection_policy\":{\"id\":\"2071\",\"type\":\"UnionRenderers\"}},\"id\":\"2038\",\"type\":\"ColumnDataSource\"},{\"attributes\":{},\"id\":\"2118\",\"type\":\"Selection\"},{\"attributes\":{\"fill_alpha\":{\"value\":0.5},\"fill_color\":{\"value\":\"olive\"},\"line_alpha\":{\"value\":0.5},\"line_color\":{\"value\":\"olive\"},\"size\":{\"units\":\"screen\",\"value\":20},\"x\":{\"field\":\"x\"},\"y\":{\"field\":\"y\"}},\"id\":\"2039\",\"type\":\"Circle\"},{\"attributes\":{\"callback\":null,\"data\":{\"x\":{\"__ndarray__\":\"HknPuOdNZEDCs0GAKT4xwAULBmwjCChAdgN4NVwEPkAxxHI/seM0wOhooZZtSlxAfJw28PIAMEAeLpHbbAI3QFMYY7v4pzJAsltfuVMxQcD7KY/hPltGwBKCgbCPg1JAPfNJtwnYX0DVDTp/e1hkQEYy5cT20VNAbAPNNz1ia0DzYKiqqaRgQA==\",\"dtype\":\"float64\",\"shape\":[17]},\"y\":{\"__ndarray__\":\"HkSPanuWTsDKQ187S/JVwK4kXyYz3E5AvogHTMycQcB9InTfxlRNQGCNnu9p/2JADiUNKXvnVUCiqSke3wxTQACF0TypgERACJiccVFwEUCy/W1s2ZxeQNOD5RCv11fAIevDwLmWaEB3pDK6jOZAQDxJuX4xLU/AyV433lq0Z8A7UGfQFLs8wA==\",\"dtype\":\"float64\",\"shape\":[17]}},\"selected\":{\"id\":\"2034\",\"type\":\"Selection\"},\"selection_policy\":{\"id\":\"2033\",\"type\":\"UnionRenderers\"}},\"id\":\"2007\",\"type\":\"ColumnDataSource\"}],\"root_ids\":[\"1973\"]},\"title\":\"Bokeh Application\",\"version\":\"1.0.4\"}};\n",
       "  var render_items = [{\"docid\":\"678c321c-3a7a-4675-8b28-bb122be9ddbf\",\"roots\":{\"1973\":\"6a1163d1-a404-45ea-bd6b-851a8da4ab6f\"}}];\n",
       "  root.Bokeh.embed.embed_items_notebook(docs_json, render_items);\n",
       "\n",
       "  }\n",
       "  if (root.Bokeh !== undefined) {\n",
       "    embed_document(root);\n",
       "  } else {\n",
       "    var attempts = 0;\n",
       "    var timer = setInterval(function(root) {\n",
       "      if (root.Bokeh !== undefined) {\n",
       "        embed_document(root);\n",
       "        clearInterval(timer);\n",
       "      }\n",
       "      attempts++;\n",
       "      if (attempts > 100) {\n",
       "        console.log(\"Bokeh: ERROR: Unable to run BokehJS code because BokehJS library is missing\");\n",
       "        clearInterval(timer);\n",
       "      }\n",
       "    }, 10, root)\n",
       "  }\n",
       "})(window);"
      ],
      "application/vnd.bokehjs_exec.v0+json": ""
     },
     "metadata": {
      "application/vnd.bokehjs_exec.v0+json": {
       "id": "1973"
      }
     },
     "output_type": "display_data"
    }
   ],
   "source": [
    "# 2、散点图不同 颜色上色/散点大小 的方法\n",
    "# ② 遍历数据分开做图\n",
    "\n",
    "rng = np.random.RandomState(1)\n",
    "df = pd.DataFrame(rng.randn(100,2)*100,columns = ['A','B'])\n",
    "df['type'] = rng.randint(0,7,100)\n",
    "print(df.head())\n",
    "# 创建数据\n",
    "\n",
    "colors = [\"red\", \"olive\", \"darkred\", \"goldenrod\", \"skyblue\", \"orange\", \"salmon\"]\n",
    "# 创建颜色列表\n",
    "\n",
    "p = figure(plot_width=600, plot_height=400,tools = \"pan,wheel_zoom,box_select,lasso_select,reset\")\n",
    "for t in df['type'].unique():\n",
    "    p.circle(df['A'][df['type'] == t], df['B'][df['type'] == t],       # 设置散点图x，y值\n",
    "             size = 20,alpha = 0.5,\n",
    "             color = colors[t],\n",
    "            legend = 'type%i' %t)        \n",
    "# 通过分类设置颜色\n",
    "\n",
    "show(p)"
   ]
  },
  {
   "cell_type": "code",
   "execution_count": 13,
   "metadata": {},
   "outputs": [
    {
     "name": "stdout",
     "output_type": "stream",
     "text": [
      "            A           B  type\n",
      "0  162.434536  -61.175641     6\n",
      "1  -52.817175 -107.296862     0\n",
      "2   86.540763 -230.153870     1\n",
      "3  174.481176  -76.120690     0\n",
      "4   31.903910  -24.937038     5\n"
     ]
    },
    {
     "data": {
      "text/html": [
       "\n",
       "\n",
       "\n",
       "\n",
       "\n",
       "\n",
       "  <div class=\"bk-root\" id=\"dcc5b6a3-fee2-408c-aee5-c536908562a7\" data-root-id=\"3012\"></div>\n"
      ]
     },
     "metadata": {},
     "output_type": "display_data"
    },
    {
     "data": {
      "application/javascript": [
       "(function(root) {\n",
       "  function embed_document(root) {\n",
       "    \n",
       "  var docs_json = {\"d4cf0433-3ffe-45dc-a440-61616009b3dd\":{\"roots\":{\"references\":[{\"attributes\":{\"below\":[{\"id\":\"3021\",\"type\":\"LinearAxis\"}],\"left\":[{\"id\":\"3026\",\"type\":\"LinearAxis\"}],\"plot_height\":400,\"renderers\":[{\"id\":\"3021\",\"type\":\"LinearAxis\"},{\"id\":\"3025\",\"type\":\"Grid\"},{\"id\":\"3026\",\"type\":\"LinearAxis\"},{\"id\":\"3030\",\"type\":\"Grid\"},{\"id\":\"3039\",\"type\":\"BoxAnnotation\"},{\"id\":\"3126\",\"type\":\"Legend\"},{\"id\":\"3117\",\"type\":\"GlyphRenderer\"}],\"title\":{\"id\":\"3120\",\"type\":\"Title\"},\"toolbar\":{\"id\":\"3037\",\"type\":\"Toolbar\"},\"x_range\":{\"id\":\"3013\",\"type\":\"DataRange1d\"},\"x_scale\":{\"id\":\"3017\",\"type\":\"LinearScale\"},\"y_range\":{\"id\":\"3015\",\"type\":\"DataRange1d\"},\"y_scale\":{\"id\":\"3019\",\"type\":\"LinearScale\"}},\"id\":\"3012\",\"subtype\":\"Figure\",\"type\":\"Plot\"},{\"attributes\":{\"dimension\":1,\"plot\":{\"id\":\"3012\",\"subtype\":\"Figure\",\"type\":\"Plot\"},\"ticker\":{\"id\":\"3027\",\"type\":\"BasicTicker\"}},\"id\":\"3030\",\"type\":\"Grid\"},{\"attributes\":{\"source\":{\"id\":\"3114\",\"type\":\"ColumnDataSource\"}},\"id\":\"3118\",\"type\":\"CDSView\"},{\"attributes\":{},\"id\":\"3035\",\"type\":\"ResetTool\"},{\"attributes\":{\"plot\":null,\"text\":\"\"},\"id\":\"3120\",\"type\":\"Title\"},{\"attributes\":{},\"id\":\"3122\",\"type\":\"BasicTickFormatter\"},{\"attributes\":{\"plot\":{\"id\":\"3012\",\"subtype\":\"Figure\",\"type\":\"Plot\"},\"ticker\":{\"id\":\"3022\",\"type\":\"BasicTicker\"}},\"id\":\"3025\",\"type\":\"Grid\"},{\"attributes\":{},\"id\":\"3124\",\"type\":\"BasicTickFormatter\"},{\"attributes\":{\"bottom_units\":\"screen\",\"fill_alpha\":{\"value\":0.5},\"fill_color\":{\"value\":\"lightgrey\"},\"left_units\":\"screen\",\"level\":\"overlay\",\"line_alpha\":{\"value\":1.0},\"line_color\":{\"value\":\"black\"},\"line_dash\":[4,4],\"line_width\":{\"value\":2},\"plot\":null,\"render_mode\":\"css\",\"right_units\":\"screen\",\"top_units\":\"screen\"},\"id\":\"3039\",\"type\":\"BoxAnnotation\"},{\"attributes\":{\"formatter\":{\"id\":\"3124\",\"type\":\"BasicTickFormatter\"},\"plot\":{\"id\":\"3012\",\"subtype\":\"Figure\",\"type\":\"Plot\"},\"ticker\":{\"id\":\"3027\",\"type\":\"BasicTicker\"}},\"id\":\"3026\",\"type\":\"LinearAxis\"},{\"attributes\":{\"items\":[{\"id\":\"3127\",\"type\":\"LegendItem\"}],\"plot\":{\"id\":\"3012\",\"subtype\":\"Figure\",\"type\":\"Plot\"}},\"id\":\"3126\",\"type\":\"Legend\"},{\"attributes\":{},\"id\":\"3027\",\"type\":\"BasicTicker\"},{\"attributes\":{},\"id\":\"3036\",\"type\":\"HelpTool\"},{\"attributes\":{\"label\":{\"value\":\"type6\"},\"renderers\":[{\"id\":\"3117\",\"type\":\"GlyphRenderer\"}]},\"id\":\"3127\",\"type\":\"LegendItem\"},{\"attributes\":{},\"id\":\"3254\",\"type\":\"UnionRenderers\"},{\"attributes\":{},\"id\":\"3031\",\"type\":\"PanTool\"},{\"attributes\":{},\"id\":\"3255\",\"type\":\"Selection\"},{\"attributes\":{},\"id\":\"3032\",\"type\":\"WheelZoomTool\"},{\"attributes\":{\"overlay\":{\"id\":\"3039\",\"type\":\"BoxAnnotation\"}},\"id\":\"3033\",\"type\":\"BoxZoomTool\"},{\"attributes\":{},\"id\":\"3034\",\"type\":\"SaveTool\"},{\"attributes\":{},\"id\":\"3019\",\"type\":\"LinearScale\"},{\"attributes\":{\"formatter\":{\"id\":\"3122\",\"type\":\"BasicTickFormatter\"},\"plot\":{\"id\":\"3012\",\"subtype\":\"Figure\",\"type\":\"Plot\"},\"ticker\":{\"id\":\"3022\",\"type\":\"BasicTicker\"}},\"id\":\"3021\",\"type\":\"LinearAxis\"},{\"attributes\":{\"callback\":null},\"id\":\"3013\",\"type\":\"DataRange1d\"},{\"attributes\":{},\"id\":\"3022\",\"type\":\"BasicTicker\"},{\"attributes\":{\"callback\":null,\"data\":{\"x\":{\"__ndarray__\":\"HknPuOdNZEDCs0GAKT4xwAULBmwjCChAdgN4NVwEPkAxxHI/seM0wOhooZZtSlxAfJw28PIAMEAeLpHbbAI3QFMYY7v4pzJAsltfuVMxQcD7KY/hPltGwBKCgbCPg1JAPfNJtwnYX0DVDTp/e1hkQEYy5cT20VNAbAPNNz1ia0DzYKiqqaRgQA==\",\"dtype\":\"float64\",\"shape\":[17]},\"y\":{\"__ndarray__\":\"HkSPanuWTsDKQ187S/JVwK4kXyYz3E5AvogHTMycQcB9InTfxlRNQGCNnu9p/2JADiUNKXvnVUCiqSke3wxTQACF0TypgERACJiccVFwEUCy/W1s2ZxeQNOD5RCv11fAIevDwLmWaEB3pDK6jOZAQDxJuX4xLU/AyV433lq0Z8A7UGfQFLs8wA==\",\"dtype\":\"float64\",\"shape\":[17]}},\"selected\":{\"id\":\"3255\",\"type\":\"Selection\"},\"selection_policy\":{\"id\":\"3254\",\"type\":\"UnionRenderers\"}},\"id\":\"3114\",\"type\":\"ColumnDataSource\"},{\"attributes\":{\"callback\":null},\"id\":\"3015\",\"type\":\"DataRange1d\"},{\"attributes\":{},\"id\":\"3017\",\"type\":\"LinearScale\"},{\"attributes\":{\"fill_alpha\":{\"value\":0.5},\"fill_color\":{\"value\":\"salmon\"},\"line_alpha\":{\"value\":0.5},\"line_color\":{\"value\":\"salmon\"},\"size\":{\"units\":\"screen\",\"value\":20},\"x\":{\"field\":\"x\"},\"y\":{\"field\":\"y\"}},\"id\":\"3115\",\"type\":\"Circle\"},{\"attributes\":{\"fill_alpha\":{\"value\":0.1},\"fill_color\":{\"value\":\"#1f77b4\"},\"line_alpha\":{\"value\":0.1},\"line_color\":{\"value\":\"#1f77b4\"},\"size\":{\"units\":\"screen\",\"value\":20},\"x\":{\"field\":\"x\"},\"y\":{\"field\":\"y\"}},\"id\":\"3116\",\"type\":\"Circle\"},{\"attributes\":{\"active_drag\":\"auto\",\"active_inspect\":\"auto\",\"active_multi\":null,\"active_scroll\":\"auto\",\"active_tap\":\"auto\",\"tools\":[{\"id\":\"3031\",\"type\":\"PanTool\"},{\"id\":\"3032\",\"type\":\"WheelZoomTool\"},{\"id\":\"3033\",\"type\":\"BoxZoomTool\"},{\"id\":\"3034\",\"type\":\"SaveTool\"},{\"id\":\"3035\",\"type\":\"ResetTool\"},{\"id\":\"3036\",\"type\":\"HelpTool\"}]},\"id\":\"3037\",\"type\":\"Toolbar\"},{\"attributes\":{\"data_source\":{\"id\":\"3114\",\"type\":\"ColumnDataSource\"},\"glyph\":{\"id\":\"3115\",\"type\":\"Circle\"},\"hover_glyph\":null,\"muted_glyph\":null,\"nonselection_glyph\":{\"id\":\"3116\",\"type\":\"Circle\"},\"selection_glyph\":null,\"view\":{\"id\":\"3118\",\"type\":\"CDSView\"}},\"id\":\"3117\",\"type\":\"GlyphRenderer\"}],\"root_ids\":[\"3012\"]},\"title\":\"Bokeh Application\",\"version\":\"1.0.4\"}};\n",
       "  var render_items = [{\"docid\":\"d4cf0433-3ffe-45dc-a440-61616009b3dd\",\"roots\":{\"3012\":\"dcc5b6a3-fee2-408c-aee5-c536908562a7\"}}];\n",
       "  root.Bokeh.embed.embed_items_notebook(docs_json, render_items);\n",
       "\n",
       "  }\n",
       "  if (root.Bokeh !== undefined) {\n",
       "    embed_document(root);\n",
       "  } else {\n",
       "    var attempts = 0;\n",
       "    var timer = setInterval(function(root) {\n",
       "      if (root.Bokeh !== undefined) {\n",
       "        embed_document(root);\n",
       "        clearInterval(timer);\n",
       "      }\n",
       "      attempts++;\n",
       "      if (attempts > 100) {\n",
       "        console.log(\"Bokeh: ERROR: Unable to run BokehJS code because BokehJS library is missing\");\n",
       "        clearInterval(timer);\n",
       "      }\n",
       "    }, 10, root)\n",
       "  }\n",
       "})(window);"
      ],
      "application/vnd.bokehjs_exec.v0+json": ""
     },
     "metadata": {
      "application/vnd.bokehjs_exec.v0+json": {
       "id": "3012"
      }
     },
     "output_type": "display_data"
    },
    {
     "data": {
      "text/html": [
       "\n",
       "\n",
       "\n",
       "\n",
       "\n",
       "\n",
       "  <div class=\"bk-root\" id=\"daadab2f-1312-4260-8134-402c08f6dbc5\" data-root-id=\"3046\"></div>\n"
      ]
     },
     "metadata": {},
     "output_type": "display_data"
    },
    {
     "data": {
      "application/javascript": [
       "(function(root) {\n",
       "  function embed_document(root) {\n",
       "    \n",
       "  var docs_json = {\"9aef108b-ab2c-4e51-814d-231a8089511e\":{\"roots\":{\"references\":[{\"attributes\":{\"below\":[{\"id\":\"3055\",\"type\":\"LinearAxis\"}],\"left\":[{\"id\":\"3060\",\"type\":\"LinearAxis\"}],\"plot_height\":400,\"renderers\":[{\"id\":\"3055\",\"type\":\"LinearAxis\"},{\"id\":\"3059\",\"type\":\"Grid\"},{\"id\":\"3060\",\"type\":\"LinearAxis\"},{\"id\":\"3064\",\"type\":\"Grid\"},{\"id\":\"3073\",\"type\":\"BoxAnnotation\"},{\"id\":\"3323\",\"type\":\"Legend\"},{\"id\":\"3314\",\"type\":\"GlyphRenderer\"}],\"title\":{\"id\":\"3317\",\"type\":\"Title\"},\"toolbar\":{\"id\":\"3071\",\"type\":\"Toolbar\"},\"x_range\":{\"id\":\"3047\",\"type\":\"DataRange1d\"},\"x_scale\":{\"id\":\"3051\",\"type\":\"LinearScale\"},\"y_range\":{\"id\":\"3049\",\"type\":\"DataRange1d\"},\"y_scale\":{\"id\":\"3053\",\"type\":\"LinearScale\"}},\"id\":\"3046\",\"subtype\":\"Figure\",\"type\":\"Plot\"},{\"attributes\":{},\"id\":\"3319\",\"type\":\"BasicTickFormatter\"},{\"attributes\":{},\"id\":\"3321\",\"type\":\"BasicTickFormatter\"},{\"attributes\":{\"callback\":null},\"id\":\"3049\",\"type\":\"DataRange1d\"},{\"attributes\":{},\"id\":\"3460\",\"type\":\"UnionRenderers\"},{\"attributes\":{},\"id\":\"3065\",\"type\":\"PanTool\"},{\"attributes\":{\"label\":{\"value\":\"type0\"},\"renderers\":[{\"id\":\"3314\",\"type\":\"GlyphRenderer\"}]},\"id\":\"3324\",\"type\":\"LegendItem\"},{\"attributes\":{},\"id\":\"3066\",\"type\":\"WheelZoomTool\"},{\"attributes\":{\"overlay\":{\"id\":\"3073\",\"type\":\"BoxAnnotation\"}},\"id\":\"3067\",\"type\":\"BoxZoomTool\"},{\"attributes\":{},\"id\":\"3461\",\"type\":\"Selection\"},{\"attributes\":{},\"id\":\"3068\",\"type\":\"SaveTool\"},{\"attributes\":{\"callback\":null},\"id\":\"3047\",\"type\":\"DataRange1d\"},{\"attributes\":{},\"id\":\"3051\",\"type\":\"LinearScale\"},{\"attributes\":{},\"id\":\"3069\",\"type\":\"ResetTool\"},{\"attributes\":{\"items\":[{\"id\":\"3324\",\"type\":\"LegendItem\"}],\"plot\":{\"id\":\"3046\",\"subtype\":\"Figure\",\"type\":\"Plot\"}},\"id\":\"3323\",\"type\":\"Legend\"},{\"attributes\":{\"dimension\":1,\"plot\":{\"id\":\"3046\",\"subtype\":\"Figure\",\"type\":\"Plot\"},\"ticker\":{\"id\":\"3061\",\"type\":\"BasicTicker\"}},\"id\":\"3064\",\"type\":\"Grid\"},{\"attributes\":{},\"id\":\"3070\",\"type\":\"HelpTool\"},{\"attributes\":{\"active_drag\":\"auto\",\"active_inspect\":\"auto\",\"active_multi\":null,\"active_scroll\":\"auto\",\"active_tap\":\"auto\",\"tools\":[{\"id\":\"3065\",\"type\":\"PanTool\"},{\"id\":\"3066\",\"type\":\"WheelZoomTool\"},{\"id\":\"3067\",\"type\":\"BoxZoomTool\"},{\"id\":\"3068\",\"type\":\"SaveTool\"},{\"id\":\"3069\",\"type\":\"ResetTool\"},{\"id\":\"3070\",\"type\":\"HelpTool\"}]},\"id\":\"3071\",\"type\":\"Toolbar\"},{\"attributes\":{\"plot\":null,\"text\":\"\"},\"id\":\"3317\",\"type\":\"Title\"},{\"attributes\":{\"bottom_units\":\"screen\",\"fill_alpha\":{\"value\":0.5},\"fill_color\":{\"value\":\"lightgrey\"},\"left_units\":\"screen\",\"level\":\"overlay\",\"line_alpha\":{\"value\":1.0},\"line_color\":{\"value\":\"black\"},\"line_dash\":[4,4],\"line_width\":{\"value\":2},\"plot\":null,\"render_mode\":\"css\",\"right_units\":\"screen\",\"top_units\":\"screen\"},\"id\":\"3073\",\"type\":\"BoxAnnotation\"},{\"attributes\":{},\"id\":\"3053\",\"type\":\"LinearScale\"},{\"attributes\":{\"source\":{\"id\":\"3311\",\"type\":\"ColumnDataSource\"}},\"id\":\"3315\",\"type\":\"CDSView\"},{\"attributes\":{\"formatter\":{\"id\":\"3319\",\"type\":\"BasicTickFormatter\"},\"plot\":{\"id\":\"3046\",\"subtype\":\"Figure\",\"type\":\"Plot\"},\"ticker\":{\"id\":\"3056\",\"type\":\"BasicTicker\"}},\"id\":\"3055\",\"type\":\"LinearAxis\"},{\"attributes\":{\"fill_alpha\":{\"value\":0.1},\"fill_color\":{\"value\":\"#1f77b4\"},\"line_alpha\":{\"value\":0.1},\"line_color\":{\"value\":\"#1f77b4\"},\"size\":{\"units\":\"screen\",\"value\":20},\"x\":{\"field\":\"x\"},\"y\":{\"field\":\"y\"}},\"id\":\"3313\",\"type\":\"Circle\"},{\"attributes\":{},\"id\":\"3056\",\"type\":\"BasicTicker\"},{\"attributes\":{\"plot\":{\"id\":\"3046\",\"subtype\":\"Figure\",\"type\":\"Plot\"},\"ticker\":{\"id\":\"3056\",\"type\":\"BasicTicker\"}},\"id\":\"3059\",\"type\":\"Grid\"},{\"attributes\":{\"fill_alpha\":{\"value\":0.5},\"fill_color\":{\"value\":\"red\"},\"line_alpha\":{\"value\":0.5},\"line_color\":{\"value\":\"red\"},\"size\":{\"units\":\"screen\",\"value\":20},\"x\":{\"field\":\"x\"},\"y\":{\"field\":\"y\"}},\"id\":\"3312\",\"type\":\"Circle\"},{\"attributes\":{\"formatter\":{\"id\":\"3321\",\"type\":\"BasicTickFormatter\"},\"plot\":{\"id\":\"3046\",\"subtype\":\"Figure\",\"type\":\"Plot\"},\"ticker\":{\"id\":\"3061\",\"type\":\"BasicTicker\"}},\"id\":\"3060\",\"type\":\"LinearAxis\"},{\"attributes\":{\"data_source\":{\"id\":\"3311\",\"type\":\"ColumnDataSource\"},\"glyph\":{\"id\":\"3312\",\"type\":\"Circle\"},\"hover_glyph\":null,\"muted_glyph\":null,\"nonselection_glyph\":{\"id\":\"3313\",\"type\":\"Circle\"},\"selection_glyph\":null,\"view\":{\"id\":\"3315\",\"type\":\"CDSView\"}},\"id\":\"3314\",\"type\":\"GlyphRenderer\"},{\"attributes\":{\"callback\":null,\"data\":{\"x\":{\"__ndarray__\":\"uCCkMploSsC0UhjMZc9lQLghkMP6kyjAP/F6wOctUcAO4AIm0K1SwKS/zdAdkFzA5Q04QwhtSEBmSP6d0p4+wB5jcLX5KWHAsn9Mvoo5Z8CHcoK+UPtdwEnPrEqPFzLAU7XdP1/AXsCcbDyoL6gywNwrbHS0dxFAn/23j1cjTEDyGkGmBhE8QA==\",\"dtype\":\"float64\",\"shape\":[17]},\"y\":{\"__ndarray__\":\"k99gyv/SWsB42exiuQdTwGJ6HqTsZFfA48pL7FAhVcB7PCXP2idlQB3ymDuWd0HAsEAjHYs6HsCh4omnCbNUQHrjeJcUhD9ACCnCJXPnXkBeKOD3aJVVQGiX9xwvMk7AlfpNROGGS0D5IRuAY1kkwKV+DQWloTbAAYWRm94SOECJrT6pvT4dwA==\",\"dtype\":\"float64\",\"shape\":[17]}},\"selected\":{\"id\":\"3461\",\"type\":\"Selection\"},\"selection_policy\":{\"id\":\"3460\",\"type\":\"UnionRenderers\"}},\"id\":\"3311\",\"type\":\"ColumnDataSource\"},{\"attributes\":{},\"id\":\"3061\",\"type\":\"BasicTicker\"}],\"root_ids\":[\"3046\"]},\"title\":\"Bokeh Application\",\"version\":\"1.0.4\"}};\n",
       "  var render_items = [{\"docid\":\"9aef108b-ab2c-4e51-814d-231a8089511e\",\"roots\":{\"3046\":\"daadab2f-1312-4260-8134-402c08f6dbc5\"}}];\n",
       "  root.Bokeh.embed.embed_items_notebook(docs_json, render_items);\n",
       "\n",
       "  }\n",
       "  if (root.Bokeh !== undefined) {\n",
       "    embed_document(root);\n",
       "  } else {\n",
       "    var attempts = 0;\n",
       "    var timer = setInterval(function(root) {\n",
       "      if (root.Bokeh !== undefined) {\n",
       "        embed_document(root);\n",
       "        clearInterval(timer);\n",
       "      }\n",
       "      attempts++;\n",
       "      if (attempts > 100) {\n",
       "        console.log(\"Bokeh: ERROR: Unable to run BokehJS code because BokehJS library is missing\");\n",
       "        clearInterval(timer);\n",
       "      }\n",
       "    }, 10, root)\n",
       "  }\n",
       "})(window);"
      ],
      "application/vnd.bokehjs_exec.v0+json": ""
     },
     "metadata": {
      "application/vnd.bokehjs_exec.v0+json": {
       "id": "3046"
      }
     },
     "output_type": "display_data"
    },
    {
     "data": {
      "text/html": [
       "\n",
       "\n",
       "\n",
       "\n",
       "\n",
       "\n",
       "  <div class=\"bk-root\" id=\"318099ff-78fe-4eee-ab9f-9f0d85bd6664\" data-root-id=\"3080\"></div>\n"
      ]
     },
     "metadata": {},
     "output_type": "display_data"
    },
    {
     "data": {
      "application/javascript": [
       "(function(root) {\n",
       "  function embed_document(root) {\n",
       "    \n",
       "  var docs_json = {\"e2663277-dee9-487b-9b42-1d1d4d154dbe\":{\"roots\":{\"references\":[{\"attributes\":{\"below\":[{\"id\":\"3089\",\"type\":\"LinearAxis\"}],\"left\":[{\"id\":\"3094\",\"type\":\"LinearAxis\"}],\"plot_height\":400,\"renderers\":[{\"id\":\"3089\",\"type\":\"LinearAxis\"},{\"id\":\"3093\",\"type\":\"Grid\"},{\"id\":\"3094\",\"type\":\"LinearAxis\"},{\"id\":\"3098\",\"type\":\"Grid\"},{\"id\":\"3107\",\"type\":\"BoxAnnotation\"},{\"id\":\"3529\",\"type\":\"Legend\"},{\"id\":\"3520\",\"type\":\"GlyphRenderer\"}],\"title\":{\"id\":\"3523\",\"type\":\"Title\"},\"toolbar\":{\"id\":\"3105\",\"type\":\"Toolbar\"},\"x_range\":{\"id\":\"3081\",\"type\":\"DataRange1d\"},\"x_scale\":{\"id\":\"3085\",\"type\":\"LinearScale\"},\"y_range\":{\"id\":\"3083\",\"type\":\"DataRange1d\"},\"y_scale\":{\"id\":\"3087\",\"type\":\"LinearScale\"}},\"id\":\"3080\",\"subtype\":\"Figure\",\"type\":\"Plot\"},{\"attributes\":{},\"id\":\"3675\",\"type\":\"UnionRenderers\"},{\"attributes\":{},\"id\":\"3095\",\"type\":\"BasicTicker\"},{\"attributes\":{\"callback\":null},\"id\":\"3081\",\"type\":\"DataRange1d\"},{\"attributes\":{},\"id\":\"3527\",\"type\":\"BasicTickFormatter\"},{\"attributes\":{\"dimension\":1,\"plot\":{\"id\":\"3080\",\"subtype\":\"Figure\",\"type\":\"Plot\"},\"ticker\":{\"id\":\"3095\",\"type\":\"BasicTicker\"}},\"id\":\"3098\",\"type\":\"Grid\"},{\"attributes\":{},\"id\":\"3525\",\"type\":\"BasicTickFormatter\"},{\"attributes\":{\"plot\":null,\"text\":\"\"},\"id\":\"3523\",\"type\":\"Title\"},{\"attributes\":{\"source\":{\"id\":\"3517\",\"type\":\"ColumnDataSource\"}},\"id\":\"3521\",\"type\":\"CDSView\"},{\"attributes\":{},\"id\":\"3099\",\"type\":\"PanTool\"},{\"attributes\":{\"data_source\":{\"id\":\"3517\",\"type\":\"ColumnDataSource\"},\"glyph\":{\"id\":\"3518\",\"type\":\"Circle\"},\"hover_glyph\":null,\"muted_glyph\":null,\"nonselection_glyph\":{\"id\":\"3519\",\"type\":\"Circle\"},\"selection_glyph\":null,\"view\":{\"id\":\"3521\",\"type\":\"CDSView\"}},\"id\":\"3520\",\"type\":\"GlyphRenderer\"},{\"attributes\":{},\"id\":\"3100\",\"type\":\"WheelZoomTool\"},{\"attributes\":{\"fill_alpha\":{\"value\":0.1},\"fill_color\":{\"value\":\"#1f77b4\"},\"line_alpha\":{\"value\":0.1},\"line_color\":{\"value\":\"#1f77b4\"},\"size\":{\"units\":\"screen\",\"value\":20},\"x\":{\"field\":\"x\"},\"y\":{\"field\":\"y\"}},\"id\":\"3519\",\"type\":\"Circle\"},{\"attributes\":{\"overlay\":{\"id\":\"3107\",\"type\":\"BoxAnnotation\"}},\"id\":\"3101\",\"type\":\"BoxZoomTool\"},{\"attributes\":{\"fill_alpha\":{\"value\":0.5},\"fill_color\":{\"value\":\"olive\"},\"line_alpha\":{\"value\":0.5},\"line_color\":{\"value\":\"olive\"},\"size\":{\"units\":\"screen\",\"value\":20},\"x\":{\"field\":\"x\"},\"y\":{\"field\":\"y\"}},\"id\":\"3518\",\"type\":\"Circle\"},{\"attributes\":{},\"id\":\"3102\",\"type\":\"SaveTool\"},{\"attributes\":{\"callback\":null,\"data\":{\"x\":{\"__ndarray__\":\"qnUh3JuiVUDIdIjxXb9kQAVHhwcqDWLAFDElt5k7NsCpCm1psSxEQMILj/kneUpAxA/RV9w/N0ACNzkCdxFGQOiCpR7P2knAxbVmd7TCSECbnkRrpJpvQOltJf/DKElAyv9S0a8dTkA=\",\"dtype\":\"float64\",\"shape\":[13]},\"y\":{\"__ndarray__\":\"q70fgOzEbMCLrxYnFY1SQNsrXb0pOUnAyj6eFGgTNMAWj90azq1NQCiut0xNiitAOQuaOVQQUUAsLXes8gckwA3QIcH47FjAxzCwoGZ4McDxnBXhDN04wMS1maRSKmBAI7+TuZwDRUA=\",\"dtype\":\"float64\",\"shape\":[13]}},\"selected\":{\"id\":\"3676\",\"type\":\"Selection\"},\"selection_policy\":{\"id\":\"3675\",\"type\":\"UnionRenderers\"}},\"id\":\"3517\",\"type\":\"ColumnDataSource\"},{\"attributes\":{},\"id\":\"3103\",\"type\":\"ResetTool\"},{\"attributes\":{\"callback\":null},\"id\":\"3083\",\"type\":\"DataRange1d\"},{\"attributes\":{},\"id\":\"3104\",\"type\":\"HelpTool\"},{\"attributes\":{\"active_drag\":\"auto\",\"active_inspect\":\"auto\",\"active_multi\":null,\"active_scroll\":\"auto\",\"active_tap\":\"auto\",\"tools\":[{\"id\":\"3099\",\"type\":\"PanTool\"},{\"id\":\"3100\",\"type\":\"WheelZoomTool\"},{\"id\":\"3101\",\"type\":\"BoxZoomTool\"},{\"id\":\"3102\",\"type\":\"SaveTool\"},{\"id\":\"3103\",\"type\":\"ResetTool\"},{\"id\":\"3104\",\"type\":\"HelpTool\"}]},\"id\":\"3105\",\"type\":\"Toolbar\"},{\"attributes\":{},\"id\":\"3085\",\"type\":\"LinearScale\"},{\"attributes\":{\"bottom_units\":\"screen\",\"fill_alpha\":{\"value\":0.5},\"fill_color\":{\"value\":\"lightgrey\"},\"left_units\":\"screen\",\"level\":\"overlay\",\"line_alpha\":{\"value\":1.0},\"line_color\":{\"value\":\"black\"},\"line_dash\":[4,4],\"line_width\":{\"value\":2},\"plot\":null,\"render_mode\":\"css\",\"right_units\":\"screen\",\"top_units\":\"screen\"},\"id\":\"3107\",\"type\":\"BoxAnnotation\"},{\"attributes\":{},\"id\":\"3087\",\"type\":\"LinearScale\"},{\"attributes\":{\"formatter\":{\"id\":\"3525\",\"type\":\"BasicTickFormatter\"},\"plot\":{\"id\":\"3080\",\"subtype\":\"Figure\",\"type\":\"Plot\"},\"ticker\":{\"id\":\"3090\",\"type\":\"BasicTicker\"}},\"id\":\"3089\",\"type\":\"LinearAxis\"},{\"attributes\":{\"items\":[{\"id\":\"3530\",\"type\":\"LegendItem\"}],\"plot\":{\"id\":\"3080\",\"subtype\":\"Figure\",\"type\":\"Plot\"}},\"id\":\"3529\",\"type\":\"Legend\"},{\"attributes\":{},\"id\":\"3090\",\"type\":\"BasicTicker\"},{\"attributes\":{\"label\":{\"value\":\"type1\"},\"renderers\":[{\"id\":\"3520\",\"type\":\"GlyphRenderer\"}]},\"id\":\"3530\",\"type\":\"LegendItem\"},{\"attributes\":{\"plot\":{\"id\":\"3080\",\"subtype\":\"Figure\",\"type\":\"Plot\"},\"ticker\":{\"id\":\"3090\",\"type\":\"BasicTicker\"}},\"id\":\"3093\",\"type\":\"Grid\"},{\"attributes\":{\"formatter\":{\"id\":\"3527\",\"type\":\"BasicTickFormatter\"},\"plot\":{\"id\":\"3080\",\"subtype\":\"Figure\",\"type\":\"Plot\"},\"ticker\":{\"id\":\"3095\",\"type\":\"BasicTicker\"}},\"id\":\"3094\",\"type\":\"LinearAxis\"},{\"attributes\":{},\"id\":\"3676\",\"type\":\"Selection\"}],\"root_ids\":[\"3080\"]},\"title\":\"Bokeh Application\",\"version\":\"1.0.4\"}};\n",
       "  var render_items = [{\"docid\":\"e2663277-dee9-487b-9b42-1d1d4d154dbe\",\"roots\":{\"3080\":\"318099ff-78fe-4eee-ab9f-9f0d85bd6664\"}}];\n",
       "  root.Bokeh.embed.embed_items_notebook(docs_json, render_items);\n",
       "\n",
       "  }\n",
       "  if (root.Bokeh !== undefined) {\n",
       "    embed_document(root);\n",
       "  } else {\n",
       "    var attempts = 0;\n",
       "    var timer = setInterval(function(root) {\n",
       "      if (root.Bokeh !== undefined) {\n",
       "        embed_document(root);\n",
       "        clearInterval(timer);\n",
       "      }\n",
       "      attempts++;\n",
       "      if (attempts > 100) {\n",
       "        console.log(\"Bokeh: ERROR: Unable to run BokehJS code because BokehJS library is missing\");\n",
       "        clearInterval(timer);\n",
       "      }\n",
       "    }, 10, root)\n",
       "  }\n",
       "})(window);"
      ],
      "application/vnd.bokehjs_exec.v0+json": ""
     },
     "metadata": {
      "application/vnd.bokehjs_exec.v0+json": {
       "id": "3080"
      }
     },
     "output_type": "display_data"
    }
   ],
   "source": [
    "#将以上数据用多图表表示的方法：\n",
    "rng = np.random.RandomState(1)\n",
    "df = pd.DataFrame(rng.randn(100,2)*100,columns = ['A','B'])\n",
    "df['type'] = rng.randint(0,7,100)\n",
    "print(df.head())\n",
    "# 创建数据\n",
    "\n",
    "colors = [\"red\", \"olive\", \"darkred\", \"goldenrod\", \"skyblue\", \"orange\", \"salmon\"]\n",
    "# 创建颜色列表\n",
    "\n",
    "p1 = figure(plot_width=600, plot_height=400)\n",
    "p2 = figure(plot_width=600, plot_height=400)\n",
    "p3 = figure(plot_width=600, plot_height=400)\n",
    "plst = [p1,p2,p3]\n",
    "for t,pi in zip(df['type'].unique()[:3],plst):\n",
    "    pi.circle(df['A'][df['type'] == t], df['B'][df['type'] == t],       # 设置散点图x，y值\n",
    "             size = 20,alpha = 0.5,\n",
    "             color = colors[t],\n",
    "            legend = 'type%i' %t)\n",
    "    show(pi)\n",
    "# 通过分类设置颜色\n",
    "\n"
   ]
  },
  {
   "cell_type": "code",
   "execution_count": 14,
   "metadata": {},
   "outputs": [
    {
     "data": {
      "text/html": [
       "\n",
       "\n",
       "\n",
       "\n",
       "\n",
       "\n",
       "  <div class=\"bk-root\" id=\"78437d7c-7346-41fe-a3c4-cb63e152351e\" data-root-id=\"3732\"></div>\n"
      ]
     },
     "metadata": {},
     "output_type": "display_data"
    },
    {
     "data": {
      "application/javascript": [
       "(function(root) {\n",
       "  function embed_document(root) {\n",
       "    \n",
       "  var docs_json = {\"9f378f8c-615a-45a9-8a83-f685a99230da\":{\"roots\":{\"references\":[{\"attributes\":{\"below\":[{\"id\":\"3741\",\"type\":\"LinearAxis\"}],\"left\":[{\"id\":\"3746\",\"type\":\"LinearAxis\"}],\"plot_height\":400,\"renderers\":[{\"id\":\"3741\",\"type\":\"LinearAxis\"},{\"id\":\"3745\",\"type\":\"Grid\"},{\"id\":\"3746\",\"type\":\"LinearAxis\"},{\"id\":\"3750\",\"type\":\"Grid\"},{\"id\":\"3759\",\"type\":\"BoxAnnotation\"},{\"id\":\"3778\",\"type\":\"Legend\"},{\"id\":\"3769\",\"type\":\"GlyphRenderer\"},{\"id\":\"3783\",\"type\":\"GlyphRenderer\"},{\"id\":\"3798\",\"type\":\"GlyphRenderer\"},{\"id\":\"3815\",\"type\":\"GlyphRenderer\"},{\"id\":\"3834\",\"type\":\"GlyphRenderer\"},{\"id\":\"3855\",\"type\":\"GlyphRenderer\"},{\"id\":\"3878\",\"type\":\"GlyphRenderer\"},{\"id\":\"3903\",\"type\":\"GlyphRenderer\"},{\"id\":\"3930\",\"type\":\"GlyphRenderer\"},{\"id\":\"3959\",\"type\":\"GlyphRenderer\"},{\"id\":\"3990\",\"type\":\"GlyphRenderer\"},{\"id\":\"4023\",\"type\":\"GlyphRenderer\"}],\"title\":{\"id\":\"3772\",\"type\":\"Title\"},\"toolbar\":{\"id\":\"3757\",\"type\":\"Toolbar\"},\"x_range\":{\"id\":\"3733\",\"type\":\"Range1d\"},\"x_scale\":{\"id\":\"3737\",\"type\":\"LinearScale\"},\"y_range\":{\"id\":\"3735\",\"type\":\"Range1d\"},\"y_scale\":{\"id\":\"3739\",\"type\":\"LinearScale\"}},\"id\":\"3732\",\"subtype\":\"Figure\",\"type\":\"Plot\"},{\"attributes\":{},\"id\":\"3809\",\"type\":\"Selection\"},{\"attributes\":{\"label\":{\"value\":\"circle_x\"},\"renderers\":[{\"id\":\"3798\",\"type\":\"GlyphRenderer\"}]},\"id\":\"3811\",\"type\":\"LegendItem\"},{\"attributes\":{\"callback\":null,\"data\":{},\"selected\":{\"id\":\"3872\",\"type\":\"Selection\"},\"selection_policy\":{\"id\":\"3871\",\"type\":\"UnionRenderers\"}},\"id\":\"3831\",\"type\":\"ColumnDataSource\"},{\"attributes\":{\"fill_alpha\":{\"value\":0.5},\"fill_color\":{\"value\":\"#1f77b4\"},\"line_alpha\":{\"value\":0.5},\"line_color\":{\"value\":\"#1f77b4\"},\"size\":{\"units\":\"screen\",\"value\":30},\"x\":{\"value\":1},\"y\":{\"value\":4}},\"id\":\"3813\",\"type\":\"Cross\"},{\"attributes\":{\"formatter\":{\"id\":\"3774\",\"type\":\"BasicTickFormatter\"},\"plot\":{\"id\":\"3732\",\"subtype\":\"Figure\",\"type\":\"Plot\"},\"ticker\":{\"id\":\"3742\",\"type\":\"BasicTicker\"}},\"id\":\"3741\",\"type\":\"LinearAxis\"},{\"attributes\":{\"fill_alpha\":{\"value\":0.1},\"fill_color\":{\"value\":\"#1f77b4\"},\"line_alpha\":{\"value\":0.1},\"line_color\":{\"value\":\"#1f77b4\"},\"size\":{\"units\":\"screen\",\"value\":30},\"x\":{\"value\":1},\"y\":{\"value\":4}},\"id\":\"3814\",\"type\":\"Cross\"},{\"attributes\":{\"data_source\":{\"id\":\"3812\",\"type\":\"ColumnDataSource\"},\"glyph\":{\"id\":\"3813\",\"type\":\"Cross\"},\"hover_glyph\":null,\"muted_glyph\":null,\"nonselection_glyph\":{\"id\":\"3814\",\"type\":\"Cross\"},\"selection_glyph\":null,\"view\":{\"id\":\"3816\",\"type\":\"CDSView\"}},\"id\":\"3815\",\"type\":\"GlyphRenderer\"},{\"attributes\":{\"source\":{\"id\":\"3812\",\"type\":\"ColumnDataSource\"}},\"id\":\"3816\",\"type\":\"CDSView\"},{\"attributes\":{},\"id\":\"3827\",\"type\":\"UnionRenderers\"},{\"attributes\":{},\"id\":\"3828\",\"type\":\"Selection\"},{\"attributes\":{\"label\":{\"value\":\"cross\"},\"renderers\":[{\"id\":\"3815\",\"type\":\"GlyphRenderer\"}]},\"id\":\"3830\",\"type\":\"LegendItem\"},{\"attributes\":{},\"id\":\"3739\",\"type\":\"LinearScale\"},{\"attributes\":{\"callback\":null,\"data\":{},\"selected\":{\"id\":\"3897\",\"type\":\"Selection\"},\"selection_policy\":{\"id\":\"3896\",\"type\":\"UnionRenderers\"}},\"id\":\"3852\",\"type\":\"ColumnDataSource\"},{\"attributes\":{\"fill_alpha\":{\"value\":0.5},\"fill_color\":{\"value\":\"#1f77b4\"},\"line_alpha\":{\"value\":0.5},\"line_color\":{\"value\":\"#1f77b4\"},\"size\":{\"units\":\"screen\",\"value\":30},\"x\":{\"value\":1},\"y\":{\"value\":5}},\"id\":\"3832\",\"type\":\"Diamond\"},{\"attributes\":{\"fill_alpha\":{\"value\":0.1},\"fill_color\":{\"value\":\"#1f77b4\"},\"line_alpha\":{\"value\":0.1},\"line_color\":{\"value\":\"#1f77b4\"},\"size\":{\"units\":\"screen\",\"value\":30},\"x\":{\"value\":1},\"y\":{\"value\":5}},\"id\":\"3833\",\"type\":\"Diamond\"},{\"attributes\":{\"data_source\":{\"id\":\"3831\",\"type\":\"ColumnDataSource\"},\"glyph\":{\"id\":\"3832\",\"type\":\"Diamond\"},\"hover_glyph\":null,\"muted_glyph\":null,\"nonselection_glyph\":{\"id\":\"3833\",\"type\":\"Diamond\"},\"selection_glyph\":null,\"view\":{\"id\":\"3835\",\"type\":\"CDSView\"}},\"id\":\"3834\",\"type\":\"GlyphRenderer\"},{\"attributes\":{\"data_source\":{\"id\":\"3875\",\"type\":\"ColumnDataSource\"},\"glyph\":{\"id\":\"3876\",\"type\":\"InvertedTriangle\"},\"hover_glyph\":null,\"muted_glyph\":null,\"nonselection_glyph\":{\"id\":\"3877\",\"type\":\"InvertedTriangle\"},\"selection_glyph\":null,\"view\":{\"id\":\"3879\",\"type\":\"CDSView\"}},\"id\":\"3878\",\"type\":\"GlyphRenderer\"},{\"attributes\":{\"source\":{\"id\":\"3831\",\"type\":\"ColumnDataSource\"}},\"id\":\"3835\",\"type\":\"CDSView\"},{\"attributes\":{},\"id\":\"3848\",\"type\":\"UnionRenderers\"},{\"attributes\":{},\"id\":\"3849\",\"type\":\"Selection\"},{\"attributes\":{\"label\":{\"value\":\"diamond\"},\"renderers\":[{\"id\":\"3834\",\"type\":\"GlyphRenderer\"}]},\"id\":\"3851\",\"type\":\"LegendItem\"},{\"attributes\":{\"callback\":null,\"data\":{},\"selected\":{\"id\":\"3924\",\"type\":\"Selection\"},\"selection_policy\":{\"id\":\"3923\",\"type\":\"UnionRenderers\"}},\"id\":\"3875\",\"type\":\"ColumnDataSource\"},{\"attributes\":{\"fill_alpha\":{\"value\":0.5},\"fill_color\":{\"value\":\"#1f77b4\"},\"line_alpha\":{\"value\":0.5},\"line_color\":{\"value\":\"#1f77b4\"},\"size\":{\"units\":\"screen\",\"value\":30},\"x\":{\"value\":1},\"y\":{\"value\":6}},\"id\":\"3853\",\"type\":\"DiamondCross\"},{\"attributes\":{\"fill_alpha\":{\"value\":0.1},\"fill_color\":{\"value\":\"#1f77b4\"},\"line_alpha\":{\"value\":0.1},\"line_color\":{\"value\":\"#1f77b4\"},\"size\":{\"units\":\"screen\",\"value\":30},\"x\":{\"value\":1},\"y\":{\"value\":6}},\"id\":\"3854\",\"type\":\"DiamondCross\"},{\"attributes\":{\"data_source\":{\"id\":\"3852\",\"type\":\"ColumnDataSource\"},\"glyph\":{\"id\":\"3853\",\"type\":\"DiamondCross\"},\"hover_glyph\":null,\"muted_glyph\":null,\"nonselection_glyph\":{\"id\":\"3854\",\"type\":\"DiamondCross\"},\"selection_glyph\":null,\"view\":{\"id\":\"3856\",\"type\":\"CDSView\"}},\"id\":\"3855\",\"type\":\"GlyphRenderer\"},{\"attributes\":{\"source\":{\"id\":\"3852\",\"type\":\"ColumnDataSource\"}},\"id\":\"3856\",\"type\":\"CDSView\"},{\"attributes\":{},\"id\":\"3871\",\"type\":\"UnionRenderers\"},{\"attributes\":{},\"id\":\"3872\",\"type\":\"Selection\"},{\"attributes\":{},\"id\":\"4231\",\"type\":\"Selection\"},{\"attributes\":{\"label\":{\"value\":\"diamond_cross\"},\"renderers\":[{\"id\":\"3855\",\"type\":\"GlyphRenderer\"}]},\"id\":\"3874\",\"type\":\"LegendItem\"},{\"attributes\":{\"callback\":null,\"data\":{},\"selected\":{\"id\":\"3953\",\"type\":\"Selection\"},\"selection_policy\":{\"id\":\"3952\",\"type\":\"UnionRenderers\"}},\"id\":\"3900\",\"type\":\"ColumnDataSource\"},{\"attributes\":{\"fill_alpha\":{\"value\":0.5},\"fill_color\":{\"value\":\"#1f77b4\"},\"line_alpha\":{\"value\":0.5},\"line_color\":{\"value\":\"#1f77b4\"},\"size\":{\"units\":\"screen\",\"value\":30},\"x\":{\"value\":2},\"y\":{\"value\":1}},\"id\":\"3876\",\"type\":\"InvertedTriangle\"},{\"attributes\":{\"callback\":null,\"data\":{},\"selected\":{\"id\":\"3792\",\"type\":\"Selection\"},\"selection_policy\":{\"id\":\"3791\",\"type\":\"UnionRenderers\"}},\"id\":\"3766\",\"type\":\"ColumnDataSource\"},{\"attributes\":{},\"id\":\"3897\",\"type\":\"Selection\"},{\"attributes\":{},\"id\":\"3923\",\"type\":\"UnionRenderers\"},{\"attributes\":{\"label\":{\"value\":\"inverted_triangle\"},\"renderers\":[{\"id\":\"3878\",\"type\":\"GlyphRenderer\"}]},\"id\":\"3899\",\"type\":\"LegendItem\"},{\"attributes\":{\"callback\":null,\"end\":3},\"id\":\"3733\",\"type\":\"Range1d\"},{\"attributes\":{\"callback\":null,\"data\":{},\"selected\":{\"id\":\"3809\",\"type\":\"Selection\"},\"selection_policy\":{\"id\":\"3808\",\"type\":\"UnionRenderers\"}},\"id\":\"3780\",\"type\":\"ColumnDataSource\"},{\"attributes\":{\"callback\":null,\"data\":{},\"selected\":{\"id\":\"3984\",\"type\":\"Selection\"},\"selection_policy\":{\"id\":\"3983\",\"type\":\"UnionRenderers\"}},\"id\":\"3927\",\"type\":\"ColumnDataSource\"},{\"attributes\":{\"callback\":null,\"end\":7},\"id\":\"3735\",\"type\":\"Range1d\"},{\"attributes\":{\"fill_alpha\":{\"value\":0.5},\"fill_color\":{\"value\":\"#1f77b4\"},\"line_alpha\":{\"value\":0.5},\"line_color\":{\"value\":\"#1f77b4\"},\"size\":{\"units\":\"screen\",\"value\":30},\"x\":{\"value\":2},\"y\":{\"value\":2}},\"id\":\"3901\",\"type\":\"Square\"},{\"attributes\":{\"source\":{\"id\":\"3875\",\"type\":\"ColumnDataSource\"}},\"id\":\"3879\",\"type\":\"CDSView\"},{\"attributes\":{\"fill_alpha\":{\"value\":0.1},\"fill_color\":{\"value\":\"#1f77b4\"},\"line_alpha\":{\"value\":0.1},\"line_color\":{\"value\":\"#1f77b4\"},\"size\":{\"units\":\"screen\",\"value\":30},\"x\":{\"value\":2},\"y\":{\"value\":2}},\"id\":\"3902\",\"type\":\"Square\"},{\"attributes\":{\"data_source\":{\"id\":\"3900\",\"type\":\"ColumnDataSource\"},\"glyph\":{\"id\":\"3901\",\"type\":\"Square\"},\"hover_glyph\":null,\"muted_glyph\":null,\"nonselection_glyph\":{\"id\":\"3902\",\"type\":\"Square\"},\"selection_glyph\":null,\"view\":{\"id\":\"3904\",\"type\":\"CDSView\"}},\"id\":\"3903\",\"type\":\"GlyphRenderer\"},{\"attributes\":{},\"id\":\"3737\",\"type\":\"LinearScale\"},{\"attributes\":{\"source\":{\"id\":\"3900\",\"type\":\"ColumnDataSource\"}},\"id\":\"3904\",\"type\":\"CDSView\"},{\"attributes\":{},\"id\":\"3808\",\"type\":\"UnionRenderers\"},{\"attributes\":{},\"id\":\"3924\",\"type\":\"Selection\"},{\"attributes\":{},\"id\":\"3742\",\"type\":\"BasicTicker\"},{\"attributes\":{\"plot\":{\"id\":\"3732\",\"subtype\":\"Figure\",\"type\":\"Plot\"},\"ticker\":{\"id\":\"3742\",\"type\":\"BasicTicker\"}},\"id\":\"3745\",\"type\":\"Grid\"},{\"attributes\":{\"callback\":null,\"data\":{},\"selected\":{\"id\":\"4017\",\"type\":\"Selection\"},\"selection_policy\":{\"id\":\"4016\",\"type\":\"UnionRenderers\"}},\"id\":\"3956\",\"type\":\"ColumnDataSource\"},{\"attributes\":{\"formatter\":{\"id\":\"3776\",\"type\":\"BasicTickFormatter\"},\"plot\":{\"id\":\"3732\",\"subtype\":\"Figure\",\"type\":\"Plot\"},\"ticker\":{\"id\":\"3747\",\"type\":\"BasicTicker\"}},\"id\":\"3746\",\"type\":\"LinearAxis\"},{\"attributes\":{\"fill_alpha\":{\"value\":0.5},\"fill_color\":{\"value\":\"#1f77b4\"},\"line_alpha\":{\"value\":0.5},\"line_color\":{\"value\":\"#1f77b4\"},\"size\":{\"units\":\"screen\",\"value\":30},\"x\":{\"value\":2},\"y\":{\"value\":3}},\"id\":\"3928\",\"type\":\"SquareCross\"},{\"attributes\":{},\"id\":\"3747\",\"type\":\"BasicTicker\"},{\"attributes\":{\"fill_alpha\":{\"value\":0.1},\"fill_color\":{\"value\":\"#1f77b4\"},\"line_alpha\":{\"value\":0.1},\"line_color\":{\"value\":\"#1f77b4\"},\"size\":{\"units\":\"screen\",\"value\":30},\"x\":{\"value\":2},\"y\":{\"value\":3}},\"id\":\"3929\",\"type\":\"SquareCross\"},{\"attributes\":{\"dimension\":1,\"plot\":{\"id\":\"3732\",\"subtype\":\"Figure\",\"type\":\"Plot\"},\"ticker\":{\"id\":\"3747\",\"type\":\"BasicTicker\"}},\"id\":\"3750\",\"type\":\"Grid\"},{\"attributes\":{\"data_source\":{\"id\":\"3927\",\"type\":\"ColumnDataSource\"},\"glyph\":{\"id\":\"3928\",\"type\":\"SquareCross\"},\"hover_glyph\":null,\"muted_glyph\":null,\"nonselection_glyph\":{\"id\":\"3929\",\"type\":\"SquareCross\"},\"selection_glyph\":null,\"view\":{\"id\":\"3931\",\"type\":\"CDSView\"}},\"id\":\"3930\",\"type\":\"GlyphRenderer\"},{\"attributes\":{\"fill_alpha\":{\"value\":0.1},\"fill_color\":{\"value\":\"#1f77b4\"},\"line_alpha\":{\"value\":0.1},\"line_color\":{\"value\":\"#1f77b4\"},\"size\":{\"units\":\"screen\",\"value\":30},\"x\":{\"value\":1},\"y\":{\"value\":1}},\"id\":\"3768\",\"type\":\"CircleCross\"},{\"attributes\":{\"source\":{\"id\":\"3927\",\"type\":\"ColumnDataSource\"}},\"id\":\"3931\",\"type\":\"CDSView\"},{\"attributes\":{\"fill_alpha\":{\"value\":0.5},\"fill_color\":{\"value\":\"#1f77b4\"},\"line_alpha\":{\"value\":0.5},\"line_color\":{\"value\":\"#1f77b4\"},\"size\":{\"units\":\"screen\",\"value\":30},\"x\":{\"value\":1},\"y\":{\"value\":1}},\"id\":\"3767\",\"type\":\"CircleCross\"},{\"attributes\":{},\"id\":\"3952\",\"type\":\"UnionRenderers\"},{\"attributes\":{\"data_source\":{\"id\":\"3766\",\"type\":\"ColumnDataSource\"},\"glyph\":{\"id\":\"3767\",\"type\":\"CircleCross\"},\"hover_glyph\":null,\"muted_glyph\":null,\"nonselection_glyph\":{\"id\":\"3768\",\"type\":\"CircleCross\"},\"selection_glyph\":null,\"view\":{\"id\":\"3770\",\"type\":\"CDSView\"}},\"id\":\"3769\",\"type\":\"GlyphRenderer\"},{\"attributes\":{},\"id\":\"3953\",\"type\":\"Selection\"},{\"attributes\":{},\"id\":\"3751\",\"type\":\"PanTool\"},{\"attributes\":{\"label\":{\"value\":\"square_cross\"},\"renderers\":[{\"id\":\"3930\",\"type\":\"GlyphRenderer\"}]},\"id\":\"3955\",\"type\":\"LegendItem\"},{\"attributes\":{},\"id\":\"3752\",\"type\":\"WheelZoomTool\"},{\"attributes\":{\"callback\":null,\"data\":{},\"selected\":{\"id\":\"4052\",\"type\":\"Selection\"},\"selection_policy\":{\"id\":\"4051\",\"type\":\"UnionRenderers\"}},\"id\":\"3987\",\"type\":\"ColumnDataSource\"},{\"attributes\":{\"overlay\":{\"id\":\"3759\",\"type\":\"BoxAnnotation\"}},\"id\":\"3753\",\"type\":\"BoxZoomTool\"},{\"attributes\":{\"fill_alpha\":{\"value\":0.5},\"fill_color\":{\"value\":\"#1f77b4\"},\"line_alpha\":{\"value\":0.5},\"line_color\":{\"value\":\"#1f77b4\"},\"size\":{\"units\":\"screen\",\"value\":30},\"x\":{\"value\":2},\"y\":{\"value\":4}},\"id\":\"3957\",\"type\":\"SquareX\"},{\"attributes\":{},\"id\":\"3754\",\"type\":\"SaveTool\"},{\"attributes\":{\"fill_alpha\":{\"value\":0.1},\"fill_color\":{\"value\":\"#1f77b4\"},\"line_alpha\":{\"value\":0.1},\"line_color\":{\"value\":\"#1f77b4\"},\"size\":{\"units\":\"screen\",\"value\":30},\"x\":{\"value\":2},\"y\":{\"value\":4}},\"id\":\"3958\",\"type\":\"SquareX\"},{\"attributes\":{},\"id\":\"3755\",\"type\":\"ResetTool\"},{\"attributes\":{\"data_source\":{\"id\":\"3956\",\"type\":\"ColumnDataSource\"},\"glyph\":{\"id\":\"3957\",\"type\":\"SquareX\"},\"hover_glyph\":null,\"muted_glyph\":null,\"nonselection_glyph\":{\"id\":\"3958\",\"type\":\"SquareX\"},\"selection_glyph\":null,\"view\":{\"id\":\"3960\",\"type\":\"CDSView\"}},\"id\":\"3959\",\"type\":\"GlyphRenderer\"},{\"attributes\":{},\"id\":\"3756\",\"type\":\"HelpTool\"},{\"attributes\":{\"source\":{\"id\":\"3956\",\"type\":\"ColumnDataSource\"}},\"id\":\"3960\",\"type\":\"CDSView\"},{\"attributes\":{\"active_drag\":\"auto\",\"active_inspect\":\"auto\",\"active_multi\":null,\"active_scroll\":\"auto\",\"active_tap\":\"auto\",\"tools\":[{\"id\":\"3751\",\"type\":\"PanTool\"},{\"id\":\"3752\",\"type\":\"WheelZoomTool\"},{\"id\":\"3753\",\"type\":\"BoxZoomTool\"},{\"id\":\"3754\",\"type\":\"SaveTool\"},{\"id\":\"3755\",\"type\":\"ResetTool\"},{\"id\":\"3756\",\"type\":\"HelpTool\"}]},\"id\":\"3757\",\"type\":\"Toolbar\"},{\"attributes\":{},\"id\":\"3983\",\"type\":\"UnionRenderers\"},{\"attributes\":{\"bottom_units\":\"screen\",\"fill_alpha\":{\"value\":0.5},\"fill_color\":{\"value\":\"lightgrey\"},\"left_units\":\"screen\",\"level\":\"overlay\",\"line_alpha\":{\"value\":1.0},\"line_color\":{\"value\":\"black\"},\"line_dash\":[4,4],\"line_width\":{\"value\":2},\"plot\":null,\"render_mode\":\"css\",\"right_units\":\"screen\",\"top_units\":\"screen\"},\"id\":\"3759\",\"type\":\"BoxAnnotation\"},{\"attributes\":{},\"id\":\"3984\",\"type\":\"Selection\"},{\"attributes\":{\"label\":{\"value\":\"square_x\"},\"renderers\":[{\"id\":\"3959\",\"type\":\"GlyphRenderer\"}]},\"id\":\"3986\",\"type\":\"LegendItem\"},{\"attributes\":{\"source\":{\"id\":\"3766\",\"type\":\"ColumnDataSource\"}},\"id\":\"3770\",\"type\":\"CDSView\"},{\"attributes\":{\"callback\":null,\"data\":{},\"selected\":{\"id\":\"4231\",\"type\":\"Selection\"},\"selection_policy\":{\"id\":\"4230\",\"type\":\"UnionRenderers\"}},\"id\":\"4020\",\"type\":\"ColumnDataSource\"},{\"attributes\":{\"plot\":null,\"text\":\"\"},\"id\":\"3772\",\"type\":\"Title\"},{\"attributes\":{},\"id\":\"3896\",\"type\":\"UnionRenderers\"},{\"attributes\":{\"label\":{\"value\":\"square\"},\"renderers\":[{\"id\":\"3903\",\"type\":\"GlyphRenderer\"}]},\"id\":\"3926\",\"type\":\"LegendItem\"},{\"attributes\":{\"fill_alpha\":{\"value\":0.1},\"fill_color\":{\"value\":\"#1f77b4\"},\"line_alpha\":{\"value\":0.1},\"line_color\":{\"value\":\"#1f77b4\"},\"size\":{\"units\":\"screen\",\"value\":30},\"x\":{\"value\":2},\"y\":{\"value\":1}},\"id\":\"3877\",\"type\":\"InvertedTriangle\"},{\"attributes\":{\"fill_alpha\":{\"value\":0.5},\"fill_color\":{\"value\":\"#1f77b4\"},\"line_alpha\":{\"value\":0.5},\"line_color\":{\"value\":\"#1f77b4\"},\"size\":{\"units\":\"screen\",\"value\":30},\"x\":{\"value\":2},\"y\":{\"value\":5}},\"id\":\"3988\",\"type\":\"Triangle\"},{\"attributes\":{},\"id\":\"3774\",\"type\":\"BasicTickFormatter\"},{\"attributes\":{\"fill_alpha\":{\"value\":0.1},\"fill_color\":{\"value\":\"#1f77b4\"},\"line_alpha\":{\"value\":0.1},\"line_color\":{\"value\":\"#1f77b4\"},\"size\":{\"units\":\"screen\",\"value\":30},\"x\":{\"value\":2},\"y\":{\"value\":5}},\"id\":\"3989\",\"type\":\"Triangle\"},{\"attributes\":{},\"id\":\"3776\",\"type\":\"BasicTickFormatter\"},{\"attributes\":{\"data_source\":{\"id\":\"3987\",\"type\":\"ColumnDataSource\"},\"glyph\":{\"id\":\"3988\",\"type\":\"Triangle\"},\"hover_glyph\":null,\"muted_glyph\":null,\"nonselection_glyph\":{\"id\":\"3989\",\"type\":\"Triangle\"},\"selection_glyph\":null,\"view\":{\"id\":\"3991\",\"type\":\"CDSView\"}},\"id\":\"3990\",\"type\":\"GlyphRenderer\"},{\"attributes\":{\"items\":[{\"id\":\"3779\",\"type\":\"LegendItem\"},{\"id\":\"3794\",\"type\":\"LegendItem\"},{\"id\":\"3811\",\"type\":\"LegendItem\"},{\"id\":\"3830\",\"type\":\"LegendItem\"},{\"id\":\"3851\",\"type\":\"LegendItem\"},{\"id\":\"3874\",\"type\":\"LegendItem\"},{\"id\":\"3899\",\"type\":\"LegendItem\"},{\"id\":\"3926\",\"type\":\"LegendItem\"},{\"id\":\"3955\",\"type\":\"LegendItem\"},{\"id\":\"3986\",\"type\":\"LegendItem\"},{\"id\":\"4019\",\"type\":\"LegendItem\"},{\"id\":\"4054\",\"type\":\"LegendItem\"}],\"location\":\"bottom_right\",\"plot\":{\"id\":\"3732\",\"subtype\":\"Figure\",\"type\":\"Plot\"}},\"id\":\"3778\",\"type\":\"Legend\"},{\"attributes\":{\"source\":{\"id\":\"3987\",\"type\":\"ColumnDataSource\"}},\"id\":\"3991\",\"type\":\"CDSView\"},{\"attributes\":{\"label\":{\"value\":\"circle_cross\"},\"renderers\":[{\"id\":\"3769\",\"type\":\"GlyphRenderer\"}]},\"id\":\"3779\",\"type\":\"LegendItem\"},{\"attributes\":{},\"id\":\"4016\",\"type\":\"UnionRenderers\"},{\"attributes\":{\"callback\":null,\"data\":{},\"selected\":{\"id\":\"3828\",\"type\":\"Selection\"},\"selection_policy\":{\"id\":\"3827\",\"type\":\"UnionRenderers\"}},\"id\":\"3795\",\"type\":\"ColumnDataSource\"},{\"attributes\":{},\"id\":\"4017\",\"type\":\"Selection\"},{\"attributes\":{\"fill_alpha\":{\"value\":0.5},\"fill_color\":{\"value\":\"#1f77b4\"},\"line_alpha\":{\"value\":0.5},\"line_color\":{\"value\":\"#1f77b4\"},\"size\":{\"units\":\"screen\",\"value\":30},\"x\":{\"value\":1},\"y\":{\"value\":2}},\"id\":\"3781\",\"type\":\"Asterisk\"},{\"attributes\":{\"label\":{\"value\":\"triangle\"},\"renderers\":[{\"id\":\"3990\",\"type\":\"GlyphRenderer\"}]},\"id\":\"4019\",\"type\":\"LegendItem\"},{\"attributes\":{\"fill_alpha\":{\"value\":0.1},\"fill_color\":{\"value\":\"#1f77b4\"},\"line_alpha\":{\"value\":0.1},\"line_color\":{\"value\":\"#1f77b4\"},\"size\":{\"units\":\"screen\",\"value\":30},\"x\":{\"value\":1},\"y\":{\"value\":2}},\"id\":\"3782\",\"type\":\"Asterisk\"},{\"attributes\":{\"data_source\":{\"id\":\"3780\",\"type\":\"ColumnDataSource\"},\"glyph\":{\"id\":\"3781\",\"type\":\"Asterisk\"},\"hover_glyph\":null,\"muted_glyph\":null,\"nonselection_glyph\":{\"id\":\"3782\",\"type\":\"Asterisk\"},\"selection_glyph\":null,\"view\":{\"id\":\"3784\",\"type\":\"CDSView\"}},\"id\":\"3783\",\"type\":\"GlyphRenderer\"},{\"attributes\":{\"fill_alpha\":{\"value\":0.5},\"fill_color\":{\"value\":\"#1f77b4\"},\"line_alpha\":{\"value\":0.5},\"line_color\":{\"value\":\"#1f77b4\"},\"size\":{\"units\":\"screen\",\"value\":30},\"x\":{\"value\":2},\"y\":{\"value\":6}},\"id\":\"4021\",\"type\":\"X\"},{\"attributes\":{\"source\":{\"id\":\"3780\",\"type\":\"ColumnDataSource\"}},\"id\":\"3784\",\"type\":\"CDSView\"},{\"attributes\":{\"fill_alpha\":{\"value\":0.1},\"fill_color\":{\"value\":\"#1f77b4\"},\"line_alpha\":{\"value\":0.1},\"line_color\":{\"value\":\"#1f77b4\"},\"size\":{\"units\":\"screen\",\"value\":30},\"x\":{\"value\":2},\"y\":{\"value\":6}},\"id\":\"4022\",\"type\":\"X\"},{\"attributes\":{},\"id\":\"3791\",\"type\":\"UnionRenderers\"},{\"attributes\":{\"data_source\":{\"id\":\"4020\",\"type\":\"ColumnDataSource\"},\"glyph\":{\"id\":\"4021\",\"type\":\"X\"},\"hover_glyph\":null,\"muted_glyph\":null,\"nonselection_glyph\":{\"id\":\"4022\",\"type\":\"X\"},\"selection_glyph\":null,\"view\":{\"id\":\"4024\",\"type\":\"CDSView\"}},\"id\":\"4023\",\"type\":\"GlyphRenderer\"},{\"attributes\":{},\"id\":\"3792\",\"type\":\"Selection\"},{\"attributes\":{\"source\":{\"id\":\"4020\",\"type\":\"ColumnDataSource\"}},\"id\":\"4024\",\"type\":\"CDSView\"},{\"attributes\":{\"label\":{\"value\":\"asterisk\"},\"renderers\":[{\"id\":\"3783\",\"type\":\"GlyphRenderer\"}]},\"id\":\"3794\",\"type\":\"LegendItem\"},{\"attributes\":{},\"id\":\"4051\",\"type\":\"UnionRenderers\"},{\"attributes\":{\"callback\":null,\"data\":{},\"selected\":{\"id\":\"3849\",\"type\":\"Selection\"},\"selection_policy\":{\"id\":\"3848\",\"type\":\"UnionRenderers\"}},\"id\":\"3812\",\"type\":\"ColumnDataSource\"},{\"attributes\":{},\"id\":\"4052\",\"type\":\"Selection\"},{\"attributes\":{\"fill_alpha\":{\"value\":0.5},\"fill_color\":{\"value\":\"#1f77b4\"},\"line_alpha\":{\"value\":0.5},\"line_color\":{\"value\":\"#1f77b4\"},\"size\":{\"units\":\"screen\",\"value\":30},\"x\":{\"value\":1},\"y\":{\"value\":3}},\"id\":\"3796\",\"type\":\"CircleX\"},{\"attributes\":{\"label\":{\"value\":\"x\"},\"renderers\":[{\"id\":\"4023\",\"type\":\"GlyphRenderer\"}]},\"id\":\"4054\",\"type\":\"LegendItem\"},{\"attributes\":{\"fill_alpha\":{\"value\":0.1},\"fill_color\":{\"value\":\"#1f77b4\"},\"line_alpha\":{\"value\":0.1},\"line_color\":{\"value\":\"#1f77b4\"},\"size\":{\"units\":\"screen\",\"value\":30},\"x\":{\"value\":1},\"y\":{\"value\":3}},\"id\":\"3797\",\"type\":\"CircleX\"},{\"attributes\":{\"data_source\":{\"id\":\"3795\",\"type\":\"ColumnDataSource\"},\"glyph\":{\"id\":\"3796\",\"type\":\"CircleX\"},\"hover_glyph\":null,\"muted_glyph\":null,\"nonselection_glyph\":{\"id\":\"3797\",\"type\":\"CircleX\"},\"selection_glyph\":null,\"view\":{\"id\":\"3799\",\"type\":\"CDSView\"}},\"id\":\"3798\",\"type\":\"GlyphRenderer\"},{\"attributes\":{},\"id\":\"4230\",\"type\":\"UnionRenderers\"},{\"attributes\":{\"source\":{\"id\":\"3795\",\"type\":\"ColumnDataSource\"}},\"id\":\"3799\",\"type\":\"CDSView\"}],\"root_ids\":[\"3732\"]},\"title\":\"Bokeh Application\",\"version\":\"1.0.4\"}};\n",
       "  var render_items = [{\"docid\":\"9f378f8c-615a-45a9-8a83-f685a99230da\",\"roots\":{\"3732\":\"78437d7c-7346-41fe-a3c4-cb63e152351e\"}}];\n",
       "  root.Bokeh.embed.embed_items_notebook(docs_json, render_items);\n",
       "\n",
       "  }\n",
       "  if (root.Bokeh !== undefined) {\n",
       "    embed_document(root);\n",
       "  } else {\n",
       "    var attempts = 0;\n",
       "    var timer = setInterval(function(root) {\n",
       "      if (root.Bokeh !== undefined) {\n",
       "        embed_document(root);\n",
       "        clearInterval(timer);\n",
       "      }\n",
       "      attempts++;\n",
       "      if (attempts > 100) {\n",
       "        console.log(\"Bokeh: ERROR: Unable to run BokehJS code because BokehJS library is missing\");\n",
       "        clearInterval(timer);\n",
       "      }\n",
       "    }, 10, root)\n",
       "  }\n",
       "})(window);"
      ],
      "application/vnd.bokehjs_exec.v0+json": ""
     },
     "metadata": {
      "application/vnd.bokehjs_exec.v0+json": {
       "id": "3732"
      }
     },
     "output_type": "display_data"
    }
   ],
   "source": [
    "# 3、不同符号的散点图\n",
    "# asterisk(), circle(), circle_cross(), circle_x(), cross(), diamond(), diamond_cross(), inverted_triangle()\n",
    "# square(), square_cross(), square_x(), triangle(), x()\n",
    "\n",
    "p = figure(plot_width=600, plot_height=400,x_range = [0,3], y_range = [0,7])\n",
    "\n",
    "p.circle_cross(1, 1, size = 30, alpha = 0.5, legend = 'circle_cross')\n",
    "p.asterisk(1, 2, size = 30, alpha = 0.5, legend = 'asterisk')\n",
    "p.circle_x(1, 3, size = 30, alpha = 0.5, legend = 'circle_x')\n",
    "p.cross(1, 4, size = 30, alpha = 0.5, legend = 'cross')\n",
    "p.diamond(1, 5, size = 30, alpha = 0.5, legend = 'diamond')\n",
    "p.diamond_cross(1, 6, size = 30, alpha = 0.5, legend = 'diamond_cross')\n",
    "p.inverted_triangle(2, 1, size = 30, alpha = 0.5, legend = 'inverted_triangle')\n",
    "p.square(2, 2, size = 30, alpha = 0.5, legend = 'square')\n",
    "p.square_cross(2, 3, size = 30, alpha = 0.5, legend = 'square_cross')\n",
    "p.square_x(2, 4, size = 30, alpha = 0.5, legend = 'square_x')\n",
    "p.triangle(2, 5, size = 30, alpha = 0.5, legend = 'triangle')\n",
    "p.x(2, 6, size = 30, alpha = 0.5, legend = 'x')\n",
    "\n",
    "p.legend.location = \"bottom_right\"\n",
    "# 设置图例位置\n",
    "\n",
    "show(p)\n",
    "# 详细参数可参考文档：http://bokeh.pydata.org/en/latest/docs/reference/plotting.html#bokeh.plotting.figure.Figure.circle"
   ]
  }
 ],
 "metadata": {
  "kernelspec": {
   "display_name": "Python 3",
   "language": "python",
   "name": "python3"
  },
  "language_info": {
   "codemirror_mode": {
    "name": "ipython",
    "version": 3
   },
   "file_extension": ".py",
   "mimetype": "text/x-python",
   "name": "python",
   "nbconvert_exporter": "python",
   "pygments_lexer": "ipython3",
   "version": "3.7.2"
  }
 },
 "nbformat": 4,
 "nbformat_minor": 2
}
