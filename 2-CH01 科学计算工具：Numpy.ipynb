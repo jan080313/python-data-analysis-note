{
 "cells": [
  {
   "cell_type": "code",
   "execution_count": 1,
   "metadata": {},
   "outputs": [
    {
     "data": {
      "text/plain": [
       "'\\n【课程1.2】  Numpy基础数据结构\\n\\nNumPy数组是一个多维数组对象，称为ndarray。其由两部分组成：\\n① 实际的数据\\n② 描述这些数据的元数据\\n\\n'"
      ]
     },
     "execution_count": 1,
     "metadata": {},
     "output_type": "execute_result"
    }
   ],
   "source": [
    "'''\n",
    "【课程1.2】  Numpy基础数据结构\n",
    "\n",
    "NumPy数组是一个多维数组对象，称为ndarray。其由两部分组成：\n",
    "① 实际的数据\n",
    "② 描述这些数据的元数据\n",
    "\n",
    "'''"
   ]
  },
  {
   "cell_type": "code",
   "execution_count": 17,
   "metadata": {},
   "outputs": [
    {
     "name": "stdout",
     "output_type": "stream",
     "text": [
      "[1, 2, 3, 4, 5, 6]\n",
      "[[1 2 3 4 5 6]\n",
      " [2 3 4 5 6 7]\n",
      " [3 4 5 6 7 8]] <class 'numpy.ndarray'>\n",
      "2\n",
      "(3, 6)\n",
      "18\n",
      "<class 'numpy.ndarray'> int32\n",
      "4\n",
      "<memory at 0x000000000539F708>\n",
      "-------------\n",
      "[[1 2 3 4 5 6]\n",
      " [2 3 4 5 6 7]\n",
      " [3 4 5 6 7 8]]\n"
     ]
    },
    {
     "data": {
      "text/plain": [
       "array([[1, 2, 3, 4, 5, 6],\n",
       "       [2, 3, 4, 5, 6, 7],\n",
       "       [3, 4, 5, 6, 7, 8]])"
      ]
     },
     "execution_count": 17,
     "metadata": {},
     "output_type": "execute_result"
    }
   ],
   "source": [
    "# 多维数组ndarray\n",
    "\n",
    "import numpy as np\n",
    "\n",
    "ar = np.array([[1,2,3,4,5,6],[2,3,4,5,6,7],[3,4,5,6,7,8]])\n",
    "print([1,2,3,4,5,6])\n",
    "print(ar,type(ar))    #与列表不同，数据之间没哟逗号（，）隔开，类型也是ndaaray类型\n",
    "\n",
    "print(ar.ndim)       #数组的轴数(维度)，一维数组为1 二维数组为2     例如([1,2,3,4],[2,3,4,5])为二维数组\n",
    "print(ar.shape)      #数组的维度，对于n行m列的数组，shape为（n，m）\n",
    "print(ar.size)       # 数组的元素总数，对于n行m列的数组，元素总数为n*m\n",
    "print(type(ar),ar.dtype)   # 数组中元素的类型，类似type()（注意了，type()是函数，.dtype是方法）\n",
    "print(ar.itemsize)   #数组中每个元素的字节大小，int32类型字节为4，float64的字节为8\n",
    "print(ar.data)       #包含实际数组元素的缓冲区，由于一般通过数组的索引获取元素，所以通常不需要使用这个属性。\n",
    "print('-------------')\n",
    "print(ar)\n",
    "ar"
   ]
  },
  {
   "cell_type": "code",
   "execution_count": 27,
   "metadata": {},
   "outputs": [
    {
     "name": "stdout",
     "output_type": "stream",
     "text": [
      "[0 1 2 3 4 5 6 7 8 9]\n",
      "[0 1 2 3 4 5 6 7 8 9]\n",
      "[1 2 3 4 5]\n",
      "[[1 2 3 4 5]\n",
      " [1 2 3 4 5]]\n",
      "[[0.17193211 0.9569882  0.36246706 0.6199801  0.04058608]\n",
      " [0.26195579 0.83697624 0.24429113 0.34412666 0.77470879]]\n"
     ]
    }
   ],
   "source": [
    "# 创建数组：array()函数，括号内可以是列表、元祖、数组、生成器等\n",
    "\n",
    "ar1 = np.array(range(10))\n",
    "ar2 = np.arange(10)\n",
    "ar3 = np.array([1,2,3,4,5])\n",
    "ar4 = np.array([[1,2,3,4,5],[1,2,3,4,5]])      #两个列表数据数量一致时才会是二维数组，否则是一维数组  #二维数组：嵌套序列（列表，元祖均可）\n",
    "print(ar1)\n",
    "print(ar2)\n",
    "print(ar3)\n",
    "print(ar4)\n",
    "print(np.random.rand(10).reshape(2,5))      #用随机数生成数组"
   ]
  },
  {
   "cell_type": "code",
   "execution_count": 28,
   "metadata": {},
   "outputs": [
    {
     "name": "stdout",
     "output_type": "stream",
     "text": [
      "[0 1 2 3 4 5 6 7 8 9]\n",
      "[0. 1. 2. 3. 4. 5. 6. 7. 8. 9.]\n",
      "[ 5  6  7  8  9 10 11]\n",
      "[ 5.  7.  9. 11.]\n",
      "[   0    1    2 ... 9997 9998 9999]\n"
     ]
    }
   ],
   "source": [
    "# 创建数组：arange()，类似range()，在给定间隔内返回均匀间隔的值。\n",
    "\n",
    "print(np.arange(10))    # 返回0-9，整型\n",
    "print(np.arange(10.0))  # 返回0.0-9.0，浮点型\n",
    "print(np.arange(5,12))  # 返回5-11\n",
    "print(np.arange(5.0,12,2))  # 返回5.0-12.0，步长为2\n",
    "print(np.arange(10000))  # 如果数组太大而无法打印，NumPy会自动跳过数组的中心部分，并只打印边角："
   ]
  },
  {
   "cell_type": "code",
   "execution_count": 35,
   "metadata": {},
   "outputs": [
    {
     "name": "stdout",
     "output_type": "stream",
     "text": [
      "[10.  10.5 11.  11.5 12.  12.5 13.  13.5 14.  14.5 15.  15.5 16.  16.5\n",
      " 17.  17.5 18.  18.5 19.  19.5 20. ]\n",
      "(array([10. , 10.5, 11. , 11.5, 12. , 12.5, 13. , 13.5, 14. , 14.5, 15. ,\n",
      "       15.5, 16. , 16.5, 17. , 17.5, 18. , 18.5, 19. , 19.5, 20. ]), 0.5)\n"
     ]
    }
   ],
   "source": [
    "# 创建数组：linspace():返回在间隔[开始，停止]上计算的num个均匀间隔的样本。\n",
    "\n",
    "print(np.linspace(10,20,num = 21))\n",
    "#print(np.linspace(10,20,num = 21,endpoint = False))    #endpoint默认为True 如果为False则不包括最后一个值\n",
    "print(np.linspace(10,20,num = 21,retstep = True))       #retstep默认为True 如果为True输出的是元祖，并且也输出步长"
   ]
  },
  {
   "cell_type": "code",
   "execution_count": 49,
   "metadata": {},
   "outputs": [
    {
     "name": "stdout",
     "output_type": "stream",
     "text": [
      "[[0 0 0 0 0]\n",
      " [0 0 0 0 0]]\n",
      "[[ 0  1  2  3  4  5  6  7  8  9]\n",
      " [10 11 12 13 14 15 16 17 18 19]]\n",
      "[[0 0 0 0 0 0 0 0 0 0]\n",
      " [0 0 0 0 0 0 0 0 0 0]]\n",
      "---------------------------------------\n",
      "[1. 1. 1. 1. 1. 1. 1. 1. 1.]\n",
      "[[[1. 1. 1. 1.]\n",
      "  [1. 1. 1. 1.]\n",
      "  [1. 1. 1. 1.]]\n",
      "\n",
      " [[1. 1. 1. 1.]\n",
      "  [1. 1. 1. 1.]\n",
      "  [1. 1. 1. 1.]]]\n",
      "[[1 1 1 1 1 1 1 1 1 1]\n",
      " [1 1 1 1 1 1 1 1 1 1]]\n"
     ]
    }
   ],
   "source": [
    "# 创建数组：zeros()/zeros_like()/ones()/ones_like()\n",
    "\n",
    "print(np.zeros((2,5),dtype = np.int))   #创建一个数组用0填充\n",
    "\n",
    "ar = np.array([list(range(10)),list(range(10,20))])\n",
    "print(ar)\n",
    "print(np.zeros_like(ar))\n",
    "print('---------------------------------------')\n",
    "ar5 = np.ones(9)\n",
    "ar6 = np.ones((2,3,4))\n",
    "ar7 = np.ones_like(ar)\n",
    "print(ar5)\n",
    "print(ar6)\n",
    "print(ar7)\n",
    "# ones()/ones_like()和zeros()/zeros_like()一样，只是填充为1"
   ]
  },
  {
   "cell_type": "code",
   "execution_count": 55,
   "metadata": {},
   "outputs": [
    {
     "name": "stdout",
     "output_type": "stream",
     "text": [
      "[[1. 0. 0. 0. 0.]\n",
      " [0. 1. 0. 0. 0.]\n",
      " [0. 0. 1. 0. 0.]\n",
      " [0. 0. 0. 1. 0.]\n",
      " [0. 0. 0. 0. 1.]]\n"
     ]
    }
   ],
   "source": [
    "# 创建数组：eye()\n",
    "\n",
    "print(np.eye(5))\n",
    "# 创建一个正方的N*N的单位矩阵，对角线值为1，其余为0"
   ]
  },
  {
   "cell_type": "code",
   "execution_count": 59,
   "metadata": {},
   "outputs": [
    {
     "name": "stdout",
     "output_type": "stream",
     "text": [
      "[1 2 'a' 'hello' list([1, 2, 3]) {'two': 200, 'one': 100}] (6,)\n",
      "[['0' '1' '2' '3' '4' '5']\n",
      " ['a' 'b' 'c' 'd' 'e' 'f']\n",
      " ['True' 'False' 'True' 'False' 'True' 'True']] (3, 6)\n"
     ]
    }
   ],
   "source": [
    "#1.2作业\n",
    "#作业1：分别按照要求，生成一个一维数组、二维数组，并且查看其shape\n",
    "import numpy as np\n",
    "a1 = np.array([1,2,'a','hello',[1,2,3],{'two':200,'one':100}])\n",
    "print(a1,a1.shape)\n",
    "\n",
    "a2 = np.array([['0','1','2','3','4','5'],['a','b','c','d','e','f'],['True','False','True','False','True','True']])\n",
    "print(a2,a2.shape)"
   ]
  },
  {
   "cell_type": "code",
   "execution_count": 61,
   "metadata": {},
   "outputs": [
    {
     "name": "stdout",
     "output_type": "stream",
     "text": [
      "[ 5  6  7  8  9 10 11 12 13 14]\n"
     ]
    }
   ],
   "source": [
    "#作业2：生成一个一维数组，起始值为5，终点值为15，样本数为10个\n",
    "print(np.arange(5,15))"
   ]
  },
  {
   "cell_type": "code",
   "execution_count": 71,
   "metadata": {},
   "outputs": [
    {
     "name": "stdout",
     "output_type": "stream",
     "text": [
      "[[0. 0. 0. 0.]\n",
      " [0. 0. 0. 0.]\n",
      " [0. 0. 0. 0.]\n",
      " [0. 0. 0. 0.]]\n",
      "--------\n",
      "[[1. 1. 1.]\n",
      " [1. 1. 1.]]\n",
      "--------\n",
      "[[1. 0. 0.]\n",
      " [0. 1. 0.]\n",
      " [0. 0. 1.]]\n"
     ]
    }
   ],
   "source": [
    "print(np.zeros((4,4)))\n",
    "print('--------')\n",
    "print(np.ones((2,3)))\n",
    "print('--------')\n",
    "print(np.eye(3))"
   ]
  },
  {
   "cell_type": "code",
   "execution_count": 72,
   "metadata": {},
   "outputs": [
    {
     "data": {
      "text/plain": [
       "'\\n【课程1.3】  Numpy通用函数\\n\\n基本操作\\n\\n'"
      ]
     },
     "execution_count": 72,
     "metadata": {},
     "output_type": "execute_result"
    }
   ],
   "source": [
    "'''\n",
    "【课程1.3】  Numpy通用函数\n",
    "\n",
    "基本操作\n",
    "\n",
    "'''"
   ]
  },
  {
   "cell_type": "code",
   "execution_count": 81,
   "metadata": {},
   "outputs": [
    {
     "name": "stdout",
     "output_type": "stream",
     "text": [
      "[ 0  1  2  3  4  5  6  7  8  9 10 11 12 13 14 15]\n",
      "[[0. 0. 0. 0. 0.]\n",
      " [0. 0. 0. 0. 0.]]\n",
      "[ 0  1  2  3  4  5  6  7  8  9 10 11 12 13 14 15]\n",
      "[[0. 0.]\n",
      " [0. 0.]\n",
      " [0. 0.]\n",
      " [0. 0.]\n",
      " [0. 0.]]\n",
      "[[ 0  1]\n",
      " [ 2  3]\n",
      " [ 4  5]\n",
      " [ 6  7]\n",
      " [ 8  9]\n",
      " [10 11]\n",
      " [12 13]\n",
      " [14 15]]\n",
      "[[1. 1. 1. 1. 1. 1. 1. 1. 1. 1. 1. 1. 1. 1. 1. 1. 1. 1. 1. 1.]\n",
      " [1. 1. 1. 1. 1. 1. 1. 1. 1. 1. 1. 1. 1. 1. 1. 1. 1. 1. 1. 1.]\n",
      " [1. 1. 1. 1. 1. 1. 1. 1. 1. 1. 1. 1. 1. 1. 1. 1. 1. 1. 1. 1.]\n",
      " [1. 1. 1. 1. 1. 1. 1. 1. 1. 1. 1. 1. 1. 1. 1. 1. 1. 1. 1. 1.]\n",
      " [1. 1. 1. 1. 1. 1. 1. 1. 1. 1. 1. 1. 1. 1. 1. 1. 1. 1. 1. 1.]]\n",
      "[[ 0  1  2  3  4  5  6  7]\n",
      " [ 8  9 10 11 12 13 14 15]]\n",
      "-------------------------\n",
      "[[0 1 2 3]\n",
      " [4 0 1 2]\n",
      " [3 4 0 1]]\n"
     ]
    }
   ],
   "source": [
    "# 数组形状：.T/.reshape()/.resize()\n",
    "\n",
    "ar1 = np.arange(16)\n",
    "ar2 = np.zeros((2,5))\n",
    "print(ar1)\n",
    "print(ar2)\n",
    "print(ar1.T)\n",
    "print(ar2.T)\n",
    "# .T方法：转置，例如原shape为(3,4)/(2,3,4)，转置结果为(4,3)/(4,3,2) → 所以一维数组转置后结果不变\n",
    "\n",
    "print(ar1.reshape(8,2))                 #用法1：直接将已有数组改变形状 \n",
    "print(np.ones((10,10)).reshape(5,20))   #用法2：生成数组后直接改变形状\n",
    "print(np.reshape(np.arange(16),(2,8)))  #用法3：参数内添加数组，目标形状\n",
    "# numpy.reshape(a, newshape, order='C')：为数组提供新形状，而不更改其数据，所以元素数量需要一致！！\n",
    "print('-------------------------')\n",
    "\n",
    "print(np.resize(np.arange(5),(3,4)))\n",
    "# numpy.resize(a, new_shape)：返回具有指定形状的新数组，如有必要可重复填充所需数量的元素。\n",
    "# 注意了：.T/.reshape()/.resize()都是生成新的数组！！！"
   ]
  },
  {
   "cell_type": "code",
   "execution_count": 82,
   "metadata": {},
   "outputs": [
    {
     "name": "stdout",
     "output_type": "stream",
     "text": [
      "[[0. 0. 0. 0. 0.]\n",
      " [0. 0. 0. 0. 0.]]\n",
      "------\n",
      "[0. 0. 0. 0. 0. 0. 0. 0. 0. 0.]\n",
      "[[0. 0. 0. 0. 0.]\n",
      " [0. 0. 0. 0. 0.]]\n"
     ]
    }
   ],
   "source": [
    "ar2 = np.zeros((2,5))\n",
    "print(ar2)\n",
    "print('------')\n",
    "print(ar2.reshape(10))\n",
    "print(ar2)\n",
    "# 注意了：.T/.reshape()/.resize()都是生成新的数组！！！"
   ]
  },
  {
   "cell_type": "code",
   "execution_count": 93,
   "metadata": {},
   "outputs": [
    {
     "name": "stdout",
     "output_type": "stream",
     "text": [
      "True\n",
      "[  0   1 100   3   4   5   6   7   8   9] [  0   1 100   3   4   5   6   7   8   9]\n",
      "[   0    1  100 1000    4    5    6    7    8    9] [  0   1 100   3   4   5   6   7   8   9]\n",
      "[[0 1 2 3 4 5]\n",
      " [6 7 8 9 0 1]]\n",
      "None\n",
      "[[0 1 2 3 4 5]\n",
      " [6 7 8 9 0 0]]\n"
     ]
    }
   ],
   "source": [
    "# 数组的复制\n",
    "\n",
    "ar1 = np.arange(10)\n",
    "ar2 = ar1\n",
    "print(ar1 is ar2)\n",
    "ar1[2] = 100\n",
    "ar1\n",
    "print(ar1,ar2)\n",
    "# 回忆python的赋值逻辑：指向内存中生成的一个值 → 这里ar1和ar2指向同一个值，所以ar1改变，ar2一起改变\n",
    "\n",
    "ar3 = ar1.copy()\n",
    "ar1[3] = 1000\n",
    "print(ar1,ar3)\n",
    "# copy方法生成数组及其数据的完整拷贝\n",
    "# 再次提醒：.T/.reshape()/.resize()都是生成新的数组！！！\n",
    "s = np.arange(10)\n",
    "print(np.resize(s,(2,6)))   #用np.resize会生成新的数组\n",
    "print(s.resize(2,6))        #而用数组.resize输出的为None代表这个函数改变了原数据\n",
    "print(s)"
   ]
  },
  {
   "cell_type": "code",
   "execution_count": 98,
   "metadata": {},
   "outputs": [
    {
     "name": "stdout",
     "output_type": "stream",
     "text": [
      "[0. 1. 2. 3. 4. 5. 6. 7. 8. 9.] float64\n",
      "[0 1 2 3 4 5 6 7 8 9] int64\n"
     ]
    }
   ],
   "source": [
    "# 数组类型转换：.astype()\n",
    "\n",
    "ar1= np.arange(10,dtype = float)\n",
    "ar2 = ar1.astype(np.int64)\n",
    "print(ar1,ar1.dtype)\n",
    "print(ar2,ar2.dtype)\n",
    "# a.astype()：转换数组类型"
   ]
  },
  {
   "cell_type": "code",
   "execution_count": 121,
   "metadata": {},
   "outputs": [
    {
     "name": "stdout",
     "output_type": "stream",
     "text": [
      "[0 1 2 3 4]\n",
      "[5 6 7 8]\n",
      "[0 1 2 3 4 5 6 7 8]\n",
      "---------------\n",
      "[[1]\n",
      " [2]\n",
      " [3]]\n",
      "[['a']\n",
      " ['b']\n",
      " ['c']]\n",
      "[['1']\n",
      " ['2']\n",
      " ['3']\n",
      " ['a']\n",
      " ['b']\n",
      " ['c']]\n",
      "--------------\n",
      "[[0 5]\n",
      " [1 6]\n",
      " [2 7]\n",
      " [3 8]\n",
      " [4 9]]\n",
      "[[0 1 2 3 4]\n",
      " [5 6 7 8 9]]\n"
     ]
    }
   ],
   "source": [
    "# 数组堆叠\n",
    "\n",
    "a = np.arange(5)\n",
    "b = np.arange(5,9)\n",
    "print(a)\n",
    "print(b)\n",
    "print(np.hstack((a,b)))     #.hstack横向连接\n",
    "print('---------------')\n",
    "\n",
    "a = np.array([[1],[2],[3]])\n",
    "b = np.array([['a'],['b'],['c']])\n",
    "print(a)\n",
    "print(b)\n",
    "print(np.vstack((a,b)))    #.vstack纵向向连接\n",
    "print('--------------')\n",
    "\n",
    "a = np.arange(5)\n",
    "b = np.arange(5,10)\n",
    "print(np.stack((a,b),axis = 1))     #axis默认为0，进行纵向连接，为1时，是横向连接\n",
    "print(np.stack((a,b)))"
   ]
  },
  {
   "cell_type": "code",
   "execution_count": 129,
   "metadata": {},
   "outputs": [
    {
     "name": "stdout",
     "output_type": "stream",
     "text": [
      "[[ 0  1  2  3]\n",
      " [ 4  5  6  7]\n",
      " [ 8  9 10 11]\n",
      " [12 13 14 15]]\n",
      "[[ 0  1]\n",
      " [ 4  5]\n",
      " [ 8  9]\n",
      " [12 13]]\n",
      "[array([[0, 1, 2, 3]]), array([[4, 5, 6, 7]]), array([[ 8,  9, 10, 11]]), array([[12, 13, 14, 15]])]\n"
     ]
    }
   ],
   "source": [
    "# 数组拆分 \n",
    "\n",
    "ar = np.arange(16).reshape(4,4)\n",
    "print(ar)\n",
    "print(np.hsplit(ar,2)[0])     #横向拆分\n",
    "print(np.vsplit(ar,4))     #纵向拆分"
   ]
  },
  {
   "cell_type": "code",
   "execution_count": 132,
   "metadata": {},
   "outputs": [
    {
     "name": "stdout",
     "output_type": "stream",
     "text": [
      "[[0 1 2]\n",
      " [3 4 5]]\n",
      "[[10 11 12]\n",
      " [13 14 15]]\n",
      "[[ 0  2  4]\n",
      " [ 6  8 10]]\n",
      "[[1.         0.5        0.33333333]\n",
      " [0.25       0.2        0.16666667]]\n",
      "[[0.         1.         1.41421356]\n",
      " [1.73205081 2.         2.23606798]]\n",
      "2.5\n",
      "5\n",
      "0\n",
      "1.707825127659933\n",
      "2.9166666666666665\n",
      "15 [3 5 7]\n",
      "[1 2 3 4 5 6]\n"
     ]
    }
   ],
   "source": [
    "# 数组简单运算\n",
    "\n",
    "ar = np.arange(6).reshape(2,3)\n",
    "print(ar)\n",
    "print(ar + 10)   # 加法\n",
    "print(ar * 2)   # 乘法\n",
    "print(1 / (ar+1))  # 除法\n",
    "print(ar ** 0.5)  # 幂\n",
    "# 与标量的运算\n",
    "\n",
    "print(ar.mean())  # 求平均值\n",
    "print(ar.max())  # 求最大值\n",
    "print(ar.min())  # 求最小值\n",
    "print(ar.std())  # 求标准差\n",
    "print(ar.var())  # 求方差\n",
    "print(ar.sum(), np.sum(ar,axis = 0))  # 求和，np.sum() → axis为0，按列求和；axis为1，按行求和\n",
    "print(np.sort(np.array([1,4,3,2,5,6])))  # 排序\n",
    "# 常用函数"
   ]
  },
  {
   "cell_type": "code",
   "execution_count": 139,
   "metadata": {},
   "outputs": [
    {
     "name": "stdout",
     "output_type": "stream",
     "text": [
      "[ 0  1  2  3  4  5  6  7  8  9 10 11 12 13 14 15 16 17 18 19]\n",
      "[[ 0  1  2  3  4]\n",
      " [ 5  6  7  8  9]\n",
      " [10 11 12 13 14]\n",
      " [15 16 17 18 19]]\n",
      "[[ 0  1  2  3  4  5]\n",
      " [ 6  7  8  9 10 11]\n",
      " [12 13 14 15 16 17]\n",
      " [18 19  0  1  2  3]\n",
      " [ 4  5  6  7  8  9]]\n"
     ]
    }
   ],
   "source": [
    "#1.3作业\n",
    "#作业1：创建一个20个元素的数组，分别改变成两个形状：(4,5),(5,6) （提示：超出范围用resize）\n",
    "n = np.arange(20)\n",
    "print(n)\n",
    "print(np.reshape(n,(4,5)))\n",
    "print(np.resize(n,(5,6)))"
   ]
  },
  {
   "cell_type": "code",
   "execution_count": 144,
   "metadata": {},
   "outputs": [
    {
     "name": "stdout",
     "output_type": "stream",
     "text": [
      "[['0' '1' '2' '3']\n",
      " ['4' '5' '6' '7']\n",
      " ['8' '9' '10' '11']\n",
      " ['12' '13' '14' '15']]\n"
     ]
    }
   ],
   "source": [
    "#作业2：创建一个(4,4)的数组，把其元素类型改为字符型\n",
    "n = np.reshape(np.arange(16),(4,4))\n",
    "print(n.astype(np.str))"
   ]
  },
  {
   "cell_type": "code",
   "execution_count": 151,
   "metadata": {},
   "outputs": [
    {
     "name": "stdout",
     "output_type": "stream",
     "text": [
      "[[ 0  1  2  3]\n",
      " [ 4  5  6  7]\n",
      " [ 8  9 10 11]\n",
      " [12 13 14 15]]\n",
      "[[100 110 120 130]\n",
      " [140 150 160 170]\n",
      " [180 190 200 210]\n",
      " [220 230 240 250]]\n",
      "175.0\n",
      "2800\n"
     ]
    }
   ],
   "source": [
    "#作业3：根据要求创建数组，运用数组的运算方法得到结果：result = ar * 10 +100，并求出result的均值及求和\n",
    "n = np.resize(np.arange(16),(4,4))\n",
    "print(n)\n",
    "result = n*10 +100\n",
    "print(result)\n",
    "print(result.mean())\n",
    "print(result.sum())"
   ]
  },
  {
   "cell_type": "code",
   "execution_count": 152,
   "metadata": {},
   "outputs": [
    {
     "data": {
      "text/plain": [
       "'\\n【课程1.4】  Numpy索引及切片\\n\\n核心：基本索引及切片 / 布尔型索引及切片\\n\\n'"
      ]
     },
     "execution_count": 152,
     "metadata": {},
     "output_type": "execute_result"
    }
   ],
   "source": [
    "'''\n",
    "【课程1.4】  Numpy索引及切片\n",
    "\n",
    "核心：基本索引及切片 / 布尔型索引及切片\n",
    "\n",
    "'''"
   ]
  },
  {
   "cell_type": "code",
   "execution_count": 182,
   "metadata": {},
   "outputs": [
    {
     "name": "stdout",
     "output_type": "stream",
     "text": [
      "[ 0  1  2  3  4  5  6  7  8  9 10 11 12 13 14 15 16 17 18 19]\n",
      "4\n",
      "[0 1 2]\n",
      "[ 0  2  4  6  8 10 12 14 16 18]\n",
      "--------------------\n",
      "[[ 0  1  2  3]\n",
      " [ 4  5  6  7]\n",
      " [ 8  9 10 11]\n",
      " [12 13 14 15]]\n",
      "--------------------\n",
      "[ 8  9 10 11]\n",
      "11\n",
      "--------------------\n",
      "[[ 4  5  6  7]\n",
      " [ 8  9 10 11]]\n",
      "10\n",
      "[[2 3]]\n",
      "--------------------\n",
      "[[[ 0  1]\n",
      "  [ 2  3]]\n",
      "\n",
      " [[ 4  5]\n",
      "  [ 6  7]]\n",
      "\n",
      " [[ 8  9]\n",
      "  [10 11]]]\n",
      "--------------------\n",
      "[[ 8  9]\n",
      " [10 11]]\n",
      "[10 11]\n",
      "10\n"
     ]
    }
   ],
   "source": [
    "#基本索引和切片\n",
    "\n",
    "ar = np.arange(20)\n",
    "print(ar)\n",
    "print(ar[4])\n",
    "print(ar[:3])\n",
    "print(ar[::2])\n",
    "#一维数组类似list\n",
    "print('--------------------')\n",
    "\n",
    "ar = np.arange(16).reshape(4,4)\n",
    "print(ar)\n",
    "print('--------------------')\n",
    "print(ar[2])      #二维数组中 第一个索引的值a代表第a行  第二个索引的值b代表第b列\n",
    "print(ar[2][3])\n",
    "print('--------------------')\n",
    "print(ar[1:3])     #代表第二第三行    左开右闭\n",
    "print(ar[2,2])\n",
    "print(ar[:1,2:])\n",
    "#二维数组索引 先行后列\n",
    "print('--------------------')\n",
    "\n",
    "ar = np.arange(12).reshape(3,2,2)    #代表有三个两行两列\n",
    "print(ar)\n",
    "print('--------------------')\n",
    "print(ar[2])\n",
    "print(ar[2][1])\n",
    "print(ar[2][1][0])\n",
    "#三维数组的索引\n",
    "\n",
    "#数组的索引与切片与序列相似，要注意不同维数需要用不同的中括号"
   ]
  },
  {
   "cell_type": "code",
   "execution_count": 194,
   "metadata": {},
   "outputs": [
    {
     "name": "stdout",
     "output_type": "stream",
     "text": [
      "[[ 0  1  2  3]\n",
      " [ 4  5  6  7]\n",
      " [ 8  9 10 11]]\n",
      "[ True False  True]\n",
      "[ True  True False False]\n",
      "[[ 0  1  2  3]\n",
      " [ 8  9 10 11]]\n",
      "[[0 1]\n",
      " [4 5]\n",
      " [8 9]]\n",
      "-----------------------\n",
      "[[False False False False]\n",
      " [False False  True  True]\n",
      " [ True  True  True  True]] <class 'numpy.ndarray'>\n",
      "[ 6  7  8  9 10 11]\n"
     ]
    },
    {
     "data": {
      "text/plain": [
       "array([ 6,  7,  8,  9, 10, 11])"
      ]
     },
     "execution_count": 194,
     "metadata": {},
     "output_type": "execute_result"
    }
   ],
   "source": [
    "# 布尔型索引及切片\n",
    "\n",
    "ar = np.arange(12).reshape(3,4)\n",
    "print(ar)\n",
    "i = np.array([True,False,True])\n",
    "j = np.array([True,True,False,False])\n",
    "print(i)\n",
    "print(j)\n",
    "print(ar[i,:])  # 在第一维度做判断，只保留True，这里第一维度就是行，ar[i,:] = ar[i]（简单书写格式）\n",
    "print(ar[:,j])  # 在第二维度做判断，这里如果ar[:,i]会有警告，因为i是3个元素，而ar在列上有4个\n",
    "# 布尔型索引：以布尔型的矩阵去做筛选\n",
    "print('-----------------------')\n",
    "\n",
    "print(ar>5,type(ar>5))\n",
    "print(ar[ar>5])\n",
    "m = ar>5\n",
    "ar[m]   #效果一样"
   ]
  },
  {
   "cell_type": "code",
   "execution_count": 196,
   "metadata": {},
   "outputs": [
    {
     "name": "stdout",
     "output_type": "stream",
     "text": [
      "[0 1 2 3 4 5 6 7 8 9]\n",
      "[  0   1   2   3   4 100   6 200 200   9]\n",
      "[0 1 2 3 4 5 6 7 8 9]\n",
      "[  0   1   2   3   4   5   6 200 200   9]\n"
     ]
    }
   ],
   "source": [
    "# 数组索引及切片的值更改、复制\n",
    "\n",
    "ar = np.arange(10)\n",
    "print(ar)\n",
    "ar[5] = 100\n",
    "ar[7:9] = 200\n",
    "print(ar)\n",
    "# 一个标量赋值给一个索引/切片时，会自动改变/传播原始数组\n",
    "\n",
    "ar = np.arange(10)\n",
    "b = ar.copy()\n",
    "b[7:9] = 200\n",
    "print(ar)\n",
    "print(b)\n",
    "# 复制"
   ]
  },
  {
   "cell_type": "code",
   "execution_count": 202,
   "metadata": {},
   "outputs": [
    {
     "name": "stdout",
     "output_type": "stream",
     "text": [
      "[[ 0  1  2  3  4]\n",
      " [ 5  6  7  8  9]\n",
      " [10 11 12 13 14]\n",
      " [15 16 17 18 19]\n",
      " [20 21 22 23 24]]\n",
      "---------------\n",
      "[20 21 22 23 24]\n",
      "[[3 4]\n",
      " [8 9]]\n",
      "17\n"
     ]
    }
   ],
   "source": [
    "#1.4作业\n",
    "#作业1：按照要求创建数组，通过索引，其ar[4]、ar[:2,3:]、ar[3][2]分别是多少\n",
    "ar = np.arange(25).reshape(5,5)\n",
    "print(ar)\n",
    "print('---------------')\n",
    "print(ar[4])\n",
    "print(ar[:2,3:])\n",
    "print(ar[3][2])"
   ]
  },
  {
   "cell_type": "code",
   "execution_count": 210,
   "metadata": {},
   "outputs": [
    {
     "name": "stdout",
     "output_type": "stream",
     "text": [
      "[[0 1 2 3 4]\n",
      " [5 6 7 8 9]]\n",
      "[6 7 8 9]\n"
     ]
    }
   ],
   "source": [
    "#作业2：按照要求创建数组，筛选出元素值大于5的值并生成新的数组\n",
    "ar = np.arange(10).reshape(2,5)\n",
    "print(ar)\n",
    "print(ar[ar>5])"
   ]
  },
  {
   "cell_type": "code",
   "execution_count": 211,
   "metadata": {},
   "outputs": [
    {
     "data": {
      "text/plain": [
       "'\\n【课程1.5】  Numpy随机数\\n\\nnumpy.random包含多种概率分布的随机样本，是数据分析辅助的重点工具之一\\n\\n'"
      ]
     },
     "execution_count": 211,
     "metadata": {},
     "output_type": "execute_result"
    }
   ],
   "source": [
    "'''\n",
    "【课程1.5】  Numpy随机数\n",
    "\n",
    "numpy.random包含多种概率分布的随机样本，是数据分析辅助的重点工具之一\n",
    "\n",
    "'''"
   ]
  },
  {
   "cell_type": "code",
   "execution_count": 217,
   "metadata": {},
   "outputs": [
    {
     "name": "stdout",
     "output_type": "stream",
     "text": [
      "[[ 0.02919951 -1.70613315  1.22820059  1.41891927]\n",
      " [ 0.75285389 -1.088553   -0.43228493  2.43439844]\n",
      " [ 0.59499366  1.09528771  0.20424968  0.73662262]\n",
      " [-0.58530389  0.74626323 -1.00723254 -1.2568671 ]]\n"
     ]
    }
   ],
   "source": [
    "# 随机数生成\n",
    "\n",
    "print(np.random.normal(size=(4,4)))\n",
    "# 生成一个标准正太分布的4*4样本值"
   ]
  },
  {
   "cell_type": "code",
   "execution_count": 245,
   "metadata": {},
   "outputs": [
    {
     "name": "stdout",
     "output_type": "stream",
     "text": [
      "0.7311770611413123 <class 'float'>\n",
      "[0.73387498 0.88038999 0.50545847 0.86796065]\n",
      "--------------------\n",
      "[[47.71234138 13.43285886 33.43413579  2.39920967]\n",
      " [25.06224414 35.91208101 46.95923689 96.16214456]]\n"
     ]
    },
    {
     "data": {
      "text/plain": [
       "<matplotlib.collections.PathCollection at 0x854deb8>"
      ]
     },
     "execution_count": 245,
     "metadata": {},
     "output_type": "execute_result"
    },
    {
     "data": {
      "image/png": "[encoded data removed]",
      "text/plain": [
       "<Figure size 432x288 with 1 Axes>"
      ]
     },
     "metadata": {
      "needs_background": "light"
     },
     "output_type": "display_data"
    }
   ],
   "source": [
    "# numpy.random.rand(d0, d1, ..., dn)：生成一个[0,1)之间的随机浮点数或N维浮点数组 —— 均匀分布\n",
    "\n",
    "a = np.random.rand()\n",
    "print(a,type(a))\n",
    "\n",
    "print(np.random.rand(4))\n",
    "print('--------------------')\n",
    "print(np.random.rand(2,4)*100)\n",
    "\n",
    "data1 = np.random.rand(1000)      #rand 均匀分布\n",
    "data2 = np.random.rand(1000)     \n",
    "  \n",
    "\n",
    "import matplotlib.pyplot as plt\n",
    "%matplotlib inline\n",
    "plt.scatter(data1,data2)"
   ]
  },
  {
   "cell_type": "code",
   "execution_count": 246,
   "metadata": {},
   "outputs": [
    {
     "data": {
      "text/plain": [
       "<matplotlib.collections.PathCollection at 0x85a5f28>"
      ]
     },
     "execution_count": 246,
     "metadata": {},
     "output_type": "execute_result"
    },
    {
     "data": {
      "image/png": "[encoded data removed]",
      "text/plain": [
       "<Figure size 432x288 with 1 Axes>"
      ]
     },
     "metadata": {
      "needs_background": "light"
     },
     "output_type": "display_data"
    }
   ],
   "source": [
    "#  numpy.random.randn(d0, d1, ..., dn)：生成一个浮点数或N维浮点数组 —— 正态分布\n",
    "data3= np.random.randn(1000)    #randn正态分布\n",
    "data4= np.random.randn(1000)  \n",
    "plt.scatter(data3,data4)"
   ]
  },
  {
   "cell_type": "code",
   "execution_count": 344,
   "metadata": {},
   "outputs": [
    {
     "name": "stdout",
     "output_type": "stream",
     "text": [
      "1\n",
      "2\n",
      "[4 9 0 5 9 6 0 1 1 4]\n",
      "[[1 4 2 5 8]\n",
      " [4 1 2 9 2]]\n",
      "[[16 14 18 47 40]\n",
      " [14 25 36 32 46]]\n"
     ]
    }
   ],
   "source": [
    "# numpy.random.randint(low, high=None, size=None, dtype='l')：生成一个整数或N维整数数组\n",
    "# 若high不为None时，取[low,high)之间随机整数，否则取值[0,low)之间随机整数，且high必须大于low \n",
    "# dtype参数：只能是int类型  \n",
    "\n",
    "print(np.random.randint(2))\n",
    "print(np.random.randint(2,10))\n",
    "print(np.random.randint(10,size = 10))    # size = 10有10个元素的一维数组\n",
    "print(np.random.randint(10,size = (2,5))) # size = (2,5) 两行五列的随机数组\n",
    "print(np.random.randint(10,50,size = (2,5)))"
   ]
  },
  {
   "cell_type": "code",
   "execution_count": 439,
   "metadata": {},
   "outputs": [
    {
     "name": "stdout",
     "output_type": "stream",
     "text": [
      "[[ 0.  1.  2.  3.  4.]\n",
      " [ 5.  6.  7.  8.  9.]\n",
      " [10. 11. 12. 13. 14.]\n",
      " [15. 16. 17. 18. 19.]\n",
      " [20. 21. 22. 23. 24.]]\n",
      "结果为： [[ 0.5847329   0.9285357   2.          3.          4.        ]\n",
      " [ 0.5775708   0.44572285  7.          8.          9.        ]\n",
      " [10.         11.         12.         13.         14.        ]\n",
      " [15.         16.         17.         18.         19.        ]\n",
      " [20.         21.         22.         23.         24.        ]]\n"
     ]
    }
   ],
   "source": [
    "#1.5作业\n",
    "#作业1：请按照要求创建数组ar，再将ar[:2,:2]的值改为[0,1)的随机数\n",
    "ar = np.arange(25,dtype = np.float32).reshape(5,5)\n",
    "print(ar)\n",
    "\n",
    "ar[:2,:2] = np.random.rand(2,2)\n",
    "print('结果为：',ar)"
   ]
  },
  {
   "cell_type": "code",
   "execution_count": 408,
   "metadata": {},
   "outputs": [
    {
     "name": "stdout",
     "output_type": "stream",
     "text": [
      "[ 0.21077548 -1.26015281  0.26226413  0.21693392  1.53491114  0.90283376\n",
      " -0.10553998 -1.51875284 -0.41914488 -0.52750775]\n",
      "-----------\n",
      "[-1.26819371 -0.27787948  1.27301695 -1.91472605 -1.29374173  1.22835992\n",
      " -0.19134752 -0.06962316  0.06345858  0.73107685]\n",
      "-----------\n"
     ]
    }
   ],
   "source": [
    "#作业2： 创建2个包含10个元素的正太分布一维数组\n",
    "\n",
    "data1 = np.random.randn(10)\n",
    "data2 = np.random.randn(10)\n",
    "print(data1)\n",
    "print('-----------')\n",
    "print(data2)\n",
    "print('-----------')"
   ]
  },
  {
   "cell_type": "code",
   "execution_count": 325,
   "metadata": {},
   "outputs": [
    {
     "data": {
      "text/plain": [
       "'\\n【课程1.6】  Numpy数据的输入输出\\n\\nnumpy读取/写入数组数据、文本数据\\n\\n'"
      ]
     },
     "execution_count": 325,
     "metadata": {},
     "output_type": "execute_result"
    }
   ],
   "source": [
    "'''\n",
    "【课程1.6】  Numpy数据的输入输出\n",
    "\n",
    "numpy读取/写入数组数据、文本数据\n",
    "\n",
    "'''"
   ]
  },
  {
   "cell_type": "code",
   "execution_count": 328,
   "metadata": {},
   "outputs": [
    {
     "name": "stdout",
     "output_type": "stream",
     "text": [
      "[[0.14230366 0.63220668 0.74750849 0.52964086 0.29612987]\n",
      " [0.19532445 0.46121887 0.3819328  0.04457975 0.43052419]\n",
      " [0.47869513 0.50161692 0.54243691 0.61883413 0.45194092]\n",
      " [0.74226291 0.97850642 0.13785359 0.98930641 0.15279223]\n",
      " [0.53449594 0.54363868 0.39557816 0.47478899 0.21979585]]\n",
      "finished!\n"
     ]
    }
   ],
   "source": [
    "# 存储数组数据 .npy文件\n",
    "\n",
    "import os\n",
    "os.chdir('C:/Users/Administrator/Desktop')\n",
    "ar = np.random.rand(5,5)\n",
    "print(ar)\n",
    "\n",
    "np.save('test.npy',ar)\n",
    "print('finished!')"
   ]
  },
  {
   "cell_type": "code",
   "execution_count": 331,
   "metadata": {},
   "outputs": [
    {
     "name": "stdout",
     "output_type": "stream",
     "text": [
      "[[0.14230366 0.63220668 0.74750849 0.52964086 0.29612987]\n",
      " [0.19532445 0.46121887 0.3819328  0.04457975 0.43052419]\n",
      " [0.47869513 0.50161692 0.54243691 0.61883413 0.45194092]\n",
      " [0.74226291 0.97850642 0.13785359 0.98930641 0.15279223]\n",
      " [0.53449594 0.54363868 0.39557816 0.47478899 0.21979585]]\n"
     ]
    }
   ],
   "source": [
    "# 读取数组数据 .npy文件\n",
    "\n",
    "ar_load = np.load('test.npy')\n",
    "print(ar_load)"
   ]
  },
  {
   "cell_type": "code",
   "execution_count": 343,
   "metadata": {},
   "outputs": [
    {
     "name": "stdout",
     "output_type": "stream",
     "text": [
      "[[0.91914547 0.17918457 0.30813556 0.71957369 0.6713154 ]\n",
      " [0.54271544 0.53300986 0.09056533 0.3763917  0.39838077]\n",
      " [0.37912315 0.3180674  0.48046962 0.4093249  0.55791403]\n",
      " [0.73552991 0.70953485 0.76736392 0.0966554  0.24123928]\n",
      " [0.10503755 0.96058742 0.88127096 0.98628408 0.24307547]]\n",
      "finished!\n",
      "[[0.92 0.18 0.31 0.72 0.67]\n",
      " [0.54 0.53 0.09 0.38 0.4 ]\n",
      " [0.38 0.32 0.48 0.41 0.56]\n",
      " [0.74 0.71 0.77 0.1  0.24]\n",
      " [0.11 0.96 0.88 0.99 0.24]] float64\n"
     ]
    }
   ],
   "source": [
    "# 存储/读取文本文件\n",
    "\n",
    "ar = np.random.rand(5,5)\n",
    "print(ar)\n",
    "\n",
    "np.savetxt('savetxt.txt',ar,delimiter = ',',fmt = '%.2f')   #delimiter用什么进行分隔  fmt为数据格式\n",
    "print('finished!')\n",
    "# np.savetxt(fname, X, fmt='%.18e', delimiter=' ', newline='\\n', header='', footer='', comments='# ')：存储为文本txt文件\n",
    "\n",
    "ar_loadtxt = np.loadtxt('savetxt.txt',delimiter = ',')\n",
    "print(ar_loadtxt,ar_loadtxt.dtype)"
   ]
  },
  {
   "cell_type": "code",
   "execution_count": 418,
   "metadata": {},
   "outputs": [
    {
     "name": "stdout",
     "output_type": "stream",
     "text": [
      "[[53 68 10  6 34 29 25 89 53 23]\n",
      " [52 43 63 76 74 79 94 59 79 31]\n",
      " [53 16 87 71 71 31 33 29 14 88]\n",
      " [55 35 48 52 66 54 54 30 53 40]\n",
      " [93  4 96 19 11 79 88 96 10 79]\n",
      " [74 48 77 51 33 20 20 16 85 49]\n",
      " [77 35 86 72 65 36 54 86 61 62]\n",
      " [43  4 62 80  9 96 58 29 53 34]\n",
      " [75 83 87 68 59 86 46 42  1 30]\n",
      " [17 22 30 61 62 92 17  5 26 12]]\n",
      "finished\n"
     ]
    }
   ],
   "source": [
    "#1.6作业\n",
    "#作业1：创建一个10*10的整数随机数组，取值范围为0-100，并存为txt文件，用逗号分开\t\n",
    "\n",
    "ar = np.random.randint(100,size = (10,10))\n",
    "print(ar)\n",
    "\n",
    "import os\n",
    "os.chdir('C:/Users/Administrator/Desktop')\n",
    "np.savetxt('homework.txt',ar,delimiter = ',',fmt = '%i')\n",
    "print('finished')"
   ]
  }
 ],
 "metadata": {
  "kernelspec": {
   "display_name": "Python 3",
   "language": "python",
   "name": "python3"
  },
  "language_info": {
   "codemirror_mode": {
    "name": "ipython",
    "version": 3
   },
   "file_extension": ".py",
   "mimetype": "text/x-python",
   "name": "python",
   "nbconvert_exporter": "python",
   "pygments_lexer": "ipython3",
   "version": "3.7.2"
  }
 },
 "nbformat": 4,
 "nbformat_minor": 2
}
