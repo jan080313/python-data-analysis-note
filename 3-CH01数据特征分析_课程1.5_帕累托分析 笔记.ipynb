{
 "cells": [
  {
   "cell_type": "code",
   "execution_count": 1,
   "metadata": {},
   "outputs": [
    {
     "data": {
      "text/plain": [
       "'\\n【课程1.5】  帕累托分析\\n\\n帕累托分析（贡献度分析） → 帕累托法则：20/80定律\\n\\n“原因和结果、投入和产出、努力和报酬之间本来存在着无法解释的不平衡。一般来说，投入和努力可以分为两种不同的类型：\\n多数，它们只能造成少许的影响；少数，它们造成主要的、重大的影响。”\\n→ 一个公司，80%利润来自于20%的畅销产品，而其他80%的产品只产生了20%的利润\\n\\n例如：\\n** 世界上大约80％的资源是由世界上15％的人口所耗尽的\\n** 世界财富的80％为25％的人所拥有；在一个国家的医疗体系中\\n** 20％的人口与20％的疾病，会消耗80％的医疗资源。\\n\\n一个思路：通过二八原则，去寻找关键的那20%决定性因素！\\n\\n'"
      ]
     },
     "execution_count": 1,
     "metadata": {},
     "output_type": "execute_result"
    }
   ],
   "source": [
    "'''\n",
    "【课程1.5】  帕累托分析\n",
    "\n",
    "帕累托分析（贡献度分析） → 帕累托法则：20/80定律\n",
    "\n",
    "“原因和结果、投入和产出、努力和报酬之间本来存在着无法解释的不平衡。一般来说，投入和努力可以分为两种不同的类型：\n",
    "多数，它们只能造成少许的影响；少数，它们造成主要的、重大的影响。”\n",
    "→ 一个公司，80%利润来自于20%的畅销产品，而其他80%的产品只产生了20%的利润\n",
    "\n",
    "例如：\n",
    "** 世界上大约80％的资源是由世界上15％的人口所耗尽的\n",
    "** 世界财富的80％为25％的人所拥有；在一个国家的医疗体系中\n",
    "** 20％的人口与20％的疾病，会消耗80％的医疗资源。\n",
    "\n",
    "一个思路：通过二八原则，去寻找关键的那20%决定性因素！\n",
    "\n",
    "'''"
   ]
  },
  {
   "cell_type": "code",
   "execution_count": 3,
   "metadata": {},
   "outputs": [],
   "source": [
    "import numpy as np\n",
    "import pandas as pd\n",
    "import matplotlib.pyplot as plt\n",
    "%matplotlib inline"
   ]
  },
  {
   "cell_type": "code",
   "execution_count": 53,
   "metadata": {},
   "outputs": [
    {
     "name": "stdout",
     "output_type": "stream",
     "text": [
      "超过80%累计占比的节点值索引为： F\n",
      "超过80%累计占比的节点值索引位置为： 6\n",
      "------\n",
      "核心产品为：\n",
      "I    4865.917021\n",
      "A    4216.501175\n",
      "E    3939.092769\n",
      "D    3900.602049\n",
      "C    3857.739227\n",
      "B    3112.158184\n",
      "F    2171.723554\n",
      "dtype: float64\n"
     ]
    },
    {
     "data": {
      "image/png": "[encoded data removed]",
      "text/plain": [
       "<Figure size 864x288 with 2 Axes>"
      ]
     },
     "metadata": {
      "needs_background": "light"
     },
     "output_type": "display_data"
    }
   ],
   "source": [
    "data = pd.Series(np.random.randn(10)*1200+3000,\n",
    "                   index = list('ABCDEFGHIJ'))\n",
    "\n",
    "data.sort_values(ascending = False,inplace = True)\n",
    "data\n",
    "\n",
    "plt.figure(figsize = (12,4))\n",
    "data.plot(kind= 'bar',color = 'g',alpha = 0.8,width = 0.6)\n",
    "\n",
    "p = data.cumsum()/data.sum()\n",
    "key = p[p>0.8].index[0]\n",
    "key_num = data.index.tolist().index(key)\n",
    " \n",
    "print('超过80%累计占比的节点值索引为：' ,key)\n",
    "print('超过80%累计占比的节点值索引位置为：' ,key_num)\n",
    "print('------')\n",
    "# 找到累计占比超过80%时候的index\n",
    "# 找到key所对应的索引位置\n",
    "\n",
    "p.plot(style = '-ko',secondary_y = True)\n",
    "plt.axvline(key_num,color = 'r',linestyle = '--')\n",
    "plt.text(key_num+0.2,p[key],'累计占比为：%.3f%%' % (p[key]*100), color = 'r')  # 累计占比超过80%的节点\n",
    "plt.ylabel('营收_比例')\n",
    "# 绘制营收累计占比曲线\n",
    "\n",
    "key_product = data.loc[:key]\n",
    "print('核心产品为：')\n",
    "print(key_product)\n",
    "# 输出决定性因素产品"
   ]
  }
 ],
 "metadata": {
  "kernelspec": {
   "display_name": "Python 3",
   "language": "python",
   "name": "python3"
  },
  "language_info": {
   "codemirror_mode": {
    "name": "ipython",
    "version": 3
   },
   "file_extension": ".py",
   "mimetype": "text/x-python",
   "name": "python",
   "nbconvert_exporter": "python",
   "pygments_lexer": "ipython3",
   "version": "3.7.2"
  }
 },
 "nbformat": 4,
 "nbformat_minor": 2
}
